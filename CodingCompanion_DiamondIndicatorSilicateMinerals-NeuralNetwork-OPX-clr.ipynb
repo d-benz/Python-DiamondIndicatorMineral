{
 "cells": [
  {
   "cell_type": "raw",
   "metadata": {},
   "source": [
    "# Coding Companion for Diamond Indicator Silicate Mineral Neural Network - Orthopyroxene (Annotated)"
   ]
  },
  {
   "cell_type": "markdown",
   "metadata": {},
   "source": [
    "This notebook contains the code for creating the diamond indicator silicate mineral neural network to predict whether the mineral is associated with rich or poor diamond contents.\n",
    "\n",
    "We will go through the following in this notebook:\n",
    "\n",
    "- Exploring and Processing the Data\n",
    "- Building and Training our Neural Network\n",
    "- Visualizing Loss and Accuracy\n",
    "- Adding Regularization to our Neural Network\n",
    "- Saving and testing the model\n",
    "- Visualizing the model results\n",
    "\n",
    "Note that the results you get might differ slightly as there is a degree of randomness in the way the dataset is split as well as the initialization of the neural network.\n",
    "\n",
    "Under the Home tab for Anaconda Navigator 1.10.0 Launch CMD.exe Prompt to open C:\\Windows\\system32\\cmd.exe prompt. This prompt will show C:\\Users\\Name but the installation of the packages will be directed to whichever drive in which Anaconda is installed.\n",
    "\n",
    "For this Coding Companion the following packages were installed:\n",
    "\n",
    "- pip install keras\n",
    "- pip install tensorflow\n",
    "- pip install pydot\n",
    "- pip install graphviz\n",
    "- pip install plotly==4.14.3"
   ]
  },
  {
   "cell_type": "markdown",
   "metadata": {},
   "source": [
    "## Exploring and Processing the Data"
   ]
  },
  {
   "cell_type": "markdown",
   "metadata": {},
   "source": [
    "We first have to read in the CSV file that we've been given. The following packages are used:\n",
    "- pandas for importing\n",
    "- matplotlib.pyplot for creating graphs\n",
    "- seaborn for graph sizes and palettes\n",
    "- pydot and graphviz to view the neural network\n",
    "- VIANN to check neural network feature importance?\n",
    "- and run a checkon the python version.\n",
    "This code was created using Python 3.8.8 version."
   ]
  },
  {
   "cell_type": "code",
   "execution_count": 1,
   "metadata": {},
   "outputs": [
    {
     "name": "stdout",
     "output_type": "stream",
     "text": [
      "python: 3.8.8\n"
     ]
    }
   ],
   "source": [
    "import numpy as np\n",
    "import pandas as pd\n",
    "import matplotlib.pyplot as plt\n",
    "import seaborn as sns\n",
    "\n",
    "import sklearn\n",
    "import sklearn.metrics\n",
    "\n",
    "import pydot\n",
    "import graphviz\n",
    "\n",
    "from platform import python_version\n",
    "print('python: %s' % python_version())"
   ]
  },
  {
   "cell_type": "code",
   "execution_count": 2,
   "metadata": {},
   "outputs": [
    {
     "name": "stdout",
     "output_type": "stream",
     "text": [
      "sklearn: 0.24.1\n"
     ]
    }
   ],
   "source": [
    "# check scikit-learn version as 0.24.1\n",
    "print('sklearn: %s' % sklearn.__version__)"
   ]
  },
  {
   "cell_type": "markdown",
   "metadata": {},
   "source": [
    "**Fix random seed for reproducibility**"
   ]
  },
  {
   "cell_type": "code",
   "execution_count": 3,
   "metadata": {},
   "outputs": [],
   "source": [
    "np.random.seed(333)"
   ]
  },
  {
   "cell_type": "markdown",
   "metadata": {},
   "source": [
    "**Import and view the data**"
   ]
  },
  {
   "cell_type": "code",
   "execution_count": 4,
   "metadata": {},
   "outputs": [
    {
     "data": {
      "text/plain": [
       "'C:\\\\Users\\\\David\\\\DiamondIndicatorMineral_LAICPMS-ML'"
      ]
     },
     "execution_count": 4,
     "metadata": {},
     "output_type": "execute_result"
    }
   ],
   "source": [
    "#Check working directory\n",
    "import os\n",
    "os.getcwd( )"
   ]
  },
  {
   "cell_type": "code",
   "execution_count": 5,
   "metadata": {},
   "outputs": [
    {
     "data": {
      "text/plain": [
       "'g:\\\\R_and_D\\\\Projects\\\\MSc_Diamonds\\\\Python'"
      ]
     },
     "execution_count": 5,
     "metadata": {},
     "output_type": "execute_result"
    }
   ],
   "source": [
    "#Change working directory\n",
    "os.chdir('g:\\\\R_and_D\\\\Projects\\\\MSc_Diamonds\\\\Python')\n",
    "os.getcwd( )"
   ]
  },
  {
   "cell_type": "code",
   "execution_count": 6,
   "metadata": {},
   "outputs": [],
   "source": [
    "#Read in csv file\n",
    "df = pd.read_csv('OPX_final.csv')"
   ]
  },
  {
   "cell_type": "code",
   "execution_count": 7,
   "metadata": {},
   "outputs": [
    {
     "data": {
      "text/html": [
       "<div>\n",
       "<style scoped>\n",
       "    .dataframe tbody tr th:only-of-type {\n",
       "        vertical-align: middle;\n",
       "    }\n",
       "\n",
       "    .dataframe tbody tr th {\n",
       "        vertical-align: top;\n",
       "    }\n",
       "\n",
       "    .dataframe thead th {\n",
       "        text-align: right;\n",
       "    }\n",
       "</style>\n",
       "<table border=\"1\" class=\"dataframe\">\n",
       "  <thead>\n",
       "    <tr style=\"text-align: right;\">\n",
       "      <th></th>\n",
       "      <th>Sample</th>\n",
       "      <th>Mineral</th>\n",
       "      <th>Pipe</th>\n",
       "      <th>Diamond_High</th>\n",
       "      <th>Craton</th>\n",
       "      <th>Mg</th>\n",
       "      <th>Al</th>\n",
       "      <th>Si</th>\n",
       "      <th>Ca</th>\n",
       "      <th>V</th>\n",
       "      <th>...</th>\n",
       "      <th>Ni_clr</th>\n",
       "      <th>V1</th>\n",
       "      <th>V2</th>\n",
       "      <th>V3</th>\n",
       "      <th>V4</th>\n",
       "      <th>V5</th>\n",
       "      <th>V6</th>\n",
       "      <th>V7</th>\n",
       "      <th>V8</th>\n",
       "      <th>V9</th>\n",
       "    </tr>\n",
       "  </thead>\n",
       "  <tbody>\n",
       "    <tr>\n",
       "      <th>0</th>\n",
       "      <td>Ap24F15</td>\n",
       "      <td>OP</td>\n",
       "      <td>KOALA</td>\n",
       "      <td>yes</td>\n",
       "      <td>Slave</td>\n",
       "      <td>103800</td>\n",
       "      <td>2768.0</td>\n",
       "      <td>271600</td>\n",
       "      <td>2581.0</td>\n",
       "      <td>25.67</td>\n",
       "      <td>...</td>\n",
       "      <td>-1.021425</td>\n",
       "      <td>0.018495</td>\n",
       "      <td>0.211871</td>\n",
       "      <td>-0.028601</td>\n",
       "      <td>-0.005819</td>\n",
       "      <td>0.005815</td>\n",
       "      <td>0.054829</td>\n",
       "      <td>-0.080849</td>\n",
       "      <td>-0.059166</td>\n",
       "      <td>8.330000e-17</td>\n",
       "    </tr>\n",
       "    <tr>\n",
       "      <th>1</th>\n",
       "      <td>Ap24F18</td>\n",
       "      <td>OP</td>\n",
       "      <td>KOALA</td>\n",
       "      <td>yes</td>\n",
       "      <td>Slave</td>\n",
       "      <td>133700</td>\n",
       "      <td>2526.0</td>\n",
       "      <td>271300</td>\n",
       "      <td>2279.0</td>\n",
       "      <td>22.10</td>\n",
       "      <td>...</td>\n",
       "      <td>-1.134259</td>\n",
       "      <td>-0.010679</td>\n",
       "      <td>0.224197</td>\n",
       "      <td>0.094910</td>\n",
       "      <td>-0.008133</td>\n",
       "      <td>-0.051116</td>\n",
       "      <td>0.099236</td>\n",
       "      <td>-0.011106</td>\n",
       "      <td>-0.028282</td>\n",
       "      <td>-1.800000e-16</td>\n",
       "    </tr>\n",
       "    <tr>\n",
       "      <th>2</th>\n",
       "      <td>Ap27F22</td>\n",
       "      <td>OP</td>\n",
       "      <td>KOALA</td>\n",
       "      <td>yes</td>\n",
       "      <td>Slave</td>\n",
       "      <td>141900</td>\n",
       "      <td>2927.0</td>\n",
       "      <td>272100</td>\n",
       "      <td>2547.0</td>\n",
       "      <td>18.35</td>\n",
       "      <td>...</td>\n",
       "      <td>-1.017159</td>\n",
       "      <td>-0.051555</td>\n",
       "      <td>0.215650</td>\n",
       "      <td>0.022975</td>\n",
       "      <td>0.011722</td>\n",
       "      <td>-0.073733</td>\n",
       "      <td>0.028302</td>\n",
       "      <td>-0.003305</td>\n",
       "      <td>-0.027245</td>\n",
       "      <td>-9.710000e-17</td>\n",
       "    </tr>\n",
       "    <tr>\n",
       "      <th>3</th>\n",
       "      <td>Ap27G03</td>\n",
       "      <td>OP</td>\n",
       "      <td>KOALA</td>\n",
       "      <td>yes</td>\n",
       "      <td>Slave</td>\n",
       "      <td>147400</td>\n",
       "      <td>3383.0</td>\n",
       "      <td>271000</td>\n",
       "      <td>2272.0</td>\n",
       "      <td>18.92</td>\n",
       "      <td>...</td>\n",
       "      <td>-4.342650</td>\n",
       "      <td>0.046200</td>\n",
       "      <td>-0.107390</td>\n",
       "      <td>0.104044</td>\n",
       "      <td>-0.098741</td>\n",
       "      <td>-0.055501</td>\n",
       "      <td>-0.001135</td>\n",
       "      <td>0.028882</td>\n",
       "      <td>-0.020737</td>\n",
       "      <td>2.360000e-16</td>\n",
       "    </tr>\n",
       "    <tr>\n",
       "      <th>4</th>\n",
       "      <td>Ap27G04</td>\n",
       "      <td>OP</td>\n",
       "      <td>KOALA</td>\n",
       "      <td>yes</td>\n",
       "      <td>Slave</td>\n",
       "      <td>144500</td>\n",
       "      <td>2271.0</td>\n",
       "      <td>273200</td>\n",
       "      <td>2001.0</td>\n",
       "      <td>9.25</td>\n",
       "      <td>...</td>\n",
       "      <td>-4.470536</td>\n",
       "      <td>-0.083016</td>\n",
       "      <td>-0.159172</td>\n",
       "      <td>0.142559</td>\n",
       "      <td>-0.099865</td>\n",
       "      <td>-0.172184</td>\n",
       "      <td>-0.023572</td>\n",
       "      <td>0.002183</td>\n",
       "      <td>0.034197</td>\n",
       "      <td>5.550000e-17</td>\n",
       "    </tr>\n",
       "    <tr>\n",
       "      <th>...</th>\n",
       "      <td>...</td>\n",
       "      <td>...</td>\n",
       "      <td>...</td>\n",
       "      <td>...</td>\n",
       "      <td>...</td>\n",
       "      <td>...</td>\n",
       "      <td>...</td>\n",
       "      <td>...</td>\n",
       "      <td>...</td>\n",
       "      <td>...</td>\n",
       "      <td>...</td>\n",
       "      <td>...</td>\n",
       "      <td>...</td>\n",
       "      <td>...</td>\n",
       "      <td>...</td>\n",
       "      <td>...</td>\n",
       "      <td>...</td>\n",
       "      <td>...</td>\n",
       "      <td>...</td>\n",
       "      <td>...</td>\n",
       "      <td>...</td>\n",
       "    </tr>\n",
       "    <tr>\n",
       "      <th>57</th>\n",
       "      <td>Ap27I18</td>\n",
       "      <td>OP</td>\n",
       "      <td>ZERO</td>\n",
       "      <td>no</td>\n",
       "      <td>Kaapvaal</td>\n",
       "      <td>85620</td>\n",
       "      <td>6539.0</td>\n",
       "      <td>259400</td>\n",
       "      <td>7621.0</td>\n",
       "      <td>62.02</td>\n",
       "      <td>...</td>\n",
       "      <td>-3.924783</td>\n",
       "      <td>0.318997</td>\n",
       "      <td>-0.049985</td>\n",
       "      <td>-0.293467</td>\n",
       "      <td>0.100430</td>\n",
       "      <td>0.050737</td>\n",
       "      <td>-0.037432</td>\n",
       "      <td>-0.063506</td>\n",
       "      <td>-0.024164</td>\n",
       "      <td>2.010000e-16</td>\n",
       "    </tr>\n",
       "    <tr>\n",
       "      <th>58</th>\n",
       "      <td>Ap27K07</td>\n",
       "      <td>OP</td>\n",
       "      <td>ZERO</td>\n",
       "      <td>no</td>\n",
       "      <td>Kaapvaal</td>\n",
       "      <td>139100</td>\n",
       "      <td>6767.0</td>\n",
       "      <td>262700</td>\n",
       "      <td>4505.0</td>\n",
       "      <td>32.05</td>\n",
       "      <td>...</td>\n",
       "      <td>-4.448734</td>\n",
       "      <td>0.297557</td>\n",
       "      <td>-0.044068</td>\n",
       "      <td>0.149597</td>\n",
       "      <td>0.019815</td>\n",
       "      <td>-0.150580</td>\n",
       "      <td>0.065924</td>\n",
       "      <td>0.088673</td>\n",
       "      <td>-0.088131</td>\n",
       "      <td>-1.670000e-16</td>\n",
       "    </tr>\n",
       "    <tr>\n",
       "      <th>59</th>\n",
       "      <td>Ap27K08</td>\n",
       "      <td>OP</td>\n",
       "      <td>ZERO</td>\n",
       "      <td>no</td>\n",
       "      <td>Kaapvaal</td>\n",
       "      <td>311100</td>\n",
       "      <td>221.0</td>\n",
       "      <td>271100</td>\n",
       "      <td>844.1</td>\n",
       "      <td>8.57</td>\n",
       "      <td>...</td>\n",
       "      <td>-3.293778</td>\n",
       "      <td>-0.587105</td>\n",
       "      <td>-0.347972</td>\n",
       "      <td>-0.171081</td>\n",
       "      <td>-0.211471</td>\n",
       "      <td>0.133303</td>\n",
       "      <td>0.049407</td>\n",
       "      <td>0.091499</td>\n",
       "      <td>-0.040464</td>\n",
       "      <td>-1.890000e-16</td>\n",
       "    </tr>\n",
       "    <tr>\n",
       "      <th>60</th>\n",
       "      <td>Ap27K09</td>\n",
       "      <td>OP</td>\n",
       "      <td>ZERO</td>\n",
       "      <td>no</td>\n",
       "      <td>Kaapvaal</td>\n",
       "      <td>135300</td>\n",
       "      <td>7453.0</td>\n",
       "      <td>263900</td>\n",
       "      <td>7480.0</td>\n",
       "      <td>55.42</td>\n",
       "      <td>...</td>\n",
       "      <td>-4.170358</td>\n",
       "      <td>0.276190</td>\n",
       "      <td>-0.060326</td>\n",
       "      <td>-0.193306</td>\n",
       "      <td>0.189782</td>\n",
       "      <td>-0.023299</td>\n",
       "      <td>-0.036312</td>\n",
       "      <td>0.062381</td>\n",
       "      <td>0.036518</td>\n",
       "      <td>-4.860000e-17</td>\n",
       "    </tr>\n",
       "    <tr>\n",
       "      <th>61</th>\n",
       "      <td>Ap27K10</td>\n",
       "      <td>OP</td>\n",
       "      <td>ZERO</td>\n",
       "      <td>no</td>\n",
       "      <td>Kaapvaal</td>\n",
       "      <td>143700</td>\n",
       "      <td>6014.0</td>\n",
       "      <td>273100</td>\n",
       "      <td>522.6</td>\n",
       "      <td>16.51</td>\n",
       "      <td>...</td>\n",
       "      <td>-4.685768</td>\n",
       "      <td>-0.040349</td>\n",
       "      <td>-0.142542</td>\n",
       "      <td>0.373395</td>\n",
       "      <td>-0.003755</td>\n",
       "      <td>0.091990</td>\n",
       "      <td>-0.142329</td>\n",
       "      <td>0.022199</td>\n",
       "      <td>0.000891</td>\n",
       "      <td>-8.330000e-17</td>\n",
       "    </tr>\n",
       "  </tbody>\n",
       "</table>\n",
       "<p>62 rows × 32 columns</p>\n",
       "</div>"
      ],
      "text/plain": [
       "         Sample Mineral   Pipe Diamond_High    Craton      Mg      Al      Si  \\\n",
       "0       Ap24F15      OP  KOALA          yes     Slave  103800  2768.0  271600   \n",
       "1       Ap24F18      OP  KOALA          yes     Slave  133700  2526.0  271300   \n",
       "2       Ap27F22      OP  KOALA          yes     Slave  141900  2927.0  272100   \n",
       "3       Ap27G03      OP  KOALA          yes     Slave  147400  3383.0  271000   \n",
       "4       Ap27G04      OP  KOALA          yes     Slave  144500  2271.0  273200   \n",
       "..          ...     ...    ...          ...       ...     ...     ...     ...   \n",
       "57      Ap27I18      OP   ZERO           no  Kaapvaal   85620  6539.0  259400   \n",
       "58      Ap27K07      OP   ZERO           no  Kaapvaal  139100  6767.0  262700   \n",
       "59      Ap27K08      OP   ZERO           no  Kaapvaal  311100   221.0  271100   \n",
       "60      Ap27K09      OP   ZERO           no  Kaapvaal  135300  7453.0  263900   \n",
       "61      Ap27K10      OP   ZERO           no  Kaapvaal  143700  6014.0  273100   \n",
       "\n",
       "        Ca      V  ...    Ni_clr        V1        V2        V3        V4  \\\n",
       "0   2581.0  25.67  ... -1.021425  0.018495  0.211871 -0.028601 -0.005819   \n",
       "1   2279.0  22.10  ... -1.134259 -0.010679  0.224197  0.094910 -0.008133   \n",
       "2   2547.0  18.35  ... -1.017159 -0.051555  0.215650  0.022975  0.011722   \n",
       "3   2272.0  18.92  ... -4.342650  0.046200 -0.107390  0.104044 -0.098741   \n",
       "4   2001.0   9.25  ... -4.470536 -0.083016 -0.159172  0.142559 -0.099865   \n",
       "..     ...    ...  ...       ...       ...       ...       ...       ...   \n",
       "57  7621.0  62.02  ... -3.924783  0.318997 -0.049985 -0.293467  0.100430   \n",
       "58  4505.0  32.05  ... -4.448734  0.297557 -0.044068  0.149597  0.019815   \n",
       "59   844.1   8.57  ... -3.293778 -0.587105 -0.347972 -0.171081 -0.211471   \n",
       "60  7480.0  55.42  ... -4.170358  0.276190 -0.060326 -0.193306  0.189782   \n",
       "61   522.6  16.51  ... -4.685768 -0.040349 -0.142542  0.373395 -0.003755   \n",
       "\n",
       "          V5        V6        V7        V8            V9  \n",
       "0   0.005815  0.054829 -0.080849 -0.059166  8.330000e-17  \n",
       "1  -0.051116  0.099236 -0.011106 -0.028282 -1.800000e-16  \n",
       "2  -0.073733  0.028302 -0.003305 -0.027245 -9.710000e-17  \n",
       "3  -0.055501 -0.001135  0.028882 -0.020737  2.360000e-16  \n",
       "4  -0.172184 -0.023572  0.002183  0.034197  5.550000e-17  \n",
       "..       ...       ...       ...       ...           ...  \n",
       "57  0.050737 -0.037432 -0.063506 -0.024164  2.010000e-16  \n",
       "58 -0.150580  0.065924  0.088673 -0.088131 -1.670000e-16  \n",
       "59  0.133303  0.049407  0.091499 -0.040464 -1.890000e-16  \n",
       "60 -0.023299 -0.036312  0.062381  0.036518 -4.860000e-17  \n",
       "61  0.091990 -0.142329  0.022199  0.000891 -8.330000e-17  \n",
       "\n",
       "[62 rows x 32 columns]"
      ]
     },
     "execution_count": 7,
     "metadata": {},
     "output_type": "execute_result"
    }
   ],
   "source": [
    "df"
   ]
  },
  {
   "cell_type": "markdown",
   "metadata": {},
   "source": [
    "**The dataset that we have now is in what we call a pandas dataframe. To convert it to an array, simply access its values:**"
   ]
  },
  {
   "cell_type": "code",
   "execution_count": 8,
   "metadata": {},
   "outputs": [],
   "source": [
    "dataset = df.values"
   ]
  },
  {
   "cell_type": "code",
   "execution_count": 9,
   "metadata": {},
   "outputs": [
    {
     "data": {
      "text/plain": [
       "array([['    Ap24F15', 'OP', 'KOALA', ..., -0.080849298, -0.059165974,\n",
       "        8.33e-17],\n",
       "       ['    Ap24F18', 'OP', 'KOALA', ..., -0.011106034, -0.028282477,\n",
       "        -1.8e-16],\n",
       "       ['    Ap27F22', 'OP', 'KOALA', ..., -0.003305476, -0.027244819,\n",
       "        -9.71e-17],\n",
       "       ...,\n",
       "       ['    Ap27K08', 'OP', 'ZERO', ..., 0.091499479, -0.040463903,\n",
       "        -1.89e-16],\n",
       "       ['    Ap27K09', 'OP', 'ZERO', ..., 0.06238089, 0.036517908,\n",
       "        -4.86e-17],\n",
       "       ['    Ap27K10', 'OP', 'ZERO', ..., 0.022199491, 0.000891454,\n",
       "        -8.33e-17]], dtype=object)"
      ]
     },
     "execution_count": 9,
     "metadata": {},
     "output_type": "execute_result"
    }
   ],
   "source": [
    "dataset"
   ]
  },
  {
   "cell_type": "markdown",
   "metadata": {},
   "source": [
    "### Visualize the data by Diamond Contents based on previously run RQ-PCA"
   ]
  },
  {
   "cell_type": "code",
   "execution_count": 10,
   "metadata": {},
   "outputs": [],
   "source": [
    "#Set plot style\n",
    "import matplotlib.style as style\n",
    "\n",
    "style.use('seaborn-paper') #sets the style as paper (smaller), poster (larger), talk (presentation)\n",
    "\n",
    "colors = (\"#0f2080\", \"#f5793a\", \"#85c0f9\", \"#a95aa1\") #defines colours to use as suitable for colorblindness\n",
    "sns.set_palette(sns.color_palette(colors)) #sets colour palette"
   ]
  },
  {
   "cell_type": "code",
   "execution_count": 11,
   "metadata": {},
   "outputs": [
    {
     "data": {
      "text/plain": [
       "<matplotlib.legend.Legend at 0x1bd89fc9b20>"
      ]
     },
     "execution_count": 11,
     "metadata": {},
     "output_type": "execute_result"
    },
    {
     "data": {
      "image/png": "[encoded data removed]",
      "text/plain": [
       "<Figure size 460.8x316.8 with 1 Axes>"
      ]
     },
     "metadata": {
      "needs_background": "light"
     },
     "output_type": "display_data"
    },
    {
     "data": {
      "image/png": "[encoded data removed]",
      "text/plain": [
       "<Figure size 460.8x316.8 with 1 Axes>"
      ]
     },
     "metadata": {
      "needs_background": "light"
     },
     "output_type": "display_data"
    },
    {
     "data": {
      "image/png": "[encoded data removed]",
      "text/plain": [
       "<Figure size 460.8x316.8 with 1 Axes>"
      ]
     },
     "metadata": {
      "needs_background": "light"
     },
     "output_type": "display_data"
    },
    {
     "data": {
      "image/png": "[encoded data removed]",
      "text/plain": [
       "<Figure size 460.8x316.8 with 1 Axes>"
      ]
     },
     "metadata": {
      "needs_background": "light"
     },
     "output_type": "display_data"
    }
   ],
   "source": [
    "df.set_index(['Diamond_High', 'V1']).unstack('Diamond_High')['V2'].plot(style='o')\n",
    "plt.ylabel('V2')\n",
    "plt.title('Orthopyroxene Associations by Diamond Content')\n",
    "plt.legend(title=\"Diamond-Rich\")\n",
    "\n",
    "df.set_index(['Diamond_High', 'V1']).unstack('Diamond_High')['V3'].plot(style='o')\n",
    "plt.ylabel('V3')\n",
    "plt.title('Orthopyroxene Associations by Diamond Content')\n",
    "plt.legend(title=\"Diamond-Rich\")\n",
    "\n",
    "df.set_index(['Diamond_High', 'V1']).unstack('Diamond_High')['V4'].plot(style='o')\n",
    "plt.ylabel('V4')\n",
    "plt.title('Orthopyroxene Associations by Diamond Content')\n",
    "plt.legend(title=\"Diamond-Rich\")\n",
    "\n",
    "df.set_index(['Diamond_High', 'V1']).unstack('Diamond_High')['V5'].plot(style='o')\n",
    "plt.ylabel('V5')\n",
    "plt.title('Orthopyroxene Associations by Diamond Content')\n",
    "plt.legend(title=\"Diamond-Rich\")"
   ]
  },
  {
   "cell_type": "markdown",
   "metadata": {},
   "source": [
    "### Visualize the Orhtopyroxene RQ-PCA data by Pipe"
   ]
  },
  {
   "cell_type": "code",
   "execution_count": 12,
   "metadata": {},
   "outputs": [
    {
     "data": {
      "text/plain": [
       "<matplotlib.legend.Legend at 0x1bd8a1d97c0>"
      ]
     },
     "execution_count": 12,
     "metadata": {},
     "output_type": "execute_result"
    },
    {
     "data": {
      "image/png": "[encoded data removed]",
      "text/plain": [
       "<Figure size 460.8x316.8 with 1 Axes>"
      ]
     },
     "metadata": {
      "needs_background": "light"
     },
     "output_type": "display_data"
    },
    {
     "data": {
      "image/png": "[encoded data removed]",
      "text/plain": [
       "<Figure size 460.8x316.8 with 1 Axes>"
      ]
     },
     "metadata": {
      "needs_background": "light"
     },
     "output_type": "display_data"
    },
    {
     "data": {
      "image/png": "[encoded data removed]",
      "text/plain": [
       "<Figure size 460.8x316.8 with 1 Axes>"
      ]
     },
     "metadata": {
      "needs_background": "light"
     },
     "output_type": "display_data"
    },
    {
     "data": {
      "image/png": "[encoded data removed]",
      "text/plain": [
       "<Figure size 460.8x316.8 with 1 Axes>"
      ]
     },
     "metadata": {
      "needs_background": "light"
     },
     "output_type": "display_data"
    }
   ],
   "source": [
    "df.set_index(['Pipe', 'V1']).unstack('Pipe')['V2'].plot(style='o')\n",
    "plt.ylabel('V2')\n",
    "plt.title('Orthopyroxene Associations by Pipe')\n",
    "plt.legend(title=\"\")\n",
    "\n",
    "df.set_index(['Pipe', 'V1']).unstack('Pipe')['V3'].plot(style='o')\n",
    "plt.ylabel('V3')\n",
    "plt.title('Orthopyroxene Associations by Pipe')\n",
    "plt.legend(title=\"\")\n",
    "\n",
    "df.set_index(['Pipe', 'V1']).unstack('Pipe')['V4'].plot(style='o')\n",
    "plt.ylabel('V4')\n",
    "plt.title('Orthopyroxene Associations by Pipe')\n",
    "plt.legend(title=\"\")\n",
    "\n",
    "df.set_index(['Pipe', 'V1']).unstack('Pipe')['V5'].plot(style='o')\n",
    "plt.ylabel('V5')\n",
    "plt.title('Orthopyroxene Associations by Pipe')\n",
    "plt.legend(title=\"\")"
   ]
  },
  {
   "cell_type": "markdown",
   "metadata": {},
   "source": [
    "### Visualize the Orthopyroxene RQ-PCA data by Craton"
   ]
  },
  {
   "cell_type": "code",
   "execution_count": 13,
   "metadata": {},
   "outputs": [
    {
     "data": {
      "text/plain": [
       "<matplotlib.legend.Legend at 0x1bd8a31f0d0>"
      ]
     },
     "execution_count": 13,
     "metadata": {},
     "output_type": "execute_result"
    },
    {
     "data": {
      "image/png": "[encoded data removed]",
      "text/plain": [
       "<Figure size 460.8x316.8 with 1 Axes>"
      ]
     },
     "metadata": {
      "needs_background": "light"
     },
     "output_type": "display_data"
    },
    {
     "data": {
      "image/png": "[encoded data removed]",
      "text/plain": [
       "<Figure size 460.8x316.8 with 1 Axes>"
      ]
     },
     "metadata": {
      "needs_background": "light"
     },
     "output_type": "display_data"
    },
    {
     "data": {
      "image/png": "[encoded data removed]",
      "text/plain": [
       "<Figure size 460.8x316.8 with 1 Axes>"
      ]
     },
     "metadata": {
      "needs_background": "light"
     },
     "output_type": "display_data"
    },
    {
     "data": {
      "image/png": "[encoded data removed]",
      "text/plain": [
       "<Figure size 460.8x316.8 with 1 Axes>"
      ]
     },
     "metadata": {
      "needs_background": "light"
     },
     "output_type": "display_data"
    }
   ],
   "source": [
    "df.set_index(['Craton', 'V1']).unstack('Craton')['V2'].plot(style='o')\n",
    "plt.ylabel('V2')\n",
    "plt.title('Orthopyroxene Associations by Craton')\n",
    "plt.legend(title=\"\")\n",
    "\n",
    "df.set_index(['Craton', 'V1']).unstack('Craton')['V3'].plot(style='o')\n",
    "plt.ylabel('V3')\n",
    "plt.title('Orthopyroxene Associations by Craton')\n",
    "plt.legend(title=\"\")\n",
    "\n",
    "df.set_index(['Craton', 'V1']).unstack('Craton')['V4'].plot(style='o')\n",
    "plt.ylabel('V4')\n",
    "plt.title('Orthopyroxene Associations by Craton')\n",
    "plt.legend(title=\"\")\n",
    "\n",
    "df.set_index(['Craton', 'V1']).unstack('Craton')['V5'].plot(style='o')\n",
    "plt.ylabel('V5')\n",
    "plt.title('Orthopyroxene Associations by Craton')\n",
    "plt.legend(title=\"\")"
   ]
  },
  {
   "cell_type": "markdown",
   "metadata": {},
   "source": [
    "### Normalizing the Data"
   ]
  },
  {
   "cell_type": "markdown",
   "metadata": {},
   "source": [
    "**Normalizing our data is very important, as we want the input features to be on the same order of magnitude to make our training easier. We can use a min-max scaler from scikit-learn which scales our data to be between 0 and 1, but geochemical data is compositional. Compositional data consist of ratios that are not free to vary independently. This interdependence of geochemical data can result in an incorrect assessment of correlations, or other measures of associations, commonly used in multivariate statistics if the data isn't first transformed. Z-score transformation is not appropriate for multi-variate statistical analysis of geochemical data because z-score transformation assumes the data has a normal distribution. Most geochemical data has a left-skewed distribution. The substitution or removal of an element from multielement studies using raw or z-score normalized data would result in different interpretations, since the variable are not free to vary independently, and that research would not be suitable for a comparison with other research.**\n",
    "\n",
    "**For this study the element concentrations were scaled using centred log-ratio method in R.**"
   ]
  },
  {
   "cell_type": "markdown",
   "metadata": {},
   "source": [
    "### Splitting the Data"
   ]
  },
  {
   "cell_type": "markdown",
   "metadata": {},
   "source": [
    "**Now, we split the dataset into our input features and the output feature we wish to predict because \"y\" needs to be one dimensional in order to split into train, test and validate groups. Using lowercase \"y\" shows that this is the unknown parameter.**"
   ]
  },
  {
   "cell_type": "code",
   "execution_count": 14,
   "metadata": {},
   "outputs": [
    {
     "name": "stdout",
     "output_type": "stream",
     "text": [
      "   Diamond_High\n",
      "0           yes\n",
      "1           yes\n",
      "2           yes\n",
      "3           yes\n",
      "4           yes\n",
      "..          ...\n",
      "57           no\n",
      "58           no\n",
      "59           no\n",
      "60           no\n",
      "61           no\n",
      "\n",
      "[62 rows x 1 columns]\n",
      "      Mg_clr    Al_clr    Si_clr    Ca_clr     V_clr    Cr_clr    Mn_clr  \\\n",
      "0   4.062807  0.438466  5.024671  0.368518 -4.242091 -0.076462 -0.875508   \n",
      "1   4.367942  0.398981  5.075569  0.296080 -4.339834  0.307424 -1.080346   \n",
      "2   4.425724  0.544579  5.076771  0.405517 -4.527524 -0.090499 -0.979757   \n",
      "3   4.481865  0.707478  5.090834  0.309375 -4.478821  0.364184 -0.932422   \n",
      "4   4.710480  0.557421  5.347405  0.430848 -4.945931  0.345879 -0.954547   \n",
      "..       ...       ...       ...       ...       ...       ...       ...   \n",
      "57  3.678692  1.106558  4.787145  1.259681 -3.551525 -1.094329 -0.713901   \n",
      "58  4.191468  1.168332  4.827287  0.761462 -4.184184  0.442592 -1.407896   \n",
      "59  5.458198 -1.791509  5.320572 -0.451400 -5.041403 -0.728516 -0.083885   \n",
      "60  4.184797  1.285919  4.852873  1.289535 -3.615512 -1.176985 -0.980562   \n",
      "61  4.736987  1.563349  5.379097 -0.879680 -4.334530  0.324867 -1.077739   \n",
      "\n",
      "      Co_clr    Ni_clr  \n",
      "0  -3.678976 -1.021425  \n",
      "1  -3.891558 -1.134259  \n",
      "2  -3.837652 -1.017159  \n",
      "3  -1.199843 -4.342650  \n",
      "4  -1.021018 -4.470536  \n",
      "..       ...       ...  \n",
      "57 -1.547538 -3.924783  \n",
      "58 -1.350328 -4.448734  \n",
      "59  0.611720 -3.293778  \n",
      "60 -1.669705 -4.170358  \n",
      "61 -1.026585 -4.685768  \n",
      "\n",
      "[62 rows x 9 columns]\n"
     ]
    }
   ],
   "source": [
    "X = df[df.columns[14:23]]\n",
    "y = df[['Diamond_High']]\n",
    "print(y)\n",
    "print(X)"
   ]
  },
  {
   "cell_type": "code",
   "execution_count": 15,
   "metadata": {},
   "outputs": [
    {
     "data": {
      "text/html": [
       "<div>\n",
       "<style scoped>\n",
       "    .dataframe tbody tr th:only-of-type {\n",
       "        vertical-align: middle;\n",
       "    }\n",
       "\n",
       "    .dataframe tbody tr th {\n",
       "        vertical-align: top;\n",
       "    }\n",
       "\n",
       "    .dataframe thead th {\n",
       "        text-align: right;\n",
       "    }\n",
       "</style>\n",
       "<table border=\"1\" class=\"dataframe\">\n",
       "  <thead>\n",
       "    <tr style=\"text-align: right;\">\n",
       "      <th></th>\n",
       "      <th>diamond_no</th>\n",
       "      <th>diamond_yes</th>\n",
       "    </tr>\n",
       "  </thead>\n",
       "  <tbody>\n",
       "    <tr>\n",
       "      <th>0</th>\n",
       "      <td>0</td>\n",
       "      <td>1</td>\n",
       "    </tr>\n",
       "    <tr>\n",
       "      <th>1</th>\n",
       "      <td>0</td>\n",
       "      <td>1</td>\n",
       "    </tr>\n",
       "    <tr>\n",
       "      <th>2</th>\n",
       "      <td>0</td>\n",
       "      <td>1</td>\n",
       "    </tr>\n",
       "    <tr>\n",
       "      <th>3</th>\n",
       "      <td>0</td>\n",
       "      <td>1</td>\n",
       "    </tr>\n",
       "    <tr>\n",
       "      <th>4</th>\n",
       "      <td>0</td>\n",
       "      <td>1</td>\n",
       "    </tr>\n",
       "    <tr>\n",
       "      <th>...</th>\n",
       "      <td>...</td>\n",
       "      <td>...</td>\n",
       "    </tr>\n",
       "    <tr>\n",
       "      <th>57</th>\n",
       "      <td>1</td>\n",
       "      <td>0</td>\n",
       "    </tr>\n",
       "    <tr>\n",
       "      <th>58</th>\n",
       "      <td>1</td>\n",
       "      <td>0</td>\n",
       "    </tr>\n",
       "    <tr>\n",
       "      <th>59</th>\n",
       "      <td>1</td>\n",
       "      <td>0</td>\n",
       "    </tr>\n",
       "    <tr>\n",
       "      <th>60</th>\n",
       "      <td>1</td>\n",
       "      <td>0</td>\n",
       "    </tr>\n",
       "    <tr>\n",
       "      <th>61</th>\n",
       "      <td>1</td>\n",
       "      <td>0</td>\n",
       "    </tr>\n",
       "  </tbody>\n",
       "</table>\n",
       "<p>62 rows × 2 columns</p>\n",
       "</div>"
      ],
      "text/plain": [
       "    diamond_no  diamond_yes\n",
       "0            0            1\n",
       "1            0            1\n",
       "2            0            1\n",
       "3            0            1\n",
       "4            0            1\n",
       "..         ...          ...\n",
       "57           1            0\n",
       "58           1            0\n",
       "59           1            0\n",
       "60           1            0\n",
       "61           1            0\n",
       "\n",
       "[62 rows x 2 columns]"
      ]
     },
     "execution_count": 15,
     "metadata": {},
     "output_type": "execute_result"
    }
   ],
   "source": [
    "y_dm = pd.get_dummies(y['Diamond_High'], prefix = 'diamond')\n",
    "y_dm"
   ]
  },
  {
   "cell_type": "markdown",
   "metadata": {},
   "source": [
    "### Stratified Shuffle Split is used to ensure the same percentage of samples for each class occurs in each split"
   ]
  },
  {
   "cell_type": "code",
   "execution_count": 16,
   "metadata": {},
   "outputs": [],
   "source": [
    "from sklearn.model_selection import StratifiedShuffleSplit"
   ]
  },
  {
   "cell_type": "code",
   "execution_count": 17,
   "metadata": {},
   "outputs": [
    {
     "data": {
      "text/plain": [
       "1"
      ]
     },
     "execution_count": 17,
     "metadata": {},
     "output_type": "execute_result"
    }
   ],
   "source": [
    "sss = StratifiedShuffleSplit(n_splits=1, test_size=0.5, random_state=333)\n",
    "sss.get_n_splits(X, y['Diamond_High'])"
   ]
  },
  {
   "cell_type": "code",
   "execution_count": 18,
   "metadata": {},
   "outputs": [
    {
     "name": "stdout",
     "output_type": "stream",
     "text": [
      "StratifiedShuffleSplit(n_splits=1, random_state=333, test_size=0.5,\n",
      "            train_size=None)\n"
     ]
    }
   ],
   "source": [
    "print(sss)"
   ]
  },
  {
   "cell_type": "code",
   "execution_count": 19,
   "metadata": {},
   "outputs": [
    {
     "name": "stdout",
     "output_type": "stream",
     "text": [
      "TRAIN: [17 13 26  1 16 58 38  9 11 37 53 25 39 15 20 33 54 23 46 52 28 49 18 32\n",
      " 14 56 22 24 36  6 40] TEST: [ 3 45 19 41 34 43 12 31 42 21 44 47 51 35  0  2 59  7 55  4 57 29  8  5\n",
      " 10 60 48 27 30 50 61]\n"
     ]
    }
   ],
   "source": [
    "#first split to create the training set and the test-validation dataset\n",
    "for train_index, test_index in sss.split(X, y):\n",
    "     print(\"TRAIN:\", train_index, \"TEST:\", test_index)\n",
    "     X_train, X_testval = X.iloc[train_index], X.iloc[test_index]\n",
    "     y_train, y_testval = y.iloc[train_index], y.iloc[test_index]"
   ]
  },
  {
   "cell_type": "code",
   "execution_count": 20,
   "metadata": {},
   "outputs": [
    {
     "name": "stdout",
     "output_type": "stream",
     "text": [
      "TEST: [ 8 12 17 28  7 18 16 13  1 14  4 23 19  2  3] VAL: [26 20 25  5 29 22 24 15  0 21  6 10 27 30 11  9]\n"
     ]
    }
   ],
   "source": [
    "#second split for creating the test and validation datasets\n",
    "for train_index, test_index in sss.split(X_testval, y_testval):\n",
    "     print(\"TEST:\", train_index, \"VAL:\", test_index)\n",
    "     X_test, X_val = X_testval.iloc[train_index], X_testval.iloc[test_index]\n",
    "     y_test, y_val = y_testval.iloc[train_index], y_testval.iloc[test_index]"
   ]
  },
  {
   "cell_type": "code",
   "execution_count": 21,
   "metadata": {},
   "outputs": [
    {
     "data": {
      "text/html": [
       "<div>\n",
       "<style scoped>\n",
       "    .dataframe tbody tr th:only-of-type {\n",
       "        vertical-align: middle;\n",
       "    }\n",
       "\n",
       "    .dataframe tbody tr th {\n",
       "        vertical-align: top;\n",
       "    }\n",
       "\n",
       "    .dataframe thead th {\n",
       "        text-align: right;\n",
       "    }\n",
       "</style>\n",
       "<table border=\"1\" class=\"dataframe\">\n",
       "  <thead>\n",
       "    <tr style=\"text-align: right;\">\n",
       "      <th></th>\n",
       "      <th>Diamond_High</th>\n",
       "    </tr>\n",
       "  </thead>\n",
       "  <tbody>\n",
       "    <tr>\n",
       "      <th>17</th>\n",
       "      <td>yes</td>\n",
       "    </tr>\n",
       "    <tr>\n",
       "      <th>13</th>\n",
       "      <td>yes</td>\n",
       "    </tr>\n",
       "    <tr>\n",
       "      <th>26</th>\n",
       "      <td>no</td>\n",
       "    </tr>\n",
       "    <tr>\n",
       "      <th>1</th>\n",
       "      <td>yes</td>\n",
       "    </tr>\n",
       "    <tr>\n",
       "      <th>16</th>\n",
       "      <td>yes</td>\n",
       "    </tr>\n",
       "  </tbody>\n",
       "</table>\n",
       "</div>"
      ],
      "text/plain": [
       "   Diamond_High\n",
       "17          yes\n",
       "13          yes\n",
       "26           no\n",
       "1           yes\n",
       "16          yes"
      ]
     },
     "execution_count": 21,
     "metadata": {},
     "output_type": "execute_result"
    }
   ],
   "source": [
    "y_train.head(5)"
   ]
  },
  {
   "cell_type": "code",
   "execution_count": 22,
   "metadata": {},
   "outputs": [
    {
     "data": {
      "text/html": [
       "<div>\n",
       "<style scoped>\n",
       "    .dataframe tbody tr th:only-of-type {\n",
       "        vertical-align: middle;\n",
       "    }\n",
       "\n",
       "    .dataframe tbody tr th {\n",
       "        vertical-align: top;\n",
       "    }\n",
       "\n",
       "    .dataframe thead th {\n",
       "        text-align: right;\n",
       "    }\n",
       "</style>\n",
       "<table border=\"1\" class=\"dataframe\">\n",
       "  <thead>\n",
       "    <tr style=\"text-align: right;\">\n",
       "      <th></th>\n",
       "      <th>Mg_clr</th>\n",
       "      <th>Al_clr</th>\n",
       "      <th>Si_clr</th>\n",
       "      <th>Ca_clr</th>\n",
       "      <th>V_clr</th>\n",
       "      <th>Cr_clr</th>\n",
       "      <th>Mn_clr</th>\n",
       "      <th>Co_clr</th>\n",
       "      <th>Ni_clr</th>\n",
       "    </tr>\n",
       "  </thead>\n",
       "  <tbody>\n",
       "    <tr>\n",
       "      <th>17</th>\n",
       "      <td>4.616337</td>\n",
       "      <td>0.551187</td>\n",
       "      <td>5.182400</td>\n",
       "      <td>0.419646</td>\n",
       "      <td>-4.193727</td>\n",
       "      <td>-0.128854</td>\n",
       "      <td>-0.983820</td>\n",
       "      <td>-0.928189</td>\n",
       "      <td>-4.534978</td>\n",
       "    </tr>\n",
       "    <tr>\n",
       "      <th>13</th>\n",
       "      <td>4.562772</td>\n",
       "      <td>0.531531</td>\n",
       "      <td>5.138177</td>\n",
       "      <td>0.414578</td>\n",
       "      <td>-4.406500</td>\n",
       "      <td>0.220571</td>\n",
       "      <td>-0.956562</td>\n",
       "      <td>-1.056000</td>\n",
       "      <td>-4.448567</td>\n",
       "    </tr>\n",
       "    <tr>\n",
       "      <th>26</th>\n",
       "      <td>4.343641</td>\n",
       "      <td>0.582708</td>\n",
       "      <td>5.084887</td>\n",
       "      <td>0.411945</td>\n",
       "      <td>-4.049761</td>\n",
       "      <td>-0.142813</td>\n",
       "      <td>-1.046464</td>\n",
       "      <td>-3.875516</td>\n",
       "      <td>-1.308627</td>\n",
       "    </tr>\n",
       "    <tr>\n",
       "      <th>1</th>\n",
       "      <td>4.367942</td>\n",
       "      <td>0.398981</td>\n",
       "      <td>5.075569</td>\n",
       "      <td>0.296080</td>\n",
       "      <td>-4.339834</td>\n",
       "      <td>0.307424</td>\n",
       "      <td>-1.080346</td>\n",
       "      <td>-3.891558</td>\n",
       "      <td>-1.134259</td>\n",
       "    </tr>\n",
       "    <tr>\n",
       "      <th>16</th>\n",
       "      <td>4.446299</td>\n",
       "      <td>0.339696</td>\n",
       "      <td>5.212650</td>\n",
       "      <td>0.279282</td>\n",
       "      <td>-4.190954</td>\n",
       "      <td>-0.059541</td>\n",
       "      <td>-0.853760</td>\n",
       "      <td>-0.810336</td>\n",
       "      <td>-4.363334</td>\n",
       "    </tr>\n",
       "  </tbody>\n",
       "</table>\n",
       "</div>"
      ],
      "text/plain": [
       "      Mg_clr    Al_clr    Si_clr    Ca_clr     V_clr    Cr_clr    Mn_clr  \\\n",
       "17  4.616337  0.551187  5.182400  0.419646 -4.193727 -0.128854 -0.983820   \n",
       "13  4.562772  0.531531  5.138177  0.414578 -4.406500  0.220571 -0.956562   \n",
       "26  4.343641  0.582708  5.084887  0.411945 -4.049761 -0.142813 -1.046464   \n",
       "1   4.367942  0.398981  5.075569  0.296080 -4.339834  0.307424 -1.080346   \n",
       "16  4.446299  0.339696  5.212650  0.279282 -4.190954 -0.059541 -0.853760   \n",
       "\n",
       "      Co_clr    Ni_clr  \n",
       "17 -0.928189 -4.534978  \n",
       "13 -1.056000 -4.448567  \n",
       "26 -3.875516 -1.308627  \n",
       "1  -3.891558 -1.134259  \n",
       "16 -0.810336 -4.363334  "
      ]
     },
     "execution_count": 22,
     "metadata": {},
     "output_type": "execute_result"
    }
   ],
   "source": [
    "X_train.head(5)"
   ]
  },
  {
   "cell_type": "code",
   "execution_count": 23,
   "metadata": {},
   "outputs": [
    {
     "data": {
      "text/html": [
       "<div>\n",
       "<style scoped>\n",
       "    .dataframe tbody tr th:only-of-type {\n",
       "        vertical-align: middle;\n",
       "    }\n",
       "\n",
       "    .dataframe tbody tr th {\n",
       "        vertical-align: top;\n",
       "    }\n",
       "\n",
       "    .dataframe thead th {\n",
       "        text-align: right;\n",
       "    }\n",
       "</style>\n",
       "<table border=\"1\" class=\"dataframe\">\n",
       "  <thead>\n",
       "    <tr style=\"text-align: right;\">\n",
       "      <th></th>\n",
       "      <th>Diamond_High</th>\n",
       "    </tr>\n",
       "  </thead>\n",
       "  <tbody>\n",
       "    <tr>\n",
       "      <th>42</th>\n",
       "      <td>no</td>\n",
       "    </tr>\n",
       "    <tr>\n",
       "      <th>51</th>\n",
       "      <td>no</td>\n",
       "    </tr>\n",
       "    <tr>\n",
       "      <th>7</th>\n",
       "      <td>yes</td>\n",
       "    </tr>\n",
       "    <tr>\n",
       "      <th>30</th>\n",
       "      <td>no</td>\n",
       "    </tr>\n",
       "    <tr>\n",
       "      <th>31</th>\n",
       "      <td>no</td>\n",
       "    </tr>\n",
       "  </tbody>\n",
       "</table>\n",
       "</div>"
      ],
      "text/plain": [
       "   Diamond_High\n",
       "42           no\n",
       "51           no\n",
       "7           yes\n",
       "30           no\n",
       "31           no"
      ]
     },
     "execution_count": 23,
     "metadata": {},
     "output_type": "execute_result"
    }
   ],
   "source": [
    "y_test.head(5)"
   ]
  },
  {
   "cell_type": "code",
   "execution_count": 24,
   "metadata": {},
   "outputs": [
    {
     "data": {
      "text/html": [
       "<div>\n",
       "<style scoped>\n",
       "    .dataframe tbody tr th:only-of-type {\n",
       "        vertical-align: middle;\n",
       "    }\n",
       "\n",
       "    .dataframe tbody tr th {\n",
       "        vertical-align: top;\n",
       "    }\n",
       "\n",
       "    .dataframe thead th {\n",
       "        text-align: right;\n",
       "    }\n",
       "</style>\n",
       "<table border=\"1\" class=\"dataframe\">\n",
       "  <thead>\n",
       "    <tr style=\"text-align: right;\">\n",
       "      <th></th>\n",
       "      <th>Mg_clr</th>\n",
       "      <th>Al_clr</th>\n",
       "      <th>Si_clr</th>\n",
       "      <th>Ca_clr</th>\n",
       "      <th>V_clr</th>\n",
       "      <th>Cr_clr</th>\n",
       "      <th>Mn_clr</th>\n",
       "      <th>Co_clr</th>\n",
       "      <th>Ni_clr</th>\n",
       "    </tr>\n",
       "  </thead>\n",
       "  <tbody>\n",
       "    <tr>\n",
       "      <th>42</th>\n",
       "      <td>4.699326</td>\n",
       "      <td>0.403762</td>\n",
       "      <td>5.170869</td>\n",
       "      <td>0.202038</td>\n",
       "      <td>-4.799676</td>\n",
       "      <td>-0.250927</td>\n",
       "      <td>-0.690165</td>\n",
       "      <td>-3.692221</td>\n",
       "      <td>-1.043006</td>\n",
       "    </tr>\n",
       "    <tr>\n",
       "      <th>51</th>\n",
       "      <td>3.809213</td>\n",
       "      <td>1.096062</td>\n",
       "      <td>4.837393</td>\n",
       "      <td>1.169519</td>\n",
       "      <td>-3.520195</td>\n",
       "      <td>-1.066997</td>\n",
       "      <td>-0.855457</td>\n",
       "      <td>-1.541207</td>\n",
       "      <td>-3.928330</td>\n",
       "    </tr>\n",
       "    <tr>\n",
       "      <th>7</th>\n",
       "      <td>4.368864</td>\n",
       "      <td>0.415001</td>\n",
       "      <td>5.180162</td>\n",
       "      <td>0.448946</td>\n",
       "      <td>-4.362613</td>\n",
       "      <td>0.335066</td>\n",
       "      <td>-0.969999</td>\n",
       "      <td>-1.050761</td>\n",
       "      <td>-4.364666</td>\n",
       "    </tr>\n",
       "    <tr>\n",
       "      <th>30</th>\n",
       "      <td>4.630818</td>\n",
       "      <td>0.575157</td>\n",
       "      <td>5.227492</td>\n",
       "      <td>0.342289</td>\n",
       "      <td>-4.118105</td>\n",
       "      <td>-0.335019</td>\n",
       "      <td>-1.038891</td>\n",
       "      <td>-3.944120</td>\n",
       "      <td>-1.339621</td>\n",
       "    </tr>\n",
       "    <tr>\n",
       "      <th>31</th>\n",
       "      <td>4.559968</td>\n",
       "      <td>0.685881</td>\n",
       "      <td>5.152005</td>\n",
       "      <td>0.498136</td>\n",
       "      <td>-4.268312</td>\n",
       "      <td>-0.415279</td>\n",
       "      <td>-1.026869</td>\n",
       "      <td>-3.963524</td>\n",
       "      <td>-1.222008</td>\n",
       "    </tr>\n",
       "  </tbody>\n",
       "</table>\n",
       "</div>"
      ],
      "text/plain": [
       "      Mg_clr    Al_clr    Si_clr    Ca_clr     V_clr    Cr_clr    Mn_clr  \\\n",
       "42  4.699326  0.403762  5.170869  0.202038 -4.799676 -0.250927 -0.690165   \n",
       "51  3.809213  1.096062  4.837393  1.169519 -3.520195 -1.066997 -0.855457   \n",
       "7   4.368864  0.415001  5.180162  0.448946 -4.362613  0.335066 -0.969999   \n",
       "30  4.630818  0.575157  5.227492  0.342289 -4.118105 -0.335019 -1.038891   \n",
       "31  4.559968  0.685881  5.152005  0.498136 -4.268312 -0.415279 -1.026869   \n",
       "\n",
       "      Co_clr    Ni_clr  \n",
       "42 -3.692221 -1.043006  \n",
       "51 -1.541207 -3.928330  \n",
       "7  -1.050761 -4.364666  \n",
       "30 -3.944120 -1.339621  \n",
       "31 -3.963524 -1.222008  "
      ]
     },
     "execution_count": 24,
     "metadata": {},
     "output_type": "execute_result"
    }
   ],
   "source": [
    "X_test.head(5)"
   ]
  },
  {
   "cell_type": "code",
   "execution_count": 25,
   "metadata": {},
   "outputs": [
    {
     "data": {
      "text/html": [
       "<div>\n",
       "<style scoped>\n",
       "    .dataframe tbody tr th:only-of-type {\n",
       "        vertical-align: middle;\n",
       "    }\n",
       "\n",
       "    .dataframe tbody tr th {\n",
       "        vertical-align: top;\n",
       "    }\n",
       "\n",
       "    .dataframe thead th {\n",
       "        text-align: right;\n",
       "    }\n",
       "</style>\n",
       "<table border=\"1\" class=\"dataframe\">\n",
       "  <thead>\n",
       "    <tr style=\"text-align: right;\">\n",
       "      <th></th>\n",
       "      <th>Diamond_High</th>\n",
       "    </tr>\n",
       "  </thead>\n",
       "  <tbody>\n",
       "    <tr>\n",
       "      <th>48</th>\n",
       "      <td>no</td>\n",
       "    </tr>\n",
       "    <tr>\n",
       "      <th>57</th>\n",
       "      <td>no</td>\n",
       "    </tr>\n",
       "    <tr>\n",
       "      <th>60</th>\n",
       "      <td>no</td>\n",
       "    </tr>\n",
       "    <tr>\n",
       "      <th>43</th>\n",
       "      <td>no</td>\n",
       "    </tr>\n",
       "    <tr>\n",
       "      <th>50</th>\n",
       "      <td>no</td>\n",
       "    </tr>\n",
       "  </tbody>\n",
       "</table>\n",
       "</div>"
      ],
      "text/plain": [
       "   Diamond_High\n",
       "48           no\n",
       "57           no\n",
       "60           no\n",
       "43           no\n",
       "50           no"
      ]
     },
     "execution_count": 25,
     "metadata": {},
     "output_type": "execute_result"
    }
   ],
   "source": [
    "y_val.head(5)"
   ]
  },
  {
   "cell_type": "code",
   "execution_count": 26,
   "metadata": {},
   "outputs": [
    {
     "data": {
      "text/html": [
       "<div>\n",
       "<style scoped>\n",
       "    .dataframe tbody tr th:only-of-type {\n",
       "        vertical-align: middle;\n",
       "    }\n",
       "\n",
       "    .dataframe tbody tr th {\n",
       "        vertical-align: top;\n",
       "    }\n",
       "\n",
       "    .dataframe thead th {\n",
       "        text-align: right;\n",
       "    }\n",
       "</style>\n",
       "<table border=\"1\" class=\"dataframe\">\n",
       "  <thead>\n",
       "    <tr style=\"text-align: right;\">\n",
       "      <th></th>\n",
       "      <th>Mg_clr</th>\n",
       "      <th>Al_clr</th>\n",
       "      <th>Si_clr</th>\n",
       "      <th>Ca_clr</th>\n",
       "      <th>V_clr</th>\n",
       "      <th>Cr_clr</th>\n",
       "      <th>Mn_clr</th>\n",
       "      <th>Co_clr</th>\n",
       "      <th>Ni_clr</th>\n",
       "    </tr>\n",
       "  </thead>\n",
       "  <tbody>\n",
       "    <tr>\n",
       "      <th>48</th>\n",
       "      <td>4.207566</td>\n",
       "      <td>1.152715</td>\n",
       "      <td>5.267157</td>\n",
       "      <td>-0.553267</td>\n",
       "      <td>-4.114179</td>\n",
       "      <td>0.423377</td>\n",
       "      <td>-0.981493</td>\n",
       "      <td>-0.940816</td>\n",
       "      <td>-4.461060</td>\n",
       "    </tr>\n",
       "    <tr>\n",
       "      <th>57</th>\n",
       "      <td>3.678692</td>\n",
       "      <td>1.106558</td>\n",
       "      <td>4.787145</td>\n",
       "      <td>1.259681</td>\n",
       "      <td>-3.551525</td>\n",
       "      <td>-1.094329</td>\n",
       "      <td>-0.713901</td>\n",
       "      <td>-1.547538</td>\n",
       "      <td>-3.924783</td>\n",
       "    </tr>\n",
       "    <tr>\n",
       "      <th>60</th>\n",
       "      <td>4.184797</td>\n",
       "      <td>1.285919</td>\n",
       "      <td>4.852873</td>\n",
       "      <td>1.289535</td>\n",
       "      <td>-3.615512</td>\n",
       "      <td>-1.176985</td>\n",
       "      <td>-0.980562</td>\n",
       "      <td>-1.669705</td>\n",
       "      <td>-4.170358</td>\n",
       "    </tr>\n",
       "    <tr>\n",
       "      <th>43</th>\n",
       "      <td>4.252286</td>\n",
       "      <td>1.252272</td>\n",
       "      <td>4.818176</td>\n",
       "      <td>1.264797</td>\n",
       "      <td>-3.661628</td>\n",
       "      <td>-1.171622</td>\n",
       "      <td>-1.009459</td>\n",
       "      <td>-1.586211</td>\n",
       "      <td>-4.158613</td>\n",
       "    </tr>\n",
       "    <tr>\n",
       "      <th>50</th>\n",
       "      <td>4.115828</td>\n",
       "      <td>0.605323</td>\n",
       "      <td>5.008571</td>\n",
       "      <td>0.763161</td>\n",
       "      <td>-3.941928</td>\n",
       "      <td>-0.456259</td>\n",
       "      <td>-0.785667</td>\n",
       "      <td>-1.254473</td>\n",
       "      <td>-4.054557</td>\n",
       "    </tr>\n",
       "  </tbody>\n",
       "</table>\n",
       "</div>"
      ],
      "text/plain": [
       "      Mg_clr    Al_clr    Si_clr    Ca_clr     V_clr    Cr_clr    Mn_clr  \\\n",
       "48  4.207566  1.152715  5.267157 -0.553267 -4.114179  0.423377 -0.981493   \n",
       "57  3.678692  1.106558  4.787145  1.259681 -3.551525 -1.094329 -0.713901   \n",
       "60  4.184797  1.285919  4.852873  1.289535 -3.615512 -1.176985 -0.980562   \n",
       "43  4.252286  1.252272  4.818176  1.264797 -3.661628 -1.171622 -1.009459   \n",
       "50  4.115828  0.605323  5.008571  0.763161 -3.941928 -0.456259 -0.785667   \n",
       "\n",
       "      Co_clr    Ni_clr  \n",
       "48 -0.940816 -4.461060  \n",
       "57 -1.547538 -3.924783  \n",
       "60 -1.669705 -4.170358  \n",
       "43 -1.586211 -4.158613  \n",
       "50 -1.254473 -4.054557  "
      ]
     },
     "execution_count": 26,
     "metadata": {},
     "output_type": "execute_result"
    }
   ],
   "source": [
    "X_val.head(5)"
   ]
  },
  {
   "cell_type": "markdown",
   "metadata": {},
   "source": [
    "**Next encode the categorical variablesfor diamond content, yes and no, using one hot vector multilabel. The data is split first then one hot encoded since the split function cannot handle more than one Y column.**"
   ]
  },
  {
   "cell_type": "code",
   "execution_count": 27,
   "metadata": {},
   "outputs": [
    {
     "data": {
      "text/html": [
       "<div>\n",
       "<style scoped>\n",
       "    .dataframe tbody tr th:only-of-type {\n",
       "        vertical-align: middle;\n",
       "    }\n",
       "\n",
       "    .dataframe tbody tr th {\n",
       "        vertical-align: top;\n",
       "    }\n",
       "\n",
       "    .dataframe thead th {\n",
       "        text-align: right;\n",
       "    }\n",
       "</style>\n",
       "<table border=\"1\" class=\"dataframe\">\n",
       "  <thead>\n",
       "    <tr style=\"text-align: right;\">\n",
       "      <th></th>\n",
       "      <th>diamond_no</th>\n",
       "      <th>diamond_yes</th>\n",
       "    </tr>\n",
       "  </thead>\n",
       "  <tbody>\n",
       "    <tr>\n",
       "      <th>17</th>\n",
       "      <td>0</td>\n",
       "      <td>1</td>\n",
       "    </tr>\n",
       "    <tr>\n",
       "      <th>13</th>\n",
       "      <td>0</td>\n",
       "      <td>1</td>\n",
       "    </tr>\n",
       "    <tr>\n",
       "      <th>26</th>\n",
       "      <td>1</td>\n",
       "      <td>0</td>\n",
       "    </tr>\n",
       "    <tr>\n",
       "      <th>1</th>\n",
       "      <td>0</td>\n",
       "      <td>1</td>\n",
       "    </tr>\n",
       "    <tr>\n",
       "      <th>16</th>\n",
       "      <td>0</td>\n",
       "      <td>1</td>\n",
       "    </tr>\n",
       "  </tbody>\n",
       "</table>\n",
       "</div>"
      ],
      "text/plain": [
       "    diamond_no  diamond_yes\n",
       "17           0            1\n",
       "13           0            1\n",
       "26           1            0\n",
       "1            0            1\n",
       "16           0            1"
      ]
     },
     "execution_count": 27,
     "metadata": {},
     "output_type": "execute_result"
    }
   ],
   "source": [
    "y_traindm = pd.get_dummies(y_train['Diamond_High'], prefix = 'diamond')\n",
    "y_traindm.head(5)"
   ]
  },
  {
   "cell_type": "code",
   "execution_count": 28,
   "metadata": {},
   "outputs": [
    {
     "data": {
      "text/html": [
       "<div>\n",
       "<style scoped>\n",
       "    .dataframe tbody tr th:only-of-type {\n",
       "        vertical-align: middle;\n",
       "    }\n",
       "\n",
       "    .dataframe tbody tr th {\n",
       "        vertical-align: top;\n",
       "    }\n",
       "\n",
       "    .dataframe thead th {\n",
       "        text-align: right;\n",
       "    }\n",
       "</style>\n",
       "<table border=\"1\" class=\"dataframe\">\n",
       "  <thead>\n",
       "    <tr style=\"text-align: right;\">\n",
       "      <th></th>\n",
       "      <th>diamond_no</th>\n",
       "      <th>diamond_yes</th>\n",
       "    </tr>\n",
       "  </thead>\n",
       "  <tbody>\n",
       "    <tr>\n",
       "      <th>42</th>\n",
       "      <td>1</td>\n",
       "      <td>0</td>\n",
       "    </tr>\n",
       "    <tr>\n",
       "      <th>51</th>\n",
       "      <td>1</td>\n",
       "      <td>0</td>\n",
       "    </tr>\n",
       "    <tr>\n",
       "      <th>7</th>\n",
       "      <td>0</td>\n",
       "      <td>1</td>\n",
       "    </tr>\n",
       "    <tr>\n",
       "      <th>30</th>\n",
       "      <td>1</td>\n",
       "      <td>0</td>\n",
       "    </tr>\n",
       "    <tr>\n",
       "      <th>31</th>\n",
       "      <td>1</td>\n",
       "      <td>0</td>\n",
       "    </tr>\n",
       "  </tbody>\n",
       "</table>\n",
       "</div>"
      ],
      "text/plain": [
       "    diamond_no  diamond_yes\n",
       "42           1            0\n",
       "51           1            0\n",
       "7            0            1\n",
       "30           1            0\n",
       "31           1            0"
      ]
     },
     "execution_count": 28,
     "metadata": {},
     "output_type": "execute_result"
    }
   ],
   "source": [
    "y_testdm = pd.get_dummies(y_test['Diamond_High'], prefix = 'diamond')\n",
    "y_testdm.head(5)"
   ]
  },
  {
   "cell_type": "code",
   "execution_count": 29,
   "metadata": {},
   "outputs": [
    {
     "data": {
      "text/html": [
       "<div>\n",
       "<style scoped>\n",
       "    .dataframe tbody tr th:only-of-type {\n",
       "        vertical-align: middle;\n",
       "    }\n",
       "\n",
       "    .dataframe tbody tr th {\n",
       "        vertical-align: top;\n",
       "    }\n",
       "\n",
       "    .dataframe thead th {\n",
       "        text-align: right;\n",
       "    }\n",
       "</style>\n",
       "<table border=\"1\" class=\"dataframe\">\n",
       "  <thead>\n",
       "    <tr style=\"text-align: right;\">\n",
       "      <th></th>\n",
       "      <th>diamond_no</th>\n",
       "      <th>diamond_yes</th>\n",
       "    </tr>\n",
       "  </thead>\n",
       "  <tbody>\n",
       "    <tr>\n",
       "      <th>48</th>\n",
       "      <td>1</td>\n",
       "      <td>0</td>\n",
       "    </tr>\n",
       "    <tr>\n",
       "      <th>57</th>\n",
       "      <td>1</td>\n",
       "      <td>0</td>\n",
       "    </tr>\n",
       "    <tr>\n",
       "      <th>60</th>\n",
       "      <td>1</td>\n",
       "      <td>0</td>\n",
       "    </tr>\n",
       "    <tr>\n",
       "      <th>43</th>\n",
       "      <td>1</td>\n",
       "      <td>0</td>\n",
       "    </tr>\n",
       "    <tr>\n",
       "      <th>50</th>\n",
       "      <td>1</td>\n",
       "      <td>0</td>\n",
       "    </tr>\n",
       "  </tbody>\n",
       "</table>\n",
       "</div>"
      ],
      "text/plain": [
       "    diamond_no  diamond_yes\n",
       "48           1            0\n",
       "57           1            0\n",
       "60           1            0\n",
       "43           1            0\n",
       "50           1            0"
      ]
     },
     "execution_count": 29,
     "metadata": {},
     "output_type": "execute_result"
    }
   ],
   "source": [
    "y_valdm = pd.get_dummies(y_val['Diamond_High'], prefix = 'diamond')\n",
    "y_valdm.head(5)"
   ]
  },
  {
   "cell_type": "code",
   "execution_count": 30,
   "metadata": {},
   "outputs": [
    {
     "name": "stdout",
     "output_type": "stream",
     "text": [
      "(31, 9) (16, 9) (15, 9)\n",
      "(31, 2) (16, 2) (15, 2)\n"
     ]
    }
   ],
   "source": [
    "# Show the rows and columns count for each split\n",
    "print(X_train.shape, X_val.shape, X_test.shape)\n",
    "print(y_traindm.shape, y_valdm.shape, y_testdm.shape)"
   ]
  },
  {
   "cell_type": "markdown",
   "metadata": {},
   "source": [
    "# Building and Training the Neural Network"
   ]
  },
  {
   "cell_type": "markdown",
   "metadata": {},
   "source": [
    "**Keras is used to build our architecture and will need to be imported.**"
   ]
  },
  {
   "cell_type": "code",
   "execution_count": 31,
   "metadata": {},
   "outputs": [],
   "source": [
    "from tensorflow.keras.models import Sequential\n",
    "from tensorflow.keras.layers import Dense\n",
    "from tensorflow.keras.models import model_from_json"
   ]
  },
  {
   "cell_type": "markdown",
   "metadata": {},
   "source": [
    "## A Sequential model will be used, meaning that the layers are described in order. This neural network has two layers:\n",
    "\n",
    "- Hidden layer 1: 10 neurons, ReLU activation (rectified linear activation for a piecewise linear function that will output the input directly if it is positive, otherwise, it will output zero. Useful for developing multilayer Perceptron and convolutional neural networks.)\n",
    "- Hidden layer 2: 5 neurons, ReLU activation\n",
    "- Output Layer: 2 neurons, Softmax activation (allows for classification)\n",
    "- Input Shape: 9 variables (centred log-ratio element concentrations)"
   ]
  },
  {
   "cell_type": "code",
   "execution_count": 32,
   "metadata": {},
   "outputs": [
    {
     "name": "stdout",
     "output_type": "stream",
     "text": [
      "Model: \"sequential\"\n",
      "_________________________________________________________________\n",
      "Layer (type)                 Output Shape              Param #   \n",
      "=================================================================\n",
      "dense (Dense)                (None, 10)                100       \n",
      "_________________________________________________________________\n",
      "dense_1 (Dense)              (None, 5)                 55        \n",
      "_________________________________________________________________\n",
      "dense_2 (Dense)              (None, 2)                 12        \n",
      "=================================================================\n",
      "Total params: 167\n",
      "Trainable params: 167\n",
      "Non-trainable params: 0\n",
      "_________________________________________________________________\n",
      "None\n"
     ]
    }
   ],
   "source": [
    "model = Sequential([\n",
    "    Dense(10, activation='relu', input_shape=(9,)),\n",
    "    Dense(5, activation='relu'),\n",
    "    Dense(2, activation='softmax'),\n",
    "])\n",
    "print(model.summary())"
   ]
  },
  {
   "cell_type": "markdown",
   "metadata": {},
   "source": [
    "## Setup Visualization of the Neural Network"
   ]
  },
  {
   "cell_type": "code",
   "execution_count": 33,
   "metadata": {},
   "outputs": [],
   "source": [
    "# Load the TensorBoard notebook extension.\n",
    "%load_ext tensorboard"
   ]
  },
  {
   "cell_type": "code",
   "execution_count": 34,
   "metadata": {},
   "outputs": [
    {
     "name": "stdout",
     "output_type": "stream",
     "text": [
      "TensorFlow version:  2.4.0\n"
     ]
    }
   ],
   "source": [
    "from datetime import datetime\n",
    "from packaging import version\n",
    "\n",
    "import tensorflow as tf\n",
    "from tensorflow import keras\n",
    "\n",
    "print(\"TensorFlow version: \", tf.__version__)\n",
    "assert version.parse(tf.__version__).release[0] >= 2, \\\n",
    "    \"This notebook requires TensorFlow 2.0 or above.\""
   ]
  },
  {
   "cell_type": "code",
   "execution_count": 35,
   "metadata": {},
   "outputs": [
    {
     "data": {
      "text/plain": [
       "'2.4.0'"
      ]
     },
     "execution_count": 35,
     "metadata": {},
     "output_type": "execute_result"
    }
   ],
   "source": [
    "import tensorboard\n",
    "tensorboard.__version__"
   ]
  },
  {
   "cell_type": "code",
   "execution_count": 36,
   "metadata": {},
   "outputs": [],
   "source": [
    "# Define the Keras TensorBoard callback prior to training.\n",
    "logdir=\"logs/fit/\" + datetime.now().strftime(\"%Y%m%d-%H%M%S\")\n",
    "tensorboard_callback = keras.callbacks.TensorBoard(log_dir=logdir)"
   ]
  },
  {
   "cell_type": "markdown",
   "metadata": {},
   "source": [
    "# Determine the Importance of the Features\n",
    "We measure the importance of a feature by calculating the increase in the model's prediction error after permuting the feature. A feature is \"important\" if shuffling its values increases the model error, because in this case the model relied on the feature for the prediction. A feature is \"unimportant\" if shuffling its values leaves the model error unchanged, because in this case the model ignored the feature for the prediction. The permutation feature importance measurement was introduced by Breiman (2001) for random forests. Based on this idea, Fisher, Rudin, and Dominici (2018) proposed a model-agnostic version of the feature importance and called it model reliance. They also introduced more advanced ideas about feature importance, for example a (model-specific) version that takes into account that many prediction models may predict the data well. Rebelo de Sá (2019) developed code to measure the variance of the weights calculated during the training phase to get the relative importance of the features in the neural network."
   ]
  },
  {
   "cell_type": "code",
   "execution_count": 37,
   "metadata": {},
   "outputs": [],
   "source": [
    "#Setting up feature importance tracking\n",
    "#Rebelo de Sá, C. (2019). Variance-based feature importance in neural networks.\n",
    "#22st International Conference on Discovery Science (DS 2019) Split, Croatia, October 28-30, 2019\n",
    "\n",
    "\n",
    "class VarImpVIANN(keras.callbacks.Callback):\n",
    "    def __init__(self, verbose=0):\n",
    "        self.verbose = verbose\n",
    "        self.n = 0\n",
    "        self.M2 = 0.0\n",
    "\n",
    "    def on_train_begin(self, logs={}, verbose = 1):\n",
    "        if self.verbose:\n",
    "            print(\"VIANN version 1.0 (Wellford + Mean) update per epoch\")\n",
    "        self.diff = self.model.layers[0].get_weights()[0]\n",
    "        \n",
    "    def on_epoch_end(self, batch, logs={}):\n",
    "        currentWeights = self.model.layers[0].get_weights()[0]\n",
    "        \n",
    "        self.n += 1\n",
    "        delta = np.subtract(currentWeights, self.diff)\n",
    "        self.diff += delta/self.n\n",
    "        delta2 = np.subtract(currentWeights, self.diff)\n",
    "        self.M2 += delta*delta2\n",
    "            \n",
    "        self.lastweights = self.model.layers[0].get_weights()[0]\n",
    "\n",
    "    def on_train_end(self, batch, logs={}):\n",
    "        if self.n < 2:\n",
    "            self.s2 = float('nan')\n",
    "        else:\n",
    "            self.s2 = self.M2 / (self.n - 1)\n",
    "        \n",
    "        scores = np.sum(np.multiply(self.s2, np.abs(self.lastweights)), axis = 1)\n",
    "        \n",
    "        self.varScores = (scores - min(scores)) / (max(scores) - min(scores))\n",
    "        if self.verbose:\n",
    "            print(\"Most important variables: \",\n",
    "                  np.array(self.varScores).argsort()[-10:][::-1])\n",
    "\n",
    "VIANN = VarImpVIANN(verbose=1)"
   ]
  },
  {
   "cell_type": "markdown",
   "metadata": {},
   "source": [
    "# Coding Companion for Diamond Indicator Silicate Mineral Neural Network - Chrome Diopside (Annotated)"
   ]
  },
  {
   "cell_type": "code",
   "execution_count": 38,
   "metadata": {},
   "outputs": [
    {
     "data": {
      "image/png": "[encoded data removed]",
      "text/plain": [
       "<IPython.core.display.Image object>"
      ]
     },
     "execution_count": 38,
     "metadata": {},
     "output_type": "execute_result"
    }
   ],
   "source": [
    "from keras.utils.vis_utils import plot_model\n",
    "plot_model(model, to_file='model_plot_OPX_template.png', show_shapes=True, show_layer_names=True)"
   ]
  },
  {
   "cell_type": "markdown",
   "metadata": {},
   "source": [
    "**Now that we've got our architecture specified, we need to find the best numbers for it. Before we start our training, we have to configure the model by:**\n",
    "- Telling it what algorithm you want to use to do the optimization (we'll use stochastic gradient descent, **sgd**)\n",
    "- Telling it what loss function to use (for binary classification, we will use **binary cross entropy**)\n",
    "- Telling it what other metrics you want to track apart from the loss function (we want to track **accuracy** as well)"
   ]
  },
  {
   "cell_type": "code",
   "execution_count": 39,
   "metadata": {},
   "outputs": [],
   "source": [
    "model.compile(optimizer='sgd',\n",
    "              loss='binary_crossentropy',\n",
    "              metrics=['accuracy'])"
   ]
  },
  {
   "cell_type": "markdown",
   "metadata": {},
   "source": [
    "**Training on the data is pretty straightforward and requires one line of code. The function is called 'fit' as we are fitting the parameters to the data.**\n",
    "\n",
    "**We specify:**\n",
    "- What data we are training on, which is X_train and y_train\n",
    "- The size of our mini-batch (since we only have 31 training samples we won't split into mini-batches)\n",
    "- How long we want to train it for (epochs)\n",
    "- What our validation data is so that the model will tell us how we are doing on the validation data at each point.\n",
    "\n",
    "**This function will output a history, which we save under the variable hist to be used later.**"
   ]
  },
  {
   "cell_type": "code",
   "execution_count": 40,
   "metadata": {},
   "outputs": [
    {
     "name": "stdout",
     "output_type": "stream",
     "text": [
      "VIANN version 1.0 (Wellford + Mean) update per epoch\n",
      "Epoch 1/100\n",
      "1/1 [==============================] - 1s 1s/step - loss: 1.5157 - accuracy: 0.3548 - val_loss: 1.2502 - val_accuracy: 0.3750\n",
      "Epoch 2/100\n",
      "1/1 [==============================] - 0s 40ms/step - loss: 1.4307 - accuracy: 0.3548 - val_loss: 1.1817 - val_accuracy: 0.3750\n",
      "Epoch 3/100\n",
      "1/1 [==============================] - 0s 31ms/step - loss: 1.3548 - accuracy: 0.3548 - val_loss: 1.1208 - val_accuracy: 0.3750\n",
      "Epoch 4/100\n",
      "1/1 [==============================] - 0s 33ms/step - loss: 1.2868 - accuracy: 0.3548 - val_loss: 1.0669 - val_accuracy: 0.3750\n",
      "Epoch 5/100\n",
      "1/1 [==============================] - 0s 31ms/step - loss: 1.2261 - accuracy: 0.3548 - val_loss: 1.0194 - val_accuracy: 0.3750\n",
      "Epoch 6/100\n",
      "1/1 [==============================] - 0s 31ms/step - loss: 1.1721 - accuracy: 0.3548 - val_loss: 0.9775 - val_accuracy: 0.3750\n",
      "Epoch 7/100\n",
      "1/1 [==============================] - 0s 31ms/step - loss: 1.1241 - accuracy: 0.3548 - val_loss: 0.9407 - val_accuracy: 0.3750\n",
      "Epoch 8/100\n",
      "1/1 [==============================] - 0s 30ms/step - loss: 1.0813 - accuracy: 0.3548 - val_loss: 0.9083 - val_accuracy: 0.3750\n",
      "Epoch 9/100\n",
      "1/1 [==============================] - 0s 32ms/step - loss: 1.0433 - accuracy: 0.3548 - val_loss: 0.8799 - val_accuracy: 0.3750\n",
      "Epoch 10/100\n",
      "1/1 [==============================] - 0s 30ms/step - loss: 1.0095 - accuracy: 0.3548 - val_loss: 0.8549 - val_accuracy: 0.3750\n",
      "Epoch 11/100\n",
      "1/1 [==============================] - 0s 32ms/step - loss: 0.9794 - accuracy: 0.3548 - val_loss: 0.8329 - val_accuracy: 0.3750\n",
      "Epoch 12/100\n",
      "1/1 [==============================] - 0s 31ms/step - loss: 0.9526 - accuracy: 0.3548 - val_loss: 0.8135 - val_accuracy: 0.3750\n",
      "Epoch 13/100\n",
      "1/1 [==============================] - 0s 31ms/step - loss: 0.9286 - accuracy: 0.3548 - val_loss: 0.7964 - val_accuracy: 0.3750\n",
      "Epoch 14/100\n",
      "1/1 [==============================] - 0s 31ms/step - loss: 0.9072 - accuracy: 0.3548 - val_loss: 0.7813 - val_accuracy: 0.3750\n",
      "Epoch 15/100\n",
      "1/1 [==============================] - 0s 32ms/step - loss: 0.8881 - accuracy: 0.3548 - val_loss: 0.7677 - val_accuracy: 0.3750\n",
      "Epoch 16/100\n",
      "1/1 [==============================] - 0s 30ms/step - loss: 0.8709 - accuracy: 0.3548 - val_loss: 0.7556 - val_accuracy: 0.4375\n",
      "Epoch 17/100\n",
      "1/1 [==============================] - 0s 32ms/step - loss: 0.8554 - accuracy: 0.3548 - val_loss: 0.7449 - val_accuracy: 0.6250\n",
      "Epoch 18/100\n",
      "1/1 [==============================] - 0s 31ms/step - loss: 0.8415 - accuracy: 0.3548 - val_loss: 0.7355 - val_accuracy: 0.6250\n",
      "Epoch 19/100\n",
      "1/1 [==============================] - 0s 31ms/step - loss: 0.8289 - accuracy: 0.3548 - val_loss: 0.7272 - val_accuracy: 0.6250\n",
      "Epoch 20/100\n",
      "1/1 [==============================] - 0s 31ms/step - loss: 0.8172 - accuracy: 0.3871 - val_loss: 0.7200 - val_accuracy: 0.6875\n",
      "Epoch 21/100\n",
      "1/1 [==============================] - 0s 32ms/step - loss: 0.8067 - accuracy: 0.4516 - val_loss: 0.7128 - val_accuracy: 0.7500\n",
      "Epoch 22/100\n",
      "1/1 [==============================] - 0s 31ms/step - loss: 0.7971 - accuracy: 0.5161 - val_loss: 0.7062 - val_accuracy: 0.7500\n",
      "Epoch 23/100\n",
      "1/1 [==============================] - 0s 31ms/step - loss: 0.7884 - accuracy: 0.5161 - val_loss: 0.7001 - val_accuracy: 0.7500\n",
      "Epoch 24/100\n",
      "1/1 [==============================] - 0s 31ms/step - loss: 0.7805 - accuracy: 0.3548 - val_loss: 0.6941 - val_accuracy: 0.6875\n",
      "Epoch 25/100\n",
      "1/1 [==============================] - 0s 31ms/step - loss: 0.7731 - accuracy: 0.3226 - val_loss: 0.6894 - val_accuracy: 0.5625\n",
      "Epoch 26/100\n",
      "1/1 [==============================] - 0s 30ms/step - loss: 0.7666 - accuracy: 0.2903 - val_loss: 0.6865 - val_accuracy: 0.5625\n",
      "Epoch 27/100\n",
      "1/1 [==============================] - 0s 31ms/step - loss: 0.7610 - accuracy: 0.2903 - val_loss: 0.6841 - val_accuracy: 0.5625\n",
      "Epoch 28/100\n",
      "1/1 [==============================] - 0s 30ms/step - loss: 0.7558 - accuracy: 0.2903 - val_loss: 0.6815 - val_accuracy: 0.5625\n",
      "Epoch 29/100\n",
      "1/1 [==============================] - 0s 31ms/step - loss: 0.7511 - accuracy: 0.2581 - val_loss: 0.6798 - val_accuracy: 0.5625\n",
      "Epoch 30/100\n",
      "1/1 [==============================] - 0s 30ms/step - loss: 0.7468 - accuracy: 0.2581 - val_loss: 0.6778 - val_accuracy: 0.5625\n",
      "Epoch 31/100\n",
      "1/1 [==============================] - 0s 30ms/step - loss: 0.7429 - accuracy: 0.2581 - val_loss: 0.6760 - val_accuracy: 0.5625\n",
      "Epoch 32/100\n",
      "1/1 [==============================] - 0s 31ms/step - loss: 0.7392 - accuracy: 0.2581 - val_loss: 0.6744 - val_accuracy: 0.5625\n",
      "Epoch 33/100\n",
      "1/1 [==============================] - 0s 31ms/step - loss: 0.7357 - accuracy: 0.2581 - val_loss: 0.6730 - val_accuracy: 0.5625\n",
      "Epoch 34/100\n",
      "1/1 [==============================] - 0s 34ms/step - loss: 0.7325 - accuracy: 0.2903 - val_loss: 0.6717 - val_accuracy: 0.6250\n",
      "Epoch 35/100\n",
      "1/1 [==============================] - 0s 34ms/step - loss: 0.7295 - accuracy: 0.3226 - val_loss: 0.6706 - val_accuracy: 0.6875\n",
      "Epoch 36/100\n",
      "1/1 [==============================] - 0s 30ms/step - loss: 0.7267 - accuracy: 0.4516 - val_loss: 0.6696 - val_accuracy: 0.6250\n",
      "Epoch 37/100\n",
      "1/1 [==============================] - 0s 30ms/step - loss: 0.7240 - accuracy: 0.4516 - val_loss: 0.6682 - val_accuracy: 0.6250\n",
      "Epoch 38/100\n",
      "1/1 [==============================] - 0s 31ms/step - loss: 0.7215 - accuracy: 0.4839 - val_loss: 0.6675 - val_accuracy: 0.6250\n",
      "Epoch 39/100\n",
      "1/1 [==============================] - 0s 35ms/step - loss: 0.7192 - accuracy: 0.5484 - val_loss: 0.6663 - val_accuracy: 0.6250\n",
      "Epoch 40/100\n",
      "1/1 [==============================] - 0s 30ms/step - loss: 0.7170 - accuracy: 0.5484 - val_loss: 0.6659 - val_accuracy: 0.6250\n",
      "Epoch 41/100\n",
      "1/1 [==============================] - 0s 34ms/step - loss: 0.7149 - accuracy: 0.5806 - val_loss: 0.6649 - val_accuracy: 0.6250\n",
      "Epoch 42/100\n",
      "1/1 [==============================] - 0s 30ms/step - loss: 0.7130 - accuracy: 0.5806 - val_loss: 0.6646 - val_accuracy: 0.6250\n",
      "Epoch 43/100\n",
      "1/1 [==============================] - 0s 31ms/step - loss: 0.7111 - accuracy: 0.6129 - val_loss: 0.6638 - val_accuracy: 0.6250\n",
      "Epoch 44/100\n",
      "1/1 [==============================] - 0s 31ms/step - loss: 0.7094 - accuracy: 0.6452 - val_loss: 0.6631 - val_accuracy: 0.6250\n",
      "Epoch 45/100\n",
      "1/1 [==============================] - 0s 30ms/step - loss: 0.7078 - accuracy: 0.6452 - val_loss: 0.6629 - val_accuracy: 0.6250\n",
      "Epoch 46/100\n",
      "1/1 [==============================] - 0s 31ms/step - loss: 0.7062 - accuracy: 0.6452 - val_loss: 0.6623 - val_accuracy: 0.6250\n",
      "Epoch 47/100\n",
      "1/1 [==============================] - 0s 34ms/step - loss: 0.7047 - accuracy: 0.6452 - val_loss: 0.6617 - val_accuracy: 0.6250\n",
      "Epoch 48/100\n",
      "1/1 [==============================] - 0s 30ms/step - loss: 0.7032 - accuracy: 0.6452 - val_loss: 0.6612 - val_accuracy: 0.6250\n",
      "Epoch 49/100\n",
      "1/1 [==============================] - 0s 31ms/step - loss: 0.7019 - accuracy: 0.6452 - val_loss: 0.6612 - val_accuracy: 0.6250\n",
      "Epoch 50/100\n",
      "1/1 [==============================] - 0s 31ms/step - loss: 0.7006 - accuracy: 0.6452 - val_loss: 0.6608 - val_accuracy: 0.6250\n",
      "Epoch 51/100\n",
      "1/1 [==============================] - 0s 34ms/step - loss: 0.6993 - accuracy: 0.6452 - val_loss: 0.6604 - val_accuracy: 0.6250\n",
      "Epoch 52/100\n",
      "1/1 [==============================] - 0s 30ms/step - loss: 0.6982 - accuracy: 0.6452 - val_loss: 0.6601 - val_accuracy: 0.6250\n",
      "Epoch 53/100\n",
      "1/1 [==============================] - 0s 30ms/step - loss: 0.6971 - accuracy: 0.6452 - val_loss: 0.6597 - val_accuracy: 0.6250\n",
      "Epoch 54/100\n",
      "1/1 [==============================] - 0s 30ms/step - loss: 0.6960 - accuracy: 0.6452 - val_loss: 0.6595 - val_accuracy: 0.6250\n",
      "Epoch 55/100\n",
      "1/1 [==============================] - 0s 31ms/step - loss: 0.6950 - accuracy: 0.6452 - val_loss: 0.6592 - val_accuracy: 0.6250\n",
      "Epoch 56/100\n",
      "1/1 [==============================] - 0s 31ms/step - loss: 0.6941 - accuracy: 0.6452 - val_loss: 0.6590 - val_accuracy: 0.6250\n",
      "Epoch 57/100\n",
      "1/1 [==============================] - 0s 31ms/step - loss: 0.6931 - accuracy: 0.6452 - val_loss: 0.6587 - val_accuracy: 0.6250\n",
      "Epoch 58/100\n",
      "1/1 [==============================] - 0s 31ms/step - loss: 0.6922 - accuracy: 0.6452 - val_loss: 0.6586 - val_accuracy: 0.6250\n"
     ]
    },
    {
     "name": "stdout",
     "output_type": "stream",
     "text": [
      "Epoch 59/100\n",
      "1/1 [==============================] - 0s 31ms/step - loss: 0.6914 - accuracy: 0.6452 - val_loss: 0.6584 - val_accuracy: 0.6250\n",
      "Epoch 60/100\n",
      "1/1 [==============================] - 0s 31ms/step - loss: 0.6906 - accuracy: 0.6452 - val_loss: 0.6582 - val_accuracy: 0.6250\n",
      "Epoch 61/100\n",
      "1/1 [==============================] - 0s 31ms/step - loss: 0.6898 - accuracy: 0.6452 - val_loss: 0.6581 - val_accuracy: 0.6250\n",
      "Epoch 62/100\n",
      "1/1 [==============================] - 0s 32ms/step - loss: 0.6890 - accuracy: 0.6452 - val_loss: 0.6580 - val_accuracy: 0.6250\n",
      "Epoch 63/100\n",
      "1/1 [==============================] - 0s 31ms/step - loss: 0.6883 - accuracy: 0.6452 - val_loss: 0.6579 - val_accuracy: 0.6250\n",
      "Epoch 64/100\n",
      "1/1 [==============================] - 0s 31ms/step - loss: 0.6876 - accuracy: 0.6452 - val_loss: 0.6578 - val_accuracy: 0.6250\n",
      "Epoch 65/100\n",
      "1/1 [==============================] - 0s 31ms/step - loss: 0.6869 - accuracy: 0.6452 - val_loss: 0.6577 - val_accuracy: 0.6250\n",
      "Epoch 66/100\n",
      "1/1 [==============================] - 0s 32ms/step - loss: 0.6862 - accuracy: 0.6452 - val_loss: 0.6576 - val_accuracy: 0.6250\n",
      "Epoch 67/100\n",
      "1/1 [==============================] - 0s 32ms/step - loss: 0.6856 - accuracy: 0.6452 - val_loss: 0.6576 - val_accuracy: 0.6250\n",
      "Epoch 68/100\n",
      "1/1 [==============================] - 0s 34ms/step - loss: 0.6850 - accuracy: 0.6452 - val_loss: 0.6575 - val_accuracy: 0.6250\n",
      "Epoch 69/100\n",
      "1/1 [==============================] - 0s 30ms/step - loss: 0.6844 - accuracy: 0.6452 - val_loss: 0.6575 - val_accuracy: 0.6250\n",
      "Epoch 70/100\n",
      "1/1 [==============================] - 0s 32ms/step - loss: 0.6838 - accuracy: 0.6452 - val_loss: 0.6575 - val_accuracy: 0.6250\n",
      "Epoch 71/100\n",
      "1/1 [==============================] - 0s 30ms/step - loss: 0.6833 - accuracy: 0.6452 - val_loss: 0.6574 - val_accuracy: 0.6250\n",
      "Epoch 72/100\n",
      "1/1 [==============================] - 0s 31ms/step - loss: 0.6828 - accuracy: 0.6452 - val_loss: 0.6574 - val_accuracy: 0.6250\n",
      "Epoch 73/100\n",
      "1/1 [==============================] - 0s 31ms/step - loss: 0.6822 - accuracy: 0.6452 - val_loss: 0.6574 - val_accuracy: 0.6250\n",
      "Epoch 74/100\n",
      "1/1 [==============================] - 0s 32ms/step - loss: 0.6817 - accuracy: 0.6452 - val_loss: 0.6574 - val_accuracy: 0.6250\n",
      "Epoch 75/100\n",
      "1/1 [==============================] - 0s 30ms/step - loss: 0.6813 - accuracy: 0.6452 - val_loss: 0.6574 - val_accuracy: 0.6250\n",
      "Epoch 76/100\n",
      "1/1 [==============================] - 0s 31ms/step - loss: 0.6808 - accuracy: 0.6452 - val_loss: 0.6575 - val_accuracy: 0.6250\n",
      "Epoch 77/100\n",
      "1/1 [==============================] - 0s 31ms/step - loss: 0.6803 - accuracy: 0.6452 - val_loss: 0.6575 - val_accuracy: 0.6250\n",
      "Epoch 78/100\n",
      "1/1 [==============================] - 0s 30ms/step - loss: 0.6799 - accuracy: 0.6452 - val_loss: 0.6575 - val_accuracy: 0.6250\n",
      "Epoch 79/100\n",
      "1/1 [==============================] - 0s 31ms/step - loss: 0.6795 - accuracy: 0.6452 - val_loss: 0.6575 - val_accuracy: 0.6250\n",
      "Epoch 80/100\n",
      "1/1 [==============================] - 0s 34ms/step - loss: 0.6790 - accuracy: 0.6452 - val_loss: 0.6571 - val_accuracy: 0.6250\n",
      "Epoch 81/100\n",
      "1/1 [==============================] - 0s 31ms/step - loss: 0.6786 - accuracy: 0.6452 - val_loss: 0.6571 - val_accuracy: 0.6250\n",
      "Epoch 82/100\n",
      "1/1 [==============================] - 0s 31ms/step - loss: 0.6783 - accuracy: 0.6452 - val_loss: 0.6572 - val_accuracy: 0.6250\n",
      "Epoch 83/100\n",
      "1/1 [==============================] - 0s 33ms/step - loss: 0.6779 - accuracy: 0.6452 - val_loss: 0.6572 - val_accuracy: 0.6250\n",
      "Epoch 84/100\n",
      "1/1 [==============================] - 0s 31ms/step - loss: 0.6775 - accuracy: 0.6452 - val_loss: 0.6573 - val_accuracy: 0.6250\n",
      "Epoch 85/100\n",
      "1/1 [==============================] - 0s 31ms/step - loss: 0.6771 - accuracy: 0.6452 - val_loss: 0.6573 - val_accuracy: 0.6250\n",
      "Epoch 86/100\n",
      "1/1 [==============================] - 0s 31ms/step - loss: 0.6768 - accuracy: 0.6452 - val_loss: 0.6574 - val_accuracy: 0.6250\n",
      "Epoch 87/100\n",
      "1/1 [==============================] - 0s 32ms/step - loss: 0.6765 - accuracy: 0.6452 - val_loss: 0.6574 - val_accuracy: 0.6250\n",
      "Epoch 88/100\n",
      "1/1 [==============================] - 0s 31ms/step - loss: 0.6761 - accuracy: 0.6452 - val_loss: 0.6575 - val_accuracy: 0.6250\n",
      "Epoch 89/100\n",
      "1/1 [==============================] - 0s 31ms/step - loss: 0.6758 - accuracy: 0.6452 - val_loss: 0.6575 - val_accuracy: 0.6250\n",
      "Epoch 90/100\n",
      "1/1 [==============================] - 0s 31ms/step - loss: 0.6755 - accuracy: 0.6452 - val_loss: 0.6576 - val_accuracy: 0.6250\n",
      "Epoch 91/100\n",
      "1/1 [==============================] - 0s 30ms/step - loss: 0.6752 - accuracy: 0.6452 - val_loss: 0.6576 - val_accuracy: 0.6250\n",
      "Epoch 92/100\n",
      "1/1 [==============================] - 0s 29ms/step - loss: 0.6749 - accuracy: 0.6452 - val_loss: 0.6577 - val_accuracy: 0.6250\n",
      "Epoch 93/100\n",
      "1/1 [==============================] - 0s 31ms/step - loss: 0.6746 - accuracy: 0.6452 - val_loss: 0.6577 - val_accuracy: 0.6250\n",
      "Epoch 94/100\n",
      "1/1 [==============================] - 0s 30ms/step - loss: 0.6743 - accuracy: 0.6452 - val_loss: 0.6573 - val_accuracy: 0.6250\n",
      "Epoch 95/100\n",
      "1/1 [==============================] - 0s 31ms/step - loss: 0.6740 - accuracy: 0.6452 - val_loss: 0.6574 - val_accuracy: 0.6250\n",
      "Epoch 96/100\n",
      "1/1 [==============================] - 0s 31ms/step - loss: 0.6738 - accuracy: 0.6452 - val_loss: 0.6574 - val_accuracy: 0.6250\n",
      "Epoch 97/100\n",
      "1/1 [==============================] - 0s 31ms/step - loss: 0.6735 - accuracy: 0.6452 - val_loss: 0.6575 - val_accuracy: 0.6250\n",
      "Epoch 98/100\n",
      "1/1 [==============================] - 0s 33ms/step - loss: 0.6732 - accuracy: 0.6452 - val_loss: 0.6576 - val_accuracy: 0.6250\n",
      "Epoch 99/100\n",
      "1/1 [==============================] - 0s 34ms/step - loss: 0.6730 - accuracy: 0.6452 - val_loss: 0.6576 - val_accuracy: 0.6250\n",
      "Epoch 100/100\n",
      "1/1 [==============================] - 0s 32ms/step - loss: 0.6727 - accuracy: 0.6452 - val_loss: 0.6577 - val_accuracy: 0.6250\n",
      "Most important variables:  [4 0 2 7 8 1 6 5 3]\n"
     ]
    }
   ],
   "source": [
    "hist = model.fit(X_train, y_traindm,\n",
    "          batch_size=31, epochs=100,\n",
    "          validation_data=(X_val, y_valdm), callbacks = [VIANN])"
   ]
  },
  {
   "cell_type": "markdown",
   "metadata": {},
   "source": [
    "# Visualizing Loss and Accuracy"
   ]
  },
  {
   "cell_type": "markdown",
   "metadata": {},
   "source": [
    "**Visualize the training loss and the validation loss using matplotlib as plt. Note the separation between the training and validation data.**"
   ]
  },
  {
   "cell_type": "code",
   "execution_count": 41,
   "metadata": {},
   "outputs": [
    {
     "data": {
      "image/png": "[encoded data removed]",
      "text/plain": [
       "<Figure size 460.8x316.8 with 1 Axes>"
      ]
     },
     "metadata": {
      "needs_background": "light"
     },
     "output_type": "display_data"
    }
   ],
   "source": [
    "plt.plot(hist.history['loss'])\n",
    "plt.plot(hist.history['val_loss'])\n",
    "plt.title('Model loss')\n",
    "plt.ylabel('Loss')\n",
    "plt.xlabel('Epoch')\n",
    "plt.legend(['Train', 'Val'], loc='upper right')\n",
    "plt.show()"
   ]
  },
  {
   "cell_type": "markdown",
   "metadata": {},
   "source": [
    "**Then visualize the training accuracy and the validation accuracy. Note the separation between the validation and training accuracy indicating underfitting and the need for a larger network, more hidden layers, longer train time or more advanced algorithms.**"
   ]
  },
  {
   "cell_type": "code",
   "execution_count": 42,
   "metadata": {},
   "outputs": [
    {
     "data": {
      "image/png": "[encoded data removed]",
      "text/plain": [
       "<Figure size 460.8x316.8 with 1 Axes>"
      ]
     },
     "metadata": {
      "needs_background": "light"
     },
     "output_type": "display_data"
    }
   ],
   "source": [
    "plt.plot(hist.history['accuracy'])\n",
    "plt.plot(hist.history['val_accuracy'])\n",
    "plt.title('Model accuracy')\n",
    "plt.ylabel('Accuracy')\n",
    "plt.xlabel('Epoch')\n",
    "plt.legend(['Train', 'Val'], loc='lower right')\n",
    "plt.show()"
   ]
  },
  {
   "cell_type": "code",
   "execution_count": 43,
   "metadata": {},
   "outputs": [
    {
     "data": {
      "text/html": [
       "<div>\n",
       "<style scoped>\n",
       "    .dataframe tbody tr th:only-of-type {\n",
       "        vertical-align: middle;\n",
       "    }\n",
       "\n",
       "    .dataframe tbody tr th {\n",
       "        vertical-align: top;\n",
       "    }\n",
       "\n",
       "    .dataframe thead th {\n",
       "        text-align: right;\n",
       "    }\n",
       "</style>\n",
       "<table border=\"1\" class=\"dataframe\">\n",
       "  <thead>\n",
       "    <tr style=\"text-align: right;\">\n",
       "      <th></th>\n",
       "      <th>Variable</th>\n",
       "      <th>Scores</th>\n",
       "    </tr>\n",
       "  </thead>\n",
       "  <tbody>\n",
       "    <tr>\n",
       "      <th>3</th>\n",
       "      <td>Ca_clr</td>\n",
       "      <td>0.000000</td>\n",
       "    </tr>\n",
       "    <tr>\n",
       "      <th>5</th>\n",
       "      <td>Cr_clr</td>\n",
       "      <td>0.017697</td>\n",
       "    </tr>\n",
       "    <tr>\n",
       "      <th>6</th>\n",
       "      <td>Mn_clr</td>\n",
       "      <td>0.018100</td>\n",
       "    </tr>\n",
       "    <tr>\n",
       "      <th>1</th>\n",
       "      <td>Al_clr</td>\n",
       "      <td>0.033102</td>\n",
       "    </tr>\n",
       "    <tr>\n",
       "      <th>8</th>\n",
       "      <td>Ni_clr</td>\n",
       "      <td>0.258159</td>\n",
       "    </tr>\n",
       "    <tr>\n",
       "      <th>7</th>\n",
       "      <td>Co_clr</td>\n",
       "      <td>0.455530</td>\n",
       "    </tr>\n",
       "    <tr>\n",
       "      <th>2</th>\n",
       "      <td>Si_clr</td>\n",
       "      <td>0.748738</td>\n",
       "    </tr>\n",
       "    <tr>\n",
       "      <th>0</th>\n",
       "      <td>Mg_clr</td>\n",
       "      <td>0.962955</td>\n",
       "    </tr>\n",
       "    <tr>\n",
       "      <th>4</th>\n",
       "      <td>V_clr</td>\n",
       "      <td>1.000000</td>\n",
       "    </tr>\n",
       "  </tbody>\n",
       "</table>\n",
       "</div>"
      ],
      "text/plain": [
       "  Variable    Scores\n",
       "3   Ca_clr  0.000000\n",
       "5   Cr_clr  0.017697\n",
       "6   Mn_clr  0.018100\n",
       "1   Al_clr  0.033102\n",
       "8   Ni_clr  0.258159\n",
       "7   Co_clr  0.455530\n",
       "2   Si_clr  0.748738\n",
       "0   Mg_clr  0.962955\n",
       "4    V_clr  1.000000"
      ]
     },
     "execution_count": 43,
     "metadata": {},
     "output_type": "execute_result"
    }
   ],
   "source": [
    "#Visualize Feature Importance in table format\n",
    "X_columns = X_train.columns.tolist()\n",
    "model_FI_scores = VIANN.varScores.tolist()\n",
    "\n",
    "model_FI = pd.DataFrame()\n",
    "model_FI['Variable'] = X_columns\n",
    "model_FI['Scores'] = model_FI_scores\n",
    "model_FI.sort_values(by=['Scores'], inplace=True, ascending=True)\n",
    "\n",
    "model_FI"
   ]
  },
  {
   "cell_type": "code",
   "execution_count": 44,
   "metadata": {},
   "outputs": [
    {
     "data": {
      "text/plain": [
       "array([['Mg_clr', 'Al_clr', 'Si_clr', 'Ca_clr', 'V_clr', 'Cr_clr',\n",
       "        'Mn_clr', 'Co_clr', 'Ni_clr'],\n",
       "       [0.9629549980163574, 0.03310159593820572, 0.7487383484840393, 0.0,\n",
       "        1.0, 0.017697053030133247, 0.018100406974554062,\n",
       "        0.4555301368236542, 0.2581588625907898]], dtype=object)"
      ]
     },
     "execution_count": 44,
     "metadata": {},
     "output_type": "execute_result"
    }
   ],
   "source": [
    "#Link Features to VIANN scores and export to csv\n",
    "model_FI_array = np.vstack((X_train.columns, VIANN.varScores))\n",
    "pd.DataFrame(model_FI_array).to_csv(\"OPX_model_FI.csv\", index=None)\n",
    "model_FI_array"
   ]
  },
  {
   "cell_type": "code",
   "execution_count": 45,
   "metadata": {
    "scrolled": true
   },
   "outputs": [
    {
     "data": {
      "image/png": "[encoded data removed]",
      "text/plain": [
       "<Figure size 460.8x316.8 with 1 Axes>"
      ]
     },
     "metadata": {
      "needs_background": "light"
     },
     "output_type": "display_data"
    }
   ],
   "source": [
    "# Plot the feature importances of the model\n",
    "fig, ax = plt.subplots()\n",
    "\n",
    "ax.barh(model_FI['Variable'], model_FI['Scores'], align=\"center\", alpha=0.5)\n",
    "ax.set_xlabel('Scores')\n",
    "ax.set_yticks(model_FI['Variable'])\n",
    "ax.xaxis.grid(True)\n",
    "ax.set_title(\"Model Feature Importances\", fontsize='14')\n",
    "\n",
    "# Save the figure and show\n",
    "plt.savefig('OPX_model_FI_barplot.png')\n",
    "plt.show()"
   ]
  },
  {
   "cell_type": "markdown",
   "metadata": {},
   "source": [
    "**Visualize the neural network.**"
   ]
  },
  {
   "cell_type": "code",
   "execution_count": 46,
   "metadata": {},
   "outputs": [
    {
     "data": {
      "text/plain": [
       "Reusing TensorBoard on port 6006 (pid 11316), started 1:59:46 ago. (Use '!kill 11316' to kill it.)"
      ]
     },
     "metadata": {},
     "output_type": "display_data"
    },
    {
     "data": {
      "text/html": [
       "\n",
       "      <iframe id=\"tensorboard-frame-bbb86e07657c6dd8\" width=\"100%\" height=\"800\" frameborder=\"0\">\n",
       "      </iframe>\n",
       "      <script>\n",
       "        (function() {\n",
       "          const frame = document.getElementById(\"tensorboard-frame-bbb86e07657c6dd8\");\n",
       "          const url = new URL(\"/\", window.location);\n",
       "          const port = 6006;\n",
       "          if (port) {\n",
       "            url.port = port;\n",
       "          }\n",
       "          frame.src = url;\n",
       "        })();\n",
       "      </script>\n",
       "    "
      ],
      "text/plain": [
       "<IPython.core.display.HTML object>"
      ]
     },
     "metadata": {},
     "output_type": "display_data"
    }
   ],
   "source": [
    "#View tensorboard graphic of the neural network structure\n",
    "#Re-run this cell if there is a timeout error\n",
    "%tensorboard --logdir logs"
   ]
  },
  {
   "cell_type": "markdown",
   "metadata": {},
   "source": [
    "**Check model's performance on test data.**"
   ]
  },
  {
   "cell_type": "code",
   "execution_count": 47,
   "metadata": {
    "scrolled": true
   },
   "outputs": [
    {
     "name": "stdout",
     "output_type": "stream",
     "text": [
      "1/1 [==============================] - 0s 12ms/step - loss: 0.6555 - accuracy: 0.6667\n"
     ]
    },
    {
     "data": {
      "text/plain": [
       "0.6666666865348816"
      ]
     },
     "execution_count": 47,
     "metadata": {},
     "output_type": "execute_result"
    }
   ],
   "source": [
    "model.evaluate(X_test, y_testdm)[1]"
   ]
  },
  {
   "cell_type": "markdown",
   "metadata": {},
   "source": [
    "**Out dataset is small and the accuracy is low, therefore try adding in regularization and drop out.**"
   ]
  },
  {
   "cell_type": "markdown",
   "metadata": {},
   "source": [
    "# Adding Regularization to the Neural Network"
   ]
  },
  {
   "cell_type": "markdown",
   "metadata": {},
   "source": [
    "**Train a model which will overfit, which we call Model 2. Input shape is how many variables (22) and Dense is number of y values (2).**"
   ]
  },
  {
   "cell_type": "code",
   "execution_count": 48,
   "metadata": {},
   "outputs": [
    {
     "name": "stdout",
     "output_type": "stream",
     "text": [
      "Epoch 1/200\n",
      "1/1 [==============================] - 1s 556ms/step - loss: 0.6883 - accuracy: 0.6774 - val_loss: 0.7856 - val_accuracy: 0.6250\n",
      "Epoch 2/200\n",
      "1/1 [==============================] - 0s 47ms/step - loss: 0.7048 - accuracy: 0.6452 - val_loss: 0.6705 - val_accuracy: 0.6250\n",
      "Epoch 3/200\n",
      "1/1 [==============================] - 0s 42ms/step - loss: 0.5525 - accuracy: 0.6452 - val_loss: 0.7160 - val_accuracy: 0.3750\n",
      "Epoch 4/200\n",
      "1/1 [==============================] - 0s 40ms/step - loss: 0.5138 - accuracy: 0.7419 - val_loss: 0.7097 - val_accuracy: 0.7500\n",
      "Epoch 5/200\n",
      "1/1 [==============================] - 0s 41ms/step - loss: 0.4530 - accuracy: 0.8710 - val_loss: 0.7816 - val_accuracy: 0.6250\n",
      "Epoch 6/200\n",
      "1/1 [==============================] - 0s 42ms/step - loss: 0.4345 - accuracy: 0.8387 - val_loss: 0.8167 - val_accuracy: 0.6250\n",
      "Epoch 7/200\n",
      "1/1 [==============================] - 0s 44ms/step - loss: 0.4150 - accuracy: 0.8387 - val_loss: 0.7924 - val_accuracy: 0.7500\n",
      "Epoch 8/200\n",
      "1/1 [==============================] - 0s 42ms/step - loss: 0.4050 - accuracy: 0.9032 - val_loss: 0.8494 - val_accuracy: 0.6250\n",
      "Epoch 9/200\n",
      "1/1 [==============================] - 0s 41ms/step - loss: 0.3927 - accuracy: 0.8387 - val_loss: 0.7363 - val_accuracy: 0.7500\n",
      "Epoch 10/200\n",
      "1/1 [==============================] - 0s 41ms/step - loss: 0.3519 - accuracy: 0.9032 - val_loss: 0.6977 - val_accuracy: 0.7500\n",
      "Epoch 11/200\n",
      "1/1 [==============================] - 0s 45ms/step - loss: 0.3297 - accuracy: 0.9032 - val_loss: 0.7154 - val_accuracy: 0.6250\n",
      "Epoch 12/200\n",
      "1/1 [==============================] - 0s 43ms/step - loss: 0.3247 - accuracy: 0.8387 - val_loss: 0.6461 - val_accuracy: 0.7500\n",
      "Epoch 13/200\n",
      "1/1 [==============================] - 0s 42ms/step - loss: 0.2921 - accuracy: 0.9355 - val_loss: 0.6438 - val_accuracy: 0.7500\n",
      "Epoch 14/200\n",
      "1/1 [==============================] - 0s 46ms/step - loss: 0.2745 - accuracy: 0.9355 - val_loss: 0.7000 - val_accuracy: 0.6875\n",
      "Epoch 15/200\n",
      "1/1 [==============================] - 0s 42ms/step - loss: 0.2729 - accuracy: 0.9032 - val_loss: 0.6637 - val_accuracy: 0.7500\n",
      "Epoch 16/200\n",
      "1/1 [==============================] - 0s 43ms/step - loss: 0.2461 - accuracy: 0.9032 - val_loss: 0.6715 - val_accuracy: 0.7500\n",
      "Epoch 17/200\n",
      "1/1 [==============================] - 0s 41ms/step - loss: 0.2194 - accuracy: 0.9355 - val_loss: 0.6905 - val_accuracy: 0.7500\n",
      "Epoch 18/200\n",
      "1/1 [==============================] - 0s 43ms/step - loss: 0.2095 - accuracy: 0.9355 - val_loss: 0.6789 - val_accuracy: 0.7500\n",
      "Epoch 19/200\n",
      "1/1 [==============================] - 0s 42ms/step - loss: 0.2027 - accuracy: 0.9355 - val_loss: 0.6785 - val_accuracy: 0.7500\n",
      "Epoch 20/200\n",
      "1/1 [==============================] - 0s 41ms/step - loss: 0.1856 - accuracy: 0.9355 - val_loss: 0.6462 - val_accuracy: 0.7500\n",
      "Epoch 21/200\n",
      "1/1 [==============================] - 0s 42ms/step - loss: 0.1557 - accuracy: 0.9677 - val_loss: 0.6388 - val_accuracy: 0.8125\n",
      "Epoch 22/200\n",
      "1/1 [==============================] - 0s 42ms/step - loss: 0.1383 - accuracy: 0.9677 - val_loss: 0.6449 - val_accuracy: 0.8125\n",
      "Epoch 23/200\n",
      "1/1 [==============================] - 0s 42ms/step - loss: 0.1353 - accuracy: 0.9677 - val_loss: 0.7343 - val_accuracy: 0.8125\n",
      "Epoch 24/200\n",
      "1/1 [==============================] - 0s 43ms/step - loss: 0.1323 - accuracy: 0.9355 - val_loss: 0.6827 - val_accuracy: 0.8125\n",
      "Epoch 25/200\n",
      "1/1 [==============================] - 0s 41ms/step - loss: 0.1073 - accuracy: 0.9677 - val_loss: 0.7070 - val_accuracy: 0.8750\n",
      "Epoch 26/200\n",
      "1/1 [==============================] - 0s 42ms/step - loss: 0.0819 - accuracy: 0.9677 - val_loss: 0.7486 - val_accuracy: 0.8125\n",
      "Epoch 27/200\n",
      "1/1 [==============================] - 0s 42ms/step - loss: 0.0742 - accuracy: 0.9677 - val_loss: 0.6924 - val_accuracy: 0.8750\n",
      "Epoch 28/200\n",
      "1/1 [==============================] - 0s 45ms/step - loss: 0.0777 - accuracy: 1.0000 - val_loss: 0.9602 - val_accuracy: 0.8125\n",
      "Epoch 29/200\n",
      "1/1 [==============================] - 0s 40ms/step - loss: 0.0852 - accuracy: 0.9677 - val_loss: 0.8632 - val_accuracy: 0.8125\n",
      "Epoch 30/200\n",
      "1/1 [==============================] - 0s 39ms/step - loss: 0.0518 - accuracy: 1.0000 - val_loss: 0.8507 - val_accuracy: 0.8125\n",
      "Epoch 31/200\n",
      "1/1 [==============================] - 0s 42ms/step - loss: 0.0425 - accuracy: 1.0000 - val_loss: 1.0467 - val_accuracy: 0.8125\n",
      "Epoch 32/200\n",
      "1/1 [==============================] - 0s 42ms/step - loss: 0.0520 - accuracy: 0.9677 - val_loss: 0.8283 - val_accuracy: 0.8750\n",
      "Epoch 33/200\n",
      "1/1 [==============================] - 0s 41ms/step - loss: 0.0296 - accuracy: 1.0000 - val_loss: 0.8969 - val_accuracy: 0.8750\n",
      "Epoch 34/200\n",
      "1/1 [==============================] - 0s 41ms/step - loss: 0.0172 - accuracy: 1.0000 - val_loss: 1.1132 - val_accuracy: 0.8750\n",
      "Epoch 35/200\n",
      "1/1 [==============================] - 0s 42ms/step - loss: 0.0169 - accuracy: 1.0000 - val_loss: 1.1427 - val_accuracy: 0.8750\n",
      "Epoch 36/200\n",
      "1/1 [==============================] - 0s 43ms/step - loss: 0.0121 - accuracy: 1.0000 - val_loss: 1.0685 - val_accuracy: 0.8750\n",
      "Epoch 37/200\n",
      "1/1 [==============================] - 0s 43ms/step - loss: 0.0103 - accuracy: 1.0000 - val_loss: 1.0540 - val_accuracy: 0.8750\n",
      "Epoch 38/200\n",
      "1/1 [==============================] - 0s 41ms/step - loss: 0.0062 - accuracy: 1.0000 - val_loss: 1.1290 - val_accuracy: 0.8750\n",
      "Epoch 39/200\n",
      "1/1 [==============================] - 0s 42ms/step - loss: 0.0045 - accuracy: 1.0000 - val_loss: 1.2102 - val_accuracy: 0.8125\n",
      "Epoch 40/200\n",
      "1/1 [==============================] - 0s 42ms/step - loss: 0.0071 - accuracy: 1.0000 - val_loss: 1.1382 - val_accuracy: 0.8750\n",
      "Epoch 41/200\n",
      "1/1 [==============================] - 0s 43ms/step - loss: 0.0029 - accuracy: 1.0000 - val_loss: 1.1164 - val_accuracy: 0.8750\n",
      "Epoch 42/200\n",
      "1/1 [==============================] - 0s 41ms/step - loss: 0.0031 - accuracy: 1.0000 - val_loss: 1.1628 - val_accuracy: 0.8750\n",
      "Epoch 43/200\n",
      "1/1 [==============================] - 0s 41ms/step - loss: 0.0029 - accuracy: 1.0000 - val_loss: 1.2569 - val_accuracy: 0.8750\n",
      "Epoch 44/200\n",
      "1/1 [==============================] - 0s 42ms/step - loss: 0.0015 - accuracy: 1.0000 - val_loss: 1.3797 - val_accuracy: 0.8750\n",
      "Epoch 45/200\n",
      "1/1 [==============================] - 0s 43ms/step - loss: 0.0011 - accuracy: 1.0000 - val_loss: 1.4925 - val_accuracy: 0.8750\n",
      "Epoch 46/200\n",
      "1/1 [==============================] - 0s 43ms/step - loss: 0.0016 - accuracy: 1.0000 - val_loss: 1.5461 - val_accuracy: 0.8750\n",
      "Epoch 47/200\n",
      "1/1 [==============================] - 0s 41ms/step - loss: 0.0017 - accuracy: 1.0000 - val_loss: 1.5301 - val_accuracy: 0.8750\n",
      "Epoch 48/200\n",
      "1/1 [==============================] - 0s 42ms/step - loss: 9.5067e-04 - accuracy: 1.0000 - val_loss: 1.4849 - val_accuracy: 0.8750\n",
      "Epoch 49/200\n",
      "1/1 [==============================] - 0s 42ms/step - loss: 5.2664e-04 - accuracy: 1.0000 - val_loss: 1.4390 - val_accuracy: 0.8750\n",
      "Epoch 50/200\n",
      "1/1 [==============================] - 0s 41ms/step - loss: 4.6274e-04 - accuracy: 1.0000 - val_loss: 1.4051 - val_accuracy: 0.8750\n",
      "Epoch 51/200\n",
      "1/1 [==============================] - 0s 41ms/step - loss: 5.2955e-04 - accuracy: 1.0000 - val_loss: 1.3879 - val_accuracy: 0.8750\n",
      "Epoch 52/200\n",
      "1/1 [==============================] - 0s 41ms/step - loss: 5.4390e-04 - accuracy: 1.0000 - val_loss: 1.3880 - val_accuracy: 0.8750\n",
      "Epoch 53/200\n",
      "1/1 [==============================] - 0s 43ms/step - loss: 4.5153e-04 - accuracy: 1.0000 - val_loss: 1.4030 - val_accuracy: 0.8750\n",
      "Epoch 54/200\n",
      "1/1 [==============================] - 0s 42ms/step - loss: 3.3072e-04 - accuracy: 1.0000 - val_loss: 1.4295 - val_accuracy: 0.8750\n",
      "Epoch 55/200\n",
      "1/1 [==============================] - 0s 41ms/step - loss: 2.4905e-04 - accuracy: 1.0000 - val_loss: 1.4637 - val_accuracy: 0.8750\n",
      "Epoch 56/200\n",
      "1/1 [==============================] - 0s 41ms/step - loss: 2.2190e-04 - accuracy: 1.0000 - val_loss: 1.5006 - val_accuracy: 0.8750\n",
      "Epoch 57/200\n",
      "1/1 [==============================] - 0s 41ms/step - loss: 2.3887e-04 - accuracy: 1.0000 - val_loss: 1.5326 - val_accuracy: 0.8750\n",
      "Epoch 58/200\n",
      "1/1 [==============================] - 0s 41ms/step - loss: 2.6901e-04 - accuracy: 1.0000 - val_loss: 1.5531 - val_accuracy: 0.8750\n"
     ]
    },
    {
     "name": "stdout",
     "output_type": "stream",
     "text": [
      "Epoch 59/200\n",
      "1/1 [==============================] - 0s 43ms/step - loss: 2.7064e-04 - accuracy: 1.0000 - val_loss: 1.5609 - val_accuracy: 0.8750\n",
      "Epoch 60/200\n",
      "1/1 [==============================] - 0s 43ms/step - loss: 2.3645e-04 - accuracy: 1.0000 - val_loss: 1.5598 - val_accuracy: 0.8750\n",
      "Epoch 61/200\n",
      "1/1 [==============================] - 0s 42ms/step - loss: 1.8740e-04 - accuracy: 1.0000 - val_loss: 1.5550 - val_accuracy: 0.8750\n",
      "Epoch 62/200\n",
      "1/1 [==============================] - 0s 42ms/step - loss: 1.4662e-04 - accuracy: 1.0000 - val_loss: 1.5503 - val_accuracy: 0.8750\n",
      "Epoch 63/200\n",
      "1/1 [==============================] - 0s 44ms/step - loss: 1.2218e-04 - accuracy: 1.0000 - val_loss: 1.5479 - val_accuracy: 0.8750\n",
      "Epoch 64/200\n",
      "1/1 [==============================] - 0s 42ms/step - loss: 1.1034e-04 - accuracy: 1.0000 - val_loss: 1.5489 - val_accuracy: 0.8750\n",
      "Epoch 65/200\n",
      "1/1 [==============================] - 0s 41ms/step - loss: 1.0606e-04 - accuracy: 1.0000 - val_loss: 1.5536 - val_accuracy: 0.8750\n",
      "Epoch 66/200\n",
      "1/1 [==============================] - 0s 43ms/step - loss: 1.0494e-04 - accuracy: 1.0000 - val_loss: 1.5619 - val_accuracy: 0.8750\n",
      "Epoch 67/200\n",
      "1/1 [==============================] - 0s 41ms/step - loss: 1.0372e-04 - accuracy: 1.0000 - val_loss: 1.5738 - val_accuracy: 0.8750\n",
      "Epoch 68/200\n",
      "1/1 [==============================] - 0s 43ms/step - loss: 1.0045e-04 - accuracy: 1.0000 - val_loss: 1.5887 - val_accuracy: 0.8750\n",
      "Epoch 69/200\n",
      "1/1 [==============================] - 0s 44ms/step - loss: 9.4637e-05 - accuracy: 1.0000 - val_loss: 1.6063 - val_accuracy: 0.8750\n",
      "Epoch 70/200\n",
      "1/1 [==============================] - 0s 40ms/step - loss: 8.6958e-05 - accuracy: 1.0000 - val_loss: 1.6257 - val_accuracy: 0.8750\n",
      "Epoch 71/200\n",
      "1/1 [==============================] - 0s 43ms/step - loss: 7.8660e-05 - accuracy: 1.0000 - val_loss: 1.6464 - val_accuracy: 0.8750\n",
      "Epoch 72/200\n",
      "1/1 [==============================] - 0s 41ms/step - loss: 7.1012e-05 - accuracy: 1.0000 - val_loss: 1.6675 - val_accuracy: 0.8750\n",
      "Epoch 73/200\n",
      "1/1 [==============================] - 0s 42ms/step - loss: 6.4855e-05 - accuracy: 1.0000 - val_loss: 1.6883 - val_accuracy: 0.8750\n",
      "Epoch 74/200\n",
      "1/1 [==============================] - 0s 43ms/step - loss: 6.0512e-05 - accuracy: 1.0000 - val_loss: 1.7082 - val_accuracy: 0.8750\n",
      "Epoch 75/200\n",
      "1/1 [==============================] - 0s 42ms/step - loss: 5.7919e-05 - accuracy: 1.0000 - val_loss: 1.7266 - val_accuracy: 0.8750\n",
      "Epoch 76/200\n",
      "1/1 [==============================] - 0s 43ms/step - loss: 5.6783e-05 - accuracy: 1.0000 - val_loss: 1.7429 - val_accuracy: 0.8750\n",
      "Epoch 77/200\n",
      "1/1 [==============================] - 0s 43ms/step - loss: 5.6655e-05 - accuracy: 1.0000 - val_loss: 1.7569 - val_accuracy: 0.8750\n",
      "Epoch 78/200\n",
      "1/1 [==============================] - 0s 41ms/step - loss: 5.7021e-05 - accuracy: 1.0000 - val_loss: 1.7683 - val_accuracy: 0.8750\n",
      "Epoch 79/200\n",
      "1/1 [==============================] - 0s 44ms/step - loss: 5.7394e-05 - accuracy: 1.0000 - val_loss: 1.7770 - val_accuracy: 0.8750\n",
      "Epoch 80/200\n",
      "1/1 [==============================] - 0s 41ms/step - loss: 5.7429e-05 - accuracy: 1.0000 - val_loss: 1.7829 - val_accuracy: 0.8750\n",
      "Epoch 81/200\n",
      "1/1 [==============================] - 0s 42ms/step - loss: 5.6891e-05 - accuracy: 1.0000 - val_loss: 1.7864 - val_accuracy: 0.8750\n",
      "Epoch 82/200\n",
      "1/1 [==============================] - 0s 40ms/step - loss: 5.5743e-05 - accuracy: 1.0000 - val_loss: 1.7875 - val_accuracy: 0.8750\n",
      "Epoch 83/200\n",
      "1/1 [==============================] - 0s 41ms/step - loss: 5.4114e-05 - accuracy: 1.0000 - val_loss: 1.7868 - val_accuracy: 0.8750\n",
      "Epoch 84/200\n",
      "1/1 [==============================] - 0s 43ms/step - loss: 5.2220e-05 - accuracy: 1.0000 - val_loss: 1.7845 - val_accuracy: 0.8750\n",
      "Epoch 85/200\n",
      "1/1 [==============================] - 0s 41ms/step - loss: 5.0325e-05 - accuracy: 1.0000 - val_loss: 1.7812 - val_accuracy: 0.8750\n",
      "Epoch 86/200\n",
      "1/1 [==============================] - 0s 43ms/step - loss: 4.8587e-05 - accuracy: 1.0000 - val_loss: 1.7773 - val_accuracy: 0.8750\n",
      "Epoch 87/200\n",
      "1/1 [==============================] - 0s 42ms/step - loss: 4.7138e-05 - accuracy: 1.0000 - val_loss: 1.7729 - val_accuracy: 0.8750\n",
      "Epoch 88/200\n",
      "1/1 [==============================] - 0s 43ms/step - loss: 4.5989e-05 - accuracy: 1.0000 - val_loss: 1.7686 - val_accuracy: 0.8750\n",
      "Epoch 89/200\n",
      "1/1 [==============================] - 0s 40ms/step - loss: 4.5130e-05 - accuracy: 1.0000 - val_loss: 1.7644 - val_accuracy: 0.8750\n",
      "Epoch 90/200\n",
      "1/1 [==============================] - 0s 40ms/step - loss: 4.4507e-05 - accuracy: 1.0000 - val_loss: 1.7607 - val_accuracy: 0.8750\n",
      "Epoch 91/200\n",
      "1/1 [==============================] - 0s 43ms/step - loss: 4.4033e-05 - accuracy: 1.0000 - val_loss: 1.7575 - val_accuracy: 0.8750\n",
      "Epoch 92/200\n",
      "1/1 [==============================] - 0s 42ms/step - loss: 4.3636e-05 - accuracy: 1.0000 - val_loss: 1.7550 - val_accuracy: 0.8750\n",
      "Epoch 93/200\n",
      "1/1 [==============================] - 0s 43ms/step - loss: 4.3238e-05 - accuracy: 1.0000 - val_loss: 1.7532 - val_accuracy: 0.8750\n",
      "Epoch 94/200\n",
      "1/1 [==============================] - 0s 41ms/step - loss: 4.2785e-05 - accuracy: 1.0000 - val_loss: 1.7520 - val_accuracy: 0.8750\n",
      "Epoch 95/200\n",
      "1/1 [==============================] - 0s 40ms/step - loss: 4.2255e-05 - accuracy: 1.0000 - val_loss: 1.7516 - val_accuracy: 0.8750\n",
      "Epoch 96/200\n",
      "1/1 [==============================] - 0s 42ms/step - loss: 4.1648e-05 - accuracy: 1.0000 - val_loss: 1.7517 - val_accuracy: 0.8750\n",
      "Epoch 97/200\n",
      "1/1 [==============================] - 0s 41ms/step - loss: 4.0982e-05 - accuracy: 1.0000 - val_loss: 1.7524 - val_accuracy: 0.8750\n",
      "Epoch 98/200\n",
      "1/1 [==============================] - 0s 41ms/step - loss: 4.0295e-05 - accuracy: 1.0000 - val_loss: 1.7535 - val_accuracy: 0.8750\n",
      "Epoch 99/200\n",
      "1/1 [==============================] - 0s 42ms/step - loss: 3.9619e-05 - accuracy: 1.0000 - val_loss: 1.7550 - val_accuracy: 0.8750\n",
      "Epoch 100/200\n",
      "1/1 [==============================] - 0s 41ms/step - loss: 3.8986e-05 - accuracy: 1.0000 - val_loss: 1.7566 - val_accuracy: 0.8750\n",
      "Epoch 101/200\n",
      "1/1 [==============================] - 0s 41ms/step - loss: 3.8422e-05 - accuracy: 1.0000 - val_loss: 1.7584 - val_accuracy: 0.8750\n",
      "Epoch 102/200\n",
      "1/1 [==============================] - 0s 41ms/step - loss: 3.7942e-05 - accuracy: 1.0000 - val_loss: 1.7601 - val_accuracy: 0.8750\n",
      "Epoch 103/200\n",
      "1/1 [==============================] - 0s 43ms/step - loss: 3.7538e-05 - accuracy: 1.0000 - val_loss: 1.7617 - val_accuracy: 0.8750\n",
      "Epoch 104/200\n",
      "1/1 [==============================] - 0s 43ms/step - loss: 3.7200e-05 - accuracy: 1.0000 - val_loss: 1.7631 - val_accuracy: 0.8750\n",
      "Epoch 105/200\n",
      "1/1 [==============================] - 0s 41ms/step - loss: 3.6920e-05 - accuracy: 1.0000 - val_loss: 1.7642 - val_accuracy: 0.8750\n",
      "Epoch 106/200\n",
      "1/1 [==============================] - 0s 40ms/step - loss: 3.6672e-05 - accuracy: 1.0000 - val_loss: 1.7651 - val_accuracy: 0.8750\n",
      "Epoch 107/200\n",
      "1/1 [==============================] - 0s 42ms/step - loss: 3.6430e-05 - accuracy: 1.0000 - val_loss: 1.7656 - val_accuracy: 0.8750\n",
      "Epoch 108/200\n",
      "1/1 [==============================] - 0s 41ms/step - loss: 3.6181e-05 - accuracy: 1.0000 - val_loss: 1.7658 - val_accuracy: 0.8750\n",
      "Epoch 109/200\n",
      "1/1 [==============================] - 0s 43ms/step - loss: 3.5917e-05 - accuracy: 1.0000 - val_loss: 1.7658 - val_accuracy: 0.8750\n",
      "Epoch 110/200\n",
      "1/1 [==============================] - 0s 41ms/step - loss: 3.5635e-05 - accuracy: 1.0000 - val_loss: 1.7655 - val_accuracy: 0.8750\n",
      "Epoch 111/200\n",
      "1/1 [==============================] - 0s 42ms/step - loss: 3.5337e-05 - accuracy: 1.0000 - val_loss: 1.7649 - val_accuracy: 0.8750\n",
      "Epoch 112/200\n",
      "1/1 [==============================] - 0s 41ms/step - loss: 3.5029e-05 - accuracy: 1.0000 - val_loss: 1.7643 - val_accuracy: 0.8750\n",
      "Epoch 113/200\n",
      "1/1 [==============================] - 0s 41ms/step - loss: 3.4720e-05 - accuracy: 1.0000 - val_loss: 1.7636 - val_accuracy: 0.8750\n",
      "Epoch 114/200\n",
      "1/1 [==============================] - 0s 41ms/step - loss: 3.4419e-05 - accuracy: 1.0000 - val_loss: 1.7628 - val_accuracy: 0.8750\n",
      "Epoch 115/200\n",
      "1/1 [==============================] - 0s 42ms/step - loss: 3.4131e-05 - accuracy: 1.0000 - val_loss: 1.7622 - val_accuracy: 0.8750\n",
      "Epoch 116/200\n",
      "1/1 [==============================] - 0s 44ms/step - loss: 3.3863e-05 - accuracy: 1.0000 - val_loss: 1.7616 - val_accuracy: 0.8750\n",
      "Epoch 117/200\n",
      "1/1 [==============================] - 0s 42ms/step - loss: 3.3610e-05 - accuracy: 1.0000 - val_loss: 1.7612 - val_accuracy: 0.8750\n",
      "Epoch 118/200\n",
      "1/1 [==============================] - 0s 39ms/step - loss: 3.3372e-05 - accuracy: 1.0000 - val_loss: 1.7610 - val_accuracy: 0.8750\n",
      "Epoch 119/200\n",
      "1/1 [==============================] - 0s 41ms/step - loss: 3.3142e-05 - accuracy: 1.0000 - val_loss: 1.7611 - val_accuracy: 0.8750\n",
      "Epoch 120/200\n",
      "1/1 [==============================] - 0s 41ms/step - loss: 3.2931e-05 - accuracy: 1.0000 - val_loss: 1.7613 - val_accuracy: 0.8750\n",
      "Epoch 121/200\n",
      "1/1 [==============================] - 0s 42ms/step - loss: 3.2740e-05 - accuracy: 1.0000 - val_loss: 1.7618 - val_accuracy: 0.8750\n",
      "Epoch 122/200\n",
      "1/1 [==============================] - 0s 42ms/step - loss: 3.2549e-05 - accuracy: 1.0000 - val_loss: 1.7626 - val_accuracy: 0.8750\n",
      "Epoch 123/200\n",
      "1/1 [==============================] - 0s 42ms/step - loss: 3.2354e-05 - accuracy: 1.0000 - val_loss: 1.7636 - val_accuracy: 0.8750\n",
      "Epoch 124/200\n",
      "1/1 [==============================] - 0s 42ms/step - loss: 3.2155e-05 - accuracy: 1.0000 - val_loss: 1.7647 - val_accuracy: 0.8750\n",
      "Epoch 125/200\n",
      "1/1 [==============================] - 0s 42ms/step - loss: 3.1955e-05 - accuracy: 1.0000 - val_loss: 1.7660 - val_accuracy: 0.8750\n",
      "Epoch 126/200\n",
      "1/1 [==============================] - 0s 42ms/step - loss: 3.1763e-05 - accuracy: 1.0000 - val_loss: 1.7675 - val_accuracy: 0.8750\n",
      "Epoch 127/200\n",
      "1/1 [==============================] - 0s 42ms/step - loss: 3.1572e-05 - accuracy: 1.0000 - val_loss: 1.7690 - val_accuracy: 0.8750\n",
      "Epoch 128/200\n",
      "1/1 [==============================] - 0s 44ms/step - loss: 3.1382e-05 - accuracy: 1.0000 - val_loss: 1.7707 - val_accuracy: 0.8750\n",
      "Epoch 129/200\n",
      "1/1 [==============================] - 0s 42ms/step - loss: 3.1193e-05 - accuracy: 1.0000 - val_loss: 1.7723 - val_accuracy: 0.8750\n",
      "Epoch 130/200\n",
      "1/1 [==============================] - 0s 42ms/step - loss: 3.1007e-05 - accuracy: 1.0000 - val_loss: 1.7740 - val_accuracy: 0.8750\n",
      "Epoch 131/200\n",
      "1/1 [==============================] - 0s 42ms/step - loss: 3.0826e-05 - accuracy: 1.0000 - val_loss: 1.7756 - val_accuracy: 0.8750\n",
      "Epoch 132/200\n",
      "1/1 [==============================] - 0s 44ms/step - loss: 3.0650e-05 - accuracy: 1.0000 - val_loss: 1.7771 - val_accuracy: 0.8750\n",
      "Epoch 133/200\n",
      "1/1 [==============================] - 0s 42ms/step - loss: 3.0477e-05 - accuracy: 1.0000 - val_loss: 1.7786 - val_accuracy: 0.8750\n",
      "Epoch 134/200\n",
      "1/1 [==============================] - 0s 44ms/step - loss: 3.0306e-05 - accuracy: 1.0000 - val_loss: 1.7799 - val_accuracy: 0.8750\n",
      "Epoch 135/200\n",
      "1/1 [==============================] - 0s 44ms/step - loss: 3.0135e-05 - accuracy: 1.0000 - val_loss: 1.7812 - val_accuracy: 0.8750\n",
      "Epoch 136/200\n",
      "1/1 [==============================] - 0s 43ms/step - loss: 2.9964e-05 - accuracy: 1.0000 - val_loss: 1.7823 - val_accuracy: 0.8750\n",
      "Epoch 137/200\n",
      "1/1 [==============================] - 0s 41ms/step - loss: 2.9794e-05 - accuracy: 1.0000 - val_loss: 1.7834 - val_accuracy: 0.8750\n",
      "Epoch 138/200\n",
      "1/1 [==============================] - 0s 42ms/step - loss: 2.9623e-05 - accuracy: 1.0000 - val_loss: 1.7844 - val_accuracy: 0.8750\n",
      "Epoch 139/200\n",
      "1/1 [==============================] - 0s 43ms/step - loss: 2.9455e-05 - accuracy: 1.0000 - val_loss: 1.7853 - val_accuracy: 0.8750\n",
      "Epoch 140/200\n",
      "1/1 [==============================] - 0s 41ms/step - loss: 2.9287e-05 - accuracy: 1.0000 - val_loss: 1.7862 - val_accuracy: 0.8750\n",
      "Epoch 141/200\n",
      "1/1 [==============================] - 0s 42ms/step - loss: 2.9119e-05 - accuracy: 1.0000 - val_loss: 1.7870 - val_accuracy: 0.8750\n",
      "Epoch 142/200\n",
      "1/1 [==============================] - 0s 43ms/step - loss: 2.8953e-05 - accuracy: 1.0000 - val_loss: 1.7878 - val_accuracy: 0.8750\n",
      "Epoch 143/200\n",
      "1/1 [==============================] - 0s 42ms/step - loss: 2.8788e-05 - accuracy: 1.0000 - val_loss: 1.7886 - val_accuracy: 0.8750\n",
      "Epoch 144/200\n",
      "1/1 [==============================] - 0s 42ms/step - loss: 2.8628e-05 - accuracy: 1.0000 - val_loss: 1.7894 - val_accuracy: 0.8750\n",
      "Epoch 145/200\n",
      "1/1 [==============================] - 0s 41ms/step - loss: 2.8471e-05 - accuracy: 1.0000 - val_loss: 1.7902 - val_accuracy: 0.8750\n",
      "Epoch 146/200\n",
      "1/1 [==============================] - 0s 42ms/step - loss: 2.8314e-05 - accuracy: 1.0000 - val_loss: 1.7910 - val_accuracy: 0.8750\n",
      "Epoch 147/200\n",
      "1/1 [==============================] - 0s 42ms/step - loss: 2.8158e-05 - accuracy: 1.0000 - val_loss: 1.7918 - val_accuracy: 0.8750\n",
      "Epoch 148/200\n",
      "1/1 [==============================] - 0s 41ms/step - loss: 2.8003e-05 - accuracy: 1.0000 - val_loss: 1.7927 - val_accuracy: 0.8750\n",
      "Epoch 149/200\n",
      "1/1 [==============================] - 0s 43ms/step - loss: 2.7849e-05 - accuracy: 1.0000 - val_loss: 1.7936 - val_accuracy: 0.8750\n",
      "Epoch 150/200\n",
      "1/1 [==============================] - 0s 42ms/step - loss: 2.7697e-05 - accuracy: 1.0000 - val_loss: 1.7945 - val_accuracy: 0.8750\n",
      "Epoch 151/200\n",
      "1/1 [==============================] - 0s 42ms/step - loss: 2.7544e-05 - accuracy: 1.0000 - val_loss: 1.7954 - val_accuracy: 0.8750\n",
      "Epoch 152/200\n",
      "1/1 [==============================] - 0s 43ms/step - loss: 2.7396e-05 - accuracy: 1.0000 - val_loss: 1.7963 - val_accuracy: 0.8750\n",
      "Epoch 153/200\n",
      "1/1 [==============================] - 0s 43ms/step - loss: 2.7249e-05 - accuracy: 1.0000 - val_loss: 1.7972 - val_accuracy: 0.8750\n",
      "Epoch 154/200\n",
      "1/1 [==============================] - 0s 43ms/step - loss: 2.7102e-05 - accuracy: 1.0000 - val_loss: 1.7981 - val_accuracy: 0.8750\n",
      "Epoch 155/200\n",
      "1/1 [==============================] - 0s 41ms/step - loss: 2.6958e-05 - accuracy: 1.0000 - val_loss: 1.7991 - val_accuracy: 0.8750\n",
      "Epoch 156/200\n",
      "1/1 [==============================] - 0s 43ms/step - loss: 2.6814e-05 - accuracy: 1.0000 - val_loss: 1.8000 - val_accuracy: 0.8750\n",
      "Epoch 157/200\n",
      "1/1 [==============================] - 0s 42ms/step - loss: 2.6670e-05 - accuracy: 1.0000 - val_loss: 1.8009 - val_accuracy: 0.8750\n",
      "Epoch 158/200\n",
      "1/1 [==============================] - 0s 42ms/step - loss: 2.6527e-05 - accuracy: 1.0000 - val_loss: 1.8017 - val_accuracy: 0.8750\n",
      "Epoch 159/200\n",
      "1/1 [==============================] - 0s 43ms/step - loss: 2.6385e-05 - accuracy: 1.0000 - val_loss: 1.8026 - val_accuracy: 0.8750\n",
      "Epoch 160/200\n",
      "1/1 [==============================] - 0s 41ms/step - loss: 2.6245e-05 - accuracy: 1.0000 - val_loss: 1.8034 - val_accuracy: 0.8750\n",
      "Epoch 161/200\n",
      "1/1 [==============================] - 0s 42ms/step - loss: 2.6106e-05 - accuracy: 1.0000 - val_loss: 1.8043 - val_accuracy: 0.8750\n",
      "Epoch 162/200\n",
      "1/1 [==============================] - 0s 41ms/step - loss: 2.5967e-05 - accuracy: 1.0000 - val_loss: 1.8051 - val_accuracy: 0.8750\n",
      "Epoch 163/200\n",
      "1/1 [==============================] - 0s 43ms/step - loss: 2.5828e-05 - accuracy: 1.0000 - val_loss: 1.8059 - val_accuracy: 0.8750\n",
      "Epoch 164/200\n",
      "1/1 [==============================] - 0s 41ms/step - loss: 2.5692e-05 - accuracy: 1.0000 - val_loss: 1.8067 - val_accuracy: 0.8750\n",
      "Epoch 165/200\n",
      "1/1 [==============================] - 0s 42ms/step - loss: 2.5558e-05 - accuracy: 1.0000 - val_loss: 1.8075 - val_accuracy: 0.8750\n",
      "Epoch 166/200\n",
      "1/1 [==============================] - 0s 44ms/step - loss: 2.5423e-05 - accuracy: 1.0000 - val_loss: 1.8083 - val_accuracy: 0.8750\n",
      "Epoch 167/200\n",
      "1/1 [==============================] - 0s 42ms/step - loss: 2.5291e-05 - accuracy: 1.0000 - val_loss: 1.8091 - val_accuracy: 0.8750\n",
      "Epoch 168/200\n",
      "1/1 [==============================] - 0s 40ms/step - loss: 2.5159e-05 - accuracy: 1.0000 - val_loss: 1.8099 - val_accuracy: 0.8750\n",
      "Epoch 169/200\n",
      "1/1 [==============================] - 0s 42ms/step - loss: 2.5028e-05 - accuracy: 1.0000 - val_loss: 1.8106 - val_accuracy: 0.8750\n",
      "Epoch 170/200\n",
      "1/1 [==============================] - 0s 45ms/step - loss: 2.4896e-05 - accuracy: 1.0000 - val_loss: 1.8114 - val_accuracy: 0.8750\n",
      "Epoch 171/200\n"
     ]
    },
    {
     "name": "stdout",
     "output_type": "stream",
     "text": [
      "1/1 [==============================] - 0s 43ms/step - loss: 2.4765e-05 - accuracy: 1.0000 - val_loss: 1.8121 - val_accuracy: 0.8750\n",
      "Epoch 172/200\n",
      "1/1 [==============================] - 0s 45ms/step - loss: 2.4636e-05 - accuracy: 1.0000 - val_loss: 1.8129 - val_accuracy: 0.8750\n",
      "Epoch 173/200\n",
      "1/1 [==============================] - 0s 45ms/step - loss: 2.4507e-05 - accuracy: 1.0000 - val_loss: 1.8136 - val_accuracy: 0.8750\n",
      "Epoch 174/200\n",
      "1/1 [==============================] - 0s 43ms/step - loss: 2.4379e-05 - accuracy: 1.0000 - val_loss: 1.8143 - val_accuracy: 0.8750\n",
      "Epoch 175/200\n",
      "1/1 [==============================] - 0s 42ms/step - loss: 2.4251e-05 - accuracy: 1.0000 - val_loss: 1.8150 - val_accuracy: 0.8750\n",
      "Epoch 176/200\n",
      "1/1 [==============================] - 0s 45ms/step - loss: 2.4122e-05 - accuracy: 1.0000 - val_loss: 1.8157 - val_accuracy: 0.8750\n",
      "Epoch 177/200\n",
      "1/1 [==============================] - 0s 43ms/step - loss: 2.3994e-05 - accuracy: 1.0000 - val_loss: 1.8164 - val_accuracy: 0.8750\n",
      "Epoch 178/200\n",
      "1/1 [==============================] - 0s 42ms/step - loss: 2.3866e-05 - accuracy: 1.0000 - val_loss: 1.8172 - val_accuracy: 0.8750\n",
      "Epoch 179/200\n",
      "1/1 [==============================] - 0s 42ms/step - loss: 2.3738e-05 - accuracy: 1.0000 - val_loss: 1.8180 - val_accuracy: 0.8750\n",
      "Epoch 180/200\n",
      "1/1 [==============================] - 0s 42ms/step - loss: 2.3612e-05 - accuracy: 1.0000 - val_loss: 1.8187 - val_accuracy: 0.8750\n",
      "Epoch 181/200\n",
      "1/1 [==============================] - 0s 44ms/step - loss: 2.3486e-05 - accuracy: 1.0000 - val_loss: 1.8195 - val_accuracy: 0.8750\n",
      "Epoch 182/200\n",
      "1/1 [==============================] - 0s 45ms/step - loss: 2.3359e-05 - accuracy: 1.0000 - val_loss: 1.8203 - val_accuracy: 0.8750\n",
      "Epoch 183/200\n",
      "1/1 [==============================] - 0s 47ms/step - loss: 2.3233e-05 - accuracy: 1.0000 - val_loss: 1.8211 - val_accuracy: 0.8750\n",
      "Epoch 184/200\n",
      "1/1 [==============================] - 0s 45ms/step - loss: 2.3108e-05 - accuracy: 1.0000 - val_loss: 1.8219 - val_accuracy: 0.8750\n",
      "Epoch 185/200\n",
      "1/1 [==============================] - 0s 42ms/step - loss: 2.2983e-05 - accuracy: 1.0000 - val_loss: 1.8227 - val_accuracy: 0.8750\n",
      "Epoch 186/200\n",
      "1/1 [==============================] - 0s 42ms/step - loss: 2.2859e-05 - accuracy: 1.0000 - val_loss: 1.8235 - val_accuracy: 0.8750\n",
      "Epoch 187/200\n",
      "1/1 [==============================] - 0s 40ms/step - loss: 2.2735e-05 - accuracy: 1.0000 - val_loss: 1.8243 - val_accuracy: 0.8750\n",
      "Epoch 188/200\n",
      "1/1 [==============================] - 0s 43ms/step - loss: 2.2610e-05 - accuracy: 1.0000 - val_loss: 1.8252 - val_accuracy: 0.8750\n",
      "Epoch 189/200\n",
      "1/1 [==============================] - 0s 43ms/step - loss: 2.2486e-05 - accuracy: 1.0000 - val_loss: 1.8260 - val_accuracy: 0.8750\n",
      "Epoch 190/200\n",
      "1/1 [==============================] - 0s 42ms/step - loss: 2.2363e-05 - accuracy: 1.0000 - val_loss: 1.8269 - val_accuracy: 0.8750\n",
      "Epoch 191/200\n",
      "1/1 [==============================] - 0s 45ms/step - loss: 2.2239e-05 - accuracy: 1.0000 - val_loss: 1.8278 - val_accuracy: 0.8750\n",
      "Epoch 192/200\n",
      "1/1 [==============================] - 0s 43ms/step - loss: 2.2117e-05 - accuracy: 1.0000 - val_loss: 1.8286 - val_accuracy: 0.8750\n",
      "Epoch 193/200\n",
      "1/1 [==============================] - 0s 41ms/step - loss: 2.1995e-05 - accuracy: 1.0000 - val_loss: 1.8295 - val_accuracy: 0.8750\n",
      "Epoch 194/200\n",
      "1/1 [==============================] - 0s 42ms/step - loss: 2.1874e-05 - accuracy: 1.0000 - val_loss: 1.8303 - val_accuracy: 0.8750\n",
      "Epoch 195/200\n",
      "1/1 [==============================] - 0s 43ms/step - loss: 2.1753e-05 - accuracy: 1.0000 - val_loss: 1.8312 - val_accuracy: 0.8750\n",
      "Epoch 196/200\n",
      "1/1 [==============================] - 0s 42ms/step - loss: 2.1634e-05 - accuracy: 1.0000 - val_loss: 1.8321 - val_accuracy: 0.8750\n",
      "Epoch 197/200\n",
      "1/1 [==============================] - 0s 43ms/step - loss: 2.1514e-05 - accuracy: 1.0000 - val_loss: 1.8329 - val_accuracy: 0.8750\n",
      "Epoch 198/200\n",
      "1/1 [==============================] - 0s 43ms/step - loss: 2.1396e-05 - accuracy: 1.0000 - val_loss: 1.8338 - val_accuracy: 0.8750\n",
      "Epoch 199/200\n",
      "1/1 [==============================] - 0s 42ms/step - loss: 2.1279e-05 - accuracy: 1.0000 - val_loss: 1.8346 - val_accuracy: 0.8750\n",
      "Epoch 200/200\n",
      "1/1 [==============================] - 0s 43ms/step - loss: 2.1161e-05 - accuracy: 1.0000 - val_loss: 1.8354 - val_accuracy: 0.8750\n"
     ]
    }
   ],
   "source": [
    "model_2 = Sequential([\n",
    "    Dense(1000, activation='relu', input_shape=(9,)),\n",
    "    Dense(1000, activation='relu'),\n",
    "    Dense(1000, activation='relu'),\n",
    "    Dense(1000, activation='relu'),\n",
    "    Dense(2, activation='softmax'),\n",
    "])\n",
    "model_2.compile(optimizer='adam',\n",
    "              loss='binary_crossentropy',\n",
    "              metrics=['accuracy'])\n",
    "hist_2 = model_2.fit(X_train, y_traindm,\n",
    "          batch_size=31, epochs=200,\n",
    "          validation_data=(X_val, y_valdm))"
   ]
  },
  {
   "cell_type": "markdown",
   "metadata": {},
   "source": [
    "## Visualize to see what overfitting looks like in terms of the loss and accuracy."
   ]
  },
  {
   "cell_type": "code",
   "execution_count": 49,
   "metadata": {},
   "outputs": [
    {
     "data": {
      "image/png": "[encoded data removed]",
      "text/plain": [
       "<Figure size 460.8x316.8 with 1 Axes>"
      ]
     },
     "metadata": {
      "needs_background": "light"
     },
     "output_type": "display_data"
    }
   ],
   "source": [
    "plt.plot(hist_2.history['loss'])\n",
    "plt.plot(hist_2.history['val_loss'])\n",
    "plt.title('Model loss')\n",
    "plt.ylabel('Loss')\n",
    "plt.xlabel('Epoch')\n",
    "plt.legend(['Train', 'Val'], loc='upper right')\n",
    "plt.show()"
   ]
  },
  {
   "cell_type": "markdown",
   "metadata": {},
   "source": [
    "**Overfitting is represented by an increase in loss in the validation set after the 20th epoch.**"
   ]
  },
  {
   "cell_type": "code",
   "execution_count": 50,
   "metadata": {},
   "outputs": [
    {
     "data": {
      "image/png": "[encoded data removed]",
      "text/plain": [
       "<Figure size 460.8x316.8 with 1 Axes>"
      ]
     },
     "metadata": {
      "needs_background": "light"
     },
     "output_type": "display_data"
    }
   ],
   "source": [
    "plt.plot(hist_2.history['accuracy'])\n",
    "plt.plot(hist_2.history['val_accuracy'])\n",
    "plt.title('Model accuracy')\n",
    "plt.ylabel('Accuracy')\n",
    "plt.xlabel('Epoch')\n",
    "plt.legend(['Train', 'Val'], loc='lower right')\n",
    "plt.show()"
   ]
  },
  {
   "cell_type": "markdown",
   "metadata": {},
   "source": [
    "**Test Accuracy**"
   ]
  },
  {
   "cell_type": "code",
   "execution_count": 51,
   "metadata": {},
   "outputs": [
    {
     "name": "stdout",
     "output_type": "stream",
     "text": [
      "1/1 [==============================] - 0s 13ms/step - loss: 2.7769 - accuracy: 0.8667\n"
     ]
    },
    {
     "data": {
      "text/plain": [
       "0.8666666746139526"
      ]
     },
     "execution_count": 51,
     "metadata": {},
     "output_type": "execute_result"
    }
   ],
   "source": [
    "model_2.evaluate(X_test, y_testdm)[1]"
   ]
  },
  {
   "cell_type": "markdown",
   "metadata": {},
   "source": [
    "## Incorporate Regularization and Dropout into the Third Model"
   ]
  },
  {
   "cell_type": "markdown",
   "metadata": {},
   "source": [
    "**To address the overfitting we see in Model 2, we'll incorporate L2 regularization and dropout in our third model here (Model 3). Input shape is how many variables (9) and Dense is number of y values (2).**"
   ]
  },
  {
   "cell_type": "code",
   "execution_count": 52,
   "metadata": {},
   "outputs": [],
   "source": [
    "from tensorflow.keras.layers import Dropout\n",
    "from tensorflow.keras import regularizers"
   ]
  },
  {
   "cell_type": "code",
   "execution_count": 53,
   "metadata": {},
   "outputs": [],
   "source": [
    "VIANN = VarImpVIANN(verbose=1)\n",
    "model_3 = Sequential([\n",
    "    Dense(1000, activation='relu', kernel_regularizer=regularizers.l2(0.01), input_shape=(9,)),\n",
    "    Dropout(0.2),\n",
    "    Dense(750, activation='relu', kernel_regularizer=regularizers.l2(0.01)),\n",
    "    Dropout(0.2),\n",
    "    Dense(500, activation='relu', kernel_regularizer=regularizers.l2(0.01)),\n",
    "    Dropout(0.2),\n",
    "    Dense(250, activation='relu', kernel_regularizer=regularizers.l2(0.01)),\n",
    "    Dropout(0.2),\n",
    "    Dense(2, activation='sigmoid', kernel_regularizer=regularizers.l2(0.01)),\n",
    "])"
   ]
  },
  {
   "cell_type": "code",
   "execution_count": 73,
   "metadata": {},
   "outputs": [],
   "source": [
    "VIANN = VarImpVIANN(verbose=1)\n",
    "model_3 = Sequential([\n",
    "    Dense(1000, activation='relu', kernel_regularizer=regularizers.l2(0.01), input_shape=(9,)),\n",
    "    Dropout(0.2),\n",
    "    Dense(750, activation='relu', kernel_regularizer=regularizers.l2(0.01)),\n",
    "    Dropout(0.2),\n",
    "    Dense(500, activation='relu', kernel_regularizer=regularizers.l2(0.01)),\n",
    "    Dropout(0.2),\n",
    "    Dense(250, activation='relu', kernel_regularizer=regularizers.l2(0.01)),\n",
    "    Dropout(0.2),\n",
    "    Dense(100, activation='relu', kernel_regularizer=regularizers.l2(0.01)),\n",
    "    Dropout(0.2),\n",
    "    Dense(2, activation='sigmoid', kernel_regularizer=regularizers.l2(0.01)),\n",
    "])"
   ]
  },
  {
   "cell_type": "code",
   "execution_count": 74,
   "metadata": {
    "scrolled": true
   },
   "outputs": [
    {
     "name": "stdout",
     "output_type": "stream",
     "text": [
      "VIANN version 1.0 (Wellford + Mean) update per epoch\n",
      "Epoch 1/200\n",
      "1/1 [==============================] - 1s 843ms/step - loss: 20.2319 - accuracy: 0.3226 - val_loss: 19.4701 - val_accuracy: 0.6250\n",
      "Epoch 2/200\n",
      "1/1 [==============================] - 0s 52ms/step - loss: 19.4645 - accuracy: 0.6452 - val_loss: 18.7797 - val_accuracy: 0.6250\n",
      "Epoch 3/200\n",
      "1/1 [==============================] - 0s 40ms/step - loss: 18.7819 - accuracy: 0.6452 - val_loss: 18.1015 - val_accuracy: 0.6250\n",
      "Epoch 4/200\n",
      "1/1 [==============================] - 0s 39ms/step - loss: 18.0399 - accuracy: 0.6774 - val_loss: 17.4359 - val_accuracy: 0.6250\n",
      "Epoch 5/200\n",
      "1/1 [==============================] - 0s 38ms/step - loss: 17.3545 - accuracy: 0.6452 - val_loss: 16.7917 - val_accuracy: 0.6250\n",
      "Epoch 6/200\n",
      "1/1 [==============================] - 0s 40ms/step - loss: 16.6849 - accuracy: 0.7097 - val_loss: 16.1762 - val_accuracy: 0.6875\n",
      "Epoch 7/200\n",
      "1/1 [==============================] - 0s 39ms/step - loss: 16.0582 - accuracy: 0.7419 - val_loss: 15.5838 - val_accuracy: 0.6250\n",
      "Epoch 8/200\n",
      "1/1 [==============================] - 0s 40ms/step - loss: 15.4297 - accuracy: 0.7419 - val_loss: 15.0061 - val_accuracy: 0.6250\n",
      "Epoch 9/200\n",
      "1/1 [==============================] - 0s 39ms/step - loss: 14.8076 - accuracy: 0.8065 - val_loss: 14.4545 - val_accuracy: 0.3750\n",
      "Epoch 10/200\n",
      "1/1 [==============================] - 0s 39ms/step - loss: 14.1676 - accuracy: 0.7419 - val_loss: 13.9235 - val_accuracy: 0.3750\n",
      "Epoch 11/200\n",
      "1/1 [==============================] - 0s 40ms/step - loss: 13.6411 - accuracy: 0.8065 - val_loss: 13.4115 - val_accuracy: 0.6250\n",
      "Epoch 12/200\n",
      "1/1 [==============================] - 0s 40ms/step - loss: 13.0675 - accuracy: 0.8065 - val_loss: 12.9131 - val_accuracy: 0.6250\n",
      "Epoch 13/200\n",
      "1/1 [==============================] - 0s 41ms/step - loss: 12.5677 - accuracy: 0.8065 - val_loss: 12.4536 - val_accuracy: 0.3750\n",
      "Epoch 14/200\n",
      "1/1 [==============================] - 0s 39ms/step - loss: 12.0310 - accuracy: 0.8065 - val_loss: 11.9817 - val_accuracy: 0.5625\n",
      "Epoch 15/200\n",
      "1/1 [==============================] - 0s 39ms/step - loss: 11.6048 - accuracy: 0.8065 - val_loss: 11.4990 - val_accuracy: 0.6250\n",
      "Epoch 16/200\n",
      "1/1 [==============================] - 0s 39ms/step - loss: 11.0848 - accuracy: 0.8387 - val_loss: 11.0397 - val_accuracy: 0.6250\n",
      "Epoch 17/200\n",
      "1/1 [==============================] - 0s 41ms/step - loss: 10.6979 - accuracy: 0.7742 - val_loss: 10.6256 - val_accuracy: 0.6250\n",
      "Epoch 18/200\n",
      "1/1 [==============================] - 0s 40ms/step - loss: 10.2433 - accuracy: 0.8710 - val_loss: 10.2541 - val_accuracy: 0.5625\n",
      "Epoch 19/200\n",
      "1/1 [==============================] - 0s 41ms/step - loss: 9.8498 - accuracy: 0.8065 - val_loss: 9.8114 - val_accuracy: 0.6250\n",
      "Epoch 20/200\n",
      "1/1 [==============================] - 0s 41ms/step - loss: 9.3591 - accuracy: 0.8387 - val_loss: 9.3675 - val_accuracy: 0.6250\n",
      "Epoch 21/200\n",
      "1/1 [==============================] - 0s 41ms/step - loss: 9.0147 - accuracy: 0.9032 - val_loss: 8.9724 - val_accuracy: 0.7500\n",
      "Epoch 22/200\n",
      "1/1 [==============================] - 0s 38ms/step - loss: 8.6938 - accuracy: 0.7742 - val_loss: 8.6058 - val_accuracy: 0.7500\n",
      "Epoch 23/200\n",
      "1/1 [==============================] - 0s 42ms/step - loss: 8.2716 - accuracy: 0.8065 - val_loss: 8.2664 - val_accuracy: 0.6875\n",
      "Epoch 24/200\n",
      "1/1 [==============================] - 0s 40ms/step - loss: 7.9346 - accuracy: 0.8387 - val_loss: 7.9635 - val_accuracy: 0.6250\n",
      "Epoch 25/200\n",
      "1/1 [==============================] - 0s 40ms/step - loss: 7.6150 - accuracy: 0.8710 - val_loss: 7.6435 - val_accuracy: 0.6250\n",
      "Epoch 26/200\n",
      "1/1 [==============================] - 0s 39ms/step - loss: 7.3428 - accuracy: 0.8387 - val_loss: 7.3259 - val_accuracy: 0.7500\n",
      "Epoch 27/200\n",
      "1/1 [==============================] - 0s 40ms/step - loss: 7.0288 - accuracy: 0.8710 - val_loss: 7.0346 - val_accuracy: 0.7500\n",
      "Epoch 28/200\n",
      "1/1 [==============================] - 0s 41ms/step - loss: 6.7408 - accuracy: 0.9032 - val_loss: 6.7624 - val_accuracy: 0.7500\n",
      "Epoch 29/200\n",
      "1/1 [==============================] - 0s 41ms/step - loss: 6.4558 - accuracy: 0.8710 - val_loss: 6.5132 - val_accuracy: 0.7500\n",
      "Epoch 30/200\n",
      "1/1 [==============================] - 0s 40ms/step - loss: 6.1501 - accuracy: 0.8710 - val_loss: 6.2673 - val_accuracy: 0.7500\n",
      "Epoch 31/200\n",
      "1/1 [==============================] - 0s 39ms/step - loss: 5.9940 - accuracy: 0.8387 - val_loss: 6.0384 - val_accuracy: 0.7500\n",
      "Epoch 32/200\n",
      "1/1 [==============================] - 0s 39ms/step - loss: 5.6864 - accuracy: 0.9355 - val_loss: 5.8263 - val_accuracy: 0.7500\n",
      "Epoch 33/200\n",
      "1/1 [==============================] - 0s 39ms/step - loss: 5.4646 - accuracy: 0.8387 - val_loss: 5.6263 - val_accuracy: 0.6250\n",
      "Epoch 34/200\n",
      "1/1 [==============================] - 0s 40ms/step - loss: 5.2517 - accuracy: 0.8387 - val_loss: 5.4152 - val_accuracy: 0.6875\n",
      "Epoch 35/200\n",
      "1/1 [==============================] - 0s 39ms/step - loss: 5.0527 - accuracy: 0.8387 - val_loss: 5.2088 - val_accuracy: 0.7500\n",
      "Epoch 36/200\n",
      "1/1 [==============================] - 0s 41ms/step - loss: 4.8717 - accuracy: 0.8710 - val_loss: 4.9999 - val_accuracy: 0.7500\n",
      "Epoch 37/200\n",
      "1/1 [==============================] - 0s 42ms/step - loss: 4.6235 - accuracy: 0.8710 - val_loss: 4.8141 - val_accuracy: 0.6875\n",
      "Epoch 38/200\n",
      "1/1 [==============================] - 0s 42ms/step - loss: 4.4238 - accuracy: 0.9677 - val_loss: 4.6407 - val_accuracy: 0.7500\n",
      "Epoch 39/200\n",
      "1/1 [==============================] - 0s 42ms/step - loss: 4.3085 - accuracy: 0.8710 - val_loss: 4.5012 - val_accuracy: 0.7500\n",
      "Epoch 40/200\n",
      "1/1 [==============================] - 0s 42ms/step - loss: 4.1469 - accuracy: 0.8710 - val_loss: 4.3561 - val_accuracy: 0.6250\n",
      "Epoch 41/200\n",
      "1/1 [==============================] - 0s 42ms/step - loss: 3.9303 - accuracy: 0.9032 - val_loss: 4.1930 - val_accuracy: 0.6875\n",
      "Epoch 42/200\n",
      "1/1 [==============================] - 0s 42ms/step - loss: 3.8277 - accuracy: 0.8710 - val_loss: 4.0214 - val_accuracy: 0.7500\n",
      "Epoch 43/200\n",
      "1/1 [==============================] - 0s 42ms/step - loss: 3.6885 - accuracy: 0.8710 - val_loss: 3.8833 - val_accuracy: 0.6875\n",
      "Epoch 44/200\n",
      "1/1 [==============================] - 0s 42ms/step - loss: 3.5737 - accuracy: 0.8710 - val_loss: 3.7468 - val_accuracy: 0.6875\n",
      "Epoch 45/200\n",
      "1/1 [==============================] - 0s 38ms/step - loss: 3.3705 - accuracy: 0.8710 - val_loss: 3.6243 - val_accuracy: 0.7500\n",
      "Epoch 46/200\n",
      "1/1 [==============================] - 0s 40ms/step - loss: 3.2817 - accuracy: 0.9032 - val_loss: 3.5180 - val_accuracy: 0.7500\n",
      "Epoch 47/200\n",
      "1/1 [==============================] - 0s 39ms/step - loss: 3.1124 - accuracy: 0.9032 - val_loss: 3.4113 - val_accuracy: 0.7500\n",
      "Epoch 48/200\n",
      "1/1 [==============================] - 0s 39ms/step - loss: 3.0422 - accuracy: 0.8710 - val_loss: 3.3030 - val_accuracy: 0.7500\n",
      "Epoch 49/200\n",
      "1/1 [==============================] - 0s 40ms/step - loss: 2.9577 - accuracy: 0.8710 - val_loss: 3.2020 - val_accuracy: 0.7500\n",
      "Epoch 50/200\n",
      "1/1 [==============================] - 0s 39ms/step - loss: 2.7787 - accuracy: 0.9355 - val_loss: 3.1063 - val_accuracy: 0.7500\n",
      "Epoch 51/200\n",
      "1/1 [==============================] - 0s 39ms/step - loss: 2.7312 - accuracy: 0.9032 - val_loss: 3.0443 - val_accuracy: 0.7500\n",
      "Epoch 52/200\n",
      "1/1 [==============================] - 0s 39ms/step - loss: 2.6274 - accuracy: 0.9355 - val_loss: 2.9832 - val_accuracy: 0.7500\n",
      "Epoch 53/200\n",
      "1/1 [==============================] - 0s 41ms/step - loss: 2.5389 - accuracy: 0.8710 - val_loss: 2.8736 - val_accuracy: 0.7500\n",
      "Epoch 54/200\n",
      "1/1 [==============================] - 0s 39ms/step - loss: 2.4862 - accuracy: 0.9032 - val_loss: 2.7603 - val_accuracy: 0.7500\n",
      "Epoch 55/200\n",
      "1/1 [==============================] - 0s 42ms/step - loss: 2.3343 - accuracy: 0.9355 - val_loss: 2.6813 - val_accuracy: 0.7500\n",
      "Epoch 56/200\n",
      "1/1 [==============================] - 0s 41ms/step - loss: 2.3585 - accuracy: 0.8065 - val_loss: 2.6451 - val_accuracy: 0.7500\n",
      "Epoch 57/200\n",
      "1/1 [==============================] - 0s 39ms/step - loss: 2.1799 - accuracy: 0.9355 - val_loss: 2.6856 - val_accuracy: 0.6250\n",
      "Epoch 58/200\n",
      "1/1 [==============================] - 0s 39ms/step - loss: 2.1969 - accuracy: 0.8387 - val_loss: 2.5842 - val_accuracy: 0.6875\n",
      "Epoch 59/200\n",
      "1/1 [==============================] - 0s 39ms/step - loss: 2.1033 - accuracy: 0.9032 - val_loss: 2.4395 - val_accuracy: 0.7500\n",
      "Epoch 60/200\n",
      "1/1 [==============================] - 0s 40ms/step - loss: 1.9709 - accuracy: 0.9355 - val_loss: 2.3375 - val_accuracy: 0.6875\n",
      "Epoch 61/200\n",
      "1/1 [==============================] - 0s 39ms/step - loss: 1.9659 - accuracy: 0.9032 - val_loss: 2.2843 - val_accuracy: 0.7500\n",
      "Epoch 62/200\n",
      "1/1 [==============================] - 0s 40ms/step - loss: 1.8941 - accuracy: 0.9355 - val_loss: 2.2479 - val_accuracy: 0.7500\n",
      "Epoch 63/200\n",
      "1/1 [==============================] - 0s 39ms/step - loss: 1.8178 - accuracy: 0.9355 - val_loss: 2.2648 - val_accuracy: 0.6875\n",
      "Epoch 64/200\n",
      "1/1 [==============================] - 0s 40ms/step - loss: 1.8530 - accuracy: 0.8710 - val_loss: 2.1705 - val_accuracy: 0.7500\n",
      "Epoch 65/200\n",
      "1/1 [==============================] - 0s 40ms/step - loss: 1.7368 - accuracy: 0.9355 - val_loss: 2.0792 - val_accuracy: 0.7500\n",
      "Epoch 66/200\n",
      "1/1 [==============================] - 0s 39ms/step - loss: 1.7105 - accuracy: 0.9355 - val_loss: 2.0330 - val_accuracy: 0.7500\n",
      "Epoch 67/200\n",
      "1/1 [==============================] - 0s 39ms/step - loss: 1.6497 - accuracy: 0.8710 - val_loss: 1.9972 - val_accuracy: 0.7500\n",
      "Epoch 68/200\n",
      "1/1 [==============================] - 0s 40ms/step - loss: 1.5910 - accuracy: 0.9355 - val_loss: 1.9994 - val_accuracy: 0.7500\n",
      "Epoch 69/200\n",
      "1/1 [==============================] - 0s 42ms/step - loss: 1.5157 - accuracy: 0.9355 - val_loss: 1.9310 - val_accuracy: 0.7500\n",
      "Epoch 70/200\n",
      "1/1 [==============================] - 0s 43ms/step - loss: 1.5673 - accuracy: 0.8710 - val_loss: 1.8663 - val_accuracy: 0.7500\n",
      "Epoch 71/200\n",
      "1/1 [==============================] - 0s 40ms/step - loss: 1.5318 - accuracy: 0.9032 - val_loss: 1.8296 - val_accuracy: 0.8125\n",
      "Epoch 72/200\n",
      "1/1 [==============================] - 0s 40ms/step - loss: 1.4514 - accuracy: 0.9677 - val_loss: 1.8000 - val_accuracy: 0.7500\n",
      "Epoch 73/200\n",
      "1/1 [==============================] - 0s 41ms/step - loss: 1.4224 - accuracy: 0.9355 - val_loss: 1.7582 - val_accuracy: 0.8125\n",
      "Epoch 74/200\n",
      "1/1 [==============================] - 0s 39ms/step - loss: 1.3924 - accuracy: 0.9355 - val_loss: 1.6996 - val_accuracy: 0.7500\n",
      "Epoch 75/200\n",
      "1/1 [==============================] - 0s 40ms/step - loss: 1.3493 - accuracy: 0.9355 - val_loss: 1.6671 - val_accuracy: 0.7500\n",
      "Epoch 76/200\n",
      "1/1 [==============================] - 0s 40ms/step - loss: 1.3219 - accuracy: 0.9355 - val_loss: 1.6627 - val_accuracy: 0.7500\n",
      "Epoch 77/200\n",
      "1/1 [==============================] - 0s 39ms/step - loss: 1.2867 - accuracy: 0.9355 - val_loss: 1.6711 - val_accuracy: 0.6875\n",
      "Epoch 78/200\n",
      "1/1 [==============================] - 0s 39ms/step - loss: 1.3164 - accuracy: 0.8387 - val_loss: 1.5714 - val_accuracy: 0.8125\n",
      "Epoch 79/200\n",
      "1/1 [==============================] - 0s 42ms/step - loss: 1.2092 - accuracy: 0.9355 - val_loss: 1.5376 - val_accuracy: 0.8125\n",
      "Epoch 80/200\n",
      "1/1 [==============================] - 0s 43ms/step - loss: 1.2244 - accuracy: 0.9032 - val_loss: 1.5003 - val_accuracy: 0.7500\n",
      "Epoch 81/200\n",
      "1/1 [==============================] - 0s 42ms/step - loss: 1.1358 - accuracy: 0.9677 - val_loss: 1.5142 - val_accuracy: 0.8125\n",
      "Epoch 82/200\n",
      "1/1 [==============================] - 0s 43ms/step - loss: 1.1274 - accuracy: 0.9032 - val_loss: 1.5089 - val_accuracy: 0.7500\n",
      "Epoch 83/200\n",
      "1/1 [==============================] - 0s 43ms/step - loss: 1.0992 - accuracy: 0.9677 - val_loss: 1.4575 - val_accuracy: 0.8125\n",
      "Epoch 84/200\n",
      "1/1 [==============================] - 0s 42ms/step - loss: 1.0670 - accuracy: 0.9355 - val_loss: 1.4291 - val_accuracy: 0.8125\n",
      "Epoch 85/200\n",
      "1/1 [==============================] - 0s 42ms/step - loss: 1.1254 - accuracy: 0.9032 - val_loss: 1.4376 - val_accuracy: 0.8125\n",
      "Epoch 86/200\n",
      "1/1 [==============================] - 0s 41ms/step - loss: 1.0317 - accuracy: 0.9677 - val_loss: 1.4075 - val_accuracy: 0.8125\n",
      "Epoch 87/200\n",
      "1/1 [==============================] - 0s 42ms/step - loss: 1.0694 - accuracy: 0.9355 - val_loss: 1.3915 - val_accuracy: 0.8125\n",
      "Epoch 88/200\n",
      "1/1 [==============================] - 0s 44ms/step - loss: 1.0182 - accuracy: 0.9355 - val_loss: 1.3978 - val_accuracy: 0.7500\n",
      "Epoch 89/200\n",
      "1/1 [==============================] - 0s 42ms/step - loss: 1.0094 - accuracy: 0.9677 - val_loss: 1.3634 - val_accuracy: 0.8125\n",
      "Epoch 90/200\n",
      "1/1 [==============================] - 0s 42ms/step - loss: 0.9978 - accuracy: 0.9355 - val_loss: 1.3434 - val_accuracy: 0.8125\n",
      "Epoch 91/200\n",
      "1/1 [==============================] - 0s 45ms/step - loss: 1.0002 - accuracy: 0.9355 - val_loss: 1.3239 - val_accuracy: 0.8125\n",
      "Epoch 92/200\n",
      "1/1 [==============================] - 0s 42ms/step - loss: 1.0034 - accuracy: 0.9032 - val_loss: 1.2838 - val_accuracy: 0.8125\n",
      "Epoch 93/200\n",
      "1/1 [==============================] - 0s 42ms/step - loss: 0.9247 - accuracy: 0.9355 - val_loss: 1.3210 - val_accuracy: 0.7500\n",
      "Epoch 94/200\n",
      "1/1 [==============================] - 0s 39ms/step - loss: 0.9631 - accuracy: 0.9355 - val_loss: 1.2632 - val_accuracy: 0.7500\n",
      "Epoch 95/200\n",
      "1/1 [==============================] - 0s 40ms/step - loss: 0.9017 - accuracy: 0.9677 - val_loss: 1.2282 - val_accuracy: 0.8125\n",
      "Epoch 96/200\n",
      "1/1 [==============================] - 0s 41ms/step - loss: 0.8701 - accuracy: 0.9677 - val_loss: 1.2173 - val_accuracy: 0.8125\n",
      "Epoch 97/200\n",
      "1/1 [==============================] - 0s 39ms/step - loss: 0.8745 - accuracy: 0.9677 - val_loss: 1.1952 - val_accuracy: 0.8750\n",
      "Epoch 98/200\n",
      "1/1 [==============================] - 0s 40ms/step - loss: 0.8357 - accuracy: 0.9677 - val_loss: 1.1931 - val_accuracy: 0.8125\n",
      "Epoch 99/200\n",
      "1/1 [==============================] - 0s 40ms/step - loss: 0.8252 - accuracy: 0.9677 - val_loss: 1.1913 - val_accuracy: 0.7500\n",
      "Epoch 100/200\n",
      "1/1 [==============================] - 0s 38ms/step - loss: 0.8641 - accuracy: 0.9032 - val_loss: 1.1632 - val_accuracy: 0.8750\n",
      "Epoch 101/200\n",
      "1/1 [==============================] - 0s 39ms/step - loss: 0.8368 - accuracy: 0.9355 - val_loss: 1.2802 - val_accuracy: 0.7500\n",
      "Epoch 102/200\n",
      "1/1 [==============================] - 0s 40ms/step - loss: 0.9043 - accuracy: 0.9355 - val_loss: 1.1532 - val_accuracy: 0.8125\n",
      "Epoch 103/200\n",
      "1/1 [==============================] - 0s 41ms/step - loss: 0.8379 - accuracy: 0.9032 - val_loss: 1.2803 - val_accuracy: 0.6875\n",
      "Epoch 104/200\n",
      "1/1 [==============================] - 0s 39ms/step - loss: 0.8354 - accuracy: 0.8710 - val_loss: 1.3291 - val_accuracy: 0.6875\n",
      "Epoch 105/200\n",
      "1/1 [==============================] - 0s 40ms/step - loss: 0.8967 - accuracy: 0.8387 - val_loss: 1.1099 - val_accuracy: 0.8750\n",
      "Epoch 106/200\n",
      "1/1 [==============================] - 0s 39ms/step - loss: 0.7376 - accuracy: 0.9677 - val_loss: 1.2244 - val_accuracy: 0.7500\n",
      "Epoch 107/200\n",
      "1/1 [==============================] - 0s 41ms/step - loss: 0.8622 - accuracy: 0.8710 - val_loss: 1.2084 - val_accuracy: 0.7500\n",
      "Epoch 108/200\n",
      "1/1 [==============================] - 0s 39ms/step - loss: 0.8208 - accuracy: 0.9032 - val_loss: 1.0823 - val_accuracy: 0.8750\n",
      "Epoch 109/200\n",
      "1/1 [==============================] - 0s 41ms/step - loss: 0.7368 - accuracy: 0.9677 - val_loss: 1.1139 - val_accuracy: 0.7500\n",
      "Epoch 110/200\n",
      "1/1 [==============================] - 0s 39ms/step - loss: 0.7708 - accuracy: 0.9355 - val_loss: 1.1528 - val_accuracy: 0.7500\n",
      "Epoch 111/200\n",
      "1/1 [==============================] - 0s 40ms/step - loss: 0.7739 - accuracy: 0.9032 - val_loss: 1.0768 - val_accuracy: 0.7500\n",
      "Epoch 112/200\n",
      "1/1 [==============================] - 0s 40ms/step - loss: 0.7118 - accuracy: 0.9355 - val_loss: 1.0511 - val_accuracy: 0.8125\n",
      "Epoch 113/200\n",
      "1/1 [==============================] - 0s 40ms/step - loss: 0.7608 - accuracy: 0.9032 - val_loss: 1.0791 - val_accuracy: 0.8125\n",
      "Epoch 114/200\n",
      "1/1 [==============================] - 0s 39ms/step - loss: 0.7414 - accuracy: 0.9032 - val_loss: 1.0496 - val_accuracy: 0.8125\n",
      "Epoch 115/200\n",
      "1/1 [==============================] - 0s 40ms/step - loss: 0.7330 - accuracy: 0.9677 - val_loss: 1.0348 - val_accuracy: 0.8750\n",
      "Epoch 116/200\n"
     ]
    },
    {
     "name": "stdout",
     "output_type": "stream",
     "text": [
      "1/1 [==============================] - 0s 40ms/step - loss: 0.7126 - accuracy: 0.9677 - val_loss: 1.0473 - val_accuracy: 0.7500\n",
      "Epoch 117/200\n",
      "1/1 [==============================] - 0s 39ms/step - loss: 0.6917 - accuracy: 0.9677 - val_loss: 1.0470 - val_accuracy: 0.7500\n",
      "Epoch 118/200\n",
      "1/1 [==============================] - 0s 40ms/step - loss: 0.6508 - accuracy: 0.9677 - val_loss: 1.0313 - val_accuracy: 0.8750\n",
      "Epoch 119/200\n",
      "1/1 [==============================] - 0s 40ms/step - loss: 0.6814 - accuracy: 0.9355 - val_loss: 1.0533 - val_accuracy: 0.8125\n",
      "Epoch 120/200\n",
      "1/1 [==============================] - 0s 38ms/step - loss: 0.6776 - accuracy: 0.9677 - val_loss: 1.0754 - val_accuracy: 0.8125\n",
      "Epoch 121/200\n",
      "1/1 [==============================] - 0s 40ms/step - loss: 0.6460 - accuracy: 0.9355 - val_loss: 1.0384 - val_accuracy: 0.8125\n",
      "Epoch 122/200\n",
      "1/1 [==============================] - 0s 38ms/step - loss: 0.6152 - accuracy: 0.9677 - val_loss: 1.0289 - val_accuracy: 0.8750\n",
      "Epoch 123/200\n",
      "1/1 [==============================] - 0s 38ms/step - loss: 0.6863 - accuracy: 0.9355 - val_loss: 1.0795 - val_accuracy: 0.7500\n",
      "Epoch 124/200\n",
      "1/1 [==============================] - 0s 40ms/step - loss: 0.6602 - accuracy: 0.9355 - val_loss: 1.0695 - val_accuracy: 0.7500\n",
      "Epoch 125/200\n",
      "1/1 [==============================] - 0s 40ms/step - loss: 0.6433 - accuracy: 0.8710 - val_loss: 1.0085 - val_accuracy: 0.8750\n",
      "Epoch 126/200\n",
      "1/1 [==============================] - 0s 39ms/step - loss: 0.6379 - accuracy: 0.9677 - val_loss: 1.0351 - val_accuracy: 0.8125\n",
      "Epoch 127/200\n",
      "1/1 [==============================] - 0s 40ms/step - loss: 0.6113 - accuracy: 0.9355 - val_loss: 1.0285 - val_accuracy: 0.8125\n",
      "Epoch 128/200\n",
      "1/1 [==============================] - 0s 40ms/step - loss: 0.6410 - accuracy: 0.9677 - val_loss: 0.9921 - val_accuracy: 0.8125\n",
      "Epoch 129/200\n",
      "1/1 [==============================] - 0s 39ms/step - loss: 0.6021 - accuracy: 0.9677 - val_loss: 0.9722 - val_accuracy: 0.8750\n",
      "Epoch 130/200\n",
      "1/1 [==============================] - 0s 40ms/step - loss: 0.5896 - accuracy: 0.9677 - val_loss: 0.9807 - val_accuracy: 0.8125\n",
      "Epoch 131/200\n",
      "1/1 [==============================] - 0s 40ms/step - loss: 0.5940 - accuracy: 0.9355 - val_loss: 0.9616 - val_accuracy: 0.8125\n",
      "Epoch 132/200\n",
      "1/1 [==============================] - 0s 39ms/step - loss: 0.5860 - accuracy: 0.9677 - val_loss: 0.9402 - val_accuracy: 0.8750\n",
      "Epoch 133/200\n",
      "1/1 [==============================] - 0s 40ms/step - loss: 0.6076 - accuracy: 0.9677 - val_loss: 0.9542 - val_accuracy: 0.8125\n",
      "Epoch 134/200\n",
      "1/1 [==============================] - 0s 38ms/step - loss: 0.5852 - accuracy: 0.9677 - val_loss: 0.9453 - val_accuracy: 0.8125\n",
      "Epoch 135/200\n",
      "1/1 [==============================] - 0s 40ms/step - loss: 0.5815 - accuracy: 0.9677 - val_loss: 0.9191 - val_accuracy: 0.8750\n",
      "Epoch 136/200\n",
      "1/1 [==============================] - 0s 40ms/step - loss: 0.5873 - accuracy: 0.9677 - val_loss: 0.9377 - val_accuracy: 0.8125\n",
      "Epoch 137/200\n",
      "1/1 [==============================] - 0s 40ms/step - loss: 0.5724 - accuracy: 0.9677 - val_loss: 0.9460 - val_accuracy: 0.7500\n",
      "Epoch 138/200\n",
      "1/1 [==============================] - 0s 42ms/step - loss: 0.5792 - accuracy: 0.9355 - val_loss: 0.9141 - val_accuracy: 0.8125\n",
      "Epoch 139/200\n",
      "1/1 [==============================] - 0s 38ms/step - loss: 0.5844 - accuracy: 0.9677 - val_loss: 0.8992 - val_accuracy: 0.8750\n",
      "Epoch 140/200\n",
      "1/1 [==============================] - 0s 40ms/step - loss: 0.5828 - accuracy: 0.9032 - val_loss: 0.9016 - val_accuracy: 0.8750\n",
      "Epoch 141/200\n",
      "1/1 [==============================] - 0s 39ms/step - loss: 0.5980 - accuracy: 0.9355 - val_loss: 0.8954 - val_accuracy: 0.8750\n",
      "Epoch 142/200\n",
      "1/1 [==============================] - 0s 39ms/step - loss: 0.5224 - accuracy: 0.9677 - val_loss: 0.8892 - val_accuracy: 0.8750\n",
      "Epoch 143/200\n",
      "1/1 [==============================] - 0s 40ms/step - loss: 0.5326 - accuracy: 0.9677 - val_loss: 0.8881 - val_accuracy: 0.8750\n",
      "Epoch 144/200\n",
      "1/1 [==============================] - 0s 39ms/step - loss: 0.5591 - accuracy: 0.9355 - val_loss: 0.8851 - val_accuracy: 0.8750\n",
      "Epoch 145/200\n",
      "1/1 [==============================] - 0s 40ms/step - loss: 0.5325 - accuracy: 0.9677 - val_loss: 0.8867 - val_accuracy: 0.8750\n",
      "Epoch 146/200\n",
      "1/1 [==============================] - 0s 40ms/step - loss: 0.5504 - accuracy: 0.9677 - val_loss: 0.8780 - val_accuracy: 0.8750\n",
      "Epoch 147/200\n",
      "1/1 [==============================] - 0s 38ms/step - loss: 0.5559 - accuracy: 0.9355 - val_loss: 0.8758 - val_accuracy: 0.8750\n",
      "Epoch 148/200\n",
      "1/1 [==============================] - 0s 39ms/step - loss: 0.5361 - accuracy: 0.9677 - val_loss: 0.8698 - val_accuracy: 0.8750\n",
      "Epoch 149/200\n",
      "1/1 [==============================] - 0s 39ms/step - loss: 0.4998 - accuracy: 0.9677 - val_loss: 0.8676 - val_accuracy: 0.8750\n",
      "Epoch 150/200\n",
      "1/1 [==============================] - 0s 39ms/step - loss: 0.4949 - accuracy: 0.9677 - val_loss: 0.8698 - val_accuracy: 0.8750\n",
      "Epoch 151/200\n",
      "1/1 [==============================] - 0s 39ms/step - loss: 0.5128 - accuracy: 0.9677 - val_loss: 0.8721 - val_accuracy: 0.8750\n",
      "Epoch 152/200\n",
      "1/1 [==============================] - 0s 38ms/step - loss: 0.5022 - accuracy: 0.9677 - val_loss: 0.8743 - val_accuracy: 0.8750\n",
      "Epoch 153/200\n",
      "1/1 [==============================] - 0s 41ms/step - loss: 0.5548 - accuracy: 0.9677 - val_loss: 0.8761 - val_accuracy: 0.8125\n",
      "Epoch 154/200\n",
      "1/1 [==============================] - 0s 39ms/step - loss: 0.4978 - accuracy: 0.9677 - val_loss: 0.8660 - val_accuracy: 0.8750\n",
      "Epoch 155/200\n",
      "1/1 [==============================] - 0s 39ms/step - loss: 0.4982 - accuracy: 0.9677 - val_loss: 0.8534 - val_accuracy: 0.8750\n",
      "Epoch 156/200\n",
      "1/1 [==============================] - 0s 39ms/step - loss: 0.4887 - accuracy: 0.9677 - val_loss: 0.8510 - val_accuracy: 0.8750\n",
      "Epoch 157/200\n",
      "1/1 [==============================] - 0s 40ms/step - loss: 0.4926 - accuracy: 0.9677 - val_loss: 0.8520 - val_accuracy: 0.8750\n",
      "Epoch 158/200\n",
      "1/1 [==============================] - 0s 39ms/step - loss: 0.4962 - accuracy: 0.9677 - val_loss: 0.8538 - val_accuracy: 0.8750\n",
      "Epoch 159/200\n",
      "1/1 [==============================] - 0s 38ms/step - loss: 0.5342 - accuracy: 0.9355 - val_loss: 0.8480 - val_accuracy: 0.8750\n",
      "Epoch 160/200\n",
      "1/1 [==============================] - 0s 40ms/step - loss: 0.5217 - accuracy: 0.9677 - val_loss: 0.8440 - val_accuracy: 0.8750\n",
      "Epoch 161/200\n",
      "1/1 [==============================] - 0s 40ms/step - loss: 0.4974 - accuracy: 0.9677 - val_loss: 0.8386 - val_accuracy: 0.8750\n",
      "Epoch 162/200\n",
      "1/1 [==============================] - 0s 39ms/step - loss: 0.4960 - accuracy: 0.9677 - val_loss: 0.8341 - val_accuracy: 0.8750\n",
      "Epoch 163/200\n",
      "1/1 [==============================] - 0s 41ms/step - loss: 0.4977 - accuracy: 0.9677 - val_loss: 0.8252 - val_accuracy: 0.8750\n",
      "Epoch 164/200\n",
      "1/1 [==============================] - 0s 39ms/step - loss: 0.5180 - accuracy: 0.9677 - val_loss: 0.8231 - val_accuracy: 0.8750\n",
      "Epoch 165/200\n",
      "1/1 [==============================] - 0s 39ms/step - loss: 0.5226 - accuracy: 0.9677 - val_loss: 0.8058 - val_accuracy: 0.8750\n",
      "Epoch 166/200\n",
      "1/1 [==============================] - 0s 41ms/step - loss: 0.4821 - accuracy: 0.9677 - val_loss: 0.8071 - val_accuracy: 0.8750\n",
      "Epoch 167/200\n",
      "1/1 [==============================] - 0s 38ms/step - loss: 0.4822 - accuracy: 0.9355 - val_loss: 0.8000 - val_accuracy: 0.8750\n",
      "Epoch 168/200\n",
      "1/1 [==============================] - 0s 40ms/step - loss: 0.4832 - accuracy: 0.9677 - val_loss: 0.7857 - val_accuracy: 0.8750\n",
      "Epoch 169/200\n",
      "1/1 [==============================] - 0s 41ms/step - loss: 0.4623 - accuracy: 0.9677 - val_loss: 0.7907 - val_accuracy: 0.8750\n",
      "Epoch 170/200\n",
      "1/1 [==============================] - 0s 39ms/step - loss: 0.4839 - accuracy: 0.9677 - val_loss: 0.8047 - val_accuracy: 0.8125\n",
      "Epoch 171/200\n",
      "1/1 [==============================] - 0s 40ms/step - loss: 0.4811 - accuracy: 0.9677 - val_loss: 0.7944 - val_accuracy: 0.8750\n",
      "Epoch 172/200\n",
      "1/1 [==============================] - 0s 39ms/step - loss: 0.4910 - accuracy: 0.9355 - val_loss: 0.7910 - val_accuracy: 0.8750\n",
      "Epoch 173/200\n",
      "1/1 [==============================] - 0s 39ms/step - loss: 0.4767 - accuracy: 0.9677 - val_loss: 0.7920 - val_accuracy: 0.8750\n"
     ]
    },
    {
     "name": "stdout",
     "output_type": "stream",
     "text": [
      "Epoch 174/200\n",
      "1/1 [==============================] - 0s 41ms/step - loss: 0.4529 - accuracy: 0.9677 - val_loss: 0.7922 - val_accuracy: 0.8750\n",
      "Epoch 175/200\n",
      "1/1 [==============================] - 0s 39ms/step - loss: 0.4403 - accuracy: 0.9677 - val_loss: 0.7993 - val_accuracy: 0.8750\n",
      "Epoch 176/200\n",
      "1/1 [==============================] - 0s 40ms/step - loss: 0.4620 - accuracy: 0.9677 - val_loss: 0.8093 - val_accuracy: 0.8750\n",
      "Epoch 177/200\n",
      "1/1 [==============================] - 0s 39ms/step - loss: 0.4456 - accuracy: 0.9677 - val_loss: 0.8116 - val_accuracy: 0.8750\n",
      "Epoch 178/200\n",
      "1/1 [==============================] - 0s 39ms/step - loss: 0.4497 - accuracy: 0.9677 - val_loss: 0.8039 - val_accuracy: 0.8750\n",
      "Epoch 179/200\n",
      "1/1 [==============================] - 0s 40ms/step - loss: 0.4532 - accuracy: 0.9677 - val_loss: 0.7983 - val_accuracy: 0.8750\n",
      "Epoch 180/200\n",
      "1/1 [==============================] - 0s 38ms/step - loss: 0.4683 - accuracy: 0.9355 - val_loss: 0.8180 - val_accuracy: 0.8750\n",
      "Epoch 181/200\n",
      "1/1 [==============================] - 0s 40ms/step - loss: 0.4562 - accuracy: 0.9677 - val_loss: 0.8487 - val_accuracy: 0.7500\n",
      "Epoch 182/200\n",
      "1/1 [==============================] - 0s 39ms/step - loss: 0.4716 - accuracy: 0.9355 - val_loss: 0.7900 - val_accuracy: 0.8750\n",
      "Epoch 183/200\n",
      "1/1 [==============================] - 0s 40ms/step - loss: 0.4686 - accuracy: 0.9677 - val_loss: 0.7901 - val_accuracy: 0.8750\n",
      "Epoch 184/200\n",
      "1/1 [==============================] - 0s 40ms/step - loss: 0.4397 - accuracy: 0.9677 - val_loss: 0.7977 - val_accuracy: 0.8125\n",
      "Epoch 185/200\n",
      "1/1 [==============================] - 0s 39ms/step - loss: 0.4484 - accuracy: 0.9355 - val_loss: 0.7764 - val_accuracy: 0.8750\n",
      "Epoch 186/200\n",
      "1/1 [==============================] - 0s 42ms/step - loss: 0.4478 - accuracy: 0.9677 - val_loss: 0.7871 - val_accuracy: 0.8750\n",
      "Epoch 187/200\n",
      "1/1 [==============================] - 0s 40ms/step - loss: 0.4562 - accuracy: 0.9032 - val_loss: 0.7774 - val_accuracy: 0.8750\n",
      "Epoch 188/200\n",
      "1/1 [==============================] - 0s 39ms/step - loss: 0.4430 - accuracy: 0.9677 - val_loss: 0.7919 - val_accuracy: 0.8750\n",
      "Epoch 189/200\n",
      "1/1 [==============================] - 0s 40ms/step - loss: 0.4824 - accuracy: 0.9355 - val_loss: 0.7816 - val_accuracy: 0.8750\n",
      "Epoch 190/200\n",
      "1/1 [==============================] - 0s 40ms/step - loss: 0.4592 - accuracy: 0.9677 - val_loss: 0.7768 - val_accuracy: 0.8750\n",
      "Epoch 191/200\n",
      "1/1 [==============================] - 0s 40ms/step - loss: 0.4595 - accuracy: 0.9677 - val_loss: 0.7806 - val_accuracy: 0.8750\n",
      "Epoch 192/200\n",
      "1/1 [==============================] - 0s 39ms/step - loss: 0.4271 - accuracy: 0.9677 - val_loss: 0.7626 - val_accuracy: 0.8750\n",
      "Epoch 193/200\n",
      "1/1 [==============================] - 0s 40ms/step - loss: 0.4733 - accuracy: 0.9355 - val_loss: 0.8034 - val_accuracy: 0.8125\n",
      "Epoch 194/200\n",
      "1/1 [==============================] - 0s 38ms/step - loss: 0.4384 - accuracy: 0.9677 - val_loss: 0.8375 - val_accuracy: 0.8125\n",
      "Epoch 195/200\n",
      "1/1 [==============================] - 0s 39ms/step - loss: 0.4480 - accuracy: 0.9677 - val_loss: 0.7962 - val_accuracy: 0.8125\n",
      "Epoch 196/200\n",
      "1/1 [==============================] - 0s 38ms/step - loss: 0.4202 - accuracy: 0.9677 - val_loss: 0.7686 - val_accuracy: 0.8750\n",
      "Epoch 197/200\n",
      "1/1 [==============================] - 0s 39ms/step - loss: 0.4361 - accuracy: 0.9677 - val_loss: 0.7564 - val_accuracy: 0.8750\n",
      "Epoch 198/200\n",
      "1/1 [==============================] - 0s 39ms/step - loss: 0.4578 - accuracy: 0.9677 - val_loss: 0.7552 - val_accuracy: 0.8750\n",
      "Epoch 199/200\n",
      "1/1 [==============================] - 0s 40ms/step - loss: 0.4299 - accuracy: 0.9677 - val_loss: 0.7541 - val_accuracy: 0.8750\n",
      "Epoch 200/200\n",
      "1/1 [==============================] - 0s 39ms/step - loss: 0.4026 - accuracy: 0.9677 - val_loss: 0.7643 - val_accuracy: 0.8750\n",
      "Most important variables:  [1 5 7 3 6 8 4 0 2]\n"
     ]
    }
   ],
   "source": [
    "model_3.compile(optimizer='adam',\n",
    "              loss='binary_crossentropy',\n",
    "              metrics=['accuracy'])\n",
    "hist_3 = model_3.fit(X_train, y_traindm,\n",
    "          batch_size=31, epochs=200,\n",
    "          validation_data=(X_val, y_valdm), callbacks = [VIANN])"
   ]
  },
  {
   "cell_type": "markdown",
   "metadata": {},
   "source": [
    "## Visualize the loss and accuracy graphs for Model 3.\n",
    "\n",
    "**The loss is a lot higher at the start, and that's because we've changed our loss function. The plot window can be zoomed in by adding an additional line of code: plt.ylim.**"
   ]
  },
  {
   "cell_type": "code",
   "execution_count": 75,
   "metadata": {},
   "outputs": [
    {
     "data": {
      "image/png": "[encoded data removed]",
      "text/plain": [
       "<Figure size 460.8x316.8 with 1 Axes>"
      ]
     },
     "metadata": {
      "needs_background": "light"
     },
     "output_type": "display_data"
    }
   ],
   "source": [
    "plt.plot(hist_3.history['loss'])\n",
    "plt.plot(hist_3.history['val_loss'])\n",
    "plt.title('Model loss')\n",
    "plt.ylabel('Loss')\n",
    "plt.xlabel('Epoch')\n",
    "plt.legend(['Train', 'Val'], loc='upper right')\n",
    "plt.ylim(top=10, bottom=0)\n",
    "plt.show()"
   ]
  },
  {
   "cell_type": "code",
   "execution_count": 76,
   "metadata": {},
   "outputs": [
    {
     "data": {
      "image/png": "[encoded data removed]",
      "text/plain": [
       "<Figure size 460.8x316.8 with 1 Axes>"
      ]
     },
     "metadata": {
      "needs_background": "light"
     },
     "output_type": "display_data"
    }
   ],
   "source": [
    "plt.plot(hist_3.history['accuracy'])\n",
    "plt.plot(hist_3.history['val_accuracy'])\n",
    "plt.title('Model accuracy')\n",
    "plt.ylabel('Accuracy')\n",
    "plt.xlabel('Epoch')\n",
    "plt.legend(['Train', 'Val'], loc='lower right')\n",
    "plt.show()"
   ]
  },
  {
   "cell_type": "markdown",
   "metadata": {},
   "source": [
    "**Compared to Model 2, there is less overfitting. Although not ideal, the validation accuracy is likely due to the small sample size or, since we are using dropout, the model at test time is more robust and leads to higher testing accuracies.**"
   ]
  },
  {
   "cell_type": "markdown",
   "metadata": {},
   "source": [
    "## Evaluate Model 3 and Print the Results"
   ]
  },
  {
   "cell_type": "markdown",
   "metadata": {},
   "source": [
    "**Test Accuracy**"
   ]
  },
  {
   "cell_type": "code",
   "execution_count": 77,
   "metadata": {},
   "outputs": [
    {
     "name": "stdout",
     "output_type": "stream",
     "text": [
      "1/1 [==============================] - 0s 13ms/step - loss: 1.1247 - accuracy: 0.8667\n"
     ]
    },
    {
     "data": {
      "text/plain": [
       "0.8666666746139526"
      ]
     },
     "execution_count": 77,
     "metadata": {},
     "output_type": "execute_result"
    }
   ],
   "source": [
    "model_3.evaluate(X_test, y_testdm)[1]"
   ]
  },
  {
   "cell_type": "markdown",
   "metadata": {},
   "source": [
    "**The test accuracy is good considering we only trained with 31 records.**"
   ]
  },
  {
   "cell_type": "code",
   "execution_count": 78,
   "metadata": {},
   "outputs": [
    {
     "data": {
      "text/html": [
       "<div>\n",
       "<style scoped>\n",
       "    .dataframe tbody tr th:only-of-type {\n",
       "        vertical-align: middle;\n",
       "    }\n",
       "\n",
       "    .dataframe tbody tr th {\n",
       "        vertical-align: top;\n",
       "    }\n",
       "\n",
       "    .dataframe thead th {\n",
       "        text-align: right;\n",
       "    }\n",
       "</style>\n",
       "<table border=\"1\" class=\"dataframe\">\n",
       "  <thead>\n",
       "    <tr style=\"text-align: right;\">\n",
       "      <th></th>\n",
       "      <th>Variable</th>\n",
       "      <th>Scores</th>\n",
       "    </tr>\n",
       "  </thead>\n",
       "  <tbody>\n",
       "    <tr>\n",
       "      <th>2</th>\n",
       "      <td>Si_clr</td>\n",
       "      <td>0.000000</td>\n",
       "    </tr>\n",
       "    <tr>\n",
       "      <th>0</th>\n",
       "      <td>Mg_clr</td>\n",
       "      <td>0.010113</td>\n",
       "    </tr>\n",
       "    <tr>\n",
       "      <th>4</th>\n",
       "      <td>V_clr</td>\n",
       "      <td>0.012799</td>\n",
       "    </tr>\n",
       "    <tr>\n",
       "      <th>8</th>\n",
       "      <td>Ni_clr</td>\n",
       "      <td>0.014870</td>\n",
       "    </tr>\n",
       "    <tr>\n",
       "      <th>6</th>\n",
       "      <td>Mn_clr</td>\n",
       "      <td>0.055944</td>\n",
       "    </tr>\n",
       "    <tr>\n",
       "      <th>3</th>\n",
       "      <td>Ca_clr</td>\n",
       "      <td>0.183488</td>\n",
       "    </tr>\n",
       "    <tr>\n",
       "      <th>7</th>\n",
       "      <td>Co_clr</td>\n",
       "      <td>0.244277</td>\n",
       "    </tr>\n",
       "    <tr>\n",
       "      <th>5</th>\n",
       "      <td>Cr_clr</td>\n",
       "      <td>0.925977</td>\n",
       "    </tr>\n",
       "    <tr>\n",
       "      <th>1</th>\n",
       "      <td>Al_clr</td>\n",
       "      <td>1.000000</td>\n",
       "    </tr>\n",
       "  </tbody>\n",
       "</table>\n",
       "</div>"
      ],
      "text/plain": [
       "  Variable    Scores\n",
       "2   Si_clr  0.000000\n",
       "0   Mg_clr  0.010113\n",
       "4    V_clr  0.012799\n",
       "8   Ni_clr  0.014870\n",
       "6   Mn_clr  0.055944\n",
       "3   Ca_clr  0.183488\n",
       "7   Co_clr  0.244277\n",
       "5   Cr_clr  0.925977\n",
       "1   Al_clr  1.000000"
      ]
     },
     "execution_count": 78,
     "metadata": {},
     "output_type": "execute_result"
    }
   ],
   "source": [
    "#Visualize Feature Importance in table format\n",
    "X_columns = X_train.columns.tolist()\n",
    "model_FI_scores = VIANN.varScores.tolist()\n",
    "\n",
    "model_FI = pd.DataFrame()\n",
    "model_FI['Variable'] = X_columns\n",
    "model_FI['Scores'] = model_FI_scores\n",
    "model_FI.sort_values(by=['Scores'], inplace=True, ascending=True)\n",
    "\n",
    "model_FI"
   ]
  },
  {
   "cell_type": "code",
   "execution_count": 79,
   "metadata": {},
   "outputs": [
    {
     "data": {
      "text/plain": [
       "array([['Mg_clr', 'Al_clr', 'Si_clr', 'Ca_clr', 'V_clr', 'Cr_clr',\n",
       "        'Mn_clr', 'Co_clr', 'Ni_clr'],\n",
       "       [0.010112562216818333, 1.0, 0.0, 0.1834884136915207,\n",
       "        0.012798684649169445, 0.9259769320487976, 0.05594445765018463,\n",
       "        0.24427661299705505, 0.01486975234001875]], dtype=object)"
      ]
     },
     "execution_count": 79,
     "metadata": {},
     "output_type": "execute_result"
    }
   ],
   "source": [
    "#Link Features to VIANN scores and export to csv\n",
    "model_FI_array = np.vstack((X_train.columns, VIANN.varScores))\n",
    "pd.DataFrame(model_FI_array).to_csv(\"OPX_model_FI.csv\", index=None)\n",
    "model_FI_array"
   ]
  },
  {
   "cell_type": "code",
   "execution_count": 80,
   "metadata": {
    "scrolled": true
   },
   "outputs": [
    {
     "data": {
      "image/png": "[encoded data removed]",
      "text/plain": [
       "<Figure size 460.8x316.8 with 1 Axes>"
      ]
     },
     "metadata": {
      "needs_background": "light"
     },
     "output_type": "display_data"
    }
   ],
   "source": [
    "# Plot the feature importances of the model\n",
    "fig, ax = plt.subplots()\n",
    "\n",
    "ax.barh(model_FI['Variable'], model_FI['Scores'], align=\"center\", alpha=0.5)\n",
    "ax.set_xlabel('Scores')\n",
    "ax.set_yticks(model_FI['Variable'])\n",
    "ax.xaxis.grid(True)\n",
    "ax.set_title(\"Model Feature Importances\", fontsize='14')\n",
    "\n",
    "# Save the figure and show\n",
    "plt.savefig('OPX_model_FI_barplot.png')\n",
    "plt.show()"
   ]
  },
  {
   "cell_type": "markdown",
   "metadata": {},
   "source": [
    "**Compute the probabilities and predictions on the test set.**"
   ]
  },
  {
   "cell_type": "code",
   "execution_count": 81,
   "metadata": {},
   "outputs": [
    {
     "name": "stderr",
     "output_type": "stream",
     "text": [
      "G:\\Anaconda\\lib\\site-packages\\tensorflow\\python\\keras\\engine\\sequential.py:450: UserWarning: `model.predict_classes()` is deprecated and will be removed after 2021-01-01. Please use instead:* `np.argmax(model.predict(x), axis=-1)`,   if your model does multi-class classification   (e.g. if it uses a `softmax` last-layer activation).* `(model.predict(x) > 0.5).astype(\"int32\")`,   if your model does binary classification   (e.g. if it uses a `sigmoid` last-layer activation).\n",
      "  warnings.warn('`model.predict_classes()` is deprecated and '\n"
     ]
    }
   ],
   "source": [
    "predictions =  model_3.predict_classes(X_test)\n",
    "probabilities = model_3.predict(X_test)"
   ]
  },
  {
   "cell_type": "code",
   "execution_count": 82,
   "metadata": {},
   "outputs": [
    {
     "data": {
      "text/html": [
       "<div>\n",
       "<style scoped>\n",
       "    .dataframe tbody tr th:only-of-type {\n",
       "        vertical-align: middle;\n",
       "    }\n",
       "\n",
       "    .dataframe tbody tr th {\n",
       "        vertical-align: top;\n",
       "    }\n",
       "\n",
       "    .dataframe thead th {\n",
       "        text-align: right;\n",
       "    }\n",
       "</style>\n",
       "<table border=\"1\" class=\"dataframe\">\n",
       "  <thead>\n",
       "    <tr style=\"text-align: right;\">\n",
       "      <th></th>\n",
       "      <th>prob_no</th>\n",
       "      <th>prob_yes</th>\n",
       "    </tr>\n",
       "  </thead>\n",
       "  <tbody>\n",
       "    <tr>\n",
       "      <th>42</th>\n",
       "      <td>0.940916</td>\n",
       "      <td>0.056978</td>\n",
       "    </tr>\n",
       "    <tr>\n",
       "      <th>51</th>\n",
       "      <td>0.973196</td>\n",
       "      <td>0.025558</td>\n",
       "    </tr>\n",
       "    <tr>\n",
       "      <th>7</th>\n",
       "      <td>0.022631</td>\n",
       "      <td>0.978230</td>\n",
       "    </tr>\n",
       "    <tr>\n",
       "      <th>30</th>\n",
       "      <td>0.940922</td>\n",
       "      <td>0.056968</td>\n",
       "    </tr>\n",
       "    <tr>\n",
       "      <th>31</th>\n",
       "      <td>0.947056</td>\n",
       "      <td>0.050966</td>\n",
       "    </tr>\n",
       "  </tbody>\n",
       "</table>\n",
       "</div>"
      ],
      "text/plain": [
       "     prob_no  prob_yes\n",
       "42  0.940916  0.056978\n",
       "51  0.973196  0.025558\n",
       "7   0.022631  0.978230\n",
       "30  0.940922  0.056968\n",
       "31  0.947056  0.050966"
      ]
     },
     "execution_count": 82,
     "metadata": {},
     "output_type": "execute_result"
    }
   ],
   "source": [
    "predictions2 = pd.DataFrame(data = predictions,index = X_test.index.copy())\n",
    "predictions2.columns = ['predict_class']\n",
    "probabilities2 = pd.DataFrame(data = probabilities,index = X_test.index.copy())\n",
    "probabilities2.columns = ['prob_no', 'prob_yes']\n",
    "probabilities2.head(5)"
   ]
  },
  {
   "cell_type": "code",
   "execution_count": 83,
   "metadata": {},
   "outputs": [
    {
     "data": {
      "text/html": [
       "<div>\n",
       "<style scoped>\n",
       "    .dataframe tbody tr th:only-of-type {\n",
       "        vertical-align: middle;\n",
       "    }\n",
       "\n",
       "    .dataframe tbody tr th {\n",
       "        vertical-align: top;\n",
       "    }\n",
       "\n",
       "    .dataframe thead th {\n",
       "        text-align: right;\n",
       "    }\n",
       "</style>\n",
       "<table border=\"1\" class=\"dataframe\">\n",
       "  <thead>\n",
       "    <tr style=\"text-align: right;\">\n",
       "      <th></th>\n",
       "      <th>Mg_clr</th>\n",
       "      <th>Al_clr</th>\n",
       "      <th>Si_clr</th>\n",
       "      <th>Ca_clr</th>\n",
       "      <th>V_clr</th>\n",
       "      <th>Cr_clr</th>\n",
       "      <th>Mn_clr</th>\n",
       "      <th>Co_clr</th>\n",
       "      <th>Ni_clr</th>\n",
       "      <th>Diamond_High</th>\n",
       "      <th>predict_class</th>\n",
       "      <th>prob_no</th>\n",
       "      <th>prob_yes</th>\n",
       "    </tr>\n",
       "  </thead>\n",
       "  <tbody>\n",
       "    <tr>\n",
       "      <th>42</th>\n",
       "      <td>4.699326</td>\n",
       "      <td>0.403762</td>\n",
       "      <td>5.170869</td>\n",
       "      <td>0.202038</td>\n",
       "      <td>-4.799676</td>\n",
       "      <td>-0.250927</td>\n",
       "      <td>-0.690165</td>\n",
       "      <td>-3.692221</td>\n",
       "      <td>-1.043006</td>\n",
       "      <td>no</td>\n",
       "      <td>0</td>\n",
       "      <td>0.940916</td>\n",
       "      <td>0.056978</td>\n",
       "    </tr>\n",
       "    <tr>\n",
       "      <th>51</th>\n",
       "      <td>3.809213</td>\n",
       "      <td>1.096062</td>\n",
       "      <td>4.837393</td>\n",
       "      <td>1.169519</td>\n",
       "      <td>-3.520195</td>\n",
       "      <td>-1.066997</td>\n",
       "      <td>-0.855457</td>\n",
       "      <td>-1.541207</td>\n",
       "      <td>-3.928330</td>\n",
       "      <td>no</td>\n",
       "      <td>0</td>\n",
       "      <td>0.973196</td>\n",
       "      <td>0.025558</td>\n",
       "    </tr>\n",
       "    <tr>\n",
       "      <th>7</th>\n",
       "      <td>4.368864</td>\n",
       "      <td>0.415001</td>\n",
       "      <td>5.180162</td>\n",
       "      <td>0.448946</td>\n",
       "      <td>-4.362613</td>\n",
       "      <td>0.335066</td>\n",
       "      <td>-0.969999</td>\n",
       "      <td>-1.050761</td>\n",
       "      <td>-4.364666</td>\n",
       "      <td>yes</td>\n",
       "      <td>1</td>\n",
       "      <td>0.022631</td>\n",
       "      <td>0.978230</td>\n",
       "    </tr>\n",
       "    <tr>\n",
       "      <th>30</th>\n",
       "      <td>4.630818</td>\n",
       "      <td>0.575157</td>\n",
       "      <td>5.227492</td>\n",
       "      <td>0.342289</td>\n",
       "      <td>-4.118105</td>\n",
       "      <td>-0.335019</td>\n",
       "      <td>-1.038891</td>\n",
       "      <td>-3.944120</td>\n",
       "      <td>-1.339621</td>\n",
       "      <td>no</td>\n",
       "      <td>0</td>\n",
       "      <td>0.940922</td>\n",
       "      <td>0.056968</td>\n",
       "    </tr>\n",
       "    <tr>\n",
       "      <th>31</th>\n",
       "      <td>4.559968</td>\n",
       "      <td>0.685881</td>\n",
       "      <td>5.152005</td>\n",
       "      <td>0.498136</td>\n",
       "      <td>-4.268312</td>\n",
       "      <td>-0.415279</td>\n",
       "      <td>-1.026869</td>\n",
       "      <td>-3.963524</td>\n",
       "      <td>-1.222008</td>\n",
       "      <td>no</td>\n",
       "      <td>0</td>\n",
       "      <td>0.947056</td>\n",
       "      <td>0.050966</td>\n",
       "    </tr>\n",
       "  </tbody>\n",
       "</table>\n",
       "</div>"
      ],
      "text/plain": [
       "      Mg_clr    Al_clr    Si_clr    Ca_clr     V_clr    Cr_clr    Mn_clr  \\\n",
       "42  4.699326  0.403762  5.170869  0.202038 -4.799676 -0.250927 -0.690165   \n",
       "51  3.809213  1.096062  4.837393  1.169519 -3.520195 -1.066997 -0.855457   \n",
       "7   4.368864  0.415001  5.180162  0.448946 -4.362613  0.335066 -0.969999   \n",
       "30  4.630818  0.575157  5.227492  0.342289 -4.118105 -0.335019 -1.038891   \n",
       "31  4.559968  0.685881  5.152005  0.498136 -4.268312 -0.415279 -1.026869   \n",
       "\n",
       "      Co_clr    Ni_clr Diamond_High  predict_class   prob_no  prob_yes  \n",
       "42 -3.692221 -1.043006           no              0  0.940916  0.056978  \n",
       "51 -1.541207 -3.928330           no              0  0.973196  0.025558  \n",
       "7  -1.050761 -4.364666          yes              1  0.022631  0.978230  \n",
       "30 -3.944120 -1.339621           no              0  0.940922  0.056968  \n",
       "31 -3.963524 -1.222008           no              0  0.947056  0.050966  "
      ]
     },
     "execution_count": 83,
     "metadata": {},
     "output_type": "execute_result"
    }
   ],
   "source": [
    "OPX_testresults = pd.concat([X_test,y_test,predictions2,probabilities2],axis=1)\n",
    "OPX_testresults.to_csv(\"OPX_model3results_short.csv\")\n",
    "OPX_testresults.head(5)"
   ]
  },
  {
   "cell_type": "code",
   "execution_count": 84,
   "metadata": {},
   "outputs": [
    {
     "data": {
      "text/html": [
       "<div>\n",
       "<style scoped>\n",
       "    .dataframe tbody tr th:only-of-type {\n",
       "        vertical-align: middle;\n",
       "    }\n",
       "\n",
       "    .dataframe tbody tr th {\n",
       "        vertical-align: top;\n",
       "    }\n",
       "\n",
       "    .dataframe thead th {\n",
       "        text-align: right;\n",
       "    }\n",
       "</style>\n",
       "<table border=\"1\" class=\"dataframe\">\n",
       "  <thead>\n",
       "    <tr style=\"text-align: right;\">\n",
       "      <th></th>\n",
       "      <th>predict_class</th>\n",
       "      <th>prob_no</th>\n",
       "      <th>prob_yes</th>\n",
       "      <th>Sample</th>\n",
       "      <th>Mineral</th>\n",
       "      <th>Pipe</th>\n",
       "      <th>Diamond_High</th>\n",
       "      <th>Craton</th>\n",
       "      <th>Mg</th>\n",
       "      <th>Al</th>\n",
       "      <th>...</th>\n",
       "      <th>Ni_clr</th>\n",
       "      <th>V1</th>\n",
       "      <th>V2</th>\n",
       "      <th>V3</th>\n",
       "      <th>V4</th>\n",
       "      <th>V5</th>\n",
       "      <th>V6</th>\n",
       "      <th>V7</th>\n",
       "      <th>V8</th>\n",
       "      <th>V9</th>\n",
       "    </tr>\n",
       "  </thead>\n",
       "  <tbody>\n",
       "    <tr>\n",
       "      <th>42</th>\n",
       "      <td>0.0</td>\n",
       "      <td>0.940916</td>\n",
       "      <td>0.056978</td>\n",
       "      <td>Ap27D11</td>\n",
       "      <td>OP</td>\n",
       "      <td>ZERO</td>\n",
       "      <td>no</td>\n",
       "      <td>Kaapvaal</td>\n",
       "      <td>170300</td>\n",
       "      <td>2321.0</td>\n",
       "      <td>...</td>\n",
       "      <td>-1.043006</td>\n",
       "      <td>-0.201733</td>\n",
       "      <td>0.174493</td>\n",
       "      <td>-0.024610</td>\n",
       "      <td>-0.057111</td>\n",
       "      <td>-0.037614</td>\n",
       "      <td>-0.043577</td>\n",
       "      <td>0.006365</td>\n",
       "      <td>0.006688</td>\n",
       "      <td>2.220000e-16</td>\n",
       "    </tr>\n",
       "    <tr>\n",
       "      <th>51</th>\n",
       "      <td>0.0</td>\n",
       "      <td>0.973196</td>\n",
       "      <td>0.025558</td>\n",
       "      <td>Ap27I12</td>\n",
       "      <td>OP</td>\n",
       "      <td>ZERO</td>\n",
       "      <td>no</td>\n",
       "      <td>Kaapvaal</td>\n",
       "      <td>94350</td>\n",
       "      <td>6258.0</td>\n",
       "      <td>...</td>\n",
       "      <td>-3.928330</td>\n",
       "      <td>0.304149</td>\n",
       "      <td>-0.054429</td>\n",
       "      <td>-0.228946</td>\n",
       "      <td>0.143579</td>\n",
       "      <td>0.037238</td>\n",
       "      <td>-0.015600</td>\n",
       "      <td>-0.036615</td>\n",
       "      <td>-0.014366</td>\n",
       "      <td>6.940000e-17</td>\n",
       "    </tr>\n",
       "    <tr>\n",
       "      <th>7</th>\n",
       "      <td>1.0</td>\n",
       "      <td>0.022631</td>\n",
       "      <td>0.978230</td>\n",
       "      <td>Ap27G07</td>\n",
       "      <td>OP</td>\n",
       "      <td>KOALA</td>\n",
       "      <td>yes</td>\n",
       "      <td>Slave</td>\n",
       "      <td>120800</td>\n",
       "      <td>2317.0</td>\n",
       "      <td>...</td>\n",
       "      <td>-4.364666</td>\n",
       "      <td>0.050535</td>\n",
       "      <td>-0.132955</td>\n",
       "      <td>0.091942</td>\n",
       "      <td>-0.069733</td>\n",
       "      <td>-0.066480</td>\n",
       "      <td>0.057006</td>\n",
       "      <td>-0.023502</td>\n",
       "      <td>-0.003256</td>\n",
       "      <td>5.550000e-17</td>\n",
       "    </tr>\n",
       "    <tr>\n",
       "      <th>30</th>\n",
       "      <td>0.0</td>\n",
       "      <td>0.940922</td>\n",
       "      <td>0.056968</td>\n",
       "      <td>Ap27F20</td>\n",
       "      <td>OP</td>\n",
       "      <td>KIT</td>\n",
       "      <td>no</td>\n",
       "      <td>Slave</td>\n",
       "      <td>150600</td>\n",
       "      <td>2609.0</td>\n",
       "      <td>...</td>\n",
       "      <td>-1.339621</td>\n",
       "      <td>-0.066254</td>\n",
       "      <td>0.185633</td>\n",
       "      <td>0.053781</td>\n",
       "      <td>0.108616</td>\n",
       "      <td>-0.013349</td>\n",
       "      <td>0.047033</td>\n",
       "      <td>0.011758</td>\n",
       "      <td>0.070898</td>\n",
       "      <td>-2.780000e-17</td>\n",
       "    </tr>\n",
       "    <tr>\n",
       "      <th>31</th>\n",
       "      <td>0.0</td>\n",
       "      <td>0.947056</td>\n",
       "      <td>0.050966</td>\n",
       "      <td>Ap27F21</td>\n",
       "      <td>OP</td>\n",
       "      <td>KIT</td>\n",
       "      <td>no</td>\n",
       "      <td>Slave</td>\n",
       "      <td>151300</td>\n",
       "      <td>3143.0</td>\n",
       "      <td>...</td>\n",
       "      <td>-1.222008</td>\n",
       "      <td>-0.045172</td>\n",
       "      <td>0.201776</td>\n",
       "      <td>0.013602</td>\n",
       "      <td>0.100236</td>\n",
       "      <td>-0.053309</td>\n",
       "      <td>0.021056</td>\n",
       "      <td>0.017270</td>\n",
       "      <td>0.042337</td>\n",
       "      <td>2.780000e-17</td>\n",
       "    </tr>\n",
       "  </tbody>\n",
       "</table>\n",
       "<p>5 rows × 35 columns</p>\n",
       "</div>"
      ],
      "text/plain": [
       "    predict_class   prob_no  prob_yes       Sample Mineral   Pipe  \\\n",
       "42            0.0  0.940916  0.056978      Ap27D11      OP   ZERO   \n",
       "51            0.0  0.973196  0.025558      Ap27I12      OP   ZERO   \n",
       "7             1.0  0.022631  0.978230      Ap27G07      OP  KOALA   \n",
       "30            0.0  0.940922  0.056968      Ap27F20      OP    KIT   \n",
       "31            0.0  0.947056  0.050966      Ap27F21      OP    KIT   \n",
       "\n",
       "   Diamond_High    Craton      Mg      Al  ...    Ni_clr        V1        V2  \\\n",
       "42           no  Kaapvaal  170300  2321.0  ... -1.043006 -0.201733  0.174493   \n",
       "51           no  Kaapvaal   94350  6258.0  ... -3.928330  0.304149 -0.054429   \n",
       "7           yes     Slave  120800  2317.0  ... -4.364666  0.050535 -0.132955   \n",
       "30           no     Slave  150600  2609.0  ... -1.339621 -0.066254  0.185633   \n",
       "31           no     Slave  151300  3143.0  ... -1.222008 -0.045172  0.201776   \n",
       "\n",
       "          V3        V4        V5        V6        V7        V8            V9  \n",
       "42 -0.024610 -0.057111 -0.037614 -0.043577  0.006365  0.006688  2.220000e-16  \n",
       "51 -0.228946  0.143579  0.037238 -0.015600 -0.036615 -0.014366  6.940000e-17  \n",
       "7   0.091942 -0.069733 -0.066480  0.057006 -0.023502 -0.003256  5.550000e-17  \n",
       "30  0.053781  0.108616 -0.013349  0.047033  0.011758  0.070898 -2.780000e-17  \n",
       "31  0.013602  0.100236 -0.053309  0.021056  0.017270  0.042337  2.780000e-17  \n",
       "\n",
       "[5 rows x 35 columns]"
      ]
     },
     "execution_count": 84,
     "metadata": {},
     "output_type": "execute_result"
    }
   ],
   "source": [
    "OPX_testresults2 = predictions2.join([probabilities2, df])\n",
    "OPX_testresults2.to_csv(\"OPX_model3results_all.csv\")\n",
    "OPX_testresults2.head(5)"
   ]
  },
  {
   "cell_type": "markdown",
   "metadata": {},
   "source": [
    "# Save the Model"
   ]
  },
  {
   "cell_type": "markdown",
   "metadata": {},
   "source": [
    "**Serialize model to JSON for later use.**"
   ]
  },
  {
   "cell_type": "code",
   "execution_count": 85,
   "metadata": {},
   "outputs": [
    {
     "name": "stdout",
     "output_type": "stream",
     "text": [
      "Saved model to disk\n"
     ]
    }
   ],
   "source": [
    "# save model and architecture to single file\n",
    "model_3.save(\"model_3_OPX.h5\")\n",
    "print(\"Saved model to disk\")"
   ]
  },
  {
   "cell_type": "markdown",
   "metadata": {},
   "source": [
    "# Run Model on More Data\n",
    "\n",
    "**Load JSON and create the model**"
   ]
  },
  {
   "cell_type": "code",
   "execution_count": 86,
   "metadata": {},
   "outputs": [
    {
     "name": "stdout",
     "output_type": "stream",
     "text": [
      "Loaded model from disk\n"
     ]
    }
   ],
   "source": [
    "# load and evaluate a saved model\n",
    "from numpy import loadtxt\n",
    "from keras.models import load_model\n",
    "\n",
    "# load model\n",
    "model_3_OPX = load_model('model_3_OPX.h5')\n",
    "print(\"Loaded model from disk\")"
   ]
  },
  {
   "cell_type": "markdown",
   "metadata": {},
   "source": [
    "# Prediction with New Data with Unknown Classifier (y)"
   ]
  },
  {
   "cell_type": "markdown",
   "metadata": {},
   "source": [
    "**Using X_test data and predicting y. Make sure the X data is scaled the same as the data used in the model.**\n",
    "**Predict y.**"
   ]
  },
  {
   "cell_type": "code",
   "execution_count": 87,
   "metadata": {},
   "outputs": [
    {
     "data": {
      "text/plain": [
       "array([[9.4091648e-01, 5.6977510e-02],\n",
       "       [9.7319561e-01, 2.5558203e-02],\n",
       "       [2.2631407e-02, 9.7823012e-01],\n",
       "       [9.4092226e-01, 5.6967854e-02],\n",
       "       [9.4705588e-01, 5.0966293e-02],\n",
       "       [9.7411489e-01, 2.4669379e-02],\n",
       "       [1.0540952e-04, 9.9990654e-01],\n",
       "       [9.2664516e-01, 7.0976257e-02],\n",
       "       [7.5130856e-01, 2.4533594e-01],\n",
       "       [9.2480934e-01, 7.2778612e-02],\n",
       "       [9.3199199e-01, 6.5722734e-02],\n",
       "       [2.4419338e-02, 9.7649479e-01],\n",
       "       [1.6773224e-02, 9.8394144e-01],\n",
       "       [4.7931850e-02, 9.5320213e-01],\n",
       "       [9.3936855e-01, 5.8491737e-02]], dtype=float32)"
      ]
     },
     "execution_count": 87,
     "metadata": {},
     "output_type": "execute_result"
    }
   ],
   "source": [
    "y_new = model_3_OPX.predict(X_test)\n",
    "y_new"
   ]
  },
  {
   "cell_type": "markdown",
   "metadata": {},
   "source": [
    "**Print the input data and the predicted values. Replace X_test with the new data with an unknown classifier.**"
   ]
  },
  {
   "cell_type": "code",
   "execution_count": 88,
   "metadata": {},
   "outputs": [
    {
     "name": "stderr",
     "output_type": "stream",
     "text": [
      "G:\\Anaconda\\lib\\site-packages\\tensorflow\\python\\keras\\engine\\sequential.py:450: UserWarning: `model.predict_classes()` is deprecated and will be removed after 2021-01-01. Please use instead:* `np.argmax(model.predict(x), axis=-1)`,   if your model does multi-class classification   (e.g. if it uses a `softmax` last-layer activation).* `(model.predict(x) > 0.5).astype(\"int32\")`,   if your model does binary classification   (e.g. if it uses a `sigmoid` last-layer activation).\n",
      "  warnings.warn('`model.predict_classes()` is deprecated and '\n"
     ]
    }
   ],
   "source": [
    "predictions_new =  model_3_OPX.predict_classes(X_test)\n",
    "probabilities_new = model_3_OPX.predict(X_test)"
   ]
  },
  {
   "cell_type": "code",
   "execution_count": 89,
   "metadata": {},
   "outputs": [
    {
     "data": {
      "text/html": [
       "<div>\n",
       "<style scoped>\n",
       "    .dataframe tbody tr th:only-of-type {\n",
       "        vertical-align: middle;\n",
       "    }\n",
       "\n",
       "    .dataframe tbody tr th {\n",
       "        vertical-align: top;\n",
       "    }\n",
       "\n",
       "    .dataframe thead th {\n",
       "        text-align: right;\n",
       "    }\n",
       "</style>\n",
       "<table border=\"1\" class=\"dataframe\">\n",
       "  <thead>\n",
       "    <tr style=\"text-align: right;\">\n",
       "      <th></th>\n",
       "      <th>prob_no</th>\n",
       "      <th>prob_yes</th>\n",
       "    </tr>\n",
       "  </thead>\n",
       "  <tbody>\n",
       "    <tr>\n",
       "      <th>42</th>\n",
       "      <td>0.940916</td>\n",
       "      <td>0.056978</td>\n",
       "    </tr>\n",
       "    <tr>\n",
       "      <th>51</th>\n",
       "      <td>0.973196</td>\n",
       "      <td>0.025558</td>\n",
       "    </tr>\n",
       "    <tr>\n",
       "      <th>7</th>\n",
       "      <td>0.022631</td>\n",
       "      <td>0.978230</td>\n",
       "    </tr>\n",
       "    <tr>\n",
       "      <th>30</th>\n",
       "      <td>0.940922</td>\n",
       "      <td>0.056968</td>\n",
       "    </tr>\n",
       "    <tr>\n",
       "      <th>31</th>\n",
       "      <td>0.947056</td>\n",
       "      <td>0.050966</td>\n",
       "    </tr>\n",
       "  </tbody>\n",
       "</table>\n",
       "</div>"
      ],
      "text/plain": [
       "     prob_no  prob_yes\n",
       "42  0.940916  0.056978\n",
       "51  0.973196  0.025558\n",
       "7   0.022631  0.978230\n",
       "30  0.940922  0.056968\n",
       "31  0.947056  0.050966"
      ]
     },
     "execution_count": 89,
     "metadata": {},
     "output_type": "execute_result"
    }
   ],
   "source": [
    "predictions_new2 = pd.DataFrame(data = predictions_new,index = X_test.index.copy())\n",
    "predictions_new2.columns = ['predict_class']\n",
    "probabilities_new2 = pd.DataFrame(data = probabilities_new,index = X_test.index.copy())\n",
    "probabilities_new2.columns = ['prob_no', 'prob_yes']\n",
    "probabilities_new2.head(5)"
   ]
  },
  {
   "cell_type": "markdown",
   "metadata": {},
   "source": [
    "**Generate accuracy prediction as dataframe object for importing into other programs.**"
   ]
  },
  {
   "cell_type": "code",
   "execution_count": 90,
   "metadata": {},
   "outputs": [
    {
     "data": {
      "text/html": [
       "<div>\n",
       "<style scoped>\n",
       "    .dataframe tbody tr th:only-of-type {\n",
       "        vertical-align: middle;\n",
       "    }\n",
       "\n",
       "    .dataframe tbody tr th {\n",
       "        vertical-align: top;\n",
       "    }\n",
       "\n",
       "    .dataframe thead th {\n",
       "        text-align: right;\n",
       "    }\n",
       "</style>\n",
       "<table border=\"1\" class=\"dataframe\">\n",
       "  <thead>\n",
       "    <tr style=\"text-align: right;\">\n",
       "      <th></th>\n",
       "      <th>predict_class</th>\n",
       "      <th>prob_no</th>\n",
       "      <th>prob_yes</th>\n",
       "      <th>Sample</th>\n",
       "      <th>Mineral</th>\n",
       "      <th>Pipe</th>\n",
       "      <th>Diamond_High</th>\n",
       "      <th>Craton</th>\n",
       "      <th>Mg</th>\n",
       "      <th>Al</th>\n",
       "      <th>...</th>\n",
       "      <th>Ni_clr</th>\n",
       "      <th>V1</th>\n",
       "      <th>V2</th>\n",
       "      <th>V3</th>\n",
       "      <th>V4</th>\n",
       "      <th>V5</th>\n",
       "      <th>V6</th>\n",
       "      <th>V7</th>\n",
       "      <th>V8</th>\n",
       "      <th>V9</th>\n",
       "    </tr>\n",
       "  </thead>\n",
       "  <tbody>\n",
       "    <tr>\n",
       "      <th>42</th>\n",
       "      <td>0.0</td>\n",
       "      <td>0.940916</td>\n",
       "      <td>0.056978</td>\n",
       "      <td>Ap27D11</td>\n",
       "      <td>OP</td>\n",
       "      <td>ZERO</td>\n",
       "      <td>no</td>\n",
       "      <td>Kaapvaal</td>\n",
       "      <td>170300</td>\n",
       "      <td>2321.0</td>\n",
       "      <td>...</td>\n",
       "      <td>-1.043006</td>\n",
       "      <td>-0.201733</td>\n",
       "      <td>0.174493</td>\n",
       "      <td>-0.024610</td>\n",
       "      <td>-0.057111</td>\n",
       "      <td>-0.037614</td>\n",
       "      <td>-0.043577</td>\n",
       "      <td>0.006365</td>\n",
       "      <td>0.006688</td>\n",
       "      <td>2.220000e-16</td>\n",
       "    </tr>\n",
       "    <tr>\n",
       "      <th>51</th>\n",
       "      <td>0.0</td>\n",
       "      <td>0.973196</td>\n",
       "      <td>0.025558</td>\n",
       "      <td>Ap27I12</td>\n",
       "      <td>OP</td>\n",
       "      <td>ZERO</td>\n",
       "      <td>no</td>\n",
       "      <td>Kaapvaal</td>\n",
       "      <td>94350</td>\n",
       "      <td>6258.0</td>\n",
       "      <td>...</td>\n",
       "      <td>-3.928330</td>\n",
       "      <td>0.304149</td>\n",
       "      <td>-0.054429</td>\n",
       "      <td>-0.228946</td>\n",
       "      <td>0.143579</td>\n",
       "      <td>0.037238</td>\n",
       "      <td>-0.015600</td>\n",
       "      <td>-0.036615</td>\n",
       "      <td>-0.014366</td>\n",
       "      <td>6.940000e-17</td>\n",
       "    </tr>\n",
       "    <tr>\n",
       "      <th>7</th>\n",
       "      <td>1.0</td>\n",
       "      <td>0.022631</td>\n",
       "      <td>0.978230</td>\n",
       "      <td>Ap27G07</td>\n",
       "      <td>OP</td>\n",
       "      <td>KOALA</td>\n",
       "      <td>yes</td>\n",
       "      <td>Slave</td>\n",
       "      <td>120800</td>\n",
       "      <td>2317.0</td>\n",
       "      <td>...</td>\n",
       "      <td>-4.364666</td>\n",
       "      <td>0.050535</td>\n",
       "      <td>-0.132955</td>\n",
       "      <td>0.091942</td>\n",
       "      <td>-0.069733</td>\n",
       "      <td>-0.066480</td>\n",
       "      <td>0.057006</td>\n",
       "      <td>-0.023502</td>\n",
       "      <td>-0.003256</td>\n",
       "      <td>5.550000e-17</td>\n",
       "    </tr>\n",
       "    <tr>\n",
       "      <th>30</th>\n",
       "      <td>0.0</td>\n",
       "      <td>0.940922</td>\n",
       "      <td>0.056968</td>\n",
       "      <td>Ap27F20</td>\n",
       "      <td>OP</td>\n",
       "      <td>KIT</td>\n",
       "      <td>no</td>\n",
       "      <td>Slave</td>\n",
       "      <td>150600</td>\n",
       "      <td>2609.0</td>\n",
       "      <td>...</td>\n",
       "      <td>-1.339621</td>\n",
       "      <td>-0.066254</td>\n",
       "      <td>0.185633</td>\n",
       "      <td>0.053781</td>\n",
       "      <td>0.108616</td>\n",
       "      <td>-0.013349</td>\n",
       "      <td>0.047033</td>\n",
       "      <td>0.011758</td>\n",
       "      <td>0.070898</td>\n",
       "      <td>-2.780000e-17</td>\n",
       "    </tr>\n",
       "    <tr>\n",
       "      <th>31</th>\n",
       "      <td>0.0</td>\n",
       "      <td>0.947056</td>\n",
       "      <td>0.050966</td>\n",
       "      <td>Ap27F21</td>\n",
       "      <td>OP</td>\n",
       "      <td>KIT</td>\n",
       "      <td>no</td>\n",
       "      <td>Slave</td>\n",
       "      <td>151300</td>\n",
       "      <td>3143.0</td>\n",
       "      <td>...</td>\n",
       "      <td>-1.222008</td>\n",
       "      <td>-0.045172</td>\n",
       "      <td>0.201776</td>\n",
       "      <td>0.013602</td>\n",
       "      <td>0.100236</td>\n",
       "      <td>-0.053309</td>\n",
       "      <td>0.021056</td>\n",
       "      <td>0.017270</td>\n",
       "      <td>0.042337</td>\n",
       "      <td>2.780000e-17</td>\n",
       "    </tr>\n",
       "  </tbody>\n",
       "</table>\n",
       "<p>5 rows × 35 columns</p>\n",
       "</div>"
      ],
      "text/plain": [
       "    predict_class   prob_no  prob_yes       Sample Mineral   Pipe  \\\n",
       "42            0.0  0.940916  0.056978      Ap27D11      OP   ZERO   \n",
       "51            0.0  0.973196  0.025558      Ap27I12      OP   ZERO   \n",
       "7             1.0  0.022631  0.978230      Ap27G07      OP  KOALA   \n",
       "30            0.0  0.940922  0.056968      Ap27F20      OP    KIT   \n",
       "31            0.0  0.947056  0.050966      Ap27F21      OP    KIT   \n",
       "\n",
       "   Diamond_High    Craton      Mg      Al  ...    Ni_clr        V1        V2  \\\n",
       "42           no  Kaapvaal  170300  2321.0  ... -1.043006 -0.201733  0.174493   \n",
       "51           no  Kaapvaal   94350  6258.0  ... -3.928330  0.304149 -0.054429   \n",
       "7           yes     Slave  120800  2317.0  ... -4.364666  0.050535 -0.132955   \n",
       "30           no     Slave  150600  2609.0  ... -1.339621 -0.066254  0.185633   \n",
       "31           no     Slave  151300  3143.0  ... -1.222008 -0.045172  0.201776   \n",
       "\n",
       "          V3        V4        V5        V6        V7        V8            V9  \n",
       "42 -0.024610 -0.057111 -0.037614 -0.043577  0.006365  0.006688  2.220000e-16  \n",
       "51 -0.228946  0.143579  0.037238 -0.015600 -0.036615 -0.014366  6.940000e-17  \n",
       "7   0.091942 -0.069733 -0.066480  0.057006 -0.023502 -0.003256  5.550000e-17  \n",
       "30  0.053781  0.108616 -0.013349  0.047033  0.011758  0.070898 -2.780000e-17  \n",
       "31  0.013602  0.100236 -0.053309  0.021056  0.017270  0.042337  2.780000e-17  \n",
       "\n",
       "[5 rows x 35 columns]"
      ]
     },
     "execution_count": 90,
     "metadata": {},
     "output_type": "execute_result"
    }
   ],
   "source": [
    "OPX_newresults = predictions_new2.join([probabilities_new2, df])\n",
    "OPX_newresults.to_csv(\"OPX_newresults.csv\")\n",
    "OPX_newresults.head(5)"
   ]
  },
  {
   "cell_type": "markdown",
   "metadata": {},
   "source": [
    "## Re-Split Data and Verify Results"
   ]
  },
  {
   "cell_type": "code",
   "execution_count": 91,
   "metadata": {},
   "outputs": [
    {
     "data": {
      "text/plain": [
       "1"
      ]
     },
     "execution_count": 91,
     "metadata": {},
     "output_type": "execute_result"
    }
   ],
   "source": [
    "sss2 = StratifiedShuffleSplit(n_splits=1, test_size=0.5, random_state=333)\n",
    "sss2.get_n_splits(X, y['Diamond_High'])"
   ]
  },
  {
   "cell_type": "code",
   "execution_count": 92,
   "metadata": {},
   "outputs": [
    {
     "name": "stdout",
     "output_type": "stream",
     "text": [
      "StratifiedShuffleSplit(n_splits=1, random_state=333, test_size=0.5,\n",
      "            train_size=None)\n"
     ]
    }
   ],
   "source": [
    "print(sss)"
   ]
  },
  {
   "cell_type": "code",
   "execution_count": 93,
   "metadata": {},
   "outputs": [
    {
     "name": "stdout",
     "output_type": "stream",
     "text": [
      "TRAIN: [17 13 26  1 16 58 38  9 11 37 53 25 39 15 20 33 54 23 46 52 28 49 18 32\n",
      " 14 56 22 24 36  6 40] TESTVAL: [ 3 45 19 41 34 43 12 31 42 21 44 47 51 35  0  2 59  7 55  4 57 29  8  5\n",
      " 10 60 48 27 30 50 61]\n"
     ]
    }
   ],
   "source": [
    "for train_index, test_index in sss2.split(X, y):\n",
    "     print(\"TRAIN:\", train_index, \"TESTVAL:\", test_index)\n",
    "     X_train2, X_testval2 = X.iloc[train_index], X.iloc[test_index]\n",
    "     y_train2, y_testval2 = y.iloc[train_index], y.iloc[test_index]"
   ]
  },
  {
   "cell_type": "markdown",
   "metadata": {},
   "source": [
    "**Split testval into test and validation sets**"
   ]
  },
  {
   "cell_type": "code",
   "execution_count": 94,
   "metadata": {},
   "outputs": [
    {
     "name": "stdout",
     "output_type": "stream",
     "text": [
      "TEST: [ 8 12 17 28  7 18 16 13  1 14  4 23 19  2  3] VAL: [26 20 25  5 29 22 24 15  0 21  6 10 27 30 11  9]\n"
     ]
    }
   ],
   "source": [
    "for train_index, test_index in sss.split(X_testval2, y_testval2):\n",
    "     print(\"TEST:\", train_index, \"VAL:\", test_index)\n",
    "     X_test2, X_val2 = X_testval2.iloc[train_index], X_testval2.iloc[test_index]\n",
    "     y_test2, y_val2 = y_testval2.iloc[train_index], y_testval2.iloc[test_index]"
   ]
  },
  {
   "cell_type": "code",
   "execution_count": 95,
   "metadata": {},
   "outputs": [
    {
     "data": {
      "text/html": [
       "<div>\n",
       "<style scoped>\n",
       "    .dataframe tbody tr th:only-of-type {\n",
       "        vertical-align: middle;\n",
       "    }\n",
       "\n",
       "    .dataframe tbody tr th {\n",
       "        vertical-align: top;\n",
       "    }\n",
       "\n",
       "    .dataframe thead th {\n",
       "        text-align: right;\n",
       "    }\n",
       "</style>\n",
       "<table border=\"1\" class=\"dataframe\">\n",
       "  <thead>\n",
       "    <tr style=\"text-align: right;\">\n",
       "      <th></th>\n",
       "      <th>Diamond_High</th>\n",
       "    </tr>\n",
       "  </thead>\n",
       "  <tbody>\n",
       "    <tr>\n",
       "      <th>42</th>\n",
       "      <td>no</td>\n",
       "    </tr>\n",
       "    <tr>\n",
       "      <th>51</th>\n",
       "      <td>no</td>\n",
       "    </tr>\n",
       "    <tr>\n",
       "      <th>7</th>\n",
       "      <td>yes</td>\n",
       "    </tr>\n",
       "    <tr>\n",
       "      <th>30</th>\n",
       "      <td>no</td>\n",
       "    </tr>\n",
       "    <tr>\n",
       "      <th>31</th>\n",
       "      <td>no</td>\n",
       "    </tr>\n",
       "  </tbody>\n",
       "</table>\n",
       "</div>"
      ],
      "text/plain": [
       "   Diamond_High\n",
       "42           no\n",
       "51           no\n",
       "7           yes\n",
       "30           no\n",
       "31           no"
      ]
     },
     "execution_count": 95,
     "metadata": {},
     "output_type": "execute_result"
    }
   ],
   "source": [
    "y_test2.head(5)"
   ]
  },
  {
   "cell_type": "code",
   "execution_count": 96,
   "metadata": {},
   "outputs": [
    {
     "data": {
      "text/html": [
       "<div>\n",
       "<style scoped>\n",
       "    .dataframe tbody tr th:only-of-type {\n",
       "        vertical-align: middle;\n",
       "    }\n",
       "\n",
       "    .dataframe tbody tr th {\n",
       "        vertical-align: top;\n",
       "    }\n",
       "\n",
       "    .dataframe thead th {\n",
       "        text-align: right;\n",
       "    }\n",
       "</style>\n",
       "<table border=\"1\" class=\"dataframe\">\n",
       "  <thead>\n",
       "    <tr style=\"text-align: right;\">\n",
       "      <th></th>\n",
       "      <th>Diamond_High</th>\n",
       "    </tr>\n",
       "  </thead>\n",
       "  <tbody>\n",
       "    <tr>\n",
       "      <th>48</th>\n",
       "      <td>no</td>\n",
       "    </tr>\n",
       "    <tr>\n",
       "      <th>57</th>\n",
       "      <td>no</td>\n",
       "    </tr>\n",
       "    <tr>\n",
       "      <th>60</th>\n",
       "      <td>no</td>\n",
       "    </tr>\n",
       "    <tr>\n",
       "      <th>43</th>\n",
       "      <td>no</td>\n",
       "    </tr>\n",
       "    <tr>\n",
       "      <th>50</th>\n",
       "      <td>no</td>\n",
       "    </tr>\n",
       "  </tbody>\n",
       "</table>\n",
       "</div>"
      ],
      "text/plain": [
       "   Diamond_High\n",
       "48           no\n",
       "57           no\n",
       "60           no\n",
       "43           no\n",
       "50           no"
      ]
     },
     "execution_count": 96,
     "metadata": {},
     "output_type": "execute_result"
    }
   ],
   "source": [
    "y_val2.head(5)"
   ]
  },
  {
   "cell_type": "markdown",
   "metadata": {},
   "source": [
    "**Next encode the categorical variablesfor diamond content, yes and no, using one hot vector multilabel. The data is split first then one hot encoded since the split function cannot handle more than one Y column.**"
   ]
  },
  {
   "cell_type": "code",
   "execution_count": 97,
   "metadata": {},
   "outputs": [
    {
     "data": {
      "text/html": [
       "<div>\n",
       "<style scoped>\n",
       "    .dataframe tbody tr th:only-of-type {\n",
       "        vertical-align: middle;\n",
       "    }\n",
       "\n",
       "    .dataframe tbody tr th {\n",
       "        vertical-align: top;\n",
       "    }\n",
       "\n",
       "    .dataframe thead th {\n",
       "        text-align: right;\n",
       "    }\n",
       "</style>\n",
       "<table border=\"1\" class=\"dataframe\">\n",
       "  <thead>\n",
       "    <tr style=\"text-align: right;\">\n",
       "      <th></th>\n",
       "      <th>diamond_no</th>\n",
       "      <th>diamond_yes</th>\n",
       "    </tr>\n",
       "  </thead>\n",
       "  <tbody>\n",
       "    <tr>\n",
       "      <th>17</th>\n",
       "      <td>0</td>\n",
       "      <td>1</td>\n",
       "    </tr>\n",
       "    <tr>\n",
       "      <th>13</th>\n",
       "      <td>0</td>\n",
       "      <td>1</td>\n",
       "    </tr>\n",
       "    <tr>\n",
       "      <th>26</th>\n",
       "      <td>1</td>\n",
       "      <td>0</td>\n",
       "    </tr>\n",
       "    <tr>\n",
       "      <th>1</th>\n",
       "      <td>0</td>\n",
       "      <td>1</td>\n",
       "    </tr>\n",
       "    <tr>\n",
       "      <th>16</th>\n",
       "      <td>0</td>\n",
       "      <td>1</td>\n",
       "    </tr>\n",
       "  </tbody>\n",
       "</table>\n",
       "</div>"
      ],
      "text/plain": [
       "    diamond_no  diamond_yes\n",
       "17           0            1\n",
       "13           0            1\n",
       "26           1            0\n",
       "1            0            1\n",
       "16           0            1"
      ]
     },
     "execution_count": 97,
     "metadata": {},
     "output_type": "execute_result"
    }
   ],
   "source": [
    "y_traindm2 = pd.get_dummies(y_train2['Diamond_High'], prefix = 'diamond')\n",
    "y_traindm2.head(5)"
   ]
  },
  {
   "cell_type": "code",
   "execution_count": 98,
   "metadata": {},
   "outputs": [
    {
     "data": {
      "text/html": [
       "<div>\n",
       "<style scoped>\n",
       "    .dataframe tbody tr th:only-of-type {\n",
       "        vertical-align: middle;\n",
       "    }\n",
       "\n",
       "    .dataframe tbody tr th {\n",
       "        vertical-align: top;\n",
       "    }\n",
       "\n",
       "    .dataframe thead th {\n",
       "        text-align: right;\n",
       "    }\n",
       "</style>\n",
       "<table border=\"1\" class=\"dataframe\">\n",
       "  <thead>\n",
       "    <tr style=\"text-align: right;\">\n",
       "      <th></th>\n",
       "      <th>diamond_no</th>\n",
       "      <th>diamond_yes</th>\n",
       "    </tr>\n",
       "  </thead>\n",
       "  <tbody>\n",
       "    <tr>\n",
       "      <th>48</th>\n",
       "      <td>1</td>\n",
       "      <td>0</td>\n",
       "    </tr>\n",
       "    <tr>\n",
       "      <th>57</th>\n",
       "      <td>1</td>\n",
       "      <td>0</td>\n",
       "    </tr>\n",
       "    <tr>\n",
       "      <th>60</th>\n",
       "      <td>1</td>\n",
       "      <td>0</td>\n",
       "    </tr>\n",
       "    <tr>\n",
       "      <th>43</th>\n",
       "      <td>1</td>\n",
       "      <td>0</td>\n",
       "    </tr>\n",
       "    <tr>\n",
       "      <th>50</th>\n",
       "      <td>1</td>\n",
       "      <td>0</td>\n",
       "    </tr>\n",
       "  </tbody>\n",
       "</table>\n",
       "</div>"
      ],
      "text/plain": [
       "    diamond_no  diamond_yes\n",
       "48           1            0\n",
       "57           1            0\n",
       "60           1            0\n",
       "43           1            0\n",
       "50           1            0"
      ]
     },
     "execution_count": 98,
     "metadata": {},
     "output_type": "execute_result"
    }
   ],
   "source": [
    "y_valdm2 = pd.get_dummies(y_val2['Diamond_High'], prefix = 'diamond')\n",
    "y_valdm2.head(5)"
   ]
  },
  {
   "cell_type": "code",
   "execution_count": 99,
   "metadata": {},
   "outputs": [
    {
     "data": {
      "text/html": [
       "<div>\n",
       "<style scoped>\n",
       "    .dataframe tbody tr th:only-of-type {\n",
       "        vertical-align: middle;\n",
       "    }\n",
       "\n",
       "    .dataframe tbody tr th {\n",
       "        vertical-align: top;\n",
       "    }\n",
       "\n",
       "    .dataframe thead th {\n",
       "        text-align: right;\n",
       "    }\n",
       "</style>\n",
       "<table border=\"1\" class=\"dataframe\">\n",
       "  <thead>\n",
       "    <tr style=\"text-align: right;\">\n",
       "      <th></th>\n",
       "      <th>diamond_no</th>\n",
       "      <th>diamond_yes</th>\n",
       "    </tr>\n",
       "  </thead>\n",
       "  <tbody>\n",
       "    <tr>\n",
       "      <th>42</th>\n",
       "      <td>1</td>\n",
       "      <td>0</td>\n",
       "    </tr>\n",
       "    <tr>\n",
       "      <th>51</th>\n",
       "      <td>1</td>\n",
       "      <td>0</td>\n",
       "    </tr>\n",
       "    <tr>\n",
       "      <th>7</th>\n",
       "      <td>0</td>\n",
       "      <td>1</td>\n",
       "    </tr>\n",
       "    <tr>\n",
       "      <th>30</th>\n",
       "      <td>1</td>\n",
       "      <td>0</td>\n",
       "    </tr>\n",
       "    <tr>\n",
       "      <th>31</th>\n",
       "      <td>1</td>\n",
       "      <td>0</td>\n",
       "    </tr>\n",
       "  </tbody>\n",
       "</table>\n",
       "</div>"
      ],
      "text/plain": [
       "    diamond_no  diamond_yes\n",
       "42           1            0\n",
       "51           1            0\n",
       "7            0            1\n",
       "30           1            0\n",
       "31           1            0"
      ]
     },
     "execution_count": 99,
     "metadata": {},
     "output_type": "execute_result"
    }
   ],
   "source": [
    "y_testdm2 = pd.get_dummies(y_test2['Diamond_High'], prefix = 'diamond')\n",
    "y_testdm2.head(5)"
   ]
  },
  {
   "cell_type": "code",
   "execution_count": 100,
   "metadata": {},
   "outputs": [
    {
     "data": {
      "text/html": [
       "<div>\n",
       "<style scoped>\n",
       "    .dataframe tbody tr th:only-of-type {\n",
       "        vertical-align: middle;\n",
       "    }\n",
       "\n",
       "    .dataframe tbody tr th {\n",
       "        vertical-align: top;\n",
       "    }\n",
       "\n",
       "    .dataframe thead th {\n",
       "        text-align: right;\n",
       "    }\n",
       "</style>\n",
       "<table border=\"1\" class=\"dataframe\">\n",
       "  <thead>\n",
       "    <tr style=\"text-align: right;\">\n",
       "      <th></th>\n",
       "      <th>Mg_clr</th>\n",
       "      <th>Al_clr</th>\n",
       "      <th>Si_clr</th>\n",
       "      <th>Ca_clr</th>\n",
       "      <th>V_clr</th>\n",
       "      <th>Cr_clr</th>\n",
       "      <th>Mn_clr</th>\n",
       "      <th>Co_clr</th>\n",
       "      <th>Ni_clr</th>\n",
       "    </tr>\n",
       "  </thead>\n",
       "  <tbody>\n",
       "    <tr>\n",
       "      <th>48</th>\n",
       "      <td>4.207566</td>\n",
       "      <td>1.152715</td>\n",
       "      <td>5.267157</td>\n",
       "      <td>-0.553267</td>\n",
       "      <td>-4.114179</td>\n",
       "      <td>0.423377</td>\n",
       "      <td>-0.981493</td>\n",
       "      <td>-0.940816</td>\n",
       "      <td>-4.461060</td>\n",
       "    </tr>\n",
       "    <tr>\n",
       "      <th>57</th>\n",
       "      <td>3.678692</td>\n",
       "      <td>1.106558</td>\n",
       "      <td>4.787145</td>\n",
       "      <td>1.259681</td>\n",
       "      <td>-3.551525</td>\n",
       "      <td>-1.094329</td>\n",
       "      <td>-0.713901</td>\n",
       "      <td>-1.547538</td>\n",
       "      <td>-3.924783</td>\n",
       "    </tr>\n",
       "    <tr>\n",
       "      <th>60</th>\n",
       "      <td>4.184797</td>\n",
       "      <td>1.285919</td>\n",
       "      <td>4.852873</td>\n",
       "      <td>1.289535</td>\n",
       "      <td>-3.615512</td>\n",
       "      <td>-1.176985</td>\n",
       "      <td>-0.980562</td>\n",
       "      <td>-1.669705</td>\n",
       "      <td>-4.170358</td>\n",
       "    </tr>\n",
       "    <tr>\n",
       "      <th>43</th>\n",
       "      <td>4.252286</td>\n",
       "      <td>1.252272</td>\n",
       "      <td>4.818176</td>\n",
       "      <td>1.264797</td>\n",
       "      <td>-3.661628</td>\n",
       "      <td>-1.171622</td>\n",
       "      <td>-1.009459</td>\n",
       "      <td>-1.586211</td>\n",
       "      <td>-4.158613</td>\n",
       "    </tr>\n",
       "    <tr>\n",
       "      <th>50</th>\n",
       "      <td>4.115828</td>\n",
       "      <td>0.605323</td>\n",
       "      <td>5.008571</td>\n",
       "      <td>0.763161</td>\n",
       "      <td>-3.941928</td>\n",
       "      <td>-0.456259</td>\n",
       "      <td>-0.785667</td>\n",
       "      <td>-1.254473</td>\n",
       "      <td>-4.054557</td>\n",
       "    </tr>\n",
       "  </tbody>\n",
       "</table>\n",
       "</div>"
      ],
      "text/plain": [
       "      Mg_clr    Al_clr    Si_clr    Ca_clr     V_clr    Cr_clr    Mn_clr  \\\n",
       "48  4.207566  1.152715  5.267157 -0.553267 -4.114179  0.423377 -0.981493   \n",
       "57  3.678692  1.106558  4.787145  1.259681 -3.551525 -1.094329 -0.713901   \n",
       "60  4.184797  1.285919  4.852873  1.289535 -3.615512 -1.176985 -0.980562   \n",
       "43  4.252286  1.252272  4.818176  1.264797 -3.661628 -1.171622 -1.009459   \n",
       "50  4.115828  0.605323  5.008571  0.763161 -3.941928 -0.456259 -0.785667   \n",
       "\n",
       "      Co_clr    Ni_clr  \n",
       "48 -0.940816 -4.461060  \n",
       "57 -1.547538 -3.924783  \n",
       "60 -1.669705 -4.170358  \n",
       "43 -1.586211 -4.158613  \n",
       "50 -1.254473 -4.054557  "
      ]
     },
     "execution_count": 100,
     "metadata": {},
     "output_type": "execute_result"
    }
   ],
   "source": [
    "X_val2.head(5)"
   ]
  },
  {
   "cell_type": "code",
   "execution_count": 101,
   "metadata": {},
   "outputs": [
    {
     "name": "stdout",
     "output_type": "stream",
     "text": [
      "(31, 9) (16, 9) (15, 9)\n",
      "(31, 2) (16, 2) (15, 2)\n"
     ]
    }
   ],
   "source": [
    "print(X_train2.shape, X_val2.shape, X_test2.shape)\n",
    "print(y_traindm2.shape, y_valdm2.shape, y_testdm2.shape)"
   ]
  },
  {
   "cell_type": "markdown",
   "metadata": {},
   "source": [
    "## Evaluate Model 3 with Re-Split Data and Print the Results"
   ]
  },
  {
   "cell_type": "markdown",
   "metadata": {},
   "source": [
    "**Test Accuracy**"
   ]
  },
  {
   "cell_type": "code",
   "execution_count": 102,
   "metadata": {
    "scrolled": true
   },
   "outputs": [
    {
     "name": "stdout",
     "output_type": "stream",
     "text": [
      "VIANN version 1.0 (Wellford + Mean) update per epoch\n",
      "Epoch 1/200\n",
      "1/1 [==============================] - 1s 849ms/step - loss: 0.4342 - accuracy: 0.9677 - val_loss: 0.8926 - val_accuracy: 0.7500\n",
      "Epoch 2/200\n",
      "1/1 [==============================] - 0s 48ms/step - loss: 0.4973 - accuracy: 0.9032 - val_loss: 1.1111 - val_accuracy: 0.6250\n",
      "Epoch 3/200\n",
      "1/1 [==============================] - 0s 38ms/step - loss: 0.6504 - accuracy: 0.8387 - val_loss: 0.9302 - val_accuracy: 0.6875\n",
      "Epoch 4/200\n",
      "1/1 [==============================] - 0s 39ms/step - loss: 0.5582 - accuracy: 0.8710 - val_loss: 0.7325 - val_accuracy: 0.8750\n",
      "Epoch 5/200\n",
      "1/1 [==============================] - 0s 41ms/step - loss: 0.4366 - accuracy: 0.9677 - val_loss: 0.9634 - val_accuracy: 0.7500\n",
      "Epoch 6/200\n",
      "1/1 [==============================] - 0s 42ms/step - loss: 0.5325 - accuracy: 0.9032 - val_loss: 0.9724 - val_accuracy: 0.7500\n",
      "Epoch 7/200\n",
      "1/1 [==============================] - 0s 40ms/step - loss: 0.4969 - accuracy: 0.9355 - val_loss: 0.8083 - val_accuracy: 0.8125\n",
      "Epoch 8/200\n",
      "1/1 [==============================] - 0s 38ms/step - loss: 0.4443 - accuracy: 0.9355 - val_loss: 0.7642 - val_accuracy: 0.8750\n",
      "Epoch 9/200\n",
      "1/1 [==============================] - 0s 41ms/step - loss: 0.4253 - accuracy: 0.9677 - val_loss: 0.8425 - val_accuracy: 0.7500\n",
      "Epoch 10/200\n",
      "1/1 [==============================] - 0s 40ms/step - loss: 0.4998 - accuracy: 0.9032 - val_loss: 0.8474 - val_accuracy: 0.7500\n",
      "Epoch 11/200\n",
      "1/1 [==============================] - 0s 40ms/step - loss: 0.4731 - accuracy: 0.9032 - val_loss: 0.8011 - val_accuracy: 0.8750\n",
      "Epoch 12/200\n",
      "1/1 [==============================] - 0s 41ms/step - loss: 0.4594 - accuracy: 0.9677 - val_loss: 0.7931 - val_accuracy: 0.8750\n",
      "Epoch 13/200\n",
      "1/1 [==============================] - 0s 40ms/step - loss: 0.4067 - accuracy: 0.9677 - val_loss: 0.8429 - val_accuracy: 0.8125\n",
      "Epoch 14/200\n",
      "1/1 [==============================] - 0s 40ms/step - loss: 0.4185 - accuracy: 0.9677 - val_loss: 0.9049 - val_accuracy: 0.8125\n",
      "Epoch 15/200\n",
      "1/1 [==============================] - 0s 42ms/step - loss: 0.4286 - accuracy: 0.9355 - val_loss: 0.9123 - val_accuracy: 0.8125\n",
      "Epoch 16/200\n",
      "1/1 [==============================] - 0s 43ms/step - loss: 0.4590 - accuracy: 0.9355 - val_loss: 0.8550 - val_accuracy: 0.8125\n",
      "Epoch 17/200\n",
      "1/1 [==============================] - 0s 41ms/step - loss: 0.4446 - accuracy: 0.9677 - val_loss: 0.8097 - val_accuracy: 0.8750\n",
      "Epoch 18/200\n",
      "1/1 [==============================] - 0s 45ms/step - loss: 0.3991 - accuracy: 0.9677 - val_loss: 0.8074 - val_accuracy: 0.8750\n",
      "Epoch 19/200\n",
      "1/1 [==============================] - 0s 42ms/step - loss: 0.4383 - accuracy: 0.9677 - val_loss: 0.8239 - val_accuracy: 0.8125\n",
      "Epoch 20/200\n",
      "1/1 [==============================] - 0s 42ms/step - loss: 0.4222 - accuracy: 0.9677 - val_loss: 0.8205 - val_accuracy: 0.8125\n",
      "Epoch 21/200\n",
      "1/1 [==============================] - 0s 40ms/step - loss: 0.4226 - accuracy: 0.9677 - val_loss: 0.8020 - val_accuracy: 0.8750\n",
      "Epoch 22/200\n",
      "1/1 [==============================] - 0s 42ms/step - loss: 0.4602 - accuracy: 0.9677 - val_loss: 0.7933 - val_accuracy: 0.8750\n",
      "Epoch 23/200\n",
      "1/1 [==============================] - 0s 39ms/step - loss: 0.4175 - accuracy: 0.9677 - val_loss: 0.8214 - val_accuracy: 0.8125\n",
      "Epoch 24/200\n",
      "1/1 [==============================] - 0s 39ms/step - loss: 0.4019 - accuracy: 0.9677 - val_loss: 0.8547 - val_accuracy: 0.8125\n",
      "Epoch 25/200\n",
      "1/1 [==============================] - 0s 42ms/step - loss: 0.4371 - accuracy: 0.9355 - val_loss: 0.8287 - val_accuracy: 0.8125\n",
      "Epoch 26/200\n",
      "1/1 [==============================] - 0s 43ms/step - loss: 0.4521 - accuracy: 0.9355 - val_loss: 0.7689 - val_accuracy: 0.8750\n",
      "Epoch 27/200\n",
      "1/1 [==============================] - 0s 43ms/step - loss: 0.3937 - accuracy: 0.9677 - val_loss: 0.7415 - val_accuracy: 0.8750\n",
      "Epoch 28/200\n",
      "1/1 [==============================] - 0s 41ms/step - loss: 0.4101 - accuracy: 0.9677 - val_loss: 0.7433 - val_accuracy: 0.8750\n",
      "Epoch 29/200\n",
      "1/1 [==============================] - 0s 46ms/step - loss: 0.4125 - accuracy: 0.9677 - val_loss: 0.7541 - val_accuracy: 0.8750\n",
      "Epoch 30/200\n",
      "1/1 [==============================] - 0s 40ms/step - loss: 0.4207 - accuracy: 0.9677 - val_loss: 0.7503 - val_accuracy: 0.8750\n",
      "Epoch 31/200\n",
      "1/1 [==============================] - 0s 39ms/step - loss: 0.4114 - accuracy: 0.9677 - val_loss: 0.7420 - val_accuracy: 0.8750\n",
      "Epoch 32/200\n",
      "1/1 [==============================] - 0s 39ms/step - loss: 0.4090 - accuracy: 0.9355 - val_loss: 0.7457 - val_accuracy: 0.8750\n",
      "Epoch 33/200\n",
      "1/1 [==============================] - 0s 39ms/step - loss: 0.4067 - accuracy: 0.9677 - val_loss: 0.7669 - val_accuracy: 0.8750\n",
      "Epoch 34/200\n",
      "1/1 [==============================] - 0s 40ms/step - loss: 0.4048 - accuracy: 0.9677 - val_loss: 0.7788 - val_accuracy: 0.8750\n",
      "Epoch 35/200\n",
      "1/1 [==============================] - 0s 39ms/step - loss: 0.3916 - accuracy: 0.9677 - val_loss: 0.7763 - val_accuracy: 0.8750\n",
      "Epoch 36/200\n",
      "1/1 [==============================] - 0s 39ms/step - loss: 0.4049 - accuracy: 0.9677 - val_loss: 0.7619 - val_accuracy: 0.8750\n",
      "Epoch 37/200\n",
      "1/1 [==============================] - 0s 38ms/step - loss: 0.3960 - accuracy: 0.9677 - val_loss: 0.7518 - val_accuracy: 0.8750\n",
      "Epoch 38/200\n",
      "1/1 [==============================] - 0s 40ms/step - loss: 0.3819 - accuracy: 0.9677 - val_loss: 0.7503 - val_accuracy: 0.8750\n",
      "Epoch 39/200\n",
      "1/1 [==============================] - 0s 41ms/step - loss: 0.3829 - accuracy: 0.9677 - val_loss: 0.7501 - val_accuracy: 0.8750\n",
      "Epoch 40/200\n",
      "1/1 [==============================] - 0s 40ms/step - loss: 0.3949 - accuracy: 0.9677 - val_loss: 0.7525 - val_accuracy: 0.8750\n",
      "Epoch 41/200\n",
      "1/1 [==============================] - 0s 39ms/step - loss: 0.3769 - accuracy: 0.9677 - val_loss: 0.7567 - val_accuracy: 0.8750\n",
      "Epoch 42/200\n",
      "1/1 [==============================] - 0s 40ms/step - loss: 0.3767 - accuracy: 0.9677 - val_loss: 0.7613 - val_accuracy: 0.8750\n",
      "Epoch 43/200\n",
      "1/1 [==============================] - 0s 39ms/step - loss: 0.3912 - accuracy: 0.9677 - val_loss: 0.7589 - val_accuracy: 0.8750\n",
      "Epoch 44/200\n",
      "1/1 [==============================] - 0s 39ms/step - loss: 0.3807 - accuracy: 0.9677 - val_loss: 0.7541 - val_accuracy: 0.8750\n",
      "Epoch 45/200\n",
      "1/1 [==============================] - 0s 38ms/step - loss: 0.3873 - accuracy: 0.9677 - val_loss: 0.7429 - val_accuracy: 0.8750\n",
      "Epoch 46/200\n",
      "1/1 [==============================] - 0s 38ms/step - loss: 0.3624 - accuracy: 0.9677 - val_loss: 0.7338 - val_accuracy: 0.8750\n",
      "Epoch 47/200\n",
      "1/1 [==============================] - 0s 38ms/step - loss: 0.3825 - accuracy: 0.9677 - val_loss: 0.7274 - val_accuracy: 0.8750\n",
      "Epoch 48/200\n",
      "1/1 [==============================] - 0s 42ms/step - loss: 0.3993 - accuracy: 0.9677 - val_loss: 0.7194 - val_accuracy: 0.8750\n",
      "Epoch 49/200\n",
      "1/1 [==============================] - 0s 38ms/step - loss: 0.3824 - accuracy: 0.9677 - val_loss: 0.7133 - val_accuracy: 0.8750\n",
      "Epoch 50/200\n",
      "1/1 [==============================] - 0s 39ms/step - loss: 0.3723 - accuracy: 0.9677 - val_loss: 0.7091 - val_accuracy: 0.8750\n",
      "Epoch 51/200\n",
      "1/1 [==============================] - 0s 39ms/step - loss: 0.3879 - accuracy: 0.9677 - val_loss: 0.7043 - val_accuracy: 0.8750\n",
      "Epoch 52/200\n",
      "1/1 [==============================] - 0s 42ms/step - loss: 0.3842 - accuracy: 0.9677 - val_loss: 0.7031 - val_accuracy: 0.8750\n",
      "Epoch 53/200\n",
      "1/1 [==============================] - 0s 40ms/step - loss: 0.3602 - accuracy: 0.9677 - val_loss: 0.7061 - val_accuracy: 0.8750\n",
      "Epoch 54/200\n",
      "1/1 [==============================] - 0s 39ms/step - loss: 0.3885 - accuracy: 0.9677 - val_loss: 0.7153 - val_accuracy: 0.8750\n",
      "Epoch 55/200\n",
      "1/1 [==============================] - 0s 39ms/step - loss: 0.3608 - accuracy: 0.9677 - val_loss: 0.7382 - val_accuracy: 0.8750\n",
      "Epoch 56/200\n",
      "1/1 [==============================] - 0s 39ms/step - loss: 0.3971 - accuracy: 0.9677 - val_loss: 0.7289 - val_accuracy: 0.8750\n",
      "Epoch 57/200\n",
      "1/1 [==============================] - 0s 39ms/step - loss: 0.3935 - accuracy: 0.9677 - val_loss: 0.7223 - val_accuracy: 0.8750\n",
      "Epoch 58/200\n",
      "1/1 [==============================] - 0s 41ms/step - loss: 0.3893 - accuracy: 0.9677 - val_loss: 0.7154 - val_accuracy: 0.8750\n"
     ]
    },
    {
     "name": "stdout",
     "output_type": "stream",
     "text": [
      "Epoch 59/200\n",
      "1/1 [==============================] - 0s 39ms/step - loss: 0.3823 - accuracy: 0.9677 - val_loss: 0.7165 - val_accuracy: 0.8750\n",
      "Epoch 60/200\n",
      "1/1 [==============================] - 0s 38ms/step - loss: 0.3656 - accuracy: 0.9677 - val_loss: 0.7151 - val_accuracy: 0.8750\n",
      "Epoch 61/200\n",
      "1/1 [==============================] - 0s 40ms/step - loss: 0.3605 - accuracy: 0.9677 - val_loss: 0.7178 - val_accuracy: 0.8750\n",
      "Epoch 62/200\n",
      "1/1 [==============================] - 0s 42ms/step - loss: 0.3823 - accuracy: 0.9677 - val_loss: 0.7219 - val_accuracy: 0.8750\n",
      "Epoch 63/200\n",
      "1/1 [==============================] - 0s 40ms/step - loss: 0.3786 - accuracy: 0.9677 - val_loss: 0.7175 - val_accuracy: 0.8750\n",
      "Epoch 64/200\n",
      "1/1 [==============================] - 0s 39ms/step - loss: 0.3664 - accuracy: 0.9677 - val_loss: 0.7182 - val_accuracy: 0.8750\n",
      "Epoch 65/200\n",
      "1/1 [==============================] - 0s 40ms/step - loss: 0.3639 - accuracy: 0.9677 - val_loss: 0.7265 - val_accuracy: 0.8750\n",
      "Epoch 66/200\n",
      "1/1 [==============================] - 0s 39ms/step - loss: 0.3664 - accuracy: 0.9677 - val_loss: 0.7308 - val_accuracy: 0.8750\n",
      "Epoch 67/200\n",
      "1/1 [==============================] - 0s 38ms/step - loss: 0.3485 - accuracy: 0.9677 - val_loss: 0.7407 - val_accuracy: 0.8750\n",
      "Epoch 68/200\n",
      "1/1 [==============================] - 0s 41ms/step - loss: 0.3516 - accuracy: 0.9677 - val_loss: 0.7502 - val_accuracy: 0.8750\n",
      "Epoch 69/200\n",
      "1/1 [==============================] - 0s 38ms/step - loss: 0.3717 - accuracy: 0.9677 - val_loss: 0.7643 - val_accuracy: 0.8750\n",
      "Epoch 70/200\n",
      "1/1 [==============================] - 0s 37ms/step - loss: 0.3540 - accuracy: 0.9677 - val_loss: 0.7709 - val_accuracy: 0.8750\n",
      "Epoch 71/200\n",
      "1/1 [==============================] - 0s 40ms/step - loss: 0.3597 - accuracy: 0.9677 - val_loss: 0.7643 - val_accuracy: 0.8750\n",
      "Epoch 72/200\n",
      "1/1 [==============================] - 0s 39ms/step - loss: 0.3572 - accuracy: 0.9677 - val_loss: 0.7681 - val_accuracy: 0.8750\n",
      "Epoch 73/200\n",
      "1/1 [==============================] - 0s 41ms/step - loss: 0.3530 - accuracy: 0.9677 - val_loss: 0.7573 - val_accuracy: 0.8750\n",
      "Epoch 74/200\n",
      "1/1 [==============================] - 0s 40ms/step - loss: 0.3418 - accuracy: 0.9677 - val_loss: 0.7513 - val_accuracy: 0.8750\n",
      "Epoch 75/200\n",
      "1/1 [==============================] - 0s 40ms/step - loss: 0.3556 - accuracy: 0.9677 - val_loss: 0.7518 - val_accuracy: 0.8750\n",
      "Epoch 76/200\n",
      "1/1 [==============================] - 0s 41ms/step - loss: 0.3552 - accuracy: 0.9677 - val_loss: 0.7583 - val_accuracy: 0.8750\n",
      "Epoch 77/200\n",
      "1/1 [==============================] - 0s 40ms/step - loss: 0.3690 - accuracy: 0.9677 - val_loss: 0.7390 - val_accuracy: 0.8750\n",
      "Epoch 78/200\n",
      "1/1 [==============================] - 0s 39ms/step - loss: 0.3557 - accuracy: 0.9677 - val_loss: 0.7357 - val_accuracy: 0.8750\n",
      "Epoch 79/200\n",
      "1/1 [==============================] - 0s 40ms/step - loss: 0.3729 - accuracy: 0.9677 - val_loss: 0.7306 - val_accuracy: 0.8750\n",
      "Epoch 80/200\n",
      "1/1 [==============================] - 0s 38ms/step - loss: 0.3361 - accuracy: 0.9677 - val_loss: 0.7315 - val_accuracy: 0.8750\n",
      "Epoch 81/200\n",
      "1/1 [==============================] - 0s 38ms/step - loss: 0.3610 - accuracy: 0.9677 - val_loss: 0.7343 - val_accuracy: 0.8750\n",
      "Epoch 82/200\n",
      "1/1 [==============================] - 0s 39ms/step - loss: 0.3478 - accuracy: 0.9677 - val_loss: 0.7359 - val_accuracy: 0.8750\n",
      "Epoch 83/200\n",
      "1/1 [==============================] - 0s 39ms/step - loss: 0.3656 - accuracy: 0.9677 - val_loss: 0.7361 - val_accuracy: 0.8750\n",
      "Epoch 84/200\n",
      "1/1 [==============================] - 0s 38ms/step - loss: 0.3577 - accuracy: 0.9677 - val_loss: 0.7414 - val_accuracy: 0.8750\n",
      "Epoch 85/200\n",
      "1/1 [==============================] - 0s 42ms/step - loss: 0.3442 - accuracy: 0.9677 - val_loss: 0.7507 - val_accuracy: 0.8750\n",
      "Epoch 86/200\n",
      "1/1 [==============================] - 0s 43ms/step - loss: 0.3461 - accuracy: 0.9677 - val_loss: 0.7667 - val_accuracy: 0.8750\n",
      "Epoch 87/200\n",
      "1/1 [==============================] - 0s 42ms/step - loss: 0.3595 - accuracy: 0.9677 - val_loss: 0.7586 - val_accuracy: 0.8750\n",
      "Epoch 88/200\n",
      "1/1 [==============================] - 0s 42ms/step - loss: 0.3433 - accuracy: 0.9677 - val_loss: 0.7572 - val_accuracy: 0.8750\n",
      "Epoch 89/200\n",
      "1/1 [==============================] - 0s 42ms/step - loss: 0.3607 - accuracy: 0.9677 - val_loss: 0.7569 - val_accuracy: 0.8750\n",
      "Epoch 90/200\n",
      "1/1 [==============================] - 0s 41ms/step - loss: 0.3516 - accuracy: 0.9677 - val_loss: 0.7578 - val_accuracy: 0.8750\n",
      "Epoch 91/200\n",
      "1/1 [==============================] - 0s 44ms/step - loss: 0.3534 - accuracy: 0.9677 - val_loss: 0.7464 - val_accuracy: 0.8750\n",
      "Epoch 92/200\n",
      "1/1 [==============================] - 0s 42ms/step - loss: 0.3467 - accuracy: 0.9677 - val_loss: 0.7168 - val_accuracy: 0.8750\n",
      "Epoch 93/200\n",
      "1/1 [==============================] - 0s 41ms/step - loss: 0.3462 - accuracy: 0.9677 - val_loss: 0.7122 - val_accuracy: 0.8750\n",
      "Epoch 94/200\n",
      "1/1 [==============================] - 0s 41ms/step - loss: 0.3624 - accuracy: 0.9677 - val_loss: 0.7169 - val_accuracy: 0.8750\n",
      "Epoch 95/200\n",
      "1/1 [==============================] - 0s 41ms/step - loss: 0.3327 - accuracy: 0.9677 - val_loss: 0.7261 - val_accuracy: 0.8750\n",
      "Epoch 96/200\n",
      "1/1 [==============================] - 0s 43ms/step - loss: 0.3704 - accuracy: 0.9355 - val_loss: 0.7821 - val_accuracy: 0.8750\n",
      "Epoch 97/200\n",
      "1/1 [==============================] - 0s 42ms/step - loss: 0.3359 - accuracy: 0.9677 - val_loss: 0.8566 - val_accuracy: 0.8125\n",
      "Epoch 98/200\n",
      "1/1 [==============================] - 0s 41ms/step - loss: 0.3420 - accuracy: 0.9677 - val_loss: 0.8356 - val_accuracy: 0.8125\n",
      "Epoch 99/200\n",
      "1/1 [==============================] - 0s 42ms/step - loss: 0.4028 - accuracy: 0.9355 - val_loss: 0.7385 - val_accuracy: 0.8750\n",
      "Epoch 100/200\n",
      "1/1 [==============================] - 0s 42ms/step - loss: 0.3336 - accuracy: 1.0000 - val_loss: 0.7564 - val_accuracy: 0.8125\n",
      "Epoch 101/200\n",
      "1/1 [==============================] - 0s 41ms/step - loss: 0.3553 - accuracy: 1.0000 - val_loss: 0.7649 - val_accuracy: 0.8750\n",
      "Epoch 102/200\n",
      "1/1 [==============================] - 0s 42ms/step - loss: 0.3539 - accuracy: 0.9677 - val_loss: 0.8773 - val_accuracy: 0.8125\n",
      "Epoch 103/200\n",
      "1/1 [==============================] - 0s 41ms/step - loss: 0.3545 - accuracy: 0.9355 - val_loss: 0.8639 - val_accuracy: 0.8125\n",
      "Epoch 104/200\n",
      "1/1 [==============================] - 0s 39ms/step - loss: 0.3386 - accuracy: 0.9677 - val_loss: 0.8110 - val_accuracy: 0.8750\n",
      "Epoch 105/200\n",
      "1/1 [==============================] - 0s 39ms/step - loss: 0.3221 - accuracy: 1.0000 - val_loss: 0.7869 - val_accuracy: 0.8750\n",
      "Epoch 106/200\n",
      "1/1 [==============================] - 0s 40ms/step - loss: 0.3311 - accuracy: 1.0000 - val_loss: 0.7883 - val_accuracy: 0.8750\n",
      "Epoch 107/200\n",
      "1/1 [==============================] - 0s 39ms/step - loss: 0.3317 - accuracy: 1.0000 - val_loss: 0.8196 - val_accuracy: 0.8750\n",
      "Epoch 108/200\n",
      "1/1 [==============================] - 0s 38ms/step - loss: 0.3372 - accuracy: 1.0000 - val_loss: 0.9250 - val_accuracy: 0.8125\n",
      "Epoch 109/200\n",
      "1/1 [==============================] - 0s 39ms/step - loss: 0.3443 - accuracy: 0.9677 - val_loss: 0.9043 - val_accuracy: 0.8125\n",
      "Epoch 110/200\n",
      "1/1 [==============================] - 0s 39ms/step - loss: 0.3523 - accuracy: 0.9677 - val_loss: 0.8297 - val_accuracy: 0.8750\n",
      "Epoch 111/200\n",
      "1/1 [==============================] - 0s 38ms/step - loss: 0.3353 - accuracy: 1.0000 - val_loss: 0.8023 - val_accuracy: 0.8750\n",
      "Epoch 112/200\n",
      "1/1 [==============================] - 0s 40ms/step - loss: 0.3672 - accuracy: 1.0000 - val_loss: 0.8760 - val_accuracy: 0.8750\n",
      "Epoch 113/200\n",
      "1/1 [==============================] - 0s 39ms/step - loss: 0.3159 - accuracy: 1.0000 - val_loss: 1.0224 - val_accuracy: 0.8125\n",
      "Epoch 114/200\n",
      "1/1 [==============================] - 0s 41ms/step - loss: 0.3722 - accuracy: 0.9677 - val_loss: 0.9838 - val_accuracy: 0.8750\n",
      "Epoch 115/200\n",
      "1/1 [==============================] - 0s 39ms/step - loss: 0.3721 - accuracy: 0.9677 - val_loss: 0.8667 - val_accuracy: 0.8750\n",
      "Epoch 116/200\n",
      "1/1 [==============================] - 0s 40ms/step - loss: 0.3139 - accuracy: 1.0000 - val_loss: 0.7624 - val_accuracy: 0.8750\n"
     ]
    },
    {
     "name": "stdout",
     "output_type": "stream",
     "text": [
      "Epoch 117/200\n",
      "1/1 [==============================] - 0s 38ms/step - loss: 0.3423 - accuracy: 1.0000 - val_loss: 0.7498 - val_accuracy: 0.8750\n",
      "Epoch 118/200\n",
      "1/1 [==============================] - 0s 40ms/step - loss: 0.3409 - accuracy: 1.0000 - val_loss: 0.8100 - val_accuracy: 0.8750\n",
      "Epoch 119/200\n",
      "1/1 [==============================] - 0s 39ms/step - loss: 0.3150 - accuracy: 1.0000 - val_loss: 0.8617 - val_accuracy: 0.8125\n",
      "Epoch 120/200\n",
      "1/1 [==============================] - 0s 41ms/step - loss: 0.3259 - accuracy: 1.0000 - val_loss: 0.8295 - val_accuracy: 0.8750\n",
      "Epoch 121/200\n",
      "1/1 [==============================] - 0s 43ms/step - loss: 0.3363 - accuracy: 1.0000 - val_loss: 0.7768 - val_accuracy: 0.8750\n",
      "Epoch 122/200\n",
      "1/1 [==============================] - 0s 43ms/step - loss: 0.3167 - accuracy: 1.0000 - val_loss: 0.7847 - val_accuracy: 0.8750\n",
      "Epoch 123/200\n",
      "1/1 [==============================] - 0s 43ms/step - loss: 0.3227 - accuracy: 1.0000 - val_loss: 0.7814 - val_accuracy: 0.8750\n",
      "Epoch 124/200\n",
      "1/1 [==============================] - 0s 42ms/step - loss: 0.3261 - accuracy: 1.0000 - val_loss: 0.7620 - val_accuracy: 0.8750\n",
      "Epoch 125/200\n",
      "1/1 [==============================] - 0s 41ms/step - loss: 0.3326 - accuracy: 1.0000 - val_loss: 0.8282 - val_accuracy: 0.8750\n",
      "Epoch 126/200\n",
      "1/1 [==============================] - 0s 44ms/step - loss: 0.3460 - accuracy: 0.9677 - val_loss: 0.8244 - val_accuracy: 0.8750\n",
      "Epoch 127/200\n",
      "1/1 [==============================] - 0s 44ms/step - loss: 0.3115 - accuracy: 1.0000 - val_loss: 0.8113 - val_accuracy: 0.8750\n",
      "Epoch 128/200\n",
      "1/1 [==============================] - 0s 41ms/step - loss: 0.3698 - accuracy: 0.9677 - val_loss: 0.7271 - val_accuracy: 0.8750\n",
      "Epoch 129/200\n",
      "1/1 [==============================] - 0s 39ms/step - loss: 0.3447 - accuracy: 1.0000 - val_loss: 0.7726 - val_accuracy: 0.8750\n",
      "Epoch 130/200\n",
      "1/1 [==============================] - 0s 40ms/step - loss: 0.3546 - accuracy: 0.9677 - val_loss: 0.9651 - val_accuracy: 0.8125\n",
      "Epoch 131/200\n",
      "1/1 [==============================] - 0s 40ms/step - loss: 0.3523 - accuracy: 0.9677 - val_loss: 0.9900 - val_accuracy: 0.8125\n",
      "Epoch 132/200\n",
      "1/1 [==============================] - 0s 38ms/step - loss: 0.3272 - accuracy: 1.0000 - val_loss: 0.8929 - val_accuracy: 0.8750\n",
      "Epoch 133/200\n",
      "1/1 [==============================] - 0s 39ms/step - loss: 0.3352 - accuracy: 0.9677 - val_loss: 0.7979 - val_accuracy: 0.8750\n",
      "Epoch 134/200\n",
      "1/1 [==============================] - 0s 40ms/step - loss: 0.3398 - accuracy: 0.9677 - val_loss: 0.7667 - val_accuracy: 0.8750\n",
      "Epoch 135/200\n",
      "1/1 [==============================] - 0s 42ms/step - loss: 0.3395 - accuracy: 1.0000 - val_loss: 0.8140 - val_accuracy: 0.8750\n",
      "Epoch 136/200\n",
      "1/1 [==============================] - 0s 48ms/step - loss: 0.3080 - accuracy: 1.0000 - val_loss: 0.9163 - val_accuracy: 0.8125\n",
      "Epoch 137/200\n",
      "1/1 [==============================] - 0s 45ms/step - loss: 0.3533 - accuracy: 0.9355 - val_loss: 0.8738 - val_accuracy: 0.8125\n",
      "Epoch 138/200\n",
      "1/1 [==============================] - 0s 42ms/step - loss: 0.3809 - accuracy: 0.9677 - val_loss: 0.7548 - val_accuracy: 0.8750\n",
      "Epoch 139/200\n",
      "1/1 [==============================] - 0s 39ms/step - loss: 0.3264 - accuracy: 1.0000 - val_loss: 0.8182 - val_accuracy: 0.7500\n",
      "Epoch 140/200\n",
      "1/1 [==============================] - 0s 40ms/step - loss: 0.3604 - accuracy: 1.0000 - val_loss: 0.8109 - val_accuracy: 0.8125\n",
      "Epoch 141/200\n",
      "1/1 [==============================] - 0s 40ms/step - loss: 0.3537 - accuracy: 0.9677 - val_loss: 0.8383 - val_accuracy: 0.8750\n",
      "Epoch 142/200\n",
      "1/1 [==============================] - 0s 38ms/step - loss: 0.3339 - accuracy: 0.9677 - val_loss: 0.9057 - val_accuracy: 0.8125\n",
      "Epoch 143/200\n",
      "1/1 [==============================] - 0s 44ms/step - loss: 0.3448 - accuracy: 0.9677 - val_loss: 0.8985 - val_accuracy: 0.8125\n",
      "Epoch 144/200\n",
      "1/1 [==============================] - 0s 39ms/step - loss: 0.3389 - accuracy: 1.0000 - val_loss: 0.7995 - val_accuracy: 0.8750\n",
      "Epoch 145/200\n",
      "1/1 [==============================] - 0s 39ms/step - loss: 0.3291 - accuracy: 1.0000 - val_loss: 0.7252 - val_accuracy: 0.8750\n",
      "Epoch 146/200\n",
      "1/1 [==============================] - 0s 40ms/step - loss: 0.3296 - accuracy: 1.0000 - val_loss: 0.7144 - val_accuracy: 0.8750\n",
      "Epoch 147/200\n",
      "1/1 [==============================] - 0s 39ms/step - loss: 0.3262 - accuracy: 1.0000 - val_loss: 0.7398 - val_accuracy: 0.8750\n",
      "Epoch 148/200\n",
      "1/1 [==============================] - 0s 42ms/step - loss: 0.3141 - accuracy: 1.0000 - val_loss: 0.7824 - val_accuracy: 0.8750\n",
      "Epoch 149/200\n",
      "1/1 [==============================] - 0s 39ms/step - loss: 0.3152 - accuracy: 1.0000 - val_loss: 0.8129 - val_accuracy: 0.8750\n",
      "Epoch 150/200\n",
      "1/1 [==============================] - 0s 39ms/step - loss: 0.3015 - accuracy: 1.0000 - val_loss: 0.8425 - val_accuracy: 0.8750\n",
      "Epoch 151/200\n",
      "1/1 [==============================] - 0s 39ms/step - loss: 0.3336 - accuracy: 0.9677 - val_loss: 0.8353 - val_accuracy: 0.8750\n",
      "Epoch 152/200\n",
      "1/1 [==============================] - 0s 41ms/step - loss: 0.3169 - accuracy: 1.0000 - val_loss: 0.8069 - val_accuracy: 0.8750\n",
      "Epoch 153/200\n",
      "1/1 [==============================] - 0s 40ms/step - loss: 0.3042 - accuracy: 1.0000 - val_loss: 0.7883 - val_accuracy: 0.8750\n",
      "Epoch 154/200\n",
      "1/1 [==============================] - 0s 42ms/step - loss: 0.3011 - accuracy: 1.0000 - val_loss: 0.7700 - val_accuracy: 0.8750\n",
      "Epoch 155/200\n",
      "1/1 [==============================] - 0s 42ms/step - loss: 0.3195 - accuracy: 1.0000 - val_loss: 0.7662 - val_accuracy: 0.8750\n",
      "Epoch 156/200\n",
      "1/1 [==============================] - 0s 42ms/step - loss: 0.3022 - accuracy: 1.0000 - val_loss: 0.8070 - val_accuracy: 0.8750\n",
      "Epoch 157/200\n",
      "1/1 [==============================] - 0s 45ms/step - loss: 0.3154 - accuracy: 1.0000 - val_loss: 0.8329 - val_accuracy: 0.8125\n",
      "Epoch 158/200\n",
      "1/1 [==============================] - 0s 40ms/step - loss: 0.3569 - accuracy: 0.9355 - val_loss: 0.7374 - val_accuracy: 0.8750\n",
      "Epoch 159/200\n",
      "1/1 [==============================] - 0s 39ms/step - loss: 0.3094 - accuracy: 1.0000 - val_loss: 0.7194 - val_accuracy: 0.8750\n",
      "Epoch 160/200\n",
      "1/1 [==============================] - 0s 39ms/step - loss: 0.3237 - accuracy: 1.0000 - val_loss: 0.7424 - val_accuracy: 0.8750\n",
      "Epoch 161/200\n",
      "1/1 [==============================] - 0s 39ms/step - loss: 0.3160 - accuracy: 1.0000 - val_loss: 0.8220 - val_accuracy: 0.8750\n",
      "Epoch 162/200\n",
      "1/1 [==============================] - 0s 40ms/step - loss: 0.2995 - accuracy: 1.0000 - val_loss: 0.8734 - val_accuracy: 0.8125\n",
      "Epoch 163/200\n",
      "1/1 [==============================] - 0s 41ms/step - loss: 0.3082 - accuracy: 1.0000 - val_loss: 0.8838 - val_accuracy: 0.8125\n",
      "Epoch 164/200\n",
      "1/1 [==============================] - 0s 40ms/step - loss: 0.2963 - accuracy: 1.0000 - val_loss: 0.8803 - val_accuracy: 0.8125\n",
      "Epoch 165/200\n",
      "1/1 [==============================] - 0s 38ms/step - loss: 0.3217 - accuracy: 0.9677 - val_loss: 0.8072 - val_accuracy: 0.8750\n",
      "Epoch 166/200\n",
      "1/1 [==============================] - 0s 41ms/step - loss: 0.3023 - accuracy: 1.0000 - val_loss: 0.7557 - val_accuracy: 0.8750\n",
      "Epoch 167/200\n",
      "1/1 [==============================] - 0s 41ms/step - loss: 0.3056 - accuracy: 1.0000 - val_loss: 0.7269 - val_accuracy: 0.8750\n",
      "Epoch 168/200\n",
      "1/1 [==============================] - 0s 44ms/step - loss: 0.3069 - accuracy: 1.0000 - val_loss: 0.7422 - val_accuracy: 0.8750\n",
      "Epoch 169/200\n",
      "1/1 [==============================] - 0s 39ms/step - loss: 0.3059 - accuracy: 1.0000 - val_loss: 0.8292 - val_accuracy: 0.8125\n",
      "Epoch 170/200\n",
      "1/1 [==============================] - 0s 40ms/step - loss: 0.3006 - accuracy: 1.0000 - val_loss: 0.8886 - val_accuracy: 0.8125\n",
      "Epoch 171/200\n",
      "1/1 [==============================] - 0s 37ms/step - loss: 0.3058 - accuracy: 1.0000 - val_loss: 0.8737 - val_accuracy: 0.8125\n",
      "Epoch 172/200\n",
      "1/1 [==============================] - 0s 40ms/step - loss: 0.3327 - accuracy: 0.9677 - val_loss: 0.7643 - val_accuracy: 0.8750\n",
      "Epoch 173/200\n",
      "1/1 [==============================] - 0s 38ms/step - loss: 0.3068 - accuracy: 1.0000 - val_loss: 0.7243 - val_accuracy: 0.8750\n",
      "Epoch 174/200\n",
      "1/1 [==============================] - 0s 39ms/step - loss: 0.3326 - accuracy: 0.9677 - val_loss: 0.7212 - val_accuracy: 0.8750\n"
     ]
    },
    {
     "name": "stdout",
     "output_type": "stream",
     "text": [
      "Epoch 175/200\n",
      "1/1 [==============================] - 0s 40ms/step - loss: 0.3024 - accuracy: 1.0000 - val_loss: 0.7792 - val_accuracy: 0.8750\n",
      "Epoch 176/200\n",
      "1/1 [==============================] - 0s 39ms/step - loss: 0.3119 - accuracy: 1.0000 - val_loss: 0.9194 - val_accuracy: 0.8125\n",
      "Epoch 177/200\n",
      "1/1 [==============================] - 0s 39ms/step - loss: 0.3303 - accuracy: 0.9677 - val_loss: 0.8787 - val_accuracy: 0.8125\n",
      "Epoch 178/200\n",
      "1/1 [==============================] - 0s 39ms/step - loss: 0.3080 - accuracy: 1.0000 - val_loss: 0.8081 - val_accuracy: 0.8750\n",
      "Epoch 179/200\n",
      "1/1 [==============================] - 0s 39ms/step - loss: 0.2982 - accuracy: 1.0000 - val_loss: 0.7750 - val_accuracy: 0.8750\n",
      "Epoch 180/200\n",
      "1/1 [==============================] - 0s 39ms/step - loss: 0.3064 - accuracy: 1.0000 - val_loss: 0.7673 - val_accuracy: 0.8750\n",
      "Epoch 181/200\n",
      "1/1 [==============================] - 0s 39ms/step - loss: 0.2987 - accuracy: 1.0000 - val_loss: 0.7734 - val_accuracy: 0.8750\n",
      "Epoch 182/200\n",
      "1/1 [==============================] - 0s 40ms/step - loss: 0.3170 - accuracy: 0.9677 - val_loss: 0.7948 - val_accuracy: 0.8750\n",
      "Epoch 183/200\n",
      "1/1 [==============================] - 0s 39ms/step - loss: 0.2932 - accuracy: 1.0000 - val_loss: 0.8315 - val_accuracy: 0.8125\n",
      "Epoch 184/200\n",
      "1/1 [==============================] - 0s 41ms/step - loss: 0.2987 - accuracy: 1.0000 - val_loss: 0.8375 - val_accuracy: 0.8125\n",
      "Epoch 185/200\n",
      "1/1 [==============================] - 0s 40ms/step - loss: 0.3151 - accuracy: 1.0000 - val_loss: 0.7661 - val_accuracy: 0.8750\n",
      "Epoch 186/200\n",
      "1/1 [==============================] - 0s 42ms/step - loss: 0.2988 - accuracy: 1.0000 - val_loss: 0.7139 - val_accuracy: 0.8750\n",
      "Epoch 187/200\n",
      "1/1 [==============================] - 0s 39ms/step - loss: 0.3141 - accuracy: 1.0000 - val_loss: 0.7233 - val_accuracy: 0.8750\n",
      "Epoch 188/200\n",
      "1/1 [==============================] - 0s 40ms/step - loss: 0.3995 - accuracy: 0.9032 - val_loss: 0.8545 - val_accuracy: 0.8125\n",
      "Epoch 189/200\n",
      "1/1 [==============================] - 0s 38ms/step - loss: 0.3818 - accuracy: 0.9677 - val_loss: 0.9748 - val_accuracy: 0.8125\n",
      "Epoch 190/200\n",
      "1/1 [==============================] - 0s 39ms/step - loss: 0.3168 - accuracy: 0.9677 - val_loss: 0.9433 - val_accuracy: 0.8125\n",
      "Epoch 191/200\n",
      "1/1 [==============================] - 0s 39ms/step - loss: 0.3470 - accuracy: 0.9677 - val_loss: 0.7780 - val_accuracy: 0.8750\n",
      "Epoch 192/200\n",
      "1/1 [==============================] - 0s 40ms/step - loss: 0.3035 - accuracy: 1.0000 - val_loss: 0.7207 - val_accuracy: 0.8750\n",
      "Epoch 193/200\n",
      "1/1 [==============================] - 0s 39ms/step - loss: 0.3152 - accuracy: 1.0000 - val_loss: 0.7554 - val_accuracy: 0.8125\n",
      "Epoch 194/200\n",
      "1/1 [==============================] - 0s 39ms/step - loss: 0.3277 - accuracy: 1.0000 - val_loss: 0.7552 - val_accuracy: 0.8125\n",
      "Epoch 195/200\n",
      "1/1 [==============================] - 0s 39ms/step - loss: 0.3694 - accuracy: 0.9677 - val_loss: 0.8117 - val_accuracy: 0.8750\n",
      "Epoch 196/200\n",
      "1/1 [==============================] - 0s 40ms/step - loss: 0.3054 - accuracy: 1.0000 - val_loss: 0.9524 - val_accuracy: 0.8125\n",
      "Epoch 197/200\n",
      "1/1 [==============================] - 0s 39ms/step - loss: 0.3313 - accuracy: 1.0000 - val_loss: 0.9739 - val_accuracy: 0.8125\n",
      "Epoch 198/200\n",
      "1/1 [==============================] - 0s 40ms/step - loss: 0.3589 - accuracy: 0.9355 - val_loss: 0.8423 - val_accuracy: 0.8750\n",
      "Epoch 199/200\n",
      "1/1 [==============================] - 0s 40ms/step - loss: 0.2995 - accuracy: 1.0000 - val_loss: 0.7523 - val_accuracy: 0.8750\n",
      "Epoch 200/200\n",
      "1/1 [==============================] - 0s 40ms/step - loss: 0.3114 - accuracy: 1.0000 - val_loss: 0.7325 - val_accuracy: 0.8750\n",
      "Most important variables:  [5 3 1 7 8 6 4 2 0]\n"
     ]
    }
   ],
   "source": [
    "VIANN = VarImpVIANN(verbose=1)\n",
    "model_3_OPX.compile(optimizer='adam',\n",
    "              loss='binary_crossentropy',\n",
    "              metrics=['accuracy'])\n",
    "hist_4 = model_3_OPX.fit(X_train2, y_traindm2,\n",
    "          batch_size=31, epochs=200,\n",
    "          validation_data=(X_val2, y_valdm2), callbacks=[VIANN])"
   ]
  },
  {
   "cell_type": "code",
   "execution_count": 103,
   "metadata": {},
   "outputs": [
    {
     "data": {
      "image/png": "[encoded data removed]",
      "text/plain": [
       "<Figure size 460.8x316.8 with 1 Axes>"
      ]
     },
     "metadata": {
      "needs_background": "light"
     },
     "output_type": "display_data"
    }
   ],
   "source": [
    "plt.plot(hist_4.history['loss'])\n",
    "plt.plot(hist_4.history['val_loss'])\n",
    "plt.title('Model loss')\n",
    "plt.ylabel('Loss')\n",
    "plt.xlabel('Epoch')\n",
    "plt.legend(['Train', 'Val'], loc='upper right')\n",
    "plt.ylim(top=10, bottom=0)\n",
    "plt.show()"
   ]
  },
  {
   "cell_type": "code",
   "execution_count": 119,
   "metadata": {},
   "outputs": [
    {
     "data": {
      "image/png": "[encoded data removed]",
      "text/plain": [
       "<Figure size 460.8x316.8 with 1 Axes>"
      ]
     },
     "metadata": {
      "needs_background": "light"
     },
     "output_type": "display_data"
    }
   ],
   "source": [
    "plt.plot(hist_4.history['accuracy'])\n",
    "plt.plot(hist_4.history['val_accuracy'])\n",
    "plt.title('Model accuracy')\n",
    "plt.ylabel('Accuracy')\n",
    "plt.xlabel('Epoch')\n",
    "plt.legend(['Train', 'Val'], loc='lower right')\n",
    "plt.show()"
   ]
  },
  {
   "cell_type": "code",
   "execution_count": 120,
   "metadata": {},
   "outputs": [
    {
     "name": "stdout",
     "output_type": "stream",
     "text": [
      "1/1 [==============================] - 0s 14ms/step - loss: 0.8415 - accuracy: 0.8667\n"
     ]
    },
    {
     "data": {
      "text/plain": [
       "0.8666666746139526"
      ]
     },
     "execution_count": 120,
     "metadata": {},
     "output_type": "execute_result"
    }
   ],
   "source": [
    "model_3_OPX.evaluate(X_test2, y_testdm2)[1]"
   ]
  },
  {
   "cell_type": "markdown",
   "metadata": {},
   "source": [
    "**Re-split model loss and accuracy are consistent with previous results.**"
   ]
  },
  {
   "cell_type": "markdown",
   "metadata": {},
   "source": [
    "## Re-Split Data and Verify Results Again (Split number 3)"
   ]
  },
  {
   "cell_type": "markdown",
   "metadata": {},
   "source": [
    "**Shuffle Split**"
   ]
  },
  {
   "cell_type": "code",
   "execution_count": 121,
   "metadata": {},
   "outputs": [
    {
     "data": {
      "text/plain": [
       "1"
      ]
     },
     "execution_count": 121,
     "metadata": {},
     "output_type": "execute_result"
    }
   ],
   "source": [
    "sss3 = StratifiedShuffleSplit(n_splits=1, test_size=0.5, random_state=333)\n",
    "sss3.get_n_splits(X, y['Diamond_High'])"
   ]
  },
  {
   "cell_type": "code",
   "execution_count": 122,
   "metadata": {},
   "outputs": [
    {
     "name": "stdout",
     "output_type": "stream",
     "text": [
      "StratifiedShuffleSplit(n_splits=1, random_state=333, test_size=0.5,\n",
      "            train_size=None)\n"
     ]
    }
   ],
   "source": [
    "print(sss3)"
   ]
  },
  {
   "cell_type": "code",
   "execution_count": 123,
   "metadata": {},
   "outputs": [
    {
     "name": "stdout",
     "output_type": "stream",
     "text": [
      "TRAIN: [17 13 26  1 16 58 38  9 11 37 53 25 39 15 20 33 54 23 46 52 28 49 18 32\n",
      " 14 56 22 24 36  6 40] TESTVAL: [ 3 45 19 41 34 43 12 31 42 21 44 47 51 35  0  2 59  7 55  4 57 29  8  5\n",
      " 10 60 48 27 30 50 61]\n"
     ]
    }
   ],
   "source": [
    "for train_index, test_index in sss3.split(X, y):\n",
    "     print(\"TRAIN:\", train_index, \"TESTVAL:\", test_index)\n",
    "     X_train3, X_testval3 = X.iloc[train_index], X.iloc[test_index]\n",
    "     y_train3, y_testval3 = y.iloc[train_index], y.iloc[test_index]"
   ]
  },
  {
   "cell_type": "markdown",
   "metadata": {},
   "source": [
    "**Split testval into test and validation sets**"
   ]
  },
  {
   "cell_type": "code",
   "execution_count": 124,
   "metadata": {},
   "outputs": [
    {
     "name": "stdout",
     "output_type": "stream",
     "text": [
      "TEST: [ 8 12 17 28  7 18 16 13  1 14  4 23 19  2  3] VAL: [26 20 25  5 29 22 24 15  0 21  6 10 27 30 11  9]\n"
     ]
    }
   ],
   "source": [
    "for train_index, test_index in sss.split(X_testval3, y_testval3):\n",
    "     print(\"TEST:\", train_index, \"VAL:\", test_index)\n",
    "     X_test3, X_val3 = X_testval3.iloc[train_index], X_testval3.iloc[test_index]\n",
    "     y_test3, y_val3 = y_testval3.iloc[train_index], y_testval3.iloc[test_index]"
   ]
  },
  {
   "cell_type": "markdown",
   "metadata": {},
   "source": [
    "**Next encode the categorical variablesfor diamond content, yes and no, using one hot vector multilabel. The data is split first then one hot encoded since the split function cannot handle more than one Y column.**"
   ]
  },
  {
   "cell_type": "code",
   "execution_count": 125,
   "metadata": {},
   "outputs": [
    {
     "data": {
      "text/html": [
       "<div>\n",
       "<style scoped>\n",
       "    .dataframe tbody tr th:only-of-type {\n",
       "        vertical-align: middle;\n",
       "    }\n",
       "\n",
       "    .dataframe tbody tr th {\n",
       "        vertical-align: top;\n",
       "    }\n",
       "\n",
       "    .dataframe thead th {\n",
       "        text-align: right;\n",
       "    }\n",
       "</style>\n",
       "<table border=\"1\" class=\"dataframe\">\n",
       "  <thead>\n",
       "    <tr style=\"text-align: right;\">\n",
       "      <th></th>\n",
       "      <th>diamond_no</th>\n",
       "      <th>diamond_yes</th>\n",
       "    </tr>\n",
       "  </thead>\n",
       "  <tbody>\n",
       "    <tr>\n",
       "      <th>17</th>\n",
       "      <td>0</td>\n",
       "      <td>1</td>\n",
       "    </tr>\n",
       "    <tr>\n",
       "      <th>13</th>\n",
       "      <td>0</td>\n",
       "      <td>1</td>\n",
       "    </tr>\n",
       "    <tr>\n",
       "      <th>26</th>\n",
       "      <td>1</td>\n",
       "      <td>0</td>\n",
       "    </tr>\n",
       "    <tr>\n",
       "      <th>1</th>\n",
       "      <td>0</td>\n",
       "      <td>1</td>\n",
       "    </tr>\n",
       "    <tr>\n",
       "      <th>16</th>\n",
       "      <td>0</td>\n",
       "      <td>1</td>\n",
       "    </tr>\n",
       "  </tbody>\n",
       "</table>\n",
       "</div>"
      ],
      "text/plain": [
       "    diamond_no  diamond_yes\n",
       "17           0            1\n",
       "13           0            1\n",
       "26           1            0\n",
       "1            0            1\n",
       "16           0            1"
      ]
     },
     "execution_count": 125,
     "metadata": {},
     "output_type": "execute_result"
    }
   ],
   "source": [
    "y_traindm3 = pd.get_dummies(y_train3['Diamond_High'], prefix = 'diamond')\n",
    "y_traindm3.head(5)"
   ]
  },
  {
   "cell_type": "code",
   "execution_count": 126,
   "metadata": {},
   "outputs": [
    {
     "data": {
      "text/html": [
       "<div>\n",
       "<style scoped>\n",
       "    .dataframe tbody tr th:only-of-type {\n",
       "        vertical-align: middle;\n",
       "    }\n",
       "\n",
       "    .dataframe tbody tr th {\n",
       "        vertical-align: top;\n",
       "    }\n",
       "\n",
       "    .dataframe thead th {\n",
       "        text-align: right;\n",
       "    }\n",
       "</style>\n",
       "<table border=\"1\" class=\"dataframe\">\n",
       "  <thead>\n",
       "    <tr style=\"text-align: right;\">\n",
       "      <th></th>\n",
       "      <th>Mg_clr</th>\n",
       "      <th>Al_clr</th>\n",
       "      <th>Si_clr</th>\n",
       "      <th>Ca_clr</th>\n",
       "      <th>V_clr</th>\n",
       "      <th>Cr_clr</th>\n",
       "      <th>Mn_clr</th>\n",
       "      <th>Co_clr</th>\n",
       "      <th>Ni_clr</th>\n",
       "    </tr>\n",
       "  </thead>\n",
       "  <tbody>\n",
       "    <tr>\n",
       "      <th>17</th>\n",
       "      <td>4.616337</td>\n",
       "      <td>0.551187</td>\n",
       "      <td>5.182400</td>\n",
       "      <td>0.419646</td>\n",
       "      <td>-4.193727</td>\n",
       "      <td>-0.128854</td>\n",
       "      <td>-0.983820</td>\n",
       "      <td>-0.928189</td>\n",
       "      <td>-4.534978</td>\n",
       "    </tr>\n",
       "    <tr>\n",
       "      <th>13</th>\n",
       "      <td>4.562772</td>\n",
       "      <td>0.531531</td>\n",
       "      <td>5.138177</td>\n",
       "      <td>0.414578</td>\n",
       "      <td>-4.406500</td>\n",
       "      <td>0.220571</td>\n",
       "      <td>-0.956562</td>\n",
       "      <td>-1.056000</td>\n",
       "      <td>-4.448567</td>\n",
       "    </tr>\n",
       "    <tr>\n",
       "      <th>26</th>\n",
       "      <td>4.343641</td>\n",
       "      <td>0.582708</td>\n",
       "      <td>5.084887</td>\n",
       "      <td>0.411945</td>\n",
       "      <td>-4.049761</td>\n",
       "      <td>-0.142813</td>\n",
       "      <td>-1.046464</td>\n",
       "      <td>-3.875516</td>\n",
       "      <td>-1.308627</td>\n",
       "    </tr>\n",
       "    <tr>\n",
       "      <th>1</th>\n",
       "      <td>4.367942</td>\n",
       "      <td>0.398981</td>\n",
       "      <td>5.075569</td>\n",
       "      <td>0.296080</td>\n",
       "      <td>-4.339834</td>\n",
       "      <td>0.307424</td>\n",
       "      <td>-1.080346</td>\n",
       "      <td>-3.891558</td>\n",
       "      <td>-1.134259</td>\n",
       "    </tr>\n",
       "    <tr>\n",
       "      <th>16</th>\n",
       "      <td>4.446299</td>\n",
       "      <td>0.339696</td>\n",
       "      <td>5.212650</td>\n",
       "      <td>0.279282</td>\n",
       "      <td>-4.190954</td>\n",
       "      <td>-0.059541</td>\n",
       "      <td>-0.853760</td>\n",
       "      <td>-0.810336</td>\n",
       "      <td>-4.363334</td>\n",
       "    </tr>\n",
       "  </tbody>\n",
       "</table>\n",
       "</div>"
      ],
      "text/plain": [
       "      Mg_clr    Al_clr    Si_clr    Ca_clr     V_clr    Cr_clr    Mn_clr  \\\n",
       "17  4.616337  0.551187  5.182400  0.419646 -4.193727 -0.128854 -0.983820   \n",
       "13  4.562772  0.531531  5.138177  0.414578 -4.406500  0.220571 -0.956562   \n",
       "26  4.343641  0.582708  5.084887  0.411945 -4.049761 -0.142813 -1.046464   \n",
       "1   4.367942  0.398981  5.075569  0.296080 -4.339834  0.307424 -1.080346   \n",
       "16  4.446299  0.339696  5.212650  0.279282 -4.190954 -0.059541 -0.853760   \n",
       "\n",
       "      Co_clr    Ni_clr  \n",
       "17 -0.928189 -4.534978  \n",
       "13 -1.056000 -4.448567  \n",
       "26 -3.875516 -1.308627  \n",
       "1  -3.891558 -1.134259  \n",
       "16 -0.810336 -4.363334  "
      ]
     },
     "execution_count": 126,
     "metadata": {},
     "output_type": "execute_result"
    }
   ],
   "source": [
    "X_train3.head(5)"
   ]
  },
  {
   "cell_type": "code",
   "execution_count": 127,
   "metadata": {},
   "outputs": [
    {
     "data": {
      "text/html": [
       "<div>\n",
       "<style scoped>\n",
       "    .dataframe tbody tr th:only-of-type {\n",
       "        vertical-align: middle;\n",
       "    }\n",
       "\n",
       "    .dataframe tbody tr th {\n",
       "        vertical-align: top;\n",
       "    }\n",
       "\n",
       "    .dataframe thead th {\n",
       "        text-align: right;\n",
       "    }\n",
       "</style>\n",
       "<table border=\"1\" class=\"dataframe\">\n",
       "  <thead>\n",
       "    <tr style=\"text-align: right;\">\n",
       "      <th></th>\n",
       "      <th>diamond_no</th>\n",
       "      <th>diamond_yes</th>\n",
       "    </tr>\n",
       "  </thead>\n",
       "  <tbody>\n",
       "    <tr>\n",
       "      <th>42</th>\n",
       "      <td>1</td>\n",
       "      <td>0</td>\n",
       "    </tr>\n",
       "    <tr>\n",
       "      <th>51</th>\n",
       "      <td>1</td>\n",
       "      <td>0</td>\n",
       "    </tr>\n",
       "    <tr>\n",
       "      <th>7</th>\n",
       "      <td>0</td>\n",
       "      <td>1</td>\n",
       "    </tr>\n",
       "    <tr>\n",
       "      <th>30</th>\n",
       "      <td>1</td>\n",
       "      <td>0</td>\n",
       "    </tr>\n",
       "    <tr>\n",
       "      <th>31</th>\n",
       "      <td>1</td>\n",
       "      <td>0</td>\n",
       "    </tr>\n",
       "  </tbody>\n",
       "</table>\n",
       "</div>"
      ],
      "text/plain": [
       "    diamond_no  diamond_yes\n",
       "42           1            0\n",
       "51           1            0\n",
       "7            0            1\n",
       "30           1            0\n",
       "31           1            0"
      ]
     },
     "execution_count": 127,
     "metadata": {},
     "output_type": "execute_result"
    }
   ],
   "source": [
    "y_testdm3 = pd.get_dummies(y_test3['Diamond_High'], prefix = 'diamond')\n",
    "y_testdm3.head(5)"
   ]
  },
  {
   "cell_type": "code",
   "execution_count": 128,
   "metadata": {},
   "outputs": [
    {
     "data": {
      "text/html": [
       "<div>\n",
       "<style scoped>\n",
       "    .dataframe tbody tr th:only-of-type {\n",
       "        vertical-align: middle;\n",
       "    }\n",
       "\n",
       "    .dataframe tbody tr th {\n",
       "        vertical-align: top;\n",
       "    }\n",
       "\n",
       "    .dataframe thead th {\n",
       "        text-align: right;\n",
       "    }\n",
       "</style>\n",
       "<table border=\"1\" class=\"dataframe\">\n",
       "  <thead>\n",
       "    <tr style=\"text-align: right;\">\n",
       "      <th></th>\n",
       "      <th>Mg_clr</th>\n",
       "      <th>Al_clr</th>\n",
       "      <th>Si_clr</th>\n",
       "      <th>Ca_clr</th>\n",
       "      <th>V_clr</th>\n",
       "      <th>Cr_clr</th>\n",
       "      <th>Mn_clr</th>\n",
       "      <th>Co_clr</th>\n",
       "      <th>Ni_clr</th>\n",
       "    </tr>\n",
       "  </thead>\n",
       "  <tbody>\n",
       "    <tr>\n",
       "      <th>42</th>\n",
       "      <td>4.699326</td>\n",
       "      <td>0.403762</td>\n",
       "      <td>5.170869</td>\n",
       "      <td>0.202038</td>\n",
       "      <td>-4.799676</td>\n",
       "      <td>-0.250927</td>\n",
       "      <td>-0.690165</td>\n",
       "      <td>-3.692221</td>\n",
       "      <td>-1.043006</td>\n",
       "    </tr>\n",
       "    <tr>\n",
       "      <th>51</th>\n",
       "      <td>3.809213</td>\n",
       "      <td>1.096062</td>\n",
       "      <td>4.837393</td>\n",
       "      <td>1.169519</td>\n",
       "      <td>-3.520195</td>\n",
       "      <td>-1.066997</td>\n",
       "      <td>-0.855457</td>\n",
       "      <td>-1.541207</td>\n",
       "      <td>-3.928330</td>\n",
       "    </tr>\n",
       "    <tr>\n",
       "      <th>7</th>\n",
       "      <td>4.368864</td>\n",
       "      <td>0.415001</td>\n",
       "      <td>5.180162</td>\n",
       "      <td>0.448946</td>\n",
       "      <td>-4.362613</td>\n",
       "      <td>0.335066</td>\n",
       "      <td>-0.969999</td>\n",
       "      <td>-1.050761</td>\n",
       "      <td>-4.364666</td>\n",
       "    </tr>\n",
       "    <tr>\n",
       "      <th>30</th>\n",
       "      <td>4.630818</td>\n",
       "      <td>0.575157</td>\n",
       "      <td>5.227492</td>\n",
       "      <td>0.342289</td>\n",
       "      <td>-4.118105</td>\n",
       "      <td>-0.335019</td>\n",
       "      <td>-1.038891</td>\n",
       "      <td>-3.944120</td>\n",
       "      <td>-1.339621</td>\n",
       "    </tr>\n",
       "    <tr>\n",
       "      <th>31</th>\n",
       "      <td>4.559968</td>\n",
       "      <td>0.685881</td>\n",
       "      <td>5.152005</td>\n",
       "      <td>0.498136</td>\n",
       "      <td>-4.268312</td>\n",
       "      <td>-0.415279</td>\n",
       "      <td>-1.026869</td>\n",
       "      <td>-3.963524</td>\n",
       "      <td>-1.222008</td>\n",
       "    </tr>\n",
       "  </tbody>\n",
       "</table>\n",
       "</div>"
      ],
      "text/plain": [
       "      Mg_clr    Al_clr    Si_clr    Ca_clr     V_clr    Cr_clr    Mn_clr  \\\n",
       "42  4.699326  0.403762  5.170869  0.202038 -4.799676 -0.250927 -0.690165   \n",
       "51  3.809213  1.096062  4.837393  1.169519 -3.520195 -1.066997 -0.855457   \n",
       "7   4.368864  0.415001  5.180162  0.448946 -4.362613  0.335066 -0.969999   \n",
       "30  4.630818  0.575157  5.227492  0.342289 -4.118105 -0.335019 -1.038891   \n",
       "31  4.559968  0.685881  5.152005  0.498136 -4.268312 -0.415279 -1.026869   \n",
       "\n",
       "      Co_clr    Ni_clr  \n",
       "42 -3.692221 -1.043006  \n",
       "51 -1.541207 -3.928330  \n",
       "7  -1.050761 -4.364666  \n",
       "30 -3.944120 -1.339621  \n",
       "31 -3.963524 -1.222008  "
      ]
     },
     "execution_count": 128,
     "metadata": {},
     "output_type": "execute_result"
    }
   ],
   "source": [
    "X_test3.head(5)"
   ]
  },
  {
   "cell_type": "code",
   "execution_count": 129,
   "metadata": {},
   "outputs": [
    {
     "data": {
      "text/html": [
       "<div>\n",
       "<style scoped>\n",
       "    .dataframe tbody tr th:only-of-type {\n",
       "        vertical-align: middle;\n",
       "    }\n",
       "\n",
       "    .dataframe tbody tr th {\n",
       "        vertical-align: top;\n",
       "    }\n",
       "\n",
       "    .dataframe thead th {\n",
       "        text-align: right;\n",
       "    }\n",
       "</style>\n",
       "<table border=\"1\" class=\"dataframe\">\n",
       "  <thead>\n",
       "    <tr style=\"text-align: right;\">\n",
       "      <th></th>\n",
       "      <th>diamond_no</th>\n",
       "      <th>diamond_yes</th>\n",
       "    </tr>\n",
       "  </thead>\n",
       "  <tbody>\n",
       "    <tr>\n",
       "      <th>48</th>\n",
       "      <td>1</td>\n",
       "      <td>0</td>\n",
       "    </tr>\n",
       "    <tr>\n",
       "      <th>57</th>\n",
       "      <td>1</td>\n",
       "      <td>0</td>\n",
       "    </tr>\n",
       "    <tr>\n",
       "      <th>60</th>\n",
       "      <td>1</td>\n",
       "      <td>0</td>\n",
       "    </tr>\n",
       "    <tr>\n",
       "      <th>43</th>\n",
       "      <td>1</td>\n",
       "      <td>0</td>\n",
       "    </tr>\n",
       "    <tr>\n",
       "      <th>50</th>\n",
       "      <td>1</td>\n",
       "      <td>0</td>\n",
       "    </tr>\n",
       "  </tbody>\n",
       "</table>\n",
       "</div>"
      ],
      "text/plain": [
       "    diamond_no  diamond_yes\n",
       "48           1            0\n",
       "57           1            0\n",
       "60           1            0\n",
       "43           1            0\n",
       "50           1            0"
      ]
     },
     "execution_count": 129,
     "metadata": {},
     "output_type": "execute_result"
    }
   ],
   "source": [
    "y_valdm3 = pd.get_dummies(y_val3['Diamond_High'], prefix = 'diamond')\n",
    "y_valdm3.head(5)"
   ]
  },
  {
   "cell_type": "code",
   "execution_count": 130,
   "metadata": {},
   "outputs": [
    {
     "data": {
      "text/html": [
       "<div>\n",
       "<style scoped>\n",
       "    .dataframe tbody tr th:only-of-type {\n",
       "        vertical-align: middle;\n",
       "    }\n",
       "\n",
       "    .dataframe tbody tr th {\n",
       "        vertical-align: top;\n",
       "    }\n",
       "\n",
       "    .dataframe thead th {\n",
       "        text-align: right;\n",
       "    }\n",
       "</style>\n",
       "<table border=\"1\" class=\"dataframe\">\n",
       "  <thead>\n",
       "    <tr style=\"text-align: right;\">\n",
       "      <th></th>\n",
       "      <th>Mg_clr</th>\n",
       "      <th>Al_clr</th>\n",
       "      <th>Si_clr</th>\n",
       "      <th>Ca_clr</th>\n",
       "      <th>V_clr</th>\n",
       "      <th>Cr_clr</th>\n",
       "      <th>Mn_clr</th>\n",
       "      <th>Co_clr</th>\n",
       "      <th>Ni_clr</th>\n",
       "    </tr>\n",
       "  </thead>\n",
       "  <tbody>\n",
       "    <tr>\n",
       "      <th>48</th>\n",
       "      <td>4.207566</td>\n",
       "      <td>1.152715</td>\n",
       "      <td>5.267157</td>\n",
       "      <td>-0.553267</td>\n",
       "      <td>-4.114179</td>\n",
       "      <td>0.423377</td>\n",
       "      <td>-0.981493</td>\n",
       "      <td>-0.940816</td>\n",
       "      <td>-4.461060</td>\n",
       "    </tr>\n",
       "    <tr>\n",
       "      <th>57</th>\n",
       "      <td>3.678692</td>\n",
       "      <td>1.106558</td>\n",
       "      <td>4.787145</td>\n",
       "      <td>1.259681</td>\n",
       "      <td>-3.551525</td>\n",
       "      <td>-1.094329</td>\n",
       "      <td>-0.713901</td>\n",
       "      <td>-1.547538</td>\n",
       "      <td>-3.924783</td>\n",
       "    </tr>\n",
       "    <tr>\n",
       "      <th>60</th>\n",
       "      <td>4.184797</td>\n",
       "      <td>1.285919</td>\n",
       "      <td>4.852873</td>\n",
       "      <td>1.289535</td>\n",
       "      <td>-3.615512</td>\n",
       "      <td>-1.176985</td>\n",
       "      <td>-0.980562</td>\n",
       "      <td>-1.669705</td>\n",
       "      <td>-4.170358</td>\n",
       "    </tr>\n",
       "    <tr>\n",
       "      <th>43</th>\n",
       "      <td>4.252286</td>\n",
       "      <td>1.252272</td>\n",
       "      <td>4.818176</td>\n",
       "      <td>1.264797</td>\n",
       "      <td>-3.661628</td>\n",
       "      <td>-1.171622</td>\n",
       "      <td>-1.009459</td>\n",
       "      <td>-1.586211</td>\n",
       "      <td>-4.158613</td>\n",
       "    </tr>\n",
       "    <tr>\n",
       "      <th>50</th>\n",
       "      <td>4.115828</td>\n",
       "      <td>0.605323</td>\n",
       "      <td>5.008571</td>\n",
       "      <td>0.763161</td>\n",
       "      <td>-3.941928</td>\n",
       "      <td>-0.456259</td>\n",
       "      <td>-0.785667</td>\n",
       "      <td>-1.254473</td>\n",
       "      <td>-4.054557</td>\n",
       "    </tr>\n",
       "  </tbody>\n",
       "</table>\n",
       "</div>"
      ],
      "text/plain": [
       "      Mg_clr    Al_clr    Si_clr    Ca_clr     V_clr    Cr_clr    Mn_clr  \\\n",
       "48  4.207566  1.152715  5.267157 -0.553267 -4.114179  0.423377 -0.981493   \n",
       "57  3.678692  1.106558  4.787145  1.259681 -3.551525 -1.094329 -0.713901   \n",
       "60  4.184797  1.285919  4.852873  1.289535 -3.615512 -1.176985 -0.980562   \n",
       "43  4.252286  1.252272  4.818176  1.264797 -3.661628 -1.171622 -1.009459   \n",
       "50  4.115828  0.605323  5.008571  0.763161 -3.941928 -0.456259 -0.785667   \n",
       "\n",
       "      Co_clr    Ni_clr  \n",
       "48 -0.940816 -4.461060  \n",
       "57 -1.547538 -3.924783  \n",
       "60 -1.669705 -4.170358  \n",
       "43 -1.586211 -4.158613  \n",
       "50 -1.254473 -4.054557  "
      ]
     },
     "execution_count": 130,
     "metadata": {},
     "output_type": "execute_result"
    }
   ],
   "source": [
    "X_val3.head(5)"
   ]
  },
  {
   "cell_type": "markdown",
   "metadata": {},
   "source": [
    "# Building and Training the Neural Network with Re-Split Data"
   ]
  },
  {
   "cell_type": "code",
   "execution_count": 131,
   "metadata": {},
   "outputs": [
    {
     "name": "stdout",
     "output_type": "stream",
     "text": [
      "VIANN version 1.0 (Wellford + Mean) update per epoch\n",
      "Epoch 1/200\n",
      "1/1 [==============================] - 1s 849ms/step - loss: 0.2680 - accuracy: 1.0000 - val_loss: 0.9502 - val_accuracy: 0.7500\n",
      "Epoch 2/200\n",
      "1/1 [==============================] - 0s 51ms/step - loss: 0.3997 - accuracy: 0.9032 - val_loss: 1.0824 - val_accuracy: 0.8125\n",
      "Epoch 3/200\n",
      "1/1 [==============================] - 0s 40ms/step - loss: 0.3206 - accuracy: 0.9677 - val_loss: 1.2235 - val_accuracy: 0.7500\n",
      "Epoch 4/200\n",
      "1/1 [==============================] - 0s 39ms/step - loss: 0.4157 - accuracy: 0.9032 - val_loss: 0.9627 - val_accuracy: 0.8750\n",
      "Epoch 5/200\n",
      "1/1 [==============================] - 0s 41ms/step - loss: 0.3076 - accuracy: 0.9677 - val_loss: 0.8163 - val_accuracy: 0.8750\n",
      "Epoch 6/200\n",
      "1/1 [==============================] - 0s 40ms/step - loss: 0.2860 - accuracy: 1.0000 - val_loss: 0.8519 - val_accuracy: 0.6875\n",
      "Epoch 7/200\n",
      "1/1 [==============================] - 0s 42ms/step - loss: 0.3794 - accuracy: 0.9355 - val_loss: 0.8091 - val_accuracy: 0.7500\n",
      "Epoch 8/200\n",
      "1/1 [==============================] - 0s 39ms/step - loss: 0.3347 - accuracy: 0.9677 - val_loss: 0.8161 - val_accuracy: 0.8750\n",
      "Epoch 9/200\n",
      "1/1 [==============================] - 0s 39ms/step - loss: 0.2902 - accuracy: 1.0000 - val_loss: 0.9395 - val_accuracy: 0.8125\n",
      "Epoch 10/200\n",
      "1/1 [==============================] - 0s 39ms/step - loss: 0.2777 - accuracy: 1.0000 - val_loss: 1.0752 - val_accuracy: 0.8125\n",
      "Epoch 11/200\n",
      "1/1 [==============================] - 0s 39ms/step - loss: 0.3433 - accuracy: 0.9355 - val_loss: 1.0850 - val_accuracy: 0.8125\n",
      "Epoch 12/200\n",
      "1/1 [==============================] - 0s 42ms/step - loss: 0.3248 - accuracy: 0.9355 - val_loss: 1.0034 - val_accuracy: 0.8125\n",
      "Epoch 13/200\n",
      "1/1 [==============================] - 0s 39ms/step - loss: 0.2974 - accuracy: 1.0000 - val_loss: 0.9111 - val_accuracy: 0.8750\n",
      "Epoch 14/200\n",
      "1/1 [==============================] - 0s 40ms/step - loss: 0.2753 - accuracy: 1.0000 - val_loss: 0.8577 - val_accuracy: 0.8750\n",
      "Epoch 15/200\n",
      "1/1 [==============================] - 0s 39ms/step - loss: 0.2750 - accuracy: 1.0000 - val_loss: 0.8330 - val_accuracy: 0.8750\n",
      "Epoch 16/200\n",
      "1/1 [==============================] - 0s 40ms/step - loss: 0.2896 - accuracy: 1.0000 - val_loss: 0.8357 - val_accuracy: 0.8125\n",
      "Epoch 17/200\n",
      "1/1 [==============================] - 0s 39ms/step - loss: 0.2866 - accuracy: 1.0000 - val_loss: 0.8340 - val_accuracy: 0.8125\n",
      "Epoch 18/200\n",
      "1/1 [==============================] - 0s 42ms/step - loss: 0.2890 - accuracy: 1.0000 - val_loss: 0.8335 - val_accuracy: 0.8750\n",
      "Epoch 19/200\n",
      "1/1 [==============================] - 0s 37ms/step - loss: 0.2868 - accuracy: 1.0000 - val_loss: 0.8510 - val_accuracy: 0.8750\n",
      "Epoch 20/200\n",
      "1/1 [==============================] - 0s 39ms/step - loss: 0.2666 - accuracy: 1.0000 - val_loss: 0.8915 - val_accuracy: 0.8750\n",
      "Epoch 21/200\n",
      "1/1 [==============================] - 0s 39ms/step - loss: 0.2653 - accuracy: 1.0000 - val_loss: 0.9352 - val_accuracy: 0.8750\n",
      "Epoch 22/200\n",
      "1/1 [==============================] - 0s 39ms/step - loss: 0.2662 - accuracy: 1.0000 - val_loss: 0.9804 - val_accuracy: 0.8125\n",
      "Epoch 23/200\n",
      "1/1 [==============================] - 0s 40ms/step - loss: 0.2779 - accuracy: 1.0000 - val_loss: 1.0075 - val_accuracy: 0.8125\n",
      "Epoch 24/200\n",
      "1/1 [==============================] - 0s 41ms/step - loss: 0.3522 - accuracy: 0.9355 - val_loss: 0.9528 - val_accuracy: 0.8750\n",
      "Epoch 25/200\n",
      "1/1 [==============================] - 0s 41ms/step - loss: 0.2691 - accuracy: 1.0000 - val_loss: 0.9042 - val_accuracy: 0.8750\n",
      "Epoch 26/200\n",
      "1/1 [==============================] - 0s 38ms/step - loss: 0.2648 - accuracy: 1.0000 - val_loss: 0.8566 - val_accuracy: 0.8750\n",
      "Epoch 27/200\n",
      "1/1 [==============================] - 0s 39ms/step - loss: 0.2768 - accuracy: 1.0000 - val_loss: 0.8174 - val_accuracy: 0.8750\n",
      "Epoch 28/200\n",
      "1/1 [==============================] - 0s 39ms/step - loss: 0.2745 - accuracy: 1.0000 - val_loss: 0.8042 - val_accuracy: 0.8750\n",
      "Epoch 29/200\n",
      "1/1 [==============================] - 0s 39ms/step - loss: 0.2864 - accuracy: 1.0000 - val_loss: 0.8114 - val_accuracy: 0.8750\n",
      "Epoch 30/200\n",
      "1/1 [==============================] - 0s 42ms/step - loss: 0.2645 - accuracy: 1.0000 - val_loss: 0.8269 - val_accuracy: 0.8750\n",
      "Epoch 31/200\n",
      "1/1 [==============================] - 0s 41ms/step - loss: 0.2752 - accuracy: 1.0000 - val_loss: 0.8559 - val_accuracy: 0.8750\n",
      "Epoch 32/200\n",
      "1/1 [==============================] - 0s 38ms/step - loss: 0.3341 - accuracy: 0.9677 - val_loss: 0.8436 - val_accuracy: 0.8750\n",
      "Epoch 33/200\n",
      "1/1 [==============================] - 0s 39ms/step - loss: 0.2616 - accuracy: 1.0000 - val_loss: 0.8346 - val_accuracy: 0.8750\n",
      "Epoch 34/200\n",
      "1/1 [==============================] - 0s 39ms/step - loss: 0.2642 - accuracy: 1.0000 - val_loss: 0.8244 - val_accuracy: 0.8750\n",
      "Epoch 35/200\n",
      "1/1 [==============================] - 0s 39ms/step - loss: 0.2707 - accuracy: 1.0000 - val_loss: 0.8169 - val_accuracy: 0.8750\n",
      "Epoch 36/200\n",
      "1/1 [==============================] - 0s 39ms/step - loss: 0.2757 - accuracy: 1.0000 - val_loss: 0.8308 - val_accuracy: 0.8750\n",
      "Epoch 37/200\n",
      "1/1 [==============================] - 0s 41ms/step - loss: 0.2652 - accuracy: 1.0000 - val_loss: 0.8457 - val_accuracy: 0.8750\n",
      "Epoch 38/200\n",
      "1/1 [==============================] - 0s 38ms/step - loss: 0.2686 - accuracy: 1.0000 - val_loss: 0.8495 - val_accuracy: 0.8750\n",
      "Epoch 39/200\n",
      "1/1 [==============================] - 0s 38ms/step - loss: 0.2747 - accuracy: 1.0000 - val_loss: 0.8498 - val_accuracy: 0.8750\n",
      "Epoch 40/200\n",
      "1/1 [==============================] - 0s 39ms/step - loss: 0.2639 - accuracy: 1.0000 - val_loss: 0.8430 - val_accuracy: 0.8750\n",
      "Epoch 41/200\n",
      "1/1 [==============================] - 0s 40ms/step - loss: 0.2661 - accuracy: 1.0000 - val_loss: 0.8425 - val_accuracy: 0.8750\n",
      "Epoch 42/200\n",
      "1/1 [==============================] - 0s 38ms/step - loss: 0.2629 - accuracy: 1.0000 - val_loss: 0.8369 - val_accuracy: 0.8750\n",
      "Epoch 43/200\n",
      "1/1 [==============================] - 0s 41ms/step - loss: 0.2690 - accuracy: 1.0000 - val_loss: 0.8343 - val_accuracy: 0.8750\n",
      "Epoch 44/200\n",
      "1/1 [==============================] - 0s 39ms/step - loss: 0.2608 - accuracy: 1.0000 - val_loss: 0.8464 - val_accuracy: 0.8750\n",
      "Epoch 45/200\n",
      "1/1 [==============================] - 0s 39ms/step - loss: 0.2607 - accuracy: 1.0000 - val_loss: 0.8689 - val_accuracy: 0.8750\n",
      "Epoch 46/200\n",
      "1/1 [==============================] - 0s 39ms/step - loss: 0.2712 - accuracy: 1.0000 - val_loss: 0.8836 - val_accuracy: 0.8750\n",
      "Epoch 47/200\n",
      "1/1 [==============================] - 0s 39ms/step - loss: 0.2617 - accuracy: 1.0000 - val_loss: 0.8916 - val_accuracy: 0.8750\n",
      "Epoch 48/200\n",
      "1/1 [==============================] - 0s 42ms/step - loss: 0.2650 - accuracy: 1.0000 - val_loss: 0.8733 - val_accuracy: 0.8750\n",
      "Epoch 49/200\n",
      "1/1 [==============================] - 0s 42ms/step - loss: 0.2541 - accuracy: 1.0000 - val_loss: 0.8593 - val_accuracy: 0.8750\n",
      "Epoch 50/200\n",
      "1/1 [==============================] - 0s 39ms/step - loss: 0.2702 - accuracy: 1.0000 - val_loss: 0.8380 - val_accuracy: 0.8750\n",
      "Epoch 51/200\n",
      "1/1 [==============================] - 0s 40ms/step - loss: 0.2663 - accuracy: 1.0000 - val_loss: 0.8225 - val_accuracy: 0.8750\n",
      "Epoch 52/200\n",
      "1/1 [==============================] - 0s 41ms/step - loss: 0.2710 - accuracy: 1.0000 - val_loss: 0.8362 - val_accuracy: 0.8750\n",
      "Epoch 53/200\n",
      "1/1 [==============================] - 0s 45ms/step - loss: 0.2578 - accuracy: 1.0000 - val_loss: 0.8563 - val_accuracy: 0.8750\n",
      "Epoch 54/200\n",
      "1/1 [==============================] - 0s 40ms/step - loss: 0.2731 - accuracy: 1.0000 - val_loss: 0.8433 - val_accuracy: 0.8750\n",
      "Epoch 55/200\n",
      "1/1 [==============================] - 0s 41ms/step - loss: 0.2589 - accuracy: 1.0000 - val_loss: 0.8151 - val_accuracy: 0.8750\n",
      "Epoch 56/200\n",
      "1/1 [==============================] - 0s 40ms/step - loss: 0.2536 - accuracy: 1.0000 - val_loss: 0.8000 - val_accuracy: 0.8750\n",
      "Epoch 57/200\n",
      "1/1 [==============================] - 0s 40ms/step - loss: 0.2660 - accuracy: 1.0000 - val_loss: 0.7986 - val_accuracy: 0.8750\n",
      "Epoch 58/200\n",
      "1/1 [==============================] - 0s 39ms/step - loss: 0.2576 - accuracy: 1.0000 - val_loss: 0.8073 - val_accuracy: 0.8750\n"
     ]
    },
    {
     "name": "stdout",
     "output_type": "stream",
     "text": [
      "Epoch 59/200\n",
      "1/1 [==============================] - 0s 42ms/step - loss: 0.2661 - accuracy: 1.0000 - val_loss: 0.8305 - val_accuracy: 0.8750\n",
      "Epoch 60/200\n",
      "1/1 [==============================] - 0s 42ms/step - loss: 0.2553 - accuracy: 1.0000 - val_loss: 0.8659 - val_accuracy: 0.8750\n",
      "Epoch 61/200\n",
      "1/1 [==============================] - 0s 41ms/step - loss: 0.2582 - accuracy: 1.0000 - val_loss: 0.8876 - val_accuracy: 0.8750\n",
      "Epoch 62/200\n",
      "1/1 [==============================] - 0s 42ms/step - loss: 0.2630 - accuracy: 1.0000 - val_loss: 0.8939 - val_accuracy: 0.8750\n",
      "Epoch 63/200\n",
      "1/1 [==============================] - 0s 40ms/step - loss: 0.2709 - accuracy: 1.0000 - val_loss: 0.8826 - val_accuracy: 0.8750\n",
      "Epoch 64/200\n",
      "1/1 [==============================] - 0s 39ms/step - loss: 0.2536 - accuracy: 1.0000 - val_loss: 0.8582 - val_accuracy: 0.8750\n",
      "Epoch 65/200\n",
      "1/1 [==============================] - 0s 42ms/step - loss: 0.2608 - accuracy: 1.0000 - val_loss: 0.8273 - val_accuracy: 0.8750\n",
      "Epoch 66/200\n",
      "1/1 [==============================] - 0s 41ms/step - loss: 0.2720 - accuracy: 1.0000 - val_loss: 0.8210 - val_accuracy: 0.8750\n",
      "Epoch 67/200\n",
      "1/1 [==============================] - 0s 41ms/step - loss: 0.2891 - accuracy: 0.9677 - val_loss: 0.8316 - val_accuracy: 0.8750\n",
      "Epoch 68/200\n",
      "1/1 [==============================] - 0s 42ms/step - loss: 0.2557 - accuracy: 1.0000 - val_loss: 0.8626 - val_accuracy: 0.8750\n",
      "Epoch 69/200\n",
      "1/1 [==============================] - 0s 39ms/step - loss: 0.2602 - accuracy: 1.0000 - val_loss: 0.8821 - val_accuracy: 0.8750\n",
      "Epoch 70/200\n",
      "1/1 [==============================] - 0s 39ms/step - loss: 0.2591 - accuracy: 1.0000 - val_loss: 0.8945 - val_accuracy: 0.8750\n",
      "Epoch 71/200\n",
      "1/1 [==============================] - 0s 41ms/step - loss: 0.2561 - accuracy: 1.0000 - val_loss: 0.8885 - val_accuracy: 0.8750\n",
      "Epoch 72/200\n",
      "1/1 [==============================] - 0s 43ms/step - loss: 0.2510 - accuracy: 1.0000 - val_loss: 0.8763 - val_accuracy: 0.8750\n",
      "Epoch 73/200\n",
      "1/1 [==============================] - 0s 39ms/step - loss: 0.2552 - accuracy: 1.0000 - val_loss: 0.8546 - val_accuracy: 0.8750\n",
      "Epoch 74/200\n",
      "1/1 [==============================] - 0s 40ms/step - loss: 0.2511 - accuracy: 1.0000 - val_loss: 0.8380 - val_accuracy: 0.8750\n",
      "Epoch 75/200\n",
      "1/1 [==============================] - 0s 40ms/step - loss: 0.2707 - accuracy: 1.0000 - val_loss: 0.8320 - val_accuracy: 0.8750\n",
      "Epoch 76/200\n",
      "1/1 [==============================] - 0s 40ms/step - loss: 0.2554 - accuracy: 1.0000 - val_loss: 0.8324 - val_accuracy: 0.8750\n",
      "Epoch 77/200\n",
      "1/1 [==============================] - 0s 39ms/step - loss: 0.2547 - accuracy: 1.0000 - val_loss: 0.8331 - val_accuracy: 0.8750\n",
      "Epoch 78/200\n",
      "1/1 [==============================] - 0s 40ms/step - loss: 0.2532 - accuracy: 1.0000 - val_loss: 0.8352 - val_accuracy: 0.8750\n",
      "Epoch 79/200\n",
      "1/1 [==============================] - 0s 40ms/step - loss: 0.2545 - accuracy: 1.0000 - val_loss: 0.8504 - val_accuracy: 0.8750\n",
      "Epoch 80/200\n",
      "1/1 [==============================] - 0s 39ms/step - loss: 0.2520 - accuracy: 1.0000 - val_loss: 0.8846 - val_accuracy: 0.8750\n",
      "Epoch 81/200\n",
      "1/1 [==============================] - 0s 43ms/step - loss: 0.2592 - accuracy: 1.0000 - val_loss: 0.9013 - val_accuracy: 0.8750\n",
      "Epoch 82/200\n",
      "1/1 [==============================] - 0s 42ms/step - loss: 0.2515 - accuracy: 1.0000 - val_loss: 0.9195 - val_accuracy: 0.8750\n",
      "Epoch 83/200\n",
      "1/1 [==============================] - 0s 42ms/step - loss: 0.2576 - accuracy: 1.0000 - val_loss: 0.9152 - val_accuracy: 0.8750\n",
      "Epoch 84/200\n",
      "1/1 [==============================] - 0s 41ms/step - loss: 0.2540 - accuracy: 1.0000 - val_loss: 0.8964 - val_accuracy: 0.8750\n",
      "Epoch 85/200\n",
      "1/1 [==============================] - 0s 39ms/step - loss: 0.2591 - accuracy: 1.0000 - val_loss: 0.8702 - val_accuracy: 0.8750\n",
      "Epoch 86/200\n",
      "1/1 [==============================] - 0s 40ms/step - loss: 0.2544 - accuracy: 1.0000 - val_loss: 0.8419 - val_accuracy: 0.8750\n",
      "Epoch 87/200\n",
      "1/1 [==============================] - 0s 39ms/step - loss: 0.2683 - accuracy: 1.0000 - val_loss: 0.8438 - val_accuracy: 0.8750\n",
      "Epoch 88/200\n",
      "1/1 [==============================] - 0s 39ms/step - loss: 0.2623 - accuracy: 1.0000 - val_loss: 0.8680 - val_accuracy: 0.8750\n",
      "Epoch 89/200\n",
      "1/1 [==============================] - 0s 38ms/step - loss: 0.2550 - accuracy: 1.0000 - val_loss: 0.8831 - val_accuracy: 0.8750\n",
      "Epoch 90/200\n",
      "1/1 [==============================] - 0s 41ms/step - loss: 0.2616 - accuracy: 1.0000 - val_loss: 0.8840 - val_accuracy: 0.8750\n",
      "Epoch 91/200\n",
      "1/1 [==============================] - 0s 40ms/step - loss: 0.2481 - accuracy: 1.0000 - val_loss: 0.8746 - val_accuracy: 0.8750\n",
      "Epoch 92/200\n",
      "1/1 [==============================] - 0s 41ms/step - loss: 0.2489 - accuracy: 1.0000 - val_loss: 0.8471 - val_accuracy: 0.8750\n",
      "Epoch 93/200\n",
      "1/1 [==============================] - 0s 40ms/step - loss: 0.2538 - accuracy: 1.0000 - val_loss: 0.8161 - val_accuracy: 0.8750\n",
      "Epoch 94/200\n",
      "1/1 [==============================] - 0s 39ms/step - loss: 0.2524 - accuracy: 1.0000 - val_loss: 0.8046 - val_accuracy: 0.8750\n",
      "Epoch 95/200\n",
      "1/1 [==============================] - 0s 41ms/step - loss: 0.2601 - accuracy: 1.0000 - val_loss: 0.8196 - val_accuracy: 0.8750\n",
      "Epoch 96/200\n",
      "1/1 [==============================] - 0s 42ms/step - loss: 0.2472 - accuracy: 1.0000 - val_loss: 0.8336 - val_accuracy: 0.8750\n",
      "Epoch 97/200\n",
      "1/1 [==============================] - 0s 40ms/step - loss: 0.2481 - accuracy: 1.0000 - val_loss: 0.8573 - val_accuracy: 0.8750\n",
      "Epoch 98/200\n",
      "1/1 [==============================] - 0s 40ms/step - loss: 0.2494 - accuracy: 1.0000 - val_loss: 0.8824 - val_accuracy: 0.8750\n",
      "Epoch 99/200\n",
      "1/1 [==============================] - 0s 42ms/step - loss: 0.2522 - accuracy: 1.0000 - val_loss: 0.8793 - val_accuracy: 0.8750\n",
      "Epoch 100/200\n",
      "1/1 [==============================] - 0s 40ms/step - loss: 0.2479 - accuracy: 1.0000 - val_loss: 0.8660 - val_accuracy: 0.8750\n",
      "Epoch 101/200\n",
      "1/1 [==============================] - 0s 41ms/step - loss: 0.2561 - accuracy: 1.0000 - val_loss: 0.8443 - val_accuracy: 0.8750\n",
      "Epoch 102/200\n",
      "1/1 [==============================] - 0s 40ms/step - loss: 0.2610 - accuracy: 1.0000 - val_loss: 0.8395 - val_accuracy: 0.8750\n",
      "Epoch 103/200\n",
      "1/1 [==============================] - 0s 42ms/step - loss: 0.2589 - accuracy: 1.0000 - val_loss: 0.8590 - val_accuracy: 0.8750\n",
      "Epoch 104/200\n",
      "1/1 [==============================] - 0s 40ms/step - loss: 0.2480 - accuracy: 1.0000 - val_loss: 0.8731 - val_accuracy: 0.8750\n",
      "Epoch 105/200\n",
      "1/1 [==============================] - 0s 40ms/step - loss: 0.2501 - accuracy: 1.0000 - val_loss: 0.8800 - val_accuracy: 0.8750\n",
      "Epoch 106/200\n",
      "1/1 [==============================] - 0s 40ms/step - loss: 0.2507 - accuracy: 1.0000 - val_loss: 0.8939 - val_accuracy: 0.8750\n",
      "Epoch 107/200\n",
      "1/1 [==============================] - 0s 39ms/step - loss: 0.2556 - accuracy: 1.0000 - val_loss: 0.9134 - val_accuracy: 0.8750\n",
      "Epoch 108/200\n",
      "1/1 [==============================] - 0s 41ms/step - loss: 0.2522 - accuracy: 1.0000 - val_loss: 0.9023 - val_accuracy: 0.8750\n",
      "Epoch 109/200\n",
      "1/1 [==============================] - 0s 40ms/step - loss: 0.2757 - accuracy: 0.9677 - val_loss: 0.8460 - val_accuracy: 0.8750\n",
      "Epoch 110/200\n",
      "1/1 [==============================] - 0s 41ms/step - loss: 0.2512 - accuracy: 1.0000 - val_loss: 0.8173 - val_accuracy: 0.8750\n",
      "Epoch 111/200\n",
      "1/1 [==============================] - 0s 40ms/step - loss: 0.2714 - accuracy: 1.0000 - val_loss: 0.8359 - val_accuracy: 0.8750\n",
      "Epoch 112/200\n",
      "1/1 [==============================] - 0s 39ms/step - loss: 0.2514 - accuracy: 1.0000 - val_loss: 0.8862 - val_accuracy: 0.8750\n",
      "Epoch 113/200\n",
      "1/1 [==============================] - 0s 42ms/step - loss: 0.2612 - accuracy: 1.0000 - val_loss: 0.8965 - val_accuracy: 0.8750\n",
      "Epoch 114/200\n",
      "1/1 [==============================] - 0s 41ms/step - loss: 0.2696 - accuracy: 1.0000 - val_loss: 0.8676 - val_accuracy: 0.8750\n",
      "Epoch 115/200\n",
      "1/1 [==============================] - 0s 40ms/step - loss: 0.2589 - accuracy: 1.0000 - val_loss: 0.8455 - val_accuracy: 0.8750\n",
      "Epoch 116/200\n",
      "1/1 [==============================] - 0s 39ms/step - loss: 0.2599 - accuracy: 1.0000 - val_loss: 0.8254 - val_accuracy: 0.8750\n"
     ]
    },
    {
     "name": "stdout",
     "output_type": "stream",
     "text": [
      "Epoch 117/200\n",
      "1/1 [==============================] - 0s 39ms/step - loss: 0.2575 - accuracy: 1.0000 - val_loss: 0.8315 - val_accuracy: 0.8750\n",
      "Epoch 118/200\n",
      "1/1 [==============================] - 0s 38ms/step - loss: 0.2573 - accuracy: 1.0000 - val_loss: 0.8490 - val_accuracy: 0.8750\n",
      "Epoch 119/200\n",
      "1/1 [==============================] - 0s 39ms/step - loss: 0.2498 - accuracy: 1.0000 - val_loss: 0.8696 - val_accuracy: 0.8750\n",
      "Epoch 120/200\n",
      "1/1 [==============================] - 0s 41ms/step - loss: 0.2565 - accuracy: 1.0000 - val_loss: 0.8972 - val_accuracy: 0.8750\n",
      "Epoch 121/200\n",
      "1/1 [==============================] - 0s 43ms/step - loss: 0.2528 - accuracy: 1.0000 - val_loss: 0.9189 - val_accuracy: 0.8750\n",
      "Epoch 122/200\n",
      "1/1 [==============================] - 0s 38ms/step - loss: 0.2536 - accuracy: 1.0000 - val_loss: 0.9130 - val_accuracy: 0.8750\n",
      "Epoch 123/200\n",
      "1/1 [==============================] - 0s 40ms/step - loss: 0.2459 - accuracy: 1.0000 - val_loss: 0.8963 - val_accuracy: 0.8750\n",
      "Epoch 124/200\n",
      "1/1 [==============================] - 0s 40ms/step - loss: 0.2562 - accuracy: 1.0000 - val_loss: 0.8520 - val_accuracy: 0.8750\n",
      "Epoch 125/200\n",
      "1/1 [==============================] - 0s 40ms/step - loss: 0.2594 - accuracy: 1.0000 - val_loss: 0.8219 - val_accuracy: 0.8750\n",
      "Epoch 126/200\n",
      "1/1 [==============================] - 0s 39ms/step - loss: 0.2583 - accuracy: 1.0000 - val_loss: 0.8228 - val_accuracy: 0.8750\n",
      "Epoch 127/200\n",
      "1/1 [==============================] - 0s 40ms/step - loss: 0.2578 - accuracy: 1.0000 - val_loss: 0.8562 - val_accuracy: 0.8750\n",
      "Epoch 128/200\n",
      "1/1 [==============================] - 0s 38ms/step - loss: 0.2510 - accuracy: 1.0000 - val_loss: 0.8963 - val_accuracy: 0.8750\n",
      "Epoch 129/200\n",
      "1/1 [==============================] - 0s 41ms/step - loss: 0.2583 - accuracy: 1.0000 - val_loss: 0.8893 - val_accuracy: 0.8750\n",
      "Epoch 130/200\n",
      "1/1 [==============================] - 0s 39ms/step - loss: 0.2550 - accuracy: 1.0000 - val_loss: 0.8617 - val_accuracy: 0.8750\n",
      "Epoch 131/200\n",
      "1/1 [==============================] - 0s 42ms/step - loss: 0.2549 - accuracy: 1.0000 - val_loss: 0.8431 - val_accuracy: 0.8750\n",
      "Epoch 132/200\n",
      "1/1 [==============================] - 0s 39ms/step - loss: 0.2533 - accuracy: 1.0000 - val_loss: 0.8415 - val_accuracy: 0.8750\n",
      "Epoch 133/200\n",
      "1/1 [==============================] - 0s 41ms/step - loss: 0.2504 - accuracy: 1.0000 - val_loss: 0.8283 - val_accuracy: 0.8750\n",
      "Epoch 134/200\n",
      "1/1 [==============================] - 0s 39ms/step - loss: 0.2616 - accuracy: 1.0000 - val_loss: 0.8074 - val_accuracy: 0.8750\n",
      "Epoch 135/200\n",
      "1/1 [==============================] - 0s 40ms/step - loss: 0.2512 - accuracy: 1.0000 - val_loss: 0.8005 - val_accuracy: 0.8750\n",
      "Epoch 136/200\n",
      "1/1 [==============================] - 0s 39ms/step - loss: 0.2540 - accuracy: 1.0000 - val_loss: 0.8192 - val_accuracy: 0.8750\n",
      "Epoch 137/200\n",
      "1/1 [==============================] - 0s 40ms/step - loss: 0.2517 - accuracy: 1.0000 - val_loss: 0.8454 - val_accuracy: 0.8750\n",
      "Epoch 138/200\n",
      "1/1 [==============================] - 0s 39ms/step - loss: 0.2461 - accuracy: 1.0000 - val_loss: 0.8804 - val_accuracy: 0.8750\n",
      "Epoch 139/200\n",
      "1/1 [==============================] - 0s 40ms/step - loss: 0.2495 - accuracy: 1.0000 - val_loss: 0.8800 - val_accuracy: 0.8750\n",
      "Epoch 140/200\n",
      "1/1 [==============================] - 0s 39ms/step - loss: 0.2786 - accuracy: 0.9677 - val_loss: 0.8052 - val_accuracy: 0.8750\n",
      "Epoch 141/200\n",
      "1/1 [==============================] - 0s 39ms/step - loss: 0.2491 - accuracy: 1.0000 - val_loss: 0.7697 - val_accuracy: 0.8750\n",
      "Epoch 142/200\n",
      "1/1 [==============================] - 0s 39ms/step - loss: 0.2702 - accuracy: 1.0000 - val_loss: 0.7822 - val_accuracy: 0.8750\n",
      "Epoch 143/200\n",
      "1/1 [==============================] - 0s 40ms/step - loss: 0.2563 - accuracy: 1.0000 - val_loss: 0.8386 - val_accuracy: 0.8750\n",
      "Epoch 144/200\n",
      "1/1 [==============================] - 0s 38ms/step - loss: 0.2445 - accuracy: 1.0000 - val_loss: 0.9142 - val_accuracy: 0.8125\n",
      "Epoch 145/200\n",
      "1/1 [==============================] - 0s 40ms/step - loss: 0.2903 - accuracy: 0.9677 - val_loss: 0.8458 - val_accuracy: 0.8750\n",
      "Epoch 146/200\n",
      "1/1 [==============================] - 0s 39ms/step - loss: 0.2602 - accuracy: 1.0000 - val_loss: 0.7866 - val_accuracy: 0.8750\n",
      "Epoch 147/200\n",
      "1/1 [==============================] - 0s 38ms/step - loss: 0.2705 - accuracy: 1.0000 - val_loss: 0.7759 - val_accuracy: 0.8125\n",
      "Epoch 148/200\n",
      "1/1 [==============================] - 0s 40ms/step - loss: 0.2583 - accuracy: 1.0000 - val_loss: 0.7881 - val_accuracy: 0.8750\n",
      "Epoch 149/200\n",
      "1/1 [==============================] - 0s 39ms/step - loss: 0.2513 - accuracy: 1.0000 - val_loss: 0.8238 - val_accuracy: 0.8750\n",
      "Epoch 150/200\n",
      "1/1 [==============================] - 0s 39ms/step - loss: 0.2574 - accuracy: 1.0000 - val_loss: 0.8880 - val_accuracy: 0.8750\n",
      "Epoch 151/200\n",
      "1/1 [==============================] - 0s 39ms/step - loss: 0.2516 - accuracy: 1.0000 - val_loss: 0.9268 - val_accuracy: 0.8750\n",
      "Epoch 152/200\n",
      "1/1 [==============================] - 0s 40ms/step - loss: 0.2440 - accuracy: 1.0000 - val_loss: 0.9439 - val_accuracy: 0.8750\n",
      "Epoch 153/200\n",
      "1/1 [==============================] - 0s 40ms/step - loss: 0.2581 - accuracy: 1.0000 - val_loss: 0.9197 - val_accuracy: 0.8750\n",
      "Epoch 154/200\n",
      "1/1 [==============================] - 0s 39ms/step - loss: 0.2574 - accuracy: 1.0000 - val_loss: 0.8850 - val_accuracy: 0.8750\n",
      "Epoch 155/200\n",
      "1/1 [==============================] - 0s 40ms/step - loss: 0.2696 - accuracy: 1.0000 - val_loss: 0.8857 - val_accuracy: 0.8750\n",
      "Epoch 156/200\n",
      "1/1 [==============================] - 0s 42ms/step - loss: 0.2518 - accuracy: 1.0000 - val_loss: 0.8806 - val_accuracy: 0.8750\n",
      "Epoch 157/200\n",
      "1/1 [==============================] - 0s 40ms/step - loss: 0.2490 - accuracy: 1.0000 - val_loss: 0.8890 - val_accuracy: 0.8750\n",
      "Epoch 158/200\n",
      "1/1 [==============================] - 0s 40ms/step - loss: 0.2703 - accuracy: 1.0000 - val_loss: 0.8896 - val_accuracy: 0.8750\n",
      "Epoch 159/200\n",
      "1/1 [==============================] - 0s 39ms/step - loss: 0.2600 - accuracy: 1.0000 - val_loss: 0.8642 - val_accuracy: 0.8750\n",
      "Epoch 160/200\n",
      "1/1 [==============================] - 0s 39ms/step - loss: 0.2463 - accuracy: 1.0000 - val_loss: 0.8459 - val_accuracy: 0.8750\n",
      "Epoch 161/200\n",
      "1/1 [==============================] - 0s 38ms/step - loss: 0.2483 - accuracy: 1.0000 - val_loss: 0.8360 - val_accuracy: 0.8750\n",
      "Epoch 162/200\n",
      "1/1 [==============================] - 0s 39ms/step - loss: 0.2532 - accuracy: 1.0000 - val_loss: 0.8244 - val_accuracy: 0.8750\n",
      "Epoch 163/200\n",
      "1/1 [==============================] - 0s 39ms/step - loss: 0.2526 - accuracy: 1.0000 - val_loss: 0.8375 - val_accuracy: 0.8750\n",
      "Epoch 164/200\n",
      "1/1 [==============================] - 0s 38ms/step - loss: 0.2503 - accuracy: 1.0000 - val_loss: 0.8561 - val_accuracy: 0.8750\n",
      "Epoch 165/200\n",
      "1/1 [==============================] - 0s 40ms/step - loss: 0.2536 - accuracy: 1.0000 - val_loss: 0.8752 - val_accuracy: 0.8750\n",
      "Epoch 166/200\n",
      "1/1 [==============================] - 0s 43ms/step - loss: 0.2671 - accuracy: 1.0000 - val_loss: 0.8727 - val_accuracy: 0.8750\n",
      "Epoch 167/200\n",
      "1/1 [==============================] - 0s 40ms/step - loss: 0.2558 - accuracy: 1.0000 - val_loss: 0.8512 - val_accuracy: 0.8750\n",
      "Epoch 168/200\n",
      "1/1 [==============================] - 0s 37ms/step - loss: 0.2521 - accuracy: 1.0000 - val_loss: 0.8534 - val_accuracy: 0.8750\n",
      "Epoch 169/200\n",
      "1/1 [==============================] - 0s 39ms/step - loss: 0.2494 - accuracy: 1.0000 - val_loss: 0.8464 - val_accuracy: 0.8750\n",
      "Epoch 170/200\n",
      "1/1 [==============================] - 0s 41ms/step - loss: 0.2542 - accuracy: 1.0000 - val_loss: 0.8561 - val_accuracy: 0.8750\n",
      "Epoch 171/200\n",
      "1/1 [==============================] - 0s 39ms/step - loss: 0.2531 - accuracy: 1.0000 - val_loss: 0.8810 - val_accuracy: 0.8750\n",
      "Epoch 172/200\n",
      "1/1 [==============================] - 0s 39ms/step - loss: 0.2453 - accuracy: 1.0000 - val_loss: 0.8925 - val_accuracy: 0.8750\n",
      "Epoch 173/200\n",
      "1/1 [==============================] - 0s 40ms/step - loss: 0.2515 - accuracy: 1.0000 - val_loss: 0.8917 - val_accuracy: 0.8750\n",
      "Epoch 174/200\n",
      "1/1 [==============================] - 0s 39ms/step - loss: 0.2483 - accuracy: 1.0000 - val_loss: 0.8715 - val_accuracy: 0.8750\n"
     ]
    },
    {
     "name": "stdout",
     "output_type": "stream",
     "text": [
      "Epoch 175/200\n",
      "1/1 [==============================] - 0s 38ms/step - loss: 0.2479 - accuracy: 1.0000 - val_loss: 0.8594 - val_accuracy: 0.8750\n",
      "Epoch 176/200\n",
      "1/1 [==============================] - 0s 40ms/step - loss: 0.2438 - accuracy: 1.0000 - val_loss: 0.8488 - val_accuracy: 0.8750\n",
      "Epoch 177/200\n",
      "1/1 [==============================] - 0s 39ms/step - loss: 0.2625 - accuracy: 1.0000 - val_loss: 0.8405 - val_accuracy: 0.8750\n",
      "Epoch 178/200\n",
      "1/1 [==============================] - 0s 41ms/step - loss: 0.2599 - accuracy: 1.0000 - val_loss: 0.8703 - val_accuracy: 0.8750\n",
      "Epoch 179/200\n",
      "1/1 [==============================] - 0s 39ms/step - loss: 0.2464 - accuracy: 1.0000 - val_loss: 0.8770 - val_accuracy: 0.8750\n",
      "Epoch 180/200\n",
      "1/1 [==============================] - 0s 41ms/step - loss: 0.2435 - accuracy: 1.0000 - val_loss: 0.8888 - val_accuracy: 0.8750\n",
      "Epoch 181/200\n",
      "1/1 [==============================] - 0s 40ms/step - loss: 0.2592 - accuracy: 1.0000 - val_loss: 0.8551 - val_accuracy: 0.8750\n",
      "Epoch 182/200\n",
      "1/1 [==============================] - 0s 39ms/step - loss: 0.2446 - accuracy: 1.0000 - val_loss: 0.8301 - val_accuracy: 0.8750\n",
      "Epoch 183/200\n",
      "1/1 [==============================] - 0s 39ms/step - loss: 0.2473 - accuracy: 1.0000 - val_loss: 0.8196 - val_accuracy: 0.8750\n",
      "Epoch 184/200\n",
      "1/1 [==============================] - 0s 40ms/step - loss: 0.2580 - accuracy: 1.0000 - val_loss: 0.8235 - val_accuracy: 0.8750\n",
      "Epoch 185/200\n",
      "1/1 [==============================] - 0s 40ms/step - loss: 0.2483 - accuracy: 1.0000 - val_loss: 0.8492 - val_accuracy: 0.8750\n",
      "Epoch 186/200\n",
      "1/1 [==============================] - 0s 39ms/step - loss: 0.2572 - accuracy: 1.0000 - val_loss: 0.8457 - val_accuracy: 0.8750\n",
      "Epoch 187/200\n",
      "1/1 [==============================] - 0s 40ms/step - loss: 0.2394 - accuracy: 1.0000 - val_loss: 0.8466 - val_accuracy: 0.8750\n",
      "Epoch 188/200\n",
      "1/1 [==============================] - 0s 39ms/step - loss: 0.2504 - accuracy: 1.0000 - val_loss: 0.8380 - val_accuracy: 0.8750\n",
      "Epoch 189/200\n",
      "1/1 [==============================] - 0s 40ms/step - loss: 0.2557 - accuracy: 1.0000 - val_loss: 0.8629 - val_accuracy: 0.8750\n",
      "Epoch 190/200\n",
      "1/1 [==============================] - 0s 39ms/step - loss: 0.2587 - accuracy: 1.0000 - val_loss: 0.8762 - val_accuracy: 0.8750\n",
      "Epoch 191/200\n",
      "1/1 [==============================] - 0s 42ms/step - loss: 0.2518 - accuracy: 1.0000 - val_loss: 0.8966 - val_accuracy: 0.8750\n",
      "Epoch 192/200\n",
      "1/1 [==============================] - 0s 40ms/step - loss: 0.2428 - accuracy: 1.0000 - val_loss: 0.9069 - val_accuracy: 0.8750\n",
      "Epoch 193/200\n",
      "1/1 [==============================] - 0s 42ms/step - loss: 0.2528 - accuracy: 1.0000 - val_loss: 0.8864 - val_accuracy: 0.8750\n",
      "Epoch 194/200\n",
      "1/1 [==============================] - 0s 43ms/step - loss: 0.2478 - accuracy: 1.0000 - val_loss: 0.8829 - val_accuracy: 0.8750\n",
      "Epoch 195/200\n",
      "1/1 [==============================] - 0s 40ms/step - loss: 0.2469 - accuracy: 1.0000 - val_loss: 0.8572 - val_accuracy: 0.8750\n",
      "Epoch 196/200\n",
      "1/1 [==============================] - 0s 41ms/step - loss: 0.2567 - accuracy: 1.0000 - val_loss: 0.8439 - val_accuracy: 0.8750\n",
      "Epoch 197/200\n",
      "1/1 [==============================] - 0s 41ms/step - loss: 0.2565 - accuracy: 1.0000 - val_loss: 0.8816 - val_accuracy: 0.8750\n",
      "Epoch 198/200\n",
      "1/1 [==============================] - 0s 41ms/step - loss: 0.2483 - accuracy: 1.0000 - val_loss: 0.9367 - val_accuracy: 0.8750\n",
      "Epoch 199/200\n",
      "1/1 [==============================] - 0s 38ms/step - loss: 0.2568 - accuracy: 1.0000 - val_loss: 0.9678 - val_accuracy: 0.8750\n",
      "Epoch 200/200\n",
      "1/1 [==============================] - 0s 39ms/step - loss: 0.2572 - accuracy: 1.0000 - val_loss: 0.9457 - val_accuracy: 0.8750\n",
      "Most important variables:  [5 1 3 7 8 4 6 0 2]\n"
     ]
    }
   ],
   "source": [
    "VIANN = VarImpVIANN(verbose=1)\n",
    "model_3_OPX.compile(optimizer='adam',\n",
    "              loss='binary_crossentropy',\n",
    "              metrics=['accuracy'])\n",
    "hist_5 = model_3_OPX.fit(X_train3, y_traindm3,\n",
    "          batch_size=31, epochs=200,\n",
    "          validation_data=(X_val3, y_valdm3), callbacks=[VIANN])"
   ]
  },
  {
   "cell_type": "markdown",
   "metadata": {},
   "source": [
    "#### Visualize the loss and accuracy graphs for Split 3."
   ]
  },
  {
   "cell_type": "code",
   "execution_count": 132,
   "metadata": {},
   "outputs": [
    {
     "data": {
      "image/png": "[encoded data removed]",
      "text/plain": [
       "<Figure size 460.8x316.8 with 1 Axes>"
      ]
     },
     "metadata": {
      "needs_background": "light"
     },
     "output_type": "display_data"
    }
   ],
   "source": [
    "plt.plot(hist_5.history['loss'])\n",
    "plt.plot(hist_5.history['val_loss'])\n",
    "plt.title('Model loss')\n",
    "plt.ylabel('Loss')\n",
    "plt.xlabel('Epoch')\n",
    "plt.legend(['Train', 'Val'], loc='upper right')\n",
    "plt.ylim(top=10, bottom=0)\n",
    "plt.show()"
   ]
  },
  {
   "cell_type": "code",
   "execution_count": 133,
   "metadata": {},
   "outputs": [
    {
     "data": {
      "image/png": "[encoded data removed]",
      "text/plain": [
       "<Figure size 460.8x316.8 with 1 Axes>"
      ]
     },
     "metadata": {
      "needs_background": "light"
     },
     "output_type": "display_data"
    }
   ],
   "source": [
    "plt.plot(hist_5.history['accuracy'])\n",
    "plt.plot(hist_5.history['val_accuracy'])\n",
    "plt.title('Model accuracy')\n",
    "plt.ylabel('Accuracy')\n",
    "plt.xlabel('Epoch')\n",
    "plt.legend(['Train', 'Val'], loc='lower right')\n",
    "plt.show()"
   ]
  },
  {
   "cell_type": "markdown",
   "metadata": {},
   "source": [
    "**Test Accuracy**"
   ]
  },
  {
   "cell_type": "code",
   "execution_count": 134,
   "metadata": {},
   "outputs": [
    {
     "name": "stdout",
     "output_type": "stream",
     "text": [
      "1/1 [==============================] - 0s 14ms/step - loss: 0.8121 - accuracy: 0.8667\n"
     ]
    },
    {
     "data": {
      "text/plain": [
       "0.8666666746139526"
      ]
     },
     "execution_count": 134,
     "metadata": {},
     "output_type": "execute_result"
    }
   ],
   "source": [
    "model_3_OPX.evaluate(X_test3, y_testdm3)[1]"
   ]
  },
  {
   "cell_type": "markdown",
   "metadata": {},
   "source": [
    "**Re-split model loss and accuracy are consistent with previous results.**"
   ]
  },
  {
   "cell_type": "markdown",
   "metadata": {},
   "source": [
    "## The End"
   ]
  }
 ],
 "metadata": {
  "celltoolbar": "Slideshow",
  "kernelspec": {
   "display_name": "Python 3",
   "language": "python",
   "name": "python3"
  },
  "language_info": {
   "codemirror_mode": {
    "name": "ipython",
    "version": 3
   },
   "file_extension": ".py",
   "mimetype": "text/x-python",
   "name": "python",
   "nbconvert_exporter": "python",
   "pygments_lexer": "ipython3",
   "version": "3.8.8"
  }
 },
 "nbformat": 4,
 "nbformat_minor": 2
}
