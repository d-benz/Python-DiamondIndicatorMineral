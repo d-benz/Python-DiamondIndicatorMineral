{
 "cells": [
  {
   "cell_type": "markdown",
   "metadata": {},
   "source": [
    "# Coding Companion for Diamond Indicator Silicate Mineral Neural Network - Olivine (Annotated)"
   ]
  },
  {
   "cell_type": "markdown",
   "metadata": {},
   "source": [
    "This notebook contains the code for creating the diamond indicator silicate mineral neural network to predict whether the mineral is associated with rich or poor diamond contents.\n",
    "\n",
    "We will go through the following in this notebook:\n",
    "\n",
    "- Exploring and Processing the Data\n",
    "- Building and Training our Neural Network\n",
    "- Visualizing Loss and Accuracy\n",
    "- Adding Regularization to our Neural Network\n",
    "- Saving and testing the model\n",
    "- Visualizing the model results\n",
    "\n",
    "Note that the results you get might differ slightly as there is a degree of randomness in the way the dataset is split as well as the initialization of the neural network.\n",
    "\n",
    "Under the Home tab for Anaconda Navigator 1.10.0 Launch CMD.exe Prompt to open C:\\Windows\\system32\\cmd.exe prompt. This prompt will show C:\\Users\\Name but the installation of the packages will be directed to whichever drive in which Anaconda is installed.\n",
    "\n",
    "For this Coding Companion the following packages were installed:\n",
    "\n",
    "- pip install keras\n",
    "- pip install tensorflow\n",
    "- pip install pydot\n",
    "- pip install graphviz\n",
    "- pip install plotly==4.14.3"
   ]
  },
  {
   "cell_type": "markdown",
   "metadata": {},
   "source": [
    "## Exploring and Processing the Data"
   ]
  },
  {
   "cell_type": "markdown",
   "metadata": {},
   "source": [
    "We first have to read in the CSV file that we've been given. The following packages are used:\n",
    "- pandas for importing\n",
    "- matplotlib.pyplot for creating graphs\n",
    "- seaborn for graph sizes and palettes\n",
    "- pydot and graphviz to view the neural network\n",
    "- VIANN to check neural network feature importance?\n",
    "- and run a checkon the python version.\n",
    "This code was created using Python 3.8.8 version."
   ]
  },
  {
   "cell_type": "code",
   "execution_count": 1,
   "metadata": {},
   "outputs": [
    {
     "name": "stdout",
     "output_type": "stream",
     "text": [
      "python: 3.8.8\n"
     ]
    }
   ],
   "source": [
    "import numpy as np\n",
    "import pandas as pd\n",
    "import matplotlib.pyplot as plt\n",
    "import seaborn as sns\n",
    "\n",
    "import sklearn\n",
    "import sklearn.metrics\n",
    "\n",
    "import pydot\n",
    "import graphviz\n",
    "\n",
    "from platform import python_version\n",
    "print('python: %s' % python_version())"
   ]
  },
  {
   "cell_type": "code",
   "execution_count": 2,
   "metadata": {},
   "outputs": [
    {
     "name": "stdout",
     "output_type": "stream",
     "text": [
      "sklearn: 0.24.1\n"
     ]
    }
   ],
   "source": [
    "# check scikit-learn version as 0.24.1\n",
    "print('sklearn: %s' % sklearn.__version__)"
   ]
  },
  {
   "cell_type": "markdown",
   "metadata": {},
   "source": [
    "**Fix random seed for reproducibility**"
   ]
  },
  {
   "cell_type": "code",
   "execution_count": 3,
   "metadata": {},
   "outputs": [],
   "source": [
    "np.random.seed(333)"
   ]
  },
  {
   "cell_type": "markdown",
   "metadata": {},
   "source": [
    "**Import and view the data**"
   ]
  },
  {
   "cell_type": "code",
   "execution_count": 4,
   "metadata": {},
   "outputs": [
    {
     "data": {
      "text/plain": [
       "'C:\\\\Users\\\\David\\\\DiamondIndicatorMineral_LAICPMS-ML'"
      ]
     },
     "execution_count": 4,
     "metadata": {},
     "output_type": "execute_result"
    }
   ],
   "source": [
    "#Check working directory\n",
    "import os\n",
    "os.getcwd( )"
   ]
  },
  {
   "cell_type": "code",
   "execution_count": 5,
   "metadata": {},
   "outputs": [
    {
     "data": {
      "text/plain": [
       "'g:\\\\R_and_D\\\\Projects\\\\MSc_Diamonds\\\\Python'"
      ]
     },
     "execution_count": 5,
     "metadata": {},
     "output_type": "execute_result"
    }
   ],
   "source": [
    "#Change working directory\n",
    "os.chdir('g:\\\\R_and_D\\\\Projects\\\\MSc_Diamonds\\\\Python')\n",
    "os.getcwd( )"
   ]
  },
  {
   "cell_type": "code",
   "execution_count": 6,
   "metadata": {},
   "outputs": [],
   "source": [
    "#Read in csv file\n",
    "df = pd.read_csv('OL_final.csv')"
   ]
  },
  {
   "cell_type": "code",
   "execution_count": 7,
   "metadata": {},
   "outputs": [
    {
     "data": {
      "text/html": [
       "<div>\n",
       "<style scoped>\n",
       "    .dataframe tbody tr th:only-of-type {\n",
       "        vertical-align: middle;\n",
       "    }\n",
       "\n",
       "    .dataframe tbody tr th {\n",
       "        vertical-align: top;\n",
       "    }\n",
       "\n",
       "    .dataframe thead th {\n",
       "        text-align: right;\n",
       "    }\n",
       "</style>\n",
       "<table border=\"1\" class=\"dataframe\">\n",
       "  <thead>\n",
       "    <tr style=\"text-align: right;\">\n",
       "      <th></th>\n",
       "      <th>Sample</th>\n",
       "      <th>Mineral</th>\n",
       "      <th>Pipe</th>\n",
       "      <th>Diamond_High</th>\n",
       "      <th>Craton</th>\n",
       "      <th>Mg</th>\n",
       "      <th>Si</th>\n",
       "      <th>Cr</th>\n",
       "      <th>Mn</th>\n",
       "      <th>Co</th>\n",
       "      <th>...</th>\n",
       "      <th>Cr_clr</th>\n",
       "      <th>Mn_clr</th>\n",
       "      <th>Co_clr</th>\n",
       "      <th>Ni_clr</th>\n",
       "      <th>V1</th>\n",
       "      <th>V2</th>\n",
       "      <th>V3</th>\n",
       "      <th>V4</th>\n",
       "      <th>V5</th>\n",
       "      <th>V6</th>\n",
       "    </tr>\n",
       "  </thead>\n",
       "  <tbody>\n",
       "    <tr>\n",
       "      <th>0</th>\n",
       "      <td>Ap24I03</td>\n",
       "      <td>OL</td>\n",
       "      <td>KOALA</td>\n",
       "      <td>yes</td>\n",
       "      <td>Slave</td>\n",
       "      <td>131500</td>\n",
       "      <td>192000</td>\n",
       "      <td>90.62</td>\n",
       "      <td>731.0</td>\n",
       "      <td>94.52</td>\n",
       "      <td>...</td>\n",
       "      <td>-3.349882</td>\n",
       "      <td>-1.262144</td>\n",
       "      <td>-3.307746</td>\n",
       "      <td>-0.319127</td>\n",
       "      <td>-0.093525</td>\n",
       "      <td>-0.018524</td>\n",
       "      <td>-0.247983</td>\n",
       "      <td>0.003155</td>\n",
       "      <td>0.046404</td>\n",
       "      <td>-5.380000e-17</td>\n",
       "    </tr>\n",
       "    <tr>\n",
       "      <th>1</th>\n",
       "      <td>Ap24I04</td>\n",
       "      <td>OL</td>\n",
       "      <td>KOALA</td>\n",
       "      <td>yes</td>\n",
       "      <td>Slave</td>\n",
       "      <td>124800</td>\n",
       "      <td>192500</td>\n",
       "      <td>194.60</td>\n",
       "      <td>622.0</td>\n",
       "      <td>97.30</td>\n",
       "      <td>...</td>\n",
       "      <td>-2.708026</td>\n",
       "      <td>-1.546032</td>\n",
       "      <td>-3.401173</td>\n",
       "      <td>-0.289144</td>\n",
       "      <td>0.092352</td>\n",
       "      <td>-0.088909</td>\n",
       "      <td>-0.125661</td>\n",
       "      <td>0.012276</td>\n",
       "      <td>0.059260</td>\n",
       "      <td>-7.380000e-16</td>\n",
       "    </tr>\n",
       "    <tr>\n",
       "      <th>2</th>\n",
       "      <td>Ap24I05</td>\n",
       "      <td>OL</td>\n",
       "      <td>KOALA</td>\n",
       "      <td>yes</td>\n",
       "      <td>Slave</td>\n",
       "      <td>179700</td>\n",
       "      <td>194400</td>\n",
       "      <td>52.21</td>\n",
       "      <td>393.5</td>\n",
       "      <td>88.28</td>\n",
       "      <td>...</td>\n",
       "      <td>-3.753017</td>\n",
       "      <td>-1.733210</td>\n",
       "      <td>-3.227778</td>\n",
       "      <td>-0.146130</td>\n",
       "      <td>-0.187711</td>\n",
       "      <td>0.004655</td>\n",
       "      <td>0.108319</td>\n",
       "      <td>0.109981</td>\n",
       "      <td>0.013955</td>\n",
       "      <td>2.900000e-16</td>\n",
       "    </tr>\n",
       "    <tr>\n",
       "      <th>3</th>\n",
       "      <td>Ap24I06</td>\n",
       "      <td>OL</td>\n",
       "      <td>KOALA</td>\n",
       "      <td>yes</td>\n",
       "      <td>Slave</td>\n",
       "      <td>153700</td>\n",
       "      <td>194400</td>\n",
       "      <td>246.00</td>\n",
       "      <td>480.3</td>\n",
       "      <td>90.92</td>\n",
       "      <td>...</td>\n",
       "      <td>-2.478590</td>\n",
       "      <td>-1.809510</td>\n",
       "      <td>-3.473941</td>\n",
       "      <td>-0.390547</td>\n",
       "      <td>0.181577</td>\n",
       "      <td>-0.000277</td>\n",
       "      <td>0.019782</td>\n",
       "      <td>0.069724</td>\n",
       "      <td>0.030943</td>\n",
       "      <td>-2.430000e-17</td>\n",
       "    </tr>\n",
       "    <tr>\n",
       "      <th>4</th>\n",
       "      <td>Ap24I07</td>\n",
       "      <td>OL</td>\n",
       "      <td>KOALA</td>\n",
       "      <td>yes</td>\n",
       "      <td>Slave</td>\n",
       "      <td>133200</td>\n",
       "      <td>194200</td>\n",
       "      <td>283.50</td>\n",
       "      <td>709.5</td>\n",
       "      <td>101.10</td>\n",
       "      <td>...</td>\n",
       "      <td>-2.419458</td>\n",
       "      <td>-1.502110</td>\n",
       "      <td>-3.450560</td>\n",
       "      <td>-0.470781</td>\n",
       "      <td>0.183614</td>\n",
       "      <td>-0.025457</td>\n",
       "      <td>-0.195559</td>\n",
       "      <td>0.008555</td>\n",
       "      <td>0.020972</td>\n",
       "      <td>-9.370000e-17</td>\n",
       "    </tr>\n",
       "    <tr>\n",
       "      <th>...</th>\n",
       "      <td>...</td>\n",
       "      <td>...</td>\n",
       "      <td>...</td>\n",
       "      <td>...</td>\n",
       "      <td>...</td>\n",
       "      <td>...</td>\n",
       "      <td>...</td>\n",
       "      <td>...</td>\n",
       "      <td>...</td>\n",
       "      <td>...</td>\n",
       "      <td>...</td>\n",
       "      <td>...</td>\n",
       "      <td>...</td>\n",
       "      <td>...</td>\n",
       "      <td>...</td>\n",
       "      <td>...</td>\n",
       "      <td>...</td>\n",
       "      <td>...</td>\n",
       "      <td>...</td>\n",
       "      <td>...</td>\n",
       "      <td>...</td>\n",
       "    </tr>\n",
       "    <tr>\n",
       "      <th>87</th>\n",
       "      <td>Ap27L10</td>\n",
       "      <td>OL</td>\n",
       "      <td>ZERO</td>\n",
       "      <td>no</td>\n",
       "      <td>Kaapvaal</td>\n",
       "      <td>202000</td>\n",
       "      <td>193600</td>\n",
       "      <td>106.80</td>\n",
       "      <td>380.6</td>\n",
       "      <td>81.40</td>\n",
       "      <td>...</td>\n",
       "      <td>-3.160029</td>\n",
       "      <td>-1.889238</td>\n",
       "      <td>-3.431611</td>\n",
       "      <td>-0.246722</td>\n",
       "      <td>0.006043</td>\n",
       "      <td>0.066612</td>\n",
       "      <td>0.169591</td>\n",
       "      <td>0.076341</td>\n",
       "      <td>0.036738</td>\n",
       "      <td>-2.940000e-16</td>\n",
       "    </tr>\n",
       "    <tr>\n",
       "      <th>88</th>\n",
       "      <td>Ap27L11</td>\n",
       "      <td>OL</td>\n",
       "      <td>ZERO</td>\n",
       "      <td>no</td>\n",
       "      <td>Kaapvaal</td>\n",
       "      <td>212300</td>\n",
       "      <td>193100</td>\n",
       "      <td>281.00</td>\n",
       "      <td>556.7</td>\n",
       "      <td>92.19</td>\n",
       "      <td>...</td>\n",
       "      <td>-2.464430</td>\n",
       "      <td>-1.780758</td>\n",
       "      <td>-3.578933</td>\n",
       "      <td>-0.407027</td>\n",
       "      <td>0.217061</td>\n",
       "      <td>0.077464</td>\n",
       "      <td>0.040868</td>\n",
       "      <td>-0.035411</td>\n",
       "      <td>0.012053</td>\n",
       "      <td>-5.310000e-16</td>\n",
       "    </tr>\n",
       "    <tr>\n",
       "      <th>89</th>\n",
       "      <td>Ap27L12</td>\n",
       "      <td>OL</td>\n",
       "      <td>ZERO</td>\n",
       "      <td>no</td>\n",
       "      <td>Kaapvaal</td>\n",
       "      <td>248500</td>\n",
       "      <td>194900</td>\n",
       "      <td>199.90</td>\n",
       "      <td>602.4</td>\n",
       "      <td>98.58</td>\n",
       "      <td>...</td>\n",
       "      <td>-2.801600</td>\n",
       "      <td>-1.698496</td>\n",
       "      <td>-3.508549</td>\n",
       "      <td>-0.395959</td>\n",
       "      <td>0.126860</td>\n",
       "      <td>0.105624</td>\n",
       "      <td>0.026713</td>\n",
       "      <td>-0.056316</td>\n",
       "      <td>-0.029252</td>\n",
       "      <td>-4.540000e-16</td>\n",
       "    </tr>\n",
       "    <tr>\n",
       "      <th>90</th>\n",
       "      <td>Ap27L13</td>\n",
       "      <td>OL</td>\n",
       "      <td>ZERO</td>\n",
       "      <td>no</td>\n",
       "      <td>Kaapvaal</td>\n",
       "      <td>195400</td>\n",
       "      <td>192400</td>\n",
       "      <td>97.36</td>\n",
       "      <td>630.0</td>\n",
       "      <td>101.60</td>\n",
       "      <td>...</td>\n",
       "      <td>-3.359133</td>\n",
       "      <td>-1.491829</td>\n",
       "      <td>-3.316505</td>\n",
       "      <td>-0.307573</td>\n",
       "      <td>-0.064219</td>\n",
       "      <td>0.035598</td>\n",
       "      <td>-0.076504</td>\n",
       "      <td>-0.015194</td>\n",
       "      <td>-0.027764</td>\n",
       "      <td>1.650000e-16</td>\n",
       "    </tr>\n",
       "    <tr>\n",
       "      <th>91</th>\n",
       "      <td>Ap27L14</td>\n",
       "      <td>OL</td>\n",
       "      <td>ZERO</td>\n",
       "      <td>no</td>\n",
       "      <td>Kaapvaal</td>\n",
       "      <td>219000</td>\n",
       "      <td>194300</td>\n",
       "      <td>262.20</td>\n",
       "      <td>594.8</td>\n",
       "      <td>91.13</td>\n",
       "      <td>...</td>\n",
       "      <td>-2.546452</td>\n",
       "      <td>-1.727335</td>\n",
       "      <td>-3.603273</td>\n",
       "      <td>-0.365806</td>\n",
       "      <td>0.196246</td>\n",
       "      <td>0.079267</td>\n",
       "      <td>0.029073</td>\n",
       "      <td>-0.070847</td>\n",
       "      <td>0.032237</td>\n",
       "      <td>1.390000e-17</td>\n",
       "    </tr>\n",
       "  </tbody>\n",
       "</table>\n",
       "<p>92 rows × 23 columns</p>\n",
       "</div>"
      ],
      "text/plain": [
       "         Sample Mineral   Pipe Diamond_High    Craton      Mg      Si      Cr  \\\n",
       "0       Ap24I03      OL  KOALA          yes     Slave  131500  192000   90.62   \n",
       "1       Ap24I04      OL  KOALA          yes     Slave  124800  192500  194.60   \n",
       "2       Ap24I05      OL  KOALA          yes     Slave  179700  194400   52.21   \n",
       "3       Ap24I06      OL  KOALA          yes     Slave  153700  194400  246.00   \n",
       "4       Ap24I07      OL  KOALA          yes     Slave  133200  194200  283.50   \n",
       "..          ...     ...    ...          ...       ...     ...     ...     ...   \n",
       "87      Ap27L10      OL   ZERO           no  Kaapvaal  202000  193600  106.80   \n",
       "88      Ap27L11      OL   ZERO           no  Kaapvaal  212300  193100  281.00   \n",
       "89      Ap27L12      OL   ZERO           no  Kaapvaal  248500  194900  199.90   \n",
       "90      Ap27L13      OL   ZERO           no  Kaapvaal  195400  192400   97.36   \n",
       "91      Ap27L14      OL   ZERO           no  Kaapvaal  219000  194300  262.20   \n",
       "\n",
       "       Mn      Co  ...    Cr_clr    Mn_clr    Co_clr    Ni_clr        V1  \\\n",
       "0   731.0   94.52  ... -3.349882 -1.262144 -3.307746 -0.319127 -0.093525   \n",
       "1   622.0   97.30  ... -2.708026 -1.546032 -3.401173 -0.289144  0.092352   \n",
       "2   393.5   88.28  ... -3.753017 -1.733210 -3.227778 -0.146130 -0.187711   \n",
       "3   480.3   90.92  ... -2.478590 -1.809510 -3.473941 -0.390547  0.181577   \n",
       "4   709.5  101.10  ... -2.419458 -1.502110 -3.450560 -0.470781  0.183614   \n",
       "..    ...     ...  ...       ...       ...       ...       ...       ...   \n",
       "87  380.6   81.40  ... -3.160029 -1.889238 -3.431611 -0.246722  0.006043   \n",
       "88  556.7   92.19  ... -2.464430 -1.780758 -3.578933 -0.407027  0.217061   \n",
       "89  602.4   98.58  ... -2.801600 -1.698496 -3.508549 -0.395959  0.126860   \n",
       "90  630.0  101.60  ... -3.359133 -1.491829 -3.316505 -0.307573 -0.064219   \n",
       "91  594.8   91.13  ... -2.546452 -1.727335 -3.603273 -0.365806  0.196246   \n",
       "\n",
       "          V2        V3        V4        V5            V6  \n",
       "0  -0.018524 -0.247983  0.003155  0.046404 -5.380000e-17  \n",
       "1  -0.088909 -0.125661  0.012276  0.059260 -7.380000e-16  \n",
       "2   0.004655  0.108319  0.109981  0.013955  2.900000e-16  \n",
       "3  -0.000277  0.019782  0.069724  0.030943 -2.430000e-17  \n",
       "4  -0.025457 -0.195559  0.008555  0.020972 -9.370000e-17  \n",
       "..       ...       ...       ...       ...           ...  \n",
       "87  0.066612  0.169591  0.076341  0.036738 -2.940000e-16  \n",
       "88  0.077464  0.040868 -0.035411  0.012053 -5.310000e-16  \n",
       "89  0.105624  0.026713 -0.056316 -0.029252 -4.540000e-16  \n",
       "90  0.035598 -0.076504 -0.015194 -0.027764  1.650000e-16  \n",
       "91  0.079267  0.029073 -0.070847  0.032237  1.390000e-17  \n",
       "\n",
       "[92 rows x 23 columns]"
      ]
     },
     "execution_count": 7,
     "metadata": {},
     "output_type": "execute_result"
    }
   ],
   "source": [
    "df"
   ]
  },
  {
   "cell_type": "markdown",
   "metadata": {},
   "source": [
    "**The dataset that we have now is in what we call a pandas dataframe. To convert it to an array, simply access its values:**"
   ]
  },
  {
   "cell_type": "code",
   "execution_count": 8,
   "metadata": {},
   "outputs": [],
   "source": [
    "dataset = df.values"
   ]
  },
  {
   "cell_type": "code",
   "execution_count": 9,
   "metadata": {},
   "outputs": [
    {
     "data": {
      "text/plain": [
       "array([['    Ap24I03', 'OL', 'KOALA', ..., 0.003154578, 0.046403704,\n",
       "        -5.38e-17],\n",
       "       ['    Ap24I04', 'OL', 'KOALA', ..., 0.012276155, 0.059260166,\n",
       "        -7.38e-16],\n",
       "       ['    Ap24I05', 'OL', 'KOALA', ..., 0.109981374, 0.013954525,\n",
       "        2.9e-16],\n",
       "       ...,\n",
       "       ['    Ap27L12', 'OL', 'ZERO', ..., -0.056316031, -0.029252144,\n",
       "        -4.54e-16],\n",
       "       ['    Ap27L13', 'OL', 'ZERO', ..., -0.015193952, -0.02776418,\n",
       "        1.65e-16],\n",
       "       ['    Ap27L14', 'OL', 'ZERO', ..., -0.070847411, 0.032237132,\n",
       "        1.39e-17]], dtype=object)"
      ]
     },
     "execution_count": 9,
     "metadata": {},
     "output_type": "execute_result"
    }
   ],
   "source": [
    "dataset"
   ]
  },
  {
   "cell_type": "markdown",
   "metadata": {},
   "source": [
    "### Visualize the data by Diamond Contents based on previously run RQ-PCA"
   ]
  },
  {
   "cell_type": "code",
   "execution_count": 10,
   "metadata": {},
   "outputs": [],
   "source": [
    "#Set plot style\n",
    "import matplotlib.style as style\n",
    "\n",
    "style.use('seaborn-paper') #sets the style as paper (smaller), poster (larger), talk (presentation)\n",
    "\n",
    "colors = (\"#0f2080\", \"#f5793a\", \"#85c0f9\", \"#a95aa1\") #defines colours to use as suitable for colorblindness\n",
    "sns.set_palette(sns.color_palette(colors)) #sets colour palette"
   ]
  },
  {
   "cell_type": "code",
   "execution_count": 11,
   "metadata": {},
   "outputs": [
    {
     "data": {
      "text/plain": [
       "<matplotlib.legend.Legend at 0x1b92bbf1b50>"
      ]
     },
     "execution_count": 11,
     "metadata": {},
     "output_type": "execute_result"
    },
    {
     "data": {
      "image/png": "[encoded data removed]",
      "text/plain": [
       "<Figure size 460.8x316.8 with 1 Axes>"
      ]
     },
     "metadata": {
      "needs_background": "light"
     },
     "output_type": "display_data"
    },
    {
     "data": {
      "image/png": "[encoded data removed]",
      "text/plain": [
       "<Figure size 460.8x316.8 with 1 Axes>"
      ]
     },
     "metadata": {
      "needs_background": "light"
     },
     "output_type": "display_data"
    },
    {
     "data": {
      "image/png": "[encoded data removed]",
      "text/plain": [
       "<Figure size 460.8x316.8 with 1 Axes>"
      ]
     },
     "metadata": {
      "needs_background": "light"
     },
     "output_type": "display_data"
    },
    {
     "data": {
      "image/png": "[encoded data removed]",
      "text/plain": [
       "<Figure size 460.8x316.8 with 1 Axes>"
      ]
     },
     "metadata": {
      "needs_background": "light"
     },
     "output_type": "display_data"
    }
   ],
   "source": [
    "df.set_index(['Diamond_High', 'V1']).unstack('Diamond_High')['V2'].plot(style='o')\n",
    "plt.ylabel('V2')\n",
    "plt.title('Olivine Associations by Diamond Content')\n",
    "plt.legend(title=\"Diamond-Rich\")\n",
    "\n",
    "df.set_index(['Diamond_High', 'V1']).unstack('Diamond_High')['V3'].plot(style='o')\n",
    "plt.ylabel('V3')\n",
    "plt.title('Olivine Associations by Diamond Content')\n",
    "plt.legend(title=\"Diamond-Rich\")\n",
    "\n",
    "df.set_index(['Diamond_High', 'V1']).unstack('Diamond_High')['V4'].plot(style='o')\n",
    "plt.ylabel('V4')\n",
    "plt.title('Olivine Associations by Diamond Content')\n",
    "plt.legend(title=\"Diamond-Rich\")\n",
    "\n",
    "df.set_index(['Diamond_High', 'V1']).unstack('Diamond_High')['V5'].plot(style='o')\n",
    "plt.ylabel('V5')\n",
    "plt.title('Olivine Associations by Diamond Content')\n",
    "plt.legend(title=\"Diamond-Rich\")"
   ]
  },
  {
   "cell_type": "markdown",
   "metadata": {},
   "source": [
    "### Visualize the Olivine RQ-PCA data by Pipe"
   ]
  },
  {
   "cell_type": "code",
   "execution_count": 12,
   "metadata": {},
   "outputs": [
    {
     "data": {
      "text/plain": [
       "<matplotlib.legend.Legend at 0x1b92bde0220>"
      ]
     },
     "execution_count": 12,
     "metadata": {},
     "output_type": "execute_result"
    },
    {
     "data": {
      "image/png": "[encoded data removed]",
      "text/plain": [
       "<Figure size 460.8x316.8 with 1 Axes>"
      ]
     },
     "metadata": {
      "needs_background": "light"
     },
     "output_type": "display_data"
    },
    {
     "data": {
      "image/png": "[encoded data removed]",
      "text/plain": [
       "<Figure size 460.8x316.8 with 1 Axes>"
      ]
     },
     "metadata": {
      "needs_background": "light"
     },
     "output_type": "display_data"
    },
    {
     "data": {
      "image/png": "[encoded data removed]",
      "text/plain": [
       "<Figure size 460.8x316.8 with 1 Axes>"
      ]
     },
     "metadata": {
      "needs_background": "light"
     },
     "output_type": "display_data"
    },
    {
     "data": {
      "image/png": "[encoded data removed]",
      "text/plain": [
       "<Figure size 460.8x316.8 with 1 Axes>"
      ]
     },
     "metadata": {
      "needs_background": "light"
     },
     "output_type": "display_data"
    }
   ],
   "source": [
    "df.set_index(['Pipe', 'V1']).unstack('Pipe')['V2'].plot(style='o')\n",
    "plt.ylabel('V2')\n",
    "plt.title('Olivine Associations by Pipe')\n",
    "plt.legend(title=\"\")\n",
    "\n",
    "df.set_index(['Pipe', 'V1']).unstack('Pipe')['V3'].plot(style='o')\n",
    "plt.ylabel('V3')\n",
    "plt.title('Olivine Associations by Pipe')\n",
    "plt.legend(title=\"\")\n",
    "\n",
    "df.set_index(['Pipe', 'V1']).unstack('Pipe')['V4'].plot(style='o')\n",
    "plt.ylabel('V4')\n",
    "plt.title('Olivine Associations by Pipe')\n",
    "plt.legend(title=\"\")\n",
    "\n",
    "df.set_index(['Pipe', 'V1']).unstack('Pipe')['V5'].plot(style='o')\n",
    "plt.ylabel('V5')\n",
    "plt.title('Olivine Associations by Pipe')\n",
    "plt.legend(title=\"\")"
   ]
  },
  {
   "cell_type": "markdown",
   "metadata": {},
   "source": [
    "### Visualize the Olivine RQ-PCA data by Craton"
   ]
  },
  {
   "cell_type": "code",
   "execution_count": 13,
   "metadata": {},
   "outputs": [
    {
     "data": {
      "text/plain": [
       "<matplotlib.legend.Legend at 0x1b92bef7070>"
      ]
     },
     "execution_count": 13,
     "metadata": {},
     "output_type": "execute_result"
    },
    {
     "data": {
      "image/png": "[encoded data removed]",
      "text/plain": [
       "<Figure size 460.8x316.8 with 1 Axes>"
      ]
     },
     "metadata": {
      "needs_background": "light"
     },
     "output_type": "display_data"
    },
    {
     "data": {
      "image/png": "[encoded data removed]",
      "text/plain": [
       "<Figure size 460.8x316.8 with 1 Axes>"
      ]
     },
     "metadata": {
      "needs_background": "light"
     },
     "output_type": "display_data"
    },
    {
     "data": {
      "image/png": "[encoded data removed]",
      "text/plain": [
       "<Figure size 460.8x316.8 with 1 Axes>"
      ]
     },
     "metadata": {
      "needs_background": "light"
     },
     "output_type": "display_data"
    },
    {
     "data": {
      "image/png": "[encoded data removed]",
      "text/plain": [
       "<Figure size 460.8x316.8 with 1 Axes>"
      ]
     },
     "metadata": {
      "needs_background": "light"
     },
     "output_type": "display_data"
    }
   ],
   "source": [
    "df.set_index(['Craton', 'V1']).unstack('Craton')['V2'].plot(style='o')\n",
    "plt.ylabel('V2')\n",
    "plt.title('Olivine Associations by Craton')\n",
    "plt.legend(title=\"\")\n",
    "\n",
    "df.set_index(['Craton', 'V1']).unstack('Craton')['V3'].plot(style='o')\n",
    "plt.ylabel('V3')\n",
    "plt.title('Olivine Associations by Craton')\n",
    "plt.legend(title=\"\")\n",
    "\n",
    "df.set_index(['Craton', 'V1']).unstack('Craton')['V4'].plot(style='o')\n",
    "plt.ylabel('V4')\n",
    "plt.title('Olivine Associations by Craton')\n",
    "plt.legend(title=\"\")\n",
    "\n",
    "df.set_index(['Craton', 'V1']).unstack('Craton')['V5'].plot(style='o')\n",
    "plt.ylabel('V5')\n",
    "plt.title('Olivine Associations by Craton')\n",
    "plt.legend(title=\"\")"
   ]
  },
  {
   "cell_type": "markdown",
   "metadata": {},
   "source": [
    "### Normalizing the Data"
   ]
  },
  {
   "cell_type": "markdown",
   "metadata": {},
   "source": [
    "**Normalizing our data is very important, as we want the input features to be on the same order of magnitude to make our training easier. We can use a min-max scaler from scikit-learn which scales our data to be between 0 and 1, but geochemical data is compositional. Compositional data consist of ratios that are not free to vary independently. This interdependence of geochemical data can result in an incorrect assessment of correlations, or other measures of associations, commonly used in multivariate statistics if the data isn't first transformed. Z-score transformation is not appropriate for multi-variate statistical analysis of geochemical data because z-score transformation assumes the data has a normal distribution. Most geochemical data has a left-skewed distribution. The substitution or removal of an element from multielement studies using raw or z-score normalized data would result in different interpretations, since the variable are not free to vary independently, and that research would not be suitable for a comparison with other research.**\n",
    "\n",
    "**For this study the element concentrations were scaled using centred log-ratio method in R.**"
   ]
  },
  {
   "cell_type": "markdown",
   "metadata": {},
   "source": [
    "### Splitting the Data"
   ]
  },
  {
   "cell_type": "markdown",
   "metadata": {},
   "source": [
    "**Now, we split the dataset into our input features and the output feature we wish to predict because \"y\" needs to be one dimensional in order to split into train, test and validate groups. Using lowercase \"y\" shows that this is the unknown parameter.**"
   ]
  },
  {
   "cell_type": "code",
   "execution_count": 15,
   "metadata": {},
   "outputs": [
    {
     "name": "stdout",
     "output_type": "stream",
     "text": [
      "   Diamond_High\n",
      "0           yes\n",
      "1           yes\n",
      "2           yes\n",
      "3           yes\n",
      "4           yes\n",
      "..          ...\n",
      "87           no\n",
      "88           no\n",
      "89           no\n",
      "90           no\n",
      "91           no\n",
      "\n",
      "[92 rows x 1 columns]\n",
      "      Mg_clr    Si_clr    Cr_clr    Mn_clr    Co_clr    Ni_clr\n",
      "0   3.930205  4.308694 -3.349882 -1.262144 -3.307746 -0.319127\n",
      "1   3.755496  4.188879 -2.708026 -1.546032 -3.401173 -0.289144\n",
      "2   4.390753  4.469382 -3.753017 -1.733210 -3.227778 -0.146130\n",
      "3   3.958837  4.193752 -2.478590 -1.809510 -3.473941 -0.390547\n",
      "4   3.732936  4.109973 -2.419458 -1.502110 -3.450560 -0.470781\n",
      "..       ...       ...       ...       ...       ...       ...\n",
      "87  4.385036  4.342563 -3.160029 -1.889238 -3.431611 -0.246722\n",
      "88  4.162971  4.068178 -2.464430 -1.780758 -3.578933 -0.407027\n",
      "89  4.323780  4.080824 -2.801600 -1.698496 -3.508549 -0.395959\n",
      "90  4.245256  4.229783 -3.359133 -1.491829 -3.316505 -0.307573\n",
      "91  4.181267  4.061599 -2.546452 -1.727335 -3.603273 -0.365806\n",
      "\n",
      "[92 rows x 6 columns]\n"
     ]
    }
   ],
   "source": [
    "X = df[df.columns[11:17]]\n",
    "y = df[['Diamond_High']]\n",
    "print(y)\n",
    "print(X)"
   ]
  },
  {
   "cell_type": "code",
   "execution_count": 16,
   "metadata": {},
   "outputs": [
    {
     "data": {
      "text/html": [
       "<div>\n",
       "<style scoped>\n",
       "    .dataframe tbody tr th:only-of-type {\n",
       "        vertical-align: middle;\n",
       "    }\n",
       "\n",
       "    .dataframe tbody tr th {\n",
       "        vertical-align: top;\n",
       "    }\n",
       "\n",
       "    .dataframe thead th {\n",
       "        text-align: right;\n",
       "    }\n",
       "</style>\n",
       "<table border=\"1\" class=\"dataframe\">\n",
       "  <thead>\n",
       "    <tr style=\"text-align: right;\">\n",
       "      <th></th>\n",
       "      <th>diamond_no</th>\n",
       "      <th>diamond_yes</th>\n",
       "    </tr>\n",
       "  </thead>\n",
       "  <tbody>\n",
       "    <tr>\n",
       "      <th>0</th>\n",
       "      <td>0</td>\n",
       "      <td>1</td>\n",
       "    </tr>\n",
       "    <tr>\n",
       "      <th>1</th>\n",
       "      <td>0</td>\n",
       "      <td>1</td>\n",
       "    </tr>\n",
       "    <tr>\n",
       "      <th>2</th>\n",
       "      <td>0</td>\n",
       "      <td>1</td>\n",
       "    </tr>\n",
       "    <tr>\n",
       "      <th>3</th>\n",
       "      <td>0</td>\n",
       "      <td>1</td>\n",
       "    </tr>\n",
       "    <tr>\n",
       "      <th>4</th>\n",
       "      <td>0</td>\n",
       "      <td>1</td>\n",
       "    </tr>\n",
       "    <tr>\n",
       "      <th>...</th>\n",
       "      <td>...</td>\n",
       "      <td>...</td>\n",
       "    </tr>\n",
       "    <tr>\n",
       "      <th>87</th>\n",
       "      <td>1</td>\n",
       "      <td>0</td>\n",
       "    </tr>\n",
       "    <tr>\n",
       "      <th>88</th>\n",
       "      <td>1</td>\n",
       "      <td>0</td>\n",
       "    </tr>\n",
       "    <tr>\n",
       "      <th>89</th>\n",
       "      <td>1</td>\n",
       "      <td>0</td>\n",
       "    </tr>\n",
       "    <tr>\n",
       "      <th>90</th>\n",
       "      <td>1</td>\n",
       "      <td>0</td>\n",
       "    </tr>\n",
       "    <tr>\n",
       "      <th>91</th>\n",
       "      <td>1</td>\n",
       "      <td>0</td>\n",
       "    </tr>\n",
       "  </tbody>\n",
       "</table>\n",
       "<p>92 rows × 2 columns</p>\n",
       "</div>"
      ],
      "text/plain": [
       "    diamond_no  diamond_yes\n",
       "0            0            1\n",
       "1            0            1\n",
       "2            0            1\n",
       "3            0            1\n",
       "4            0            1\n",
       "..         ...          ...\n",
       "87           1            0\n",
       "88           1            0\n",
       "89           1            0\n",
       "90           1            0\n",
       "91           1            0\n",
       "\n",
       "[92 rows x 2 columns]"
      ]
     },
     "execution_count": 16,
     "metadata": {},
     "output_type": "execute_result"
    }
   ],
   "source": [
    "y_dm = pd.get_dummies(y['Diamond_High'], prefix = 'diamond')\n",
    "y_dm"
   ]
  },
  {
   "cell_type": "markdown",
   "metadata": {},
   "source": [
    "### Stratified Shuffle Split is used to ensure the same percentage of samples for each class occurs in each split"
   ]
  },
  {
   "cell_type": "code",
   "execution_count": 17,
   "metadata": {},
   "outputs": [],
   "source": [
    "from sklearn.model_selection import StratifiedShuffleSplit"
   ]
  },
  {
   "cell_type": "code",
   "execution_count": 18,
   "metadata": {},
   "outputs": [
    {
     "data": {
      "text/plain": [
       "1"
      ]
     },
     "execution_count": 18,
     "metadata": {},
     "output_type": "execute_result"
    }
   ],
   "source": [
    "sss = StratifiedShuffleSplit(n_splits=1, test_size=0.5, random_state=333)\n",
    "sss.get_n_splits(X, y['Diamond_High'])"
   ]
  },
  {
   "cell_type": "code",
   "execution_count": 19,
   "metadata": {},
   "outputs": [
    {
     "name": "stdout",
     "output_type": "stream",
     "text": [
      "StratifiedShuffleSplit(n_splits=1, random_state=333, test_size=0.5,\n",
      "            train_size=None)\n"
     ]
    }
   ],
   "source": [
    "print(sss)"
   ]
  },
  {
   "cell_type": "code",
   "execution_count": 20,
   "metadata": {},
   "outputs": [
    {
     "name": "stdout",
     "output_type": "stream",
     "text": [
      "TRAIN: [76 42 36 41 29 67 50 33 70 32 58 44 18 37 77 56 24  5 15 61 54 74  8  0\n",
      " 55 81 34 30 78 17  3 45 23 21 62  6 73 64 89 57 14 51 72 31 46 40] TEST: [71 66 75 52 13 88 79 22 12 48 53  4 84 65 82 19  9 63 39 68 90 80 47 85\n",
      " 86 28  2 20 10 83 43 91  7 60 38 59 27  1 35 26 69 49 25 11 16 87]\n"
     ]
    }
   ],
   "source": [
    "#first split to create the training set and the test-validation dataset\n",
    "for train_index, test_index in sss.split(X, y):\n",
    "     print(\"TRAIN:\", train_index, \"TEST:\", test_index)\n",
    "     X_train, X_testval = X.iloc[train_index], X.iloc[test_index]\n",
    "     y_train, y_testval = y.iloc[train_index], y.iloc[test_index]"
   ]
  },
  {
   "cell_type": "code",
   "execution_count": 21,
   "metadata": {},
   "outputs": [
    {
     "name": "stdout",
     "output_type": "stream",
     "text": [
      "TEST: [18 37 22 44 33 35 16 17 43  2  1 14 28 32 23  6 27 15 36 12  5  9  0] VAL: [39 45  4 11 42 41  3 38 40 19 34 26 24 21 13 20 10  7 31  8 30 29 25]\n"
     ]
    }
   ],
   "source": [
    "#second split for creating the test and validation datasets\n",
    "for train_index, test_index in sss.split(X_testval, y_testval):\n",
    "     print(\"TEST:\", train_index, \"VAL:\", test_index)\n",
    "     X_test, X_val = X_testval.iloc[train_index], X_testval.iloc[test_index]\n",
    "     y_test, y_val = y_testval.iloc[train_index], y_testval.iloc[test_index]"
   ]
  },
  {
   "cell_type": "code",
   "execution_count": 22,
   "metadata": {},
   "outputs": [
    {
     "data": {
      "text/html": [
       "<div>\n",
       "<style scoped>\n",
       "    .dataframe tbody tr th:only-of-type {\n",
       "        vertical-align: middle;\n",
       "    }\n",
       "\n",
       "    .dataframe tbody tr th {\n",
       "        vertical-align: top;\n",
       "    }\n",
       "\n",
       "    .dataframe thead th {\n",
       "        text-align: right;\n",
       "    }\n",
       "</style>\n",
       "<table border=\"1\" class=\"dataframe\">\n",
       "  <thead>\n",
       "    <tr style=\"text-align: right;\">\n",
       "      <th></th>\n",
       "      <th>Diamond_High</th>\n",
       "    </tr>\n",
       "  </thead>\n",
       "  <tbody>\n",
       "    <tr>\n",
       "      <th>76</th>\n",
       "      <td>no</td>\n",
       "    </tr>\n",
       "    <tr>\n",
       "      <th>42</th>\n",
       "      <td>no</td>\n",
       "    </tr>\n",
       "    <tr>\n",
       "      <th>36</th>\n",
       "      <td>yes</td>\n",
       "    </tr>\n",
       "    <tr>\n",
       "      <th>41</th>\n",
       "      <td>no</td>\n",
       "    </tr>\n",
       "    <tr>\n",
       "      <th>29</th>\n",
       "      <td>yes</td>\n",
       "    </tr>\n",
       "  </tbody>\n",
       "</table>\n",
       "</div>"
      ],
      "text/plain": [
       "   Diamond_High\n",
       "76           no\n",
       "42           no\n",
       "36          yes\n",
       "41           no\n",
       "29          yes"
      ]
     },
     "execution_count": 22,
     "metadata": {},
     "output_type": "execute_result"
    }
   ],
   "source": [
    "y_train.head(5)"
   ]
  },
  {
   "cell_type": "code",
   "execution_count": 23,
   "metadata": {},
   "outputs": [
    {
     "data": {
      "text/html": [
       "<div>\n",
       "<style scoped>\n",
       "    .dataframe tbody tr th:only-of-type {\n",
       "        vertical-align: middle;\n",
       "    }\n",
       "\n",
       "    .dataframe tbody tr th {\n",
       "        vertical-align: top;\n",
       "    }\n",
       "\n",
       "    .dataframe thead th {\n",
       "        text-align: right;\n",
       "    }\n",
       "</style>\n",
       "<table border=\"1\" class=\"dataframe\">\n",
       "  <thead>\n",
       "    <tr style=\"text-align: right;\">\n",
       "      <th></th>\n",
       "      <th>Mg_clr</th>\n",
       "      <th>Si_clr</th>\n",
       "      <th>Cr_clr</th>\n",
       "      <th>Mn_clr</th>\n",
       "      <th>Co_clr</th>\n",
       "      <th>Ni_clr</th>\n",
       "    </tr>\n",
       "  </thead>\n",
       "  <tbody>\n",
       "    <tr>\n",
       "      <th>76</th>\n",
       "      <td>3.948290</td>\n",
       "      <td>4.024573</td>\n",
       "      <td>-2.319831</td>\n",
       "      <td>-1.845815</td>\n",
       "      <td>-3.476221</td>\n",
       "      <td>-0.330996</td>\n",
       "    </tr>\n",
       "    <tr>\n",
       "      <th>42</th>\n",
       "      <td>4.639407</td>\n",
       "      <td>4.439207</td>\n",
       "      <td>-3.961297</td>\n",
       "      <td>-1.594245</td>\n",
       "      <td>-3.328213</td>\n",
       "      <td>-0.194859</td>\n",
       "    </tr>\n",
       "    <tr>\n",
       "      <th>36</th>\n",
       "      <td>4.257187</td>\n",
       "      <td>4.345001</td>\n",
       "      <td>-3.600272</td>\n",
       "      <td>-1.580111</td>\n",
       "      <td>-3.269276</td>\n",
       "      <td>-0.152528</td>\n",
       "    </tr>\n",
       "    <tr>\n",
       "      <th>41</th>\n",
       "      <td>4.664843</td>\n",
       "      <td>4.518358</td>\n",
       "      <td>-4.335256</td>\n",
       "      <td>-1.486165</td>\n",
       "      <td>-3.206235</td>\n",
       "      <td>-0.155546</td>\n",
       "    </tr>\n",
       "    <tr>\n",
       "      <th>29</th>\n",
       "      <td>4.198076</td>\n",
       "      <td>4.233445</td>\n",
       "      <td>-3.238214</td>\n",
       "      <td>-1.643654</td>\n",
       "      <td>-3.319853</td>\n",
       "      <td>-0.229800</td>\n",
       "    </tr>\n",
       "  </tbody>\n",
       "</table>\n",
       "</div>"
      ],
      "text/plain": [
       "      Mg_clr    Si_clr    Cr_clr    Mn_clr    Co_clr    Ni_clr\n",
       "76  3.948290  4.024573 -2.319831 -1.845815 -3.476221 -0.330996\n",
       "42  4.639407  4.439207 -3.961297 -1.594245 -3.328213 -0.194859\n",
       "36  4.257187  4.345001 -3.600272 -1.580111 -3.269276 -0.152528\n",
       "41  4.664843  4.518358 -4.335256 -1.486165 -3.206235 -0.155546\n",
       "29  4.198076  4.233445 -3.238214 -1.643654 -3.319853 -0.229800"
      ]
     },
     "execution_count": 23,
     "metadata": {},
     "output_type": "execute_result"
    }
   ],
   "source": [
    "X_train.head(5)"
   ]
  },
  {
   "cell_type": "code",
   "execution_count": 24,
   "metadata": {},
   "outputs": [
    {
     "data": {
      "text/html": [
       "<div>\n",
       "<style scoped>\n",
       "    .dataframe tbody tr th:only-of-type {\n",
       "        vertical-align: middle;\n",
       "    }\n",
       "\n",
       "    .dataframe tbody tr th {\n",
       "        vertical-align: top;\n",
       "    }\n",
       "\n",
       "    .dataframe thead th {\n",
       "        text-align: right;\n",
       "    }\n",
       "</style>\n",
       "<table border=\"1\" class=\"dataframe\">\n",
       "  <thead>\n",
       "    <tr style=\"text-align: right;\">\n",
       "      <th></th>\n",
       "      <th>Diamond_High</th>\n",
       "    </tr>\n",
       "  </thead>\n",
       "  <tbody>\n",
       "    <tr>\n",
       "      <th>39</th>\n",
       "      <td>yes</td>\n",
       "    </tr>\n",
       "    <tr>\n",
       "      <th>1</th>\n",
       "      <td>yes</td>\n",
       "    </tr>\n",
       "    <tr>\n",
       "      <th>47</th>\n",
       "      <td>no</td>\n",
       "    </tr>\n",
       "    <tr>\n",
       "      <th>16</th>\n",
       "      <td>yes</td>\n",
       "    </tr>\n",
       "    <tr>\n",
       "      <th>60</th>\n",
       "      <td>no</td>\n",
       "    </tr>\n",
       "  </tbody>\n",
       "</table>\n",
       "</div>"
      ],
      "text/plain": [
       "   Diamond_High\n",
       "39          yes\n",
       "1           yes\n",
       "47           no\n",
       "16          yes\n",
       "60           no"
      ]
     },
     "execution_count": 24,
     "metadata": {},
     "output_type": "execute_result"
    }
   ],
   "source": [
    "y_test.head(5)"
   ]
  },
  {
   "cell_type": "code",
   "execution_count": 25,
   "metadata": {},
   "outputs": [
    {
     "data": {
      "text/html": [
       "<div>\n",
       "<style scoped>\n",
       "    .dataframe tbody tr th:only-of-type {\n",
       "        vertical-align: middle;\n",
       "    }\n",
       "\n",
       "    .dataframe tbody tr th {\n",
       "        vertical-align: top;\n",
       "    }\n",
       "\n",
       "    .dataframe thead th {\n",
       "        text-align: right;\n",
       "    }\n",
       "</style>\n",
       "<table border=\"1\" class=\"dataframe\">\n",
       "  <thead>\n",
       "    <tr style=\"text-align: right;\">\n",
       "      <th></th>\n",
       "      <th>Mg_clr</th>\n",
       "      <th>Si_clr</th>\n",
       "      <th>Cr_clr</th>\n",
       "      <th>Mn_clr</th>\n",
       "      <th>Co_clr</th>\n",
       "      <th>Ni_clr</th>\n",
       "    </tr>\n",
       "  </thead>\n",
       "  <tbody>\n",
       "    <tr>\n",
       "      <th>39</th>\n",
       "      <td>4.443198</td>\n",
       "      <td>4.412869</td>\n",
       "      <td>-4.309557</td>\n",
       "      <td>-1.153287</td>\n",
       "      <td>-3.197262</td>\n",
       "      <td>-0.195961</td>\n",
       "    </tr>\n",
       "    <tr>\n",
       "      <th>1</th>\n",
       "      <td>3.755496</td>\n",
       "      <td>4.188879</td>\n",
       "      <td>-2.708026</td>\n",
       "      <td>-1.546032</td>\n",
       "      <td>-3.401173</td>\n",
       "      <td>-0.289144</td>\n",
       "    </tr>\n",
       "    <tr>\n",
       "      <th>47</th>\n",
       "      <td>4.389130</td>\n",
       "      <td>4.339207</td>\n",
       "      <td>-3.772176</td>\n",
       "      <td>-1.490131</td>\n",
       "      <td>-3.303616</td>\n",
       "      <td>-0.162414</td>\n",
       "    </tr>\n",
       "    <tr>\n",
       "      <th>16</th>\n",
       "      <td>4.004639</td>\n",
       "      <td>4.287322</td>\n",
       "      <td>-3.327781</td>\n",
       "      <td>-1.643304</td>\n",
       "      <td>-3.187594</td>\n",
       "      <td>-0.133282</td>\n",
       "    </tr>\n",
       "    <tr>\n",
       "      <th>60</th>\n",
       "      <td>3.853350</td>\n",
       "      <td>4.080448</td>\n",
       "      <td>-2.437925</td>\n",
       "      <td>-1.796816</td>\n",
       "      <td>-3.424404</td>\n",
       "      <td>-0.274653</td>\n",
       "    </tr>\n",
       "  </tbody>\n",
       "</table>\n",
       "</div>"
      ],
      "text/plain": [
       "      Mg_clr    Si_clr    Cr_clr    Mn_clr    Co_clr    Ni_clr\n",
       "39  4.443198  4.412869 -4.309557 -1.153287 -3.197262 -0.195961\n",
       "1   3.755496  4.188879 -2.708026 -1.546032 -3.401173 -0.289144\n",
       "47  4.389130  4.339207 -3.772176 -1.490131 -3.303616 -0.162414\n",
       "16  4.004639  4.287322 -3.327781 -1.643304 -3.187594 -0.133282\n",
       "60  3.853350  4.080448 -2.437925 -1.796816 -3.424404 -0.274653"
      ]
     },
     "execution_count": 25,
     "metadata": {},
     "output_type": "execute_result"
    }
   ],
   "source": [
    "X_test.head(5)"
   ]
  },
  {
   "cell_type": "code",
   "execution_count": 26,
   "metadata": {},
   "outputs": [
    {
     "data": {
      "text/html": [
       "<div>\n",
       "<style scoped>\n",
       "    .dataframe tbody tr th:only-of-type {\n",
       "        vertical-align: middle;\n",
       "    }\n",
       "\n",
       "    .dataframe tbody tr th {\n",
       "        vertical-align: top;\n",
       "    }\n",
       "\n",
       "    .dataframe thead th {\n",
       "        text-align: right;\n",
       "    }\n",
       "</style>\n",
       "<table border=\"1\" class=\"dataframe\">\n",
       "  <thead>\n",
       "    <tr style=\"text-align: right;\">\n",
       "      <th></th>\n",
       "      <th>Diamond_High</th>\n",
       "    </tr>\n",
       "  </thead>\n",
       "  <tbody>\n",
       "    <tr>\n",
       "      <th>26</th>\n",
       "      <td>yes</td>\n",
       "    </tr>\n",
       "    <tr>\n",
       "      <th>87</th>\n",
       "      <td>no</td>\n",
       "    </tr>\n",
       "    <tr>\n",
       "      <th>13</th>\n",
       "      <td>yes</td>\n",
       "    </tr>\n",
       "    <tr>\n",
       "      <th>4</th>\n",
       "      <td>yes</td>\n",
       "    </tr>\n",
       "    <tr>\n",
       "      <th>25</th>\n",
       "      <td>yes</td>\n",
       "    </tr>\n",
       "  </tbody>\n",
       "</table>\n",
       "</div>"
      ],
      "text/plain": [
       "   Diamond_High\n",
       "26          yes\n",
       "87           no\n",
       "13          yes\n",
       "4           yes\n",
       "25          yes"
      ]
     },
     "execution_count": 26,
     "metadata": {},
     "output_type": "execute_result"
    }
   ],
   "source": [
    "y_val.head(5)"
   ]
  },
  {
   "cell_type": "code",
   "execution_count": 27,
   "metadata": {},
   "outputs": [
    {
     "data": {
      "text/html": [
       "<div>\n",
       "<style scoped>\n",
       "    .dataframe tbody tr th:only-of-type {\n",
       "        vertical-align: middle;\n",
       "    }\n",
       "\n",
       "    .dataframe tbody tr th {\n",
       "        vertical-align: top;\n",
       "    }\n",
       "\n",
       "    .dataframe thead th {\n",
       "        text-align: right;\n",
       "    }\n",
       "</style>\n",
       "<table border=\"1\" class=\"dataframe\">\n",
       "  <thead>\n",
       "    <tr style=\"text-align: right;\">\n",
       "      <th></th>\n",
       "      <th>Mg_clr</th>\n",
       "      <th>Si_clr</th>\n",
       "      <th>Cr_clr</th>\n",
       "      <th>Mn_clr</th>\n",
       "      <th>Co_clr</th>\n",
       "      <th>Ni_clr</th>\n",
       "    </tr>\n",
       "  </thead>\n",
       "  <tbody>\n",
       "    <tr>\n",
       "      <th>26</th>\n",
       "      <td>3.875041</td>\n",
       "      <td>4.216905</td>\n",
       "      <td>-2.774951</td>\n",
       "      <td>-1.599329</td>\n",
       "      <td>-3.414126</td>\n",
       "      <td>-0.303540</td>\n",
       "    </tr>\n",
       "    <tr>\n",
       "      <th>87</th>\n",
       "      <td>4.385036</td>\n",
       "      <td>4.342563</td>\n",
       "      <td>-3.160029</td>\n",
       "      <td>-1.889238</td>\n",
       "      <td>-3.431611</td>\n",
       "      <td>-0.246722</td>\n",
       "    </tr>\n",
       "    <tr>\n",
       "      <th>13</th>\n",
       "      <td>4.042307</td>\n",
       "      <td>4.144145</td>\n",
       "      <td>-2.791052</td>\n",
       "      <td>-1.766644</td>\n",
       "      <td>-3.378197</td>\n",
       "      <td>-0.250559</td>\n",
       "    </tr>\n",
       "    <tr>\n",
       "      <th>4</th>\n",
       "      <td>3.732936</td>\n",
       "      <td>4.109973</td>\n",
       "      <td>-2.419458</td>\n",
       "      <td>-1.502110</td>\n",
       "      <td>-3.450560</td>\n",
       "      <td>-0.470781</td>\n",
       "    </tr>\n",
       "    <tr>\n",
       "      <th>25</th>\n",
       "      <td>4.051697</td>\n",
       "      <td>4.071551</td>\n",
       "      <td>-2.129951</td>\n",
       "      <td>-1.490963</td>\n",
       "      <td>-3.586516</td>\n",
       "      <td>-0.915818</td>\n",
       "    </tr>\n",
       "  </tbody>\n",
       "</table>\n",
       "</div>"
      ],
      "text/plain": [
       "      Mg_clr    Si_clr    Cr_clr    Mn_clr    Co_clr    Ni_clr\n",
       "26  3.875041  4.216905 -2.774951 -1.599329 -3.414126 -0.303540\n",
       "87  4.385036  4.342563 -3.160029 -1.889238 -3.431611 -0.246722\n",
       "13  4.042307  4.144145 -2.791052 -1.766644 -3.378197 -0.250559\n",
       "4   3.732936  4.109973 -2.419458 -1.502110 -3.450560 -0.470781\n",
       "25  4.051697  4.071551 -2.129951 -1.490963 -3.586516 -0.915818"
      ]
     },
     "execution_count": 27,
     "metadata": {},
     "output_type": "execute_result"
    }
   ],
   "source": [
    "X_val.head(5)"
   ]
  },
  {
   "cell_type": "markdown",
   "metadata": {},
   "source": [
    "**Next encode the categorical variablesfor diamond content, yes and no, using one hot vector multilabel. The data is split first then one hot encoded since the split function cannot handle more than one Y column.**"
   ]
  },
  {
   "cell_type": "code",
   "execution_count": 28,
   "metadata": {},
   "outputs": [
    {
     "data": {
      "text/html": [
       "<div>\n",
       "<style scoped>\n",
       "    .dataframe tbody tr th:only-of-type {\n",
       "        vertical-align: middle;\n",
       "    }\n",
       "\n",
       "    .dataframe tbody tr th {\n",
       "        vertical-align: top;\n",
       "    }\n",
       "\n",
       "    .dataframe thead th {\n",
       "        text-align: right;\n",
       "    }\n",
       "</style>\n",
       "<table border=\"1\" class=\"dataframe\">\n",
       "  <thead>\n",
       "    <tr style=\"text-align: right;\">\n",
       "      <th></th>\n",
       "      <th>diamond_no</th>\n",
       "      <th>diamond_yes</th>\n",
       "    </tr>\n",
       "  </thead>\n",
       "  <tbody>\n",
       "    <tr>\n",
       "      <th>76</th>\n",
       "      <td>1</td>\n",
       "      <td>0</td>\n",
       "    </tr>\n",
       "    <tr>\n",
       "      <th>42</th>\n",
       "      <td>1</td>\n",
       "      <td>0</td>\n",
       "    </tr>\n",
       "    <tr>\n",
       "      <th>36</th>\n",
       "      <td>0</td>\n",
       "      <td>1</td>\n",
       "    </tr>\n",
       "    <tr>\n",
       "      <th>41</th>\n",
       "      <td>1</td>\n",
       "      <td>0</td>\n",
       "    </tr>\n",
       "    <tr>\n",
       "      <th>29</th>\n",
       "      <td>0</td>\n",
       "      <td>1</td>\n",
       "    </tr>\n",
       "  </tbody>\n",
       "</table>\n",
       "</div>"
      ],
      "text/plain": [
       "    diamond_no  diamond_yes\n",
       "76           1            0\n",
       "42           1            0\n",
       "36           0            1\n",
       "41           1            0\n",
       "29           0            1"
      ]
     },
     "execution_count": 28,
     "metadata": {},
     "output_type": "execute_result"
    }
   ],
   "source": [
    "y_traindm = pd.get_dummies(y_train['Diamond_High'], prefix = 'diamond')\n",
    "y_traindm.head(5)"
   ]
  },
  {
   "cell_type": "code",
   "execution_count": 29,
   "metadata": {},
   "outputs": [
    {
     "data": {
      "text/html": [
       "<div>\n",
       "<style scoped>\n",
       "    .dataframe tbody tr th:only-of-type {\n",
       "        vertical-align: middle;\n",
       "    }\n",
       "\n",
       "    .dataframe tbody tr th {\n",
       "        vertical-align: top;\n",
       "    }\n",
       "\n",
       "    .dataframe thead th {\n",
       "        text-align: right;\n",
       "    }\n",
       "</style>\n",
       "<table border=\"1\" class=\"dataframe\">\n",
       "  <thead>\n",
       "    <tr style=\"text-align: right;\">\n",
       "      <th></th>\n",
       "      <th>diamond_no</th>\n",
       "      <th>diamond_yes</th>\n",
       "    </tr>\n",
       "  </thead>\n",
       "  <tbody>\n",
       "    <tr>\n",
       "      <th>39</th>\n",
       "      <td>0</td>\n",
       "      <td>1</td>\n",
       "    </tr>\n",
       "    <tr>\n",
       "      <th>1</th>\n",
       "      <td>0</td>\n",
       "      <td>1</td>\n",
       "    </tr>\n",
       "    <tr>\n",
       "      <th>47</th>\n",
       "      <td>1</td>\n",
       "      <td>0</td>\n",
       "    </tr>\n",
       "    <tr>\n",
       "      <th>16</th>\n",
       "      <td>0</td>\n",
       "      <td>1</td>\n",
       "    </tr>\n",
       "    <tr>\n",
       "      <th>60</th>\n",
       "      <td>1</td>\n",
       "      <td>0</td>\n",
       "    </tr>\n",
       "  </tbody>\n",
       "</table>\n",
       "</div>"
      ],
      "text/plain": [
       "    diamond_no  diamond_yes\n",
       "39           0            1\n",
       "1            0            1\n",
       "47           1            0\n",
       "16           0            1\n",
       "60           1            0"
      ]
     },
     "execution_count": 29,
     "metadata": {},
     "output_type": "execute_result"
    }
   ],
   "source": [
    "y_testdm = pd.get_dummies(y_test['Diamond_High'], prefix = 'diamond')\n",
    "y_testdm.head(5)"
   ]
  },
  {
   "cell_type": "code",
   "execution_count": 30,
   "metadata": {},
   "outputs": [
    {
     "data": {
      "text/html": [
       "<div>\n",
       "<style scoped>\n",
       "    .dataframe tbody tr th:only-of-type {\n",
       "        vertical-align: middle;\n",
       "    }\n",
       "\n",
       "    .dataframe tbody tr th {\n",
       "        vertical-align: top;\n",
       "    }\n",
       "\n",
       "    .dataframe thead th {\n",
       "        text-align: right;\n",
       "    }\n",
       "</style>\n",
       "<table border=\"1\" class=\"dataframe\">\n",
       "  <thead>\n",
       "    <tr style=\"text-align: right;\">\n",
       "      <th></th>\n",
       "      <th>diamond_no</th>\n",
       "      <th>diamond_yes</th>\n",
       "    </tr>\n",
       "  </thead>\n",
       "  <tbody>\n",
       "    <tr>\n",
       "      <th>26</th>\n",
       "      <td>0</td>\n",
       "      <td>1</td>\n",
       "    </tr>\n",
       "    <tr>\n",
       "      <th>87</th>\n",
       "      <td>1</td>\n",
       "      <td>0</td>\n",
       "    </tr>\n",
       "    <tr>\n",
       "      <th>13</th>\n",
       "      <td>0</td>\n",
       "      <td>1</td>\n",
       "    </tr>\n",
       "    <tr>\n",
       "      <th>4</th>\n",
       "      <td>0</td>\n",
       "      <td>1</td>\n",
       "    </tr>\n",
       "    <tr>\n",
       "      <th>25</th>\n",
       "      <td>0</td>\n",
       "      <td>1</td>\n",
       "    </tr>\n",
       "  </tbody>\n",
       "</table>\n",
       "</div>"
      ],
      "text/plain": [
       "    diamond_no  diamond_yes\n",
       "26           0            1\n",
       "87           1            0\n",
       "13           0            1\n",
       "4            0            1\n",
       "25           0            1"
      ]
     },
     "execution_count": 30,
     "metadata": {},
     "output_type": "execute_result"
    }
   ],
   "source": [
    "y_valdm = pd.get_dummies(y_val['Diamond_High'], prefix = 'diamond')\n",
    "y_valdm.head(5)"
   ]
  },
  {
   "cell_type": "code",
   "execution_count": 31,
   "metadata": {},
   "outputs": [
    {
     "name": "stdout",
     "output_type": "stream",
     "text": [
      "(46, 6) (23, 6) (23, 6)\n",
      "(46, 2) (23, 2) (23, 2)\n"
     ]
    }
   ],
   "source": [
    "# Show the rows and columns count for each split\n",
    "print(X_train.shape, X_val.shape, X_test.shape)\n",
    "print(y_traindm.shape, y_valdm.shape, y_testdm.shape)"
   ]
  },
  {
   "cell_type": "markdown",
   "metadata": {},
   "source": [
    "# Building and Training the Neural Network"
   ]
  },
  {
   "cell_type": "markdown",
   "metadata": {},
   "source": [
    "**Keras is used to build our architecture and will need to be imported.**"
   ]
  },
  {
   "cell_type": "code",
   "execution_count": 32,
   "metadata": {},
   "outputs": [],
   "source": [
    "from tensorflow.keras.models import Sequential\n",
    "from tensorflow.keras.layers import Dense\n",
    "from tensorflow.keras.models import model_from_json"
   ]
  },
  {
   "cell_type": "markdown",
   "metadata": {},
   "source": [
    "## A Sequential model will be used, meaning that the layers are described in order. This neural network has two layers:\n",
    "\n",
    "- Hidden layer 1: 10 neurons, ReLU activation (rectified linear activation for a piecewise linear function that will output the input directly if it is positive, otherwise, it will output zero. Useful for developing multilayer Perceptron and convolutional neural networks.)\n",
    "- Hidden layer 2: 5 neurons, ReLU activation\n",
    "- Output Layer: 2 neurons, Softmax activation (allows for classification)\n",
    "- Input Shape: 6 variables (centred log-ratio element concentrations)"
   ]
  },
  {
   "cell_type": "code",
   "execution_count": 33,
   "metadata": {},
   "outputs": [
    {
     "name": "stdout",
     "output_type": "stream",
     "text": [
      "Model: \"sequential\"\n",
      "_________________________________________________________________\n",
      "Layer (type)                 Output Shape              Param #   \n",
      "=================================================================\n",
      "dense (Dense)                (None, 10)                70        \n",
      "_________________________________________________________________\n",
      "dense_1 (Dense)              (None, 5)                 55        \n",
      "_________________________________________________________________\n",
      "dense_2 (Dense)              (None, 2)                 12        \n",
      "=================================================================\n",
      "Total params: 137\n",
      "Trainable params: 137\n",
      "Non-trainable params: 0\n",
      "_________________________________________________________________\n",
      "None\n"
     ]
    }
   ],
   "source": [
    "model = Sequential([\n",
    "    Dense(10, activation='relu', input_shape=(6,)),\n",
    "    Dense(5, activation='relu'),\n",
    "    Dense(2, activation='softmax'),\n",
    "])\n",
    "print(model.summary())"
   ]
  },
  {
   "cell_type": "markdown",
   "metadata": {},
   "source": [
    "## Setup Visualization of the Neural Network"
   ]
  },
  {
   "cell_type": "code",
   "execution_count": 34,
   "metadata": {},
   "outputs": [],
   "source": [
    "# Load the TensorBoard notebook extension.\n",
    "%load_ext tensorboard"
   ]
  },
  {
   "cell_type": "code",
   "execution_count": 35,
   "metadata": {},
   "outputs": [
    {
     "name": "stdout",
     "output_type": "stream",
     "text": [
      "TensorFlow version:  2.4.0\n"
     ]
    }
   ],
   "source": [
    "from datetime import datetime\n",
    "from packaging import version\n",
    "\n",
    "import tensorflow as tf\n",
    "from tensorflow import keras\n",
    "\n",
    "print(\"TensorFlow version: \", tf.__version__)\n",
    "assert version.parse(tf.__version__).release[0] >= 2, \\\n",
    "    \"This notebook requires TensorFlow 2.0 or above.\""
   ]
  },
  {
   "cell_type": "code",
   "execution_count": 36,
   "metadata": {},
   "outputs": [
    {
     "data": {
      "text/plain": [
       "'2.4.0'"
      ]
     },
     "execution_count": 36,
     "metadata": {},
     "output_type": "execute_result"
    }
   ],
   "source": [
    "import tensorboard\n",
    "tensorboard.__version__"
   ]
  },
  {
   "cell_type": "code",
   "execution_count": 37,
   "metadata": {},
   "outputs": [],
   "source": [
    "# Define the Keras TensorBoard callback prior to training.\n",
    "logdir=\"logs/fit/\" + datetime.now().strftime(\"%Y%m%d-%H%M%S\")\n",
    "tensorboard_callback = keras.callbacks.TensorBoard(log_dir=logdir)"
   ]
  },
  {
   "cell_type": "markdown",
   "metadata": {},
   "source": [
    "# Determine the Importance of the Features\n",
    "We measure the importance of a feature by calculating the increase in the model's prediction error after permuting the feature. A feature is \"important\" if shuffling its values increases the model error, because in this case the model relied on the feature for the prediction. A feature is \"unimportant\" if shuffling its values leaves the model error unchanged, because in this case the model ignored the feature for the prediction. The permutation feature importance measurement was introduced by Breiman (2001) for random forests. Based on this idea, Fisher, Rudin, and Dominici (2018) proposed a model-agnostic version of the feature importance and called it model reliance. They also introduced more advanced ideas about feature importance, for example a (model-specific) version that takes into account that many prediction models may predict the data well. Rebelo de Sá (2019) developed code to measure the variance of the weights calculated during the training phase to get the relative importance of the features in the neural network."
   ]
  },
  {
   "cell_type": "code",
   "execution_count": 38,
   "metadata": {},
   "outputs": [],
   "source": [
    "#Setting up feature importance tracking\n",
    "#Rebelo de Sá, C. (2019). Variance-based feature importance in neural networks.\n",
    "#22st International Conference on Discovery Science (DS 2019) Split, Croatia, October 28-30, 2019\n",
    "\n",
    "\n",
    "class VarImpVIANN(keras.callbacks.Callback):\n",
    "    def __init__(self, verbose=0):\n",
    "        self.verbose = verbose\n",
    "        self.n = 0\n",
    "        self.M2 = 0.0\n",
    "\n",
    "    def on_train_begin(self, logs={}, verbose = 1):\n",
    "        if self.verbose:\n",
    "            print(\"VIANN version 1.0 (Wellford + Mean) update per epoch\")\n",
    "        self.diff = self.model.layers[0].get_weights()[0]\n",
    "        \n",
    "    def on_epoch_end(self, batch, logs={}):\n",
    "        currentWeights = self.model.layers[0].get_weights()[0]\n",
    "        \n",
    "        self.n += 1\n",
    "        delta = np.subtract(currentWeights, self.diff)\n",
    "        self.diff += delta/self.n\n",
    "        delta2 = np.subtract(currentWeights, self.diff)\n",
    "        self.M2 += delta*delta2\n",
    "            \n",
    "        self.lastweights = self.model.layers[0].get_weights()[0]\n",
    "\n",
    "    def on_train_end(self, batch, logs={}):\n",
    "        if self.n < 2:\n",
    "            self.s2 = float('nan')\n",
    "        else:\n",
    "            self.s2 = self.M2 / (self.n - 1)\n",
    "        \n",
    "        scores = np.sum(np.multiply(self.s2, np.abs(self.lastweights)), axis = 1)\n",
    "        \n",
    "        self.varScores = (scores - min(scores)) / (max(scores) - min(scores))\n",
    "        if self.verbose:\n",
    "            print(\"Most important variables: \",\n",
    "                  np.array(self.varScores).argsort()[-10:][::-1])\n",
    "\n",
    "VIANN = VarImpVIANN(verbose=1)"
   ]
  },
  {
   "cell_type": "code",
   "execution_count": 39,
   "metadata": {},
   "outputs": [
    {
     "data": {
      "image/png": "[encoded data removed]",
      "text/plain": [
       "<IPython.core.display.Image object>"
      ]
     },
     "execution_count": 39,
     "metadata": {},
     "output_type": "execute_result"
    }
   ],
   "source": [
    "from keras.utils.vis_utils import plot_model\n",
    "plot_model(model, to_file='model_plot_OL_template.png', show_shapes=True, show_layer_names=True)"
   ]
  },
  {
   "cell_type": "markdown",
   "metadata": {},
   "source": [
    "**Now that we've got our architecture specified, we need to find the best numbers for it. Before we start our training, we have to configure the model by:**\n",
    "- Telling it what algorithm you want to use to do the optimization (we'll use stochastic gradient descent, **sgd**)\n",
    "- Telling it what loss function to use (for binary classification, we will use **binary cross entropy**)\n",
    "- Telling it what other metrics you want to track apart from the loss function (we want to track **accuracy** as well)"
   ]
  },
  {
   "cell_type": "code",
   "execution_count": 40,
   "metadata": {},
   "outputs": [],
   "source": [
    "model.compile(optimizer='sgd',\n",
    "              loss='binary_crossentropy',\n",
    "              metrics=['accuracy'])"
   ]
  },
  {
   "cell_type": "markdown",
   "metadata": {},
   "source": [
    "**Training on the data is pretty straightforward and requires one line of code. The function is called 'fit' as we are fitting the parameters to the data.**\n",
    "\n",
    "**We specify:**\n",
    "- What data we are training on, which is X_train and y_train\n",
    "- The size of our mini-batch (since we only have 46 training samples we won't split into mini-batches)\n",
    "- How long we want to train it for (epochs)\n",
    "- What our validation data is so that the model will tell us how we are doing on the validation data at each point.\n",
    "\n",
    "**This function will output a history, which we save under the variable hist to be used later.**"
   ]
  },
  {
   "cell_type": "code",
   "execution_count": 41,
   "metadata": {},
   "outputs": [
    {
     "name": "stdout",
     "output_type": "stream",
     "text": [
      "VIANN version 1.0 (Wellford + Mean) update per epoch\n",
      "Epoch 1/100\n",
      "1/1 [==============================] - 1s 1s/step - loss: 1.0181 - accuracy: 0.4348 - val_loss: 1.0003 - val_accuracy: 0.4348\n",
      "Epoch 2/100\n",
      "1/1 [==============================] - 0s 36ms/step - loss: 0.9932 - accuracy: 0.4348 - val_loss: 0.9772 - val_accuracy: 0.4348\n",
      "Epoch 3/100\n",
      "1/1 [==============================] - 0s 33ms/step - loss: 0.9703 - accuracy: 0.4348 - val_loss: 0.9561 - val_accuracy: 0.4348\n",
      "Epoch 4/100\n",
      "1/1 [==============================] - 0s 32ms/step - loss: 0.9493 - accuracy: 0.4348 - val_loss: 0.9368 - val_accuracy: 0.4348\n",
      "Epoch 5/100\n",
      "1/1 [==============================] - 0s 32ms/step - loss: 0.9301 - accuracy: 0.4348 - val_loss: 0.9190 - val_accuracy: 0.4348\n",
      "Epoch 6/100\n",
      "1/1 [==============================] - 0s 31ms/step - loss: 0.9124 - accuracy: 0.4348 - val_loss: 0.9026 - val_accuracy: 0.4348\n",
      "Epoch 7/100\n",
      "1/1 [==============================] - 0s 33ms/step - loss: 0.8962 - accuracy: 0.4348 - val_loss: 0.8876 - val_accuracy: 0.4348\n",
      "Epoch 8/100\n",
      "1/1 [==============================] - 0s 33ms/step - loss: 0.8813 - accuracy: 0.4348 - val_loss: 0.8738 - val_accuracy: 0.4348\n",
      "Epoch 9/100\n",
      "1/1 [==============================] - 0s 33ms/step - loss: 0.8677 - accuracy: 0.4348 - val_loss: 0.8611 - val_accuracy: 0.4348\n",
      "Epoch 10/100\n",
      "1/1 [==============================] - 0s 32ms/step - loss: 0.8551 - accuracy: 0.4348 - val_loss: 0.8494 - val_accuracy: 0.4348\n",
      "Epoch 11/100\n",
      "1/1 [==============================] - 0s 32ms/step - loss: 0.8435 - accuracy: 0.4348 - val_loss: 0.8386 - val_accuracy: 0.4348\n",
      "Epoch 12/100\n",
      "1/1 [==============================] - 0s 34ms/step - loss: 0.8329 - accuracy: 0.4348 - val_loss: 0.8287 - val_accuracy: 0.4348\n",
      "Epoch 13/100\n",
      "1/1 [==============================] - 0s 32ms/step - loss: 0.8230 - accuracy: 0.4348 - val_loss: 0.8195 - val_accuracy: 0.4348\n",
      "Epoch 14/100\n",
      "1/1 [==============================] - 0s 32ms/step - loss: 0.8139 - accuracy: 0.4348 - val_loss: 0.8110 - val_accuracy: 0.4348\n",
      "Epoch 15/100\n",
      "1/1 [==============================] - 0s 33ms/step - loss: 0.8055 - accuracy: 0.4348 - val_loss: 0.8031 - val_accuracy: 0.4348\n",
      "Epoch 16/100\n",
      "1/1 [==============================] - 0s 33ms/step - loss: 0.7977 - accuracy: 0.4348 - val_loss: 0.7958 - val_accuracy: 0.4348\n",
      "Epoch 17/100\n",
      "1/1 [==============================] - 0s 32ms/step - loss: 0.7905 - accuracy: 0.4348 - val_loss: 0.7890 - val_accuracy: 0.4348\n",
      "Epoch 18/100\n",
      "1/1 [==============================] - 0s 30ms/step - loss: 0.7838 - accuracy: 0.4348 - val_loss: 0.7827 - val_accuracy: 0.4348\n",
      "Epoch 19/100\n",
      "1/1 [==============================] - 0s 32ms/step - loss: 0.7775 - accuracy: 0.4348 - val_loss: 0.7769 - val_accuracy: 0.4348\n",
      "Epoch 20/100\n",
      "1/1 [==============================] - 0s 31ms/step - loss: 0.7718 - accuracy: 0.4348 - val_loss: 0.7715 - val_accuracy: 0.4348\n",
      "Epoch 21/100\n",
      "1/1 [==============================] - 0s 32ms/step - loss: 0.7664 - accuracy: 0.4348 - val_loss: 0.7664 - val_accuracy: 0.4348\n",
      "Epoch 22/100\n",
      "1/1 [==============================] - 0s 30ms/step - loss: 0.7615 - accuracy: 0.4348 - val_loss: 0.7617 - val_accuracy: 0.4348\n",
      "Epoch 23/100\n",
      "1/1 [==============================] - 0s 31ms/step - loss: 0.7568 - accuracy: 0.4348 - val_loss: 0.7573 - val_accuracy: 0.4348\n",
      "Epoch 24/100\n",
      "1/1 [==============================] - 0s 31ms/step - loss: 0.7525 - accuracy: 0.4348 - val_loss: 0.7532 - val_accuracy: 0.4348\n",
      "Epoch 25/100\n",
      "1/1 [==============================] - 0s 33ms/step - loss: 0.7486 - accuracy: 0.4348 - val_loss: 0.7494 - val_accuracy: 0.4348\n",
      "Epoch 26/100\n",
      "1/1 [==============================] - 0s 31ms/step - loss: 0.7449 - accuracy: 0.4348 - val_loss: 0.7459 - val_accuracy: 0.4348\n",
      "Epoch 27/100\n",
      "1/1 [==============================] - 0s 30ms/step - loss: 0.7414 - accuracy: 0.4348 - val_loss: 0.7426 - val_accuracy: 0.4348\n",
      "Epoch 28/100\n",
      "1/1 [==============================] - 0s 30ms/step - loss: 0.7382 - accuracy: 0.4348 - val_loss: 0.7396 - val_accuracy: 0.4348\n",
      "Epoch 29/100\n",
      "1/1 [==============================] - 0s 32ms/step - loss: 0.7356 - accuracy: 0.4348 - val_loss: 0.7370 - val_accuracy: 0.4348\n",
      "Epoch 30/100\n",
      "1/1 [==============================] - 0s 30ms/step - loss: 0.7334 - accuracy: 0.4348 - val_loss: 0.7346 - val_accuracy: 0.4348\n",
      "Epoch 31/100\n",
      "1/1 [==============================] - 0s 32ms/step - loss: 0.7313 - accuracy: 0.4348 - val_loss: 0.7324 - val_accuracy: 0.4348\n",
      "Epoch 32/100\n",
      "1/1 [==============================] - 0s 30ms/step - loss: 0.7295 - accuracy: 0.4348 - val_loss: 0.7303 - val_accuracy: 0.4348\n",
      "Epoch 33/100\n",
      "1/1 [==============================] - 0s 34ms/step - loss: 0.7277 - accuracy: 0.4348 - val_loss: 0.7287 - val_accuracy: 0.4348\n",
      "Epoch 34/100\n",
      "1/1 [==============================] - 0s 30ms/step - loss: 0.7263 - accuracy: 0.4348 - val_loss: 0.7274 - val_accuracy: 0.4348\n",
      "Epoch 35/100\n",
      "1/1 [==============================] - 0s 32ms/step - loss: 0.7252 - accuracy: 0.4348 - val_loss: 0.7263 - val_accuracy: 0.4348\n",
      "Epoch 36/100\n",
      "1/1 [==============================] - 0s 30ms/step - loss: 0.7242 - accuracy: 0.4348 - val_loss: 0.7251 - val_accuracy: 0.4348\n",
      "Epoch 37/100\n",
      "1/1 [==============================] - 0s 33ms/step - loss: 0.7231 - accuracy: 0.4348 - val_loss: 0.7239 - val_accuracy: 0.4348\n",
      "Epoch 38/100\n",
      "1/1 [==============================] - 0s 29ms/step - loss: 0.7221 - accuracy: 0.4348 - val_loss: 0.7227 - val_accuracy: 0.4348\n",
      "Epoch 39/100\n",
      "1/1 [==============================] - 0s 32ms/step - loss: 0.7208 - accuracy: 0.4348 - val_loss: 0.7214 - val_accuracy: 0.4348\n",
      "Epoch 40/100\n",
      "1/1 [==============================] - 0s 31ms/step - loss: 0.7197 - accuracy: 0.4348 - val_loss: 0.7201 - val_accuracy: 0.4348\n",
      "Epoch 41/100\n",
      "1/1 [==============================] - 0s 31ms/step - loss: 0.7185 - accuracy: 0.4348 - val_loss: 0.7188 - val_accuracy: 0.4348\n",
      "Epoch 42/100\n",
      "1/1 [==============================] - 0s 35ms/step - loss: 0.7175 - accuracy: 0.4348 - val_loss: 0.7175 - val_accuracy: 0.4348\n",
      "Epoch 43/100\n",
      "1/1 [==============================] - 0s 31ms/step - loss: 0.7163 - accuracy: 0.4348 - val_loss: 0.7162 - val_accuracy: 0.4348\n",
      "Epoch 44/100\n",
      "1/1 [==============================] - 0s 32ms/step - loss: 0.7150 - accuracy: 0.4348 - val_loss: 0.7148 - val_accuracy: 0.4348\n",
      "Epoch 45/100\n",
      "1/1 [==============================] - 0s 36ms/step - loss: 0.7135 - accuracy: 0.4348 - val_loss: 0.7135 - val_accuracy: 0.4348\n",
      "Epoch 46/100\n",
      "1/1 [==============================] - 0s 31ms/step - loss: 0.7121 - accuracy: 0.4348 - val_loss: 0.7120 - val_accuracy: 0.4348\n",
      "Epoch 47/100\n",
      "1/1 [==============================] - 0s 32ms/step - loss: 0.7103 - accuracy: 0.4348 - val_loss: 0.7106 - val_accuracy: 0.4348\n",
      "Epoch 48/100\n",
      "1/1 [==============================] - 0s 32ms/step - loss: 0.7088 - accuracy: 0.4348 - val_loss: 0.7093 - val_accuracy: 0.4348\n",
      "Epoch 49/100\n",
      "1/1 [==============================] - 0s 32ms/step - loss: 0.7074 - accuracy: 0.4348 - val_loss: 0.7082 - val_accuracy: 0.4348\n",
      "Epoch 50/100\n",
      "1/1 [==============================] - 0s 32ms/step - loss: 0.7062 - accuracy: 0.4348 - val_loss: 0.7073 - val_accuracy: 0.4348\n",
      "Epoch 51/100\n",
      "1/1 [==============================] - 0s 32ms/step - loss: 0.7052 - accuracy: 0.4348 - val_loss: 0.7064 - val_accuracy: 0.4348\n",
      "Epoch 52/100\n",
      "1/1 [==============================] - 0s 30ms/step - loss: 0.7044 - accuracy: 0.4348 - val_loss: 0.7057 - val_accuracy: 0.4348\n",
      "Epoch 53/100\n",
      "1/1 [==============================] - 0s 35ms/step - loss: 0.7038 - accuracy: 0.4348 - val_loss: 0.7052 - val_accuracy: 0.4348\n",
      "Epoch 54/100\n",
      "1/1 [==============================] - 0s 30ms/step - loss: 0.7034 - accuracy: 0.4348 - val_loss: 0.7047 - val_accuracy: 0.4348\n",
      "Epoch 55/100\n",
      "1/1 [==============================] - 0s 32ms/step - loss: 0.7031 - accuracy: 0.4348 - val_loss: 0.7043 - val_accuracy: 0.4348\n",
      "Epoch 56/100\n",
      "1/1 [==============================] - 0s 31ms/step - loss: 0.7027 - accuracy: 0.4348 - val_loss: 0.7039 - val_accuracy: 0.4348\n",
      "Epoch 57/100\n",
      "1/1 [==============================] - 0s 30ms/step - loss: 0.7023 - accuracy: 0.4348 - val_loss: 0.7036 - val_accuracy: 0.4348\n",
      "Epoch 58/100\n",
      "1/1 [==============================] - 0s 31ms/step - loss: 0.7019 - accuracy: 0.4348 - val_loss: 0.7032 - val_accuracy: 0.4348\n"
     ]
    },
    {
     "name": "stdout",
     "output_type": "stream",
     "text": [
      "Epoch 59/100\n",
      "1/1 [==============================] - 0s 30ms/step - loss: 0.7016 - accuracy: 0.4348 - val_loss: 0.7029 - val_accuracy: 0.4348\n",
      "Epoch 60/100\n",
      "1/1 [==============================] - 0s 32ms/step - loss: 0.7013 - accuracy: 0.4348 - val_loss: 0.7026 - val_accuracy: 0.4348\n",
      "Epoch 61/100\n",
      "1/1 [==============================] - 0s 32ms/step - loss: 0.7010 - accuracy: 0.4348 - val_loss: 0.7024 - val_accuracy: 0.4348\n",
      "Epoch 62/100\n",
      "1/1 [==============================] - 0s 32ms/step - loss: 0.7008 - accuracy: 0.4348 - val_loss: 0.7021 - val_accuracy: 0.4348\n",
      "Epoch 63/100\n",
      "1/1 [==============================] - 0s 32ms/step - loss: 0.7006 - accuracy: 0.4348 - val_loss: 0.7019 - val_accuracy: 0.4348\n",
      "Epoch 64/100\n",
      "1/1 [==============================] - 0s 31ms/step - loss: 0.7003 - accuracy: 0.4348 - val_loss: 0.7016 - val_accuracy: 0.4348\n",
      "Epoch 65/100\n",
      "1/1 [==============================] - 0s 31ms/step - loss: 0.7001 - accuracy: 0.4348 - val_loss: 0.7014 - val_accuracy: 0.4348\n",
      "Epoch 66/100\n",
      "1/1 [==============================] - 0s 31ms/step - loss: 0.6999 - accuracy: 0.4348 - val_loss: 0.7012 - val_accuracy: 0.4348\n",
      "Epoch 67/100\n",
      "1/1 [==============================] - 0s 31ms/step - loss: 0.6997 - accuracy: 0.4348 - val_loss: 0.7009 - val_accuracy: 0.4348\n",
      "Epoch 68/100\n",
      "1/1 [==============================] - 0s 31ms/step - loss: 0.6995 - accuracy: 0.4348 - val_loss: 0.7007 - val_accuracy: 0.4348\n",
      "Epoch 69/100\n",
      "1/1 [==============================] - 0s 31ms/step - loss: 0.6993 - accuracy: 0.4348 - val_loss: 0.7005 - val_accuracy: 0.4348\n",
      "Epoch 70/100\n",
      "1/1 [==============================] - 0s 33ms/step - loss: 0.6991 - accuracy: 0.4348 - val_loss: 0.7003 - val_accuracy: 0.4348\n",
      "Epoch 71/100\n",
      "1/1 [==============================] - 0s 31ms/step - loss: 0.6989 - accuracy: 0.4348 - val_loss: 0.7001 - val_accuracy: 0.4348\n",
      "Epoch 72/100\n",
      "1/1 [==============================] - 0s 31ms/step - loss: 0.6987 - accuracy: 0.4348 - val_loss: 0.6999 - val_accuracy: 0.4348\n",
      "Epoch 73/100\n",
      "1/1 [==============================] - 0s 31ms/step - loss: 0.6985 - accuracy: 0.4348 - val_loss: 0.6997 - val_accuracy: 0.4348\n",
      "Epoch 74/100\n",
      "1/1 [==============================] - 0s 31ms/step - loss: 0.6983 - accuracy: 0.4348 - val_loss: 0.6995 - val_accuracy: 0.3913\n",
      "Epoch 75/100\n",
      "1/1 [==============================] - 0s 32ms/step - loss: 0.6981 - accuracy: 0.4348 - val_loss: 0.6993 - val_accuracy: 0.3913\n",
      "Epoch 76/100\n",
      "1/1 [==============================] - 0s 31ms/step - loss: 0.6980 - accuracy: 0.4348 - val_loss: 0.6991 - val_accuracy: 0.4348\n",
      "Epoch 77/100\n",
      "1/1 [==============================] - 0s 31ms/step - loss: 0.6978 - accuracy: 0.4348 - val_loss: 0.6989 - val_accuracy: 0.4348\n",
      "Epoch 78/100\n",
      "1/1 [==============================] - 0s 31ms/step - loss: 0.6976 - accuracy: 0.5000 - val_loss: 0.6988 - val_accuracy: 0.4783\n",
      "Epoch 79/100\n",
      "1/1 [==============================] - 0s 32ms/step - loss: 0.6975 - accuracy: 0.5652 - val_loss: 0.6986 - val_accuracy: 0.4783\n",
      "Epoch 80/100\n",
      "1/1 [==============================] - 0s 31ms/step - loss: 0.6973 - accuracy: 0.6087 - val_loss: 0.6984 - val_accuracy: 0.4348\n",
      "Epoch 81/100\n",
      "1/1 [==============================] - 0s 34ms/step - loss: 0.6971 - accuracy: 0.5870 - val_loss: 0.6982 - val_accuracy: 0.4348\n",
      "Epoch 82/100\n",
      "1/1 [==============================] - 0s 31ms/step - loss: 0.6970 - accuracy: 0.5652 - val_loss: 0.6981 - val_accuracy: 0.4348\n",
      "Epoch 83/100\n",
      "1/1 [==============================] - 0s 32ms/step - loss: 0.6968 - accuracy: 0.5435 - val_loss: 0.6979 - val_accuracy: 0.4783\n",
      "Epoch 84/100\n",
      "1/1 [==============================] - 0s 31ms/step - loss: 0.6967 - accuracy: 0.5217 - val_loss: 0.6978 - val_accuracy: 0.4348\n",
      "Epoch 85/100\n",
      "1/1 [==============================] - 0s 31ms/step - loss: 0.6965 - accuracy: 0.5000 - val_loss: 0.6976 - val_accuracy: 0.3913\n",
      "Epoch 86/100\n",
      "1/1 [==============================] - 0s 30ms/step - loss: 0.6964 - accuracy: 0.4348 - val_loss: 0.6975 - val_accuracy: 0.4348\n",
      "Epoch 87/100\n",
      "1/1 [==============================] - 0s 31ms/step - loss: 0.6963 - accuracy: 0.4130 - val_loss: 0.6973 - val_accuracy: 0.4783\n",
      "Epoch 88/100\n",
      "1/1 [==============================] - 0s 31ms/step - loss: 0.6961 - accuracy: 0.4130 - val_loss: 0.6972 - val_accuracy: 0.4348\n",
      "Epoch 89/100\n",
      "1/1 [==============================] - 0s 31ms/step - loss: 0.6960 - accuracy: 0.4348 - val_loss: 0.6970 - val_accuracy: 0.4348\n",
      "Epoch 90/100\n",
      "1/1 [==============================] - 0s 30ms/step - loss: 0.6959 - accuracy: 0.4348 - val_loss: 0.6969 - val_accuracy: 0.3913\n",
      "Epoch 91/100\n",
      "1/1 [==============================] - 0s 31ms/step - loss: 0.6957 - accuracy: 0.3696 - val_loss: 0.6967 - val_accuracy: 0.4348\n",
      "Epoch 92/100\n",
      "1/1 [==============================] - 0s 31ms/step - loss: 0.6956 - accuracy: 0.3913 - val_loss: 0.6966 - val_accuracy: 0.4348\n",
      "Epoch 93/100\n",
      "1/1 [==============================] - 0s 33ms/step - loss: 0.6955 - accuracy: 0.4348 - val_loss: 0.6965 - val_accuracy: 0.4348\n",
      "Epoch 94/100\n",
      "1/1 [==============================] - 0s 30ms/step - loss: 0.6954 - accuracy: 0.5000 - val_loss: 0.6963 - val_accuracy: 0.4348\n",
      "Epoch 95/100\n",
      "1/1 [==============================] - 0s 31ms/step - loss: 0.6953 - accuracy: 0.5000 - val_loss: 0.6962 - val_accuracy: 0.4348\n",
      "Epoch 96/100\n",
      "1/1 [==============================] - 0s 34ms/step - loss: 0.6951 - accuracy: 0.5870 - val_loss: 0.6961 - val_accuracy: 0.4348\n",
      "Epoch 97/100\n",
      "1/1 [==============================] - 0s 31ms/step - loss: 0.6950 - accuracy: 0.5652 - val_loss: 0.6960 - val_accuracy: 0.5217\n",
      "Epoch 98/100\n",
      "1/1 [==============================] - 0s 30ms/step - loss: 0.6949 - accuracy: 0.5652 - val_loss: 0.6959 - val_accuracy: 0.5217\n",
      "Epoch 99/100\n",
      "1/1 [==============================] - 0s 32ms/step - loss: 0.6948 - accuracy: 0.5652 - val_loss: 0.6958 - val_accuracy: 0.5217\n",
      "Epoch 100/100\n",
      "1/1 [==============================] - 0s 34ms/step - loss: 0.6947 - accuracy: 0.5652 - val_loss: 0.6957 - val_accuracy: 0.5217\n",
      "Most important variables:  [2 0 1 4 3 5]\n"
     ]
    }
   ],
   "source": [
    "hist = model.fit(X_train, y_traindm,\n",
    "          batch_size=46, epochs=100,\n",
    "          validation_data=(X_val, y_valdm), callbacks = [VIANN])"
   ]
  },
  {
   "cell_type": "markdown",
   "metadata": {},
   "source": [
    "# Visualizing Loss and Accuracy"
   ]
  },
  {
   "cell_type": "markdown",
   "metadata": {},
   "source": [
    "**Visualize the training loss and the validation loss using matplotlib as plt. Note the separation between the training and validation data.**"
   ]
  },
  {
   "cell_type": "code",
   "execution_count": 42,
   "metadata": {},
   "outputs": [
    {
     "data": {
      "image/png": "[encoded data removed]",
      "text/plain": [
       "<Figure size 460.8x316.8 with 1 Axes>"
      ]
     },
     "metadata": {
      "needs_background": "light"
     },
     "output_type": "display_data"
    }
   ],
   "source": [
    "plt.plot(hist.history['loss'])\n",
    "plt.plot(hist.history['val_loss'])\n",
    "plt.title('Model loss')\n",
    "plt.ylabel('Loss')\n",
    "plt.xlabel('Epoch')\n",
    "plt.legend(['Train', 'Val'], loc='upper right')\n",
    "plt.show()"
   ]
  },
  {
   "cell_type": "markdown",
   "metadata": {},
   "source": [
    "**Then visualize the training accuracy and the validation accuracy. Note the separation between the validation and training accuracy indicating underfitting and the need for a larger network, more hidden layers, longer train time or more advanced algorithms.**"
   ]
  },
  {
   "cell_type": "code",
   "execution_count": 43,
   "metadata": {},
   "outputs": [
    {
     "data": {
      "image/png": "[encoded data removed]",
      "text/plain": [
       "<Figure size 460.8x316.8 with 1 Axes>"
      ]
     },
     "metadata": {
      "needs_background": "light"
     },
     "output_type": "display_data"
    }
   ],
   "source": [
    "plt.plot(hist.history['accuracy'])\n",
    "plt.plot(hist.history['val_accuracy'])\n",
    "plt.title('Model accuracy')\n",
    "plt.ylabel('Accuracy')\n",
    "plt.xlabel('Epoch')\n",
    "plt.legend(['Train', 'Val'], loc='lower right')\n",
    "plt.show()"
   ]
  },
  {
   "cell_type": "code",
   "execution_count": 44,
   "metadata": {},
   "outputs": [
    {
     "data": {
      "text/html": [
       "<div>\n",
       "<style scoped>\n",
       "    .dataframe tbody tr th:only-of-type {\n",
       "        vertical-align: middle;\n",
       "    }\n",
       "\n",
       "    .dataframe tbody tr th {\n",
       "        vertical-align: top;\n",
       "    }\n",
       "\n",
       "    .dataframe thead th {\n",
       "        text-align: right;\n",
       "    }\n",
       "</style>\n",
       "<table border=\"1\" class=\"dataframe\">\n",
       "  <thead>\n",
       "    <tr style=\"text-align: right;\">\n",
       "      <th></th>\n",
       "      <th>Variable</th>\n",
       "      <th>Scores</th>\n",
       "    </tr>\n",
       "  </thead>\n",
       "  <tbody>\n",
       "    <tr>\n",
       "      <th>5</th>\n",
       "      <td>Ni_clr</td>\n",
       "      <td>0.000000</td>\n",
       "    </tr>\n",
       "    <tr>\n",
       "      <th>3</th>\n",
       "      <td>Mn_clr</td>\n",
       "      <td>0.182000</td>\n",
       "    </tr>\n",
       "    <tr>\n",
       "      <th>4</th>\n",
       "      <td>Co_clr</td>\n",
       "      <td>0.255195</td>\n",
       "    </tr>\n",
       "    <tr>\n",
       "      <th>1</th>\n",
       "      <td>Si_clr</td>\n",
       "      <td>0.442160</td>\n",
       "    </tr>\n",
       "    <tr>\n",
       "      <th>0</th>\n",
       "      <td>Mg_clr</td>\n",
       "      <td>0.757499</td>\n",
       "    </tr>\n",
       "    <tr>\n",
       "      <th>2</th>\n",
       "      <td>Cr_clr</td>\n",
       "      <td>1.000000</td>\n",
       "    </tr>\n",
       "  </tbody>\n",
       "</table>\n",
       "</div>"
      ],
      "text/plain": [
       "  Variable    Scores\n",
       "5   Ni_clr  0.000000\n",
       "3   Mn_clr  0.182000\n",
       "4   Co_clr  0.255195\n",
       "1   Si_clr  0.442160\n",
       "0   Mg_clr  0.757499\n",
       "2   Cr_clr  1.000000"
      ]
     },
     "execution_count": 44,
     "metadata": {},
     "output_type": "execute_result"
    }
   ],
   "source": [
    "#Visualize Feature Importance in table format\n",
    "X_columns = X_train.columns.tolist()\n",
    "model_FI_scores = VIANN.varScores.tolist()\n",
    "\n",
    "model_FI = pd.DataFrame()\n",
    "model_FI['Variable'] = X_columns\n",
    "model_FI['Scores'] = model_FI_scores\n",
    "model_FI.sort_values(by=['Scores'], inplace=True, ascending=True)\n",
    "\n",
    "model_FI"
   ]
  },
  {
   "cell_type": "code",
   "execution_count": 45,
   "metadata": {},
   "outputs": [
    {
     "data": {
      "text/plain": [
       "array([['Mg_clr', 'Si_clr', 'Cr_clr', 'Mn_clr', 'Co_clr', 'Ni_clr'],\n",
       "       [0.7574993968009949, 0.4421602785587311, 1.0, 0.18199965357780457,\n",
       "        0.2551954686641693, 0.0]], dtype=object)"
      ]
     },
     "execution_count": 45,
     "metadata": {},
     "output_type": "execute_result"
    }
   ],
   "source": [
    "#Link Features to VIANN scores and export to csv\n",
    "model_FI_array = np.vstack((X_train.columns, VIANN.varScores))\n",
    "pd.DataFrame(model_FI_array).to_csv(\"OL_model_FI.csv\", index=None)\n",
    "model_FI_array"
   ]
  },
  {
   "cell_type": "code",
   "execution_count": 46,
   "metadata": {
    "scrolled": true
   },
   "outputs": [
    {
     "data": {
      "image/png": "[encoded data removed]",
      "text/plain": [
       "<Figure size 460.8x316.8 with 1 Axes>"
      ]
     },
     "metadata": {
      "needs_background": "light"
     },
     "output_type": "display_data"
    }
   ],
   "source": [
    "# Plot the feature importances of the model\n",
    "fig, ax = plt.subplots()\n",
    "\n",
    "ax.barh(model_FI['Variable'], model_FI['Scores'], align=\"center\", alpha=0.5)\n",
    "ax.set_xlabel('Scores')\n",
    "ax.set_yticks(model_FI['Variable'])\n",
    "ax.xaxis.grid(True)\n",
    "ax.set_title(\"Model Feature Importances\", fontsize='14')\n",
    "\n",
    "# Save the figure and show\n",
    "plt.savefig('OL_model_FI_barplot.png')\n",
    "plt.show()"
   ]
  },
  {
   "cell_type": "markdown",
   "metadata": {},
   "source": [
    "**Visualize the neural network.**"
   ]
  },
  {
   "cell_type": "code",
   "execution_count": 47,
   "metadata": {},
   "outputs": [
    {
     "data": {
      "text/plain": [
       "Reusing TensorBoard on port 6006 (pid 11316), started 1:41:52 ago. (Use '!kill 11316' to kill it.)"
      ]
     },
     "metadata": {},
     "output_type": "display_data"
    },
    {
     "data": {
      "text/html": [
       "\n",
       "      <iframe id=\"tensorboard-frame-c99afe9c32e2e685\" width=\"100%\" height=\"800\" frameborder=\"0\">\n",
       "      </iframe>\n",
       "      <script>\n",
       "        (function() {\n",
       "          const frame = document.getElementById(\"tensorboard-frame-c99afe9c32e2e685\");\n",
       "          const url = new URL(\"/\", window.location);\n",
       "          const port = 6006;\n",
       "          if (port) {\n",
       "            url.port = port;\n",
       "          }\n",
       "          frame.src = url;\n",
       "        })();\n",
       "      </script>\n",
       "    "
      ],
      "text/plain": [
       "<IPython.core.display.HTML object>"
      ]
     },
     "metadata": {},
     "output_type": "display_data"
    }
   ],
   "source": [
    "#View tensorboard graphic of the neural network structure\n",
    "#Re-run this cell if there is a timeout error\n",
    "%tensorboard --logdir logs"
   ]
  },
  {
   "cell_type": "markdown",
   "metadata": {},
   "source": [
    "**Check model's performance on test data.**"
   ]
  },
  {
   "cell_type": "code",
   "execution_count": 48,
   "metadata": {
    "scrolled": true
   },
   "outputs": [
    {
     "name": "stdout",
     "output_type": "stream",
     "text": [
      "1/1 [==============================] - 0s 12ms/step - loss: 0.6940 - accuracy: 0.5652\n"
     ]
    },
    {
     "data": {
      "text/plain": [
       "0.5652173757553101"
      ]
     },
     "execution_count": 48,
     "metadata": {},
     "output_type": "execute_result"
    }
   ],
   "source": [
    "model.evaluate(X_test, y_testdm)[1]"
   ]
  },
  {
   "cell_type": "markdown",
   "metadata": {},
   "source": [
    "**Out dataset is small and the accuracy is low, therefore try adding in regularization and drop out.**"
   ]
  },
  {
   "cell_type": "markdown",
   "metadata": {},
   "source": [
    "# Adding Regularization to the Neural Network"
   ]
  },
  {
   "cell_type": "markdown",
   "metadata": {},
   "source": [
    "**Train a model which will overfit, which we call Model 2. Input shape is how many variables (22) and Dense is number of y values (2).**"
   ]
  },
  {
   "cell_type": "code",
   "execution_count": 49,
   "metadata": {},
   "outputs": [
    {
     "name": "stdout",
     "output_type": "stream",
     "text": [
      "Epoch 1/200\n",
      "1/1 [==============================] - 1s 572ms/step - loss: 0.6992 - accuracy: 0.4348 - val_loss: 0.9051 - val_accuracy: 0.5652\n",
      "Epoch 2/200\n",
      "1/1 [==============================] - 0s 54ms/step - loss: 0.9159 - accuracy: 0.5652 - val_loss: 0.6831 - val_accuracy: 0.5652\n",
      "Epoch 3/200\n",
      "1/1 [==============================] - 0s 46ms/step - loss: 0.6861 - accuracy: 0.5652 - val_loss: 0.7027 - val_accuracy: 0.4348\n",
      "Epoch 4/200\n",
      "1/1 [==============================] - 0s 47ms/step - loss: 0.7020 - accuracy: 0.4348 - val_loss: 0.6959 - val_accuracy: 0.4348\n",
      "Epoch 5/200\n",
      "1/1 [==============================] - 0s 46ms/step - loss: 0.6956 - accuracy: 0.4348 - val_loss: 0.6821 - val_accuracy: 0.5652\n",
      "Epoch 6/200\n",
      "1/1 [==============================] - 0s 46ms/step - loss: 0.6831 - accuracy: 0.5652 - val_loss: 0.6819 - val_accuracy: 0.5652\n",
      "Epoch 7/200\n",
      "1/1 [==============================] - 0s 46ms/step - loss: 0.6845 - accuracy: 0.5652 - val_loss: 0.6812 - val_accuracy: 0.5652\n",
      "Epoch 8/200\n",
      "1/1 [==============================] - 0s 50ms/step - loss: 0.6844 - accuracy: 0.5652 - val_loss: 0.6777 - val_accuracy: 0.5652\n",
      "Epoch 9/200\n",
      "1/1 [==============================] - 0s 46ms/step - loss: 0.6803 - accuracy: 0.5652 - val_loss: 0.6786 - val_accuracy: 0.5652\n",
      "Epoch 10/200\n",
      "1/1 [==============================] - 0s 49ms/step - loss: 0.6808 - accuracy: 0.5652 - val_loss: 0.6770 - val_accuracy: 0.5652\n",
      "Epoch 11/200\n",
      "1/1 [==============================] - 0s 48ms/step - loss: 0.6799 - accuracy: 0.5652 - val_loss: 0.6723 - val_accuracy: 0.5652\n",
      "Epoch 12/200\n",
      "1/1 [==============================] - 0s 47ms/step - loss: 0.6769 - accuracy: 0.5652 - val_loss: 0.6702 - val_accuracy: 0.5652\n",
      "Epoch 13/200\n",
      "1/1 [==============================] - 0s 46ms/step - loss: 0.6765 - accuracy: 0.5652 - val_loss: 0.6670 - val_accuracy: 0.5652\n",
      "Epoch 14/200\n",
      "1/1 [==============================] - 0s 50ms/step - loss: 0.6733 - accuracy: 0.5652 - val_loss: 0.6650 - val_accuracy: 0.5652\n",
      "Epoch 15/200\n",
      "1/1 [==============================] - 0s 46ms/step - loss: 0.6707 - accuracy: 0.5652 - val_loss: 0.6607 - val_accuracy: 0.5652\n",
      "Epoch 16/200\n",
      "1/1 [==============================] - 0s 46ms/step - loss: 0.6673 - accuracy: 0.5652 - val_loss: 0.6539 - val_accuracy: 0.5652\n",
      "Epoch 17/200\n",
      "1/1 [==============================] - 0s 48ms/step - loss: 0.6629 - accuracy: 0.5652 - val_loss: 0.6481 - val_accuracy: 0.5652\n",
      "Epoch 18/200\n",
      "1/1 [==============================] - 0s 46ms/step - loss: 0.6583 - accuracy: 0.5652 - val_loss: 0.6427 - val_accuracy: 0.5652\n",
      "Epoch 19/200\n",
      "1/1 [==============================] - 0s 47ms/step - loss: 0.6521 - accuracy: 0.5652 - val_loss: 0.6339 - val_accuracy: 0.5652\n",
      "Epoch 20/200\n",
      "1/1 [==============================] - 0s 49ms/step - loss: 0.6443 - accuracy: 0.5652 - val_loss: 0.6244 - val_accuracy: 0.6522\n",
      "Epoch 21/200\n",
      "1/1 [==============================] - 0s 46ms/step - loss: 0.6364 - accuracy: 0.5652 - val_loss: 0.6176 - val_accuracy: 0.6087\n",
      "Epoch 22/200\n",
      "1/1 [==============================] - 0s 51ms/step - loss: 0.6273 - accuracy: 0.5435 - val_loss: 0.6066 - val_accuracy: 0.6957\n",
      "Epoch 23/200\n",
      "1/1 [==============================] - 0s 47ms/step - loss: 0.6194 - accuracy: 0.5652 - val_loss: 0.6172 - val_accuracy: 0.5652\n",
      "Epoch 24/200\n",
      "1/1 [==============================] - 0s 51ms/step - loss: 0.6203 - accuracy: 0.6739 - val_loss: 0.6017 - val_accuracy: 0.5652\n",
      "Epoch 25/200\n",
      "1/1 [==============================] - 0s 50ms/step - loss: 0.6184 - accuracy: 0.5652 - val_loss: 0.5949 - val_accuracy: 0.6087\n",
      "Epoch 26/200\n",
      "1/1 [==============================] - 0s 51ms/step - loss: 0.5926 - accuracy: 0.6304 - val_loss: 0.5925 - val_accuracy: 0.6087\n",
      "Epoch 27/200\n",
      "1/1 [==============================] - 0s 53ms/step - loss: 0.5850 - accuracy: 0.6739 - val_loss: 0.5832 - val_accuracy: 0.6522\n",
      "Epoch 28/200\n",
      "1/1 [==============================] - 0s 48ms/step - loss: 0.5875 - accuracy: 0.5870 - val_loss: 0.5791 - val_accuracy: 0.6087\n",
      "Epoch 29/200\n",
      "1/1 [==============================] - 0s 49ms/step - loss: 0.5622 - accuracy: 0.6739 - val_loss: 0.5765 - val_accuracy: 0.6522\n",
      "Epoch 30/200\n",
      "1/1 [==============================] - 0s 48ms/step - loss: 0.5515 - accuracy: 0.6957 - val_loss: 0.5789 - val_accuracy: 0.6087\n",
      "Epoch 31/200\n",
      "1/1 [==============================] - 0s 50ms/step - loss: 0.5562 - accuracy: 0.6304 - val_loss: 0.5814 - val_accuracy: 0.6522\n",
      "Epoch 32/200\n",
      "1/1 [==============================] - 0s 50ms/step - loss: 0.5372 - accuracy: 0.6739 - val_loss: 0.5577 - val_accuracy: 0.7391\n",
      "Epoch 33/200\n",
      "1/1 [==============================] - 0s 53ms/step - loss: 0.5062 - accuracy: 0.8261 - val_loss: 0.5680 - val_accuracy: 0.6522\n",
      "Epoch 34/200\n",
      "1/1 [==============================] - 0s 51ms/step - loss: 0.5044 - accuracy: 0.7609 - val_loss: 0.6044 - val_accuracy: 0.5652\n",
      "Epoch 35/200\n",
      "1/1 [==============================] - 0s 53ms/step - loss: 0.5240 - accuracy: 0.6739 - val_loss: 0.5907 - val_accuracy: 0.6522\n",
      "Epoch 36/200\n",
      "1/1 [==============================] - 0s 50ms/step - loss: 0.4925 - accuracy: 0.7391 - val_loss: 0.5619 - val_accuracy: 0.7391\n",
      "Epoch 37/200\n",
      "1/1 [==============================] - 0s 49ms/step - loss: 0.4472 - accuracy: 0.8478 - val_loss: 0.5841 - val_accuracy: 0.6957\n",
      "Epoch 38/200\n",
      "1/1 [==============================] - 0s 49ms/step - loss: 0.4608 - accuracy: 0.8043 - val_loss: 0.6064 - val_accuracy: 0.6522\n",
      "Epoch 39/200\n",
      "1/1 [==============================] - 0s 50ms/step - loss: 0.4647 - accuracy: 0.7609 - val_loss: 0.5896 - val_accuracy: 0.7391\n",
      "Epoch 40/200\n",
      "1/1 [==============================] - 0s 50ms/step - loss: 0.4239 - accuracy: 0.8043 - val_loss: 0.5984 - val_accuracy: 0.7391\n",
      "Epoch 41/200\n",
      "1/1 [==============================] - 0s 49ms/step - loss: 0.4038 - accuracy: 0.8261 - val_loss: 0.6426 - val_accuracy: 0.6087\n",
      "Epoch 42/200\n",
      "1/1 [==============================] - 0s 50ms/step - loss: 0.4238 - accuracy: 0.7826 - val_loss: 0.6401 - val_accuracy: 0.6957\n",
      "Epoch 43/200\n",
      "1/1 [==============================] - 0s 50ms/step - loss: 0.4358 - accuracy: 0.7826 - val_loss: 0.6243 - val_accuracy: 0.6522\n",
      "Epoch 44/200\n",
      "1/1 [==============================] - 0s 49ms/step - loss: 0.3911 - accuracy: 0.8043 - val_loss: 0.6333 - val_accuracy: 0.6522\n",
      "Epoch 45/200\n",
      "1/1 [==============================] - 0s 47ms/step - loss: 0.3629 - accuracy: 0.8696 - val_loss: 0.6665 - val_accuracy: 0.7391\n",
      "Epoch 46/200\n",
      "1/1 [==============================] - 0s 49ms/step - loss: 0.3781 - accuracy: 0.8043 - val_loss: 0.7469 - val_accuracy: 0.6522\n",
      "Epoch 47/200\n",
      "1/1 [==============================] - 0s 47ms/step - loss: 0.4333 - accuracy: 0.7826 - val_loss: 0.7606 - val_accuracy: 0.6957\n",
      "Epoch 48/200\n",
      "1/1 [==============================] - 0s 46ms/step - loss: 0.5057 - accuracy: 0.7609 - val_loss: 0.6730 - val_accuracy: 0.6522\n",
      "Epoch 49/200\n",
      "1/1 [==============================] - 0s 47ms/step - loss: 0.3624 - accuracy: 0.8261 - val_loss: 0.6982 - val_accuracy: 0.6087\n",
      "Epoch 50/200\n",
      "1/1 [==============================] - 0s 47ms/step - loss: 0.3757 - accuracy: 0.8043 - val_loss: 0.7466 - val_accuracy: 0.6957\n",
      "Epoch 51/200\n",
      "1/1 [==============================] - 0s 52ms/step - loss: 0.4422 - accuracy: 0.8043 - val_loss: 0.7095 - val_accuracy: 0.6522\n",
      "Epoch 52/200\n",
      "1/1 [==============================] - 0s 51ms/step - loss: 0.3293 - accuracy: 0.8696 - val_loss: 0.7932 - val_accuracy: 0.6522\n",
      "Epoch 53/200\n",
      "1/1 [==============================] - 0s 48ms/step - loss: 0.4133 - accuracy: 0.7826 - val_loss: 0.7244 - val_accuracy: 0.7391\n",
      "Epoch 54/200\n",
      "1/1 [==============================] - 0s 48ms/step - loss: 0.3693 - accuracy: 0.8043 - val_loss: 0.6998 - val_accuracy: 0.7391\n",
      "Epoch 55/200\n",
      "1/1 [==============================] - 0s 49ms/step - loss: 0.3450 - accuracy: 0.8043 - val_loss: 0.7470 - val_accuracy: 0.6087\n",
      "Epoch 56/200\n",
      "1/1 [==============================] - 0s 48ms/step - loss: 0.3924 - accuracy: 0.8261 - val_loss: 0.7013 - val_accuracy: 0.7391\n",
      "Epoch 57/200\n",
      "1/1 [==============================] - 0s 48ms/step - loss: 0.3136 - accuracy: 0.8696 - val_loss: 0.7476 - val_accuracy: 0.7391\n",
      "Epoch 58/200\n",
      "1/1 [==============================] - 0s 48ms/step - loss: 0.3662 - accuracy: 0.8043 - val_loss: 0.7342 - val_accuracy: 0.6522\n",
      "Epoch 59/200\n",
      "1/1 [==============================] - 0s 48ms/step - loss: 0.3226 - accuracy: 0.8043 - val_loss: 0.7281 - val_accuracy: 0.6957\n",
      "Epoch 60/200\n",
      "1/1 [==============================] - 0s 47ms/step - loss: 0.3250 - accuracy: 0.8261 - val_loss: 0.7251 - val_accuracy: 0.7391\n",
      "Epoch 61/200\n",
      "1/1 [==============================] - 0s 47ms/step - loss: 0.3414 - accuracy: 0.8261 - val_loss: 0.6909 - val_accuracy: 0.7391\n",
      "Epoch 62/200\n",
      "1/1 [==============================] - 0s 46ms/step - loss: 0.2960 - accuracy: 0.8478 - val_loss: 0.7309 - val_accuracy: 0.6087\n",
      "Epoch 63/200\n",
      "1/1 [==============================] - 0s 48ms/step - loss: 0.3359 - accuracy: 0.8478 - val_loss: 0.7325 - val_accuracy: 0.7391\n",
      "Epoch 64/200\n",
      "1/1 [==============================] - 0s 47ms/step - loss: 0.3134 - accuracy: 0.8261 - val_loss: 0.7308 - val_accuracy: 0.6957\n",
      "Epoch 65/200\n",
      "1/1 [==============================] - 0s 48ms/step - loss: 0.2888 - accuracy: 0.8261 - val_loss: 0.7575 - val_accuracy: 0.6087\n",
      "Epoch 66/200\n",
      "1/1 [==============================] - 0s 47ms/step - loss: 0.3247 - accuracy: 0.8696 - val_loss: 0.7336 - val_accuracy: 0.7391\n",
      "Epoch 67/200\n",
      "1/1 [==============================] - 0s 47ms/step - loss: 0.3014 - accuracy: 0.8261 - val_loss: 0.7126 - val_accuracy: 0.6957\n",
      "Epoch 68/200\n",
      "1/1 [==============================] - 0s 47ms/step - loss: 0.2755 - accuracy: 0.8478 - val_loss: 0.7452 - val_accuracy: 0.6957\n",
      "Epoch 69/200\n",
      "1/1 [==============================] - 0s 48ms/step - loss: 0.3078 - accuracy: 0.8478 - val_loss: 0.7638 - val_accuracy: 0.7391\n",
      "Epoch 70/200\n",
      "1/1 [==============================] - 0s 48ms/step - loss: 0.3108 - accuracy: 0.8261 - val_loss: 0.7539 - val_accuracy: 0.6957\n",
      "Epoch 71/200\n",
      "1/1 [==============================] - 0s 48ms/step - loss: 0.2670 - accuracy: 0.8696 - val_loss: 0.7645 - val_accuracy: 0.6957\n",
      "Epoch 72/200\n",
      "1/1 [==============================] - 0s 48ms/step - loss: 0.2715 - accuracy: 0.8696 - val_loss: 0.7810 - val_accuracy: 0.7391\n",
      "Epoch 73/200\n",
      "1/1 [==============================] - 0s 50ms/step - loss: 0.3025 - accuracy: 0.8261 - val_loss: 0.7721 - val_accuracy: 0.6957\n",
      "Epoch 74/200\n",
      "1/1 [==============================] - 0s 50ms/step - loss: 0.2884 - accuracy: 0.8696 - val_loss: 0.7594 - val_accuracy: 0.6522\n",
      "Epoch 75/200\n",
      "1/1 [==============================] - 0s 49ms/step - loss: 0.2580 - accuracy: 0.8696 - val_loss: 0.7697 - val_accuracy: 0.6957\n",
      "Epoch 76/200\n",
      "1/1 [==============================] - 0s 50ms/step - loss: 0.2461 - accuracy: 0.8913 - val_loss: 0.7991 - val_accuracy: 0.6957\n",
      "Epoch 77/200\n",
      "1/1 [==============================] - 0s 52ms/step - loss: 0.2622 - accuracy: 0.8913 - val_loss: 0.8156 - val_accuracy: 0.7391\n",
      "Epoch 78/200\n",
      "1/1 [==============================] - 0s 50ms/step - loss: 0.2900 - accuracy: 0.8261 - val_loss: 0.8274 - val_accuracy: 0.6957\n",
      "Epoch 79/200\n",
      "1/1 [==============================] - 0s 50ms/step - loss: 0.2965 - accuracy: 0.8696 - val_loss: 0.8116 - val_accuracy: 0.7391\n",
      "Epoch 80/200\n",
      "1/1 [==============================] - 0s 49ms/step - loss: 0.2958 - accuracy: 0.8261 - val_loss: 0.7999 - val_accuracy: 0.7391\n",
      "Epoch 81/200\n",
      "1/1 [==============================] - 0s 51ms/step - loss: 0.2562 - accuracy: 0.8913 - val_loss: 0.7956 - val_accuracy: 0.6957\n",
      "Epoch 82/200\n",
      "1/1 [==============================] - 0s 49ms/step - loss: 0.2317 - accuracy: 0.8696 - val_loss: 0.8122 - val_accuracy: 0.6957\n",
      "Epoch 83/200\n",
      "1/1 [==============================] - 0s 47ms/step - loss: 0.2326 - accuracy: 0.8913 - val_loss: 0.8363 - val_accuracy: 0.6957\n",
      "Epoch 84/200\n",
      "1/1 [==============================] - 0s 50ms/step - loss: 0.2502 - accuracy: 0.9130 - val_loss: 0.8361 - val_accuracy: 0.7391\n",
      "Epoch 85/200\n",
      "1/1 [==============================] - 0s 47ms/step - loss: 0.2751 - accuracy: 0.8261 - val_loss: 0.8440 - val_accuracy: 0.6957\n",
      "Epoch 86/200\n",
      "1/1 [==============================] - 0s 48ms/step - loss: 0.2767 - accuracy: 0.8913 - val_loss: 0.8384 - val_accuracy: 0.7391\n",
      "Epoch 87/200\n",
      "1/1 [==============================] - 0s 47ms/step - loss: 0.2784 - accuracy: 0.8261 - val_loss: 0.8403 - val_accuracy: 0.7391\n",
      "Epoch 88/200\n",
      "1/1 [==============================] - 0s 48ms/step - loss: 0.2425 - accuracy: 0.9130 - val_loss: 0.8254 - val_accuracy: 0.6957\n",
      "Epoch 89/200\n",
      "1/1 [==============================] - 0s 49ms/step - loss: 0.2195 - accuracy: 0.8696 - val_loss: 0.8244 - val_accuracy: 0.6957\n",
      "Epoch 90/200\n",
      "1/1 [==============================] - 0s 53ms/step - loss: 0.2193 - accuracy: 0.8696 - val_loss: 0.8380 - val_accuracy: 0.7391\n",
      "Epoch 91/200\n",
      "1/1 [==============================] - 0s 50ms/step - loss: 0.2355 - accuracy: 0.9130 - val_loss: 0.8304 - val_accuracy: 0.6957\n",
      "Epoch 92/200\n",
      "1/1 [==============================] - 0s 47ms/step - loss: 0.2562 - accuracy: 0.8696 - val_loss: 0.8458 - val_accuracy: 0.7391\n",
      "Epoch 93/200\n",
      "1/1 [==============================] - 0s 46ms/step - loss: 0.2481 - accuracy: 0.9130 - val_loss: 0.8338 - val_accuracy: 0.6957\n",
      "Epoch 94/200\n",
      "1/1 [==============================] - 0s 48ms/step - loss: 0.2388 - accuracy: 0.8696 - val_loss: 0.8433 - val_accuracy: 0.7391\n",
      "Epoch 95/200\n",
      "1/1 [==============================] - 0s 49ms/step - loss: 0.2171 - accuracy: 0.8913 - val_loss: 0.8279 - val_accuracy: 0.6957\n",
      "Epoch 96/200\n",
      "1/1 [==============================] - 0s 48ms/step - loss: 0.2070 - accuracy: 0.8913 - val_loss: 0.8183 - val_accuracy: 0.6957\n",
      "Epoch 97/200\n",
      "1/1 [==============================] - 0s 49ms/step - loss: 0.2120 - accuracy: 0.8913 - val_loss: 0.8365 - val_accuracy: 0.7826\n",
      "Epoch 98/200\n",
      "1/1 [==============================] - 0s 48ms/step - loss: 0.2238 - accuracy: 0.8913 - val_loss: 0.8360 - val_accuracy: 0.6957\n",
      "Epoch 99/200\n",
      "1/1 [==============================] - 0s 48ms/step - loss: 0.2408 - accuracy: 0.8696 - val_loss: 0.8778 - val_accuracy: 0.7391\n",
      "Epoch 100/200\n",
      "1/1 [==============================] - 0s 48ms/step - loss: 0.2422 - accuracy: 0.9130 - val_loss: 0.8474 - val_accuracy: 0.6957\n",
      "Epoch 101/200\n",
      "1/1 [==============================] - 0s 48ms/step - loss: 0.2453 - accuracy: 0.8696 - val_loss: 0.8660 - val_accuracy: 0.7391\n",
      "Epoch 102/200\n",
      "1/1 [==============================] - 0s 47ms/step - loss: 0.2262 - accuracy: 0.8913 - val_loss: 0.8197 - val_accuracy: 0.6522\n",
      "Epoch 103/200\n",
      "1/1 [==============================] - 0s 47ms/step - loss: 0.2104 - accuracy: 0.8913 - val_loss: 0.8189 - val_accuracy: 0.7391\n",
      "Epoch 104/200\n",
      "1/1 [==============================] - 0s 48ms/step - loss: 0.1983 - accuracy: 0.8913 - val_loss: 0.8260 - val_accuracy: 0.7391\n",
      "Epoch 105/200\n",
      "1/1 [==============================] - 0s 47ms/step - loss: 0.1990 - accuracy: 0.9130 - val_loss: 0.8210 - val_accuracy: 0.6522\n",
      "Epoch 106/200\n",
      "1/1 [==============================] - 0s 47ms/step - loss: 0.2087 - accuracy: 0.8913 - val_loss: 0.8667 - val_accuracy: 0.7391\n",
      "Epoch 107/200\n",
      "1/1 [==============================] - 0s 48ms/step - loss: 0.2165 - accuracy: 0.8913 - val_loss: 0.8236 - val_accuracy: 0.6957\n",
      "Epoch 108/200\n",
      "1/1 [==============================] - 0s 48ms/step - loss: 0.2237 - accuracy: 0.8913 - val_loss: 0.8619 - val_accuracy: 0.7391\n",
      "Epoch 109/200\n",
      "1/1 [==============================] - 0s 52ms/step - loss: 0.2177 - accuracy: 0.8913 - val_loss: 0.8135 - val_accuracy: 0.6522\n",
      "Epoch 110/200\n",
      "1/1 [==============================] - 0s 49ms/step - loss: 0.2121 - accuracy: 0.8913 - val_loss: 0.8409 - val_accuracy: 0.7826\n",
      "Epoch 111/200\n",
      "1/1 [==============================] - 0s 51ms/step - loss: 0.1997 - accuracy: 0.8913 - val_loss: 0.8133 - val_accuracy: 0.6957\n",
      "Epoch 112/200\n",
      "1/1 [==============================] - 0s 49ms/step - loss: 0.1915 - accuracy: 0.8913 - val_loss: 0.8152 - val_accuracy: 0.7391\n",
      "Epoch 113/200\n",
      "1/1 [==============================] - 0s 47ms/step - loss: 0.1885 - accuracy: 0.8913 - val_loss: 0.8264 - val_accuracy: 0.7391\n",
      "Epoch 114/200\n",
      "1/1 [==============================] - 0s 48ms/step - loss: 0.1911 - accuracy: 0.8913 - val_loss: 0.8007 - val_accuracy: 0.6957\n",
      "Epoch 115/200\n",
      "1/1 [==============================] - 0s 47ms/step - loss: 0.1979 - accuracy: 0.8913 - val_loss: 0.8535 - val_accuracy: 0.7391\n",
      "Epoch 116/200\n",
      "1/1 [==============================] - 0s 47ms/step - loss: 0.2050 - accuracy: 0.8913 - val_loss: 0.8056 - val_accuracy: 0.6957\n",
      "Epoch 117/200\n"
     ]
    },
    {
     "name": "stdout",
     "output_type": "stream",
     "text": [
      "1/1 [==============================] - 0s 47ms/step - loss: 0.2204 - accuracy: 0.8913 - val_loss: 0.8989 - val_accuracy: 0.7391\n",
      "Epoch 118/200\n",
      "1/1 [==============================] - 0s 47ms/step - loss: 0.2288 - accuracy: 0.9130 - val_loss: 0.8126 - val_accuracy: 0.7391\n",
      "Epoch 119/200\n",
      "1/1 [==============================] - 0s 48ms/step - loss: 0.2522 - accuracy: 0.8696 - val_loss: 0.9151 - val_accuracy: 0.6957\n",
      "Epoch 120/200\n",
      "1/1 [==============================] - 0s 47ms/step - loss: 0.2526 - accuracy: 0.9130 - val_loss: 0.8159 - val_accuracy: 0.7391\n",
      "Epoch 121/200\n",
      "1/1 [==============================] - 0s 51ms/step - loss: 0.2751 - accuracy: 0.8696 - val_loss: 0.8924 - val_accuracy: 0.6957\n",
      "Epoch 122/200\n",
      "1/1 [==============================] - 0s 47ms/step - loss: 0.2285 - accuracy: 0.9130 - val_loss: 0.7785 - val_accuracy: 0.7391\n",
      "Epoch 123/200\n",
      "1/1 [==============================] - 0s 47ms/step - loss: 0.1891 - accuracy: 0.9130 - val_loss: 0.7798 - val_accuracy: 0.7391\n",
      "Epoch 124/200\n",
      "1/1 [==============================] - 0s 47ms/step - loss: 0.1836 - accuracy: 0.9130 - val_loss: 0.8647 - val_accuracy: 0.7391\n",
      "Epoch 125/200\n",
      "1/1 [==============================] - 0s 47ms/step - loss: 0.2100 - accuracy: 0.8913 - val_loss: 0.7659 - val_accuracy: 0.6957\n",
      "Epoch 126/200\n",
      "1/1 [==============================] - 0s 46ms/step - loss: 0.2227 - accuracy: 0.8913 - val_loss: 0.8150 - val_accuracy: 0.7391\n",
      "Epoch 127/200\n",
      "1/1 [==============================] - 0s 46ms/step - loss: 0.1886 - accuracy: 0.8913 - val_loss: 0.7837 - val_accuracy: 0.7391\n",
      "Epoch 128/200\n",
      "1/1 [==============================] - 0s 49ms/step - loss: 0.1785 - accuracy: 0.9130 - val_loss: 0.7449 - val_accuracy: 0.7391\n",
      "Epoch 129/200\n",
      "1/1 [==============================] - 0s 47ms/step - loss: 0.1949 - accuracy: 0.8913 - val_loss: 0.8282 - val_accuracy: 0.7391\n",
      "Epoch 130/200\n",
      "1/1 [==============================] - 0s 47ms/step - loss: 0.1936 - accuracy: 0.8913 - val_loss: 0.7555 - val_accuracy: 0.7391\n",
      "Epoch 131/200\n",
      "1/1 [==============================] - 0s 47ms/step - loss: 0.1793 - accuracy: 0.9130 - val_loss: 0.7601 - val_accuracy: 0.7391\n",
      "Epoch 132/200\n",
      "1/1 [==============================] - 0s 47ms/step - loss: 0.1752 - accuracy: 0.9348 - val_loss: 0.8081 - val_accuracy: 0.7391\n",
      "Epoch 133/200\n",
      "1/1 [==============================] - 0s 48ms/step - loss: 0.1851 - accuracy: 0.8913 - val_loss: 0.7344 - val_accuracy: 0.7826\n",
      "Epoch 134/200\n",
      "1/1 [==============================] - 0s 47ms/step - loss: 0.1865 - accuracy: 0.9130 - val_loss: 0.7729 - val_accuracy: 0.7826\n",
      "Epoch 135/200\n",
      "1/1 [==============================] - 0s 47ms/step - loss: 0.1743 - accuracy: 0.9130 - val_loss: 0.7717 - val_accuracy: 0.7391\n",
      "Epoch 136/200\n",
      "1/1 [==============================] - 0s 47ms/step - loss: 0.1714 - accuracy: 0.9130 - val_loss: 0.7440 - val_accuracy: 0.7391\n",
      "Epoch 137/200\n",
      "1/1 [==============================] - 0s 48ms/step - loss: 0.1774 - accuracy: 0.9130 - val_loss: 0.8000 - val_accuracy: 0.7391\n",
      "Epoch 138/200\n",
      "1/1 [==============================] - 0s 51ms/step - loss: 0.1787 - accuracy: 0.8913 - val_loss: 0.7321 - val_accuracy: 0.7391\n",
      "Epoch 139/200\n",
      "1/1 [==============================] - 0s 47ms/step - loss: 0.1739 - accuracy: 0.9130 - val_loss: 0.7558 - val_accuracy: 0.7391\n",
      "Epoch 140/200\n",
      "1/1 [==============================] - 0s 48ms/step - loss: 0.1680 - accuracy: 0.9130 - val_loss: 0.7658 - val_accuracy: 0.7826\n",
      "Epoch 141/200\n",
      "1/1 [==============================] - 0s 49ms/step - loss: 0.1685 - accuracy: 0.9130 - val_loss: 0.7306 - val_accuracy: 0.7826\n",
      "Epoch 142/200\n",
      "1/1 [==============================] - 0s 49ms/step - loss: 0.1725 - accuracy: 0.9130 - val_loss: 0.7939 - val_accuracy: 0.7391\n",
      "Epoch 143/200\n",
      "1/1 [==============================] - 0s 48ms/step - loss: 0.1728 - accuracy: 0.8913 - val_loss: 0.7366 - val_accuracy: 0.7391\n",
      "Epoch 144/200\n",
      "1/1 [==============================] - 0s 48ms/step - loss: 0.1693 - accuracy: 0.9348 - val_loss: 0.7657 - val_accuracy: 0.7391\n",
      "Epoch 145/200\n",
      "1/1 [==============================] - 0s 49ms/step - loss: 0.1650 - accuracy: 0.9130 - val_loss: 0.7539 - val_accuracy: 0.7391\n",
      "Epoch 146/200\n",
      "1/1 [==============================] - 0s 51ms/step - loss: 0.1633 - accuracy: 0.9130 - val_loss: 0.7299 - val_accuracy: 0.7391\n",
      "Epoch 147/200\n",
      "1/1 [==============================] - 0s 49ms/step - loss: 0.1643 - accuracy: 0.9348 - val_loss: 0.7769 - val_accuracy: 0.7391\n",
      "Epoch 148/200\n",
      "1/1 [==============================] - 0s 47ms/step - loss: 0.1659 - accuracy: 0.9130 - val_loss: 0.7261 - val_accuracy: 0.7826\n",
      "Epoch 149/200\n",
      "1/1 [==============================] - 0s 48ms/step - loss: 0.1671 - accuracy: 0.9348 - val_loss: 0.7932 - val_accuracy: 0.7391\n",
      "Epoch 150/200\n",
      "1/1 [==============================] - 0s 48ms/step - loss: 0.1665 - accuracy: 0.8913 - val_loss: 0.7295 - val_accuracy: 0.7826\n",
      "Epoch 151/200\n",
      "1/1 [==============================] - 0s 53ms/step - loss: 0.1662 - accuracy: 0.9348 - val_loss: 0.7909 - val_accuracy: 0.7391\n",
      "Epoch 152/200\n",
      "1/1 [==============================] - 0s 48ms/step - loss: 0.1646 - accuracy: 0.8913 - val_loss: 0.7217 - val_accuracy: 0.7826\n",
      "Epoch 153/200\n",
      "1/1 [==============================] - 0s 47ms/step - loss: 0.1643 - accuracy: 0.9348 - val_loss: 0.7817 - val_accuracy: 0.7391\n",
      "Epoch 154/200\n",
      "1/1 [==============================] - 0s 47ms/step - loss: 0.1635 - accuracy: 0.9130 - val_loss: 0.7253 - val_accuracy: 0.7826\n",
      "Epoch 155/200\n",
      "1/1 [==============================] - 0s 48ms/step - loss: 0.1636 - accuracy: 0.9348 - val_loss: 0.8062 - val_accuracy: 0.7391\n",
      "Epoch 156/200\n",
      "1/1 [==============================] - 0s 48ms/step - loss: 0.1657 - accuracy: 0.8913 - val_loss: 0.7118 - val_accuracy: 0.7826\n",
      "Epoch 157/200\n",
      "1/1 [==============================] - 0s 47ms/step - loss: 0.1713 - accuracy: 0.9130 - val_loss: 0.8335 - val_accuracy: 0.7391\n",
      "Epoch 158/200\n",
      "1/1 [==============================] - 0s 47ms/step - loss: 0.1804 - accuracy: 0.9130 - val_loss: 0.7080 - val_accuracy: 0.8261\n",
      "Epoch 159/200\n",
      "1/1 [==============================] - 0s 46ms/step - loss: 0.2087 - accuracy: 0.8913 - val_loss: 0.9325 - val_accuracy: 0.6957\n",
      "Epoch 160/200\n",
      "1/1 [==============================] - 0s 50ms/step - loss: 0.2371 - accuracy: 0.8913 - val_loss: 0.7784 - val_accuracy: 0.7826\n",
      "Epoch 161/200\n",
      "1/1 [==============================] - 0s 49ms/step - loss: 0.3371 - accuracy: 0.8478 - val_loss: 1.0819 - val_accuracy: 0.6957\n",
      "Epoch 162/200\n",
      "1/1 [==============================] - 0s 46ms/step - loss: 0.5115 - accuracy: 0.7391 - val_loss: 1.6691 - val_accuracy: 0.6522\n",
      "Epoch 163/200\n",
      "1/1 [==============================] - 0s 47ms/step - loss: 1.9141 - accuracy: 0.5870 - val_loss: 0.6545 - val_accuracy: 0.8696\n",
      "Epoch 164/200\n",
      "1/1 [==============================] - 0s 50ms/step - loss: 0.2114 - accuracy: 0.8696 - val_loss: 1.6721 - val_accuracy: 0.6522\n",
      "Epoch 165/200\n",
      "1/1 [==============================] - 0s 49ms/step - loss: 1.6550 - accuracy: 0.6304 - val_loss: 0.6887 - val_accuracy: 0.6957\n",
      "Epoch 166/200\n",
      "1/1 [==============================] - 0s 48ms/step - loss: 0.2532 - accuracy: 0.8696 - val_loss: 0.8206 - val_accuracy: 0.7391\n",
      "Epoch 167/200\n",
      "1/1 [==============================] - 0s 49ms/step - loss: 0.6599 - accuracy: 0.7609 - val_loss: 0.9193 - val_accuracy: 0.6087\n",
      "Epoch 168/200\n",
      "1/1 [==============================] - 0s 47ms/step - loss: 0.8113 - accuracy: 0.6304 - val_loss: 0.6080 - val_accuracy: 0.7391\n",
      "Epoch 169/200\n",
      "1/1 [==============================] - 0s 46ms/step - loss: 0.4491 - accuracy: 0.7826 - val_loss: 0.4962 - val_accuracy: 0.7826\n",
      "Epoch 170/200\n",
      "1/1 [==============================] - 0s 47ms/step - loss: 0.3138 - accuracy: 0.8696 - val_loss: 0.6867 - val_accuracy: 0.6957\n",
      "Epoch 171/200\n",
      "1/1 [==============================] - 0s 47ms/step - loss: 0.5546 - accuracy: 0.6957 - val_loss: 0.6613 - val_accuracy: 0.6957\n",
      "Epoch 172/200\n",
      "1/1 [==============================] - 0s 47ms/step - loss: 0.5415 - accuracy: 0.6957 - val_loss: 0.5576 - val_accuracy: 0.6957\n",
      "Epoch 173/200\n",
      "1/1 [==============================] - 0s 48ms/step - loss: 0.4075 - accuracy: 0.8043 - val_loss: 0.4926 - val_accuracy: 0.8261\n",
      "Epoch 174/200\n",
      "1/1 [==============================] - 0s 47ms/step - loss: 0.3788 - accuracy: 0.8478 - val_loss: 0.5059 - val_accuracy: 0.7826\n"
     ]
    },
    {
     "name": "stdout",
     "output_type": "stream",
     "text": [
      "Epoch 175/200\n",
      "1/1 [==============================] - 0s 48ms/step - loss: 0.4085 - accuracy: 0.8043 - val_loss: 0.5282 - val_accuracy: 0.7391\n",
      "Epoch 176/200\n",
      "1/1 [==============================] - 0s 48ms/step - loss: 0.4448 - accuracy: 0.8043 - val_loss: 0.5375 - val_accuracy: 0.7391\n",
      "Epoch 177/200\n",
      "1/1 [==============================] - 0s 48ms/step - loss: 0.4597 - accuracy: 0.7609 - val_loss: 0.5260 - val_accuracy: 0.7391\n",
      "Epoch 178/200\n",
      "1/1 [==============================] - 0s 48ms/step - loss: 0.4428 - accuracy: 0.8043 - val_loss: 0.5124 - val_accuracy: 0.7826\n",
      "Epoch 179/200\n",
      "1/1 [==============================] - 0s 48ms/step - loss: 0.4070 - accuracy: 0.8261 - val_loss: 0.5303 - val_accuracy: 0.6522\n",
      "Epoch 180/200\n",
      "1/1 [==============================] - 0s 46ms/step - loss: 0.3861 - accuracy: 0.8696 - val_loss: 0.5608 - val_accuracy: 0.6957\n",
      "Epoch 181/200\n",
      "1/1 [==============================] - 0s 46ms/step - loss: 0.3860 - accuracy: 0.8261 - val_loss: 0.5384 - val_accuracy: 0.6522\n",
      "Epoch 182/200\n",
      "1/1 [==============================] - 0s 47ms/step - loss: 0.3560 - accuracy: 0.8696 - val_loss: 0.4994 - val_accuracy: 0.8261\n",
      "Epoch 183/200\n",
      "1/1 [==============================] - 0s 47ms/step - loss: 0.3323 - accuracy: 0.8478 - val_loss: 0.4887 - val_accuracy: 0.8261\n",
      "Epoch 184/200\n",
      "1/1 [==============================] - 0s 46ms/step - loss: 0.3291 - accuracy: 0.8261 - val_loss: 0.5001 - val_accuracy: 0.8261\n",
      "Epoch 185/200\n",
      "1/1 [==============================] - 0s 46ms/step - loss: 0.3131 - accuracy: 0.8478 - val_loss: 0.5415 - val_accuracy: 0.7391\n",
      "Epoch 186/200\n",
      "1/1 [==============================] - 0s 50ms/step - loss: 0.2862 - accuracy: 0.8478 - val_loss: 0.6025 - val_accuracy: 0.6957\n",
      "Epoch 187/200\n",
      "1/1 [==============================] - 0s 48ms/step - loss: 0.2798 - accuracy: 0.8913 - val_loss: 0.5997 - val_accuracy: 0.7391\n",
      "Epoch 188/200\n",
      "1/1 [==============================] - 0s 48ms/step - loss: 0.2536 - accuracy: 0.8696 - val_loss: 0.6118 - val_accuracy: 0.7826\n",
      "Epoch 189/200\n",
      "1/1 [==============================] - 0s 47ms/step - loss: 0.2602 - accuracy: 0.8478 - val_loss: 0.6550 - val_accuracy: 0.6957\n",
      "Epoch 190/200\n",
      "1/1 [==============================] - 0s 50ms/step - loss: 0.2337 - accuracy: 0.8913 - val_loss: 0.6870 - val_accuracy: 0.6957\n",
      "Epoch 191/200\n",
      "1/1 [==============================] - 0s 47ms/step - loss: 0.2337 - accuracy: 0.8696 - val_loss: 0.6101 - val_accuracy: 0.7826\n",
      "Epoch 192/200\n",
      "1/1 [==============================] - 0s 48ms/step - loss: 0.2194 - accuracy: 0.8696 - val_loss: 0.6040 - val_accuracy: 0.7391\n",
      "Epoch 193/200\n",
      "1/1 [==============================] - 0s 48ms/step - loss: 0.2044 - accuracy: 0.9130 - val_loss: 0.6665 - val_accuracy: 0.6957\n",
      "Epoch 194/200\n",
      "1/1 [==============================] - 0s 50ms/step - loss: 0.2155 - accuracy: 0.8696 - val_loss: 0.6095 - val_accuracy: 0.7826\n",
      "Epoch 195/200\n",
      "1/1 [==============================] - 0s 49ms/step - loss: 0.2071 - accuracy: 0.8913 - val_loss: 0.6698 - val_accuracy: 0.7391\n",
      "Epoch 196/200\n",
      "1/1 [==============================] - 0s 46ms/step - loss: 0.1842 - accuracy: 0.9348 - val_loss: 0.7433 - val_accuracy: 0.7391\n",
      "Epoch 197/200\n",
      "1/1 [==============================] - 0s 49ms/step - loss: 0.1906 - accuracy: 0.9130 - val_loss: 0.6845 - val_accuracy: 0.8261\n",
      "Epoch 198/200\n",
      "1/1 [==============================] - 0s 46ms/step - loss: 0.2052 - accuracy: 0.8913 - val_loss: 0.7991 - val_accuracy: 0.7391\n",
      "Epoch 199/200\n",
      "1/1 [==============================] - 0s 48ms/step - loss: 0.1962 - accuracy: 0.9130 - val_loss: 0.6888 - val_accuracy: 0.7826\n",
      "Epoch 200/200\n",
      "1/1 [==============================] - 0s 46ms/step - loss: 0.1770 - accuracy: 0.9348 - val_loss: 0.7005 - val_accuracy: 0.7391\n"
     ]
    }
   ],
   "source": [
    "model_2 = Sequential([\n",
    "    Dense(1000, activation='relu', input_shape=(6,)),\n",
    "    Dense(1000, activation='relu'),\n",
    "    Dense(1000, activation='relu'),\n",
    "    Dense(1000, activation='relu'),\n",
    "    Dense(2, activation='softmax'),\n",
    "])\n",
    "model_2.compile(optimizer='adam',\n",
    "              loss='binary_crossentropy',\n",
    "              metrics=['accuracy'])\n",
    "hist_2 = model_2.fit(X_train, y_traindm,\n",
    "          batch_size=46, epochs=200,\n",
    "          validation_data=(X_val, y_valdm))"
   ]
  },
  {
   "cell_type": "markdown",
   "metadata": {},
   "source": [
    "## Visualize to see what overfitting looks like in terms of the loss and accuracy."
   ]
  },
  {
   "cell_type": "code",
   "execution_count": 50,
   "metadata": {},
   "outputs": [
    {
     "data": {
      "image/png": "[encoded data removed]",
      "text/plain": [
       "<Figure size 460.8x316.8 with 1 Axes>"
      ]
     },
     "metadata": {
      "needs_background": "light"
     },
     "output_type": "display_data"
    }
   ],
   "source": [
    "plt.plot(hist_2.history['loss'])\n",
    "plt.plot(hist_2.history['val_loss'])\n",
    "plt.title('Model loss')\n",
    "plt.ylabel('Loss')\n",
    "plt.xlabel('Epoch')\n",
    "plt.legend(['Train', 'Val'], loc='upper right')\n",
    "plt.show()"
   ]
  },
  {
   "cell_type": "markdown",
   "metadata": {},
   "source": [
    "**Overfitting is represented by an increase in loss in the validation set after the 20th epoch.**"
   ]
  },
  {
   "cell_type": "code",
   "execution_count": 51,
   "metadata": {},
   "outputs": [
    {
     "data": {
      "image/png": "[encoded data removed]",
      "text/plain": [
       "<Figure size 460.8x316.8 with 1 Axes>"
      ]
     },
     "metadata": {
      "needs_background": "light"
     },
     "output_type": "display_data"
    }
   ],
   "source": [
    "plt.plot(hist_2.history['accuracy'])\n",
    "plt.plot(hist_2.history['val_accuracy'])\n",
    "plt.title('Model accuracy')\n",
    "plt.ylabel('Accuracy')\n",
    "plt.xlabel('Epoch')\n",
    "plt.legend(['Train', 'Val'], loc='lower right')\n",
    "plt.show()"
   ]
  },
  {
   "cell_type": "markdown",
   "metadata": {},
   "source": [
    "**Test Accuracy**"
   ]
  },
  {
   "cell_type": "code",
   "execution_count": 52,
   "metadata": {},
   "outputs": [
    {
     "name": "stdout",
     "output_type": "stream",
     "text": [
      "1/1 [==============================] - 0s 13ms/step - loss: 0.7175 - accuracy: 0.7826\n"
     ]
    },
    {
     "data": {
      "text/plain": [
       "0.782608687877655"
      ]
     },
     "execution_count": 52,
     "metadata": {},
     "output_type": "execute_result"
    }
   ],
   "source": [
    "model_2.evaluate(X_test, y_testdm)[1]"
   ]
  },
  {
   "cell_type": "markdown",
   "metadata": {},
   "source": [
    "## Incorporate Regularization and Dropout into the Third Model"
   ]
  },
  {
   "cell_type": "markdown",
   "metadata": {},
   "source": [
    "###### **To address the overfitting we see in Model 2, we'll incorporate L2 regularization and dropout in our third model here (Model 3). Input shape is how many variables (6) and Dense is number of y values (2).**"
   ]
  },
  {
   "cell_type": "code",
   "execution_count": 53,
   "metadata": {},
   "outputs": [],
   "source": [
    "from tensorflow.keras.layers import Dropout\n",
    "from tensorflow.keras import regularizers"
   ]
  },
  {
   "cell_type": "code",
   "execution_count": 54,
   "metadata": {},
   "outputs": [],
   "source": [
    "VIANN = VarImpVIANN(verbose=1)\n",
    "model_3 = Sequential([\n",
    "    Dense(1000, activation='relu', kernel_regularizer=regularizers.l2(0.01), input_shape=(6,)),\n",
    "    Dropout(0.2),\n",
    "    Dense(750, activation='relu', kernel_regularizer=regularizers.l2(0.01)),\n",
    "    Dropout(0.2),\n",
    "    Dense(500, activation='relu', kernel_regularizer=regularizers.l2(0.01)),\n",
    "    Dropout(0.2),\n",
    "    Dense(250, activation='relu', kernel_regularizer=regularizers.l2(0.01)),\n",
    "    Dropout(0.2),\n",
    "    Dense(2, activation='sigmoid', kernel_regularizer=regularizers.l2(0.01)),\n",
    "])"
   ]
  },
  {
   "cell_type": "code",
   "execution_count": 59,
   "metadata": {},
   "outputs": [],
   "source": [
    "VIANN = VarImpVIANN(verbose=1)\n",
    "model_3 = Sequential([\n",
    "    Dense(1000, activation='relu', kernel_regularizer=regularizers.l2(0.01), input_shape=(6,)),\n",
    "    Dropout(0.2),\n",
    "    Dense(750, activation='relu', kernel_regularizer=regularizers.l2(0.01)),\n",
    "    Dropout(0.2),\n",
    "    Dense(2, activation='sigmoid', kernel_regularizer=regularizers.l2(0.01)),\n",
    "])"
   ]
  },
  {
   "cell_type": "code",
   "execution_count": 60,
   "metadata": {
    "scrolled": true
   },
   "outputs": [
    {
     "name": "stdout",
     "output_type": "stream",
     "text": [
      "VIANN version 1.0 (Wellford + Mean) update per epoch\n",
      "Epoch 1/200\n",
      "1/1 [==============================] - 1s 611ms/step - loss: 9.4042 - accuracy: 0.6087 - val_loss: 9.0422 - val_accuracy: 0.5652\n",
      "Epoch 2/200\n",
      "1/1 [==============================] - 0s 46ms/step - loss: 9.0383 - accuracy: 0.5652 - val_loss: 8.6338 - val_accuracy: 0.5652\n",
      "Epoch 3/200\n",
      "1/1 [==============================] - 0s 40ms/step - loss: 8.6295 - accuracy: 0.5435 - val_loss: 8.2838 - val_accuracy: 0.5652\n",
      "Epoch 4/200\n",
      "1/1 [==============================] - 0s 36ms/step - loss: 8.2838 - accuracy: 0.5870 - val_loss: 7.9093 - val_accuracy: 0.5652\n",
      "Epoch 5/200\n",
      "1/1 [==============================] - 0s 37ms/step - loss: 7.9243 - accuracy: 0.5435 - val_loss: 7.5703 - val_accuracy: 0.5652\n",
      "Epoch 6/200\n",
      "1/1 [==============================] - 0s 37ms/step - loss: 7.5812 - accuracy: 0.5870 - val_loss: 7.2465 - val_accuracy: 0.5652\n",
      "Epoch 7/200\n",
      "1/1 [==============================] - 0s 37ms/step - loss: 7.2728 - accuracy: 0.5217 - val_loss: 6.9206 - val_accuracy: 0.5652\n",
      "Epoch 8/200\n",
      "1/1 [==============================] - 0s 35ms/step - loss: 6.9375 - accuracy: 0.5652 - val_loss: 6.6070 - val_accuracy: 0.5652\n",
      "Epoch 9/200\n",
      "1/1 [==============================] - 0s 36ms/step - loss: 6.6355 - accuracy: 0.5870 - val_loss: 6.3129 - val_accuracy: 0.5652\n",
      "Epoch 10/200\n",
      "1/1 [==============================] - 0s 38ms/step - loss: 6.3305 - accuracy: 0.5652 - val_loss: 6.0328 - val_accuracy: 0.5652\n",
      "Epoch 11/200\n",
      "1/1 [==============================] - 0s 40ms/step - loss: 6.0389 - accuracy: 0.5652 - val_loss: 5.7563 - val_accuracy: 0.5652\n",
      "Epoch 12/200\n",
      "1/1 [==============================] - 0s 37ms/step - loss: 5.7778 - accuracy: 0.5000 - val_loss: 5.4879 - val_accuracy: 0.5652\n",
      "Epoch 13/200\n",
      "1/1 [==============================] - 0s 38ms/step - loss: 5.4970 - accuracy: 0.5217 - val_loss: 5.2345 - val_accuracy: 0.5652\n",
      "Epoch 14/200\n",
      "1/1 [==============================] - 0s 36ms/step - loss: 5.2228 - accuracy: 0.6087 - val_loss: 4.9932 - val_accuracy: 0.5652\n",
      "Epoch 15/200\n",
      "1/1 [==============================] - 0s 37ms/step - loss: 5.0012 - accuracy: 0.5652 - val_loss: 4.7607 - val_accuracy: 0.5652\n",
      "Epoch 16/200\n",
      "1/1 [==============================] - 0s 38ms/step - loss: 4.7804 - accuracy: 0.5217 - val_loss: 4.5367 - val_accuracy: 0.5652\n",
      "Epoch 17/200\n",
      "1/1 [==============================] - 0s 40ms/step - loss: 4.5585 - accuracy: 0.5652 - val_loss: 4.3233 - val_accuracy: 0.5652\n",
      "Epoch 18/200\n",
      "1/1 [==============================] - 0s 37ms/step - loss: 4.3267 - accuracy: 0.5652 - val_loss: 4.1219 - val_accuracy: 0.5652\n",
      "Epoch 19/200\n",
      "1/1 [==============================] - 0s 38ms/step - loss: 4.1398 - accuracy: 0.5435 - val_loss: 3.9306 - val_accuracy: 0.5652\n",
      "Epoch 20/200\n",
      "1/1 [==============================] - 0s 40ms/step - loss: 3.9603 - accuracy: 0.5000 - val_loss: 3.7463 - val_accuracy: 0.5652\n",
      "Epoch 21/200\n",
      "1/1 [==============================] - 0s 40ms/step - loss: 3.7861 - accuracy: 0.5217 - val_loss: 3.5691 - val_accuracy: 0.5652\n",
      "Epoch 22/200\n",
      "1/1 [==============================] - 0s 40ms/step - loss: 3.5915 - accuracy: 0.5435 - val_loss: 3.4014 - val_accuracy: 0.5652\n",
      "Epoch 23/200\n",
      "1/1 [==============================] - 0s 42ms/step - loss: 3.4138 - accuracy: 0.6087 - val_loss: 3.2429 - val_accuracy: 0.5652\n",
      "Epoch 24/200\n",
      "1/1 [==============================] - 0s 39ms/step - loss: 3.2428 - accuracy: 0.6304 - val_loss: 3.0926 - val_accuracy: 0.5652\n",
      "Epoch 25/200\n",
      "1/1 [==============================] - 0s 39ms/step - loss: 3.0892 - accuracy: 0.5652 - val_loss: 2.9496 - val_accuracy: 0.5652\n",
      "Epoch 26/200\n",
      "1/1 [==============================] - 0s 37ms/step - loss: 2.9524 - accuracy: 0.6087 - val_loss: 2.8140 - val_accuracy: 0.5652\n",
      "Epoch 27/200\n",
      "1/1 [==============================] - 0s 40ms/step - loss: 2.8210 - accuracy: 0.5435 - val_loss: 2.6860 - val_accuracy: 0.5652\n",
      "Epoch 28/200\n",
      "1/1 [==============================] - 0s 39ms/step - loss: 2.6903 - accuracy: 0.5870 - val_loss: 2.5661 - val_accuracy: 0.5652\n",
      "Epoch 29/200\n",
      "1/1 [==============================] - 0s 39ms/step - loss: 2.5673 - accuracy: 0.5435 - val_loss: 2.4523 - val_accuracy: 0.6522\n",
      "Epoch 30/200\n",
      "1/1 [==============================] - 0s 41ms/step - loss: 2.4812 - accuracy: 0.5217 - val_loss: 2.3424 - val_accuracy: 0.5652\n",
      "Epoch 31/200\n",
      "1/1 [==============================] - 0s 39ms/step - loss: 2.3579 - accuracy: 0.5217 - val_loss: 2.2386 - val_accuracy: 0.5652\n",
      "Epoch 32/200\n",
      "1/1 [==============================] - 0s 39ms/step - loss: 2.2394 - accuracy: 0.5652 - val_loss: 2.1418 - val_accuracy: 0.5652\n",
      "Epoch 33/200\n",
      "1/1 [==============================] - 0s 41ms/step - loss: 2.1523 - accuracy: 0.5870 - val_loss: 2.0508 - val_accuracy: 0.5652\n",
      "Epoch 34/200\n",
      "1/1 [==============================] - 0s 39ms/step - loss: 2.0760 - accuracy: 0.5435 - val_loss: 1.9650 - val_accuracy: 0.5652\n",
      "Epoch 35/200\n",
      "1/1 [==============================] - 0s 39ms/step - loss: 1.9952 - accuracy: 0.5435 - val_loss: 1.8846 - val_accuracy: 0.5652\n",
      "Epoch 36/200\n",
      "1/1 [==============================] - 0s 37ms/step - loss: 1.8994 - accuracy: 0.5870 - val_loss: 1.8095 - val_accuracy: 0.6522\n",
      "Epoch 37/200\n",
      "1/1 [==============================] - 0s 37ms/step - loss: 1.8270 - accuracy: 0.4783 - val_loss: 1.7380 - val_accuracy: 0.6522\n",
      "Epoch 38/200\n",
      "1/1 [==============================] - 0s 37ms/step - loss: 1.7543 - accuracy: 0.5652 - val_loss: 1.6704 - val_accuracy: 0.6087\n",
      "Epoch 39/200\n",
      "1/1 [==============================] - 0s 37ms/step - loss: 1.6781 - accuracy: 0.6087 - val_loss: 1.6069 - val_accuracy: 0.5652\n",
      "Epoch 40/200\n",
      "1/1 [==============================] - 0s 38ms/step - loss: 1.6118 - accuracy: 0.5217 - val_loss: 1.5470 - val_accuracy: 0.5652\n",
      "Epoch 41/200\n",
      "1/1 [==============================] - 0s 38ms/step - loss: 1.5571 - accuracy: 0.6087 - val_loss: 1.4910 - val_accuracy: 0.5652\n",
      "Epoch 42/200\n",
      "1/1 [==============================] - 0s 38ms/step - loss: 1.5109 - accuracy: 0.5870 - val_loss: 1.4391 - val_accuracy: 0.5652\n",
      "Epoch 43/200\n",
      "1/1 [==============================] - 0s 38ms/step - loss: 1.4407 - accuracy: 0.5217 - val_loss: 1.3907 - val_accuracy: 0.5652\n",
      "Epoch 44/200\n",
      "1/1 [==============================] - 0s 38ms/step - loss: 1.4261 - accuracy: 0.5652 - val_loss: 1.3452 - val_accuracy: 0.5652\n",
      "Epoch 45/200\n",
      "1/1 [==============================] - 0s 37ms/step - loss: 1.3685 - accuracy: 0.4783 - val_loss: 1.3027 - val_accuracy: 0.5652\n",
      "Epoch 46/200\n",
      "1/1 [==============================] - 0s 39ms/step - loss: 1.3034 - accuracy: 0.6522 - val_loss: 1.2628 - val_accuracy: 0.5652\n",
      "Epoch 47/200\n",
      "1/1 [==============================] - 0s 37ms/step - loss: 1.2734 - accuracy: 0.5435 - val_loss: 1.2252 - val_accuracy: 0.5652\n",
      "Epoch 48/200\n",
      "1/1 [==============================] - 0s 37ms/step - loss: 1.2390 - accuracy: 0.6087 - val_loss: 1.1902 - val_accuracy: 0.5652\n",
      "Epoch 49/200\n",
      "1/1 [==============================] - 0s 37ms/step - loss: 1.2047 - accuracy: 0.5652 - val_loss: 1.1578 - val_accuracy: 0.5652\n",
      "Epoch 50/200\n",
      "1/1 [==============================] - 0s 37ms/step - loss: 1.1574 - accuracy: 0.5652 - val_loss: 1.1271 - val_accuracy: 0.5652\n",
      "Epoch 51/200\n",
      "1/1 [==============================] - 0s 38ms/step - loss: 1.1327 - accuracy: 0.5870 - val_loss: 1.0986 - val_accuracy: 0.5652\n",
      "Epoch 52/200\n",
      "1/1 [==============================] - 0s 38ms/step - loss: 1.1204 - accuracy: 0.5435 - val_loss: 1.0721 - val_accuracy: 0.5652\n",
      "Epoch 53/200\n",
      "1/1 [==============================] - 0s 38ms/step - loss: 1.0786 - accuracy: 0.6087 - val_loss: 1.0481 - val_accuracy: 0.6087\n",
      "Epoch 54/200\n",
      "1/1 [==============================] - 0s 37ms/step - loss: 1.0652 - accuracy: 0.5870 - val_loss: 1.0258 - val_accuracy: 0.6522\n",
      "Epoch 55/200\n",
      "1/1 [==============================] - 0s 41ms/step - loss: 1.0416 - accuracy: 0.5000 - val_loss: 1.0043 - val_accuracy: 0.6522\n",
      "Epoch 56/200\n",
      "1/1 [==============================] - 0s 37ms/step - loss: 1.0304 - accuracy: 0.5000 - val_loss: 0.9834 - val_accuracy: 0.6087\n",
      "Epoch 57/200\n",
      "1/1 [==============================] - 0s 37ms/step - loss: 0.9853 - accuracy: 0.6304 - val_loss: 0.9642 - val_accuracy: 0.5652\n",
      "Epoch 58/200\n",
      "1/1 [==============================] - 0s 37ms/step - loss: 0.9831 - accuracy: 0.5217 - val_loss: 0.9468 - val_accuracy: 0.5652\n"
     ]
    },
    {
     "name": "stdout",
     "output_type": "stream",
     "text": [
      "Epoch 59/200\n",
      "1/1 [==============================] - 0s 37ms/step - loss: 0.9562 - accuracy: 0.5870 - val_loss: 0.9308 - val_accuracy: 0.5652\n",
      "Epoch 60/200\n",
      "1/1 [==============================] - 0s 38ms/step - loss: 0.9566 - accuracy: 0.5652 - val_loss: 0.9159 - val_accuracy: 0.5652\n",
      "Epoch 61/200\n",
      "1/1 [==============================] - 0s 38ms/step - loss: 0.9314 - accuracy: 0.5652 - val_loss: 0.9024 - val_accuracy: 0.5652\n",
      "Epoch 62/200\n",
      "1/1 [==============================] - 0s 38ms/step - loss: 0.9093 - accuracy: 0.5435 - val_loss: 0.8908 - val_accuracy: 0.6522\n",
      "Epoch 63/200\n",
      "1/1 [==============================] - 0s 37ms/step - loss: 0.8929 - accuracy: 0.5870 - val_loss: 0.8796 - val_accuracy: 0.6522\n",
      "Epoch 64/200\n",
      "1/1 [==============================] - 0s 37ms/step - loss: 0.8885 - accuracy: 0.5870 - val_loss: 0.8683 - val_accuracy: 0.6957\n",
      "Epoch 65/200\n",
      "1/1 [==============================] - 0s 37ms/step - loss: 0.8793 - accuracy: 0.5435 - val_loss: 0.8565 - val_accuracy: 0.6087\n",
      "Epoch 66/200\n",
      "1/1 [==============================] - 0s 38ms/step - loss: 0.8666 - accuracy: 0.5870 - val_loss: 0.8458 - val_accuracy: 0.5652\n",
      "Epoch 67/200\n",
      "1/1 [==============================] - 0s 37ms/step - loss: 0.8686 - accuracy: 0.5870 - val_loss: 0.8363 - val_accuracy: 0.5652\n",
      "Epoch 68/200\n",
      "1/1 [==============================] - 0s 37ms/step - loss: 0.8614 - accuracy: 0.5217 - val_loss: 0.8279 - val_accuracy: 0.5652\n",
      "Epoch 69/200\n",
      "1/1 [==============================] - 0s 37ms/step - loss: 0.8369 - accuracy: 0.5435 - val_loss: 0.8202 - val_accuracy: 0.5652\n",
      "Epoch 70/200\n",
      "1/1 [==============================] - 0s 37ms/step - loss: 0.8382 - accuracy: 0.5435 - val_loss: 0.8128 - val_accuracy: 0.5652\n",
      "Epoch 71/200\n",
      "1/1 [==============================] - 0s 38ms/step - loss: 0.8210 - accuracy: 0.5870 - val_loss: 0.8065 - val_accuracy: 0.5652\n",
      "Epoch 72/200\n",
      "1/1 [==============================] - 0s 38ms/step - loss: 0.8047 - accuracy: 0.6304 - val_loss: 0.8008 - val_accuracy: 0.6087\n",
      "Epoch 73/200\n",
      "1/1 [==============================] - 0s 38ms/step - loss: 0.8133 - accuracy: 0.5652 - val_loss: 0.7953 - val_accuracy: 0.6087\n",
      "Epoch 74/200\n",
      "1/1 [==============================] - 0s 41ms/step - loss: 0.7895 - accuracy: 0.6087 - val_loss: 0.7891 - val_accuracy: 0.6087\n",
      "Epoch 75/200\n",
      "1/1 [==============================] - 0s 37ms/step - loss: 0.7947 - accuracy: 0.5652 - val_loss: 0.7825 - val_accuracy: 0.6087\n",
      "Epoch 76/200\n",
      "1/1 [==============================] - 0s 37ms/step - loss: 0.7996 - accuracy: 0.6087 - val_loss: 0.7769 - val_accuracy: 0.5652\n",
      "Epoch 77/200\n",
      "1/1 [==============================] - 0s 38ms/step - loss: 0.7927 - accuracy: 0.5652 - val_loss: 0.7721 - val_accuracy: 0.5652\n",
      "Epoch 78/200\n",
      "1/1 [==============================] - 0s 39ms/step - loss: 0.7955 - accuracy: 0.5652 - val_loss: 0.7677 - val_accuracy: 0.5652\n",
      "Epoch 79/200\n",
      "1/1 [==============================] - 0s 38ms/step - loss: 0.7779 - accuracy: 0.5435 - val_loss: 0.7641 - val_accuracy: 0.5652\n",
      "Epoch 80/200\n",
      "1/1 [==============================] - 0s 37ms/step - loss: 0.7829 - accuracy: 0.5217 - val_loss: 0.7611 - val_accuracy: 0.6087\n",
      "Epoch 81/200\n",
      "1/1 [==============================] - 0s 38ms/step - loss: 0.7700 - accuracy: 0.4783 - val_loss: 0.7582 - val_accuracy: 0.6087\n",
      "Epoch 82/200\n",
      "1/1 [==============================] - 0s 37ms/step - loss: 0.7596 - accuracy: 0.6522 - val_loss: 0.7552 - val_accuracy: 0.6087\n",
      "Epoch 83/200\n",
      "1/1 [==============================] - 0s 39ms/step - loss: 0.7557 - accuracy: 0.6739 - val_loss: 0.7517 - val_accuracy: 0.6087\n",
      "Epoch 84/200\n",
      "1/1 [==============================] - 0s 36ms/step - loss: 0.7771 - accuracy: 0.6087 - val_loss: 0.7484 - val_accuracy: 0.5652\n",
      "Epoch 85/200\n",
      "1/1 [==============================] - 0s 37ms/step - loss: 0.7503 - accuracy: 0.5652 - val_loss: 0.7453 - val_accuracy: 0.5652\n",
      "Epoch 86/200\n",
      "1/1 [==============================] - 0s 37ms/step - loss: 0.7477 - accuracy: 0.5652 - val_loss: 0.7425 - val_accuracy: 0.5652\n",
      "Epoch 87/200\n",
      "1/1 [==============================] - 0s 36ms/step - loss: 0.7461 - accuracy: 0.5652 - val_loss: 0.7400 - val_accuracy: 0.5652\n",
      "Epoch 88/200\n",
      "1/1 [==============================] - 0s 39ms/step - loss: 0.7430 - accuracy: 0.5217 - val_loss: 0.7379 - val_accuracy: 0.6087\n",
      "Epoch 89/200\n",
      "1/1 [==============================] - 0s 38ms/step - loss: 0.7487 - accuracy: 0.5870 - val_loss: 0.7359 - val_accuracy: 0.6087\n",
      "Epoch 90/200\n",
      "1/1 [==============================] - 0s 38ms/step - loss: 0.7566 - accuracy: 0.5000 - val_loss: 0.7339 - val_accuracy: 0.6522\n",
      "Epoch 91/200\n",
      "1/1 [==============================] - 0s 38ms/step - loss: 0.7398 - accuracy: 0.6087 - val_loss: 0.7317 - val_accuracy: 0.6522\n",
      "Epoch 92/200\n",
      "1/1 [==============================] - 0s 37ms/step - loss: 0.7360 - accuracy: 0.6087 - val_loss: 0.7295 - val_accuracy: 0.6087\n",
      "Epoch 93/200\n",
      "1/1 [==============================] - 0s 39ms/step - loss: 0.7394 - accuracy: 0.6087 - val_loss: 0.7276 - val_accuracy: 0.5652\n",
      "Epoch 94/200\n",
      "1/1 [==============================] - 0s 36ms/step - loss: 0.7347 - accuracy: 0.5870 - val_loss: 0.7262 - val_accuracy: 0.5652\n",
      "Epoch 95/200\n",
      "1/1 [==============================] - 0s 37ms/step - loss: 0.7195 - accuracy: 0.6304 - val_loss: 0.7250 - val_accuracy: 0.6087\n",
      "Epoch 96/200\n",
      "1/1 [==============================] - 0s 39ms/step - loss: 0.7260 - accuracy: 0.5652 - val_loss: 0.7242 - val_accuracy: 0.6087\n",
      "Epoch 97/200\n",
      "1/1 [==============================] - 0s 38ms/step - loss: 0.7293 - accuracy: 0.5870 - val_loss: 0.7233 - val_accuracy: 0.6522\n",
      "Epoch 98/200\n",
      "1/1 [==============================] - 0s 38ms/step - loss: 0.7371 - accuracy: 0.6304 - val_loss: 0.7220 - val_accuracy: 0.6522\n",
      "Epoch 99/200\n",
      "1/1 [==============================] - 0s 37ms/step - loss: 0.7263 - accuracy: 0.5870 - val_loss: 0.7201 - val_accuracy: 0.5652\n",
      "Epoch 100/200\n",
      "1/1 [==============================] - 0s 41ms/step - loss: 0.7371 - accuracy: 0.5652 - val_loss: 0.7187 - val_accuracy: 0.5652\n",
      "Epoch 101/200\n",
      "1/1 [==============================] - 0s 39ms/step - loss: 0.7135 - accuracy: 0.6739 - val_loss: 0.7172 - val_accuracy: 0.5652\n",
      "Epoch 102/200\n",
      "1/1 [==============================] - 0s 37ms/step - loss: 0.7189 - accuracy: 0.6087 - val_loss: 0.7161 - val_accuracy: 0.5652\n",
      "Epoch 103/200\n",
      "1/1 [==============================] - 0s 38ms/step - loss: 0.7206 - accuracy: 0.6304 - val_loss: 0.7153 - val_accuracy: 0.6522\n",
      "Epoch 104/200\n",
      "1/1 [==============================] - 0s 38ms/step - loss: 0.7170 - accuracy: 0.6304 - val_loss: 0.7146 - val_accuracy: 0.6522\n",
      "Epoch 105/200\n",
      "1/1 [==============================] - 0s 41ms/step - loss: 0.7129 - accuracy: 0.6304 - val_loss: 0.7132 - val_accuracy: 0.6522\n",
      "Epoch 106/200\n",
      "1/1 [==============================] - 0s 39ms/step - loss: 0.7169 - accuracy: 0.6087 - val_loss: 0.7116 - val_accuracy: 0.6522\n",
      "Epoch 107/200\n",
      "1/1 [==============================] - 0s 40ms/step - loss: 0.7136 - accuracy: 0.6087 - val_loss: 0.7106 - val_accuracy: 0.5652\n",
      "Epoch 108/200\n",
      "1/1 [==============================] - 0s 38ms/step - loss: 0.7173 - accuracy: 0.5652 - val_loss: 0.7098 - val_accuracy: 0.5652\n",
      "Epoch 109/200\n",
      "1/1 [==============================] - 0s 40ms/step - loss: 0.7109 - accuracy: 0.6304 - val_loss: 0.7088 - val_accuracy: 0.5652\n",
      "Epoch 110/200\n",
      "1/1 [==============================] - 0s 39ms/step - loss: 0.7161 - accuracy: 0.6087 - val_loss: 0.7082 - val_accuracy: 0.6087\n",
      "Epoch 111/200\n",
      "1/1 [==============================] - 0s 40ms/step - loss: 0.7184 - accuracy: 0.5652 - val_loss: 0.7078 - val_accuracy: 0.6522\n",
      "Epoch 112/200\n",
      "1/1 [==============================] - 0s 38ms/step - loss: 0.7159 - accuracy: 0.6739 - val_loss: 0.7070 - val_accuracy: 0.6522\n",
      "Epoch 113/200\n",
      "1/1 [==============================] - 0s 40ms/step - loss: 0.7115 - accuracy: 0.5870 - val_loss: 0.7061 - val_accuracy: 0.6522\n",
      "Epoch 114/200\n",
      "1/1 [==============================] - 0s 38ms/step - loss: 0.7167 - accuracy: 0.6087 - val_loss: 0.7052 - val_accuracy: 0.6522\n",
      "Epoch 115/200\n",
      "1/1 [==============================] - 0s 39ms/step - loss: 0.7089 - accuracy: 0.6087 - val_loss: 0.7042 - val_accuracy: 0.6522\n",
      "Epoch 116/200\n",
      "1/1 [==============================] - 0s 38ms/step - loss: 0.6954 - accuracy: 0.6957 - val_loss: 0.7034 - val_accuracy: 0.6522\n"
     ]
    },
    {
     "name": "stdout",
     "output_type": "stream",
     "text": [
      "Epoch 117/200\n",
      "1/1 [==============================] - 0s 38ms/step - loss: 0.7127 - accuracy: 0.5652 - val_loss: 0.7027 - val_accuracy: 0.6522\n",
      "Epoch 118/200\n",
      "1/1 [==============================] - 0s 39ms/step - loss: 0.7069 - accuracy: 0.5652 - val_loss: 0.7020 - val_accuracy: 0.6522\n",
      "Epoch 119/200\n",
      "1/1 [==============================] - 0s 37ms/step - loss: 0.6978 - accuracy: 0.6087 - val_loss: 0.7016 - val_accuracy: 0.6522\n",
      "Epoch 120/200\n",
      "1/1 [==============================] - 0s 39ms/step - loss: 0.7028 - accuracy: 0.6304 - val_loss: 0.7014 - val_accuracy: 0.6522\n",
      "Epoch 121/200\n",
      "1/1 [==============================] - 0s 38ms/step - loss: 0.7119 - accuracy: 0.6304 - val_loss: 0.7012 - val_accuracy: 0.6522\n",
      "Epoch 122/200\n",
      "1/1 [==============================] - 0s 36ms/step - loss: 0.7133 - accuracy: 0.5217 - val_loss: 0.7007 - val_accuracy: 0.6522\n",
      "Epoch 123/200\n",
      "1/1 [==============================] - 0s 38ms/step - loss: 0.6975 - accuracy: 0.6522 - val_loss: 0.7000 - val_accuracy: 0.6522\n",
      "Epoch 124/200\n",
      "1/1 [==============================] - 0s 37ms/step - loss: 0.6947 - accuracy: 0.6304 - val_loss: 0.6998 - val_accuracy: 0.6522\n",
      "Epoch 125/200\n",
      "1/1 [==============================] - 0s 38ms/step - loss: 0.7179 - accuracy: 0.6087 - val_loss: 0.6997 - val_accuracy: 0.6522\n",
      "Epoch 126/200\n",
      "1/1 [==============================] - 0s 38ms/step - loss: 0.6978 - accuracy: 0.6304 - val_loss: 0.6993 - val_accuracy: 0.6522\n",
      "Epoch 127/200\n",
      "1/1 [==============================] - 0s 41ms/step - loss: 0.7054 - accuracy: 0.7174 - val_loss: 0.6986 - val_accuracy: 0.6522\n",
      "Epoch 128/200\n",
      "1/1 [==============================] - 0s 38ms/step - loss: 0.6943 - accuracy: 0.6739 - val_loss: 0.6978 - val_accuracy: 0.6522\n",
      "Epoch 129/200\n",
      "1/1 [==============================] - 0s 38ms/step - loss: 0.6939 - accuracy: 0.6087 - val_loss: 0.6971 - val_accuracy: 0.6522\n",
      "Epoch 130/200\n",
      "1/1 [==============================] - 0s 38ms/step - loss: 0.7074 - accuracy: 0.6739 - val_loss: 0.6967 - val_accuracy: 0.6522\n",
      "Epoch 131/200\n",
      "1/1 [==============================] - 0s 37ms/step - loss: 0.6970 - accuracy: 0.5652 - val_loss: 0.6962 - val_accuracy: 0.6522\n",
      "Epoch 132/200\n",
      "1/1 [==============================] - 0s 38ms/step - loss: 0.6896 - accuracy: 0.6739 - val_loss: 0.6959 - val_accuracy: 0.6522\n",
      "Epoch 133/200\n",
      "1/1 [==============================] - 0s 38ms/step - loss: 0.7040 - accuracy: 0.6087 - val_loss: 0.6959 - val_accuracy: 0.6957\n",
      "Epoch 134/200\n",
      "1/1 [==============================] - 0s 37ms/step - loss: 0.6916 - accuracy: 0.6304 - val_loss: 0.6960 - val_accuracy: 0.6957\n",
      "Epoch 135/200\n",
      "1/1 [==============================] - 0s 38ms/step - loss: 0.6999 - accuracy: 0.7826 - val_loss: 0.6953 - val_accuracy: 0.6522\n",
      "Epoch 136/200\n",
      "1/1 [==============================] - 0s 37ms/step - loss: 0.6974 - accuracy: 0.6087 - val_loss: 0.6953 - val_accuracy: 0.5652\n",
      "Epoch 137/200\n",
      "1/1 [==============================] - 0s 39ms/step - loss: 0.6968 - accuracy: 0.6739 - val_loss: 0.6954 - val_accuracy: 0.6087\n",
      "Epoch 138/200\n",
      "1/1 [==============================] - 0s 36ms/step - loss: 0.7022 - accuracy: 0.5870 - val_loss: 0.6954 - val_accuracy: 0.6522\n",
      "Epoch 139/200\n",
      "1/1 [==============================] - 0s 37ms/step - loss: 0.7018 - accuracy: 0.6739 - val_loss: 0.6956 - val_accuracy: 0.6957\n",
      "Epoch 140/200\n",
      "1/1 [==============================] - 0s 38ms/step - loss: 0.6902 - accuracy: 0.6739 - val_loss: 0.6953 - val_accuracy: 0.6957\n",
      "Epoch 141/200\n",
      "1/1 [==============================] - 0s 39ms/step - loss: 0.6975 - accuracy: 0.7391 - val_loss: 0.6947 - val_accuracy: 0.6957\n",
      "Epoch 142/200\n",
      "1/1 [==============================] - 0s 38ms/step - loss: 0.6930 - accuracy: 0.6522 - val_loss: 0.6942 - val_accuracy: 0.6957\n",
      "Epoch 143/200\n",
      "1/1 [==============================] - 0s 36ms/step - loss: 0.6990 - accuracy: 0.6087 - val_loss: 0.6937 - val_accuracy: 0.6522\n",
      "Epoch 144/200\n",
      "1/1 [==============================] - 0s 37ms/step - loss: 0.6830 - accuracy: 0.7391 - val_loss: 0.6933 - val_accuracy: 0.6087\n",
      "Epoch 145/200\n",
      "1/1 [==============================] - 0s 38ms/step - loss: 0.6884 - accuracy: 0.6957 - val_loss: 0.6931 - val_accuracy: 0.6957\n",
      "Epoch 146/200\n",
      "1/1 [==============================] - 0s 38ms/step - loss: 0.6921 - accuracy: 0.7174 - val_loss: 0.6938 - val_accuracy: 0.7826\n",
      "Epoch 147/200\n",
      "1/1 [==============================] - 0s 36ms/step - loss: 0.6991 - accuracy: 0.7174 - val_loss: 0.6945 - val_accuracy: 0.6957\n",
      "Epoch 148/200\n",
      "1/1 [==============================] - 0s 38ms/step - loss: 0.6831 - accuracy: 0.7826 - val_loss: 0.6947 - val_accuracy: 0.6957\n",
      "Epoch 149/200\n",
      "1/1 [==============================] - 0s 38ms/step - loss: 0.7021 - accuracy: 0.5870 - val_loss: 0.6940 - val_accuracy: 0.7391\n",
      "Epoch 150/200\n",
      "1/1 [==============================] - 0s 42ms/step - loss: 0.6845 - accuracy: 0.6957 - val_loss: 0.6945 - val_accuracy: 0.6087\n",
      "Epoch 151/200\n",
      "1/1 [==============================] - 0s 42ms/step - loss: 0.6965 - accuracy: 0.6522 - val_loss: 0.6949 - val_accuracy: 0.5652\n",
      "Epoch 152/200\n",
      "1/1 [==============================] - 0s 39ms/step - loss: 0.6695 - accuracy: 0.6087 - val_loss: 0.6937 - val_accuracy: 0.6522\n",
      "Epoch 153/200\n",
      "1/1 [==============================] - 0s 39ms/step - loss: 0.6696 - accuracy: 0.7391 - val_loss: 0.6934 - val_accuracy: 0.7391\n",
      "Epoch 154/200\n",
      "1/1 [==============================] - 0s 41ms/step - loss: 0.6819 - accuracy: 0.7174 - val_loss: 0.6937 - val_accuracy: 0.6957\n",
      "Epoch 155/200\n",
      "1/1 [==============================] - 0s 39ms/step - loss: 0.6701 - accuracy: 0.8261 - val_loss: 0.6929 - val_accuracy: 0.7391\n",
      "Epoch 156/200\n",
      "1/1 [==============================] - 0s 39ms/step - loss: 0.6988 - accuracy: 0.6087 - val_loss: 0.6922 - val_accuracy: 0.7391\n",
      "Epoch 157/200\n",
      "1/1 [==============================] - 0s 36ms/step - loss: 0.6845 - accuracy: 0.6957 - val_loss: 0.6928 - val_accuracy: 0.6957\n",
      "Epoch 158/200\n",
      "1/1 [==============================] - 0s 41ms/step - loss: 0.6658 - accuracy: 0.7609 - val_loss: 0.6932 - val_accuracy: 0.7391\n",
      "Epoch 159/200\n",
      "1/1 [==============================] - 0s 38ms/step - loss: 0.6724 - accuracy: 0.6739 - val_loss: 0.6934 - val_accuracy: 0.7391\n",
      "Epoch 160/200\n",
      "1/1 [==============================] - 0s 40ms/step - loss: 0.6789 - accuracy: 0.6957 - val_loss: 0.6932 - val_accuracy: 0.7391\n",
      "Epoch 161/200\n",
      "1/1 [==============================] - 0s 40ms/step - loss: 0.6567 - accuracy: 0.8913 - val_loss: 0.6937 - val_accuracy: 0.6957\n",
      "Epoch 162/200\n",
      "1/1 [==============================] - 0s 41ms/step - loss: 0.6849 - accuracy: 0.7174 - val_loss: 0.6936 - val_accuracy: 0.6957\n",
      "Epoch 163/200\n",
      "1/1 [==============================] - 0s 40ms/step - loss: 0.6774 - accuracy: 0.6957 - val_loss: 0.6929 - val_accuracy: 0.6957\n",
      "Epoch 164/200\n",
      "1/1 [==============================] - 0s 39ms/step - loss: 0.6965 - accuracy: 0.7391 - val_loss: 0.6931 - val_accuracy: 0.6957\n",
      "Epoch 165/200\n",
      "1/1 [==============================] - 0s 39ms/step - loss: 0.6800 - accuracy: 0.7174 - val_loss: 0.6923 - val_accuracy: 0.7391\n",
      "Epoch 166/200\n",
      "1/1 [==============================] - 0s 38ms/step - loss: 0.6924 - accuracy: 0.7391 - val_loss: 0.6915 - val_accuracy: 0.6957\n",
      "Epoch 167/200\n",
      "1/1 [==============================] - 0s 38ms/step - loss: 0.6643 - accuracy: 0.7609 - val_loss: 0.6911 - val_accuracy: 0.6957\n",
      "Epoch 168/200\n",
      "1/1 [==============================] - 0s 37ms/step - loss: 0.6616 - accuracy: 0.8261 - val_loss: 0.6913 - val_accuracy: 0.6957\n",
      "Epoch 169/200\n",
      "1/1 [==============================] - 0s 37ms/step - loss: 0.6788 - accuracy: 0.6522 - val_loss: 0.6923 - val_accuracy: 0.6522\n",
      "Epoch 170/200\n",
      "1/1 [==============================] - 0s 37ms/step - loss: 0.6790 - accuracy: 0.7609 - val_loss: 0.6933 - val_accuracy: 0.6957\n",
      "Epoch 171/200\n",
      "1/1 [==============================] - 0s 38ms/step - loss: 0.6600 - accuracy: 0.8261 - val_loss: 0.6941 - val_accuracy: 0.6957\n",
      "Epoch 172/200\n",
      "1/1 [==============================] - 0s 38ms/step - loss: 0.6914 - accuracy: 0.6957 - val_loss: 0.6943 - val_accuracy: 0.6957\n",
      "Epoch 173/200\n",
      "1/1 [==============================] - 0s 40ms/step - loss: 0.6485 - accuracy: 0.8478 - val_loss: 0.6944 - val_accuracy: 0.6957\n",
      "Epoch 174/200\n",
      "1/1 [==============================] - 0s 38ms/step - loss: 0.6676 - accuracy: 0.8043 - val_loss: 0.6941 - val_accuracy: 0.6087\n"
     ]
    },
    {
     "name": "stdout",
     "output_type": "stream",
     "text": [
      "Epoch 175/200\n",
      "1/1 [==============================] - 0s 39ms/step - loss: 0.6457 - accuracy: 0.7609 - val_loss: 0.6941 - val_accuracy: 0.6957\n",
      "Epoch 176/200\n",
      "1/1 [==============================] - 0s 38ms/step - loss: 0.6429 - accuracy: 0.8478 - val_loss: 0.6942 - val_accuracy: 0.6957\n",
      "Epoch 177/200\n",
      "1/1 [==============================] - 0s 39ms/step - loss: 0.6817 - accuracy: 0.7174 - val_loss: 0.6947 - val_accuracy: 0.6957\n",
      "Epoch 178/200\n",
      "1/1 [==============================] - 0s 39ms/step - loss: 0.6849 - accuracy: 0.7609 - val_loss: 0.6955 - val_accuracy: 0.6957\n",
      "Epoch 179/200\n",
      "1/1 [==============================] - 0s 40ms/step - loss: 0.6637 - accuracy: 0.8478 - val_loss: 0.6963 - val_accuracy: 0.6957\n",
      "Epoch 180/200\n",
      "1/1 [==============================] - 0s 38ms/step - loss: 0.6654 - accuracy: 0.8261 - val_loss: 0.6979 - val_accuracy: 0.6087\n",
      "Epoch 181/200\n",
      "1/1 [==============================] - 0s 42ms/step - loss: 0.6747 - accuracy: 0.7391 - val_loss: 0.6995 - val_accuracy: 0.6522\n",
      "Epoch 182/200\n",
      "1/1 [==============================] - 0s 39ms/step - loss: 0.6863 - accuracy: 0.6957 - val_loss: 0.6992 - val_accuracy: 0.6087\n",
      "Epoch 183/200\n",
      "1/1 [==============================] - 0s 38ms/step - loss: 0.6586 - accuracy: 0.7609 - val_loss: 0.6984 - val_accuracy: 0.6957\n",
      "Epoch 184/200\n",
      "1/1 [==============================] - 0s 36ms/step - loss: 0.6832 - accuracy: 0.6739 - val_loss: 0.6973 - val_accuracy: 0.6957\n",
      "Epoch 185/200\n",
      "1/1 [==============================] - 0s 38ms/step - loss: 0.6650 - accuracy: 0.8043 - val_loss: 0.6967 - val_accuracy: 0.7391\n",
      "Epoch 186/200\n",
      "1/1 [==============================] - 0s 42ms/step - loss: 0.6670 - accuracy: 0.7826 - val_loss: 0.6964 - val_accuracy: 0.6957\n",
      "Epoch 187/200\n",
      "1/1 [==============================] - 0s 40ms/step - loss: 0.6650 - accuracy: 0.7826 - val_loss: 0.6984 - val_accuracy: 0.6087\n",
      "Epoch 188/200\n",
      "1/1 [==============================] - 0s 41ms/step - loss: 0.6764 - accuracy: 0.7391 - val_loss: 0.6995 - val_accuracy: 0.6087\n",
      "Epoch 189/200\n",
      "1/1 [==============================] - 0s 41ms/step - loss: 0.6708 - accuracy: 0.6957 - val_loss: 0.6994 - val_accuracy: 0.6957\n",
      "Epoch 190/200\n",
      "1/1 [==============================] - 0s 38ms/step - loss: 0.6740 - accuracy: 0.7174 - val_loss: 0.7005 - val_accuracy: 0.7391\n",
      "Epoch 191/200\n",
      "1/1 [==============================] - 0s 39ms/step - loss: 0.6599 - accuracy: 0.8261 - val_loss: 0.7011 - val_accuracy: 0.6957\n",
      "Epoch 192/200\n",
      "1/1 [==============================] - 0s 39ms/step - loss: 0.6490 - accuracy: 0.8913 - val_loss: 0.7025 - val_accuracy: 0.6087\n",
      "Epoch 193/200\n",
      "1/1 [==============================] - 0s 37ms/step - loss: 0.6615 - accuracy: 0.7826 - val_loss: 0.7043 - val_accuracy: 0.6087\n",
      "Epoch 194/200\n",
      "1/1 [==============================] - 0s 38ms/step - loss: 0.6707 - accuracy: 0.7174 - val_loss: 0.7017 - val_accuracy: 0.6522\n",
      "Epoch 195/200\n",
      "1/1 [==============================] - 0s 39ms/step - loss: 0.6775 - accuracy: 0.7609 - val_loss: 0.7009 - val_accuracy: 0.7391\n",
      "Epoch 196/200\n",
      "1/1 [==============================] - 0s 40ms/step - loss: 0.6492 - accuracy: 0.8261 - val_loss: 0.7004 - val_accuracy: 0.7391\n",
      "Epoch 197/200\n",
      "1/1 [==============================] - 0s 38ms/step - loss: 0.6628 - accuracy: 0.7609 - val_loss: 0.6997 - val_accuracy: 0.7391\n",
      "Epoch 198/200\n",
      "1/1 [==============================] - 0s 37ms/step - loss: 0.6615 - accuracy: 0.7826 - val_loss: 0.7000 - val_accuracy: 0.6957\n",
      "Epoch 199/200\n",
      "1/1 [==============================] - 0s 37ms/step - loss: 0.6544 - accuracy: 0.8043 - val_loss: 0.7026 - val_accuracy: 0.6087\n",
      "Epoch 200/200\n",
      "1/1 [==============================] - 0s 37ms/step - loss: 0.6445 - accuracy: 0.7826 - val_loss: 0.7025 - val_accuracy: 0.6522\n",
      "Most important variables:  [2 5 3 4 0 1]\n"
     ]
    }
   ],
   "source": [
    "model_3.compile(optimizer='adam',\n",
    "              loss='binary_crossentropy',\n",
    "              metrics=['accuracy'])\n",
    "hist_3 = model_3.fit(X_train, y_traindm,\n",
    "          batch_size=46, epochs=200,\n",
    "          validation_data=(X_val, y_valdm), callbacks = [VIANN])"
   ]
  },
  {
   "cell_type": "markdown",
   "metadata": {},
   "source": [
    "## Visualize the loss and accuracy graphs for Model 3.\n",
    "\n",
    "**The loss is a lot higher at the start, and that's because we've changed our loss function. The plot window can be zoomed in by adding an additional line of code: plt.ylim.**"
   ]
  },
  {
   "cell_type": "code",
   "execution_count": 61,
   "metadata": {},
   "outputs": [
    {
     "data": {
      "image/png": "[encoded data removed]",
      "text/plain": [
       "<Figure size 460.8x316.8 with 1 Axes>"
      ]
     },
     "metadata": {
      "needs_background": "light"
     },
     "output_type": "display_data"
    }
   ],
   "source": [
    "plt.plot(hist_3.history['loss'])\n",
    "plt.plot(hist_3.history['val_loss'])\n",
    "plt.title('Model loss')\n",
    "plt.ylabel('Loss')\n",
    "plt.xlabel('Epoch')\n",
    "plt.legend(['Train', 'Val'], loc='upper right')\n",
    "plt.ylim(top=10, bottom=0)\n",
    "plt.show()"
   ]
  },
  {
   "cell_type": "code",
   "execution_count": 62,
   "metadata": {},
   "outputs": [
    {
     "data": {
      "image/png": "[encoded data removed]",
      "text/plain": [
       "<Figure size 460.8x316.8 with 1 Axes>"
      ]
     },
     "metadata": {
      "needs_background": "light"
     },
     "output_type": "display_data"
    }
   ],
   "source": [
    "plt.plot(hist_3.history['accuracy'])\n",
    "plt.plot(hist_3.history['val_accuracy'])\n",
    "plt.title('Model accuracy')\n",
    "plt.ylabel('Accuracy')\n",
    "plt.xlabel('Epoch')\n",
    "plt.legend(['Train', 'Val'], loc='lower right')\n",
    "plt.show()"
   ]
  },
  {
   "cell_type": "markdown",
   "metadata": {},
   "source": [
    "**Compared to Model 2, there is less overfitting. Although not ideal, the validation accuracy is likely due to the small sample size or, since we are using dropout, the model at test time is more robust and leads to higher testing accuracies.**"
   ]
  },
  {
   "cell_type": "markdown",
   "metadata": {},
   "source": [
    "## Evaluate Model 3 and Print the Results"
   ]
  },
  {
   "cell_type": "markdown",
   "metadata": {},
   "source": [
    "**Test Accuracy**"
   ]
  },
  {
   "cell_type": "code",
   "execution_count": 63,
   "metadata": {},
   "outputs": [
    {
     "name": "stdout",
     "output_type": "stream",
     "text": [
      "1/1 [==============================] - 0s 13ms/step - loss: 0.7453 - accuracy: 0.8261\n"
     ]
    },
    {
     "data": {
      "text/plain": [
       "0.8260869383811951"
      ]
     },
     "execution_count": 63,
     "metadata": {},
     "output_type": "execute_result"
    }
   ],
   "source": [
    "model_3.evaluate(X_test, y_testdm)[1]"
   ]
  },
  {
   "cell_type": "markdown",
   "metadata": {},
   "source": [
    "###### **The test accuracy is good considering we only trained with 46 records.**"
   ]
  },
  {
   "cell_type": "code",
   "execution_count": 64,
   "metadata": {},
   "outputs": [
    {
     "data": {
      "text/html": [
       "<div>\n",
       "<style scoped>\n",
       "    .dataframe tbody tr th:only-of-type {\n",
       "        vertical-align: middle;\n",
       "    }\n",
       "\n",
       "    .dataframe tbody tr th {\n",
       "        vertical-align: top;\n",
       "    }\n",
       "\n",
       "    .dataframe thead th {\n",
       "        text-align: right;\n",
       "    }\n",
       "</style>\n",
       "<table border=\"1\" class=\"dataframe\">\n",
       "  <thead>\n",
       "    <tr style=\"text-align: right;\">\n",
       "      <th></th>\n",
       "      <th>Variable</th>\n",
       "      <th>Scores</th>\n",
       "    </tr>\n",
       "  </thead>\n",
       "  <tbody>\n",
       "    <tr>\n",
       "      <th>1</th>\n",
       "      <td>Si_clr</td>\n",
       "      <td>0.000000</td>\n",
       "    </tr>\n",
       "    <tr>\n",
       "      <th>0</th>\n",
       "      <td>Mg_clr</td>\n",
       "      <td>0.003841</td>\n",
       "    </tr>\n",
       "    <tr>\n",
       "      <th>4</th>\n",
       "      <td>Co_clr</td>\n",
       "      <td>0.125439</td>\n",
       "    </tr>\n",
       "    <tr>\n",
       "      <th>3</th>\n",
       "      <td>Mn_clr</td>\n",
       "      <td>0.281119</td>\n",
       "    </tr>\n",
       "    <tr>\n",
       "      <th>5</th>\n",
       "      <td>Ni_clr</td>\n",
       "      <td>0.288544</td>\n",
       "    </tr>\n",
       "    <tr>\n",
       "      <th>2</th>\n",
       "      <td>Cr_clr</td>\n",
       "      <td>1.000000</td>\n",
       "    </tr>\n",
       "  </tbody>\n",
       "</table>\n",
       "</div>"
      ],
      "text/plain": [
       "  Variable    Scores\n",
       "1   Si_clr  0.000000\n",
       "0   Mg_clr  0.003841\n",
       "4   Co_clr  0.125439\n",
       "3   Mn_clr  0.281119\n",
       "5   Ni_clr  0.288544\n",
       "2   Cr_clr  1.000000"
      ]
     },
     "execution_count": 64,
     "metadata": {},
     "output_type": "execute_result"
    }
   ],
   "source": [
    "#Visualize Feature Importance in table format\n",
    "X_columns = X_train.columns.tolist()\n",
    "model_FI_scores = VIANN.varScores.tolist()\n",
    "\n",
    "model_FI = pd.DataFrame()\n",
    "model_FI['Variable'] = X_columns\n",
    "model_FI['Scores'] = model_FI_scores\n",
    "model_FI.sort_values(by=['Scores'], inplace=True, ascending=True)\n",
    "\n",
    "model_FI"
   ]
  },
  {
   "cell_type": "code",
   "execution_count": 65,
   "metadata": {},
   "outputs": [
    {
     "data": {
      "text/plain": [
       "array([['Mg_clr', 'Si_clr', 'Cr_clr', 'Mn_clr', 'Co_clr', 'Ni_clr'],\n",
       "       [0.003840611083433032, 0.0, 1.0, 0.2811187207698822,\n",
       "        0.12543891370296478, 0.2885438799858093]], dtype=object)"
      ]
     },
     "execution_count": 65,
     "metadata": {},
     "output_type": "execute_result"
    }
   ],
   "source": [
    "#Link Features to VIANN scores and export to csv\n",
    "model_FI_array = np.vstack((X_train.columns, VIANN.varScores))\n",
    "pd.DataFrame(model_FI_array).to_csv(\"OL_model_FI.csv\", index=None)\n",
    "model_FI_array"
   ]
  },
  {
   "cell_type": "code",
   "execution_count": 66,
   "metadata": {
    "scrolled": true
   },
   "outputs": [
    {
     "data": {
      "image/png": "[encoded data removed]",
      "text/plain": [
       "<Figure size 460.8x316.8 with 1 Axes>"
      ]
     },
     "metadata": {
      "needs_background": "light"
     },
     "output_type": "display_data"
    }
   ],
   "source": [
    "# Plot the feature importances of the model\n",
    "fig, ax = plt.subplots()\n",
    "\n",
    "ax.barh(model_FI['Variable'], model_FI['Scores'], align=\"center\", alpha=0.5)\n",
    "ax.set_xlabel('Scores')\n",
    "ax.set_yticks(model_FI['Variable'])\n",
    "ax.xaxis.grid(True)\n",
    "ax.set_title(\"Olivine Model 3 Feature Importances\", fontsize='14')\n",
    "\n",
    "# Save the figure and show\n",
    "plt.savefig('OL_model_FI_barplot.png')\n",
    "plt.show()"
   ]
  },
  {
   "cell_type": "markdown",
   "metadata": {},
   "source": [
    "**Compute the probabilities and predictions on the test set.**"
   ]
  },
  {
   "cell_type": "code",
   "execution_count": 67,
   "metadata": {},
   "outputs": [
    {
     "name": "stderr",
     "output_type": "stream",
     "text": [
      "G:\\Anaconda\\lib\\site-packages\\tensorflow\\python\\keras\\engine\\sequential.py:450: UserWarning: `model.predict_classes()` is deprecated and will be removed after 2021-01-01. Please use instead:* `np.argmax(model.predict(x), axis=-1)`,   if your model does multi-class classification   (e.g. if it uses a `softmax` last-layer activation).* `(model.predict(x) > 0.5).astype(\"int32\")`,   if your model does binary classification   (e.g. if it uses a `sigmoid` last-layer activation).\n",
      "  warnings.warn('`model.predict_classes()` is deprecated and '\n"
     ]
    }
   ],
   "source": [
    "predictions =  model_3.predict_classes(X_test)\n",
    "probabilities = model_3.predict(X_test)"
   ]
  },
  {
   "cell_type": "code",
   "execution_count": 68,
   "metadata": {},
   "outputs": [
    {
     "data": {
      "text/html": [
       "<div>\n",
       "<style scoped>\n",
       "    .dataframe tbody tr th:only-of-type {\n",
       "        vertical-align: middle;\n",
       "    }\n",
       "\n",
       "    .dataframe tbody tr th {\n",
       "        vertical-align: top;\n",
       "    }\n",
       "\n",
       "    .dataframe thead th {\n",
       "        text-align: right;\n",
       "    }\n",
       "</style>\n",
       "<table border=\"1\" class=\"dataframe\">\n",
       "  <thead>\n",
       "    <tr style=\"text-align: right;\">\n",
       "      <th></th>\n",
       "      <th>prob_no</th>\n",
       "      <th>prob_yes</th>\n",
       "    </tr>\n",
       "  </thead>\n",
       "  <tbody>\n",
       "    <tr>\n",
       "      <th>39</th>\n",
       "      <td>0.805534</td>\n",
       "      <td>0.199946</td>\n",
       "    </tr>\n",
       "    <tr>\n",
       "      <th>1</th>\n",
       "      <td>0.429558</td>\n",
       "      <td>0.570432</td>\n",
       "    </tr>\n",
       "    <tr>\n",
       "      <th>47</th>\n",
       "      <td>0.623190</td>\n",
       "      <td>0.380600</td>\n",
       "    </tr>\n",
       "    <tr>\n",
       "      <th>16</th>\n",
       "      <td>0.419991</td>\n",
       "      <td>0.579774</td>\n",
       "    </tr>\n",
       "    <tr>\n",
       "      <th>60</th>\n",
       "      <td>0.558228</td>\n",
       "      <td>0.444499</td>\n",
       "    </tr>\n",
       "  </tbody>\n",
       "</table>\n",
       "</div>"
      ],
      "text/plain": [
       "     prob_no  prob_yes\n",
       "39  0.805534  0.199946\n",
       "1   0.429558  0.570432\n",
       "47  0.623190  0.380600\n",
       "16  0.419991  0.579774\n",
       "60  0.558228  0.444499"
      ]
     },
     "execution_count": 68,
     "metadata": {},
     "output_type": "execute_result"
    }
   ],
   "source": [
    "predictions2 = pd.DataFrame(data = predictions,index = X_test.index.copy())\n",
    "predictions2.columns = ['predict_class']\n",
    "probabilities2 = pd.DataFrame(data = probabilities,index = X_test.index.copy())\n",
    "probabilities2.columns = ['prob_no', 'prob_yes']\n",
    "probabilities2.head(5)"
   ]
  },
  {
   "cell_type": "code",
   "execution_count": 69,
   "metadata": {},
   "outputs": [
    {
     "data": {
      "text/html": [
       "<div>\n",
       "<style scoped>\n",
       "    .dataframe tbody tr th:only-of-type {\n",
       "        vertical-align: middle;\n",
       "    }\n",
       "\n",
       "    .dataframe tbody tr th {\n",
       "        vertical-align: top;\n",
       "    }\n",
       "\n",
       "    .dataframe thead th {\n",
       "        text-align: right;\n",
       "    }\n",
       "</style>\n",
       "<table border=\"1\" class=\"dataframe\">\n",
       "  <thead>\n",
       "    <tr style=\"text-align: right;\">\n",
       "      <th></th>\n",
       "      <th>Mg_clr</th>\n",
       "      <th>Si_clr</th>\n",
       "      <th>Cr_clr</th>\n",
       "      <th>Mn_clr</th>\n",
       "      <th>Co_clr</th>\n",
       "      <th>Ni_clr</th>\n",
       "      <th>Diamond_High</th>\n",
       "      <th>predict_class</th>\n",
       "      <th>prob_no</th>\n",
       "      <th>prob_yes</th>\n",
       "    </tr>\n",
       "  </thead>\n",
       "  <tbody>\n",
       "    <tr>\n",
       "      <th>39</th>\n",
       "      <td>4.443198</td>\n",
       "      <td>4.412869</td>\n",
       "      <td>-4.309557</td>\n",
       "      <td>-1.153287</td>\n",
       "      <td>-3.197262</td>\n",
       "      <td>-0.195961</td>\n",
       "      <td>yes</td>\n",
       "      <td>0</td>\n",
       "      <td>0.805534</td>\n",
       "      <td>0.199946</td>\n",
       "    </tr>\n",
       "    <tr>\n",
       "      <th>1</th>\n",
       "      <td>3.755496</td>\n",
       "      <td>4.188879</td>\n",
       "      <td>-2.708026</td>\n",
       "      <td>-1.546032</td>\n",
       "      <td>-3.401173</td>\n",
       "      <td>-0.289144</td>\n",
       "      <td>yes</td>\n",
       "      <td>1</td>\n",
       "      <td>0.429558</td>\n",
       "      <td>0.570432</td>\n",
       "    </tr>\n",
       "    <tr>\n",
       "      <th>47</th>\n",
       "      <td>4.389130</td>\n",
       "      <td>4.339207</td>\n",
       "      <td>-3.772176</td>\n",
       "      <td>-1.490131</td>\n",
       "      <td>-3.303616</td>\n",
       "      <td>-0.162414</td>\n",
       "      <td>no</td>\n",
       "      <td>0</td>\n",
       "      <td>0.623190</td>\n",
       "      <td>0.380600</td>\n",
       "    </tr>\n",
       "    <tr>\n",
       "      <th>16</th>\n",
       "      <td>4.004639</td>\n",
       "      <td>4.287322</td>\n",
       "      <td>-3.327781</td>\n",
       "      <td>-1.643304</td>\n",
       "      <td>-3.187594</td>\n",
       "      <td>-0.133282</td>\n",
       "      <td>yes</td>\n",
       "      <td>1</td>\n",
       "      <td>0.419991</td>\n",
       "      <td>0.579774</td>\n",
       "    </tr>\n",
       "    <tr>\n",
       "      <th>60</th>\n",
       "      <td>3.853350</td>\n",
       "      <td>4.080448</td>\n",
       "      <td>-2.437925</td>\n",
       "      <td>-1.796816</td>\n",
       "      <td>-3.424404</td>\n",
       "      <td>-0.274653</td>\n",
       "      <td>no</td>\n",
       "      <td>0</td>\n",
       "      <td>0.558228</td>\n",
       "      <td>0.444499</td>\n",
       "    </tr>\n",
       "  </tbody>\n",
       "</table>\n",
       "</div>"
      ],
      "text/plain": [
       "      Mg_clr    Si_clr    Cr_clr    Mn_clr    Co_clr    Ni_clr Diamond_High  \\\n",
       "39  4.443198  4.412869 -4.309557 -1.153287 -3.197262 -0.195961          yes   \n",
       "1   3.755496  4.188879 -2.708026 -1.546032 -3.401173 -0.289144          yes   \n",
       "47  4.389130  4.339207 -3.772176 -1.490131 -3.303616 -0.162414           no   \n",
       "16  4.004639  4.287322 -3.327781 -1.643304 -3.187594 -0.133282          yes   \n",
       "60  3.853350  4.080448 -2.437925 -1.796816 -3.424404 -0.274653           no   \n",
       "\n",
       "    predict_class   prob_no  prob_yes  \n",
       "39              0  0.805534  0.199946  \n",
       "1               1  0.429558  0.570432  \n",
       "47              0  0.623190  0.380600  \n",
       "16              1  0.419991  0.579774  \n",
       "60              0  0.558228  0.444499  "
      ]
     },
     "execution_count": 69,
     "metadata": {},
     "output_type": "execute_result"
    }
   ],
   "source": [
    "OL_testresults = pd.concat([X_test,y_test,predictions2,probabilities2],axis=1)\n",
    "OL_testresults.to_csv(\"OL_model3results_short.csv\")\n",
    "OL_testresults.head(5)"
   ]
  },
  {
   "cell_type": "code",
   "execution_count": 70,
   "metadata": {},
   "outputs": [
    {
     "data": {
      "text/html": [
       "<div>\n",
       "<style scoped>\n",
       "    .dataframe tbody tr th:only-of-type {\n",
       "        vertical-align: middle;\n",
       "    }\n",
       "\n",
       "    .dataframe tbody tr th {\n",
       "        vertical-align: top;\n",
       "    }\n",
       "\n",
       "    .dataframe thead th {\n",
       "        text-align: right;\n",
       "    }\n",
       "</style>\n",
       "<table border=\"1\" class=\"dataframe\">\n",
       "  <thead>\n",
       "    <tr style=\"text-align: right;\">\n",
       "      <th></th>\n",
       "      <th>predict_class</th>\n",
       "      <th>prob_no</th>\n",
       "      <th>prob_yes</th>\n",
       "      <th>Sample</th>\n",
       "      <th>Mineral</th>\n",
       "      <th>Pipe</th>\n",
       "      <th>Diamond_High</th>\n",
       "      <th>Craton</th>\n",
       "      <th>Mg</th>\n",
       "      <th>Si</th>\n",
       "      <th>...</th>\n",
       "      <th>Cr_clr</th>\n",
       "      <th>Mn_clr</th>\n",
       "      <th>Co_clr</th>\n",
       "      <th>Ni_clr</th>\n",
       "      <th>V1</th>\n",
       "      <th>V2</th>\n",
       "      <th>V3</th>\n",
       "      <th>V4</th>\n",
       "      <th>V5</th>\n",
       "      <th>V6</th>\n",
       "    </tr>\n",
       "  </thead>\n",
       "  <tbody>\n",
       "    <tr>\n",
       "      <th>39</th>\n",
       "      <td>0.0</td>\n",
       "      <td>0.805534</td>\n",
       "      <td>0.199946</td>\n",
       "      <td>Ap24H22</td>\n",
       "      <td>OL</td>\n",
       "      <td>PANDA</td>\n",
       "      <td>yes</td>\n",
       "      <td>Slave</td>\n",
       "      <td>197500</td>\n",
       "      <td>191600</td>\n",
       "      <td>...</td>\n",
       "      <td>-4.309557</td>\n",
       "      <td>-1.153287</td>\n",
       "      <td>-3.197262</td>\n",
       "      <td>-0.195961</td>\n",
       "      <td>-0.344597</td>\n",
       "      <td>0.069625</td>\n",
       "      <td>-0.186934</td>\n",
       "      <td>-0.046512</td>\n",
       "      <td>0.001308</td>\n",
       "      <td>1.470000e-16</td>\n",
       "    </tr>\n",
       "    <tr>\n",
       "      <th>1</th>\n",
       "      <td>1.0</td>\n",
       "      <td>0.429558</td>\n",
       "      <td>0.570432</td>\n",
       "      <td>Ap24I04</td>\n",
       "      <td>OL</td>\n",
       "      <td>KOALA</td>\n",
       "      <td>yes</td>\n",
       "      <td>Slave</td>\n",
       "      <td>124800</td>\n",
       "      <td>192500</td>\n",
       "      <td>...</td>\n",
       "      <td>-2.708026</td>\n",
       "      <td>-1.546032</td>\n",
       "      <td>-3.401173</td>\n",
       "      <td>-0.289144</td>\n",
       "      <td>0.092352</td>\n",
       "      <td>-0.088909</td>\n",
       "      <td>-0.125661</td>\n",
       "      <td>0.012276</td>\n",
       "      <td>0.059260</td>\n",
       "      <td>-7.380000e-16</td>\n",
       "    </tr>\n",
       "    <tr>\n",
       "      <th>47</th>\n",
       "      <td>0.0</td>\n",
       "      <td>0.623190</td>\n",
       "      <td>0.380600</td>\n",
       "      <td>Ap27N10</td>\n",
       "      <td>OL</td>\n",
       "      <td>KIT</td>\n",
       "      <td>no</td>\n",
       "      <td>Slave</td>\n",
       "      <td>203300</td>\n",
       "      <td>193400</td>\n",
       "      <td>...</td>\n",
       "      <td>-3.772176</td>\n",
       "      <td>-1.490131</td>\n",
       "      <td>-3.303616</td>\n",
       "      <td>-0.162414</td>\n",
       "      <td>-0.181030</td>\n",
       "      <td>0.035914</td>\n",
       "      <td>-0.014911</td>\n",
       "      <td>-0.021236</td>\n",
       "      <td>0.018884</td>\n",
       "      <td>-3.780000e-16</td>\n",
       "    </tr>\n",
       "    <tr>\n",
       "      <th>16</th>\n",
       "      <td>1.0</td>\n",
       "      <td>0.419991</td>\n",
       "      <td>0.579774</td>\n",
       "      <td>Ap24I19</td>\n",
       "      <td>OL</td>\n",
       "      <td>KOALA</td>\n",
       "      <td>yes</td>\n",
       "      <td>Slave</td>\n",
       "      <td>145400</td>\n",
       "      <td>192900</td>\n",
       "      <td>...</td>\n",
       "      <td>-3.327781</td>\n",
       "      <td>-1.643304</td>\n",
       "      <td>-3.187594</td>\n",
       "      <td>-0.133282</td>\n",
       "      <td>-0.087685</td>\n",
       "      <td>-0.131897</td>\n",
       "      <td>-0.005411</td>\n",
       "      <td>0.056039</td>\n",
       "      <td>-0.012335</td>\n",
       "      <td>-9.540000e-17</td>\n",
       "    </tr>\n",
       "    <tr>\n",
       "      <th>60</th>\n",
       "      <td>0.0</td>\n",
       "      <td>0.558228</td>\n",
       "      <td>0.444499</td>\n",
       "      <td>Ap24J03</td>\n",
       "      <td>OL</td>\n",
       "      <td>NEW ELANDS</td>\n",
       "      <td>no</td>\n",
       "      <td>Kaapvaal</td>\n",
       "      <td>156500</td>\n",
       "      <td>196400</td>\n",
       "      <td>...</td>\n",
       "      <td>-2.437925</td>\n",
       "      <td>-1.796816</td>\n",
       "      <td>-3.424404</td>\n",
       "      <td>-0.274653</td>\n",
       "      <td>0.187637</td>\n",
       "      <td>-0.096143</td>\n",
       "      <td>0.019738</td>\n",
       "      <td>0.006930</td>\n",
       "      <td>0.007591</td>\n",
       "      <td>-7.180000e-16</td>\n",
       "    </tr>\n",
       "  </tbody>\n",
       "</table>\n",
       "<p>5 rows × 26 columns</p>\n",
       "</div>"
      ],
      "text/plain": [
       "    predict_class   prob_no  prob_yes       Sample Mineral        Pipe  \\\n",
       "39            0.0  0.805534  0.199946      Ap24H22      OL       PANDA   \n",
       "1             1.0  0.429558  0.570432      Ap24I04      OL       KOALA   \n",
       "47            0.0  0.623190  0.380600      Ap27N10      OL         KIT   \n",
       "16            1.0  0.419991  0.579774      Ap24I19      OL       KOALA   \n",
       "60            0.0  0.558228  0.444499      Ap24J03      OL  NEW ELANDS   \n",
       "\n",
       "   Diamond_High    Craton      Mg      Si  ...    Cr_clr    Mn_clr    Co_clr  \\\n",
       "39          yes     Slave  197500  191600  ... -4.309557 -1.153287 -3.197262   \n",
       "1           yes     Slave  124800  192500  ... -2.708026 -1.546032 -3.401173   \n",
       "47           no     Slave  203300  193400  ... -3.772176 -1.490131 -3.303616   \n",
       "16          yes     Slave  145400  192900  ... -3.327781 -1.643304 -3.187594   \n",
       "60           no  Kaapvaal  156500  196400  ... -2.437925 -1.796816 -3.424404   \n",
       "\n",
       "      Ni_clr        V1        V2        V3        V4        V5            V6  \n",
       "39 -0.195961 -0.344597  0.069625 -0.186934 -0.046512  0.001308  1.470000e-16  \n",
       "1  -0.289144  0.092352 -0.088909 -0.125661  0.012276  0.059260 -7.380000e-16  \n",
       "47 -0.162414 -0.181030  0.035914 -0.014911 -0.021236  0.018884 -3.780000e-16  \n",
       "16 -0.133282 -0.087685 -0.131897 -0.005411  0.056039 -0.012335 -9.540000e-17  \n",
       "60 -0.274653  0.187637 -0.096143  0.019738  0.006930  0.007591 -7.180000e-16  \n",
       "\n",
       "[5 rows x 26 columns]"
      ]
     },
     "execution_count": 70,
     "metadata": {},
     "output_type": "execute_result"
    }
   ],
   "source": [
    "OL_testresults2 = predictions2.join([probabilities2, df])\n",
    "OL_testresults2.to_csv(\"OL_model3results_all.csv\")\n",
    "OL_testresults2.head(5)"
   ]
  },
  {
   "cell_type": "markdown",
   "metadata": {},
   "source": [
    "# Save the Model"
   ]
  },
  {
   "cell_type": "markdown",
   "metadata": {},
   "source": [
    "**Serialize model to JSON for later use.**"
   ]
  },
  {
   "cell_type": "code",
   "execution_count": 71,
   "metadata": {},
   "outputs": [
    {
     "name": "stdout",
     "output_type": "stream",
     "text": [
      "Saved model to disk\n"
     ]
    }
   ],
   "source": [
    "# save model and architecture to single file\n",
    "model_3.save(\"model_3_OL.h5\")\n",
    "print(\"Saved model to disk\")"
   ]
  },
  {
   "cell_type": "markdown",
   "metadata": {},
   "source": [
    "# Run Model on More Data\n",
    "\n",
    "**Load JSON and create the model**"
   ]
  },
  {
   "cell_type": "code",
   "execution_count": 72,
   "metadata": {},
   "outputs": [
    {
     "name": "stdout",
     "output_type": "stream",
     "text": [
      "Loaded model from disk\n"
     ]
    }
   ],
   "source": [
    "# load and evaluate a saved model\n",
    "from numpy import loadtxt\n",
    "from keras.models import load_model\n",
    "\n",
    "# load model\n",
    "model_3_OL = load_model('model_3_OL.h5')\n",
    "print(\"Loaded model from disk\")"
   ]
  },
  {
   "cell_type": "markdown",
   "metadata": {},
   "source": [
    "# Prediction with New Data with Unknown Classifier (y)"
   ]
  },
  {
   "cell_type": "markdown",
   "metadata": {},
   "source": [
    "**Using X_test data and predicting y. Make sure the X data is scaled the same as the data used in the model.**\n",
    "**Predict y.**"
   ]
  },
  {
   "cell_type": "code",
   "execution_count": 73,
   "metadata": {},
   "outputs": [
    {
     "data": {
      "text/plain": [
       "array([[0.8055343 , 0.1999465 ],\n",
       "       [0.42955834, 0.570432  ],\n",
       "       [0.62319016, 0.38059962],\n",
       "       [0.41999137, 0.57977426],\n",
       "       [0.55822754, 0.44449893],\n",
       "       [0.5731206 , 0.4300772 ],\n",
       "       [0.4352315 , 0.56485176],\n",
       "       [0.46391928, 0.5367138 ],\n",
       "       [0.46266794, 0.5381677 ],\n",
       "       [0.7425389 , 0.26307693],\n",
       "       [0.58272785, 0.42052078],\n",
       "       [0.608502  , 0.39549977],\n",
       "       [0.38220346, 0.6167185 ],\n",
       "       [0.44765007, 0.5528437 ],\n",
       "       [0.89773464, 0.10657045],\n",
       "       [0.5656185 , 0.4372532 ],\n",
       "       [0.8361201 , 0.1697762 ],\n",
       "       [0.5954897 , 0.40773606],\n",
       "       [0.4379242 , 0.56231683],\n",
       "       [0.56713575, 0.43603122],\n",
       "       [0.62613547, 0.37803042],\n",
       "       [0.85328066, 0.15195882],\n",
       "       [0.54299545, 0.459338  ]], dtype=float32)"
      ]
     },
     "execution_count": 73,
     "metadata": {},
     "output_type": "execute_result"
    }
   ],
   "source": [
    "y_new = model_3_OL.predict(X_test)\n",
    "y_new"
   ]
  },
  {
   "cell_type": "markdown",
   "metadata": {},
   "source": [
    "**Print the input data and the predicted values. Replace X_test with the new data with an unknown classifier.**"
   ]
  },
  {
   "cell_type": "code",
   "execution_count": 74,
   "metadata": {},
   "outputs": [
    {
     "name": "stderr",
     "output_type": "stream",
     "text": [
      "G:\\Anaconda\\lib\\site-packages\\tensorflow\\python\\keras\\engine\\sequential.py:450: UserWarning: `model.predict_classes()` is deprecated and will be removed after 2021-01-01. Please use instead:* `np.argmax(model.predict(x), axis=-1)`,   if your model does multi-class classification   (e.g. if it uses a `softmax` last-layer activation).* `(model.predict(x) > 0.5).astype(\"int32\")`,   if your model does binary classification   (e.g. if it uses a `sigmoid` last-layer activation).\n",
      "  warnings.warn('`model.predict_classes()` is deprecated and '\n"
     ]
    }
   ],
   "source": [
    "predictions_new =  model_3_OL.predict_classes(X_test)\n",
    "probabilities_new = model_3_OL.predict(X_test)"
   ]
  },
  {
   "cell_type": "code",
   "execution_count": 75,
   "metadata": {},
   "outputs": [
    {
     "data": {
      "text/html": [
       "<div>\n",
       "<style scoped>\n",
       "    .dataframe tbody tr th:only-of-type {\n",
       "        vertical-align: middle;\n",
       "    }\n",
       "\n",
       "    .dataframe tbody tr th {\n",
       "        vertical-align: top;\n",
       "    }\n",
       "\n",
       "    .dataframe thead th {\n",
       "        text-align: right;\n",
       "    }\n",
       "</style>\n",
       "<table border=\"1\" class=\"dataframe\">\n",
       "  <thead>\n",
       "    <tr style=\"text-align: right;\">\n",
       "      <th></th>\n",
       "      <th>prob_no</th>\n",
       "      <th>prob_yes</th>\n",
       "    </tr>\n",
       "  </thead>\n",
       "  <tbody>\n",
       "    <tr>\n",
       "      <th>39</th>\n",
       "      <td>0.805534</td>\n",
       "      <td>0.199946</td>\n",
       "    </tr>\n",
       "    <tr>\n",
       "      <th>1</th>\n",
       "      <td>0.429558</td>\n",
       "      <td>0.570432</td>\n",
       "    </tr>\n",
       "    <tr>\n",
       "      <th>47</th>\n",
       "      <td>0.623190</td>\n",
       "      <td>0.380600</td>\n",
       "    </tr>\n",
       "    <tr>\n",
       "      <th>16</th>\n",
       "      <td>0.419991</td>\n",
       "      <td>0.579774</td>\n",
       "    </tr>\n",
       "    <tr>\n",
       "      <th>60</th>\n",
       "      <td>0.558228</td>\n",
       "      <td>0.444499</td>\n",
       "    </tr>\n",
       "  </tbody>\n",
       "</table>\n",
       "</div>"
      ],
      "text/plain": [
       "     prob_no  prob_yes\n",
       "39  0.805534  0.199946\n",
       "1   0.429558  0.570432\n",
       "47  0.623190  0.380600\n",
       "16  0.419991  0.579774\n",
       "60  0.558228  0.444499"
      ]
     },
     "execution_count": 75,
     "metadata": {},
     "output_type": "execute_result"
    }
   ],
   "source": [
    "predictions_new2 = pd.DataFrame(data = predictions_new,index = X_test.index.copy())\n",
    "predictions_new2.columns = ['predict_class']\n",
    "probabilities_new2 = pd.DataFrame(data = probabilities_new,index = X_test.index.copy())\n",
    "probabilities_new2.columns = ['prob_no', 'prob_yes']\n",
    "probabilities_new2.head(5)"
   ]
  },
  {
   "cell_type": "markdown",
   "metadata": {},
   "source": [
    "**Generate accuracy prediction as dataframe object for importing into other programs.**"
   ]
  },
  {
   "cell_type": "code",
   "execution_count": 76,
   "metadata": {},
   "outputs": [
    {
     "data": {
      "text/html": [
       "<div>\n",
       "<style scoped>\n",
       "    .dataframe tbody tr th:only-of-type {\n",
       "        vertical-align: middle;\n",
       "    }\n",
       "\n",
       "    .dataframe tbody tr th {\n",
       "        vertical-align: top;\n",
       "    }\n",
       "\n",
       "    .dataframe thead th {\n",
       "        text-align: right;\n",
       "    }\n",
       "</style>\n",
       "<table border=\"1\" class=\"dataframe\">\n",
       "  <thead>\n",
       "    <tr style=\"text-align: right;\">\n",
       "      <th></th>\n",
       "      <th>predict_class</th>\n",
       "      <th>prob_no</th>\n",
       "      <th>prob_yes</th>\n",
       "      <th>Sample</th>\n",
       "      <th>Mineral</th>\n",
       "      <th>Pipe</th>\n",
       "      <th>Diamond_High</th>\n",
       "      <th>Craton</th>\n",
       "      <th>Mg</th>\n",
       "      <th>Si</th>\n",
       "      <th>...</th>\n",
       "      <th>Cr_clr</th>\n",
       "      <th>Mn_clr</th>\n",
       "      <th>Co_clr</th>\n",
       "      <th>Ni_clr</th>\n",
       "      <th>V1</th>\n",
       "      <th>V2</th>\n",
       "      <th>V3</th>\n",
       "      <th>V4</th>\n",
       "      <th>V5</th>\n",
       "      <th>V6</th>\n",
       "    </tr>\n",
       "  </thead>\n",
       "  <tbody>\n",
       "    <tr>\n",
       "      <th>39</th>\n",
       "      <td>0.0</td>\n",
       "      <td>0.805534</td>\n",
       "      <td>0.199946</td>\n",
       "      <td>Ap24H22</td>\n",
       "      <td>OL</td>\n",
       "      <td>PANDA</td>\n",
       "      <td>yes</td>\n",
       "      <td>Slave</td>\n",
       "      <td>197500</td>\n",
       "      <td>191600</td>\n",
       "      <td>...</td>\n",
       "      <td>-4.309557</td>\n",
       "      <td>-1.153287</td>\n",
       "      <td>-3.197262</td>\n",
       "      <td>-0.195961</td>\n",
       "      <td>-0.344597</td>\n",
       "      <td>0.069625</td>\n",
       "      <td>-0.186934</td>\n",
       "      <td>-0.046512</td>\n",
       "      <td>0.001308</td>\n",
       "      <td>1.470000e-16</td>\n",
       "    </tr>\n",
       "    <tr>\n",
       "      <th>1</th>\n",
       "      <td>1.0</td>\n",
       "      <td>0.429558</td>\n",
       "      <td>0.570432</td>\n",
       "      <td>Ap24I04</td>\n",
       "      <td>OL</td>\n",
       "      <td>KOALA</td>\n",
       "      <td>yes</td>\n",
       "      <td>Slave</td>\n",
       "      <td>124800</td>\n",
       "      <td>192500</td>\n",
       "      <td>...</td>\n",
       "      <td>-2.708026</td>\n",
       "      <td>-1.546032</td>\n",
       "      <td>-3.401173</td>\n",
       "      <td>-0.289144</td>\n",
       "      <td>0.092352</td>\n",
       "      <td>-0.088909</td>\n",
       "      <td>-0.125661</td>\n",
       "      <td>0.012276</td>\n",
       "      <td>0.059260</td>\n",
       "      <td>-7.380000e-16</td>\n",
       "    </tr>\n",
       "    <tr>\n",
       "      <th>47</th>\n",
       "      <td>0.0</td>\n",
       "      <td>0.623190</td>\n",
       "      <td>0.380600</td>\n",
       "      <td>Ap27N10</td>\n",
       "      <td>OL</td>\n",
       "      <td>KIT</td>\n",
       "      <td>no</td>\n",
       "      <td>Slave</td>\n",
       "      <td>203300</td>\n",
       "      <td>193400</td>\n",
       "      <td>...</td>\n",
       "      <td>-3.772176</td>\n",
       "      <td>-1.490131</td>\n",
       "      <td>-3.303616</td>\n",
       "      <td>-0.162414</td>\n",
       "      <td>-0.181030</td>\n",
       "      <td>0.035914</td>\n",
       "      <td>-0.014911</td>\n",
       "      <td>-0.021236</td>\n",
       "      <td>0.018884</td>\n",
       "      <td>-3.780000e-16</td>\n",
       "    </tr>\n",
       "    <tr>\n",
       "      <th>16</th>\n",
       "      <td>1.0</td>\n",
       "      <td>0.419991</td>\n",
       "      <td>0.579774</td>\n",
       "      <td>Ap24I19</td>\n",
       "      <td>OL</td>\n",
       "      <td>KOALA</td>\n",
       "      <td>yes</td>\n",
       "      <td>Slave</td>\n",
       "      <td>145400</td>\n",
       "      <td>192900</td>\n",
       "      <td>...</td>\n",
       "      <td>-3.327781</td>\n",
       "      <td>-1.643304</td>\n",
       "      <td>-3.187594</td>\n",
       "      <td>-0.133282</td>\n",
       "      <td>-0.087685</td>\n",
       "      <td>-0.131897</td>\n",
       "      <td>-0.005411</td>\n",
       "      <td>0.056039</td>\n",
       "      <td>-0.012335</td>\n",
       "      <td>-9.540000e-17</td>\n",
       "    </tr>\n",
       "    <tr>\n",
       "      <th>60</th>\n",
       "      <td>0.0</td>\n",
       "      <td>0.558228</td>\n",
       "      <td>0.444499</td>\n",
       "      <td>Ap24J03</td>\n",
       "      <td>OL</td>\n",
       "      <td>NEW ELANDS</td>\n",
       "      <td>no</td>\n",
       "      <td>Kaapvaal</td>\n",
       "      <td>156500</td>\n",
       "      <td>196400</td>\n",
       "      <td>...</td>\n",
       "      <td>-2.437925</td>\n",
       "      <td>-1.796816</td>\n",
       "      <td>-3.424404</td>\n",
       "      <td>-0.274653</td>\n",
       "      <td>0.187637</td>\n",
       "      <td>-0.096143</td>\n",
       "      <td>0.019738</td>\n",
       "      <td>0.006930</td>\n",
       "      <td>0.007591</td>\n",
       "      <td>-7.180000e-16</td>\n",
       "    </tr>\n",
       "  </tbody>\n",
       "</table>\n",
       "<p>5 rows × 26 columns</p>\n",
       "</div>"
      ],
      "text/plain": [
       "    predict_class   prob_no  prob_yes       Sample Mineral        Pipe  \\\n",
       "39            0.0  0.805534  0.199946      Ap24H22      OL       PANDA   \n",
       "1             1.0  0.429558  0.570432      Ap24I04      OL       KOALA   \n",
       "47            0.0  0.623190  0.380600      Ap27N10      OL         KIT   \n",
       "16            1.0  0.419991  0.579774      Ap24I19      OL       KOALA   \n",
       "60            0.0  0.558228  0.444499      Ap24J03      OL  NEW ELANDS   \n",
       "\n",
       "   Diamond_High    Craton      Mg      Si  ...    Cr_clr    Mn_clr    Co_clr  \\\n",
       "39          yes     Slave  197500  191600  ... -4.309557 -1.153287 -3.197262   \n",
       "1           yes     Slave  124800  192500  ... -2.708026 -1.546032 -3.401173   \n",
       "47           no     Slave  203300  193400  ... -3.772176 -1.490131 -3.303616   \n",
       "16          yes     Slave  145400  192900  ... -3.327781 -1.643304 -3.187594   \n",
       "60           no  Kaapvaal  156500  196400  ... -2.437925 -1.796816 -3.424404   \n",
       "\n",
       "      Ni_clr        V1        V2        V3        V4        V5            V6  \n",
       "39 -0.195961 -0.344597  0.069625 -0.186934 -0.046512  0.001308  1.470000e-16  \n",
       "1  -0.289144  0.092352 -0.088909 -0.125661  0.012276  0.059260 -7.380000e-16  \n",
       "47 -0.162414 -0.181030  0.035914 -0.014911 -0.021236  0.018884 -3.780000e-16  \n",
       "16 -0.133282 -0.087685 -0.131897 -0.005411  0.056039 -0.012335 -9.540000e-17  \n",
       "60 -0.274653  0.187637 -0.096143  0.019738  0.006930  0.007591 -7.180000e-16  \n",
       "\n",
       "[5 rows x 26 columns]"
      ]
     },
     "execution_count": 76,
     "metadata": {},
     "output_type": "execute_result"
    }
   ],
   "source": [
    "OL_newresults = predictions_new2.join([probabilities_new2, df])\n",
    "OL_newresults.to_csv(\"OL_newresults.csv\")\n",
    "OL_newresults.head(5)"
   ]
  },
  {
   "cell_type": "markdown",
   "metadata": {},
   "source": [
    "## Re-Split Data and Verify Results"
   ]
  },
  {
   "cell_type": "code",
   "execution_count": 77,
   "metadata": {},
   "outputs": [
    {
     "data": {
      "text/plain": [
       "1"
      ]
     },
     "execution_count": 77,
     "metadata": {},
     "output_type": "execute_result"
    }
   ],
   "source": [
    "sss2 = StratifiedShuffleSplit(n_splits=1, test_size=0.5, random_state=333)\n",
    "sss2.get_n_splits(X, y['Diamond_High'])"
   ]
  },
  {
   "cell_type": "code",
   "execution_count": 78,
   "metadata": {},
   "outputs": [
    {
     "name": "stdout",
     "output_type": "stream",
     "text": [
      "StratifiedShuffleSplit(n_splits=1, random_state=333, test_size=0.5,\n",
      "            train_size=None)\n"
     ]
    }
   ],
   "source": [
    "print(sss)"
   ]
  },
  {
   "cell_type": "code",
   "execution_count": 79,
   "metadata": {},
   "outputs": [
    {
     "name": "stdout",
     "output_type": "stream",
     "text": [
      "TRAIN: [76 42 36 41 29 67 50 33 70 32 58 44 18 37 77 56 24  5 15 61 54 74  8  0\n",
      " 55 81 34 30 78 17  3 45 23 21 62  6 73 64 89 57 14 51 72 31 46 40] TESTVAL: [71 66 75 52 13 88 79 22 12 48 53  4 84 65 82 19  9 63 39 68 90 80 47 85\n",
      " 86 28  2 20 10 83 43 91  7 60 38 59 27  1 35 26 69 49 25 11 16 87]\n"
     ]
    }
   ],
   "source": [
    "for train_index, test_index in sss2.split(X, y):\n",
    "     print(\"TRAIN:\", train_index, \"TESTVAL:\", test_index)\n",
    "     X_train2, X_testval2 = X.iloc[train_index], X.iloc[test_index]\n",
    "     y_train2, y_testval2 = y.iloc[train_index], y.iloc[test_index]"
   ]
  },
  {
   "cell_type": "markdown",
   "metadata": {},
   "source": [
    "**Split testval into test and validation sets**"
   ]
  },
  {
   "cell_type": "code",
   "execution_count": 80,
   "metadata": {},
   "outputs": [
    {
     "name": "stdout",
     "output_type": "stream",
     "text": [
      "TEST: [18 37 22 44 33 35 16 17 43  2  1 14 28 32 23  6 27 15 36 12  5  9  0] VAL: [39 45  4 11 42 41  3 38 40 19 34 26 24 21 13 20 10  7 31  8 30 29 25]\n"
     ]
    }
   ],
   "source": [
    "for train_index, test_index in sss.split(X_testval2, y_testval2):\n",
    "     print(\"TEST:\", train_index, \"VAL:\", test_index)\n",
    "     X_test2, X_val2 = X_testval2.iloc[train_index], X_testval2.iloc[test_index]\n",
    "     y_test2, y_val2 = y_testval2.iloc[train_index], y_testval2.iloc[test_index]"
   ]
  },
  {
   "cell_type": "code",
   "execution_count": 81,
   "metadata": {},
   "outputs": [
    {
     "data": {
      "text/html": [
       "<div>\n",
       "<style scoped>\n",
       "    .dataframe tbody tr th:only-of-type {\n",
       "        vertical-align: middle;\n",
       "    }\n",
       "\n",
       "    .dataframe tbody tr th {\n",
       "        vertical-align: top;\n",
       "    }\n",
       "\n",
       "    .dataframe thead th {\n",
       "        text-align: right;\n",
       "    }\n",
       "</style>\n",
       "<table border=\"1\" class=\"dataframe\">\n",
       "  <thead>\n",
       "    <tr style=\"text-align: right;\">\n",
       "      <th></th>\n",
       "      <th>Diamond_High</th>\n",
       "    </tr>\n",
       "  </thead>\n",
       "  <tbody>\n",
       "    <tr>\n",
       "      <th>39</th>\n",
       "      <td>yes</td>\n",
       "    </tr>\n",
       "    <tr>\n",
       "      <th>1</th>\n",
       "      <td>yes</td>\n",
       "    </tr>\n",
       "    <tr>\n",
       "      <th>47</th>\n",
       "      <td>no</td>\n",
       "    </tr>\n",
       "    <tr>\n",
       "      <th>16</th>\n",
       "      <td>yes</td>\n",
       "    </tr>\n",
       "    <tr>\n",
       "      <th>60</th>\n",
       "      <td>no</td>\n",
       "    </tr>\n",
       "  </tbody>\n",
       "</table>\n",
       "</div>"
      ],
      "text/plain": [
       "   Diamond_High\n",
       "39          yes\n",
       "1           yes\n",
       "47           no\n",
       "16          yes\n",
       "60           no"
      ]
     },
     "execution_count": 81,
     "metadata": {},
     "output_type": "execute_result"
    }
   ],
   "source": [
    "y_test2.head(5)"
   ]
  },
  {
   "cell_type": "code",
   "execution_count": 82,
   "metadata": {},
   "outputs": [
    {
     "data": {
      "text/html": [
       "<div>\n",
       "<style scoped>\n",
       "    .dataframe tbody tr th:only-of-type {\n",
       "        vertical-align: middle;\n",
       "    }\n",
       "\n",
       "    .dataframe tbody tr th {\n",
       "        vertical-align: top;\n",
       "    }\n",
       "\n",
       "    .dataframe thead th {\n",
       "        text-align: right;\n",
       "    }\n",
       "</style>\n",
       "<table border=\"1\" class=\"dataframe\">\n",
       "  <thead>\n",
       "    <tr style=\"text-align: right;\">\n",
       "      <th></th>\n",
       "      <th>Diamond_High</th>\n",
       "    </tr>\n",
       "  </thead>\n",
       "  <tbody>\n",
       "    <tr>\n",
       "      <th>26</th>\n",
       "      <td>yes</td>\n",
       "    </tr>\n",
       "    <tr>\n",
       "      <th>87</th>\n",
       "      <td>no</td>\n",
       "    </tr>\n",
       "    <tr>\n",
       "      <th>13</th>\n",
       "      <td>yes</td>\n",
       "    </tr>\n",
       "    <tr>\n",
       "      <th>4</th>\n",
       "      <td>yes</td>\n",
       "    </tr>\n",
       "    <tr>\n",
       "      <th>25</th>\n",
       "      <td>yes</td>\n",
       "    </tr>\n",
       "  </tbody>\n",
       "</table>\n",
       "</div>"
      ],
      "text/plain": [
       "   Diamond_High\n",
       "26          yes\n",
       "87           no\n",
       "13          yes\n",
       "4           yes\n",
       "25          yes"
      ]
     },
     "execution_count": 82,
     "metadata": {},
     "output_type": "execute_result"
    }
   ],
   "source": [
    "y_val2.head(5)"
   ]
  },
  {
   "cell_type": "markdown",
   "metadata": {},
   "source": [
    "**Next encode the categorical variablesfor diamond content, yes and no, using one hot vector multilabel. The data is split first then one hot encoded since the split function cannot handle more than one Y column.**"
   ]
  },
  {
   "cell_type": "code",
   "execution_count": 83,
   "metadata": {},
   "outputs": [
    {
     "data": {
      "text/html": [
       "<div>\n",
       "<style scoped>\n",
       "    .dataframe tbody tr th:only-of-type {\n",
       "        vertical-align: middle;\n",
       "    }\n",
       "\n",
       "    .dataframe tbody tr th {\n",
       "        vertical-align: top;\n",
       "    }\n",
       "\n",
       "    .dataframe thead th {\n",
       "        text-align: right;\n",
       "    }\n",
       "</style>\n",
       "<table border=\"1\" class=\"dataframe\">\n",
       "  <thead>\n",
       "    <tr style=\"text-align: right;\">\n",
       "      <th></th>\n",
       "      <th>diamond_no</th>\n",
       "      <th>diamond_yes</th>\n",
       "    </tr>\n",
       "  </thead>\n",
       "  <tbody>\n",
       "    <tr>\n",
       "      <th>76</th>\n",
       "      <td>1</td>\n",
       "      <td>0</td>\n",
       "    </tr>\n",
       "    <tr>\n",
       "      <th>42</th>\n",
       "      <td>1</td>\n",
       "      <td>0</td>\n",
       "    </tr>\n",
       "    <tr>\n",
       "      <th>36</th>\n",
       "      <td>0</td>\n",
       "      <td>1</td>\n",
       "    </tr>\n",
       "    <tr>\n",
       "      <th>41</th>\n",
       "      <td>1</td>\n",
       "      <td>0</td>\n",
       "    </tr>\n",
       "    <tr>\n",
       "      <th>29</th>\n",
       "      <td>0</td>\n",
       "      <td>1</td>\n",
       "    </tr>\n",
       "  </tbody>\n",
       "</table>\n",
       "</div>"
      ],
      "text/plain": [
       "    diamond_no  diamond_yes\n",
       "76           1            0\n",
       "42           1            0\n",
       "36           0            1\n",
       "41           1            0\n",
       "29           0            1"
      ]
     },
     "execution_count": 83,
     "metadata": {},
     "output_type": "execute_result"
    }
   ],
   "source": [
    "y_traindm2 = pd.get_dummies(y_train2['Diamond_High'], prefix = 'diamond')\n",
    "y_traindm2.head(5)"
   ]
  },
  {
   "cell_type": "code",
   "execution_count": 84,
   "metadata": {},
   "outputs": [
    {
     "data": {
      "text/html": [
       "<div>\n",
       "<style scoped>\n",
       "    .dataframe tbody tr th:only-of-type {\n",
       "        vertical-align: middle;\n",
       "    }\n",
       "\n",
       "    .dataframe tbody tr th {\n",
       "        vertical-align: top;\n",
       "    }\n",
       "\n",
       "    .dataframe thead th {\n",
       "        text-align: right;\n",
       "    }\n",
       "</style>\n",
       "<table border=\"1\" class=\"dataframe\">\n",
       "  <thead>\n",
       "    <tr style=\"text-align: right;\">\n",
       "      <th></th>\n",
       "      <th>diamond_no</th>\n",
       "      <th>diamond_yes</th>\n",
       "    </tr>\n",
       "  </thead>\n",
       "  <tbody>\n",
       "    <tr>\n",
       "      <th>26</th>\n",
       "      <td>0</td>\n",
       "      <td>1</td>\n",
       "    </tr>\n",
       "    <tr>\n",
       "      <th>87</th>\n",
       "      <td>1</td>\n",
       "      <td>0</td>\n",
       "    </tr>\n",
       "    <tr>\n",
       "      <th>13</th>\n",
       "      <td>0</td>\n",
       "      <td>1</td>\n",
       "    </tr>\n",
       "    <tr>\n",
       "      <th>4</th>\n",
       "      <td>0</td>\n",
       "      <td>1</td>\n",
       "    </tr>\n",
       "    <tr>\n",
       "      <th>25</th>\n",
       "      <td>0</td>\n",
       "      <td>1</td>\n",
       "    </tr>\n",
       "  </tbody>\n",
       "</table>\n",
       "</div>"
      ],
      "text/plain": [
       "    diamond_no  diamond_yes\n",
       "26           0            1\n",
       "87           1            0\n",
       "13           0            1\n",
       "4            0            1\n",
       "25           0            1"
      ]
     },
     "execution_count": 84,
     "metadata": {},
     "output_type": "execute_result"
    }
   ],
   "source": [
    "y_valdm2 = pd.get_dummies(y_val2['Diamond_High'], prefix = 'diamond')\n",
    "y_valdm2.head(5)"
   ]
  },
  {
   "cell_type": "code",
   "execution_count": 85,
   "metadata": {},
   "outputs": [
    {
     "data": {
      "text/html": [
       "<div>\n",
       "<style scoped>\n",
       "    .dataframe tbody tr th:only-of-type {\n",
       "        vertical-align: middle;\n",
       "    }\n",
       "\n",
       "    .dataframe tbody tr th {\n",
       "        vertical-align: top;\n",
       "    }\n",
       "\n",
       "    .dataframe thead th {\n",
       "        text-align: right;\n",
       "    }\n",
       "</style>\n",
       "<table border=\"1\" class=\"dataframe\">\n",
       "  <thead>\n",
       "    <tr style=\"text-align: right;\">\n",
       "      <th></th>\n",
       "      <th>diamond_no</th>\n",
       "      <th>diamond_yes</th>\n",
       "    </tr>\n",
       "  </thead>\n",
       "  <tbody>\n",
       "    <tr>\n",
       "      <th>39</th>\n",
       "      <td>0</td>\n",
       "      <td>1</td>\n",
       "    </tr>\n",
       "    <tr>\n",
       "      <th>1</th>\n",
       "      <td>0</td>\n",
       "      <td>1</td>\n",
       "    </tr>\n",
       "    <tr>\n",
       "      <th>47</th>\n",
       "      <td>1</td>\n",
       "      <td>0</td>\n",
       "    </tr>\n",
       "    <tr>\n",
       "      <th>16</th>\n",
       "      <td>0</td>\n",
       "      <td>1</td>\n",
       "    </tr>\n",
       "    <tr>\n",
       "      <th>60</th>\n",
       "      <td>1</td>\n",
       "      <td>0</td>\n",
       "    </tr>\n",
       "  </tbody>\n",
       "</table>\n",
       "</div>"
      ],
      "text/plain": [
       "    diamond_no  diamond_yes\n",
       "39           0            1\n",
       "1            0            1\n",
       "47           1            0\n",
       "16           0            1\n",
       "60           1            0"
      ]
     },
     "execution_count": 85,
     "metadata": {},
     "output_type": "execute_result"
    }
   ],
   "source": [
    "y_testdm2 = pd.get_dummies(y_test2['Diamond_High'], prefix = 'diamond')\n",
    "y_testdm2.head(5)"
   ]
  },
  {
   "cell_type": "code",
   "execution_count": 86,
   "metadata": {},
   "outputs": [
    {
     "data": {
      "text/html": [
       "<div>\n",
       "<style scoped>\n",
       "    .dataframe tbody tr th:only-of-type {\n",
       "        vertical-align: middle;\n",
       "    }\n",
       "\n",
       "    .dataframe tbody tr th {\n",
       "        vertical-align: top;\n",
       "    }\n",
       "\n",
       "    .dataframe thead th {\n",
       "        text-align: right;\n",
       "    }\n",
       "</style>\n",
       "<table border=\"1\" class=\"dataframe\">\n",
       "  <thead>\n",
       "    <tr style=\"text-align: right;\">\n",
       "      <th></th>\n",
       "      <th>Mg_clr</th>\n",
       "      <th>Si_clr</th>\n",
       "      <th>Cr_clr</th>\n",
       "      <th>Mn_clr</th>\n",
       "      <th>Co_clr</th>\n",
       "      <th>Ni_clr</th>\n",
       "    </tr>\n",
       "  </thead>\n",
       "  <tbody>\n",
       "    <tr>\n",
       "      <th>26</th>\n",
       "      <td>3.875041</td>\n",
       "      <td>4.216905</td>\n",
       "      <td>-2.774951</td>\n",
       "      <td>-1.599329</td>\n",
       "      <td>-3.414126</td>\n",
       "      <td>-0.303540</td>\n",
       "    </tr>\n",
       "    <tr>\n",
       "      <th>87</th>\n",
       "      <td>4.385036</td>\n",
       "      <td>4.342563</td>\n",
       "      <td>-3.160029</td>\n",
       "      <td>-1.889238</td>\n",
       "      <td>-3.431611</td>\n",
       "      <td>-0.246722</td>\n",
       "    </tr>\n",
       "    <tr>\n",
       "      <th>13</th>\n",
       "      <td>4.042307</td>\n",
       "      <td>4.144145</td>\n",
       "      <td>-2.791052</td>\n",
       "      <td>-1.766644</td>\n",
       "      <td>-3.378197</td>\n",
       "      <td>-0.250559</td>\n",
       "    </tr>\n",
       "    <tr>\n",
       "      <th>4</th>\n",
       "      <td>3.732936</td>\n",
       "      <td>4.109973</td>\n",
       "      <td>-2.419458</td>\n",
       "      <td>-1.502110</td>\n",
       "      <td>-3.450560</td>\n",
       "      <td>-0.470781</td>\n",
       "    </tr>\n",
       "    <tr>\n",
       "      <th>25</th>\n",
       "      <td>4.051697</td>\n",
       "      <td>4.071551</td>\n",
       "      <td>-2.129951</td>\n",
       "      <td>-1.490963</td>\n",
       "      <td>-3.586516</td>\n",
       "      <td>-0.915818</td>\n",
       "    </tr>\n",
       "  </tbody>\n",
       "</table>\n",
       "</div>"
      ],
      "text/plain": [
       "      Mg_clr    Si_clr    Cr_clr    Mn_clr    Co_clr    Ni_clr\n",
       "26  3.875041  4.216905 -2.774951 -1.599329 -3.414126 -0.303540\n",
       "87  4.385036  4.342563 -3.160029 -1.889238 -3.431611 -0.246722\n",
       "13  4.042307  4.144145 -2.791052 -1.766644 -3.378197 -0.250559\n",
       "4   3.732936  4.109973 -2.419458 -1.502110 -3.450560 -0.470781\n",
       "25  4.051697  4.071551 -2.129951 -1.490963 -3.586516 -0.915818"
      ]
     },
     "execution_count": 86,
     "metadata": {},
     "output_type": "execute_result"
    }
   ],
   "source": [
    "X_val2.head(5)"
   ]
  },
  {
   "cell_type": "code",
   "execution_count": 87,
   "metadata": {},
   "outputs": [
    {
     "name": "stdout",
     "output_type": "stream",
     "text": [
      "(46, 6) (23, 6) (23, 6)\n",
      "(46, 2) (23, 2) (23, 2)\n"
     ]
    }
   ],
   "source": [
    "print(X_train2.shape, X_val2.shape, X_test2.shape)\n",
    "print(y_traindm2.shape, y_valdm2.shape, y_testdm2.shape)"
   ]
  },
  {
   "cell_type": "markdown",
   "metadata": {},
   "source": [
    "## Evaluate Model 3 with Re-Split Data and Print the Results"
   ]
  },
  {
   "cell_type": "markdown",
   "metadata": {},
   "source": [
    "**Test Accuracy**"
   ]
  },
  {
   "cell_type": "code",
   "execution_count": 88,
   "metadata": {
    "scrolled": true
   },
   "outputs": [
    {
     "name": "stdout",
     "output_type": "stream",
     "text": [
      "VIANN version 1.0 (Wellford + Mean) update per epoch\n",
      "Epoch 1/200\n",
      "1/1 [==============================] - 1s 610ms/step - loss: 0.6464 - accuracy: 0.7391 - val_loss: 0.7262 - val_accuracy: 0.5652\n",
      "Epoch 2/200\n",
      "1/1 [==============================] - 0s 48ms/step - loss: 0.6820 - accuracy: 0.7391 - val_loss: 0.7357 - val_accuracy: 0.5652\n",
      "Epoch 3/200\n",
      "1/1 [==============================] - 0s 38ms/step - loss: 0.6786 - accuracy: 0.6304 - val_loss: 0.7184 - val_accuracy: 0.6522\n",
      "Epoch 4/200\n",
      "1/1 [==============================] - 0s 38ms/step - loss: 0.6572 - accuracy: 0.7609 - val_loss: 0.7044 - val_accuracy: 0.6957\n",
      "Epoch 5/200\n",
      "1/1 [==============================] - 0s 39ms/step - loss: 0.6652 - accuracy: 0.7826 - val_loss: 0.7144 - val_accuracy: 0.6087\n",
      "Epoch 6/200\n",
      "1/1 [==============================] - 0s 38ms/step - loss: 0.6741 - accuracy: 0.7174 - val_loss: 0.7046 - val_accuracy: 0.6522\n",
      "Epoch 7/200\n",
      "1/1 [==============================] - 0s 37ms/step - loss: 0.6444 - accuracy: 0.8261 - val_loss: 0.7025 - val_accuracy: 0.6522\n",
      "Epoch 8/200\n",
      "1/1 [==============================] - 0s 38ms/step - loss: 0.6632 - accuracy: 0.7826 - val_loss: 0.7120 - val_accuracy: 0.6957\n",
      "Epoch 9/200\n",
      "1/1 [==============================] - 0s 37ms/step - loss: 0.6673 - accuracy: 0.7174 - val_loss: 0.7116 - val_accuracy: 0.6522\n",
      "Epoch 10/200\n",
      "1/1 [==============================] - 0s 37ms/step - loss: 0.6710 - accuracy: 0.6957 - val_loss: 0.7062 - val_accuracy: 0.6522\n",
      "Epoch 11/200\n",
      "1/1 [==============================] - 0s 39ms/step - loss: 0.6464 - accuracy: 0.7826 - val_loss: 0.7072 - val_accuracy: 0.6957\n",
      "Epoch 12/200\n",
      "1/1 [==============================] - 0s 37ms/step - loss: 0.6507 - accuracy: 0.7826 - val_loss: 0.7100 - val_accuracy: 0.7391\n",
      "Epoch 13/200\n",
      "1/1 [==============================] - 0s 37ms/step - loss: 0.6667 - accuracy: 0.8261 - val_loss: 0.7085 - val_accuracy: 0.7391\n",
      "Epoch 14/200\n",
      "1/1 [==============================] - 0s 37ms/step - loss: 0.6402 - accuracy: 0.8043 - val_loss: 0.7073 - val_accuracy: 0.6957\n",
      "Epoch 15/200\n",
      "1/1 [==============================] - 0s 37ms/step - loss: 0.6213 - accuracy: 0.8261 - val_loss: 0.7095 - val_accuracy: 0.6087\n",
      "Epoch 16/200\n",
      "1/1 [==============================] - 0s 37ms/step - loss: 0.6687 - accuracy: 0.7609 - val_loss: 0.7117 - val_accuracy: 0.6087\n",
      "Epoch 17/200\n",
      "1/1 [==============================] - 0s 38ms/step - loss: 0.6619 - accuracy: 0.7391 - val_loss: 0.7090 - val_accuracy: 0.6087\n",
      "Epoch 18/200\n",
      "1/1 [==============================] - 0s 37ms/step - loss: 0.6661 - accuracy: 0.7391 - val_loss: 0.7068 - val_accuracy: 0.6522\n",
      "Epoch 19/200\n",
      "1/1 [==============================] - 0s 37ms/step - loss: 0.6421 - accuracy: 0.9130 - val_loss: 0.7068 - val_accuracy: 0.6957\n",
      "Epoch 20/200\n",
      "1/1 [==============================] - 0s 37ms/step - loss: 0.6384 - accuracy: 0.8478 - val_loss: 0.7071 - val_accuracy: 0.6957\n",
      "Epoch 21/200\n",
      "1/1 [==============================] - 0s 37ms/step - loss: 0.6445 - accuracy: 0.8043 - val_loss: 0.7073 - val_accuracy: 0.7391\n",
      "Epoch 22/200\n",
      "1/1 [==============================] - 0s 38ms/step - loss: 0.6491 - accuracy: 0.8261 - val_loss: 0.7077 - val_accuracy: 0.6522\n",
      "Epoch 23/200\n",
      "1/1 [==============================] - 0s 38ms/step - loss: 0.6598 - accuracy: 0.7391 - val_loss: 0.7077 - val_accuracy: 0.6522\n",
      "Epoch 24/200\n",
      "1/1 [==============================] - 0s 37ms/step - loss: 0.6358 - accuracy: 0.7609 - val_loss: 0.7079 - val_accuracy: 0.6522\n",
      "Epoch 25/200\n",
      "1/1 [==============================] - 0s 38ms/step - loss: 0.6262 - accuracy: 0.7609 - val_loss: 0.7079 - val_accuracy: 0.7391\n",
      "Epoch 26/200\n",
      "1/1 [==============================] - 0s 37ms/step - loss: 0.6512 - accuracy: 0.8043 - val_loss: 0.7084 - val_accuracy: 0.6957\n",
      "Epoch 27/200\n",
      "1/1 [==============================] - 0s 37ms/step - loss: 0.6449 - accuracy: 0.7826 - val_loss: 0.7089 - val_accuracy: 0.6957\n",
      "Epoch 28/200\n",
      "1/1 [==============================] - 0s 38ms/step - loss: 0.6545 - accuracy: 0.7826 - val_loss: 0.7094 - val_accuracy: 0.6957\n",
      "Epoch 29/200\n",
      "1/1 [==============================] - 0s 41ms/step - loss: 0.6493 - accuracy: 0.8261 - val_loss: 0.7108 - val_accuracy: 0.6522\n",
      "Epoch 30/200\n",
      "1/1 [==============================] - 0s 40ms/step - loss: 0.6437 - accuracy: 0.8043 - val_loss: 0.7122 - val_accuracy: 0.6522\n",
      "Epoch 31/200\n",
      "1/1 [==============================] - 0s 41ms/step - loss: 0.6592 - accuracy: 0.7174 - val_loss: 0.7121 - val_accuracy: 0.6522\n",
      "Epoch 32/200\n",
      "1/1 [==============================] - 0s 39ms/step - loss: 0.6417 - accuracy: 0.8261 - val_loss: 0.7096 - val_accuracy: 0.6522\n",
      "Epoch 33/200\n",
      "1/1 [==============================] - 0s 39ms/step - loss: 0.6311 - accuracy: 0.8478 - val_loss: 0.7095 - val_accuracy: 0.6957\n",
      "Epoch 34/200\n",
      "1/1 [==============================] - 0s 38ms/step - loss: 0.6261 - accuracy: 0.8261 - val_loss: 0.7103 - val_accuracy: 0.6957\n",
      "Epoch 35/200\n",
      "1/1 [==============================] - 0s 38ms/step - loss: 0.6281 - accuracy: 0.8478 - val_loss: 0.7106 - val_accuracy: 0.6957\n",
      "Epoch 36/200\n",
      "1/1 [==============================] - 0s 39ms/step - loss: 0.6346 - accuracy: 0.8478 - val_loss: 0.7117 - val_accuracy: 0.6087\n",
      "Epoch 37/200\n",
      "1/1 [==============================] - 0s 40ms/step - loss: 0.6337 - accuracy: 0.8696 - val_loss: 0.7138 - val_accuracy: 0.6522\n",
      "Epoch 38/200\n",
      "1/1 [==============================] - 0s 39ms/step - loss: 0.6411 - accuracy: 0.7826 - val_loss: 0.7155 - val_accuracy: 0.6087\n",
      "Epoch 39/200\n",
      "1/1 [==============================] - 0s 39ms/step - loss: 0.6354 - accuracy: 0.8261 - val_loss: 0.7139 - val_accuracy: 0.6087\n",
      "Epoch 40/200\n",
      "1/1 [==============================] - 0s 37ms/step - loss: 0.6501 - accuracy: 0.7826 - val_loss: 0.7133 - val_accuracy: 0.6957\n",
      "Epoch 41/200\n",
      "1/1 [==============================] - 0s 37ms/step - loss: 0.6500 - accuracy: 0.7609 - val_loss: 0.7133 - val_accuracy: 0.6957\n",
      "Epoch 42/200\n",
      "1/1 [==============================] - 0s 38ms/step - loss: 0.6231 - accuracy: 0.8261 - val_loss: 0.7125 - val_accuracy: 0.6957\n",
      "Epoch 43/200\n",
      "1/1 [==============================] - 0s 37ms/step - loss: 0.6347 - accuracy: 0.8043 - val_loss: 0.7124 - val_accuracy: 0.6522\n",
      "Epoch 44/200\n",
      "1/1 [==============================] - 0s 39ms/step - loss: 0.6210 - accuracy: 0.8478 - val_loss: 0.7129 - val_accuracy: 0.6522\n",
      "Epoch 45/200\n",
      "1/1 [==============================] - 0s 37ms/step - loss: 0.6279 - accuracy: 0.8043 - val_loss: 0.7112 - val_accuracy: 0.6957\n",
      "Epoch 46/200\n",
      "1/1 [==============================] - 0s 36ms/step - loss: 0.6365 - accuracy: 0.8043 - val_loss: 0.7107 - val_accuracy: 0.6957\n",
      "Epoch 47/200\n",
      "1/1 [==============================] - 0s 38ms/step - loss: 0.6397 - accuracy: 0.8043 - val_loss: 0.7116 - val_accuracy: 0.6957\n",
      "Epoch 48/200\n",
      "1/1 [==============================] - 0s 37ms/step - loss: 0.6272 - accuracy: 0.8261 - val_loss: 0.7131 - val_accuracy: 0.6957\n",
      "Epoch 49/200\n",
      "1/1 [==============================] - 0s 38ms/step - loss: 0.6239 - accuracy: 0.8696 - val_loss: 0.7147 - val_accuracy: 0.6957\n",
      "Epoch 50/200\n",
      "1/1 [==============================] - 0s 37ms/step - loss: 0.6475 - accuracy: 0.8478 - val_loss: 0.7169 - val_accuracy: 0.6957\n",
      "Epoch 51/200\n",
      "1/1 [==============================] - 0s 37ms/step - loss: 0.6431 - accuracy: 0.8478 - val_loss: 0.7181 - val_accuracy: 0.6957\n",
      "Epoch 52/200\n",
      "1/1 [==============================] - 0s 40ms/step - loss: 0.6391 - accuracy: 0.8261 - val_loss: 0.7196 - val_accuracy: 0.6957\n",
      "Epoch 53/200\n",
      "1/1 [==============================] - 0s 38ms/step - loss: 0.6238 - accuracy: 0.8913 - val_loss: 0.7226 - val_accuracy: 0.6087\n",
      "Epoch 54/200\n",
      "1/1 [==============================] - 0s 40ms/step - loss: 0.6309 - accuracy: 0.8913 - val_loss: 0.7240 - val_accuracy: 0.6522\n",
      "Epoch 55/200\n",
      "1/1 [==============================] - 0s 39ms/step - loss: 0.6448 - accuracy: 0.7609 - val_loss: 0.7221 - val_accuracy: 0.6087\n",
      "Epoch 56/200\n",
      "1/1 [==============================] - 0s 37ms/step - loss: 0.6491 - accuracy: 0.7609 - val_loss: 0.7195 - val_accuracy: 0.6957\n",
      "Epoch 57/200\n",
      "1/1 [==============================] - 0s 42ms/step - loss: 0.6517 - accuracy: 0.8043 - val_loss: 0.7188 - val_accuracy: 0.6957\n",
      "Epoch 58/200\n",
      "1/1 [==============================] - 0s 41ms/step - loss: 0.6104 - accuracy: 0.8696 - val_loss: 0.7189 - val_accuracy: 0.6957\n"
     ]
    },
    {
     "name": "stdout",
     "output_type": "stream",
     "text": [
      "Epoch 59/200\n",
      "1/1 [==============================] - 0s 36ms/step - loss: 0.6266 - accuracy: 0.8478 - val_loss: 0.7209 - val_accuracy: 0.6957\n",
      "Epoch 60/200\n",
      "1/1 [==============================] - 0s 39ms/step - loss: 0.6230 - accuracy: 0.8696 - val_loss: 0.7225 - val_accuracy: 0.6522\n",
      "Epoch 61/200\n",
      "1/1 [==============================] - 0s 37ms/step - loss: 0.6210 - accuracy: 0.8478 - val_loss: 0.7235 - val_accuracy: 0.6522\n",
      "Epoch 62/200\n",
      "1/1 [==============================] - 0s 36ms/step - loss: 0.6254 - accuracy: 0.8696 - val_loss: 0.7238 - val_accuracy: 0.6957\n",
      "Epoch 63/200\n",
      "1/1 [==============================] - 0s 37ms/step - loss: 0.6300 - accuracy: 0.8261 - val_loss: 0.7228 - val_accuracy: 0.6957\n",
      "Epoch 64/200\n",
      "1/1 [==============================] - 0s 38ms/step - loss: 0.6316 - accuracy: 0.7826 - val_loss: 0.7227 - val_accuracy: 0.6957\n",
      "Epoch 65/200\n",
      "1/1 [==============================] - 0s 37ms/step - loss: 0.6066 - accuracy: 0.8478 - val_loss: 0.7229 - val_accuracy: 0.6957\n",
      "Epoch 66/200\n",
      "1/1 [==============================] - 0s 37ms/step - loss: 0.6257 - accuracy: 0.7826 - val_loss: 0.7227 - val_accuracy: 0.6957\n",
      "Epoch 67/200\n",
      "1/1 [==============================] - 0s 36ms/step - loss: 0.6210 - accuracy: 0.8261 - val_loss: 0.7224 - val_accuracy: 0.6957\n",
      "Epoch 68/200\n",
      "1/1 [==============================] - 0s 37ms/step - loss: 0.6320 - accuracy: 0.8478 - val_loss: 0.7237 - val_accuracy: 0.6957\n",
      "Epoch 69/200\n",
      "1/1 [==============================] - 0s 38ms/step - loss: 0.6097 - accuracy: 0.7826 - val_loss: 0.7257 - val_accuracy: 0.6087\n",
      "Epoch 70/200\n",
      "1/1 [==============================] - 0s 37ms/step - loss: 0.6346 - accuracy: 0.8261 - val_loss: 0.7272 - val_accuracy: 0.6087\n",
      "Epoch 71/200\n",
      "1/1 [==============================] - 0s 39ms/step - loss: 0.6369 - accuracy: 0.8043 - val_loss: 0.7279 - val_accuracy: 0.6087\n",
      "Epoch 72/200\n",
      "1/1 [==============================] - 0s 37ms/step - loss: 0.6036 - accuracy: 0.8913 - val_loss: 0.7284 - val_accuracy: 0.6957\n",
      "Epoch 73/200\n",
      "1/1 [==============================] - 0s 37ms/step - loss: 0.6182 - accuracy: 0.7826 - val_loss: 0.7288 - val_accuracy: 0.6957\n",
      "Epoch 74/200\n",
      "1/1 [==============================] - 0s 39ms/step - loss: 0.6279 - accuracy: 0.8043 - val_loss: 0.7297 - val_accuracy: 0.6087\n",
      "Epoch 75/200\n",
      "1/1 [==============================] - 0s 36ms/step - loss: 0.6322 - accuracy: 0.7826 - val_loss: 0.7296 - val_accuracy: 0.6087\n",
      "Epoch 76/200\n",
      "1/1 [==============================] - 0s 37ms/step - loss: 0.6126 - accuracy: 0.8043 - val_loss: 0.7288 - val_accuracy: 0.6087\n",
      "Epoch 77/200\n",
      "1/1 [==============================] - 0s 38ms/step - loss: 0.6193 - accuracy: 0.8478 - val_loss: 0.7279 - val_accuracy: 0.6957\n",
      "Epoch 78/200\n",
      "1/1 [==============================] - 0s 37ms/step - loss: 0.6398 - accuracy: 0.8261 - val_loss: 0.7264 - val_accuracy: 0.6957\n",
      "Epoch 79/200\n",
      "1/1 [==============================] - 0s 41ms/step - loss: 0.6363 - accuracy: 0.8261 - val_loss: 0.7248 - val_accuracy: 0.6957\n",
      "Epoch 80/200\n",
      "1/1 [==============================] - 0s 40ms/step - loss: 0.6339 - accuracy: 0.8043 - val_loss: 0.7237 - val_accuracy: 0.6957\n",
      "Epoch 81/200\n",
      "1/1 [==============================] - 0s 38ms/step - loss: 0.6269 - accuracy: 0.8043 - val_loss: 0.7244 - val_accuracy: 0.6957\n",
      "Epoch 82/200\n",
      "1/1 [==============================] - 0s 40ms/step - loss: 0.6162 - accuracy: 0.8261 - val_loss: 0.7262 - val_accuracy: 0.6957\n",
      "Epoch 83/200\n",
      "1/1 [==============================] - 0s 37ms/step - loss: 0.6280 - accuracy: 0.7826 - val_loss: 0.7286 - val_accuracy: 0.6522\n",
      "Epoch 84/200\n",
      "1/1 [==============================] - 0s 38ms/step - loss: 0.6340 - accuracy: 0.8478 - val_loss: 0.7316 - val_accuracy: 0.6087\n",
      "Epoch 85/200\n",
      "1/1 [==============================] - 0s 39ms/step - loss: 0.6225 - accuracy: 0.8043 - val_loss: 0.7318 - val_accuracy: 0.7391\n",
      "Epoch 86/200\n",
      "1/1 [==============================] - 0s 37ms/step - loss: 0.6409 - accuracy: 0.7826 - val_loss: 0.7330 - val_accuracy: 0.7391\n",
      "Epoch 87/200\n",
      "1/1 [==============================] - 0s 37ms/step - loss: 0.6137 - accuracy: 0.8043 - val_loss: 0.7342 - val_accuracy: 0.7391\n",
      "Epoch 88/200\n",
      "1/1 [==============================] - 0s 36ms/step - loss: 0.6164 - accuracy: 0.7609 - val_loss: 0.7389 - val_accuracy: 0.6087\n",
      "Epoch 89/200\n",
      "1/1 [==============================] - 0s 37ms/step - loss: 0.6289 - accuracy: 0.8261 - val_loss: 0.7380 - val_accuracy: 0.6087\n",
      "Epoch 90/200\n",
      "1/1 [==============================] - 0s 37ms/step - loss: 0.6121 - accuracy: 0.8261 - val_loss: 0.7328 - val_accuracy: 0.6957\n",
      "Epoch 91/200\n",
      "1/1 [==============================] - 0s 38ms/step - loss: 0.6201 - accuracy: 0.7826 - val_loss: 0.7305 - val_accuracy: 0.6957\n",
      "Epoch 92/200\n",
      "1/1 [==============================] - 0s 36ms/step - loss: 0.6095 - accuracy: 0.8043 - val_loss: 0.7298 - val_accuracy: 0.6957\n",
      "Epoch 93/200\n",
      "1/1 [==============================] - 0s 37ms/step - loss: 0.6098 - accuracy: 0.8913 - val_loss: 0.7311 - val_accuracy: 0.6957\n",
      "Epoch 94/200\n",
      "1/1 [==============================] - 0s 37ms/step - loss: 0.6132 - accuracy: 0.8043 - val_loss: 0.7348 - val_accuracy: 0.6522\n",
      "Epoch 95/200\n",
      "1/1 [==============================] - 0s 38ms/step - loss: 0.6629 - accuracy: 0.7391 - val_loss: 0.7328 - val_accuracy: 0.6522\n",
      "Epoch 96/200\n",
      "1/1 [==============================] - 0s 37ms/step - loss: 0.6180 - accuracy: 0.7826 - val_loss: 0.7328 - val_accuracy: 0.7391\n",
      "Epoch 97/200\n",
      "1/1 [==============================] - 0s 38ms/step - loss: 0.6392 - accuracy: 0.8043 - val_loss: 0.7350 - val_accuracy: 0.7391\n",
      "Epoch 98/200\n",
      "1/1 [==============================] - 0s 37ms/step - loss: 0.6074 - accuracy: 0.7609 - val_loss: 0.7379 - val_accuracy: 0.6522\n",
      "Epoch 99/200\n",
      "1/1 [==============================] - 0s 38ms/step - loss: 0.6171 - accuracy: 0.8478 - val_loss: 0.7395 - val_accuracy: 0.6087\n",
      "Epoch 100/200\n",
      "1/1 [==============================] - 0s 38ms/step - loss: 0.6261 - accuracy: 0.7609 - val_loss: 0.7385 - val_accuracy: 0.6087\n",
      "Epoch 101/200\n",
      "1/1 [==============================] - 0s 38ms/step - loss: 0.6249 - accuracy: 0.7826 - val_loss: 0.7344 - val_accuracy: 0.6087\n",
      "Epoch 102/200\n",
      "1/1 [==============================] - 0s 37ms/step - loss: 0.5951 - accuracy: 0.8478 - val_loss: 0.7319 - val_accuracy: 0.6957\n",
      "Epoch 103/200\n",
      "1/1 [==============================] - 0s 37ms/step - loss: 0.5989 - accuracy: 0.8478 - val_loss: 0.7319 - val_accuracy: 0.7391\n",
      "Epoch 104/200\n",
      "1/1 [==============================] - 0s 37ms/step - loss: 0.6234 - accuracy: 0.7826 - val_loss: 0.7325 - val_accuracy: 0.7391\n",
      "Epoch 105/200\n",
      "1/1 [==============================] - 0s 37ms/step - loss: 0.6099 - accuracy: 0.8261 - val_loss: 0.7356 - val_accuracy: 0.6957\n",
      "Epoch 106/200\n",
      "1/1 [==============================] - 0s 37ms/step - loss: 0.6306 - accuracy: 0.8261 - val_loss: 0.7381 - val_accuracy: 0.6087\n",
      "Epoch 107/200\n",
      "1/1 [==============================] - 0s 37ms/step - loss: 0.6242 - accuracy: 0.7609 - val_loss: 0.7350 - val_accuracy: 0.6957\n",
      "Epoch 108/200\n",
      "1/1 [==============================] - 0s 37ms/step - loss: 0.6024 - accuracy: 0.8696 - val_loss: 0.7329 - val_accuracy: 0.6957\n",
      "Epoch 109/200\n",
      "1/1 [==============================] - 0s 39ms/step - loss: 0.6219 - accuracy: 0.8043 - val_loss: 0.7337 - val_accuracy: 0.7391\n",
      "Epoch 110/200\n",
      "1/1 [==============================] - 0s 37ms/step - loss: 0.6155 - accuracy: 0.8261 - val_loss: 0.7346 - val_accuracy: 0.6957\n",
      "Epoch 111/200\n",
      "1/1 [==============================] - 0s 37ms/step - loss: 0.6051 - accuracy: 0.8696 - val_loss: 0.7430 - val_accuracy: 0.6522\n",
      "Epoch 112/200\n",
      "1/1 [==============================] - 0s 38ms/step - loss: 0.6052 - accuracy: 0.8478 - val_loss: 0.7417 - val_accuracy: 0.6087\n",
      "Epoch 113/200\n",
      "1/1 [==============================] - 0s 37ms/step - loss: 0.6180 - accuracy: 0.8478 - val_loss: 0.7367 - val_accuracy: 0.7391\n",
      "Epoch 114/200\n",
      "1/1 [==============================] - 0s 37ms/step - loss: 0.6314 - accuracy: 0.8261 - val_loss: 0.7400 - val_accuracy: 0.7391\n",
      "Epoch 115/200\n",
      "1/1 [==============================] - 0s 37ms/step - loss: 0.6124 - accuracy: 0.8913 - val_loss: 0.7392 - val_accuracy: 0.7391\n",
      "Epoch 116/200\n",
      "1/1 [==============================] - 0s 38ms/step - loss: 0.6021 - accuracy: 0.8696 - val_loss: 0.7487 - val_accuracy: 0.6087\n"
     ]
    },
    {
     "name": "stdout",
     "output_type": "stream",
     "text": [
      "Epoch 117/200\n",
      "1/1 [==============================] - 0s 36ms/step - loss: 0.6154 - accuracy: 0.7826 - val_loss: 0.7518 - val_accuracy: 0.6087\n",
      "Epoch 118/200\n",
      "1/1 [==============================] - 0s 37ms/step - loss: 0.6197 - accuracy: 0.8043 - val_loss: 0.7413 - val_accuracy: 0.6957\n",
      "Epoch 119/200\n",
      "1/1 [==============================] - 0s 37ms/step - loss: 0.6186 - accuracy: 0.8261 - val_loss: 0.7407 - val_accuracy: 0.7391\n",
      "Epoch 120/200\n",
      "1/1 [==============================] - 0s 36ms/step - loss: 0.6205 - accuracy: 0.8261 - val_loss: 0.7394 - val_accuracy: 0.7391\n",
      "Epoch 121/200\n",
      "1/1 [==============================] - 0s 37ms/step - loss: 0.6102 - accuracy: 0.8261 - val_loss: 0.7422 - val_accuracy: 0.6522\n",
      "Epoch 122/200\n",
      "1/1 [==============================] - 0s 38ms/step - loss: 0.6176 - accuracy: 0.8043 - val_loss: 0.7546 - val_accuracy: 0.6087\n",
      "Epoch 123/200\n",
      "1/1 [==============================] - 0s 36ms/step - loss: 0.6311 - accuracy: 0.7826 - val_loss: 0.7439 - val_accuracy: 0.6522\n",
      "Epoch 124/200\n",
      "1/1 [==============================] - 0s 38ms/step - loss: 0.6147 - accuracy: 0.8478 - val_loss: 0.7420 - val_accuracy: 0.7391\n",
      "Epoch 125/200\n",
      "1/1 [==============================] - 0s 37ms/step - loss: 0.6050 - accuracy: 0.8261 - val_loss: 0.7429 - val_accuracy: 0.7391\n",
      "Epoch 126/200\n",
      "1/1 [==============================] - 0s 39ms/step - loss: 0.6057 - accuracy: 0.8261 - val_loss: 0.7434 - val_accuracy: 0.6522\n",
      "Epoch 127/200\n",
      "1/1 [==============================] - 0s 37ms/step - loss: 0.6369 - accuracy: 0.8478 - val_loss: 0.7483 - val_accuracy: 0.6087\n",
      "Epoch 128/200\n",
      "1/1 [==============================] - 0s 41ms/step - loss: 0.6369 - accuracy: 0.7391 - val_loss: 0.7449 - val_accuracy: 0.6522\n",
      "Epoch 129/200\n",
      "1/1 [==============================] - 0s 39ms/step - loss: 0.6169 - accuracy: 0.8478 - val_loss: 0.7414 - val_accuracy: 0.6957\n",
      "Epoch 130/200\n",
      "1/1 [==============================] - 0s 40ms/step - loss: 0.6205 - accuracy: 0.8261 - val_loss: 0.7439 - val_accuracy: 0.7391\n",
      "Epoch 131/200\n",
      "1/1 [==============================] - 0s 39ms/step - loss: 0.6228 - accuracy: 0.7826 - val_loss: 0.7480 - val_accuracy: 0.6957\n",
      "Epoch 132/200\n",
      "1/1 [==============================] - 0s 41ms/step - loss: 0.6158 - accuracy: 0.8261 - val_loss: 0.7500 - val_accuracy: 0.6957\n",
      "Epoch 133/200\n",
      "1/1 [==============================] - 0s 38ms/step - loss: 0.6046 - accuracy: 0.8043 - val_loss: 0.7487 - val_accuracy: 0.6957\n",
      "Epoch 134/200\n",
      "1/1 [==============================] - 0s 39ms/step - loss: 0.6233 - accuracy: 0.8696 - val_loss: 0.7449 - val_accuracy: 0.7391\n",
      "Epoch 135/200\n",
      "1/1 [==============================] - 0s 39ms/step - loss: 0.6278 - accuracy: 0.8478 - val_loss: 0.7429 - val_accuracy: 0.7391\n",
      "Epoch 136/200\n",
      "1/1 [==============================] - 0s 39ms/step - loss: 0.6079 - accuracy: 0.8261 - val_loss: 0.7420 - val_accuracy: 0.6522\n",
      "Epoch 137/200\n",
      "1/1 [==============================] - 0s 38ms/step - loss: 0.6028 - accuracy: 0.8261 - val_loss: 0.7439 - val_accuracy: 0.6522\n",
      "Epoch 138/200\n",
      "1/1 [==============================] - 0s 39ms/step - loss: 0.6075 - accuracy: 0.8913 - val_loss: 0.7385 - val_accuracy: 0.6522\n",
      "Epoch 139/200\n",
      "1/1 [==============================] - 0s 37ms/step - loss: 0.6014 - accuracy: 0.8261 - val_loss: 0.7340 - val_accuracy: 0.6957\n",
      "Epoch 140/200\n",
      "1/1 [==============================] - 0s 39ms/step - loss: 0.6052 - accuracy: 0.8043 - val_loss: 0.7342 - val_accuracy: 0.6957\n",
      "Epoch 141/200\n",
      "1/1 [==============================] - 0s 38ms/step - loss: 0.5908 - accuracy: 0.8913 - val_loss: 0.7366 - val_accuracy: 0.6957\n",
      "Epoch 142/200\n",
      "1/1 [==============================] - 0s 37ms/step - loss: 0.6075 - accuracy: 0.8478 - val_loss: 0.7404 - val_accuracy: 0.6522\n",
      "Epoch 143/200\n",
      "1/1 [==============================] - 0s 37ms/step - loss: 0.6224 - accuracy: 0.8478 - val_loss: 0.7441 - val_accuracy: 0.6522\n",
      "Epoch 144/200\n",
      "1/1 [==============================] - 0s 37ms/step - loss: 0.6134 - accuracy: 0.8261 - val_loss: 0.7442 - val_accuracy: 0.6522\n",
      "Epoch 145/200\n",
      "1/1 [==============================] - 0s 36ms/step - loss: 0.6104 - accuracy: 0.8261 - val_loss: 0.7432 - val_accuracy: 0.6522\n",
      "Epoch 146/200\n",
      "1/1 [==============================] - 0s 39ms/step - loss: 0.6247 - accuracy: 0.7826 - val_loss: 0.7403 - val_accuracy: 0.7391\n",
      "Epoch 147/200\n",
      "1/1 [==============================] - 0s 38ms/step - loss: 0.6151 - accuracy: 0.8478 - val_loss: 0.7414 - val_accuracy: 0.7391\n",
      "Epoch 148/200\n",
      "1/1 [==============================] - 0s 37ms/step - loss: 0.6080 - accuracy: 0.8696 - val_loss: 0.7432 - val_accuracy: 0.7391\n",
      "Epoch 149/200\n",
      "1/1 [==============================] - 0s 37ms/step - loss: 0.6171 - accuracy: 0.7826 - val_loss: 0.7468 - val_accuracy: 0.6522\n",
      "Epoch 150/200\n",
      "1/1 [==============================] - 0s 36ms/step - loss: 0.6208 - accuracy: 0.8696 - val_loss: 0.7508 - val_accuracy: 0.6087\n",
      "Epoch 151/200\n",
      "1/1 [==============================] - 0s 38ms/step - loss: 0.6262 - accuracy: 0.8261 - val_loss: 0.7480 - val_accuracy: 0.6957\n",
      "Epoch 152/200\n",
      "1/1 [==============================] - 0s 37ms/step - loss: 0.6071 - accuracy: 0.8478 - val_loss: 0.7467 - val_accuracy: 0.7391\n",
      "Epoch 153/200\n",
      "1/1 [==============================] - 0s 38ms/step - loss: 0.6122 - accuracy: 0.8261 - val_loss: 0.7456 - val_accuracy: 0.7391\n",
      "Epoch 154/200\n",
      "1/1 [==============================] - 0s 37ms/step - loss: 0.5987 - accuracy: 0.8478 - val_loss: 0.7425 - val_accuracy: 0.7391\n",
      "Epoch 155/200\n",
      "1/1 [==============================] - 0s 38ms/step - loss: 0.6086 - accuracy: 0.8478 - val_loss: 0.7421 - val_accuracy: 0.6522\n",
      "Epoch 156/200\n",
      "1/1 [==============================] - 0s 38ms/step - loss: 0.6026 - accuracy: 0.8478 - val_loss: 0.7399 - val_accuracy: 0.6522\n",
      "Epoch 157/200\n",
      "1/1 [==============================] - 0s 39ms/step - loss: 0.6169 - accuracy: 0.8478 - val_loss: 0.7360 - val_accuracy: 0.6957\n",
      "Epoch 158/200\n",
      "1/1 [==============================] - 0s 38ms/step - loss: 0.5959 - accuracy: 0.8478 - val_loss: 0.7356 - val_accuracy: 0.6957\n",
      "Epoch 159/200\n",
      "1/1 [==============================] - 0s 37ms/step - loss: 0.5948 - accuracy: 0.8478 - val_loss: 0.7375 - val_accuracy: 0.6957\n",
      "Epoch 160/200\n",
      "1/1 [==============================] - 0s 37ms/step - loss: 0.6179 - accuracy: 0.8043 - val_loss: 0.7388 - val_accuracy: 0.6957\n",
      "Epoch 161/200\n",
      "1/1 [==============================] - 0s 39ms/step - loss: 0.6159 - accuracy: 0.8043 - val_loss: 0.7424 - val_accuracy: 0.6522\n",
      "Epoch 162/200\n",
      "1/1 [==============================] - 0s 38ms/step - loss: 0.6197 - accuracy: 0.7826 - val_loss: 0.7461 - val_accuracy: 0.6522\n",
      "Epoch 163/200\n",
      "1/1 [==============================] - 0s 39ms/step - loss: 0.5993 - accuracy: 0.8478 - val_loss: 0.7482 - val_accuracy: 0.6522\n",
      "Epoch 164/200\n",
      "1/1 [==============================] - 0s 36ms/step - loss: 0.6220 - accuracy: 0.8913 - val_loss: 0.7461 - val_accuracy: 0.7391\n",
      "Epoch 165/200\n",
      "1/1 [==============================] - 0s 37ms/step - loss: 0.6024 - accuracy: 0.8261 - val_loss: 0.7456 - val_accuracy: 0.6522\n",
      "Epoch 166/200\n",
      "1/1 [==============================] - 0s 39ms/step - loss: 0.6522 - accuracy: 0.7826 - val_loss: 0.7472 - val_accuracy: 0.6522\n",
      "Epoch 167/200\n",
      "1/1 [==============================] - 0s 37ms/step - loss: 0.6314 - accuracy: 0.8261 - val_loss: 0.7439 - val_accuracy: 0.6522\n",
      "Epoch 168/200\n",
      "1/1 [==============================] - 0s 37ms/step - loss: 0.5990 - accuracy: 0.8478 - val_loss: 0.7376 - val_accuracy: 0.6957\n",
      "Epoch 169/200\n",
      "1/1 [==============================] - 0s 36ms/step - loss: 0.5945 - accuracy: 0.8696 - val_loss: 0.7365 - val_accuracy: 0.7391\n",
      "Epoch 170/200\n",
      "1/1 [==============================] - 0s 39ms/step - loss: 0.6153 - accuracy: 0.8043 - val_loss: 0.7368 - val_accuracy: 0.7391\n",
      "Epoch 171/200\n",
      "1/1 [==============================] - 0s 38ms/step - loss: 0.6303 - accuracy: 0.8261 - val_loss: 0.7408 - val_accuracy: 0.6957\n",
      "Epoch 172/200\n",
      "1/1 [==============================] - 0s 38ms/step - loss: 0.5948 - accuracy: 0.8696 - val_loss: 0.7448 - val_accuracy: 0.6522\n",
      "Epoch 173/200\n",
      "1/1 [==============================] - 0s 37ms/step - loss: 0.6198 - accuracy: 0.8043 - val_loss: 0.7467 - val_accuracy: 0.7391\n",
      "Epoch 174/200\n",
      "1/1 [==============================] - 0s 37ms/step - loss: 0.6217 - accuracy: 0.7826 - val_loss: 0.7480 - val_accuracy: 0.6957\n"
     ]
    },
    {
     "name": "stdout",
     "output_type": "stream",
     "text": [
      "Epoch 175/200\n",
      "1/1 [==============================] - 0s 37ms/step - loss: 0.5866 - accuracy: 0.9130 - val_loss: 0.7467 - val_accuracy: 0.6957\n",
      "Epoch 176/200\n",
      "1/1 [==============================] - 0s 37ms/step - loss: 0.6371 - accuracy: 0.7826 - val_loss: 0.7461 - val_accuracy: 0.6957\n",
      "Epoch 177/200\n",
      "1/1 [==============================] - 0s 38ms/step - loss: 0.6023 - accuracy: 0.8913 - val_loss: 0.7452 - val_accuracy: 0.7391\n",
      "Epoch 178/200\n",
      "1/1 [==============================] - 0s 36ms/step - loss: 0.6179 - accuracy: 0.8043 - val_loss: 0.7460 - val_accuracy: 0.7391\n",
      "Epoch 179/200\n",
      "1/1 [==============================] - 0s 37ms/step - loss: 0.6162 - accuracy: 0.8478 - val_loss: 0.7440 - val_accuracy: 0.7391\n",
      "Epoch 180/200\n",
      "1/1 [==============================] - 0s 40ms/step - loss: 0.6049 - accuracy: 0.8043 - val_loss: 0.7401 - val_accuracy: 0.7391\n",
      "Epoch 181/200\n",
      "1/1 [==============================] - 0s 38ms/step - loss: 0.5971 - accuracy: 0.8478 - val_loss: 0.7391 - val_accuracy: 0.6957\n",
      "Epoch 182/200\n",
      "1/1 [==============================] - 0s 37ms/step - loss: 0.5977 - accuracy: 0.8913 - val_loss: 0.7400 - val_accuracy: 0.6957\n",
      "Epoch 183/200\n",
      "1/1 [==============================] - 0s 37ms/step - loss: 0.6095 - accuracy: 0.8478 - val_loss: 0.7403 - val_accuracy: 0.7391\n",
      "Epoch 184/200\n",
      "1/1 [==============================] - 0s 38ms/step - loss: 0.5983 - accuracy: 0.8043 - val_loss: 0.7407 - val_accuracy: 0.7391\n",
      "Epoch 185/200\n",
      "1/1 [==============================] - 0s 38ms/step - loss: 0.6156 - accuracy: 0.8043 - val_loss: 0.7424 - val_accuracy: 0.6957\n",
      "Epoch 186/200\n",
      "1/1 [==============================] - 0s 37ms/step - loss: 0.6043 - accuracy: 0.8043 - val_loss: 0.7444 - val_accuracy: 0.6522\n",
      "Epoch 187/200\n",
      "1/1 [==============================] - 0s 36ms/step - loss: 0.6290 - accuracy: 0.8478 - val_loss: 0.7451 - val_accuracy: 0.6522\n",
      "Epoch 188/200\n",
      "1/1 [==============================] - 0s 37ms/step - loss: 0.6207 - accuracy: 0.8043 - val_loss: 0.7446 - val_accuracy: 0.7391\n",
      "Epoch 189/200\n",
      "1/1 [==============================] - 0s 37ms/step - loss: 0.5979 - accuracy: 0.8478 - val_loss: 0.7439 - val_accuracy: 0.7391\n",
      "Epoch 190/200\n",
      "1/1 [==============================] - 0s 38ms/step - loss: 0.6009 - accuracy: 0.8261 - val_loss: 0.7432 - val_accuracy: 0.7391\n",
      "Epoch 191/200\n",
      "1/1 [==============================] - 0s 37ms/step - loss: 0.5772 - accuracy: 0.8913 - val_loss: 0.7424 - val_accuracy: 0.6522\n",
      "Epoch 192/200\n",
      "1/1 [==============================] - 0s 37ms/step - loss: 0.5854 - accuracy: 0.8478 - val_loss: 0.7422 - val_accuracy: 0.6522\n",
      "Epoch 193/200\n",
      "1/1 [==============================] - 0s 37ms/step - loss: 0.5910 - accuracy: 0.8261 - val_loss: 0.7364 - val_accuracy: 0.6957\n",
      "Epoch 194/200\n",
      "1/1 [==============================] - 0s 36ms/step - loss: 0.5851 - accuracy: 0.8696 - val_loss: 0.7345 - val_accuracy: 0.6957\n",
      "Epoch 195/200\n",
      "1/1 [==============================] - 0s 38ms/step - loss: 0.6026 - accuracy: 0.8478 - val_loss: 0.7344 - val_accuracy: 0.6957\n",
      "Epoch 196/200\n",
      "1/1 [==============================] - 0s 37ms/step - loss: 0.6125 - accuracy: 0.8478 - val_loss: 0.7390 - val_accuracy: 0.6957\n",
      "Epoch 197/200\n",
      "1/1 [==============================] - 0s 36ms/step - loss: 0.6198 - accuracy: 0.8043 - val_loss: 0.7455 - val_accuracy: 0.6522\n",
      "Epoch 198/200\n",
      "1/1 [==============================] - 0s 37ms/step - loss: 0.6028 - accuracy: 0.8696 - val_loss: 0.7505 - val_accuracy: 0.6957\n",
      "Epoch 199/200\n",
      "1/1 [==============================] - 0s 38ms/step - loss: 0.5685 - accuracy: 0.8478 - val_loss: 0.7549 - val_accuracy: 0.6957\n",
      "Epoch 200/200\n",
      "1/1 [==============================] - 0s 37ms/step - loss: 0.6190 - accuracy: 0.8478 - val_loss: 0.7550 - val_accuracy: 0.6957\n",
      "Most important variables:  [2 3 0 1 4 5]\n"
     ]
    }
   ],
   "source": [
    "VIANN = VarImpVIANN(verbose=1)\n",
    "model_3_OL.compile(optimizer='adam',\n",
    "              loss='binary_crossentropy',\n",
    "              metrics=['accuracy'])\n",
    "hist_4 = model_3_OL.fit(X_train2, y_traindm2,\n",
    "          batch_size=46, epochs=200,\n",
    "          validation_data=(X_val2, y_valdm2), callbacks=[VIANN])"
   ]
  },
  {
   "cell_type": "code",
   "execution_count": 89,
   "metadata": {},
   "outputs": [
    {
     "data": {
      "image/png": "[encoded data removed]",
      "text/plain": [
       "<Figure size 460.8x316.8 with 1 Axes>"
      ]
     },
     "metadata": {
      "needs_background": "light"
     },
     "output_type": "display_data"
    }
   ],
   "source": [
    "plt.plot(hist_4.history['loss'])\n",
    "plt.plot(hist_4.history['val_loss'])\n",
    "plt.title('Model loss')\n",
    "plt.ylabel('Loss')\n",
    "plt.xlabel('Epoch')\n",
    "plt.legend(['Train', 'Val'], loc='upper right')\n",
    "plt.ylim(top=10, bottom=0)\n",
    "plt.show()"
   ]
  },
  {
   "cell_type": "code",
   "execution_count": 90,
   "metadata": {},
   "outputs": [
    {
     "data": {
      "image/png": "[encoded data removed]",
      "text/plain": [
       "<Figure size 460.8x316.8 with 1 Axes>"
      ]
     },
     "metadata": {
      "needs_background": "light"
     },
     "output_type": "display_data"
    }
   ],
   "source": [
    "plt.plot(hist_4.history['accuracy'])\n",
    "plt.plot(hist_4.history['val_accuracy'])\n",
    "plt.title('Model accuracy')\n",
    "plt.ylabel('Accuracy')\n",
    "plt.xlabel('Epoch')\n",
    "plt.legend(['Train', 'Val'], loc='lower right')\n",
    "plt.show()"
   ]
  },
  {
   "cell_type": "code",
   "execution_count": 92,
   "metadata": {},
   "outputs": [
    {
     "name": "stdout",
     "output_type": "stream",
     "text": [
      "1/1 [==============================] - 0s 4ms/step - loss: 0.7709 - accuracy: 0.8696\n"
     ]
    },
    {
     "data": {
      "text/plain": [
       "0.8695651888847351"
      ]
     },
     "execution_count": 92,
     "metadata": {},
     "output_type": "execute_result"
    }
   ],
   "source": [
    "model_3_OL.evaluate(X_test2, y_testdm2)[1]"
   ]
  },
  {
   "cell_type": "markdown",
   "metadata": {},
   "source": [
    "**Re-split model loss and accuracy are consistent with previous results.**"
   ]
  },
  {
   "cell_type": "markdown",
   "metadata": {},
   "source": [
    "## Re-Split Data and Verify Results Again (Split number 3)"
   ]
  },
  {
   "cell_type": "markdown",
   "metadata": {},
   "source": [
    "**Shuffle Split**"
   ]
  },
  {
   "cell_type": "code",
   "execution_count": 93,
   "metadata": {},
   "outputs": [
    {
     "data": {
      "text/plain": [
       "1"
      ]
     },
     "execution_count": 93,
     "metadata": {},
     "output_type": "execute_result"
    }
   ],
   "source": [
    "sss3 = StratifiedShuffleSplit(n_splits=1, test_size=0.5, random_state=333)\n",
    "sss3.get_n_splits(X, y['Diamond_High'])"
   ]
  },
  {
   "cell_type": "code",
   "execution_count": 94,
   "metadata": {},
   "outputs": [
    {
     "name": "stdout",
     "output_type": "stream",
     "text": [
      "StratifiedShuffleSplit(n_splits=1, random_state=333, test_size=0.5,\n",
      "            train_size=None)\n"
     ]
    }
   ],
   "source": [
    "print(sss3)"
   ]
  },
  {
   "cell_type": "code",
   "execution_count": 95,
   "metadata": {},
   "outputs": [
    {
     "name": "stdout",
     "output_type": "stream",
     "text": [
      "TRAIN: [76 42 36 41 29 67 50 33 70 32 58 44 18 37 77 56 24  5 15 61 54 74  8  0\n",
      " 55 81 34 30 78 17  3 45 23 21 62  6 73 64 89 57 14 51 72 31 46 40] TESTVAL: [71 66 75 52 13 88 79 22 12 48 53  4 84 65 82 19  9 63 39 68 90 80 47 85\n",
      " 86 28  2 20 10 83 43 91  7 60 38 59 27  1 35 26 69 49 25 11 16 87]\n"
     ]
    }
   ],
   "source": [
    "for train_index, test_index in sss3.split(X, y):\n",
    "     print(\"TRAIN:\", train_index, \"TESTVAL:\", test_index)\n",
    "     X_train3, X_testval3 = X.iloc[train_index], X.iloc[test_index]\n",
    "     y_train3, y_testval3 = y.iloc[train_index], y.iloc[test_index]"
   ]
  },
  {
   "cell_type": "markdown",
   "metadata": {},
   "source": [
    "**Split testval into test and validation sets**"
   ]
  },
  {
   "cell_type": "code",
   "execution_count": 96,
   "metadata": {},
   "outputs": [
    {
     "name": "stdout",
     "output_type": "stream",
     "text": [
      "TEST: [18 37 22 44 33 35 16 17 43  2  1 14 28 32 23  6 27 15 36 12  5  9  0] VAL: [39 45  4 11 42 41  3 38 40 19 34 26 24 21 13 20 10  7 31  8 30 29 25]\n"
     ]
    }
   ],
   "source": [
    "for train_index, test_index in sss.split(X_testval3, y_testval3):\n",
    "     print(\"TEST:\", train_index, \"VAL:\", test_index)\n",
    "     X_test3, X_val3 = X_testval3.iloc[train_index], X_testval3.iloc[test_index]\n",
    "     y_test3, y_val3 = y_testval3.iloc[train_index], y_testval3.iloc[test_index]"
   ]
  },
  {
   "cell_type": "markdown",
   "metadata": {},
   "source": [
    "**Next encode the categorical variablesfor diamond content, yes and no, using one hot vector multilabel. The data is split first then one hot encoded since the split function cannot handle more than one Y column.**"
   ]
  },
  {
   "cell_type": "code",
   "execution_count": 97,
   "metadata": {},
   "outputs": [
    {
     "data": {
      "text/html": [
       "<div>\n",
       "<style scoped>\n",
       "    .dataframe tbody tr th:only-of-type {\n",
       "        vertical-align: middle;\n",
       "    }\n",
       "\n",
       "    .dataframe tbody tr th {\n",
       "        vertical-align: top;\n",
       "    }\n",
       "\n",
       "    .dataframe thead th {\n",
       "        text-align: right;\n",
       "    }\n",
       "</style>\n",
       "<table border=\"1\" class=\"dataframe\">\n",
       "  <thead>\n",
       "    <tr style=\"text-align: right;\">\n",
       "      <th></th>\n",
       "      <th>diamond_no</th>\n",
       "      <th>diamond_yes</th>\n",
       "    </tr>\n",
       "  </thead>\n",
       "  <tbody>\n",
       "    <tr>\n",
       "      <th>76</th>\n",
       "      <td>1</td>\n",
       "      <td>0</td>\n",
       "    </tr>\n",
       "    <tr>\n",
       "      <th>42</th>\n",
       "      <td>1</td>\n",
       "      <td>0</td>\n",
       "    </tr>\n",
       "    <tr>\n",
       "      <th>36</th>\n",
       "      <td>0</td>\n",
       "      <td>1</td>\n",
       "    </tr>\n",
       "    <tr>\n",
       "      <th>41</th>\n",
       "      <td>1</td>\n",
       "      <td>0</td>\n",
       "    </tr>\n",
       "    <tr>\n",
       "      <th>29</th>\n",
       "      <td>0</td>\n",
       "      <td>1</td>\n",
       "    </tr>\n",
       "  </tbody>\n",
       "</table>\n",
       "</div>"
      ],
      "text/plain": [
       "    diamond_no  diamond_yes\n",
       "76           1            0\n",
       "42           1            0\n",
       "36           0            1\n",
       "41           1            0\n",
       "29           0            1"
      ]
     },
     "execution_count": 97,
     "metadata": {},
     "output_type": "execute_result"
    }
   ],
   "source": [
    "y_traindm3 = pd.get_dummies(y_train3['Diamond_High'], prefix = 'diamond')\n",
    "y_traindm3.head(5)"
   ]
  },
  {
   "cell_type": "code",
   "execution_count": 98,
   "metadata": {},
   "outputs": [
    {
     "data": {
      "text/html": [
       "<div>\n",
       "<style scoped>\n",
       "    .dataframe tbody tr th:only-of-type {\n",
       "        vertical-align: middle;\n",
       "    }\n",
       "\n",
       "    .dataframe tbody tr th {\n",
       "        vertical-align: top;\n",
       "    }\n",
       "\n",
       "    .dataframe thead th {\n",
       "        text-align: right;\n",
       "    }\n",
       "</style>\n",
       "<table border=\"1\" class=\"dataframe\">\n",
       "  <thead>\n",
       "    <tr style=\"text-align: right;\">\n",
       "      <th></th>\n",
       "      <th>Mg_clr</th>\n",
       "      <th>Si_clr</th>\n",
       "      <th>Cr_clr</th>\n",
       "      <th>Mn_clr</th>\n",
       "      <th>Co_clr</th>\n",
       "      <th>Ni_clr</th>\n",
       "    </tr>\n",
       "  </thead>\n",
       "  <tbody>\n",
       "    <tr>\n",
       "      <th>76</th>\n",
       "      <td>3.948290</td>\n",
       "      <td>4.024573</td>\n",
       "      <td>-2.319831</td>\n",
       "      <td>-1.845815</td>\n",
       "      <td>-3.476221</td>\n",
       "      <td>-0.330996</td>\n",
       "    </tr>\n",
       "    <tr>\n",
       "      <th>42</th>\n",
       "      <td>4.639407</td>\n",
       "      <td>4.439207</td>\n",
       "      <td>-3.961297</td>\n",
       "      <td>-1.594245</td>\n",
       "      <td>-3.328213</td>\n",
       "      <td>-0.194859</td>\n",
       "    </tr>\n",
       "    <tr>\n",
       "      <th>36</th>\n",
       "      <td>4.257187</td>\n",
       "      <td>4.345001</td>\n",
       "      <td>-3.600272</td>\n",
       "      <td>-1.580111</td>\n",
       "      <td>-3.269276</td>\n",
       "      <td>-0.152528</td>\n",
       "    </tr>\n",
       "    <tr>\n",
       "      <th>41</th>\n",
       "      <td>4.664843</td>\n",
       "      <td>4.518358</td>\n",
       "      <td>-4.335256</td>\n",
       "      <td>-1.486165</td>\n",
       "      <td>-3.206235</td>\n",
       "      <td>-0.155546</td>\n",
       "    </tr>\n",
       "    <tr>\n",
       "      <th>29</th>\n",
       "      <td>4.198076</td>\n",
       "      <td>4.233445</td>\n",
       "      <td>-3.238214</td>\n",
       "      <td>-1.643654</td>\n",
       "      <td>-3.319853</td>\n",
       "      <td>-0.229800</td>\n",
       "    </tr>\n",
       "  </tbody>\n",
       "</table>\n",
       "</div>"
      ],
      "text/plain": [
       "      Mg_clr    Si_clr    Cr_clr    Mn_clr    Co_clr    Ni_clr\n",
       "76  3.948290  4.024573 -2.319831 -1.845815 -3.476221 -0.330996\n",
       "42  4.639407  4.439207 -3.961297 -1.594245 -3.328213 -0.194859\n",
       "36  4.257187  4.345001 -3.600272 -1.580111 -3.269276 -0.152528\n",
       "41  4.664843  4.518358 -4.335256 -1.486165 -3.206235 -0.155546\n",
       "29  4.198076  4.233445 -3.238214 -1.643654 -3.319853 -0.229800"
      ]
     },
     "execution_count": 98,
     "metadata": {},
     "output_type": "execute_result"
    }
   ],
   "source": [
    "X_train3.head(5)"
   ]
  },
  {
   "cell_type": "code",
   "execution_count": 99,
   "metadata": {},
   "outputs": [
    {
     "data": {
      "text/html": [
       "<div>\n",
       "<style scoped>\n",
       "    .dataframe tbody tr th:only-of-type {\n",
       "        vertical-align: middle;\n",
       "    }\n",
       "\n",
       "    .dataframe tbody tr th {\n",
       "        vertical-align: top;\n",
       "    }\n",
       "\n",
       "    .dataframe thead th {\n",
       "        text-align: right;\n",
       "    }\n",
       "</style>\n",
       "<table border=\"1\" class=\"dataframe\">\n",
       "  <thead>\n",
       "    <tr style=\"text-align: right;\">\n",
       "      <th></th>\n",
       "      <th>diamond_no</th>\n",
       "      <th>diamond_yes</th>\n",
       "    </tr>\n",
       "  </thead>\n",
       "  <tbody>\n",
       "    <tr>\n",
       "      <th>39</th>\n",
       "      <td>0</td>\n",
       "      <td>1</td>\n",
       "    </tr>\n",
       "    <tr>\n",
       "      <th>1</th>\n",
       "      <td>0</td>\n",
       "      <td>1</td>\n",
       "    </tr>\n",
       "    <tr>\n",
       "      <th>47</th>\n",
       "      <td>1</td>\n",
       "      <td>0</td>\n",
       "    </tr>\n",
       "    <tr>\n",
       "      <th>16</th>\n",
       "      <td>0</td>\n",
       "      <td>1</td>\n",
       "    </tr>\n",
       "    <tr>\n",
       "      <th>60</th>\n",
       "      <td>1</td>\n",
       "      <td>0</td>\n",
       "    </tr>\n",
       "  </tbody>\n",
       "</table>\n",
       "</div>"
      ],
      "text/plain": [
       "    diamond_no  diamond_yes\n",
       "39           0            1\n",
       "1            0            1\n",
       "47           1            0\n",
       "16           0            1\n",
       "60           1            0"
      ]
     },
     "execution_count": 99,
     "metadata": {},
     "output_type": "execute_result"
    }
   ],
   "source": [
    "y_testdm3 = pd.get_dummies(y_test3['Diamond_High'], prefix = 'diamond')\n",
    "y_testdm3.head(5)"
   ]
  },
  {
   "cell_type": "code",
   "execution_count": 100,
   "metadata": {},
   "outputs": [
    {
     "data": {
      "text/html": [
       "<div>\n",
       "<style scoped>\n",
       "    .dataframe tbody tr th:only-of-type {\n",
       "        vertical-align: middle;\n",
       "    }\n",
       "\n",
       "    .dataframe tbody tr th {\n",
       "        vertical-align: top;\n",
       "    }\n",
       "\n",
       "    .dataframe thead th {\n",
       "        text-align: right;\n",
       "    }\n",
       "</style>\n",
       "<table border=\"1\" class=\"dataframe\">\n",
       "  <thead>\n",
       "    <tr style=\"text-align: right;\">\n",
       "      <th></th>\n",
       "      <th>Mg_clr</th>\n",
       "      <th>Si_clr</th>\n",
       "      <th>Cr_clr</th>\n",
       "      <th>Mn_clr</th>\n",
       "      <th>Co_clr</th>\n",
       "      <th>Ni_clr</th>\n",
       "    </tr>\n",
       "  </thead>\n",
       "  <tbody>\n",
       "    <tr>\n",
       "      <th>39</th>\n",
       "      <td>4.443198</td>\n",
       "      <td>4.412869</td>\n",
       "      <td>-4.309557</td>\n",
       "      <td>-1.153287</td>\n",
       "      <td>-3.197262</td>\n",
       "      <td>-0.195961</td>\n",
       "    </tr>\n",
       "    <tr>\n",
       "      <th>1</th>\n",
       "      <td>3.755496</td>\n",
       "      <td>4.188879</td>\n",
       "      <td>-2.708026</td>\n",
       "      <td>-1.546032</td>\n",
       "      <td>-3.401173</td>\n",
       "      <td>-0.289144</td>\n",
       "    </tr>\n",
       "    <tr>\n",
       "      <th>47</th>\n",
       "      <td>4.389130</td>\n",
       "      <td>4.339207</td>\n",
       "      <td>-3.772176</td>\n",
       "      <td>-1.490131</td>\n",
       "      <td>-3.303616</td>\n",
       "      <td>-0.162414</td>\n",
       "    </tr>\n",
       "    <tr>\n",
       "      <th>16</th>\n",
       "      <td>4.004639</td>\n",
       "      <td>4.287322</td>\n",
       "      <td>-3.327781</td>\n",
       "      <td>-1.643304</td>\n",
       "      <td>-3.187594</td>\n",
       "      <td>-0.133282</td>\n",
       "    </tr>\n",
       "    <tr>\n",
       "      <th>60</th>\n",
       "      <td>3.853350</td>\n",
       "      <td>4.080448</td>\n",
       "      <td>-2.437925</td>\n",
       "      <td>-1.796816</td>\n",
       "      <td>-3.424404</td>\n",
       "      <td>-0.274653</td>\n",
       "    </tr>\n",
       "  </tbody>\n",
       "</table>\n",
       "</div>"
      ],
      "text/plain": [
       "      Mg_clr    Si_clr    Cr_clr    Mn_clr    Co_clr    Ni_clr\n",
       "39  4.443198  4.412869 -4.309557 -1.153287 -3.197262 -0.195961\n",
       "1   3.755496  4.188879 -2.708026 -1.546032 -3.401173 -0.289144\n",
       "47  4.389130  4.339207 -3.772176 -1.490131 -3.303616 -0.162414\n",
       "16  4.004639  4.287322 -3.327781 -1.643304 -3.187594 -0.133282\n",
       "60  3.853350  4.080448 -2.437925 -1.796816 -3.424404 -0.274653"
      ]
     },
     "execution_count": 100,
     "metadata": {},
     "output_type": "execute_result"
    }
   ],
   "source": [
    "X_test3.head(5)"
   ]
  },
  {
   "cell_type": "code",
   "execution_count": 101,
   "metadata": {},
   "outputs": [
    {
     "data": {
      "text/html": [
       "<div>\n",
       "<style scoped>\n",
       "    .dataframe tbody tr th:only-of-type {\n",
       "        vertical-align: middle;\n",
       "    }\n",
       "\n",
       "    .dataframe tbody tr th {\n",
       "        vertical-align: top;\n",
       "    }\n",
       "\n",
       "    .dataframe thead th {\n",
       "        text-align: right;\n",
       "    }\n",
       "</style>\n",
       "<table border=\"1\" class=\"dataframe\">\n",
       "  <thead>\n",
       "    <tr style=\"text-align: right;\">\n",
       "      <th></th>\n",
       "      <th>diamond_no</th>\n",
       "      <th>diamond_yes</th>\n",
       "    </tr>\n",
       "  </thead>\n",
       "  <tbody>\n",
       "    <tr>\n",
       "      <th>26</th>\n",
       "      <td>0</td>\n",
       "      <td>1</td>\n",
       "    </tr>\n",
       "    <tr>\n",
       "      <th>87</th>\n",
       "      <td>1</td>\n",
       "      <td>0</td>\n",
       "    </tr>\n",
       "    <tr>\n",
       "      <th>13</th>\n",
       "      <td>0</td>\n",
       "      <td>1</td>\n",
       "    </tr>\n",
       "    <tr>\n",
       "      <th>4</th>\n",
       "      <td>0</td>\n",
       "      <td>1</td>\n",
       "    </tr>\n",
       "    <tr>\n",
       "      <th>25</th>\n",
       "      <td>0</td>\n",
       "      <td>1</td>\n",
       "    </tr>\n",
       "  </tbody>\n",
       "</table>\n",
       "</div>"
      ],
      "text/plain": [
       "    diamond_no  diamond_yes\n",
       "26           0            1\n",
       "87           1            0\n",
       "13           0            1\n",
       "4            0            1\n",
       "25           0            1"
      ]
     },
     "execution_count": 101,
     "metadata": {},
     "output_type": "execute_result"
    }
   ],
   "source": [
    "y_valdm3 = pd.get_dummies(y_val3['Diamond_High'], prefix = 'diamond')\n",
    "y_valdm3.head(5)"
   ]
  },
  {
   "cell_type": "code",
   "execution_count": 102,
   "metadata": {},
   "outputs": [
    {
     "data": {
      "text/html": [
       "<div>\n",
       "<style scoped>\n",
       "    .dataframe tbody tr th:only-of-type {\n",
       "        vertical-align: middle;\n",
       "    }\n",
       "\n",
       "    .dataframe tbody tr th {\n",
       "        vertical-align: top;\n",
       "    }\n",
       "\n",
       "    .dataframe thead th {\n",
       "        text-align: right;\n",
       "    }\n",
       "</style>\n",
       "<table border=\"1\" class=\"dataframe\">\n",
       "  <thead>\n",
       "    <tr style=\"text-align: right;\">\n",
       "      <th></th>\n",
       "      <th>Mg_clr</th>\n",
       "      <th>Si_clr</th>\n",
       "      <th>Cr_clr</th>\n",
       "      <th>Mn_clr</th>\n",
       "      <th>Co_clr</th>\n",
       "      <th>Ni_clr</th>\n",
       "    </tr>\n",
       "  </thead>\n",
       "  <tbody>\n",
       "    <tr>\n",
       "      <th>26</th>\n",
       "      <td>3.875041</td>\n",
       "      <td>4.216905</td>\n",
       "      <td>-2.774951</td>\n",
       "      <td>-1.599329</td>\n",
       "      <td>-3.414126</td>\n",
       "      <td>-0.303540</td>\n",
       "    </tr>\n",
       "    <tr>\n",
       "      <th>87</th>\n",
       "      <td>4.385036</td>\n",
       "      <td>4.342563</td>\n",
       "      <td>-3.160029</td>\n",
       "      <td>-1.889238</td>\n",
       "      <td>-3.431611</td>\n",
       "      <td>-0.246722</td>\n",
       "    </tr>\n",
       "    <tr>\n",
       "      <th>13</th>\n",
       "      <td>4.042307</td>\n",
       "      <td>4.144145</td>\n",
       "      <td>-2.791052</td>\n",
       "      <td>-1.766644</td>\n",
       "      <td>-3.378197</td>\n",
       "      <td>-0.250559</td>\n",
       "    </tr>\n",
       "    <tr>\n",
       "      <th>4</th>\n",
       "      <td>3.732936</td>\n",
       "      <td>4.109973</td>\n",
       "      <td>-2.419458</td>\n",
       "      <td>-1.502110</td>\n",
       "      <td>-3.450560</td>\n",
       "      <td>-0.470781</td>\n",
       "    </tr>\n",
       "    <tr>\n",
       "      <th>25</th>\n",
       "      <td>4.051697</td>\n",
       "      <td>4.071551</td>\n",
       "      <td>-2.129951</td>\n",
       "      <td>-1.490963</td>\n",
       "      <td>-3.586516</td>\n",
       "      <td>-0.915818</td>\n",
       "    </tr>\n",
       "  </tbody>\n",
       "</table>\n",
       "</div>"
      ],
      "text/plain": [
       "      Mg_clr    Si_clr    Cr_clr    Mn_clr    Co_clr    Ni_clr\n",
       "26  3.875041  4.216905 -2.774951 -1.599329 -3.414126 -0.303540\n",
       "87  4.385036  4.342563 -3.160029 -1.889238 -3.431611 -0.246722\n",
       "13  4.042307  4.144145 -2.791052 -1.766644 -3.378197 -0.250559\n",
       "4   3.732936  4.109973 -2.419458 -1.502110 -3.450560 -0.470781\n",
       "25  4.051697  4.071551 -2.129951 -1.490963 -3.586516 -0.915818"
      ]
     },
     "execution_count": 102,
     "metadata": {},
     "output_type": "execute_result"
    }
   ],
   "source": [
    "X_val3.head(5)"
   ]
  },
  {
   "cell_type": "markdown",
   "metadata": {},
   "source": [
    "# Building and Training the Neural Network with Re-Split Data"
   ]
  },
  {
   "cell_type": "code",
   "execution_count": 103,
   "metadata": {},
   "outputs": [
    {
     "name": "stdout",
     "output_type": "stream",
     "text": [
      "VIANN version 1.0 (Wellford + Mean) update per epoch\n",
      "Epoch 1/200\n",
      "1/1 [==============================] - 1s 809ms/step - loss: 0.6069 - accuracy: 0.8478 - val_loss: 0.7442 - val_accuracy: 0.7391\n",
      "Epoch 2/200\n",
      "1/1 [==============================] - 0s 45ms/step - loss: 0.6171 - accuracy: 0.8478 - val_loss: 0.7820 - val_accuracy: 0.6522\n",
      "Epoch 3/200\n",
      "1/1 [==============================] - 0s 37ms/step - loss: 0.6078 - accuracy: 0.8261 - val_loss: 0.7424 - val_accuracy: 0.7391\n",
      "Epoch 4/200\n",
      "1/1 [==============================] - 0s 37ms/step - loss: 0.5840 - accuracy: 0.8478 - val_loss: 0.7483 - val_accuracy: 0.7391\n",
      "Epoch 5/200\n",
      "1/1 [==============================] - 0s 37ms/step - loss: 0.6163 - accuracy: 0.8043 - val_loss: 0.7438 - val_accuracy: 0.6522\n",
      "Epoch 6/200\n",
      "1/1 [==============================] - 0s 40ms/step - loss: 0.5984 - accuracy: 0.8478 - val_loss: 0.7647 - val_accuracy: 0.6087\n",
      "Epoch 7/200\n",
      "1/1 [==============================] - 0s 37ms/step - loss: 0.6127 - accuracy: 0.8261 - val_loss: 0.7556 - val_accuracy: 0.6522\n",
      "Epoch 8/200\n",
      "1/1 [==============================] - 0s 38ms/step - loss: 0.6192 - accuracy: 0.8043 - val_loss: 0.7439 - val_accuracy: 0.7391\n",
      "Epoch 9/200\n",
      "1/1 [==============================] - 0s 38ms/step - loss: 0.5989 - accuracy: 0.8696 - val_loss: 0.7476 - val_accuracy: 0.7391\n",
      "Epoch 10/200\n",
      "1/1 [==============================] - 0s 37ms/step - loss: 0.6078 - accuracy: 0.8261 - val_loss: 0.7460 - val_accuracy: 0.7391\n",
      "Epoch 11/200\n",
      "1/1 [==============================] - 0s 38ms/step - loss: 0.6113 - accuracy: 0.7826 - val_loss: 0.7483 - val_accuracy: 0.6522\n",
      "Epoch 12/200\n",
      "1/1 [==============================] - 0s 37ms/step - loss: 0.6090 - accuracy: 0.8696 - val_loss: 0.7568 - val_accuracy: 0.6522\n",
      "Epoch 13/200\n",
      "1/1 [==============================] - 0s 38ms/step - loss: 0.6031 - accuracy: 0.8261 - val_loss: 0.7538 - val_accuracy: 0.6522\n",
      "Epoch 14/200\n",
      "1/1 [==============================] - 0s 38ms/step - loss: 0.5902 - accuracy: 0.8696 - val_loss: 0.7448 - val_accuracy: 0.7391\n",
      "Epoch 15/200\n",
      "1/1 [==============================] - 0s 37ms/step - loss: 0.5831 - accuracy: 0.8261 - val_loss: 0.7440 - val_accuracy: 0.7391\n",
      "Epoch 16/200\n",
      "1/1 [==============================] - 0s 37ms/step - loss: 0.5906 - accuracy: 0.8478 - val_loss: 0.7440 - val_accuracy: 0.7391\n",
      "Epoch 17/200\n",
      "1/1 [==============================] - 0s 37ms/step - loss: 0.6091 - accuracy: 0.8478 - val_loss: 0.7436 - val_accuracy: 0.7391\n",
      "Epoch 18/200\n",
      "1/1 [==============================] - 0s 37ms/step - loss: 0.5972 - accuracy: 0.8478 - val_loss: 0.7536 - val_accuracy: 0.6522\n",
      "Epoch 19/200\n",
      "1/1 [==============================] - 0s 37ms/step - loss: 0.5951 - accuracy: 0.8478 - val_loss: 0.7582 - val_accuracy: 0.6522\n",
      "Epoch 20/200\n",
      "1/1 [==============================] - 0s 36ms/step - loss: 0.5926 - accuracy: 0.8696 - val_loss: 0.7530 - val_accuracy: 0.6522\n",
      "Epoch 21/200\n",
      "1/1 [==============================] - 0s 38ms/step - loss: 0.6062 - accuracy: 0.8478 - val_loss: 0.7479 - val_accuracy: 0.7391\n",
      "Epoch 22/200\n",
      "1/1 [==============================] - 0s 38ms/step - loss: 0.6157 - accuracy: 0.8261 - val_loss: 0.7470 - val_accuracy: 0.7391\n",
      "Epoch 23/200\n",
      "1/1 [==============================] - 0s 37ms/step - loss: 0.5944 - accuracy: 0.8478 - val_loss: 0.7475 - val_accuracy: 0.7391\n",
      "Epoch 24/200\n",
      "1/1 [==============================] - 0s 37ms/step - loss: 0.6110 - accuracy: 0.8478 - val_loss: 0.7512 - val_accuracy: 0.6522\n",
      "Epoch 25/200\n",
      "1/1 [==============================] - 0s 37ms/step - loss: 0.5836 - accuracy: 0.8913 - val_loss: 0.7504 - val_accuracy: 0.6522\n",
      "Epoch 26/200\n",
      "1/1 [==============================] - 0s 40ms/step - loss: 0.5899 - accuracy: 0.8261 - val_loss: 0.7473 - val_accuracy: 0.6522\n",
      "Epoch 27/200\n",
      "1/1 [==============================] - 0s 39ms/step - loss: 0.6063 - accuracy: 0.8478 - val_loss: 0.7444 - val_accuracy: 0.7391\n",
      "Epoch 28/200\n",
      "1/1 [==============================] - 0s 39ms/step - loss: 0.5965 - accuracy: 0.8913 - val_loss: 0.7441 - val_accuracy: 0.7391\n",
      "Epoch 29/200\n",
      "1/1 [==============================] - 0s 38ms/step - loss: 0.5913 - accuracy: 0.8913 - val_loss: 0.7440 - val_accuracy: 0.6522\n",
      "Epoch 30/200\n",
      "1/1 [==============================] - 0s 38ms/step - loss: 0.6071 - accuracy: 0.8043 - val_loss: 0.7447 - val_accuracy: 0.6522\n",
      "Epoch 31/200\n",
      "1/1 [==============================] - 0s 38ms/step - loss: 0.5853 - accuracy: 0.8478 - val_loss: 0.7460 - val_accuracy: 0.6522\n",
      "Epoch 32/200\n",
      "1/1 [==============================] - 0s 38ms/step - loss: 0.5974 - accuracy: 0.8261 - val_loss: 0.7442 - val_accuracy: 0.6957\n",
      "Epoch 33/200\n",
      "1/1 [==============================] - 0s 38ms/step - loss: 0.6001 - accuracy: 0.8261 - val_loss: 0.7454 - val_accuracy: 0.7391\n",
      "Epoch 34/200\n",
      "1/1 [==============================] - 0s 37ms/step - loss: 0.6145 - accuracy: 0.7826 - val_loss: 0.7480 - val_accuracy: 0.6957\n",
      "Epoch 35/200\n",
      "1/1 [==============================] - 0s 38ms/step - loss: 0.5853 - accuracy: 0.8478 - val_loss: 0.7561 - val_accuracy: 0.6522\n",
      "Epoch 36/200\n",
      "1/1 [==============================] - 0s 37ms/step - loss: 0.5944 - accuracy: 0.8478 - val_loss: 0.7573 - val_accuracy: 0.6522\n",
      "Epoch 37/200\n",
      "1/1 [==============================] - 0s 37ms/step - loss: 0.5776 - accuracy: 0.8478 - val_loss: 0.7490 - val_accuracy: 0.6522\n",
      "Epoch 38/200\n",
      "1/1 [==============================] - 0s 37ms/step - loss: 0.6032 - accuracy: 0.8261 - val_loss: 0.7429 - val_accuracy: 0.7391\n",
      "Epoch 39/200\n",
      "1/1 [==============================] - 0s 38ms/step - loss: 0.6024 - accuracy: 0.8478 - val_loss: 0.7417 - val_accuracy: 0.7391\n",
      "Epoch 40/200\n",
      "1/1 [==============================] - 0s 37ms/step - loss: 0.5939 - accuracy: 0.8478 - val_loss: 0.7396 - val_accuracy: 0.7391\n",
      "Epoch 41/200\n",
      "1/1 [==============================] - 0s 37ms/step - loss: 0.6005 - accuracy: 0.8478 - val_loss: 0.7414 - val_accuracy: 0.6522\n",
      "Epoch 42/200\n",
      "1/1 [==============================] - 0s 37ms/step - loss: 0.6050 - accuracy: 0.8913 - val_loss: 0.7432 - val_accuracy: 0.6522\n",
      "Epoch 43/200\n",
      "1/1 [==============================] - 0s 37ms/step - loss: 0.5875 - accuracy: 0.8261 - val_loss: 0.7443 - val_accuracy: 0.6522\n",
      "Epoch 44/200\n",
      "1/1 [==============================] - 0s 38ms/step - loss: 0.5909 - accuracy: 0.8696 - val_loss: 0.7475 - val_accuracy: 0.6522\n",
      "Epoch 45/200\n",
      "1/1 [==============================] - 0s 37ms/step - loss: 0.5710 - accuracy: 0.8478 - val_loss: 0.7476 - val_accuracy: 0.6957\n",
      "Epoch 46/200\n",
      "1/1 [==============================] - 0s 37ms/step - loss: 0.6071 - accuracy: 0.8478 - val_loss: 0.7452 - val_accuracy: 0.6957\n",
      "Epoch 47/200\n",
      "1/1 [==============================] - 0s 38ms/step - loss: 0.5920 - accuracy: 0.8696 - val_loss: 0.7443 - val_accuracy: 0.6522\n",
      "Epoch 48/200\n",
      "1/1 [==============================] - 0s 37ms/step - loss: 0.5890 - accuracy: 0.8913 - val_loss: 0.7437 - val_accuracy: 0.6957\n",
      "Epoch 49/200\n",
      "1/1 [==============================] - 0s 38ms/step - loss: 0.5939 - accuracy: 0.8478 - val_loss: 0.7432 - val_accuracy: 0.6522\n",
      "Epoch 50/200\n",
      "1/1 [==============================] - 0s 38ms/step - loss: 0.5791 - accuracy: 0.8696 - val_loss: 0.7418 - val_accuracy: 0.6522\n",
      "Epoch 51/200\n",
      "1/1 [==============================] - 0s 36ms/step - loss: 0.5893 - accuracy: 0.8261 - val_loss: 0.7398 - val_accuracy: 0.6957\n",
      "Epoch 52/200\n",
      "1/1 [==============================] - 0s 36ms/step - loss: 0.5954 - accuracy: 0.8261 - val_loss: 0.7407 - val_accuracy: 0.7391\n",
      "Epoch 53/200\n",
      "1/1 [==============================] - 0s 38ms/step - loss: 0.5969 - accuracy: 0.8478 - val_loss: 0.7424 - val_accuracy: 0.7391\n",
      "Epoch 54/200\n",
      "1/1 [==============================] - 0s 38ms/step - loss: 0.6040 - accuracy: 0.7826 - val_loss: 0.7475 - val_accuracy: 0.6522\n",
      "Epoch 55/200\n",
      "1/1 [==============================] - 0s 37ms/step - loss: 0.6083 - accuracy: 0.8478 - val_loss: 0.7498 - val_accuracy: 0.6522\n",
      "Epoch 56/200\n",
      "1/1 [==============================] - 0s 39ms/step - loss: 0.6016 - accuracy: 0.7826 - val_loss: 0.7485 - val_accuracy: 0.6957\n",
      "Epoch 57/200\n",
      "1/1 [==============================] - 0s 38ms/step - loss: 0.6016 - accuracy: 0.8261 - val_loss: 0.7475 - val_accuracy: 0.6957\n",
      "Epoch 58/200\n",
      "1/1 [==============================] - 0s 40ms/step - loss: 0.6005 - accuracy: 0.8261 - val_loss: 0.7472 - val_accuracy: 0.6522\n"
     ]
    },
    {
     "name": "stdout",
     "output_type": "stream",
     "text": [
      "Epoch 59/200\n",
      "1/1 [==============================] - 0s 35ms/step - loss: 0.5802 - accuracy: 0.8696 - val_loss: 0.7458 - val_accuracy: 0.6522\n",
      "Epoch 60/200\n",
      "1/1 [==============================] - 0s 38ms/step - loss: 0.6014 - accuracy: 0.7826 - val_loss: 0.7433 - val_accuracy: 0.6957\n",
      "Epoch 61/200\n",
      "1/1 [==============================] - 0s 37ms/step - loss: 0.5844 - accuracy: 0.8478 - val_loss: 0.7433 - val_accuracy: 0.7391\n",
      "Epoch 62/200\n",
      "1/1 [==============================] - 0s 42ms/step - loss: 0.5898 - accuracy: 0.8478 - val_loss: 0.7437 - val_accuracy: 0.7391\n",
      "Epoch 63/200\n",
      "1/1 [==============================] - 0s 40ms/step - loss: 0.6252 - accuracy: 0.8261 - val_loss: 0.7471 - val_accuracy: 0.6522\n",
      "Epoch 64/200\n",
      "1/1 [==============================] - 0s 36ms/step - loss: 0.5949 - accuracy: 0.8478 - val_loss: 0.7513 - val_accuracy: 0.6522\n",
      "Epoch 65/200\n",
      "1/1 [==============================] - 0s 37ms/step - loss: 0.5826 - accuracy: 0.8696 - val_loss: 0.7477 - val_accuracy: 0.6522\n",
      "Epoch 66/200\n",
      "1/1 [==============================] - 0s 38ms/step - loss: 0.5785 - accuracy: 0.9130 - val_loss: 0.7420 - val_accuracy: 0.6522\n",
      "Epoch 67/200\n",
      "1/1 [==============================] - 0s 37ms/step - loss: 0.6033 - accuracy: 0.8043 - val_loss: 0.7398 - val_accuracy: 0.7391\n",
      "Epoch 68/200\n",
      "1/1 [==============================] - 0s 39ms/step - loss: 0.5847 - accuracy: 0.8696 - val_loss: 0.7405 - val_accuracy: 0.7391\n",
      "Epoch 69/200\n",
      "1/1 [==============================] - 0s 36ms/step - loss: 0.6014 - accuracy: 0.8261 - val_loss: 0.7424 - val_accuracy: 0.6957\n",
      "Epoch 70/200\n",
      "1/1 [==============================] - 0s 37ms/step - loss: 0.5926 - accuracy: 0.8261 - val_loss: 0.7521 - val_accuracy: 0.6522\n",
      "Epoch 71/200\n",
      "1/1 [==============================] - 0s 39ms/step - loss: 0.5971 - accuracy: 0.8696 - val_loss: 0.7568 - val_accuracy: 0.6522\n",
      "Epoch 72/200\n",
      "1/1 [==============================] - 0s 41ms/step - loss: 0.5986 - accuracy: 0.8043 - val_loss: 0.7552 - val_accuracy: 0.6522\n",
      "Epoch 73/200\n",
      "1/1 [==============================] - 0s 39ms/step - loss: 0.6081 - accuracy: 0.7826 - val_loss: 0.7534 - val_accuracy: 0.6957\n",
      "Epoch 74/200\n",
      "1/1 [==============================] - 0s 40ms/step - loss: 0.5821 - accuracy: 0.8913 - val_loss: 0.7528 - val_accuracy: 0.7391\n",
      "Epoch 75/200\n",
      "1/1 [==============================] - 0s 39ms/step - loss: 0.5966 - accuracy: 0.8696 - val_loss: 0.7515 - val_accuracy: 0.7391\n",
      "Epoch 76/200\n",
      "1/1 [==============================] - 0s 40ms/step - loss: 0.5904 - accuracy: 0.8478 - val_loss: 0.7538 - val_accuracy: 0.6522\n",
      "Epoch 77/200\n",
      "1/1 [==============================] - 0s 39ms/step - loss: 0.5691 - accuracy: 0.8913 - val_loss: 0.7589 - val_accuracy: 0.6522\n",
      "Epoch 78/200\n",
      "1/1 [==============================] - 0s 40ms/step - loss: 0.5900 - accuracy: 0.8696 - val_loss: 0.7555 - val_accuracy: 0.6522\n",
      "Epoch 79/200\n",
      "1/1 [==============================] - 0s 41ms/step - loss: 0.6066 - accuracy: 0.7174 - val_loss: 0.7491 - val_accuracy: 0.7391\n",
      "Epoch 80/200\n",
      "1/1 [==============================] - 0s 38ms/step - loss: 0.5905 - accuracy: 0.8696 - val_loss: 0.7494 - val_accuracy: 0.7391\n",
      "Epoch 81/200\n",
      "1/1 [==============================] - 0s 38ms/step - loss: 0.5932 - accuracy: 0.8261 - val_loss: 0.7493 - val_accuracy: 0.7391\n",
      "Epoch 82/200\n",
      "1/1 [==============================] - 0s 38ms/step - loss: 0.6187 - accuracy: 0.8043 - val_loss: 0.7532 - val_accuracy: 0.6522\n",
      "Epoch 83/200\n",
      "1/1 [==============================] - 0s 37ms/step - loss: 0.5729 - accuracy: 0.8696 - val_loss: 0.7609 - val_accuracy: 0.6522\n",
      "Epoch 84/200\n",
      "1/1 [==============================] - 0s 38ms/step - loss: 0.5862 - accuracy: 0.8696 - val_loss: 0.7603 - val_accuracy: 0.6522\n",
      "Epoch 85/200\n",
      "1/1 [==============================] - 0s 38ms/step - loss: 0.5933 - accuracy: 0.8478 - val_loss: 0.7512 - val_accuracy: 0.6957\n",
      "Epoch 86/200\n",
      "1/1 [==============================] - 0s 38ms/step - loss: 0.5842 - accuracy: 0.8696 - val_loss: 0.7472 - val_accuracy: 0.7391\n",
      "Epoch 87/200\n",
      "1/1 [==============================] - 0s 37ms/step - loss: 0.6099 - accuracy: 0.7609 - val_loss: 0.7465 - val_accuracy: 0.7391\n",
      "Epoch 88/200\n",
      "1/1 [==============================] - 0s 38ms/step - loss: 0.5793 - accuracy: 0.8696 - val_loss: 0.7475 - val_accuracy: 0.6522\n",
      "Epoch 89/200\n",
      "1/1 [==============================] - 0s 37ms/step - loss: 0.5852 - accuracy: 0.9130 - val_loss: 0.7526 - val_accuracy: 0.6522\n",
      "Epoch 90/200\n",
      "1/1 [==============================] - 0s 38ms/step - loss: 0.6113 - accuracy: 0.8478 - val_loss: 0.7530 - val_accuracy: 0.6522\n",
      "Epoch 91/200\n",
      "1/1 [==============================] - 0s 37ms/step - loss: 0.6042 - accuracy: 0.8478 - val_loss: 0.7482 - val_accuracy: 0.7391\n",
      "Epoch 92/200\n",
      "1/1 [==============================] - 0s 38ms/step - loss: 0.6430 - accuracy: 0.7826 - val_loss: 0.7462 - val_accuracy: 0.6957\n",
      "Epoch 93/200\n",
      "1/1 [==============================] - 0s 39ms/step - loss: 0.6007 - accuracy: 0.8261 - val_loss: 0.7459 - val_accuracy: 0.7391\n",
      "Epoch 94/200\n",
      "1/1 [==============================] - 0s 37ms/step - loss: 0.5911 - accuracy: 0.8478 - val_loss: 0.7496 - val_accuracy: 0.6522\n",
      "Epoch 95/200\n",
      "1/1 [==============================] - 0s 38ms/step - loss: 0.6019 - accuracy: 0.8043 - val_loss: 0.7542 - val_accuracy: 0.6522\n",
      "Epoch 96/200\n",
      "1/1 [==============================] - 0s 38ms/step - loss: 0.6079 - accuracy: 0.8043 - val_loss: 0.7514 - val_accuracy: 0.6957\n",
      "Epoch 97/200\n",
      "1/1 [==============================] - 0s 38ms/step - loss: 0.5859 - accuracy: 0.8696 - val_loss: 0.7495 - val_accuracy: 0.6957\n",
      "Epoch 98/200\n",
      "1/1 [==============================] - 0s 39ms/step - loss: 0.5922 - accuracy: 0.8478 - val_loss: 0.7488 - val_accuracy: 0.6957\n",
      "Epoch 99/200\n",
      "1/1 [==============================] - 0s 37ms/step - loss: 0.5984 - accuracy: 0.8478 - val_loss: 0.7474 - val_accuracy: 0.6522\n",
      "Epoch 100/200\n",
      "1/1 [==============================] - 0s 38ms/step - loss: 0.5909 - accuracy: 0.8261 - val_loss: 0.7468 - val_accuracy: 0.6522\n",
      "Epoch 101/200\n",
      "1/1 [==============================] - 0s 41ms/step - loss: 0.6006 - accuracy: 0.8261 - val_loss: 0.7422 - val_accuracy: 0.6522\n",
      "Epoch 102/200\n",
      "1/1 [==============================] - 0s 42ms/step - loss: 0.6083 - accuracy: 0.8478 - val_loss: 0.7396 - val_accuracy: 0.7391\n",
      "Epoch 103/200\n",
      "1/1 [==============================] - 0s 39ms/step - loss: 0.6176 - accuracy: 0.8478 - val_loss: 0.7395 - val_accuracy: 0.7391\n",
      "Epoch 104/200\n",
      "1/1 [==============================] - 0s 36ms/step - loss: 0.6163 - accuracy: 0.8043 - val_loss: 0.7419 - val_accuracy: 0.6957\n",
      "Epoch 105/200\n",
      "1/1 [==============================] - 0s 37ms/step - loss: 0.5956 - accuracy: 0.8696 - val_loss: 0.7454 - val_accuracy: 0.6522\n",
      "Epoch 106/200\n",
      "1/1 [==============================] - 0s 38ms/step - loss: 0.6056 - accuracy: 0.8478 - val_loss: 0.7502 - val_accuracy: 0.6522\n",
      "Epoch 107/200\n",
      "1/1 [==============================] - 0s 39ms/step - loss: 0.5874 - accuracy: 0.8478 - val_loss: 0.7483 - val_accuracy: 0.6522\n",
      "Epoch 108/200\n",
      "1/1 [==============================] - 0s 38ms/step - loss: 0.5968 - accuracy: 0.8478 - val_loss: 0.7450 - val_accuracy: 0.6957\n",
      "Epoch 109/200\n",
      "1/1 [==============================] - 0s 37ms/step - loss: 0.5820 - accuracy: 0.8913 - val_loss: 0.7441 - val_accuracy: 0.7391\n",
      "Epoch 110/200\n",
      "1/1 [==============================] - 0s 39ms/step - loss: 0.5768 - accuracy: 0.8913 - val_loss: 0.7440 - val_accuracy: 0.7391\n",
      "Epoch 111/200\n",
      "1/1 [==============================] - 0s 40ms/step - loss: 0.5829 - accuracy: 0.8261 - val_loss: 0.7448 - val_accuracy: 0.6522\n",
      "Epoch 112/200\n",
      "1/1 [==============================] - 0s 39ms/step - loss: 0.6211 - accuracy: 0.8478 - val_loss: 0.7469 - val_accuracy: 0.6522\n",
      "Epoch 113/200\n",
      "1/1 [==============================] - 0s 38ms/step - loss: 0.5847 - accuracy: 0.8261 - val_loss: 0.7486 - val_accuracy: 0.6522\n",
      "Epoch 114/200\n",
      "1/1 [==============================] - 0s 39ms/step - loss: 0.5899 - accuracy: 0.8696 - val_loss: 0.7509 - val_accuracy: 0.6522\n",
      "Epoch 115/200\n",
      "1/1 [==============================] - 0s 38ms/step - loss: 0.5960 - accuracy: 0.8696 - val_loss: 0.7511 - val_accuracy: 0.6957\n",
      "Epoch 116/200\n",
      "1/1 [==============================] - 0s 36ms/step - loss: 0.5780 - accuracy: 0.8478 - val_loss: 0.7527 - val_accuracy: 0.6957\n"
     ]
    },
    {
     "name": "stdout",
     "output_type": "stream",
     "text": [
      "Epoch 117/200\n",
      "1/1 [==============================] - 0s 37ms/step - loss: 0.5765 - accuracy: 0.8478 - val_loss: 0.7555 - val_accuracy: 0.6957\n",
      "Epoch 118/200\n",
      "1/1 [==============================] - 0s 36ms/step - loss: 0.5935 - accuracy: 0.8043 - val_loss: 0.7546 - val_accuracy: 0.6957\n",
      "Epoch 119/200\n",
      "1/1 [==============================] - 0s 37ms/step - loss: 0.5847 - accuracy: 0.8696 - val_loss: 0.7505 - val_accuracy: 0.6957\n",
      "Epoch 120/200\n",
      "1/1 [==============================] - 0s 36ms/step - loss: 0.5724 - accuracy: 0.8696 - val_loss: 0.7506 - val_accuracy: 0.6957\n",
      "Epoch 121/200\n",
      "1/1 [==============================] - 0s 37ms/step - loss: 0.5884 - accuracy: 0.8043 - val_loss: 0.7495 - val_accuracy: 0.6522\n",
      "Epoch 122/200\n",
      "1/1 [==============================] - 0s 37ms/step - loss: 0.5867 - accuracy: 0.8913 - val_loss: 0.7524 - val_accuracy: 0.6522\n",
      "Epoch 123/200\n",
      "1/1 [==============================] - 0s 38ms/step - loss: 0.5905 - accuracy: 0.8696 - val_loss: 0.7462 - val_accuracy: 0.6522\n",
      "Epoch 124/200\n",
      "1/1 [==============================] - 0s 36ms/step - loss: 0.6034 - accuracy: 0.8696 - val_loss: 0.7424 - val_accuracy: 0.7391\n",
      "Epoch 125/200\n",
      "1/1 [==============================] - 0s 37ms/step - loss: 0.5961 - accuracy: 0.8043 - val_loss: 0.7422 - val_accuracy: 0.7391\n",
      "Epoch 126/200\n",
      "1/1 [==============================] - 0s 36ms/step - loss: 0.5903 - accuracy: 0.8478 - val_loss: 0.7443 - val_accuracy: 0.6522\n",
      "Epoch 127/200\n",
      "1/1 [==============================] - 0s 37ms/step - loss: 0.6001 - accuracy: 0.8261 - val_loss: 0.7492 - val_accuracy: 0.6522\n",
      "Epoch 128/200\n",
      "1/1 [==============================] - 0s 37ms/step - loss: 0.5904 - accuracy: 0.8696 - val_loss: 0.7488 - val_accuracy: 0.6957\n",
      "Epoch 129/200\n",
      "1/1 [==============================] - 0s 39ms/step - loss: 0.5931 - accuracy: 0.8696 - val_loss: 0.7500 - val_accuracy: 0.6957\n",
      "Epoch 130/200\n",
      "1/1 [==============================] - 0s 39ms/step - loss: 0.5775 - accuracy: 0.8478 - val_loss: 0.7488 - val_accuracy: 0.6957\n",
      "Epoch 131/200\n",
      "1/1 [==============================] - 0s 37ms/step - loss: 0.6026 - accuracy: 0.8261 - val_loss: 0.7505 - val_accuracy: 0.6522\n",
      "Epoch 132/200\n",
      "1/1 [==============================] - 0s 39ms/step - loss: 0.5782 - accuracy: 0.8696 - val_loss: 0.7514 - val_accuracy: 0.6522\n",
      "Epoch 133/200\n",
      "1/1 [==============================] - 0s 37ms/step - loss: 0.5700 - accuracy: 0.8696 - val_loss: 0.7457 - val_accuracy: 0.7391\n",
      "Epoch 134/200\n",
      "1/1 [==============================] - 0s 38ms/step - loss: 0.5744 - accuracy: 0.8478 - val_loss: 0.7448 - val_accuracy: 0.7391\n",
      "Epoch 135/200\n",
      "1/1 [==============================] - 0s 37ms/step - loss: 0.5711 - accuracy: 0.8478 - val_loss: 0.7462 - val_accuracy: 0.7391\n",
      "Epoch 136/200\n",
      "1/1 [==============================] - 0s 38ms/step - loss: 0.5885 - accuracy: 0.8478 - val_loss: 0.7561 - val_accuracy: 0.6522\n",
      "Epoch 137/200\n",
      "1/1 [==============================] - 0s 38ms/step - loss: 0.5698 - accuracy: 0.8913 - val_loss: 0.7665 - val_accuracy: 0.6087\n",
      "Epoch 138/200\n",
      "1/1 [==============================] - 0s 37ms/step - loss: 0.5875 - accuracy: 0.9130 - val_loss: 0.7573 - val_accuracy: 0.6522\n",
      "Epoch 139/200\n",
      "1/1 [==============================] - 0s 36ms/step - loss: 0.5923 - accuracy: 0.8913 - val_loss: 0.7536 - val_accuracy: 0.7391\n",
      "Epoch 140/200\n",
      "1/1 [==============================] - 0s 38ms/step - loss: 0.5962 - accuracy: 0.8261 - val_loss: 0.7539 - val_accuracy: 0.7391\n",
      "Epoch 141/200\n",
      "1/1 [==============================] - 0s 37ms/step - loss: 0.5620 - accuracy: 0.8913 - val_loss: 0.7546 - val_accuracy: 0.6957\n",
      "Epoch 142/200\n",
      "1/1 [==============================] - 0s 37ms/step - loss: 0.6122 - accuracy: 0.8043 - val_loss: 0.7603 - val_accuracy: 0.6522\n",
      "Epoch 143/200\n",
      "1/1 [==============================] - 0s 37ms/step - loss: 0.5810 - accuracy: 0.8696 - val_loss: 0.7624 - val_accuracy: 0.6522\n",
      "Epoch 144/200\n",
      "1/1 [==============================] - 0s 37ms/step - loss: 0.5835 - accuracy: 0.8478 - val_loss: 0.7522 - val_accuracy: 0.6957\n",
      "Epoch 145/200\n",
      "1/1 [==============================] - 0s 37ms/step - loss: 0.6057 - accuracy: 0.8478 - val_loss: 0.7473 - val_accuracy: 0.6957\n",
      "Epoch 146/200\n",
      "1/1 [==============================] - 0s 37ms/step - loss: 0.5954 - accuracy: 0.8043 - val_loss: 0.7446 - val_accuracy: 0.7391\n",
      "Epoch 147/200\n",
      "1/1 [==============================] - 0s 39ms/step - loss: 0.6222 - accuracy: 0.8261 - val_loss: 0.7469 - val_accuracy: 0.6522\n",
      "Epoch 148/200\n",
      "1/1 [==============================] - 0s 37ms/step - loss: 0.5935 - accuracy: 0.8478 - val_loss: 0.7515 - val_accuracy: 0.6522\n",
      "Epoch 149/200\n",
      "1/1 [==============================] - 0s 38ms/step - loss: 0.6053 - accuracy: 0.8696 - val_loss: 0.7513 - val_accuracy: 0.6522\n",
      "Epoch 150/200\n",
      "1/1 [==============================] - 0s 36ms/step - loss: 0.5847 - accuracy: 0.9130 - val_loss: 0.7512 - val_accuracy: 0.6957\n",
      "Epoch 151/200\n",
      "1/1 [==============================] - 0s 38ms/step - loss: 0.5872 - accuracy: 0.8478 - val_loss: 0.7522 - val_accuracy: 0.7391\n",
      "Epoch 152/200\n",
      "1/1 [==============================] - 0s 37ms/step - loss: 0.5906 - accuracy: 0.8478 - val_loss: 0.7539 - val_accuracy: 0.6957\n",
      "Epoch 153/200\n",
      "1/1 [==============================] - 0s 38ms/step - loss: 0.5598 - accuracy: 0.8696 - val_loss: 0.7567 - val_accuracy: 0.6957\n",
      "Epoch 154/200\n",
      "1/1 [==============================] - 0s 36ms/step - loss: 0.5829 - accuracy: 0.8261 - val_loss: 0.7561 - val_accuracy: 0.6522\n",
      "Epoch 155/200\n",
      "1/1 [==============================] - 0s 38ms/step - loss: 0.5685 - accuracy: 0.8696 - val_loss: 0.7547 - val_accuracy: 0.6522\n",
      "Epoch 156/200\n",
      "1/1 [==============================] - 0s 37ms/step - loss: 0.5987 - accuracy: 0.7609 - val_loss: 0.7495 - val_accuracy: 0.6522\n",
      "Epoch 157/200\n",
      "1/1 [==============================] - 0s 37ms/step - loss: 0.6055 - accuracy: 0.8696 - val_loss: 0.7470 - val_accuracy: 0.6522\n",
      "Epoch 158/200\n",
      "1/1 [==============================] - 0s 39ms/step - loss: 0.5960 - accuracy: 0.8261 - val_loss: 0.7468 - val_accuracy: 0.6522\n",
      "Epoch 159/200\n",
      "1/1 [==============================] - 0s 40ms/step - loss: 0.6123 - accuracy: 0.8696 - val_loss: 0.7451 - val_accuracy: 0.6522\n",
      "Epoch 160/200\n",
      "1/1 [==============================] - 0s 37ms/step - loss: 0.5855 - accuracy: 0.8478 - val_loss: 0.7425 - val_accuracy: 0.6957\n",
      "Epoch 161/200\n",
      "1/1 [==============================] - 0s 38ms/step - loss: 0.6037 - accuracy: 0.8043 - val_loss: 0.7429 - val_accuracy: 0.7391\n",
      "Epoch 162/200\n",
      "1/1 [==============================] - 0s 37ms/step - loss: 0.6109 - accuracy: 0.8478 - val_loss: 0.7451 - val_accuracy: 0.6522\n",
      "Epoch 163/200\n",
      "1/1 [==============================] - 0s 37ms/step - loss: 0.5853 - accuracy: 0.8478 - val_loss: 0.7506 - val_accuracy: 0.6522\n",
      "Epoch 164/200\n",
      "1/1 [==============================] - 0s 37ms/step - loss: 0.6041 - accuracy: 0.8043 - val_loss: 0.7522 - val_accuracy: 0.6522\n",
      "Epoch 165/200\n",
      "1/1 [==============================] - 0s 36ms/step - loss: 0.5965 - accuracy: 0.8043 - val_loss: 0.7449 - val_accuracy: 0.6957\n",
      "Epoch 166/200\n",
      "1/1 [==============================] - 0s 37ms/step - loss: 0.6146 - accuracy: 0.8261 - val_loss: 0.7440 - val_accuracy: 0.6957\n",
      "Epoch 167/200\n",
      "1/1 [==============================] - 0s 37ms/step - loss: 0.5835 - accuracy: 0.8261 - val_loss: 0.7440 - val_accuracy: 0.6522\n",
      "Epoch 168/200\n",
      "1/1 [==============================] - 0s 38ms/step - loss: 0.5726 - accuracy: 0.8696 - val_loss: 0.7427 - val_accuracy: 0.6522\n",
      "Epoch 169/200\n",
      "1/1 [==============================] - 0s 39ms/step - loss: 0.6082 - accuracy: 0.8261 - val_loss: 0.7426 - val_accuracy: 0.7391\n",
      "Epoch 170/200\n",
      "1/1 [==============================] - 0s 38ms/step - loss: 0.5903 - accuracy: 0.8043 - val_loss: 0.7498 - val_accuracy: 0.6522\n",
      "Epoch 171/200\n",
      "1/1 [==============================] - 0s 36ms/step - loss: 0.6302 - accuracy: 0.7826 - val_loss: 0.7519 - val_accuracy: 0.6522\n",
      "Epoch 172/200\n",
      "1/1 [==============================] - 0s 37ms/step - loss: 0.5998 - accuracy: 0.8043 - val_loss: 0.7483 - val_accuracy: 0.6957\n",
      "Epoch 173/200\n",
      "1/1 [==============================] - 0s 37ms/step - loss: 0.5687 - accuracy: 0.8696 - val_loss: 0.7487 - val_accuracy: 0.6957\n",
      "Epoch 174/200\n",
      "1/1 [==============================] - 0s 37ms/step - loss: 0.6101 - accuracy: 0.8261 - val_loss: 0.7501 - val_accuracy: 0.6957\n"
     ]
    },
    {
     "name": "stdout",
     "output_type": "stream",
     "text": [
      "Epoch 175/200\n",
      "1/1 [==============================] - 0s 37ms/step - loss: 0.5920 - accuracy: 0.8261 - val_loss: 0.7490 - val_accuracy: 0.6957\n",
      "Epoch 176/200\n",
      "1/1 [==============================] - 0s 38ms/step - loss: 0.5990 - accuracy: 0.8043 - val_loss: 0.7474 - val_accuracy: 0.6957\n",
      "Epoch 177/200\n",
      "1/1 [==============================] - 0s 37ms/step - loss: 0.5798 - accuracy: 0.8696 - val_loss: 0.7479 - val_accuracy: 0.6522\n",
      "Epoch 178/200\n",
      "1/1 [==============================] - 0s 37ms/step - loss: 0.5994 - accuracy: 0.8478 - val_loss: 0.7485 - val_accuracy: 0.6522\n",
      "Epoch 179/200\n",
      "1/1 [==============================] - 0s 38ms/step - loss: 0.5741 - accuracy: 0.8913 - val_loss: 0.7457 - val_accuracy: 0.6522\n",
      "Epoch 180/200\n",
      "1/1 [==============================] - 0s 38ms/step - loss: 0.5933 - accuracy: 0.8696 - val_loss: 0.7425 - val_accuracy: 0.7391\n",
      "Epoch 181/200\n",
      "1/1 [==============================] - 0s 37ms/step - loss: 0.5845 - accuracy: 0.8478 - val_loss: 0.7430 - val_accuracy: 0.7391\n",
      "Epoch 182/200\n",
      "1/1 [==============================] - 0s 39ms/step - loss: 0.5743 - accuracy: 0.8478 - val_loss: 0.7440 - val_accuracy: 0.6957\n",
      "Epoch 183/200\n",
      "1/1 [==============================] - 0s 37ms/step - loss: 0.5774 - accuracy: 0.8696 - val_loss: 0.7464 - val_accuracy: 0.6957\n",
      "Epoch 184/200\n",
      "1/1 [==============================] - 0s 37ms/step - loss: 0.5874 - accuracy: 0.8261 - val_loss: 0.7538 - val_accuracy: 0.6522\n",
      "Epoch 185/200\n",
      "1/1 [==============================] - 0s 37ms/step - loss: 0.5707 - accuracy: 0.8913 - val_loss: 0.7540 - val_accuracy: 0.6522\n",
      "Epoch 186/200\n",
      "1/1 [==============================] - 0s 37ms/step - loss: 0.5999 - accuracy: 0.7826 - val_loss: 0.7477 - val_accuracy: 0.6957\n",
      "Epoch 187/200\n",
      "1/1 [==============================] - 0s 38ms/step - loss: 0.6032 - accuracy: 0.8696 - val_loss: 0.7457 - val_accuracy: 0.7391\n",
      "Epoch 188/200\n",
      "1/1 [==============================] - 0s 39ms/step - loss: 0.5965 - accuracy: 0.7609 - val_loss: 0.7447 - val_accuracy: 0.6522\n",
      "Epoch 189/200\n",
      "1/1 [==============================] - 0s 40ms/step - loss: 0.5757 - accuracy: 0.8696 - val_loss: 0.7447 - val_accuracy: 0.6522\n",
      "Epoch 190/200\n",
      "1/1 [==============================] - 0s 37ms/step - loss: 0.5998 - accuracy: 0.8478 - val_loss: 0.7486 - val_accuracy: 0.6522\n",
      "Epoch 191/200\n",
      "1/1 [==============================] - 0s 38ms/step - loss: 0.5769 - accuracy: 0.8696 - val_loss: 0.7502 - val_accuracy: 0.6522\n",
      "Epoch 192/200\n",
      "1/1 [==============================] - 0s 41ms/step - loss: 0.5799 - accuracy: 0.8696 - val_loss: 0.7491 - val_accuracy: 0.6957\n",
      "Epoch 193/200\n",
      "1/1 [==============================] - 0s 38ms/step - loss: 0.5870 - accuracy: 0.8696 - val_loss: 0.7504 - val_accuracy: 0.7391\n",
      "Epoch 194/200\n",
      "1/1 [==============================] - 0s 38ms/step - loss: 0.5975 - accuracy: 0.8261 - val_loss: 0.7508 - val_accuracy: 0.6957\n",
      "Epoch 195/200\n",
      "1/1 [==============================] - 0s 41ms/step - loss: 0.6005 - accuracy: 0.8043 - val_loss: 0.7537 - val_accuracy: 0.6957\n",
      "Epoch 196/200\n",
      "1/1 [==============================] - 0s 38ms/step - loss: 0.6000 - accuracy: 0.8261 - val_loss: 0.7557 - val_accuracy: 0.6522\n",
      "Epoch 197/200\n",
      "1/1 [==============================] - 0s 37ms/step - loss: 0.5820 - accuracy: 0.8478 - val_loss: 0.7541 - val_accuracy: 0.6957\n",
      "Epoch 198/200\n",
      "1/1 [==============================] - 0s 36ms/step - loss: 0.6251 - accuracy: 0.8261 - val_loss: 0.7539 - val_accuracy: 0.6957\n",
      "Epoch 199/200\n",
      "1/1 [==============================] - 0s 38ms/step - loss: 0.6185 - accuracy: 0.8261 - val_loss: 0.7533 - val_accuracy: 0.6957\n",
      "Epoch 200/200\n",
      "1/1 [==============================] - 0s 38ms/step - loss: 0.5836 - accuracy: 0.8261 - val_loss: 0.7546 - val_accuracy: 0.6957\n",
      "Most important variables:  [0 2 1 3 4 5]\n"
     ]
    }
   ],
   "source": [
    "VIANN = VarImpVIANN(verbose=1)\n",
    "model_3_OL.compile(optimizer='adam',\n",
    "              loss='binary_crossentropy',\n",
    "              metrics=['accuracy'])\n",
    "hist_5 = model_3_OL.fit(X_train3, y_traindm3,\n",
    "          batch_size=46, epochs=200,\n",
    "          validation_data=(X_val3, y_valdm3), callbacks=[VIANN])"
   ]
  },
  {
   "cell_type": "markdown",
   "metadata": {},
   "source": [
    "#### Visualize the loss and accuracy graphs for Split 3."
   ]
  },
  {
   "cell_type": "code",
   "execution_count": 104,
   "metadata": {},
   "outputs": [
    {
     "data": {
      "image/png": "[encoded data removed]",
      "text/plain": [
       "<Figure size 460.8x316.8 with 1 Axes>"
      ]
     },
     "metadata": {
      "needs_background": "light"
     },
     "output_type": "display_data"
    }
   ],
   "source": [
    "plt.plot(hist_5.history['loss'])\n",
    "plt.plot(hist_5.history['val_loss'])\n",
    "plt.title('Model loss')\n",
    "plt.ylabel('Loss')\n",
    "plt.xlabel('Epoch')\n",
    "plt.legend(['Train', 'Val'], loc='upper right')\n",
    "plt.ylim(top=2, bottom=0)\n",
    "plt.show()"
   ]
  },
  {
   "cell_type": "code",
   "execution_count": 105,
   "metadata": {},
   "outputs": [
    {
     "data": {
      "image/png": "[encoded data removed]",
      "text/plain": [
       "<Figure size 460.8x316.8 with 1 Axes>"
      ]
     },
     "metadata": {
      "needs_background": "light"
     },
     "output_type": "display_data"
    }
   ],
   "source": [
    "plt.plot(hist_5.history['accuracy'])\n",
    "plt.plot(hist_5.history['val_accuracy'])\n",
    "plt.title('Model accuracy')\n",
    "plt.ylabel('Accuracy')\n",
    "plt.xlabel('Epoch')\n",
    "plt.legend(['Train', 'Val'], loc='lower right')\n",
    "plt.show()"
   ]
  },
  {
   "cell_type": "markdown",
   "metadata": {},
   "source": [
    "**Test Accuracy**"
   ]
  },
  {
   "cell_type": "code",
   "execution_count": 106,
   "metadata": {},
   "outputs": [
    {
     "name": "stdout",
     "output_type": "stream",
     "text": [
      "1/1 [==============================] - 0s 13ms/step - loss: 0.7774 - accuracy: 0.8696\n"
     ]
    },
    {
     "data": {
      "text/plain": [
       "0.8695651888847351"
      ]
     },
     "execution_count": 106,
     "metadata": {},
     "output_type": "execute_result"
    }
   ],
   "source": [
    "model_3_OL.evaluate(X_test3, y_testdm3)[1]"
   ]
  },
  {
   "cell_type": "markdown",
   "metadata": {},
   "source": [
    "**Re-split model loss and accuracy are consistent with previous results.**"
   ]
  },
  {
   "cell_type": "markdown",
   "metadata": {},
   "source": [
    "## The End"
   ]
  }
 ],
 "metadata": {
  "celltoolbar": "Slideshow",
  "kernelspec": {
   "display_name": "Python 3",
   "language": "python",
   "name": "python3"
  },
  "language_info": {
   "codemirror_mode": {
    "name": "ipython",
    "version": 3
   },
   "file_extension": ".py",
   "mimetype": "text/x-python",
   "name": "python",
   "nbconvert_exporter": "python",
   "pygments_lexer": "ipython3",
   "version": "3.8.8"
  }
 },
 "nbformat": 4,
 "nbformat_minor": 2
}
