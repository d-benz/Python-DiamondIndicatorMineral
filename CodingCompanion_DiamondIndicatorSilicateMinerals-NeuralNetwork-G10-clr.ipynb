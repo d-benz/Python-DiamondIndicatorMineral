{
 "cells": [
  {
   "cell_type": "markdown",
   "metadata": {},
   "source": [
    "# Coding Companion for Diamond Indicator Silicate Mineral Neural Network - G10 Garnets (Annotated)"
   ]
  },
  {
   "cell_type": "markdown",
   "metadata": {},
   "source": [
    "This notebook contains the code for creating the diamond indicator silicate mineral neural network to predict whether the mineral is associated with rich or poor diamond contents.\n",
    "\n",
    "We will go through the following in this notebook:\n",
    "\n",
    "- Exploring and Processing the Data\n",
    "- Building and Training our Neural Network\n",
    "- Visualizing Loss and Accuracy\n",
    "- Adding Regularization to our Neural Network\n",
    "- Saving and testing the model\n",
    "- Visualizing the model results\n",
    "\n",
    "Note that the results you get might differ slightly as there is a degree of randomness in the way the dataset is split as well as the initialization of the neural network.\n",
    "\n",
    "Under the Home tab for Anaconda Navigator 1.10.0 Launch CMD.exe Prompt to open C:\\Windows\\system32\\cmd.exe prompt. This prompt will show C:\\Users\\Name but the installation of the packages will be directed to whichever drive in which Anaconda is installed.\n",
    "\n",
    "For this Coding Companion the following packages were installed:\n",
    "\n",
    "- pip install keras\n",
    "- pip install tensorflow\n",
    "- pip install pydot\n",
    "- pip install graphviz\n",
    "- pip install plotly==4.14.3"
   ]
  },
  {
   "cell_type": "markdown",
   "metadata": {},
   "source": [
    "## Exploring and Processing the Data"
   ]
  },
  {
   "cell_type": "markdown",
   "metadata": {},
   "source": [
    "We first have to read in the CSV file that we've been given. The following packages are used:\n",
    "- pandas for importing\n",
    "- matplotlib.pyplot for creating graphs\n",
    "- seaborn for graph sizes and palettes\n",
    "- pydot and graphviz to view the neural network\n",
    "- VIANN to check neural network feature importance\n",
    "- and checking the python version.\n",
    "This code was created using Python 3.8.8 version."
   ]
  },
  {
   "cell_type": "code",
   "execution_count": 1,
   "metadata": {
    "scrolled": false
   },
   "outputs": [
    {
     "name": "stdout",
     "output_type": "stream",
     "text": [
      "python: 3.8.8\n"
     ]
    }
   ],
   "source": [
    "import numpy as np\n",
    "import pandas as pd\n",
    "import matplotlib.pyplot as plt\n",
    "import seaborn as sns\n",
    "\n",
    "import sklearn\n",
    "import sklearn.metrics\n",
    "\n",
    "import pydot\n",
    "import graphviz\n",
    "\n",
    "from platform import python_version\n",
    "print('python: %s' % python_version())"
   ]
  },
  {
   "cell_type": "code",
   "execution_count": 2,
   "metadata": {
    "scrolled": false
   },
   "outputs": [
    {
     "name": "stdout",
     "output_type": "stream",
     "text": [
      "sklearn: 0.24.1\n"
     ]
    }
   ],
   "source": [
    "# check scikit-learn version as 0.24.1\n",
    "print('sklearn: %s' % sklearn.__version__)"
   ]
  },
  {
   "cell_type": "markdown",
   "metadata": {},
   "source": [
    "**Fix random seed for reproducibility**"
   ]
  },
  {
   "cell_type": "code",
   "execution_count": 3,
   "metadata": {
    "scrolled": false
   },
   "outputs": [],
   "source": [
    "np.random.seed(333)"
   ]
  },
  {
   "cell_type": "markdown",
   "metadata": {},
   "source": [
    "**Import and view the data**"
   ]
  },
  {
   "cell_type": "code",
   "execution_count": 4,
   "metadata": {
    "scrolled": false
   },
   "outputs": [
    {
     "data": {
      "text/plain": [
       "'C:\\\\Users\\\\David\\\\DiamondIndicatorMineral_LAICPMS-ML'"
      ]
     },
     "execution_count": 4,
     "metadata": {},
     "output_type": "execute_result"
    }
   ],
   "source": [
    "#Check working directory\n",
    "import os\n",
    "os.getcwd( )"
   ]
  },
  {
   "cell_type": "code",
   "execution_count": 5,
   "metadata": {
    "scrolled": false
   },
   "outputs": [
    {
     "data": {
      "text/plain": [
       "'g:\\\\R_and_D\\\\Projects\\\\MSc_Diamonds\\\\Python'"
      ]
     },
     "execution_count": 5,
     "metadata": {},
     "output_type": "execute_result"
    }
   ],
   "source": [
    "#Change working directory\n",
    "os.chdir('g:\\\\R_and_D\\\\Projects\\\\MSc_Diamonds\\\\Python')\n",
    "os.getcwd( )"
   ]
  },
  {
   "cell_type": "code",
   "execution_count": 6,
   "metadata": {
    "scrolled": false
   },
   "outputs": [],
   "source": [
    "#Read in csv file\n",
    "df = pd.read_csv('G10_final.csv')"
   ]
  },
  {
   "cell_type": "code",
   "execution_count": 7,
   "metadata": {
    "scrolled": false
   },
   "outputs": [
    {
     "data": {
      "text/html": [
       "<div>\n",
       "<style scoped>\n",
       "    .dataframe tbody tr th:only-of-type {\n",
       "        vertical-align: middle;\n",
       "    }\n",
       "\n",
       "    .dataframe tbody tr th {\n",
       "        vertical-align: top;\n",
       "    }\n",
       "\n",
       "    .dataframe thead th {\n",
       "        text-align: right;\n",
       "    }\n",
       "</style>\n",
       "<table border=\"1\" class=\"dataframe\">\n",
       "  <thead>\n",
       "    <tr style=\"text-align: right;\">\n",
       "      <th></th>\n",
       "      <th>Sample</th>\n",
       "      <th>Mineral</th>\n",
       "      <th>Pipe</th>\n",
       "      <th>Diamond_High</th>\n",
       "      <th>Craton</th>\n",
       "      <th>Al</th>\n",
       "      <th>Si</th>\n",
       "      <th>Ca</th>\n",
       "      <th>Sc</th>\n",
       "      <th>V</th>\n",
       "      <th>...</th>\n",
       "      <th>V7</th>\n",
       "      <th>V8</th>\n",
       "      <th>V9</th>\n",
       "      <th>V10</th>\n",
       "      <th>V11</th>\n",
       "      <th>V12</th>\n",
       "      <th>V13</th>\n",
       "      <th>V14</th>\n",
       "      <th>V15</th>\n",
       "      <th>V16</th>\n",
       "    </tr>\n",
       "  </thead>\n",
       "  <tbody>\n",
       "    <tr>\n",
       "      <th>0</th>\n",
       "      <td>Ap24A03</td>\n",
       "      <td>G10</td>\n",
       "      <td>BEARTOOTH</td>\n",
       "      <td>yes</td>\n",
       "      <td>Slave</td>\n",
       "      <td>53520</td>\n",
       "      <td>187900</td>\n",
       "      <td>31380</td>\n",
       "      <td>174.50</td>\n",
       "      <td>186.40</td>\n",
       "      <td>...</td>\n",
       "      <td>0.059175</td>\n",
       "      <td>-0.045044</td>\n",
       "      <td>0.007594</td>\n",
       "      <td>0.020762</td>\n",
       "      <td>-0.000162</td>\n",
       "      <td>0.028884</td>\n",
       "      <td>-0.005402</td>\n",
       "      <td>0.004078</td>\n",
       "      <td>-0.004741</td>\n",
       "      <td>1.800000e-16</td>\n",
       "    </tr>\n",
       "    <tr>\n",
       "      <th>1</th>\n",
       "      <td>Ap24A04</td>\n",
       "      <td>G10</td>\n",
       "      <td>BEARTOOTH</td>\n",
       "      <td>yes</td>\n",
       "      <td>Slave</td>\n",
       "      <td>46940</td>\n",
       "      <td>191100</td>\n",
       "      <td>19420</td>\n",
       "      <td>106.70</td>\n",
       "      <td>221.50</td>\n",
       "      <td>...</td>\n",
       "      <td>0.052749</td>\n",
       "      <td>0.047980</td>\n",
       "      <td>-0.023213</td>\n",
       "      <td>-0.004912</td>\n",
       "      <td>-0.021571</td>\n",
       "      <td>0.021354</td>\n",
       "      <td>-0.005941</td>\n",
       "      <td>-0.017132</td>\n",
       "      <td>-0.006856</td>\n",
       "      <td>6.940000e-18</td>\n",
       "    </tr>\n",
       "    <tr>\n",
       "      <th>2</th>\n",
       "      <td>Ap24A05</td>\n",
       "      <td>G10</td>\n",
       "      <td>BEARTOOTH</td>\n",
       "      <td>yes</td>\n",
       "      <td>Slave</td>\n",
       "      <td>51980</td>\n",
       "      <td>188800</td>\n",
       "      <td>25410</td>\n",
       "      <td>160.50</td>\n",
       "      <td>211.50</td>\n",
       "      <td>...</td>\n",
       "      <td>0.078188</td>\n",
       "      <td>-0.024073</td>\n",
       "      <td>-0.008526</td>\n",
       "      <td>-0.041558</td>\n",
       "      <td>-0.047490</td>\n",
       "      <td>-0.003597</td>\n",
       "      <td>0.015464</td>\n",
       "      <td>0.023233</td>\n",
       "      <td>-0.006571</td>\n",
       "      <td>3.470000e-17</td>\n",
       "    </tr>\n",
       "    <tr>\n",
       "      <th>3</th>\n",
       "      <td>Ap24A06</td>\n",
       "      <td>G10</td>\n",
       "      <td>BEARTOOTH</td>\n",
       "      <td>yes</td>\n",
       "      <td>Slave</td>\n",
       "      <td>51400</td>\n",
       "      <td>195800</td>\n",
       "      <td>8044</td>\n",
       "      <td>139.70</td>\n",
       "      <td>132.90</td>\n",
       "      <td>...</td>\n",
       "      <td>-0.003309</td>\n",
       "      <td>-0.034093</td>\n",
       "      <td>-0.009127</td>\n",
       "      <td>0.018152</td>\n",
       "      <td>-0.018474</td>\n",
       "      <td>-0.060180</td>\n",
       "      <td>0.020832</td>\n",
       "      <td>0.006189</td>\n",
       "      <td>-0.018425</td>\n",
       "      <td>-1.700000e-16</td>\n",
       "    </tr>\n",
       "    <tr>\n",
       "      <th>4</th>\n",
       "      <td>Ap24A07</td>\n",
       "      <td>G10</td>\n",
       "      <td>BEARTOOTH</td>\n",
       "      <td>yes</td>\n",
       "      <td>Slave</td>\n",
       "      <td>54190</td>\n",
       "      <td>190300</td>\n",
       "      <td>28890</td>\n",
       "      <td>112.70</td>\n",
       "      <td>247.60</td>\n",
       "      <td>...</td>\n",
       "      <td>0.046292</td>\n",
       "      <td>-0.044779</td>\n",
       "      <td>0.013384</td>\n",
       "      <td>0.023062</td>\n",
       "      <td>-0.054809</td>\n",
       "      <td>-0.011661</td>\n",
       "      <td>-0.029886</td>\n",
       "      <td>-0.024099</td>\n",
       "      <td>0.003641</td>\n",
       "      <td>-5.120000e-17</td>\n",
       "    </tr>\n",
       "    <tr>\n",
       "      <th>...</th>\n",
       "      <td>...</td>\n",
       "      <td>...</td>\n",
       "      <td>...</td>\n",
       "      <td>...</td>\n",
       "      <td>...</td>\n",
       "      <td>...</td>\n",
       "      <td>...</td>\n",
       "      <td>...</td>\n",
       "      <td>...</td>\n",
       "      <td>...</td>\n",
       "      <td>...</td>\n",
       "      <td>...</td>\n",
       "      <td>...</td>\n",
       "      <td>...</td>\n",
       "      <td>...</td>\n",
       "      <td>...</td>\n",
       "      <td>...</td>\n",
       "      <td>...</td>\n",
       "      <td>...</td>\n",
       "      <td>...</td>\n",
       "      <td>...</td>\n",
       "    </tr>\n",
       "    <tr>\n",
       "      <th>112</th>\n",
       "      <td>Ap27D09</td>\n",
       "      <td>G10</td>\n",
       "      <td>ZERO</td>\n",
       "      <td>no</td>\n",
       "      <td>Kaapvaal</td>\n",
       "      <td>68900</td>\n",
       "      <td>201400</td>\n",
       "      <td>13980</td>\n",
       "      <td>98.48</td>\n",
       "      <td>143.50</td>\n",
       "      <td>...</td>\n",
       "      <td>0.002278</td>\n",
       "      <td>0.028733</td>\n",
       "      <td>-0.002856</td>\n",
       "      <td>0.010125</td>\n",
       "      <td>-0.019021</td>\n",
       "      <td>-0.003139</td>\n",
       "      <td>0.001733</td>\n",
       "      <td>-0.006207</td>\n",
       "      <td>0.012803</td>\n",
       "      <td>-4.860000e-17</td>\n",
       "    </tr>\n",
       "    <tr>\n",
       "      <th>113</th>\n",
       "      <td>Ap27D10</td>\n",
       "      <td>G10</td>\n",
       "      <td>ZERO</td>\n",
       "      <td>no</td>\n",
       "      <td>Kaapvaal</td>\n",
       "      <td>101300</td>\n",
       "      <td>200300</td>\n",
       "      <td>23010</td>\n",
       "      <td>161.90</td>\n",
       "      <td>161.50</td>\n",
       "      <td>...</td>\n",
       "      <td>0.028509</td>\n",
       "      <td>-0.015499</td>\n",
       "      <td>-0.025834</td>\n",
       "      <td>0.018389</td>\n",
       "      <td>0.005938</td>\n",
       "      <td>-0.027443</td>\n",
       "      <td>-0.010170</td>\n",
       "      <td>-0.008124</td>\n",
       "      <td>0.046701</td>\n",
       "      <td>1.930000e-16</td>\n",
       "    </tr>\n",
       "    <tr>\n",
       "      <th>114</th>\n",
       "      <td>Ap27K03</td>\n",
       "      <td>G10</td>\n",
       "      <td>ZERO</td>\n",
       "      <td>no</td>\n",
       "      <td>Kaapvaal</td>\n",
       "      <td>61450</td>\n",
       "      <td>199700</td>\n",
       "      <td>8356</td>\n",
       "      <td>96.51</td>\n",
       "      <td>39.04</td>\n",
       "      <td>...</td>\n",
       "      <td>-0.050483</td>\n",
       "      <td>-0.003530</td>\n",
       "      <td>-0.041145</td>\n",
       "      <td>0.031847</td>\n",
       "      <td>-0.010526</td>\n",
       "      <td>0.073550</td>\n",
       "      <td>-0.046511</td>\n",
       "      <td>-0.000556</td>\n",
       "      <td>-0.019630</td>\n",
       "      <td>2.080000e-17</td>\n",
       "    </tr>\n",
       "    <tr>\n",
       "      <th>115</th>\n",
       "      <td>Ap27K04</td>\n",
       "      <td>G10</td>\n",
       "      <td>ZERO</td>\n",
       "      <td>no</td>\n",
       "      <td>Kaapvaal</td>\n",
       "      <td>62380</td>\n",
       "      <td>201100</td>\n",
       "      <td>7105</td>\n",
       "      <td>43.18</td>\n",
       "      <td>54.77</td>\n",
       "      <td>...</td>\n",
       "      <td>0.001689</td>\n",
       "      <td>0.017170</td>\n",
       "      <td>-0.058057</td>\n",
       "      <td>0.029076</td>\n",
       "      <td>0.023700</td>\n",
       "      <td>0.014014</td>\n",
       "      <td>0.025477</td>\n",
       "      <td>-0.008218</td>\n",
       "      <td>-0.016341</td>\n",
       "      <td>1.390000e-17</td>\n",
       "    </tr>\n",
       "    <tr>\n",
       "      <th>116</th>\n",
       "      <td>Ap27K05</td>\n",
       "      <td>G10</td>\n",
       "      <td>ZERO</td>\n",
       "      <td>no</td>\n",
       "      <td>Kaapvaal</td>\n",
       "      <td>76440</td>\n",
       "      <td>202200</td>\n",
       "      <td>10350</td>\n",
       "      <td>73.08</td>\n",
       "      <td>57.57</td>\n",
       "      <td>...</td>\n",
       "      <td>0.049580</td>\n",
       "      <td>0.028070</td>\n",
       "      <td>-0.066614</td>\n",
       "      <td>-0.031350</td>\n",
       "      <td>-0.098730</td>\n",
       "      <td>0.042382</td>\n",
       "      <td>-0.040205</td>\n",
       "      <td>0.009535</td>\n",
       "      <td>0.007119</td>\n",
       "      <td>-3.560000e-17</td>\n",
       "    </tr>\n",
       "  </tbody>\n",
       "</table>\n",
       "<p>117 rows × 53 columns</p>\n",
       "</div>"
      ],
      "text/plain": [
       "          Sample Mineral       Pipe Diamond_High    Craton      Al      Si  \\\n",
       "0        Ap24A03     G10  BEARTOOTH          yes     Slave   53520  187900   \n",
       "1        Ap24A04     G10  BEARTOOTH          yes     Slave   46940  191100   \n",
       "2        Ap24A05     G10  BEARTOOTH          yes     Slave   51980  188800   \n",
       "3        Ap24A06     G10  BEARTOOTH          yes     Slave   51400  195800   \n",
       "4        Ap24A07     G10  BEARTOOTH          yes     Slave   54190  190300   \n",
       "..           ...     ...        ...          ...       ...     ...     ...   \n",
       "112      Ap27D09     G10       ZERO           no  Kaapvaal   68900  201400   \n",
       "113      Ap27D10     G10       ZERO           no  Kaapvaal  101300  200300   \n",
       "114      Ap27K03     G10       ZERO           no  Kaapvaal   61450  199700   \n",
       "115      Ap27K04     G10       ZERO           no  Kaapvaal   62380  201100   \n",
       "116      Ap27K05     G10       ZERO           no  Kaapvaal   76440  202200   \n",
       "\n",
       "        Ca      Sc       V  ...        V7        V8        V9       V10  \\\n",
       "0    31380  174.50  186.40  ...  0.059175 -0.045044  0.007594  0.020762   \n",
       "1    19420  106.70  221.50  ...  0.052749  0.047980 -0.023213 -0.004912   \n",
       "2    25410  160.50  211.50  ...  0.078188 -0.024073 -0.008526 -0.041558   \n",
       "3     8044  139.70  132.90  ... -0.003309 -0.034093 -0.009127  0.018152   \n",
       "4    28890  112.70  247.60  ...  0.046292 -0.044779  0.013384  0.023062   \n",
       "..     ...     ...     ...  ...       ...       ...       ...       ...   \n",
       "112  13980   98.48  143.50  ...  0.002278  0.028733 -0.002856  0.010125   \n",
       "113  23010  161.90  161.50  ...  0.028509 -0.015499 -0.025834  0.018389   \n",
       "114   8356   96.51   39.04  ... -0.050483 -0.003530 -0.041145  0.031847   \n",
       "115   7105   43.18   54.77  ...  0.001689  0.017170 -0.058057  0.029076   \n",
       "116  10350   73.08   57.57  ...  0.049580  0.028070 -0.066614 -0.031350   \n",
       "\n",
       "          V11       V12       V13       V14       V15           V16  \n",
       "0   -0.000162  0.028884 -0.005402  0.004078 -0.004741  1.800000e-16  \n",
       "1   -0.021571  0.021354 -0.005941 -0.017132 -0.006856  6.940000e-18  \n",
       "2   -0.047490 -0.003597  0.015464  0.023233 -0.006571  3.470000e-17  \n",
       "3   -0.018474 -0.060180  0.020832  0.006189 -0.018425 -1.700000e-16  \n",
       "4   -0.054809 -0.011661 -0.029886 -0.024099  0.003641 -5.120000e-17  \n",
       "..        ...       ...       ...       ...       ...           ...  \n",
       "112 -0.019021 -0.003139  0.001733 -0.006207  0.012803 -4.860000e-17  \n",
       "113  0.005938 -0.027443 -0.010170 -0.008124  0.046701  1.930000e-16  \n",
       "114 -0.010526  0.073550 -0.046511 -0.000556 -0.019630  2.080000e-17  \n",
       "115  0.023700  0.014014  0.025477 -0.008218 -0.016341  1.390000e-17  \n",
       "116 -0.098730  0.042382 -0.040205  0.009535  0.007119 -3.560000e-17  \n",
       "\n",
       "[117 rows x 53 columns]"
      ]
     },
     "execution_count": 7,
     "metadata": {},
     "output_type": "execute_result"
    }
   ],
   "source": [
    "df"
   ]
  },
  {
   "cell_type": "markdown",
   "metadata": {},
   "source": [
    "**The dataset that we have now is in what we call a pandas dataframe. To convert it to an array, simply access its values:**"
   ]
  },
  {
   "cell_type": "code",
   "execution_count": 8,
   "metadata": {
    "scrolled": false
   },
   "outputs": [],
   "source": [
    "dataset = df.values"
   ]
  },
  {
   "cell_type": "code",
   "execution_count": 9,
   "metadata": {
    "scrolled": false
   },
   "outputs": [
    {
     "data": {
      "text/plain": [
       "array([['    Ap24A03', 'G10', 'BEARTOOTH', ..., 0.004078117,\n",
       "        -0.004740685, 1.8e-16],\n",
       "       ['    Ap24A04', 'G10', 'BEARTOOTH', ..., -0.017132011,\n",
       "        -0.006856019, 6.94e-18],\n",
       "       ['    Ap24A05', 'G10', 'BEARTOOTH', ..., 0.023233288,\n",
       "        -0.006571301, 3.47e-17],\n",
       "       ...,\n",
       "       ['    Ap27K03', 'G10', 'ZERO', ..., -0.000556339, -0.019630059,\n",
       "        2.08e-17],\n",
       "       ['    Ap27K04', 'G10', 'ZERO', ..., -0.008217644, -0.016340599,\n",
       "        1.39e-17],\n",
       "       ['    Ap27K05', 'G10', 'ZERO', ..., 0.009534521, 0.00711853,\n",
       "        -3.56e-17]], dtype=object)"
      ]
     },
     "execution_count": 9,
     "metadata": {},
     "output_type": "execute_result"
    }
   ],
   "source": [
    "dataset"
   ]
  },
  {
   "cell_type": "markdown",
   "metadata": {},
   "source": [
    "### Visualize the data by Diamond Contents based on previously run RQ-PCA"
   ]
  },
  {
   "cell_type": "code",
   "execution_count": 10,
   "metadata": {
    "scrolled": false
   },
   "outputs": [],
   "source": [
    "#Set plot style\n",
    "import matplotlib.style as style\n",
    "\n",
    "style.use('seaborn-paper') #sets the style as paper (smaller), poster (larger), talk (presentation)\n",
    "\n",
    "colors = (\"#0f2080\", \"#f5793a\", \"#85c0f9\", \"#a95aa1\") #defines colours to use as suitable for colorblindness\n",
    "sns.set_palette(sns.color_palette(colors)) #sets colour palette"
   ]
  },
  {
   "cell_type": "code",
   "execution_count": 11,
   "metadata": {
    "scrolled": false
   },
   "outputs": [
    {
     "data": {
      "text/plain": [
       "<matplotlib.legend.Legend at 0x1557c989af0>"
      ]
     },
     "execution_count": 11,
     "metadata": {},
     "output_type": "execute_result"
    },
    {
     "data": {
      "image/png": "[encoded data removed]",
      "text/plain": [
       "<Figure size 460.8x316.8 with 1 Axes>"
      ]
     },
     "metadata": {
      "needs_background": "light"
     },
     "output_type": "display_data"
    },
    {
     "data": {
      "image/png": "[encoded data removed]",
      "text/plain": [
       "<Figure size 460.8x316.8 with 1 Axes>"
      ]
     },
     "metadata": {
      "needs_background": "light"
     },
     "output_type": "display_data"
    },
    {
     "data": {
      "image/png": "[encoded data removed]",
      "text/plain": [
       "<Figure size 460.8x316.8 with 1 Axes>"
      ]
     },
     "metadata": {
      "needs_background": "light"
     },
     "output_type": "display_data"
    },
    {
     "data": {
      "image/png": "[encoded data removed]",
      "text/plain": [
       "<Figure size 460.8x316.8 with 1 Axes>"
      ]
     },
     "metadata": {
      "needs_background": "light"
     },
     "output_type": "display_data"
    }
   ],
   "source": [
    "df.set_index(['Diamond_High', 'V1']).unstack('Diamond_High')['V2'].plot(style='o')\n",
    "plt.ylabel('V2')\n",
    "plt.title('G10 Garnet Association by Diamond Content')\n",
    "plt.legend(title=\"Diamond-Rich\")\n",
    "\n",
    "df.set_index(['Diamond_High', 'V1']).unstack('Diamond_High')['V3'].plot(style='o')\n",
    "plt.ylabel('V3')\n",
    "plt.title('G10 Garnet Association by Diamond Content')\n",
    "plt.legend(title=\"Diamond-Rich\")\n",
    "\n",
    "df.set_index(['Diamond_High', 'V1']).unstack('Diamond_High')['V4'].plot(style='o')\n",
    "plt.ylabel('V4')\n",
    "plt.title('G10 Garnet Association by Diamond Content')\n",
    "plt.legend(title=\"Diamond-Rich\")\n",
    "\n",
    "df.set_index(['Diamond_High', 'V1']).unstack('Diamond_High')['V5'].plot(style='o')\n",
    "plt.ylabel('V5')\n",
    "plt.title('G10 Garnet Association by Diamond Content')\n",
    "plt.legend(title=\"Diamond-Rich\")"
   ]
  },
  {
   "cell_type": "markdown",
   "metadata": {},
   "source": [
    "### Visualize the RQ-Principal Component Analysis data by Pipe"
   ]
  },
  {
   "cell_type": "code",
   "execution_count": 12,
   "metadata": {
    "scrolled": false
   },
   "outputs": [
    {
     "data": {
      "text/plain": [
       "<matplotlib.legend.Legend at 0x1557cbfc370>"
      ]
     },
     "execution_count": 12,
     "metadata": {},
     "output_type": "execute_result"
    },
    {
     "data": {
      "image/png": "[encoded data removed]",
      "text/plain": [
       "<Figure size 460.8x316.8 with 1 Axes>"
      ]
     },
     "metadata": {
      "needs_background": "light"
     },
     "output_type": "display_data"
    },
    {
     "data": {
      "image/png": "[encoded data removed]",
      "text/plain": [
       "<Figure size 460.8x316.8 with 1 Axes>"
      ]
     },
     "metadata": {
      "needs_background": "light"
     },
     "output_type": "display_data"
    },
    {
     "data": {
      "image/png": "[encoded data removed]",
      "text/plain": [
       "<Figure size 460.8x316.8 with 1 Axes>"
      ]
     },
     "metadata": {
      "needs_background": "light"
     },
     "output_type": "display_data"
    },
    {
     "data": {
      "image/png": "[encoded data removed]",
      "text/plain": [
       "<Figure size 460.8x316.8 with 1 Axes>"
      ]
     },
     "metadata": {
      "needs_background": "light"
     },
     "output_type": "display_data"
    }
   ],
   "source": [
    "df.set_index(['Pipe', 'V1']).unstack('Pipe')['V2'].plot(style='o')\n",
    "plt.ylabel('V2')\n",
    "plt.title('G10 Garnet Association by Pipe')\n",
    "plt.legend(title=\"\")\n",
    "\n",
    "df.set_index(['Pipe', 'V1']).unstack('Pipe')['V3'].plot(style='o')\n",
    "plt.ylabel('V3')\n",
    "plt.title('G10 Garnet Association by Pipe')\n",
    "plt.legend(title=\"\")\n",
    "\n",
    "df.set_index(['Pipe', 'V1']).unstack('Pipe')['V4'].plot(style='o')\n",
    "plt.ylabel('V4')\n",
    "plt.title('G10 Garnet Association by Pipe')\n",
    "plt.legend(title=\"\")\n",
    "\n",
    "df.set_index(['Pipe', 'V1']).unstack('Pipe')['V5'].plot(style='o')\n",
    "plt.ylabel('V5')\n",
    "plt.title('G10 Garnet Association by Pipe')\n",
    "plt.legend(title=\"\")"
   ]
  },
  {
   "cell_type": "markdown",
   "metadata": {},
   "source": [
    "### Visualize the RQ-Principal Component Analysis data by Craton"
   ]
  },
  {
   "cell_type": "code",
   "execution_count": 13,
   "metadata": {
    "scrolled": false
   },
   "outputs": [
    {
     "data": {
      "text/plain": [
       "<matplotlib.legend.Legend at 0x1557c91e190>"
      ]
     },
     "execution_count": 13,
     "metadata": {},
     "output_type": "execute_result"
    },
    {
     "data": {
      "image/png": "[encoded data removed]",
      "text/plain": [
       "<Figure size 460.8x316.8 with 1 Axes>"
      ]
     },
     "metadata": {
      "needs_background": "light"
     },
     "output_type": "display_data"
    },
    {
     "data": {
      "image/png": "[encoded data removed]",
      "text/plain": [
       "<Figure size 460.8x316.8 with 1 Axes>"
      ]
     },
     "metadata": {
      "needs_background": "light"
     },
     "output_type": "display_data"
    },
    {
     "data": {
      "image/png": "[encoded data removed]",
      "text/plain": [
       "<Figure size 460.8x316.8 with 1 Axes>"
      ]
     },
     "metadata": {
      "needs_background": "light"
     },
     "output_type": "display_data"
    },
    {
     "data": {
      "image/png": "[encoded data removed]",
      "text/plain": [
       "<Figure size 460.8x316.8 with 1 Axes>"
      ]
     },
     "metadata": {
      "needs_background": "light"
     },
     "output_type": "display_data"
    }
   ],
   "source": [
    "df.set_index(['Craton', 'V1']).unstack('Craton')['V2'].plot(style='o')\n",
    "plt.ylabel('V2')\n",
    "plt.title('G10 Garnet Associations by Craton')\n",
    "plt.legend(title=\"\")\n",
    "\n",
    "df.set_index(['Craton', 'V1']).unstack('Craton')['V3'].plot(style='o')\n",
    "plt.ylabel('V3')\n",
    "plt.title('G10 Garnet Associations by Craton')\n",
    "plt.legend(title=\"\")\n",
    "\n",
    "df.set_index(['Craton', 'V1']).unstack('Craton')['V4'].plot(style='o')\n",
    "plt.ylabel('V4')\n",
    "plt.title('G10 Garnet Associations by Craton')\n",
    "plt.legend(title=\"\")\n",
    "\n",
    "df.set_index(['Craton', 'V1']).unstack('Craton')['V5'].plot(style='o')\n",
    "plt.ylabel('V5')\n",
    "plt.title('G10 Garnet Associations by Craton')\n",
    "plt.legend(title=\"\")"
   ]
  },
  {
   "cell_type": "markdown",
   "metadata": {},
   "source": [
    "### Normalizing the Data"
   ]
  },
  {
   "cell_type": "markdown",
   "metadata": {},
   "source": [
    "**Normalizing our data is very important, as we want the input features to be on the same order of magnitude to make our training easier. We can use a min-max scaler from scikit-learn which scales our data to be between 0 and 1, but geochemical data is compositional. Compositional data consist of ratios that are not free to vary independently. This interdependence of geochemical data can result in an incorrect assessment of correlations, or other measures of associations, commonly used in multivariate statistics if the data isn't first transformed. Z-score transformation is not appropriate for multi-variate statistical analysis of geochemical data because z-score transformation assumes the data has a normal distribution. Most geochemical data has a left-skewed distribution. The substitution or removal of an element from multielement studies using raw or z-score normalized data would result in different interpretations, since the variable are not free to vary independently, and that research would not be suitable for a comparison with other research.**\n",
    "\n",
    "**For this study the element concentrations were scaled using centred log-ratio method in R.**"
   ]
  },
  {
   "cell_type": "markdown",
   "metadata": {},
   "source": [
    "### Splitting the Data"
   ]
  },
  {
   "cell_type": "markdown",
   "metadata": {},
   "source": [
    "**Now, we split the dataset into our input features and the output feature we wish to predict because \"y\" needs to be one dimensional in order to split into train, test and validate groups. Using lowercase \"y\" shows that this is the unknown parameter.**"
   ]
  },
  {
   "cell_type": "code",
   "execution_count": 15,
   "metadata": {
    "scrolled": false
   },
   "outputs": [
    {
     "name": "stdout",
     "output_type": "stream",
     "text": [
      "    Diamond_High\n",
      "0            yes\n",
      "1            yes\n",
      "2            yes\n",
      "3            yes\n",
      "4            yes\n",
      "..           ...\n",
      "112           no\n",
      "113           no\n",
      "114           no\n",
      "115           no\n",
      "116           no\n",
      "\n",
      "[117 rows x 1 columns]\n",
      "       Al_clr     Si_clr    Ca_clr    Sc_clr     V_clr    Mn_clr    Ba_clr  \\\n",
      "0    8.205086   9.460941  7.671201  2.479200  2.545170  4.980213 -0.381140   \n",
      "1    9.556997  10.960924  8.674430  3.470393  4.200794  6.354183 -4.148459   \n",
      "2    8.456002   9.745831  7.740285  2.675681  2.951612  5.267816  0.113470   \n",
      "3    9.566368  10.903824  7.711657  3.658472  3.608572  6.184058 -2.222634   \n",
      "4    9.485260  10.741365  8.856259  3.309737  4.096822  6.056371 -2.282493   \n",
      "..        ...        ...       ...       ...       ...       ...       ...   \n",
      "112  9.159579  10.232216  7.564551  2.609021  2.985503  5.404399 -2.097366   \n",
      "113  8.960595   9.642325  7.478438  2.521733  2.519259  4.899264 -2.173204   \n",
      "114  9.253380  10.431973  7.258136  2.797048  1.891988  5.393667 -5.203074   \n",
      "115  9.925262  11.095819  7.752816  2.649639  2.887404  5.805920 -0.652004   \n",
      "116  9.432237  10.404988  7.432718  2.479531  2.240977  5.198288  0.711302   \n",
      "\n",
      "       Ce_clr    Eu_clr    Gd_clr    Tb_clr    Dy_clr    Ho_clr    Tm_clr  \\\n",
      "0   -0.005134 -3.317603 -3.039400 -5.341985 -3.761534 -5.341985 -6.189283   \n",
      "1    0.925026 -4.972930 -4.352854 -5.804798 -4.195361 -5.804798 -6.249681   \n",
      "2    0.036250 -3.788907 -3.640487 -5.621488 -4.012051 -6.314636 -5.909171   \n",
      "3    0.170589 -3.321246 -3.488300 -6.196405 -5.056684 -6.344591 -5.886195   \n",
      "4   -1.977111 -4.410724 -3.940721 -6.020162 -3.822938 -4.921550 -5.327015   \n",
      "..        ...       ...       ...       ...       ...       ...       ...   \n",
      "112 -1.867503 -2.255269 -1.542577 -3.946945 -2.281937 -4.976564 -6.913716   \n",
      "113 -1.923392 -2.408243 -1.483441 -3.803121 -2.399732 -4.125894 -5.560979   \n",
      "114 -0.997872 -2.129274 -0.922448 -3.605180 -1.327913 -3.487397 -4.586009   \n",
      "115 -2.425072 -2.542855 -2.109991 -4.622296 -4.111471 -5.720908 -6.292971   \n",
      "116 -1.735063 -2.212502 -1.541997 -4.471284 -2.035168 -6.512309 -7.368331   \n",
      "\n",
      "       Ta_clr    Th_clr  \n",
      "0   -4.802988 -3.160760  \n",
      "1   -5.804798 -2.809066  \n",
      "2   -5.061873 -2.638335  \n",
      "3   -5.886195 -3.401289  \n",
      "4   -4.921550 -4.921550  \n",
      "..        ...       ...  \n",
      "112 -6.586002 -5.487390  \n",
      "113 -7.170416 -4.973192  \n",
      "114 -8.612176 -6.154851  \n",
      "115 -5.720908 -5.918385  \n",
      "116 -6.992487 -5.030900  \n",
      "\n",
      "[117 rows x 16 columns]\n"
     ]
    }
   ],
   "source": [
    "X = df[df.columns[21:37]]\n",
    "y = df[['Diamond_High']]\n",
    "print(y)\n",
    "print(X)"
   ]
  },
  {
   "cell_type": "code",
   "execution_count": 16,
   "metadata": {
    "scrolled": false
   },
   "outputs": [
    {
     "data": {
      "text/html": [
       "<div>\n",
       "<style scoped>\n",
       "    .dataframe tbody tr th:only-of-type {\n",
       "        vertical-align: middle;\n",
       "    }\n",
       "\n",
       "    .dataframe tbody tr th {\n",
       "        vertical-align: top;\n",
       "    }\n",
       "\n",
       "    .dataframe thead th {\n",
       "        text-align: right;\n",
       "    }\n",
       "</style>\n",
       "<table border=\"1\" class=\"dataframe\">\n",
       "  <thead>\n",
       "    <tr style=\"text-align: right;\">\n",
       "      <th></th>\n",
       "      <th>diamond_no</th>\n",
       "      <th>diamond_yes</th>\n",
       "    </tr>\n",
       "  </thead>\n",
       "  <tbody>\n",
       "    <tr>\n",
       "      <th>0</th>\n",
       "      <td>0</td>\n",
       "      <td>1</td>\n",
       "    </tr>\n",
       "    <tr>\n",
       "      <th>1</th>\n",
       "      <td>0</td>\n",
       "      <td>1</td>\n",
       "    </tr>\n",
       "    <tr>\n",
       "      <th>2</th>\n",
       "      <td>0</td>\n",
       "      <td>1</td>\n",
       "    </tr>\n",
       "    <tr>\n",
       "      <th>3</th>\n",
       "      <td>0</td>\n",
       "      <td>1</td>\n",
       "    </tr>\n",
       "    <tr>\n",
       "      <th>4</th>\n",
       "      <td>0</td>\n",
       "      <td>1</td>\n",
       "    </tr>\n",
       "    <tr>\n",
       "      <th>...</th>\n",
       "      <td>...</td>\n",
       "      <td>...</td>\n",
       "    </tr>\n",
       "    <tr>\n",
       "      <th>112</th>\n",
       "      <td>1</td>\n",
       "      <td>0</td>\n",
       "    </tr>\n",
       "    <tr>\n",
       "      <th>113</th>\n",
       "      <td>1</td>\n",
       "      <td>0</td>\n",
       "    </tr>\n",
       "    <tr>\n",
       "      <th>114</th>\n",
       "      <td>1</td>\n",
       "      <td>0</td>\n",
       "    </tr>\n",
       "    <tr>\n",
       "      <th>115</th>\n",
       "      <td>1</td>\n",
       "      <td>0</td>\n",
       "    </tr>\n",
       "    <tr>\n",
       "      <th>116</th>\n",
       "      <td>1</td>\n",
       "      <td>0</td>\n",
       "    </tr>\n",
       "  </tbody>\n",
       "</table>\n",
       "<p>117 rows × 2 columns</p>\n",
       "</div>"
      ],
      "text/plain": [
       "     diamond_no  diamond_yes\n",
       "0             0            1\n",
       "1             0            1\n",
       "2             0            1\n",
       "3             0            1\n",
       "4             0            1\n",
       "..          ...          ...\n",
       "112           1            0\n",
       "113           1            0\n",
       "114           1            0\n",
       "115           1            0\n",
       "116           1            0\n",
       "\n",
       "[117 rows x 2 columns]"
      ]
     },
     "execution_count": 16,
     "metadata": {},
     "output_type": "execute_result"
    }
   ],
   "source": [
    "y_dm = pd.get_dummies(y['Diamond_High'], prefix = 'diamond')\n",
    "y_dm"
   ]
  },
  {
   "cell_type": "markdown",
   "metadata": {},
   "source": [
    "### Stratified Shuffle Split is used to ensure the same percentage of samples for each class occurs in each split"
   ]
  },
  {
   "cell_type": "code",
   "execution_count": 17,
   "metadata": {
    "scrolled": false
   },
   "outputs": [],
   "source": [
    "from sklearn.model_selection import StratifiedShuffleSplit"
   ]
  },
  {
   "cell_type": "code",
   "execution_count": 18,
   "metadata": {
    "scrolled": false
   },
   "outputs": [
    {
     "data": {
      "text/plain": [
       "1"
      ]
     },
     "execution_count": 18,
     "metadata": {},
     "output_type": "execute_result"
    }
   ],
   "source": [
    "sss = StratifiedShuffleSplit(n_splits=1, test_size=0.5, random_state=333)\n",
    "sss.get_n_splits(X, y['Diamond_High'])"
   ]
  },
  {
   "cell_type": "code",
   "execution_count": 19,
   "metadata": {
    "scrolled": false
   },
   "outputs": [
    {
     "name": "stdout",
     "output_type": "stream",
     "text": [
      "StratifiedShuffleSplit(n_splits=1, random_state=333, test_size=0.5,\n",
      "            train_size=None)\n"
     ]
    }
   ],
   "source": [
    "print(sss)"
   ]
  },
  {
   "cell_type": "code",
   "execution_count": 20,
   "metadata": {
    "scrolled": false
   },
   "outputs": [
    {
     "name": "stdout",
     "output_type": "stream",
     "text": [
      "TRAIN: [102   5  90   6  61  81  43   2  64  55  28  82  58  17 103 113  84  71\n",
      "  21  31  42  29  66  96  53  40  70  18  92  76  13 114 105  75  48  35\n",
      "  47  62  23  30  78  44  77   0 101  38  65  24  87  94  32  74  37 100\n",
      "  60  33  14  54] TEST: [111  41  36  98  51 116  91  99  15  88   4  72 115  80 108  95  16   8\n",
      "  12  11  59  10  26   1  50 104  56  20   3  93  19  25  34  86  97  79\n",
      "  27  69  22  63  46   7 106  49 107  68 109  85   9  39  73  89 110  57\n",
      "  83 112  52  67  45]\n"
     ]
    }
   ],
   "source": [
    "#first split to create the training set and the test-validation dataset\n",
    "for train_index, test_index in sss.split(X, y):\n",
    "     print(\"TRAIN:\", train_index, \"TEST:\", test_index)\n",
    "     X_train, X_testval = X.iloc[train_index], X.iloc[test_index]\n",
    "     y_train, y_testval = y.iloc[train_index], y.iloc[test_index]"
   ]
  },
  {
   "cell_type": "code",
   "execution_count": 21,
   "metadata": {
    "scrolled": false
   },
   "outputs": [
    {
     "name": "stdout",
     "output_type": "stream",
     "text": [
      "TEST: [40 37  7 38  3 26 20 36 39 15  5 45 32 25 22  0 35 52 31 23 11 13 46 17\n",
      " 43 10 16 49  8] VAL: [ 9 41  6 54 34 19 48 18 56 21 53 55 44 28 24  2 33 47 29 42  4 27  1 58\n",
      " 50 14 30 12 57 51]\n"
     ]
    }
   ],
   "source": [
    "#second split for creating the test and validation datasets\n",
    "for train_index, test_index in sss.split(X_testval, y_testval):\n",
    "     print(\"TEST:\", train_index, \"VAL:\", test_index)\n",
    "     X_test, X_val = X_testval.iloc[train_index], X_testval.iloc[test_index]\n",
    "     y_test, y_val = y_testval.iloc[train_index], y_testval.iloc[test_index]"
   ]
  },
  {
   "cell_type": "code",
   "execution_count": 22,
   "metadata": {
    "scrolled": false
   },
   "outputs": [
    {
     "data": {
      "text/html": [
       "<div>\n",
       "<style scoped>\n",
       "    .dataframe tbody tr th:only-of-type {\n",
       "        vertical-align: middle;\n",
       "    }\n",
       "\n",
       "    .dataframe tbody tr th {\n",
       "        vertical-align: top;\n",
       "    }\n",
       "\n",
       "    .dataframe thead th {\n",
       "        text-align: right;\n",
       "    }\n",
       "</style>\n",
       "<table border=\"1\" class=\"dataframe\">\n",
       "  <thead>\n",
       "    <tr style=\"text-align: right;\">\n",
       "      <th></th>\n",
       "      <th>Diamond_High</th>\n",
       "    </tr>\n",
       "  </thead>\n",
       "  <tbody>\n",
       "    <tr>\n",
       "      <th>102</th>\n",
       "      <td>no</td>\n",
       "    </tr>\n",
       "    <tr>\n",
       "      <th>5</th>\n",
       "      <td>yes</td>\n",
       "    </tr>\n",
       "    <tr>\n",
       "      <th>90</th>\n",
       "      <td>no</td>\n",
       "    </tr>\n",
       "    <tr>\n",
       "      <th>6</th>\n",
       "      <td>yes</td>\n",
       "    </tr>\n",
       "    <tr>\n",
       "      <th>61</th>\n",
       "      <td>no</td>\n",
       "    </tr>\n",
       "  </tbody>\n",
       "</table>\n",
       "</div>"
      ],
      "text/plain": [
       "    Diamond_High\n",
       "102           no\n",
       "5            yes\n",
       "90            no\n",
       "6            yes\n",
       "61            no"
      ]
     },
     "execution_count": 22,
     "metadata": {},
     "output_type": "execute_result"
    }
   ],
   "source": [
    "y_train.head(5)"
   ]
  },
  {
   "cell_type": "code",
   "execution_count": 23,
   "metadata": {
    "scrolled": false
   },
   "outputs": [
    {
     "data": {
      "text/html": [
       "<div>\n",
       "<style scoped>\n",
       "    .dataframe tbody tr th:only-of-type {\n",
       "        vertical-align: middle;\n",
       "    }\n",
       "\n",
       "    .dataframe tbody tr th {\n",
       "        vertical-align: top;\n",
       "    }\n",
       "\n",
       "    .dataframe thead th {\n",
       "        text-align: right;\n",
       "    }\n",
       "</style>\n",
       "<table border=\"1\" class=\"dataframe\">\n",
       "  <thead>\n",
       "    <tr style=\"text-align: right;\">\n",
       "      <th></th>\n",
       "      <th>Al_clr</th>\n",
       "      <th>Si_clr</th>\n",
       "      <th>Ca_clr</th>\n",
       "      <th>Sc_clr</th>\n",
       "      <th>V_clr</th>\n",
       "      <th>Mn_clr</th>\n",
       "      <th>Ba_clr</th>\n",
       "      <th>Ce_clr</th>\n",
       "      <th>Eu_clr</th>\n",
       "      <th>Gd_clr</th>\n",
       "      <th>Tb_clr</th>\n",
       "      <th>Dy_clr</th>\n",
       "      <th>Ho_clr</th>\n",
       "      <th>Tm_clr</th>\n",
       "      <th>Ta_clr</th>\n",
       "      <th>Th_clr</th>\n",
       "    </tr>\n",
       "  </thead>\n",
       "  <tbody>\n",
       "    <tr>\n",
       "      <th>102</th>\n",
       "      <td>8.634042</td>\n",
       "      <td>9.837682</td>\n",
       "      <td>7.150434</td>\n",
       "      <td>2.200389</td>\n",
       "      <td>2.655832</td>\n",
       "      <td>5.107949</td>\n",
       "      <td>0.963742</td>\n",
       "      <td>-1.961925</td>\n",
       "      <td>-2.439961</td>\n",
       "      <td>-1.471303</td>\n",
       "      <td>-4.082189</td>\n",
       "      <td>-2.495224</td>\n",
       "      <td>-4.669976</td>\n",
       "      <td>-7.276130</td>\n",
       "      <td>-6.972561</td>\n",
       "      <td>-5.180801</td>\n",
       "    </tr>\n",
       "    <tr>\n",
       "      <th>5</th>\n",
       "      <td>9.141269</td>\n",
       "      <td>10.545641</td>\n",
       "      <td>8.144598</td>\n",
       "      <td>3.613494</td>\n",
       "      <td>3.597806</td>\n",
       "      <td>5.964281</td>\n",
       "      <td>-4.914462</td>\n",
       "      <td>-1.623914</td>\n",
       "      <td>-3.579977</td>\n",
       "      <td>-2.635515</td>\n",
       "      <td>-4.609596</td>\n",
       "      <td>-3.127992</td>\n",
       "      <td>-4.832740</td>\n",
       "      <td>-5.525887</td>\n",
       "      <td>-6.502921</td>\n",
       "      <td>-3.654085</td>\n",
       "    </tr>\n",
       "    <tr>\n",
       "      <th>90</th>\n",
       "      <td>9.509035</td>\n",
       "      <td>10.735878</td>\n",
       "      <td>8.317371</td>\n",
       "      <td>3.286332</td>\n",
       "      <td>3.818311</td>\n",
       "      <td>6.212093</td>\n",
       "      <td>-3.275405</td>\n",
       "      <td>-1.452874</td>\n",
       "      <td>-2.492646</td>\n",
       "      <td>-2.359115</td>\n",
       "      <td>-6.047994</td>\n",
       "      <td>-3.850769</td>\n",
       "      <td>-6.047994</td>\n",
       "      <td>-6.047994</td>\n",
       "      <td>-4.949382</td>\n",
       "      <td>-5.354847</td>\n",
       "    </tr>\n",
       "    <tr>\n",
       "      <th>6</th>\n",
       "      <td>8.894028</td>\n",
       "      <td>10.311349</td>\n",
       "      <td>8.215715</td>\n",
       "      <td>2.900612</td>\n",
       "      <td>3.423860</td>\n",
       "      <td>5.655576</td>\n",
       "      <td>-4.418343</td>\n",
       "      <td>-1.193733</td>\n",
       "      <td>-3.360186</td>\n",
       "      <td>-2.644566</td>\n",
       "      <td>-4.659469</td>\n",
       "      <td>-2.954721</td>\n",
       "      <td>-4.841790</td>\n",
       "      <td>-6.451228</td>\n",
       "      <td>-5.064934</td>\n",
       "      <td>-3.812171</td>\n",
       "    </tr>\n",
       "    <tr>\n",
       "      <th>61</th>\n",
       "      <td>10.177759</td>\n",
       "      <td>11.439041</td>\n",
       "      <td>8.635322</td>\n",
       "      <td>4.142090</td>\n",
       "      <td>4.110585</td>\n",
       "      <td>7.258458</td>\n",
       "      <td>-4.313683</td>\n",
       "      <td>-1.286953</td>\n",
       "      <td>-3.961102</td>\n",
       "      <td>-3.790373</td>\n",
       "      <td>-5.695767</td>\n",
       "      <td>-3.961102</td>\n",
       "      <td>-5.637495</td>\n",
       "      <td>-5.965224</td>\n",
       "      <td>-5.347396</td>\n",
       "      <td>-5.804159</td>\n",
       "    </tr>\n",
       "  </tbody>\n",
       "</table>\n",
       "</div>"
      ],
      "text/plain": [
       "        Al_clr     Si_clr    Ca_clr    Sc_clr     V_clr    Mn_clr    Ba_clr  \\\n",
       "102   8.634042   9.837682  7.150434  2.200389  2.655832  5.107949  0.963742   \n",
       "5     9.141269  10.545641  8.144598  3.613494  3.597806  5.964281 -4.914462   \n",
       "90    9.509035  10.735878  8.317371  3.286332  3.818311  6.212093 -3.275405   \n",
       "6     8.894028  10.311349  8.215715  2.900612  3.423860  5.655576 -4.418343   \n",
       "61   10.177759  11.439041  8.635322  4.142090  4.110585  7.258458 -4.313683   \n",
       "\n",
       "       Ce_clr    Eu_clr    Gd_clr    Tb_clr    Dy_clr    Ho_clr    Tm_clr  \\\n",
       "102 -1.961925 -2.439961 -1.471303 -4.082189 -2.495224 -4.669976 -7.276130   \n",
       "5   -1.623914 -3.579977 -2.635515 -4.609596 -3.127992 -4.832740 -5.525887   \n",
       "90  -1.452874 -2.492646 -2.359115 -6.047994 -3.850769 -6.047994 -6.047994   \n",
       "6   -1.193733 -3.360186 -2.644566 -4.659469 -2.954721 -4.841790 -6.451228   \n",
       "61  -1.286953 -3.961102 -3.790373 -5.695767 -3.961102 -5.637495 -5.965224   \n",
       "\n",
       "       Ta_clr    Th_clr  \n",
       "102 -6.972561 -5.180801  \n",
       "5   -6.502921 -3.654085  \n",
       "90  -4.949382 -5.354847  \n",
       "6   -5.064934 -3.812171  \n",
       "61  -5.347396 -5.804159  "
      ]
     },
     "execution_count": 23,
     "metadata": {},
     "output_type": "execute_result"
    }
   ],
   "source": [
    "X_train.head(5)"
   ]
  },
  {
   "cell_type": "code",
   "execution_count": 24,
   "metadata": {
    "scrolled": false
   },
   "outputs": [
    {
     "data": {
      "text/html": [
       "<div>\n",
       "<style scoped>\n",
       "    .dataframe tbody tr th:only-of-type {\n",
       "        vertical-align: middle;\n",
       "    }\n",
       "\n",
       "    .dataframe tbody tr th {\n",
       "        vertical-align: top;\n",
       "    }\n",
       "\n",
       "    .dataframe thead th {\n",
       "        text-align: right;\n",
       "    }\n",
       "</style>\n",
       "<table border=\"1\" class=\"dataframe\">\n",
       "  <thead>\n",
       "    <tr style=\"text-align: right;\">\n",
       "      <th></th>\n",
       "      <th>Diamond_High</th>\n",
       "    </tr>\n",
       "  </thead>\n",
       "  <tbody>\n",
       "    <tr>\n",
       "      <th>46</th>\n",
       "      <td>yes</td>\n",
       "    </tr>\n",
       "    <tr>\n",
       "      <th>69</th>\n",
       "      <td>no</td>\n",
       "    </tr>\n",
       "    <tr>\n",
       "      <th>99</th>\n",
       "      <td>no</td>\n",
       "    </tr>\n",
       "    <tr>\n",
       "      <th>22</th>\n",
       "      <td>yes</td>\n",
       "    </tr>\n",
       "    <tr>\n",
       "      <th>98</th>\n",
       "      <td>no</td>\n",
       "    </tr>\n",
       "  </tbody>\n",
       "</table>\n",
       "</div>"
      ],
      "text/plain": [
       "   Diamond_High\n",
       "46          yes\n",
       "69           no\n",
       "99           no\n",
       "22          yes\n",
       "98           no"
      ]
     },
     "execution_count": 24,
     "metadata": {},
     "output_type": "execute_result"
    }
   ],
   "source": [
    "y_test.head(5)"
   ]
  },
  {
   "cell_type": "code",
   "execution_count": 25,
   "metadata": {
    "scrolled": false
   },
   "outputs": [
    {
     "data": {
      "text/html": [
       "<div>\n",
       "<style scoped>\n",
       "    .dataframe tbody tr th:only-of-type {\n",
       "        vertical-align: middle;\n",
       "    }\n",
       "\n",
       "    .dataframe tbody tr th {\n",
       "        vertical-align: top;\n",
       "    }\n",
       "\n",
       "    .dataframe thead th {\n",
       "        text-align: right;\n",
       "    }\n",
       "</style>\n",
       "<table border=\"1\" class=\"dataframe\">\n",
       "  <thead>\n",
       "    <tr style=\"text-align: right;\">\n",
       "      <th></th>\n",
       "      <th>Al_clr</th>\n",
       "      <th>Si_clr</th>\n",
       "      <th>Ca_clr</th>\n",
       "      <th>Sc_clr</th>\n",
       "      <th>V_clr</th>\n",
       "      <th>Mn_clr</th>\n",
       "      <th>Ba_clr</th>\n",
       "      <th>Ce_clr</th>\n",
       "      <th>Eu_clr</th>\n",
       "      <th>Gd_clr</th>\n",
       "      <th>Tb_clr</th>\n",
       "      <th>Dy_clr</th>\n",
       "      <th>Ho_clr</th>\n",
       "      <th>Tm_clr</th>\n",
       "      <th>Ta_clr</th>\n",
       "      <th>Th_clr</th>\n",
       "    </tr>\n",
       "  </thead>\n",
       "  <tbody>\n",
       "    <tr>\n",
       "      <th>46</th>\n",
       "      <td>8.581826</td>\n",
       "      <td>9.699935</td>\n",
       "      <td>7.566943</td>\n",
       "      <td>2.783886</td>\n",
       "      <td>2.928547</td>\n",
       "      <td>5.307008</td>\n",
       "      <td>-1.395721</td>\n",
       "      <td>-0.840976</td>\n",
       "      <td>-3.365729</td>\n",
       "      <td>-2.325711</td>\n",
       "      <td>-4.594394</td>\n",
       "      <td>-3.167278</td>\n",
       "      <td>-5.133391</td>\n",
       "      <td>-6.386154</td>\n",
       "      <td>-5.287541</td>\n",
       "      <td>-4.371251</td>\n",
       "    </tr>\n",
       "    <tr>\n",
       "      <th>69</th>\n",
       "      <td>11.169936</td>\n",
       "      <td>12.341528</td>\n",
       "      <td>9.415699</td>\n",
       "      <td>4.104456</td>\n",
       "      <td>4.938853</td>\n",
       "      <td>8.029216</td>\n",
       "      <td>-6.992101</td>\n",
       "      <td>-3.763989</td>\n",
       "      <td>-3.857806</td>\n",
       "      <td>-2.944377</td>\n",
       "      <td>-4.457136</td>\n",
       "      <td>-3.873070</td>\n",
       "      <td>-4.651604</td>\n",
       "      <td>-3.763989</td>\n",
       "      <td>-7.015790</td>\n",
       "      <td>-8.679826</td>\n",
       "    </tr>\n",
       "    <tr>\n",
       "      <th>99</th>\n",
       "      <td>9.165122</td>\n",
       "      <td>10.340980</td>\n",
       "      <td>8.091487</td>\n",
       "      <td>2.749537</td>\n",
       "      <td>3.358462</td>\n",
       "      <td>5.584324</td>\n",
       "      <td>-5.760081</td>\n",
       "      <td>-3.137558</td>\n",
       "      <td>-1.854642</td>\n",
       "      <td>-1.122655</td>\n",
       "      <td>-3.250887</td>\n",
       "      <td>-1.724831</td>\n",
       "      <td>-3.830705</td>\n",
       "      <td>-4.272538</td>\n",
       "      <td>-7.268989</td>\n",
       "      <td>-7.067026</td>\n",
       "    </tr>\n",
       "    <tr>\n",
       "      <th>22</th>\n",
       "      <td>9.777288</td>\n",
       "      <td>11.187977</td>\n",
       "      <td>8.460690</td>\n",
       "      <td>3.316208</td>\n",
       "      <td>4.015279</td>\n",
       "      <td>6.288581</td>\n",
       "      <td>-2.502795</td>\n",
       "      <td>1.000576</td>\n",
       "      <td>-4.929093</td>\n",
       "      <td>-4.404477</td>\n",
       "      <td>-6.331797</td>\n",
       "      <td>-5.173876</td>\n",
       "      <td>-6.427465</td>\n",
       "      <td>-6.267477</td>\n",
       "      <td>-5.593837</td>\n",
       "      <td>-2.415783</td>\n",
       "    </tr>\n",
       "    <tr>\n",
       "      <th>98</th>\n",
       "      <td>9.120505</td>\n",
       "      <td>10.269139</td>\n",
       "      <td>8.044503</td>\n",
       "      <td>2.643357</td>\n",
       "      <td>3.317115</td>\n",
       "      <td>5.543160</td>\n",
       "      <td>-5.543069</td>\n",
       "      <td>-2.846200</td>\n",
       "      <td>-1.919959</td>\n",
       "      <td>-1.013618</td>\n",
       "      <td>-3.316204</td>\n",
       "      <td>-1.816580</td>\n",
       "      <td>-3.701866</td>\n",
       "      <td>-4.743320</td>\n",
       "      <td>-7.266565</td>\n",
       "      <td>-6.770397</td>\n",
       "    </tr>\n",
       "  </tbody>\n",
       "</table>\n",
       "</div>"
      ],
      "text/plain": [
       "       Al_clr     Si_clr    Ca_clr    Sc_clr     V_clr    Mn_clr    Ba_clr  \\\n",
       "46   8.581826   9.699935  7.566943  2.783886  2.928547  5.307008 -1.395721   \n",
       "69  11.169936  12.341528  9.415699  4.104456  4.938853  8.029216 -6.992101   \n",
       "99   9.165122  10.340980  8.091487  2.749537  3.358462  5.584324 -5.760081   \n",
       "22   9.777288  11.187977  8.460690  3.316208  4.015279  6.288581 -2.502795   \n",
       "98   9.120505  10.269139  8.044503  2.643357  3.317115  5.543160 -5.543069   \n",
       "\n",
       "      Ce_clr    Eu_clr    Gd_clr    Tb_clr    Dy_clr    Ho_clr    Tm_clr  \\\n",
       "46 -0.840976 -3.365729 -2.325711 -4.594394 -3.167278 -5.133391 -6.386154   \n",
       "69 -3.763989 -3.857806 -2.944377 -4.457136 -3.873070 -4.651604 -3.763989   \n",
       "99 -3.137558 -1.854642 -1.122655 -3.250887 -1.724831 -3.830705 -4.272538   \n",
       "22  1.000576 -4.929093 -4.404477 -6.331797 -5.173876 -6.427465 -6.267477   \n",
       "98 -2.846200 -1.919959 -1.013618 -3.316204 -1.816580 -3.701866 -4.743320   \n",
       "\n",
       "      Ta_clr    Th_clr  \n",
       "46 -5.287541 -4.371251  \n",
       "69 -7.015790 -8.679826  \n",
       "99 -7.268989 -7.067026  \n",
       "22 -5.593837 -2.415783  \n",
       "98 -7.266565 -6.770397  "
      ]
     },
     "execution_count": 25,
     "metadata": {},
     "output_type": "execute_result"
    }
   ],
   "source": [
    "X_test.head(5)"
   ]
  },
  {
   "cell_type": "code",
   "execution_count": 26,
   "metadata": {
    "scrolled": false
   },
   "outputs": [
    {
     "data": {
      "text/html": [
       "<div>\n",
       "<style scoped>\n",
       "    .dataframe tbody tr th:only-of-type {\n",
       "        vertical-align: middle;\n",
       "    }\n",
       "\n",
       "    .dataframe tbody tr th {\n",
       "        vertical-align: top;\n",
       "    }\n",
       "\n",
       "    .dataframe thead th {\n",
       "        text-align: right;\n",
       "    }\n",
       "</style>\n",
       "<table border=\"1\" class=\"dataframe\">\n",
       "  <thead>\n",
       "    <tr style=\"text-align: right;\">\n",
       "      <th></th>\n",
       "      <th>Diamond_High</th>\n",
       "    </tr>\n",
       "  </thead>\n",
       "  <tbody>\n",
       "    <tr>\n",
       "      <th>88</th>\n",
       "      <td>no</td>\n",
       "    </tr>\n",
       "    <tr>\n",
       "      <th>7</th>\n",
       "      <td>yes</td>\n",
       "    </tr>\n",
       "    <tr>\n",
       "      <th>91</th>\n",
       "      <td>no</td>\n",
       "    </tr>\n",
       "    <tr>\n",
       "      <th>83</th>\n",
       "      <td>no</td>\n",
       "    </tr>\n",
       "    <tr>\n",
       "      <th>97</th>\n",
       "      <td>no</td>\n",
       "    </tr>\n",
       "  </tbody>\n",
       "</table>\n",
       "</div>"
      ],
      "text/plain": [
       "   Diamond_High\n",
       "88           no\n",
       "7           yes\n",
       "91           no\n",
       "83           no\n",
       "97           no"
      ]
     },
     "execution_count": 26,
     "metadata": {},
     "output_type": "execute_result"
    }
   ],
   "source": [
    "y_val.head(5)"
   ]
  },
  {
   "cell_type": "code",
   "execution_count": 27,
   "metadata": {
    "scrolled": false
   },
   "outputs": [
    {
     "data": {
      "text/html": [
       "<div>\n",
       "<style scoped>\n",
       "    .dataframe tbody tr th:only-of-type {\n",
       "        vertical-align: middle;\n",
       "    }\n",
       "\n",
       "    .dataframe tbody tr th {\n",
       "        vertical-align: top;\n",
       "    }\n",
       "\n",
       "    .dataframe thead th {\n",
       "        text-align: right;\n",
       "    }\n",
       "</style>\n",
       "<table border=\"1\" class=\"dataframe\">\n",
       "  <thead>\n",
       "    <tr style=\"text-align: right;\">\n",
       "      <th></th>\n",
       "      <th>Al_clr</th>\n",
       "      <th>Si_clr</th>\n",
       "      <th>Ca_clr</th>\n",
       "      <th>Sc_clr</th>\n",
       "      <th>V_clr</th>\n",
       "      <th>Mn_clr</th>\n",
       "      <th>Ba_clr</th>\n",
       "      <th>Ce_clr</th>\n",
       "      <th>Eu_clr</th>\n",
       "      <th>Gd_clr</th>\n",
       "      <th>Tb_clr</th>\n",
       "      <th>Dy_clr</th>\n",
       "      <th>Ho_clr</th>\n",
       "      <th>Tm_clr</th>\n",
       "      <th>Ta_clr</th>\n",
       "      <th>Th_clr</th>\n",
       "    </tr>\n",
       "  </thead>\n",
       "  <tbody>\n",
       "    <tr>\n",
       "      <th>88</th>\n",
       "      <td>9.049079</td>\n",
       "      <td>10.371537</td>\n",
       "      <td>7.851532</td>\n",
       "      <td>3.156868</td>\n",
       "      <td>3.183555</td>\n",
       "      <td>5.654751</td>\n",
       "      <td>-5.022932</td>\n",
       "      <td>-2.635314</td>\n",
       "      <td>-2.864155</td>\n",
       "      <td>-1.775112</td>\n",
       "      <td>-3.646914</td>\n",
       "      <td>-2.075698</td>\n",
       "      <td>-3.780446</td>\n",
       "      <td>-5.320891</td>\n",
       "      <td>-6.419503</td>\n",
       "      <td>-5.726356</td>\n",
       "    </tr>\n",
       "    <tr>\n",
       "      <th>7</th>\n",
       "      <td>9.007392</td>\n",
       "      <td>10.366308</td>\n",
       "      <td>8.219305</td>\n",
       "      <td>3.178406</td>\n",
       "      <td>3.377806</td>\n",
       "      <td>5.806025</td>\n",
       "      <td>-3.095170</td>\n",
       "      <td>0.596484</td>\n",
       "      <td>-3.095170</td>\n",
       "      <td>-2.606817</td>\n",
       "      <td>-5.292394</td>\n",
       "      <td>-4.781569</td>\n",
       "      <td>-6.391007</td>\n",
       "      <td>-6.938401</td>\n",
       "      <td>-5.292394</td>\n",
       "      <td>-3.058802</td>\n",
       "    </tr>\n",
       "    <tr>\n",
       "      <th>91</th>\n",
       "      <td>9.237227</td>\n",
       "      <td>10.512054</td>\n",
       "      <td>8.369944</td>\n",
       "      <td>2.722377</td>\n",
       "      <td>3.756917</td>\n",
       "      <td>5.691241</td>\n",
       "      <td>-4.450941</td>\n",
       "      <td>-2.812740</td>\n",
       "      <td>-2.911180</td>\n",
       "      <td>-1.835825</td>\n",
       "      <td>-4.081251</td>\n",
       "      <td>-2.564904</td>\n",
       "      <td>-4.486716</td>\n",
       "      <td>-6.278476</td>\n",
       "      <td>-4.892181</td>\n",
       "      <td>-5.975546</td>\n",
       "    </tr>\n",
       "    <tr>\n",
       "      <th>83</th>\n",
       "      <td>9.073126</td>\n",
       "      <td>10.441493</td>\n",
       "      <td>7.757175</td>\n",
       "      <td>2.981884</td>\n",
       "      <td>3.080657</td>\n",
       "      <td>5.639901</td>\n",
       "      <td>-4.950187</td>\n",
       "      <td>-2.541353</td>\n",
       "      <td>-2.946818</td>\n",
       "      <td>-1.794138</td>\n",
       "      <td>-3.783066</td>\n",
       "      <td>-2.043950</td>\n",
       "      <td>-3.950120</td>\n",
       "      <td>-4.961721</td>\n",
       "      <td>-6.348015</td>\n",
       "      <td>-5.654868</td>\n",
       "    </tr>\n",
       "    <tr>\n",
       "      <th>97</th>\n",
       "      <td>8.934203</td>\n",
       "      <td>10.153234</td>\n",
       "      <td>7.841031</td>\n",
       "      <td>2.480384</td>\n",
       "      <td>3.164722</td>\n",
       "      <td>5.358360</td>\n",
       "      <td>-3.877892</td>\n",
       "      <td>-3.012894</td>\n",
       "      <td>-2.319747</td>\n",
       "      <td>-1.317761</td>\n",
       "      <td>-3.817267</td>\n",
       "      <td>-1.950000</td>\n",
       "      <td>-3.654748</td>\n",
       "      <td>-4.704570</td>\n",
       "      <td>-6.650480</td>\n",
       "      <td>-6.626576</td>\n",
       "    </tr>\n",
       "  </tbody>\n",
       "</table>\n",
       "</div>"
      ],
      "text/plain": [
       "      Al_clr     Si_clr    Ca_clr    Sc_clr     V_clr    Mn_clr    Ba_clr  \\\n",
       "88  9.049079  10.371537  7.851532  3.156868  3.183555  5.654751 -5.022932   \n",
       "7   9.007392  10.366308  8.219305  3.178406  3.377806  5.806025 -3.095170   \n",
       "91  9.237227  10.512054  8.369944  2.722377  3.756917  5.691241 -4.450941   \n",
       "83  9.073126  10.441493  7.757175  2.981884  3.080657  5.639901 -4.950187   \n",
       "97  8.934203  10.153234  7.841031  2.480384  3.164722  5.358360 -3.877892   \n",
       "\n",
       "      Ce_clr    Eu_clr    Gd_clr    Tb_clr    Dy_clr    Ho_clr    Tm_clr  \\\n",
       "88 -2.635314 -2.864155 -1.775112 -3.646914 -2.075698 -3.780446 -5.320891   \n",
       "7   0.596484 -3.095170 -2.606817 -5.292394 -4.781569 -6.391007 -6.938401   \n",
       "91 -2.812740 -2.911180 -1.835825 -4.081251 -2.564904 -4.486716 -6.278476   \n",
       "83 -2.541353 -2.946818 -1.794138 -3.783066 -2.043950 -3.950120 -4.961721   \n",
       "97 -3.012894 -2.319747 -1.317761 -3.817267 -1.950000 -3.654748 -4.704570   \n",
       "\n",
       "      Ta_clr    Th_clr  \n",
       "88 -6.419503 -5.726356  \n",
       "7  -5.292394 -3.058802  \n",
       "91 -4.892181 -5.975546  \n",
       "83 -6.348015 -5.654868  \n",
       "97 -6.650480 -6.626576  "
      ]
     },
     "execution_count": 27,
     "metadata": {},
     "output_type": "execute_result"
    }
   ],
   "source": [
    "X_val.head(5)"
   ]
  },
  {
   "cell_type": "markdown",
   "metadata": {},
   "source": [
    "**Next encode the categorical variablesfor diamond content, yes and no, using one hot vector multilabel. The data is split first then one hot encoded since the split function cannot handle more than one Y column.**"
   ]
  },
  {
   "cell_type": "code",
   "execution_count": 28,
   "metadata": {
    "scrolled": false
   },
   "outputs": [
    {
     "data": {
      "text/html": [
       "<div>\n",
       "<style scoped>\n",
       "    .dataframe tbody tr th:only-of-type {\n",
       "        vertical-align: middle;\n",
       "    }\n",
       "\n",
       "    .dataframe tbody tr th {\n",
       "        vertical-align: top;\n",
       "    }\n",
       "\n",
       "    .dataframe thead th {\n",
       "        text-align: right;\n",
       "    }\n",
       "</style>\n",
       "<table border=\"1\" class=\"dataframe\">\n",
       "  <thead>\n",
       "    <tr style=\"text-align: right;\">\n",
       "      <th></th>\n",
       "      <th>diamond_no</th>\n",
       "      <th>diamond_yes</th>\n",
       "    </tr>\n",
       "  </thead>\n",
       "  <tbody>\n",
       "    <tr>\n",
       "      <th>102</th>\n",
       "      <td>1</td>\n",
       "      <td>0</td>\n",
       "    </tr>\n",
       "    <tr>\n",
       "      <th>5</th>\n",
       "      <td>0</td>\n",
       "      <td>1</td>\n",
       "    </tr>\n",
       "    <tr>\n",
       "      <th>90</th>\n",
       "      <td>1</td>\n",
       "      <td>0</td>\n",
       "    </tr>\n",
       "    <tr>\n",
       "      <th>6</th>\n",
       "      <td>0</td>\n",
       "      <td>1</td>\n",
       "    </tr>\n",
       "    <tr>\n",
       "      <th>61</th>\n",
       "      <td>1</td>\n",
       "      <td>0</td>\n",
       "    </tr>\n",
       "  </tbody>\n",
       "</table>\n",
       "</div>"
      ],
      "text/plain": [
       "     diamond_no  diamond_yes\n",
       "102           1            0\n",
       "5             0            1\n",
       "90            1            0\n",
       "6             0            1\n",
       "61            1            0"
      ]
     },
     "execution_count": 28,
     "metadata": {},
     "output_type": "execute_result"
    }
   ],
   "source": [
    "y_traindm = pd.get_dummies(y_train['Diamond_High'], prefix = 'diamond')\n",
    "y_traindm.head(5)"
   ]
  },
  {
   "cell_type": "code",
   "execution_count": 29,
   "metadata": {
    "scrolled": false
   },
   "outputs": [
    {
     "data": {
      "text/html": [
       "<div>\n",
       "<style scoped>\n",
       "    .dataframe tbody tr th:only-of-type {\n",
       "        vertical-align: middle;\n",
       "    }\n",
       "\n",
       "    .dataframe tbody tr th {\n",
       "        vertical-align: top;\n",
       "    }\n",
       "\n",
       "    .dataframe thead th {\n",
       "        text-align: right;\n",
       "    }\n",
       "</style>\n",
       "<table border=\"1\" class=\"dataframe\">\n",
       "  <thead>\n",
       "    <tr style=\"text-align: right;\">\n",
       "      <th></th>\n",
       "      <th>diamond_no</th>\n",
       "      <th>diamond_yes</th>\n",
       "    </tr>\n",
       "  </thead>\n",
       "  <tbody>\n",
       "    <tr>\n",
       "      <th>46</th>\n",
       "      <td>0</td>\n",
       "      <td>1</td>\n",
       "    </tr>\n",
       "    <tr>\n",
       "      <th>69</th>\n",
       "      <td>1</td>\n",
       "      <td>0</td>\n",
       "    </tr>\n",
       "    <tr>\n",
       "      <th>99</th>\n",
       "      <td>1</td>\n",
       "      <td>0</td>\n",
       "    </tr>\n",
       "    <tr>\n",
       "      <th>22</th>\n",
       "      <td>0</td>\n",
       "      <td>1</td>\n",
       "    </tr>\n",
       "    <tr>\n",
       "      <th>98</th>\n",
       "      <td>1</td>\n",
       "      <td>0</td>\n",
       "    </tr>\n",
       "  </tbody>\n",
       "</table>\n",
       "</div>"
      ],
      "text/plain": [
       "    diamond_no  diamond_yes\n",
       "46           0            1\n",
       "69           1            0\n",
       "99           1            0\n",
       "22           0            1\n",
       "98           1            0"
      ]
     },
     "execution_count": 29,
     "metadata": {},
     "output_type": "execute_result"
    }
   ],
   "source": [
    "y_testdm = pd.get_dummies(y_test['Diamond_High'], prefix = 'diamond')\n",
    "y_testdm.head(5)"
   ]
  },
  {
   "cell_type": "code",
   "execution_count": 30,
   "metadata": {
    "scrolled": false
   },
   "outputs": [
    {
     "data": {
      "text/html": [
       "<div>\n",
       "<style scoped>\n",
       "    .dataframe tbody tr th:only-of-type {\n",
       "        vertical-align: middle;\n",
       "    }\n",
       "\n",
       "    .dataframe tbody tr th {\n",
       "        vertical-align: top;\n",
       "    }\n",
       "\n",
       "    .dataframe thead th {\n",
       "        text-align: right;\n",
       "    }\n",
       "</style>\n",
       "<table border=\"1\" class=\"dataframe\">\n",
       "  <thead>\n",
       "    <tr style=\"text-align: right;\">\n",
       "      <th></th>\n",
       "      <th>diamond_no</th>\n",
       "      <th>diamond_yes</th>\n",
       "    </tr>\n",
       "  </thead>\n",
       "  <tbody>\n",
       "    <tr>\n",
       "      <th>88</th>\n",
       "      <td>1</td>\n",
       "      <td>0</td>\n",
       "    </tr>\n",
       "    <tr>\n",
       "      <th>7</th>\n",
       "      <td>0</td>\n",
       "      <td>1</td>\n",
       "    </tr>\n",
       "    <tr>\n",
       "      <th>91</th>\n",
       "      <td>1</td>\n",
       "      <td>0</td>\n",
       "    </tr>\n",
       "    <tr>\n",
       "      <th>83</th>\n",
       "      <td>1</td>\n",
       "      <td>0</td>\n",
       "    </tr>\n",
       "    <tr>\n",
       "      <th>97</th>\n",
       "      <td>1</td>\n",
       "      <td>0</td>\n",
       "    </tr>\n",
       "  </tbody>\n",
       "</table>\n",
       "</div>"
      ],
      "text/plain": [
       "    diamond_no  diamond_yes\n",
       "88           1            0\n",
       "7            0            1\n",
       "91           1            0\n",
       "83           1            0\n",
       "97           1            0"
      ]
     },
     "execution_count": 30,
     "metadata": {},
     "output_type": "execute_result"
    }
   ],
   "source": [
    "y_valdm = pd.get_dummies(y_val['Diamond_High'], prefix = 'diamond')\n",
    "y_valdm.head(5)"
   ]
  },
  {
   "cell_type": "code",
   "execution_count": 31,
   "metadata": {
    "scrolled": false
   },
   "outputs": [
    {
     "name": "stdout",
     "output_type": "stream",
     "text": [
      "(58, 16) (30, 16) (29, 16)\n",
      "(58, 2) (30, 2) (29, 2)\n"
     ]
    }
   ],
   "source": [
    "# Show the rows and columns count for each split\n",
    "print(X_train.shape, X_val.shape, X_test.shape)\n",
    "print(y_traindm.shape, y_valdm.shape, y_testdm.shape)"
   ]
  },
  {
   "cell_type": "markdown",
   "metadata": {},
   "source": [
    "# Building and Training the Neural Network"
   ]
  },
  {
   "cell_type": "markdown",
   "metadata": {},
   "source": [
    "**Keras is used to build our architecture and will need to be imported.**"
   ]
  },
  {
   "cell_type": "code",
   "execution_count": 32,
   "metadata": {
    "scrolled": false
   },
   "outputs": [],
   "source": [
    "from tensorflow.keras.models import Sequential\n",
    "from tensorflow.keras.layers import Dense\n",
    "from tensorflow.keras.models import model_from_json"
   ]
  },
  {
   "cell_type": "markdown",
   "metadata": {},
   "source": [
    "###### A Sequential model will be used, meaning that the layers are described in order. This neural network has two layers:\n",
    "\n",
    "- Hidden layer 1: 10 neurons, ReLU activation (rectified linear activation for a piecewise linear function that will output the input directly if it is positive, otherwise, it will output zero. Useful for developing multilayer Perceptron and convolutional neural networks.)\n",
    "- Hidden layer 2: 5 neurons, ReLU activation\n",
    "- Output Layer: 2 neurons, Softmax activation (allows for classification)\n",
    "- Input Shape: 16 variables (centred log-ratio element concentrations)"
   ]
  },
  {
   "cell_type": "code",
   "execution_count": 40,
   "metadata": {
    "scrolled": false
   },
   "outputs": [
    {
     "name": "stdout",
     "output_type": "stream",
     "text": [
      "Model: \"sequential_1\"\n",
      "_________________________________________________________________\n",
      "Layer (type)                 Output Shape              Param #   \n",
      "=================================================================\n",
      "dense_3 (Dense)              (None, 10)                170       \n",
      "_________________________________________________________________\n",
      "dense_4 (Dense)              (None, 5)                 55        \n",
      "_________________________________________________________________\n",
      "dense_5 (Dense)              (None, 2)                 12        \n",
      "=================================================================\n",
      "Total params: 237\n",
      "Trainable params: 237\n",
      "Non-trainable params: 0\n",
      "_________________________________________________________________\n",
      "None\n"
     ]
    }
   ],
   "source": [
    "model = Sequential([\n",
    "    Dense(10, activation='relu', input_shape=(16,)),\n",
    "    Dense(5, activation='relu'),\n",
    "    Dense(2, activation='softmax'),\n",
    "])\n",
    "print(model.summary())"
   ]
  },
  {
   "cell_type": "markdown",
   "metadata": {},
   "source": [
    "## Setup Visualization of the Neural Network"
   ]
  },
  {
   "cell_type": "code",
   "execution_count": 41,
   "metadata": {
    "scrolled": false
   },
   "outputs": [
    {
     "name": "stdout",
     "output_type": "stream",
     "text": [
      "The tensorboard extension is already loaded. To reload it, use:\n",
      "  %reload_ext tensorboard\n"
     ]
    }
   ],
   "source": [
    "# Load the TensorBoard notebook extension.\n",
    "%load_ext tensorboard"
   ]
  },
  {
   "cell_type": "code",
   "execution_count": 42,
   "metadata": {
    "scrolled": false
   },
   "outputs": [
    {
     "name": "stdout",
     "output_type": "stream",
     "text": [
      "TensorFlow version:  2.4.0\n"
     ]
    }
   ],
   "source": [
    "from datetime import datetime\n",
    "from packaging import version\n",
    "\n",
    "import tensorflow as tf\n",
    "from tensorflow import keras\n",
    "\n",
    "print(\"TensorFlow version: \", tf.__version__)\n",
    "assert version.parse(tf.__version__).release[0] >= 2, \\\n",
    "    \"This notebook requires TensorFlow 2.0 or above.\""
   ]
  },
  {
   "cell_type": "code",
   "execution_count": 43,
   "metadata": {
    "scrolled": false
   },
   "outputs": [
    {
     "data": {
      "text/plain": [
       "'2.4.0'"
      ]
     },
     "execution_count": 43,
     "metadata": {},
     "output_type": "execute_result"
    }
   ],
   "source": [
    "import tensorboard\n",
    "tensorboard.__version__"
   ]
  },
  {
   "cell_type": "code",
   "execution_count": 44,
   "metadata": {
    "scrolled": false
   },
   "outputs": [],
   "source": [
    "# Define the Keras TensorBoard callback prior to training.\n",
    "logdir=\"logs/fit/\" + datetime.now().strftime(\"%Y%m%d-%H%M%S\")\n",
    "tensorboard_callback = keras.callbacks.TensorBoard(log_dir=logdir)"
   ]
  },
  {
   "cell_type": "markdown",
   "metadata": {},
   "source": [
    "# Determine the Importance of the Features\n",
    "We measure the importance of a feature by calculating the increase in the model's prediction error after permuting the feature. A feature is \"important\" if shuffling its values increases the model error, because in this case the model relied on the feature for the prediction. A feature is \"unimportant\" if shuffling its values leaves the model error unchanged, because in this case the model ignored the feature for the prediction. The permutation feature importance measurement was introduced by Breiman (2001) for random forests. Based on this idea, Fisher, Rudin, and Dominici (2018) proposed a model-agnostic version of the feature importance and called it model reliance. They also introduced more advanced ideas about feature importance, for example a (model-specific) version that takes into account that many prediction models may predict the data well. Rebelo de Sá (2019) developed code to measure the variance of the weights calculated during the training phase to get the relative importance of the features in the neural network."
   ]
  },
  {
   "cell_type": "code",
   "execution_count": 45,
   "metadata": {
    "scrolled": false
   },
   "outputs": [],
   "source": [
    "#Setting up feature importance tracking\n",
    "#Rebelo de Sá, C. (2019). Variance-based feature importance in neural networks.\n",
    "#22st International Conference on Discovery Science (DS 2019) Split, Croatia, October 28-30, 2019\n",
    "\n",
    "\n",
    "class VarImpVIANN(keras.callbacks.Callback):\n",
    "    def __init__(self, verbose=0):\n",
    "        self.verbose = verbose\n",
    "        self.n = 0\n",
    "        self.M2 = 0.0\n",
    "\n",
    "    def on_train_begin(self, logs={}, verbose = 1):\n",
    "        if self.verbose:\n",
    "            print(\"VIANN version 1.0 (Wellford + Mean) update per epoch\")\n",
    "        self.diff = self.model.layers[0].get_weights()[0]\n",
    "        \n",
    "    def on_epoch_end(self, batch, logs={}):\n",
    "        currentWeights = self.model.layers[0].get_weights()[0]\n",
    "        \n",
    "        self.n += 1\n",
    "        delta = np.subtract(currentWeights, self.diff)\n",
    "        self.diff += delta/self.n\n",
    "        delta2 = np.subtract(currentWeights, self.diff)\n",
    "        self.M2 += delta*delta2\n",
    "            \n",
    "        self.lastweights = self.model.layers[0].get_weights()[0]\n",
    "\n",
    "    def on_train_end(self, batch, logs={}):\n",
    "        if self.n < 2:\n",
    "            self.s2 = float('nan')\n",
    "        else:\n",
    "            self.s2 = self.M2 / (self.n - 1)\n",
    "        \n",
    "        scores = np.sum(np.multiply(self.s2, np.abs(self.lastweights)), axis = 1)\n",
    "        \n",
    "        self.varScores = (scores - min(scores)) / (max(scores) - min(scores))\n",
    "        if self.verbose:\n",
    "            print(\"Most important variables: \",\n",
    "                  np.array(self.varScores).argsort()[-10:][::-1])\n",
    "\n",
    "VIANN = VarImpVIANN(verbose=1)"
   ]
  },
  {
   "cell_type": "markdown",
   "metadata": {},
   "source": [
    "# Coding Companion for Diamond Indicator Silicate Mineral Neural Network - Chrome Diopside (Annotated)"
   ]
  },
  {
   "cell_type": "code",
   "execution_count": 46,
   "metadata": {
    "scrolled": false
   },
   "outputs": [
    {
     "data": {
      "image/png": "[encoded data removed]",
      "text/plain": [
       "<IPython.core.display.Image object>"
      ]
     },
     "execution_count": 46,
     "metadata": {},
     "output_type": "execute_result"
    }
   ],
   "source": [
    "from keras.utils.vis_utils import plot_model\n",
    "plot_model(model, to_file='model_plot_G10_template.png', show_shapes=True, show_layer_names=True)"
   ]
  },
  {
   "cell_type": "markdown",
   "metadata": {},
   "source": [
    "**Now that we've got our architecture specified, we need to find the best numbers for it. Before we start our training, we have to configure the model by:**\n",
    "- Telling it what algorithm you want to use to do the optimization (we'll use stochastic gradient descent, **sgd**)\n",
    "- Telling it what loss function to use (for binary classification, we will use **binary cross entropy**)\n",
    "- Telling it what other metrics you want to track apart from the loss function (we want to track **accuracy** as well)"
   ]
  },
  {
   "cell_type": "code",
   "execution_count": 47,
   "metadata": {
    "scrolled": false
   },
   "outputs": [],
   "source": [
    "model.compile(optimizer='sgd',\n",
    "              loss='binary_crossentropy',\n",
    "              metrics=['accuracy'])"
   ]
  },
  {
   "cell_type": "markdown",
   "metadata": {},
   "source": [
    "**Training on the data is pretty straightforward and requires one line of code. The function is called 'fit' as we are fitting the parameters to the data.**\n",
    "\n",
    "**We specify:**\n",
    "- What data we are training on, which is X_train and y_train\n",
    "- The size of our mini-batch (since we only have 58 training samples we won't split into mini-batches)\n",
    "- How long we want to train it for (epochs)\n",
    "- What our validation data is so that the model will tell us how we are doing on the validation data at each point.\n",
    "\n",
    "**This function will output a history, which we save under the variable hist to be used later.**"
   ]
  },
  {
   "cell_type": "code",
   "execution_count": 48,
   "metadata": {
    "scrolled": true
   },
   "outputs": [
    {
     "name": "stdout",
     "output_type": "stream",
     "text": [
      "VIANN version 1.0 (Wellford + Mean) update per epoch\n",
      "Epoch 1/100\n",
      "1/1 [==============================] - 1s 1s/step - loss: 0.7117 - accuracy: 0.5172 - val_loss: 0.6772 - val_accuracy: 0.5000\n",
      "Epoch 2/100\n",
      "1/1 [==============================] - 0s 46ms/step - loss: 0.7079 - accuracy: 0.5172 - val_loss: 0.6742 - val_accuracy: 0.5000\n",
      "Epoch 3/100\n",
      "1/1 [==============================] - 0s 34ms/step - loss: 0.7046 - accuracy: 0.5345 - val_loss: 0.6714 - val_accuracy: 0.5000\n",
      "Epoch 4/100\n",
      "1/1 [==============================] - 0s 33ms/step - loss: 0.7016 - accuracy: 0.5345 - val_loss: 0.6692 - val_accuracy: 0.5000\n",
      "Epoch 5/100\n",
      "1/1 [==============================] - 0s 32ms/step - loss: 0.6991 - accuracy: 0.5345 - val_loss: 0.6675 - val_accuracy: 0.5000\n",
      "Epoch 6/100\n",
      "1/1 [==============================] - 0s 32ms/step - loss: 0.6970 - accuracy: 0.5345 - val_loss: 0.6661 - val_accuracy: 0.5000\n",
      "Epoch 7/100\n",
      "1/1 [==============================] - 0s 36ms/step - loss: 0.6950 - accuracy: 0.5345 - val_loss: 0.6646 - val_accuracy: 0.5000\n",
      "Epoch 8/100\n",
      "1/1 [==============================] - 0s 33ms/step - loss: 0.6931 - accuracy: 0.5345 - val_loss: 0.6633 - val_accuracy: 0.5000\n",
      "Epoch 9/100\n",
      "1/1 [==============================] - 0s 33ms/step - loss: 0.6915 - accuracy: 0.5345 - val_loss: 0.6625 - val_accuracy: 0.5333\n",
      "Epoch 10/100\n",
      "1/1 [==============================] - 0s 32ms/step - loss: 0.6900 - accuracy: 0.5345 - val_loss: 0.6619 - val_accuracy: 0.5333\n",
      "Epoch 11/100\n",
      "1/1 [==============================] - 0s 33ms/step - loss: 0.6885 - accuracy: 0.5345 - val_loss: 0.6615 - val_accuracy: 0.5333\n",
      "Epoch 12/100\n",
      "1/1 [==============================] - 0s 33ms/step - loss: 0.6871 - accuracy: 0.5517 - val_loss: 0.6610 - val_accuracy: 0.5333\n",
      "Epoch 13/100\n",
      "1/1 [==============================] - 0s 33ms/step - loss: 0.6860 - accuracy: 0.5517 - val_loss: 0.6605 - val_accuracy: 0.5333\n",
      "Epoch 14/100\n",
      "1/1 [==============================] - 0s 33ms/step - loss: 0.6854 - accuracy: 0.5690 - val_loss: 0.6599 - val_accuracy: 0.5333\n",
      "Epoch 15/100\n",
      "1/1 [==============================] - 0s 33ms/step - loss: 0.6848 - accuracy: 0.5690 - val_loss: 0.6594 - val_accuracy: 0.5333\n",
      "Epoch 16/100\n",
      "1/1 [==============================] - 0s 36ms/step - loss: 0.6842 - accuracy: 0.5690 - val_loss: 0.6588 - val_accuracy: 0.5333\n",
      "Epoch 17/100\n",
      "1/1 [==============================] - 0s 32ms/step - loss: 0.6836 - accuracy: 0.5690 - val_loss: 0.6584 - val_accuracy: 0.5667\n",
      "Epoch 18/100\n",
      "1/1 [==============================] - 0s 33ms/step - loss: 0.6830 - accuracy: 0.5690 - val_loss: 0.6581 - val_accuracy: 0.5667\n",
      "Epoch 19/100\n",
      "1/1 [==============================] - 0s 33ms/step - loss: 0.6824 - accuracy: 0.5690 - val_loss: 0.6577 - val_accuracy: 0.5667\n",
      "Epoch 20/100\n",
      "1/1 [==============================] - 0s 34ms/step - loss: 0.6819 - accuracy: 0.5517 - val_loss: 0.6574 - val_accuracy: 0.5667\n",
      "Epoch 21/100\n",
      "1/1 [==============================] - 0s 34ms/step - loss: 0.6814 - accuracy: 0.5690 - val_loss: 0.6570 - val_accuracy: 0.5667\n",
      "Epoch 22/100\n",
      "1/1 [==============================] - 0s 33ms/step - loss: 0.6808 - accuracy: 0.5690 - val_loss: 0.6565 - val_accuracy: 0.5667\n",
      "Epoch 23/100\n",
      "1/1 [==============================] - 0s 33ms/step - loss: 0.6803 - accuracy: 0.5690 - val_loss: 0.6561 - val_accuracy: 0.5667\n",
      "Epoch 24/100\n",
      "1/1 [==============================] - 0s 33ms/step - loss: 0.6798 - accuracy: 0.5517 - val_loss: 0.6555 - val_accuracy: 0.5667\n",
      "Epoch 25/100\n",
      "1/1 [==============================] - 0s 31ms/step - loss: 0.6792 - accuracy: 0.5517 - val_loss: 0.6550 - val_accuracy: 0.6000\n",
      "Epoch 26/100\n",
      "1/1 [==============================] - 0s 32ms/step - loss: 0.6786 - accuracy: 0.5517 - val_loss: 0.6545 - val_accuracy: 0.6000\n",
      "Epoch 27/100\n",
      "1/1 [==============================] - 0s 30ms/step - loss: 0.6779 - accuracy: 0.5517 - val_loss: 0.6540 - val_accuracy: 0.6000\n",
      "Epoch 28/100\n",
      "1/1 [==============================] - 0s 35ms/step - loss: 0.6772 - accuracy: 0.5517 - val_loss: 0.6535 - val_accuracy: 0.6000\n",
      "Epoch 29/100\n",
      "1/1 [==============================] - 0s 32ms/step - loss: 0.6765 - accuracy: 0.5345 - val_loss: 0.6530 - val_accuracy: 0.6000\n",
      "Epoch 30/100\n",
      "1/1 [==============================] - 0s 32ms/step - loss: 0.6758 - accuracy: 0.5345 - val_loss: 0.6527 - val_accuracy: 0.6000\n",
      "Epoch 31/100\n",
      "1/1 [==============================] - 0s 32ms/step - loss: 0.6752 - accuracy: 0.5517 - val_loss: 0.6524 - val_accuracy: 0.6000\n",
      "Epoch 32/100\n",
      "1/1 [==============================] - 0s 32ms/step - loss: 0.6745 - accuracy: 0.5517 - val_loss: 0.6521 - val_accuracy: 0.6000\n",
      "Epoch 33/100\n",
      "1/1 [==============================] - 0s 32ms/step - loss: 0.6739 - accuracy: 0.5517 - val_loss: 0.6518 - val_accuracy: 0.6000\n",
      "Epoch 34/100\n",
      "1/1 [==============================] - 0s 32ms/step - loss: 0.6735 - accuracy: 0.5690 - val_loss: 0.6514 - val_accuracy: 0.6000\n",
      "Epoch 35/100\n",
      "1/1 [==============================] - 0s 33ms/step - loss: 0.6731 - accuracy: 0.5690 - val_loss: 0.6510 - val_accuracy: 0.6000\n",
      "Epoch 36/100\n",
      "1/1 [==============================] - 0s 32ms/step - loss: 0.6727 - accuracy: 0.5690 - val_loss: 0.6506 - val_accuracy: 0.6000\n",
      "Epoch 37/100\n",
      "1/1 [==============================] - 0s 32ms/step - loss: 0.6723 - accuracy: 0.5690 - val_loss: 0.6502 - val_accuracy: 0.5667\n",
      "Epoch 38/100\n",
      "1/1 [==============================] - 0s 32ms/step - loss: 0.6718 - accuracy: 0.5690 - val_loss: 0.6498 - val_accuracy: 0.5667\n",
      "Epoch 39/100\n",
      "1/1 [==============================] - 0s 32ms/step - loss: 0.6714 - accuracy: 0.5690 - val_loss: 0.6494 - val_accuracy: 0.5667\n",
      "Epoch 40/100\n",
      "1/1 [==============================] - 0s 32ms/step - loss: 0.6710 - accuracy: 0.5690 - val_loss: 0.6490 - val_accuracy: 0.5667\n",
      "Epoch 41/100\n",
      "1/1 [==============================] - 0s 30ms/step - loss: 0.6705 - accuracy: 0.5862 - val_loss: 0.6486 - val_accuracy: 0.5667\n",
      "Epoch 42/100\n",
      "1/1 [==============================] - 0s 32ms/step - loss: 0.6701 - accuracy: 0.5690 - val_loss: 0.6482 - val_accuracy: 0.5667\n",
      "Epoch 43/100\n",
      "1/1 [==============================] - 0s 30ms/step - loss: 0.6696 - accuracy: 0.5862 - val_loss: 0.6479 - val_accuracy: 0.5667\n",
      "Epoch 44/100\n",
      "1/1 [==============================] - 0s 34ms/step - loss: 0.6691 - accuracy: 0.5862 - val_loss: 0.6475 - val_accuracy: 0.5667\n",
      "Epoch 45/100\n",
      "1/1 [==============================] - 0s 34ms/step - loss: 0.6686 - accuracy: 0.5862 - val_loss: 0.6472 - val_accuracy: 0.5667\n",
      "Epoch 46/100\n",
      "1/1 [==============================] - 0s 35ms/step - loss: 0.6680 - accuracy: 0.5862 - val_loss: 0.6468 - val_accuracy: 0.5667\n",
      "Epoch 47/100\n",
      "1/1 [==============================] - 0s 35ms/step - loss: 0.6673 - accuracy: 0.5862 - val_loss: 0.6463 - val_accuracy: 0.5667\n",
      "Epoch 48/100\n",
      "1/1 [==============================] - 0s 34ms/step - loss: 0.6667 - accuracy: 0.5862 - val_loss: 0.6459 - val_accuracy: 0.5667\n",
      "Epoch 49/100\n",
      "1/1 [==============================] - 0s 35ms/step - loss: 0.6662 - accuracy: 0.5862 - val_loss: 0.6455 - val_accuracy: 0.5667\n",
      "Epoch 50/100\n",
      "1/1 [==============================] - 0s 35ms/step - loss: 0.6656 - accuracy: 0.5862 - val_loss: 0.6451 - val_accuracy: 0.5667\n",
      "Epoch 51/100\n",
      "1/1 [==============================] - 0s 35ms/step - loss: 0.6651 - accuracy: 0.6034 - val_loss: 0.6447 - val_accuracy: 0.5667\n",
      "Epoch 52/100\n",
      "1/1 [==============================] - 0s 34ms/step - loss: 0.6645 - accuracy: 0.6034 - val_loss: 0.6443 - val_accuracy: 0.5667\n",
      "Epoch 53/100\n",
      "1/1 [==============================] - 0s 34ms/step - loss: 0.6641 - accuracy: 0.5862 - val_loss: 0.6439 - val_accuracy: 0.5667\n",
      "Epoch 54/100\n",
      "1/1 [==============================] - 0s 37ms/step - loss: 0.6637 - accuracy: 0.5862 - val_loss: 0.6436 - val_accuracy: 0.6000\n",
      "Epoch 55/100\n",
      "1/1 [==============================] - 0s 35ms/step - loss: 0.6633 - accuracy: 0.5862 - val_loss: 0.6432 - val_accuracy: 0.6000\n",
      "Epoch 56/100\n",
      "1/1 [==============================] - 0s 34ms/step - loss: 0.6630 - accuracy: 0.5862 - val_loss: 0.6428 - val_accuracy: 0.6000\n",
      "Epoch 57/100\n",
      "1/1 [==============================] - 0s 34ms/step - loss: 0.6626 - accuracy: 0.5862 - val_loss: 0.6425 - val_accuracy: 0.6000\n",
      "Epoch 58/100\n",
      "1/1 [==============================] - 0s 34ms/step - loss: 0.6623 - accuracy: 0.5862 - val_loss: 0.6421 - val_accuracy: 0.6000\n"
     ]
    },
    {
     "name": "stdout",
     "output_type": "stream",
     "text": [
      "Epoch 59/100\n",
      "1/1 [==============================] - 0s 34ms/step - loss: 0.6619 - accuracy: 0.5862 - val_loss: 0.6418 - val_accuracy: 0.6000\n",
      "Epoch 60/100\n",
      "1/1 [==============================] - 0s 34ms/step - loss: 0.6615 - accuracy: 0.5862 - val_loss: 0.6415 - val_accuracy: 0.6000\n",
      "Epoch 61/100\n",
      "1/1 [==============================] - 0s 32ms/step - loss: 0.6612 - accuracy: 0.5862 - val_loss: 0.6411 - val_accuracy: 0.5667\n",
      "Epoch 62/100\n",
      "1/1 [==============================] - 0s 31ms/step - loss: 0.6608 - accuracy: 0.5862 - val_loss: 0.6408 - val_accuracy: 0.5667\n",
      "Epoch 63/100\n",
      "1/1 [==============================] - 0s 31ms/step - loss: 0.6605 - accuracy: 0.5862 - val_loss: 0.6405 - val_accuracy: 0.5667\n",
      "Epoch 64/100\n",
      "1/1 [==============================] - 0s 31ms/step - loss: 0.6601 - accuracy: 0.5862 - val_loss: 0.6401 - val_accuracy: 0.5667\n",
      "Epoch 65/100\n",
      "1/1 [==============================] - 0s 31ms/step - loss: 0.6597 - accuracy: 0.5862 - val_loss: 0.6398 - val_accuracy: 0.5667\n",
      "Epoch 66/100\n",
      "1/1 [==============================] - 0s 33ms/step - loss: 0.6593 - accuracy: 0.5862 - val_loss: 0.6395 - val_accuracy: 0.5667\n",
      "Epoch 67/100\n",
      "1/1 [==============================] - 0s 32ms/step - loss: 0.6589 - accuracy: 0.5862 - val_loss: 0.6392 - val_accuracy: 0.5667\n",
      "Epoch 68/100\n",
      "1/1 [==============================] - 0s 32ms/step - loss: 0.6585 - accuracy: 0.5862 - val_loss: 0.6389 - val_accuracy: 0.5667\n",
      "Epoch 69/100\n",
      "1/1 [==============================] - 0s 31ms/step - loss: 0.6581 - accuracy: 0.5862 - val_loss: 0.6386 - val_accuracy: 0.5667\n",
      "Epoch 70/100\n",
      "1/1 [==============================] - 0s 32ms/step - loss: 0.6577 - accuracy: 0.5862 - val_loss: 0.6383 - val_accuracy: 0.6000\n",
      "Epoch 71/100\n",
      "1/1 [==============================] - 0s 32ms/step - loss: 0.6573 - accuracy: 0.5862 - val_loss: 0.6381 - val_accuracy: 0.6000\n",
      "Epoch 72/100\n",
      "1/1 [==============================] - 0s 31ms/step - loss: 0.6569 - accuracy: 0.5862 - val_loss: 0.6378 - val_accuracy: 0.6000\n",
      "Epoch 73/100\n",
      "1/1 [==============================] - 0s 33ms/step - loss: 0.6565 - accuracy: 0.5862 - val_loss: 0.6376 - val_accuracy: 0.6000\n",
      "Epoch 74/100\n",
      "1/1 [==============================] - 0s 32ms/step - loss: 0.6561 - accuracy: 0.5862 - val_loss: 0.6374 - val_accuracy: 0.6000\n",
      "Epoch 75/100\n",
      "1/1 [==============================] - 0s 32ms/step - loss: 0.6557 - accuracy: 0.5862 - val_loss: 0.6373 - val_accuracy: 0.6000\n",
      "Epoch 76/100\n",
      "1/1 [==============================] - 0s 30ms/step - loss: 0.6553 - accuracy: 0.5862 - val_loss: 0.6371 - val_accuracy: 0.6000\n",
      "Epoch 77/100\n",
      "1/1 [==============================] - 0s 31ms/step - loss: 0.6549 - accuracy: 0.5862 - val_loss: 0.6371 - val_accuracy: 0.6000\n",
      "Epoch 78/100\n",
      "1/1 [==============================] - 0s 32ms/step - loss: 0.6544 - accuracy: 0.5862 - val_loss: 0.6370 - val_accuracy: 0.6000\n",
      "Epoch 79/100\n",
      "1/1 [==============================] - 0s 32ms/step - loss: 0.6540 - accuracy: 0.5862 - val_loss: 0.6369 - val_accuracy: 0.6000\n",
      "Epoch 80/100\n",
      "1/1 [==============================] - 0s 31ms/step - loss: 0.6535 - accuracy: 0.5862 - val_loss: 0.6369 - val_accuracy: 0.6000\n",
      "Epoch 81/100\n",
      "1/1 [==============================] - 0s 31ms/step - loss: 0.6531 - accuracy: 0.5862 - val_loss: 0.6369 - val_accuracy: 0.6000\n",
      "Epoch 82/100\n",
      "1/1 [==============================] - 0s 31ms/step - loss: 0.6526 - accuracy: 0.6034 - val_loss: 0.6367 - val_accuracy: 0.6000\n",
      "Epoch 83/100\n",
      "1/1 [==============================] - 0s 34ms/step - loss: 0.6522 - accuracy: 0.6034 - val_loss: 0.6365 - val_accuracy: 0.6000\n",
      "Epoch 84/100\n",
      "1/1 [==============================] - 0s 32ms/step - loss: 0.6518 - accuracy: 0.6034 - val_loss: 0.6362 - val_accuracy: 0.6000\n",
      "Epoch 85/100\n",
      "1/1 [==============================] - 0s 31ms/step - loss: 0.6514 - accuracy: 0.6034 - val_loss: 0.6358 - val_accuracy: 0.6000\n",
      "Epoch 86/100\n",
      "1/1 [==============================] - 0s 31ms/step - loss: 0.6511 - accuracy: 0.6034 - val_loss: 0.6354 - val_accuracy: 0.6000\n",
      "Epoch 87/100\n",
      "1/1 [==============================] - 0s 30ms/step - loss: 0.6507 - accuracy: 0.6034 - val_loss: 0.6351 - val_accuracy: 0.6000\n",
      "Epoch 88/100\n",
      "1/1 [==============================] - 0s 32ms/step - loss: 0.6503 - accuracy: 0.6034 - val_loss: 0.6349 - val_accuracy: 0.6333\n",
      "Epoch 89/100\n",
      "1/1 [==============================] - 0s 31ms/step - loss: 0.6499 - accuracy: 0.6034 - val_loss: 0.6346 - val_accuracy: 0.6667\n",
      "Epoch 90/100\n",
      "1/1 [==============================] - 0s 31ms/step - loss: 0.6495 - accuracy: 0.6034 - val_loss: 0.6343 - val_accuracy: 0.6667\n",
      "Epoch 91/100\n",
      "1/1 [==============================] - 0s 32ms/step - loss: 0.6491 - accuracy: 0.6034 - val_loss: 0.6339 - val_accuracy: 0.6667\n",
      "Epoch 92/100\n",
      "1/1 [==============================] - 0s 31ms/step - loss: 0.6487 - accuracy: 0.6034 - val_loss: 0.6335 - val_accuracy: 0.6667\n",
      "Epoch 93/100\n",
      "1/1 [==============================] - 0s 31ms/step - loss: 0.6484 - accuracy: 0.6034 - val_loss: 0.6331 - val_accuracy: 0.6667\n",
      "Epoch 94/100\n",
      "1/1 [==============================] - 0s 32ms/step - loss: 0.6480 - accuracy: 0.6034 - val_loss: 0.6328 - val_accuracy: 0.6667\n",
      "Epoch 95/100\n",
      "1/1 [==============================] - 0s 31ms/step - loss: 0.6476 - accuracy: 0.6034 - val_loss: 0.6324 - val_accuracy: 0.6667\n",
      "Epoch 96/100\n",
      "1/1 [==============================] - 0s 32ms/step - loss: 0.6472 - accuracy: 0.6034 - val_loss: 0.6320 - val_accuracy: 0.6667\n",
      "Epoch 97/100\n",
      "1/1 [==============================] - 0s 32ms/step - loss: 0.6469 - accuracy: 0.6034 - val_loss: 0.6317 - val_accuracy: 0.6667\n",
      "Epoch 98/100\n",
      "1/1 [==============================] - 0s 31ms/step - loss: 0.6465 - accuracy: 0.6034 - val_loss: 0.6313 - val_accuracy: 0.6667\n",
      "Epoch 99/100\n",
      "1/1 [==============================] - 0s 34ms/step - loss: 0.6461 - accuracy: 0.6034 - val_loss: 0.6310 - val_accuracy: 0.6667\n",
      "Epoch 100/100\n",
      "1/1 [==============================] - 0s 32ms/step - loss: 0.6458 - accuracy: 0.6034 - val_loss: 0.6307 - val_accuracy: 0.6667\n",
      "Most important variables:  [ 6  0  5 15  1  2  9 10 11  4]\n"
     ]
    }
   ],
   "source": [
    "hist = model.fit(X_train, y_traindm,\n",
    "          batch_size=58, epochs=100,\n",
    "          validation_data=(X_val, y_valdm), callbacks = [VIANN])"
   ]
  },
  {
   "cell_type": "markdown",
   "metadata": {},
   "source": [
    "# Visualizing Loss and Accuracy"
   ]
  },
  {
   "cell_type": "markdown",
   "metadata": {},
   "source": [
    "**Visualize the training loss and the validation loss using matplotlib as plt. Note the separation between the training and validation data.**"
   ]
  },
  {
   "cell_type": "code",
   "execution_count": 49,
   "metadata": {
    "scrolled": false
   },
   "outputs": [
    {
     "data": {
      "image/png": "[encoded data removed]",
      "text/plain": [
       "<Figure size 460.8x316.8 with 1 Axes>"
      ]
     },
     "metadata": {
      "needs_background": "light"
     },
     "output_type": "display_data"
    }
   ],
   "source": [
    "plt.plot(hist.history['loss'])\n",
    "plt.plot(hist.history['val_loss'])\n",
    "plt.title('Model loss')\n",
    "plt.ylabel('Loss')\n",
    "plt.xlabel('Epoch')\n",
    "plt.legend(['Train', 'Val'], loc='upper right')\n",
    "plt.show()"
   ]
  },
  {
   "cell_type": "markdown",
   "metadata": {},
   "source": [
    "**Then visualize the training accuracy and the validation accuracy. Note the separation between the validation and training accuracy indicating underfitting and the need for a larger network, more hidden layers, longer train time or more advanced algorithms.**"
   ]
  },
  {
   "cell_type": "code",
   "execution_count": 50,
   "metadata": {
    "scrolled": false
   },
   "outputs": [
    {
     "data": {
      "image/png": "[encoded data removed]",
      "text/plain": [
       "<Figure size 460.8x316.8 with 1 Axes>"
      ]
     },
     "metadata": {
      "needs_background": "light"
     },
     "output_type": "display_data"
    }
   ],
   "source": [
    "plt.plot(hist.history['accuracy'])\n",
    "plt.plot(hist.history['val_accuracy'])\n",
    "plt.title('Model accuracy')\n",
    "plt.ylabel('Accuracy')\n",
    "plt.xlabel('Epoch')\n",
    "plt.legend(['Train', 'Val'], loc='lower right')\n",
    "plt.show()"
   ]
  },
  {
   "cell_type": "code",
   "execution_count": 51,
   "metadata": {
    "scrolled": false
   },
   "outputs": [
    {
     "data": {
      "text/html": [
       "<div>\n",
       "<style scoped>\n",
       "    .dataframe tbody tr th:only-of-type {\n",
       "        vertical-align: middle;\n",
       "    }\n",
       "\n",
       "    .dataframe tbody tr th {\n",
       "        vertical-align: top;\n",
       "    }\n",
       "\n",
       "    .dataframe thead th {\n",
       "        text-align: right;\n",
       "    }\n",
       "</style>\n",
       "<table border=\"1\" class=\"dataframe\">\n",
       "  <thead>\n",
       "    <tr style=\"text-align: right;\">\n",
       "      <th></th>\n",
       "      <th>Variable</th>\n",
       "      <th>Scores</th>\n",
       "    </tr>\n",
       "  </thead>\n",
       "  <tbody>\n",
       "    <tr>\n",
       "      <th>7</th>\n",
       "      <td>Ce_clr</td>\n",
       "      <td>0.000000</td>\n",
       "    </tr>\n",
       "    <tr>\n",
       "      <th>12</th>\n",
       "      <td>Ho_clr</td>\n",
       "      <td>0.001929</td>\n",
       "    </tr>\n",
       "    <tr>\n",
       "      <th>3</th>\n",
       "      <td>Sc_clr</td>\n",
       "      <td>0.040250</td>\n",
       "    </tr>\n",
       "    <tr>\n",
       "      <th>13</th>\n",
       "      <td>Tm_clr</td>\n",
       "      <td>0.041414</td>\n",
       "    </tr>\n",
       "    <tr>\n",
       "      <th>8</th>\n",
       "      <td>Eu_clr</td>\n",
       "      <td>0.047311</td>\n",
       "    </tr>\n",
       "    <tr>\n",
       "      <th>14</th>\n",
       "      <td>Ta_clr</td>\n",
       "      <td>0.048075</td>\n",
       "    </tr>\n",
       "    <tr>\n",
       "      <th>4</th>\n",
       "      <td>V_clr</td>\n",
       "      <td>0.049140</td>\n",
       "    </tr>\n",
       "    <tr>\n",
       "      <th>11</th>\n",
       "      <td>Dy_clr</td>\n",
       "      <td>0.056302</td>\n",
       "    </tr>\n",
       "    <tr>\n",
       "      <th>10</th>\n",
       "      <td>Tb_clr</td>\n",
       "      <td>0.060307</td>\n",
       "    </tr>\n",
       "    <tr>\n",
       "      <th>9</th>\n",
       "      <td>Gd_clr</td>\n",
       "      <td>0.060311</td>\n",
       "    </tr>\n",
       "    <tr>\n",
       "      <th>2</th>\n",
       "      <td>Ca_clr</td>\n",
       "      <td>0.080136</td>\n",
       "    </tr>\n",
       "    <tr>\n",
       "      <th>1</th>\n",
       "      <td>Si_clr</td>\n",
       "      <td>0.133473</td>\n",
       "    </tr>\n",
       "    <tr>\n",
       "      <th>15</th>\n",
       "      <td>Th_clr</td>\n",
       "      <td>0.137841</td>\n",
       "    </tr>\n",
       "    <tr>\n",
       "      <th>5</th>\n",
       "      <td>Mn_clr</td>\n",
       "      <td>0.147271</td>\n",
       "    </tr>\n",
       "    <tr>\n",
       "      <th>0</th>\n",
       "      <td>Al_clr</td>\n",
       "      <td>0.183812</td>\n",
       "    </tr>\n",
       "    <tr>\n",
       "      <th>6</th>\n",
       "      <td>Ba_clr</td>\n",
       "      <td>1.000000</td>\n",
       "    </tr>\n",
       "  </tbody>\n",
       "</table>\n",
       "</div>"
      ],
      "text/plain": [
       "   Variable    Scores\n",
       "7    Ce_clr  0.000000\n",
       "12   Ho_clr  0.001929\n",
       "3    Sc_clr  0.040250\n",
       "13   Tm_clr  0.041414\n",
       "8    Eu_clr  0.047311\n",
       "14   Ta_clr  0.048075\n",
       "4     V_clr  0.049140\n",
       "11   Dy_clr  0.056302\n",
       "10   Tb_clr  0.060307\n",
       "9    Gd_clr  0.060311\n",
       "2    Ca_clr  0.080136\n",
       "1    Si_clr  0.133473\n",
       "15   Th_clr  0.137841\n",
       "5    Mn_clr  0.147271\n",
       "0    Al_clr  0.183812\n",
       "6    Ba_clr  1.000000"
      ]
     },
     "execution_count": 51,
     "metadata": {},
     "output_type": "execute_result"
    }
   ],
   "source": [
    "#Visualize Feature Importance in table format\n",
    "X_columns = X_train.columns.tolist()\n",
    "model_FI_scores = VIANN.varScores.tolist()\n",
    "\n",
    "model_FI = pd.DataFrame()\n",
    "model_FI['Variable'] = X_columns\n",
    "model_FI['Scores'] = model_FI_scores\n",
    "model_FI.sort_values(by=['Scores'], inplace=True, ascending=True)\n",
    "\n",
    "model_FI"
   ]
  },
  {
   "cell_type": "code",
   "execution_count": 52,
   "metadata": {
    "scrolled": false
   },
   "outputs": [
    {
     "data": {
      "text/plain": [
       "array([['Al_clr', 'Si_clr', 'Ca_clr', 'Sc_clr', 'V_clr', 'Mn_clr',\n",
       "        'Ba_clr', 'Ce_clr', 'Eu_clr', 'Gd_clr', 'Tb_clr', 'Dy_clr',\n",
       "        'Ho_clr', 'Tm_clr', 'Ta_clr', 'Th_clr'],\n",
       "       [0.18381159007549286, 0.1334729641675949, 0.0801362544298172,\n",
       "        0.040249574929475784, 0.04914005845785141, 0.14727099239826202,\n",
       "        1.0, 0.0, 0.04731065407395363, 0.06031140685081482,\n",
       "        0.06030706316232681, 0.056301601231098175, 0.0019286583410575986,\n",
       "        0.04141434282064438, 0.04807477816939354, 0.13784149289131165]],\n",
       "      dtype=object)"
      ]
     },
     "execution_count": 52,
     "metadata": {},
     "output_type": "execute_result"
    }
   ],
   "source": [
    "#Link Features to VIANN scores and export to csv\n",
    "model_FI_array = np.vstack((X_train.columns, VIANN.varScores))\n",
    "pd.DataFrame(model_FI_array).to_csv(\"G10_model_FI.csv\", index=None)\n",
    "model_FI_array"
   ]
  },
  {
   "cell_type": "code",
   "execution_count": 53,
   "metadata": {
    "scrolled": true
   },
   "outputs": [
    {
     "data": {
      "image/png": "[encoded data removed]",
      "text/plain": [
       "<Figure size 460.8x316.8 with 1 Axes>"
      ]
     },
     "metadata": {
      "needs_background": "light"
     },
     "output_type": "display_data"
    }
   ],
   "source": [
    "# Plot the feature importances of the model\n",
    "fig, ax = plt.subplots()\n",
    "\n",
    "ax.barh(model_FI['Variable'], model_FI['Scores'], align=\"center\", alpha=0.5)\n",
    "ax.set_xlabel('Scores')\n",
    "ax.set_yticks(model_FI['Variable'])\n",
    "ax.xaxis.grid(True)\n",
    "ax.set_title(\"Model Feature Importances\", fontsize='14')\n",
    "\n",
    "# Save the figure and show\n",
    "plt.savefig('G10_model_FI_barplot.png')\n",
    "plt.show()"
   ]
  },
  {
   "cell_type": "markdown",
   "metadata": {},
   "source": [
    "**Visualize the neural network.**"
   ]
  },
  {
   "cell_type": "code",
   "execution_count": 54,
   "metadata": {
    "scrolled": false
   },
   "outputs": [
    {
     "data": {
      "text/plain": [
       "Reusing TensorBoard on port 6006 (pid 11316), started 0:26:25 ago. (Use '!kill 11316' to kill it.)"
      ]
     },
     "metadata": {},
     "output_type": "display_data"
    },
    {
     "data": {
      "text/html": [
       "\n",
       "      <iframe id=\"tensorboard-frame-3374ae856b04b786\" width=\"100%\" height=\"800\" frameborder=\"0\">\n",
       "      </iframe>\n",
       "      <script>\n",
       "        (function() {\n",
       "          const frame = document.getElementById(\"tensorboard-frame-3374ae856b04b786\");\n",
       "          const url = new URL(\"/\", window.location);\n",
       "          const port = 6006;\n",
       "          if (port) {\n",
       "            url.port = port;\n",
       "          }\n",
       "          frame.src = url;\n",
       "        })();\n",
       "      </script>\n",
       "    "
      ],
      "text/plain": [
       "<IPython.core.display.HTML object>"
      ]
     },
     "metadata": {},
     "output_type": "display_data"
    }
   ],
   "source": [
    "#View tensorboard graphic of the neural network structure\n",
    "#Re-run this cell if there is a timeout error\n",
    "%tensorboard --logdir logs"
   ]
  },
  {
   "cell_type": "markdown",
   "metadata": {},
   "source": [
    "**Check model's performance on test data.**"
   ]
  },
  {
   "cell_type": "code",
   "execution_count": 55,
   "metadata": {
    "scrolled": true
   },
   "outputs": [
    {
     "name": "stdout",
     "output_type": "stream",
     "text": [
      "1/1 [==============================] - 0s 13ms/step - loss: 0.6562 - accuracy: 0.6897\n"
     ]
    },
    {
     "data": {
      "text/plain": [
       "0.6896551847457886"
      ]
     },
     "execution_count": 55,
     "metadata": {},
     "output_type": "execute_result"
    }
   ],
   "source": [
    "model.evaluate(X_test, y_testdm)[1]"
   ]
  },
  {
   "cell_type": "markdown",
   "metadata": {},
   "source": [
    "**Out dataset is small and the accuracy is low, therefore try adding in regularization and drop out.**"
   ]
  },
  {
   "cell_type": "markdown",
   "metadata": {},
   "source": [
    "# Adding Regularization to the Neural Network"
   ]
  },
  {
   "cell_type": "markdown",
   "metadata": {},
   "source": [
    "###### **Train a model which will overfit, which we call Model 2. Input shape is how many variables (16) and Dense is number of y values (2).**"
   ]
  },
  {
   "cell_type": "code",
   "execution_count": 127,
   "metadata": {
    "scrolled": true
   },
   "outputs": [
    {
     "name": "stdout",
     "output_type": "stream",
     "text": [
      "Epoch 1/200\n",
      "1/1 [==============================] - 1s 573ms/step - loss: 0.7026 - accuracy: 0.5172 - val_loss: 1.2972 - val_accuracy: 0.5000\n",
      "Epoch 2/200\n",
      "1/1 [==============================] - 0s 55ms/step - loss: 1.3752 - accuracy: 0.4828 - val_loss: 0.8035 - val_accuracy: 0.5000\n",
      "Epoch 3/200\n",
      "1/1 [==============================] - 0s 53ms/step - loss: 0.7912 - accuracy: 0.5172 - val_loss: 0.7342 - val_accuracy: 0.5000\n",
      "Epoch 4/200\n",
      "1/1 [==============================] - 0s 51ms/step - loss: 0.7369 - accuracy: 0.5172 - val_loss: 0.5720 - val_accuracy: 0.8333\n",
      "Epoch 5/200\n",
      "1/1 [==============================] - 0s 50ms/step - loss: 0.5921 - accuracy: 0.7931 - val_loss: 0.5394 - val_accuracy: 0.9000\n",
      "Epoch 6/200\n",
      "1/1 [==============================] - 0s 48ms/step - loss: 0.5779 - accuracy: 0.7931 - val_loss: 0.4695 - val_accuracy: 0.8333\n",
      "Epoch 7/200\n",
      "1/1 [==============================] - 0s 48ms/step - loss: 0.5171 - accuracy: 0.7759 - val_loss: 0.4217 - val_accuracy: 0.8667\n",
      "Epoch 8/200\n",
      "1/1 [==============================] - 0s 50ms/step - loss: 0.4762 - accuracy: 0.8103 - val_loss: 0.3570 - val_accuracy: 0.8667\n",
      "Epoch 9/200\n",
      "1/1 [==============================] - 0s 52ms/step - loss: 0.4454 - accuracy: 0.7931 - val_loss: 0.3053 - val_accuracy: 0.8000\n",
      "Epoch 10/200\n",
      "1/1 [==============================] - 0s 48ms/step - loss: 0.4278 - accuracy: 0.7931 - val_loss: 0.3085 - val_accuracy: 0.8333\n",
      "Epoch 11/200\n",
      "1/1 [==============================] - 0s 50ms/step - loss: 0.4230 - accuracy: 0.7931 - val_loss: 0.2712 - val_accuracy: 0.8333\n",
      "Epoch 12/200\n",
      "1/1 [==============================] - 0s 52ms/step - loss: 0.4211 - accuracy: 0.7931 - val_loss: 0.2574 - val_accuracy: 0.8333\n",
      "Epoch 13/200\n",
      "1/1 [==============================] - 0s 50ms/step - loss: 0.4140 - accuracy: 0.7931 - val_loss: 0.2731 - val_accuracy: 0.8667\n",
      "Epoch 14/200\n",
      "1/1 [==============================] - 0s 48ms/step - loss: 0.4024 - accuracy: 0.7931 - val_loss: 0.2447 - val_accuracy: 0.9333\n",
      "Epoch 15/200\n",
      "1/1 [==============================] - 0s 47ms/step - loss: 0.3890 - accuracy: 0.7931 - val_loss: 0.2605 - val_accuracy: 0.9333\n",
      "Epoch 16/200\n",
      "1/1 [==============================] - 0s 47ms/step - loss: 0.3766 - accuracy: 0.8103 - val_loss: 0.2629 - val_accuracy: 0.9333\n",
      "Epoch 17/200\n",
      "1/1 [==============================] - 0s 47ms/step - loss: 0.3651 - accuracy: 0.8103 - val_loss: 0.2540 - val_accuracy: 0.9333\n",
      "Epoch 18/200\n",
      "1/1 [==============================] - 0s 52ms/step - loss: 0.3581 - accuracy: 0.8276 - val_loss: 0.2837 - val_accuracy: 0.9333\n",
      "Epoch 19/200\n",
      "1/1 [==============================] - 0s 49ms/step - loss: 0.3562 - accuracy: 0.8621 - val_loss: 0.2518 - val_accuracy: 0.9000\n",
      "Epoch 20/200\n",
      "1/1 [==============================] - 0s 49ms/step - loss: 0.3608 - accuracy: 0.8276 - val_loss: 0.2791 - val_accuracy: 0.9333\n",
      "Epoch 21/200\n",
      "1/1 [==============================] - 0s 50ms/step - loss: 0.3433 - accuracy: 0.8276 - val_loss: 0.2246 - val_accuracy: 0.9333\n",
      "Epoch 22/200\n",
      "1/1 [==============================] - 0s 53ms/step - loss: 0.3182 - accuracy: 0.8621 - val_loss: 0.2133 - val_accuracy: 0.9333\n",
      "Epoch 23/200\n",
      "1/1 [==============================] - 0s 48ms/step - loss: 0.3067 - accuracy: 0.8621 - val_loss: 0.2489 - val_accuracy: 0.9333\n",
      "Epoch 24/200\n",
      "1/1 [==============================] - 0s 47ms/step - loss: 0.3120 - accuracy: 0.8793 - val_loss: 0.2128 - val_accuracy: 0.9000\n",
      "Epoch 25/200\n",
      "1/1 [==============================] - 0s 52ms/step - loss: 0.3195 - accuracy: 0.8276 - val_loss: 0.2150 - val_accuracy: 0.9667\n",
      "Epoch 26/200\n",
      "1/1 [==============================] - 0s 47ms/step - loss: 0.2832 - accuracy: 0.8966 - val_loss: 0.1959 - val_accuracy: 0.9667\n",
      "Epoch 27/200\n",
      "1/1 [==============================] - 0s 48ms/step - loss: 0.2664 - accuracy: 0.8966 - val_loss: 0.1876 - val_accuracy: 0.9667\n",
      "Epoch 28/200\n",
      "1/1 [==============================] - 0s 49ms/step - loss: 0.2744 - accuracy: 0.8793 - val_loss: 0.2305 - val_accuracy: 0.9000\n",
      "Epoch 29/200\n",
      "1/1 [==============================] - 0s 47ms/step - loss: 0.2692 - accuracy: 0.8966 - val_loss: 0.1877 - val_accuracy: 0.9667\n",
      "Epoch 30/200\n",
      "1/1 [==============================] - 0s 48ms/step - loss: 0.2588 - accuracy: 0.9138 - val_loss: 0.1871 - val_accuracy: 0.9333\n",
      "Epoch 31/200\n",
      "1/1 [==============================] - 0s 48ms/step - loss: 0.2288 - accuracy: 0.8966 - val_loss: 0.1983 - val_accuracy: 0.9333\n",
      "Epoch 32/200\n",
      "1/1 [==============================] - 0s 49ms/step - loss: 0.2259 - accuracy: 0.9138 - val_loss: 0.1970 - val_accuracy: 0.9333\n",
      "Epoch 33/200\n",
      "1/1 [==============================] - 0s 53ms/step - loss: 0.2499 - accuracy: 0.8966 - val_loss: 0.2306 - val_accuracy: 0.9000\n",
      "Epoch 34/200\n",
      "1/1 [==============================] - 0s 48ms/step - loss: 0.2363 - accuracy: 0.8966 - val_loss: 0.1799 - val_accuracy: 0.9667\n",
      "Epoch 35/200\n",
      "1/1 [==============================] - 0s 49ms/step - loss: 0.2259 - accuracy: 0.9310 - val_loss: 0.1646 - val_accuracy: 0.9333\n",
      "Epoch 36/200\n",
      "1/1 [==============================] - 0s 49ms/step - loss: 0.1873 - accuracy: 0.9310 - val_loss: 0.2021 - val_accuracy: 0.9000\n",
      "Epoch 37/200\n",
      "1/1 [==============================] - 0s 48ms/step - loss: 0.2007 - accuracy: 0.9310 - val_loss: 0.2045 - val_accuracy: 0.9333\n",
      "Epoch 38/200\n",
      "1/1 [==============================] - 0s 50ms/step - loss: 0.2394 - accuracy: 0.8966 - val_loss: 0.1756 - val_accuracy: 0.9333\n",
      "Epoch 39/200\n",
      "1/1 [==============================] - 0s 49ms/step - loss: 0.1694 - accuracy: 0.9483 - val_loss: 0.2188 - val_accuracy: 0.8667\n",
      "Epoch 40/200\n",
      "1/1 [==============================] - 0s 49ms/step - loss: 0.1872 - accuracy: 0.9138 - val_loss: 0.2364 - val_accuracy: 0.8333\n",
      "Epoch 41/200\n",
      "1/1 [==============================] - 0s 50ms/step - loss: 0.2506 - accuracy: 0.8966 - val_loss: 0.1543 - val_accuracy: 0.9667\n",
      "Epoch 42/200\n",
      "1/1 [==============================] - 0s 49ms/step - loss: 0.1455 - accuracy: 0.9483 - val_loss: 0.3572 - val_accuracy: 0.8333\n",
      "Epoch 43/200\n",
      "1/1 [==============================] - 0s 51ms/step - loss: 0.2798 - accuracy: 0.8276 - val_loss: 0.3656 - val_accuracy: 0.8333\n",
      "Epoch 44/200\n",
      "1/1 [==============================] - 0s 48ms/step - loss: 0.3414 - accuracy: 0.8621 - val_loss: 0.3072 - val_accuracy: 0.8333\n",
      "Epoch 45/200\n",
      "1/1 [==============================] - 0s 49ms/step - loss: 0.2870 - accuracy: 0.8966 - val_loss: 0.2457 - val_accuracy: 0.9000\n",
      "Epoch 46/200\n",
      "1/1 [==============================] - 0s 52ms/step - loss: 0.1815 - accuracy: 0.9138 - val_loss: 0.3641 - val_accuracy: 0.9000\n",
      "Epoch 47/200\n",
      "1/1 [==============================] - 0s 49ms/step - loss: 0.2709 - accuracy: 0.8448 - val_loss: 0.1832 - val_accuracy: 0.9333\n",
      "Epoch 48/200\n",
      "1/1 [==============================] - 0s 49ms/step - loss: 0.1887 - accuracy: 0.8966 - val_loss: 0.3193 - val_accuracy: 0.8333\n",
      "Epoch 49/200\n",
      "1/1 [==============================] - 0s 49ms/step - loss: 0.3050 - accuracy: 0.8448 - val_loss: 0.1729 - val_accuracy: 0.9333\n",
      "Epoch 50/200\n",
      "1/1 [==============================] - 0s 49ms/step - loss: 0.1761 - accuracy: 0.8966 - val_loss: 0.2511 - val_accuracy: 0.9000\n",
      "Epoch 51/200\n",
      "1/1 [==============================] - 0s 49ms/step - loss: 0.1847 - accuracy: 0.9310 - val_loss: 0.3061 - val_accuracy: 0.9000\n",
      "Epoch 52/200\n",
      "1/1 [==============================] - 0s 52ms/step - loss: 0.2229 - accuracy: 0.8966 - val_loss: 0.1372 - val_accuracy: 0.9667\n",
      "Epoch 53/200\n",
      "1/1 [==============================] - 0s 52ms/step - loss: 0.1374 - accuracy: 0.9310 - val_loss: 0.2174 - val_accuracy: 0.8667\n",
      "Epoch 54/200\n",
      "1/1 [==============================] - 0s 51ms/step - loss: 0.2146 - accuracy: 0.8966 - val_loss: 0.1665 - val_accuracy: 0.9333\n",
      "Epoch 55/200\n",
      "1/1 [==============================] - 0s 54ms/step - loss: 0.1726 - accuracy: 0.8966 - val_loss: 0.1451 - val_accuracy: 0.9333\n",
      "Epoch 56/200\n",
      "1/1 [==============================] - 0s 52ms/step - loss: 0.1164 - accuracy: 0.9828 - val_loss: 0.2886 - val_accuracy: 0.9000\n",
      "Epoch 57/200\n",
      "1/1 [==============================] - 0s 52ms/step - loss: 0.2005 - accuracy: 0.9138 - val_loss: 0.1287 - val_accuracy: 0.9667\n",
      "Epoch 58/200\n",
      "1/1 [==============================] - 0s 52ms/step - loss: 0.1027 - accuracy: 0.9828 - val_loss: 0.1656 - val_accuracy: 0.9667\n",
      "Epoch 59/200\n",
      "1/1 [==============================] - 0s 51ms/step - loss: 0.1528 - accuracy: 0.8966 - val_loss: 0.1547 - val_accuracy: 0.9667\n",
      "Epoch 60/200\n",
      "1/1 [==============================] - 0s 51ms/step - loss: 0.1328 - accuracy: 0.9310 - val_loss: 0.1432 - val_accuracy: 0.9667\n",
      "Epoch 61/200\n",
      "1/1 [==============================] - 0s 49ms/step - loss: 0.0891 - accuracy: 0.9828 - val_loss: 0.2321 - val_accuracy: 0.9000\n",
      "Epoch 62/200\n",
      "1/1 [==============================] - 0s 49ms/step - loss: 0.1383 - accuracy: 0.9310 - val_loss: 0.1219 - val_accuracy: 0.9667\n",
      "Epoch 63/200\n",
      "1/1 [==============================] - 0s 51ms/step - loss: 0.0755 - accuracy: 0.9828 - val_loss: 0.1294 - val_accuracy: 0.9667\n",
      "Epoch 64/200\n",
      "1/1 [==============================] - 0s 49ms/step - loss: 0.1050 - accuracy: 0.9483 - val_loss: 0.1178 - val_accuracy: 0.9667\n",
      "Epoch 65/200\n",
      "1/1 [==============================] - 0s 49ms/step - loss: 0.0842 - accuracy: 0.9828 - val_loss: 0.1241 - val_accuracy: 0.9333\n",
      "Epoch 66/200\n",
      "1/1 [==============================] - 0s 50ms/step - loss: 0.0640 - accuracy: 0.9828 - val_loss: 0.1824 - val_accuracy: 0.9000\n",
      "Epoch 67/200\n",
      "1/1 [==============================] - 0s 51ms/step - loss: 0.0875 - accuracy: 0.9828 - val_loss: 0.1296 - val_accuracy: 0.9667\n",
      "Epoch 68/200\n",
      "1/1 [==============================] - 0s 48ms/step - loss: 0.0525 - accuracy: 0.9828 - val_loss: 0.1431 - val_accuracy: 0.9667\n",
      "Epoch 69/200\n",
      "1/1 [==============================] - 0s 52ms/step - loss: 0.0627 - accuracy: 0.9828 - val_loss: 0.1476 - val_accuracy: 0.9667\n",
      "Epoch 70/200\n",
      "1/1 [==============================] - 0s 55ms/step - loss: 0.0577 - accuracy: 0.9828 - val_loss: 0.1414 - val_accuracy: 0.9667\n",
      "Epoch 71/200\n",
      "1/1 [==============================] - 0s 50ms/step - loss: 0.0419 - accuracy: 0.9828 - val_loss: 0.1620 - val_accuracy: 0.9333\n",
      "Epoch 72/200\n",
      "1/1 [==============================] - 0s 49ms/step - loss: 0.0499 - accuracy: 1.0000 - val_loss: 0.1354 - val_accuracy: 0.9333\n",
      "Epoch 73/200\n",
      "1/1 [==============================] - 0s 50ms/step - loss: 0.0387 - accuracy: 0.9828 - val_loss: 0.1289 - val_accuracy: 0.9667\n",
      "Epoch 74/200\n",
      "1/1 [==============================] - 0s 53ms/step - loss: 0.0368 - accuracy: 0.9828 - val_loss: 0.1436 - val_accuracy: 0.9667\n",
      "Epoch 75/200\n",
      "1/1 [==============================] - 0s 59ms/step - loss: 0.0366 - accuracy: 0.9828 - val_loss: 0.1524 - val_accuracy: 0.9667\n",
      "Epoch 76/200\n",
      "1/1 [==============================] - 0s 56ms/step - loss: 0.0273 - accuracy: 1.0000 - val_loss: 0.1755 - val_accuracy: 0.9333\n",
      "Epoch 77/200\n",
      "1/1 [==============================] - 0s 54ms/step - loss: 0.0326 - accuracy: 0.9828 - val_loss: 0.1557 - val_accuracy: 0.9333\n",
      "Epoch 78/200\n",
      "1/1 [==============================] - 0s 52ms/step - loss: 0.0239 - accuracy: 1.0000 - val_loss: 0.1374 - val_accuracy: 0.9667\n",
      "Epoch 79/200\n",
      "1/1 [==============================] - 0s 51ms/step - loss: 0.0233 - accuracy: 0.9828 - val_loss: 0.1339 - val_accuracy: 0.9667\n",
      "Epoch 80/200\n",
      "1/1 [==============================] - 0s 51ms/step - loss: 0.0249 - accuracy: 0.9828 - val_loss: 0.1355 - val_accuracy: 0.9667\n",
      "Epoch 81/200\n",
      "1/1 [==============================] - 0s 51ms/step - loss: 0.0181 - accuracy: 1.0000 - val_loss: 0.1564 - val_accuracy: 0.9333\n",
      "Epoch 82/200\n",
      "1/1 [==============================] - 0s 53ms/step - loss: 0.0197 - accuracy: 1.0000 - val_loss: 0.1580 - val_accuracy: 0.9333\n",
      "Epoch 83/200\n",
      "1/1 [==============================] - 0s 53ms/step - loss: 0.0161 - accuracy: 1.0000 - val_loss: 0.1552 - val_accuracy: 0.9667\n",
      "Epoch 84/200\n",
      "1/1 [==============================] - 0s 52ms/step - loss: 0.0139 - accuracy: 1.0000 - val_loss: 0.1623 - val_accuracy: 0.9667\n",
      "Epoch 85/200\n",
      "1/1 [==============================] - 0s 48ms/step - loss: 0.0152 - accuracy: 1.0000 - val_loss: 0.1648 - val_accuracy: 0.9667\n",
      "Epoch 86/200\n",
      "1/1 [==============================] - 0s 49ms/step - loss: 0.0104 - accuracy: 1.0000 - val_loss: 0.1725 - val_accuracy: 0.9333\n",
      "Epoch 87/200\n",
      "1/1 [==============================] - 0s 47ms/step - loss: 0.0113 - accuracy: 1.0000 - val_loss: 0.1629 - val_accuracy: 0.9333\n",
      "Epoch 88/200\n",
      "1/1 [==============================] - 0s 51ms/step - loss: 0.0093 - accuracy: 1.0000 - val_loss: 0.1477 - val_accuracy: 0.9667\n",
      "Epoch 89/200\n",
      "1/1 [==============================] - 0s 48ms/step - loss: 0.0082 - accuracy: 1.0000 - val_loss: 0.1451 - val_accuracy: 0.9667\n",
      "Epoch 90/200\n",
      "1/1 [==============================] - 0s 48ms/step - loss: 0.0087 - accuracy: 1.0000 - val_loss: 0.1518 - val_accuracy: 0.9667\n",
      "Epoch 91/200\n",
      "1/1 [==============================] - 0s 49ms/step - loss: 0.0063 - accuracy: 1.0000 - val_loss: 0.1678 - val_accuracy: 0.9333\n",
      "Epoch 92/200\n",
      "1/1 [==============================] - 0s 50ms/step - loss: 0.0062 - accuracy: 1.0000 - val_loss: 0.1753 - val_accuracy: 0.9333\n",
      "Epoch 93/200\n",
      "1/1 [==============================] - 0s 50ms/step - loss: 0.0058 - accuracy: 1.0000 - val_loss: 0.1714 - val_accuracy: 0.9333\n",
      "Epoch 94/200\n",
      "1/1 [==============================] - 0s 50ms/step - loss: 0.0045 - accuracy: 1.0000 - val_loss: 0.1700 - val_accuracy: 0.9667\n",
      "Epoch 95/200\n",
      "1/1 [==============================] - 0s 49ms/step - loss: 0.0048 - accuracy: 1.0000 - val_loss: 0.1695 - val_accuracy: 0.9667\n",
      "Epoch 96/200\n",
      "1/1 [==============================] - 0s 49ms/step - loss: 0.0041 - accuracy: 1.0000 - val_loss: 0.1704 - val_accuracy: 0.9333\n",
      "Epoch 97/200\n",
      "1/1 [==============================] - 0s 51ms/step - loss: 0.0033 - accuracy: 1.0000 - val_loss: 0.1726 - val_accuracy: 0.9333\n",
      "Epoch 98/200\n",
      "1/1 [==============================] - 0s 51ms/step - loss: 0.0034 - accuracy: 1.0000 - val_loss: 0.1678 - val_accuracy: 0.9333\n",
      "Epoch 99/200\n",
      "1/1 [==============================] - 0s 52ms/step - loss: 0.0029 - accuracy: 1.0000 - val_loss: 0.1597 - val_accuracy: 0.9333\n",
      "Epoch 100/200\n",
      "1/1 [==============================] - 0s 50ms/step - loss: 0.0024 - accuracy: 1.0000 - val_loss: 0.1567 - val_accuracy: 0.9667\n",
      "Epoch 101/200\n",
      "1/1 [==============================] - 0s 49ms/step - loss: 0.0025 - accuracy: 1.0000 - val_loss: 0.1602 - val_accuracy: 0.9667\n",
      "Epoch 102/200\n",
      "1/1 [==============================] - 0s 50ms/step - loss: 0.0023 - accuracy: 1.0000 - val_loss: 0.1682 - val_accuracy: 0.9333\n",
      "Epoch 103/200\n",
      "1/1 [==============================] - 0s 49ms/step - loss: 0.0019 - accuracy: 1.0000 - val_loss: 0.1797 - val_accuracy: 0.9333\n",
      "Epoch 104/200\n",
      "1/1 [==============================] - 0s 51ms/step - loss: 0.0017 - accuracy: 1.0000 - val_loss: 0.1893 - val_accuracy: 0.9333\n",
      "Epoch 105/200\n",
      "1/1 [==============================] - 0s 50ms/step - loss: 0.0017 - accuracy: 1.0000 - val_loss: 0.1933 - val_accuracy: 0.9333\n",
      "Epoch 106/200\n",
      "1/1 [==============================] - 0s 49ms/step - loss: 0.0015 - accuracy: 1.0000 - val_loss: 0.1937 - val_accuracy: 0.9333\n",
      "Epoch 107/200\n",
      "1/1 [==============================] - 0s 49ms/step - loss: 0.0014 - accuracy: 1.0000 - val_loss: 0.1935 - val_accuracy: 0.9333\n",
      "Epoch 108/200\n",
      "1/1 [==============================] - 0s 47ms/step - loss: 0.0013 - accuracy: 1.0000 - val_loss: 0.1932 - val_accuracy: 0.9667\n",
      "Epoch 109/200\n",
      "1/1 [==============================] - 0s 48ms/step - loss: 0.0013 - accuracy: 1.0000 - val_loss: 0.1927 - val_accuracy: 0.9333\n",
      "Epoch 110/200\n",
      "1/1 [==============================] - 0s 50ms/step - loss: 0.0011 - accuracy: 1.0000 - val_loss: 0.1931 - val_accuracy: 0.9333\n",
      "Epoch 111/200\n",
      "1/1 [==============================] - 0s 51ms/step - loss: 0.0010 - accuracy: 1.0000 - val_loss: 0.1937 - val_accuracy: 0.9333\n",
      "Epoch 112/200\n",
      "1/1 [==============================] - 0s 48ms/step - loss: 9.8908e-04 - accuracy: 1.0000 - val_loss: 0.1928 - val_accuracy: 0.9333\n",
      "Epoch 113/200\n",
      "1/1 [==============================] - 0s 49ms/step - loss: 9.4261e-04 - accuracy: 1.0000 - val_loss: 0.1904 - val_accuracy: 0.9333\n",
      "Epoch 114/200\n",
      "1/1 [==============================] - 0s 48ms/step - loss: 8.5166e-04 - accuracy: 1.0000 - val_loss: 0.1883 - val_accuracy: 0.9333\n",
      "Epoch 115/200\n",
      "1/1 [==============================] - 0s 48ms/step - loss: 7.8343e-04 - accuracy: 1.0000 - val_loss: 0.1879 - val_accuracy: 0.9333\n",
      "Epoch 116/200\n",
      "1/1 [==============================] - 0s 51ms/step - loss: 7.5574e-04 - accuracy: 1.0000 - val_loss: 0.1893 - val_accuracy: 0.9333\n"
     ]
    },
    {
     "name": "stdout",
     "output_type": "stream",
     "text": [
      "Epoch 117/200\n",
      "1/1 [==============================] - 0s 50ms/step - loss: 7.2587e-04 - accuracy: 1.0000 - val_loss: 0.1921 - val_accuracy: 0.9333\n",
      "Epoch 118/200\n",
      "1/1 [==============================] - 0s 50ms/step - loss: 6.7256e-04 - accuracy: 1.0000 - val_loss: 0.1960 - val_accuracy: 0.9333\n",
      "Epoch 119/200\n",
      "1/1 [==============================] - 0s 49ms/step - loss: 6.1511e-04 - accuracy: 1.0000 - val_loss: 0.2004 - val_accuracy: 0.9333\n",
      "Epoch 120/200\n",
      "1/1 [==============================] - 0s 47ms/step - loss: 5.7941e-04 - accuracy: 1.0000 - val_loss: 0.2044 - val_accuracy: 0.9333\n",
      "Epoch 121/200\n",
      "1/1 [==============================] - 0s 49ms/step - loss: 5.5967e-04 - accuracy: 1.0000 - val_loss: 0.2072 - val_accuracy: 0.9333\n",
      "Epoch 122/200\n",
      "1/1 [==============================] - 0s 50ms/step - loss: 5.3643e-04 - accuracy: 1.0000 - val_loss: 0.2083 - val_accuracy: 0.9333\n",
      "Epoch 123/200\n",
      "1/1 [==============================] - 0s 50ms/step - loss: 5.0424e-04 - accuracy: 1.0000 - val_loss: 0.2081 - val_accuracy: 0.9333\n",
      "Epoch 124/200\n",
      "1/1 [==============================] - 0s 51ms/step - loss: 4.7294e-04 - accuracy: 1.0000 - val_loss: 0.2076 - val_accuracy: 0.9333\n",
      "Epoch 125/200\n",
      "1/1 [==============================] - 0s 49ms/step - loss: 4.5054e-04 - accuracy: 1.0000 - val_loss: 0.2073 - val_accuracy: 0.9333\n",
      "Epoch 126/200\n",
      "1/1 [==============================] - 0s 50ms/step - loss: 4.3346e-04 - accuracy: 1.0000 - val_loss: 0.2073 - val_accuracy: 0.9333\n",
      "Epoch 127/200\n",
      "1/1 [==============================] - 0s 49ms/step - loss: 4.1397e-04 - accuracy: 1.0000 - val_loss: 0.2078 - val_accuracy: 0.9333\n",
      "Epoch 128/200\n",
      "1/1 [==============================] - 0s 51ms/step - loss: 3.9087e-04 - accuracy: 1.0000 - val_loss: 0.2085 - val_accuracy: 0.9333\n",
      "Epoch 129/200\n",
      "1/1 [==============================] - 0s 50ms/step - loss: 3.6928e-04 - accuracy: 1.0000 - val_loss: 0.2096 - val_accuracy: 0.9333\n",
      "Epoch 130/200\n",
      "1/1 [==============================] - 0s 48ms/step - loss: 3.5213e-04 - accuracy: 1.0000 - val_loss: 0.2108 - val_accuracy: 0.9333\n",
      "Epoch 131/200\n",
      "1/1 [==============================] - 0s 50ms/step - loss: 3.4000e-04 - accuracy: 1.0000 - val_loss: 0.2119 - val_accuracy: 0.9333\n",
      "Epoch 132/200\n",
      "1/1 [==============================] - 0s 48ms/step - loss: 3.2892e-04 - accuracy: 1.0000 - val_loss: 0.2130 - val_accuracy: 0.9333\n",
      "Epoch 133/200\n",
      "1/1 [==============================] - 0s 49ms/step - loss: 3.1584e-04 - accuracy: 1.0000 - val_loss: 0.2139 - val_accuracy: 0.9333\n",
      "Epoch 134/200\n",
      "1/1 [==============================] - 0s 50ms/step - loss: 3.0159e-04 - accuracy: 1.0000 - val_loss: 0.2150 - val_accuracy: 0.9333\n",
      "Epoch 135/200\n",
      "1/1 [==============================] - 0s 51ms/step - loss: 2.8851e-04 - accuracy: 1.0000 - val_loss: 0.2163 - val_accuracy: 0.9333\n",
      "Epoch 136/200\n",
      "1/1 [==============================] - 0s 56ms/step - loss: 2.7768e-04 - accuracy: 1.0000 - val_loss: 0.2178 - val_accuracy: 0.9333\n",
      "Epoch 137/200\n",
      "1/1 [==============================] - 0s 51ms/step - loss: 2.6790e-04 - accuracy: 1.0000 - val_loss: 0.2194 - val_accuracy: 0.9333\n",
      "Epoch 138/200\n",
      "1/1 [==============================] - 0s 52ms/step - loss: 2.5791e-04 - accuracy: 1.0000 - val_loss: 0.2211 - val_accuracy: 0.9333\n",
      "Epoch 139/200\n",
      "1/1 [==============================] - 0s 53ms/step - loss: 2.4726e-04 - accuracy: 1.0000 - val_loss: 0.2227 - val_accuracy: 0.9333\n",
      "Epoch 140/200\n",
      "1/1 [==============================] - 0s 53ms/step - loss: 2.3709e-04 - accuracy: 1.0000 - val_loss: 0.2241 - val_accuracy: 0.9333\n",
      "Epoch 141/200\n",
      "1/1 [==============================] - 0s 53ms/step - loss: 2.2808e-04 - accuracy: 1.0000 - val_loss: 0.2254 - val_accuracy: 0.9333\n",
      "Epoch 142/200\n",
      "1/1 [==============================] - 0s 51ms/step - loss: 2.2006e-04 - accuracy: 1.0000 - val_loss: 0.2264 - val_accuracy: 0.9333\n",
      "Epoch 143/200\n",
      "1/1 [==============================] - 0s 53ms/step - loss: 2.1265e-04 - accuracy: 1.0000 - val_loss: 0.2271 - val_accuracy: 0.9333\n",
      "Epoch 144/200\n",
      "1/1 [==============================] - 0s 51ms/step - loss: 2.0523e-04 - accuracy: 1.0000 - val_loss: 0.2275 - val_accuracy: 0.9333\n",
      "Epoch 145/200\n",
      "1/1 [==============================] - 0s 52ms/step - loss: 1.9769e-04 - accuracy: 1.0000 - val_loss: 0.2277 - val_accuracy: 0.9333\n",
      "Epoch 146/200\n",
      "1/1 [==============================] - 0s 50ms/step - loss: 1.9033e-04 - accuracy: 1.0000 - val_loss: 0.2279 - val_accuracy: 0.9333\n",
      "Epoch 147/200\n",
      "1/1 [==============================] - 0s 47ms/step - loss: 1.8339e-04 - accuracy: 1.0000 - val_loss: 0.2282 - val_accuracy: 0.9333\n",
      "Epoch 148/200\n",
      "1/1 [==============================] - 0s 47ms/step - loss: 1.7692e-04 - accuracy: 1.0000 - val_loss: 0.2285 - val_accuracy: 0.9333\n",
      "Epoch 149/200\n",
      "1/1 [==============================] - 0s 49ms/step - loss: 1.7089e-04 - accuracy: 1.0000 - val_loss: 0.2289 - val_accuracy: 0.9333\n",
      "Epoch 150/200\n",
      "1/1 [==============================] - 0s 51ms/step - loss: 1.6514e-04 - accuracy: 1.0000 - val_loss: 0.2295 - val_accuracy: 0.9333\n",
      "Epoch 151/200\n",
      "1/1 [==============================] - 0s 55ms/step - loss: 1.5942e-04 - accuracy: 1.0000 - val_loss: 0.2303 - val_accuracy: 0.9333\n",
      "Epoch 152/200\n",
      "1/1 [==============================] - 0s 52ms/step - loss: 1.5375e-04 - accuracy: 1.0000 - val_loss: 0.2312 - val_accuracy: 0.9333\n",
      "Epoch 153/200\n",
      "1/1 [==============================] - 0s 53ms/step - loss: 1.4841e-04 - accuracy: 1.0000 - val_loss: 0.2323 - val_accuracy: 0.9333\n",
      "Epoch 154/200\n",
      "1/1 [==============================] - 0s 52ms/step - loss: 1.4338e-04 - accuracy: 1.0000 - val_loss: 0.2335 - val_accuracy: 0.9333\n",
      "Epoch 155/200\n",
      "1/1 [==============================] - 0s 51ms/step - loss: 1.3862e-04 - accuracy: 1.0000 - val_loss: 0.2347 - val_accuracy: 0.9333\n",
      "Epoch 156/200\n",
      "1/1 [==============================] - 0s 51ms/step - loss: 1.3397e-04 - accuracy: 1.0000 - val_loss: 0.2360 - val_accuracy: 0.9333\n",
      "Epoch 157/200\n",
      "1/1 [==============================] - 0s 51ms/step - loss: 1.2942e-04 - accuracy: 1.0000 - val_loss: 0.2373 - val_accuracy: 0.9333\n",
      "Epoch 158/200\n",
      "1/1 [==============================] - 0s 51ms/step - loss: 1.2497e-04 - accuracy: 1.0000 - val_loss: 0.2386 - val_accuracy: 0.9333\n",
      "Epoch 159/200\n",
      "1/1 [==============================] - 0s 50ms/step - loss: 1.2070e-04 - accuracy: 1.0000 - val_loss: 0.2399 - val_accuracy: 0.9333\n",
      "Epoch 160/200\n",
      "1/1 [==============================] - 0s 52ms/step - loss: 1.1688e-04 - accuracy: 1.0000 - val_loss: 0.2411 - val_accuracy: 0.9333\n",
      "Epoch 161/200\n",
      "1/1 [==============================] - 0s 51ms/step - loss: 1.1321e-04 - accuracy: 1.0000 - val_loss: 0.2424 - val_accuracy: 0.9333\n",
      "Epoch 162/200\n",
      "1/1 [==============================] - 0s 52ms/step - loss: 1.0965e-04 - accuracy: 1.0000 - val_loss: 0.2436 - val_accuracy: 0.9333\n",
      "Epoch 163/200\n",
      "1/1 [==============================] - 0s 51ms/step - loss: 1.0614e-04 - accuracy: 1.0000 - val_loss: 0.2447 - val_accuracy: 0.9333\n",
      "Epoch 164/200\n",
      "1/1 [==============================] - 0s 51ms/step - loss: 1.0282e-04 - accuracy: 1.0000 - val_loss: 0.2458 - val_accuracy: 0.9333\n",
      "Epoch 165/200\n",
      "1/1 [==============================] - 0s 51ms/step - loss: 9.9559e-05 - accuracy: 1.0000 - val_loss: 0.2468 - val_accuracy: 0.9333\n",
      "Epoch 166/200\n",
      "1/1 [==============================] - 0s 49ms/step - loss: 9.6409e-05 - accuracy: 1.0000 - val_loss: 0.2476 - val_accuracy: 0.9333\n",
      "Epoch 167/200\n",
      "1/1 [==============================] - 0s 52ms/step - loss: 9.3447e-05 - accuracy: 1.0000 - val_loss: 0.2485 - val_accuracy: 0.9333\n",
      "Epoch 168/200\n",
      "1/1 [==============================] - 0s 49ms/step - loss: 9.0601e-05 - accuracy: 1.0000 - val_loss: 0.2492 - val_accuracy: 0.9333\n",
      "Epoch 169/200\n",
      "1/1 [==============================] - 0s 50ms/step - loss: 8.7846e-05 - accuracy: 1.0000 - val_loss: 0.2499 - val_accuracy: 0.9333\n",
      "Epoch 170/200\n",
      "1/1 [==============================] - 0s 49ms/step - loss: 8.5201e-05 - accuracy: 1.0000 - val_loss: 0.2506 - val_accuracy: 0.9333\n",
      "Epoch 171/200\n",
      "1/1 [==============================] - 0s 49ms/step - loss: 8.2633e-05 - accuracy: 1.0000 - val_loss: 0.2514 - val_accuracy: 0.9333\n",
      "Epoch 172/200\n",
      "1/1 [==============================] - 0s 49ms/step - loss: 8.0151e-05 - accuracy: 1.0000 - val_loss: 0.2521 - val_accuracy: 0.9333\n",
      "Epoch 173/200\n",
      "1/1 [==============================] - 0s 48ms/step - loss: 7.7748e-05 - accuracy: 1.0000 - val_loss: 0.2528 - val_accuracy: 0.9333\n",
      "Epoch 174/200\n",
      "1/1 [==============================] - 0s 48ms/step - loss: 7.5434e-05 - accuracy: 1.0000 - val_loss: 0.2536 - val_accuracy: 0.9333\n",
      "Epoch 175/200\n",
      "1/1 [==============================] - 0s 48ms/step - loss: 7.3221e-05 - accuracy: 1.0000 - val_loss: 0.2544 - val_accuracy: 0.9333\n",
      "Epoch 176/200\n",
      "1/1 [==============================] - 0s 49ms/step - loss: 7.1117e-05 - accuracy: 1.0000 - val_loss: 0.2552 - val_accuracy: 0.9333\n",
      "Epoch 177/200\n",
      "1/1 [==============================] - 0s 49ms/step - loss: 6.9069e-05 - accuracy: 1.0000 - val_loss: 0.2561 - val_accuracy: 0.9333\n",
      "Epoch 178/200\n",
      "1/1 [==============================] - 0s 48ms/step - loss: 6.7098e-05 - accuracy: 1.0000 - val_loss: 0.2569 - val_accuracy: 0.9333\n",
      "Epoch 179/200\n",
      "1/1 [==============================] - 0s 48ms/step - loss: 6.5197e-05 - accuracy: 1.0000 - val_loss: 0.2577 - val_accuracy: 0.9333\n",
      "Epoch 180/200\n",
      "1/1 [==============================] - 0s 49ms/step - loss: 6.3364e-05 - accuracy: 1.0000 - val_loss: 0.2585 - val_accuracy: 0.9333\n",
      "Epoch 181/200\n",
      "1/1 [==============================] - 0s 49ms/step - loss: 6.1591e-05 - accuracy: 1.0000 - val_loss: 0.2593 - val_accuracy: 0.9333\n",
      "Epoch 182/200\n",
      "1/1 [==============================] - 0s 48ms/step - loss: 5.9887e-05 - accuracy: 1.0000 - val_loss: 0.2601 - val_accuracy: 0.9333\n",
      "Epoch 183/200\n",
      "1/1 [==============================] - 0s 48ms/step - loss: 5.8260e-05 - accuracy: 1.0000 - val_loss: 0.2609 - val_accuracy: 0.9333\n",
      "Epoch 184/200\n",
      "1/1 [==============================] - 0s 49ms/step - loss: 5.6687e-05 - accuracy: 1.0000 - val_loss: 0.2617 - val_accuracy: 0.9333\n",
      "Epoch 185/200\n",
      "1/1 [==============================] - 0s 48ms/step - loss: 5.5156e-05 - accuracy: 1.0000 - val_loss: 0.2625 - val_accuracy: 0.9333\n",
      "Epoch 186/200\n",
      "1/1 [==============================] - 0s 48ms/step - loss: 5.3702e-05 - accuracy: 1.0000 - val_loss: 0.2633 - val_accuracy: 0.9333\n",
      "Epoch 187/200\n",
      "1/1 [==============================] - 0s 50ms/step - loss: 5.2299e-05 - accuracy: 1.0000 - val_loss: 0.2640 - val_accuracy: 0.9333\n",
      "Epoch 188/200\n",
      "1/1 [==============================] - 0s 49ms/step - loss: 5.0955e-05 - accuracy: 1.0000 - val_loss: 0.2648 - val_accuracy: 0.9333\n",
      "Epoch 189/200\n",
      "1/1 [==============================] - 0s 50ms/step - loss: 4.9646e-05 - accuracy: 1.0000 - val_loss: 0.2655 - val_accuracy: 0.9333\n",
      "Epoch 190/200\n",
      "1/1 [==============================] - 0s 53ms/step - loss: 4.8374e-05 - accuracy: 1.0000 - val_loss: 0.2663 - val_accuracy: 0.9333\n",
      "Epoch 191/200\n",
      "1/1 [==============================] - 0s 52ms/step - loss: 4.7129e-05 - accuracy: 1.0000 - val_loss: 0.2670 - val_accuracy: 0.9333\n",
      "Epoch 192/200\n",
      "1/1 [==============================] - 0s 52ms/step - loss: 4.5906e-05 - accuracy: 1.0000 - val_loss: 0.2676 - val_accuracy: 0.9333\n",
      "Epoch 193/200\n",
      "1/1 [==============================] - 0s 52ms/step - loss: 4.4759e-05 - accuracy: 1.0000 - val_loss: 0.2684 - val_accuracy: 0.9333\n",
      "Epoch 194/200\n",
      "1/1 [==============================] - 0s 52ms/step - loss: 4.3649e-05 - accuracy: 1.0000 - val_loss: 0.2691 - val_accuracy: 0.9333\n",
      "Epoch 195/200\n",
      "1/1 [==============================] - 0s 47ms/step - loss: 4.2573e-05 - accuracy: 1.0000 - val_loss: 0.2698 - val_accuracy: 0.9333\n",
      "Epoch 196/200\n",
      "1/1 [==============================] - 0s 50ms/step - loss: 4.1528e-05 - accuracy: 1.0000 - val_loss: 0.2706 - val_accuracy: 0.9333\n",
      "Epoch 197/200\n",
      "1/1 [==============================] - 0s 48ms/step - loss: 4.0530e-05 - accuracy: 1.0000 - val_loss: 0.2713 - val_accuracy: 0.9333\n",
      "Epoch 198/200\n",
      "1/1 [==============================] - 0s 49ms/step - loss: 3.9572e-05 - accuracy: 1.0000 - val_loss: 0.2720 - val_accuracy: 0.9333\n",
      "Epoch 199/200\n",
      "1/1 [==============================] - 0s 52ms/step - loss: 3.8624e-05 - accuracy: 1.0000 - val_loss: 0.2727 - val_accuracy: 0.9333\n",
      "Epoch 200/200\n",
      "1/1 [==============================] - 0s 51ms/step - loss: 3.7710e-05 - accuracy: 1.0000 - val_loss: 0.2734 - val_accuracy: 0.9333\n"
     ]
    }
   ],
   "source": [
    "model_2 = Sequential([\n",
    "    Dense(1000, activation='relu', input_shape=(16,)),\n",
    "    Dense(1000, activation='relu'),\n",
    "    Dense(1000, activation='relu'),\n",
    "    Dense(1000, activation='relu'),\n",
    "    Dense(2, activation='softmax'),\n",
    "])\n",
    "model_2.compile(optimizer='adam',\n",
    "              loss='binary_crossentropy',\n",
    "              metrics=['accuracy'])\n",
    "hist_2 = model_2.fit(X_train, y_traindm,\n",
    "          batch_size=58, epochs=200,\n",
    "          validation_data=(X_val, y_valdm))"
   ]
  },
  {
   "cell_type": "markdown",
   "metadata": {},
   "source": [
    "## Visualize to see what overfitting looks like in terms of the loss and accuracy."
   ]
  },
  {
   "cell_type": "code",
   "execution_count": 128,
   "metadata": {
    "scrolled": false
   },
   "outputs": [
    {
     "data": {
      "image/png": "[encoded data removed]",
      "text/plain": [
       "<Figure size 460.8x316.8 with 1 Axes>"
      ]
     },
     "metadata": {
      "needs_background": "light"
     },
     "output_type": "display_data"
    }
   ],
   "source": [
    "plt.plot(hist_2.history['loss'])\n",
    "plt.plot(hist_2.history['val_loss'])\n",
    "plt.title('Model loss')\n",
    "plt.ylabel('Loss')\n",
    "plt.xlabel('Epoch')\n",
    "plt.legend(['Train', 'Val'], loc='upper right')\n",
    "plt.show()"
   ]
  },
  {
   "cell_type": "markdown",
   "metadata": {},
   "source": [
    "### **Overfitting is represented by an increase in loss in the validation set after the 25th epoch, but decreases afterwards**"
   ]
  },
  {
   "cell_type": "code",
   "execution_count": 129,
   "metadata": {
    "scrolled": false
   },
   "outputs": [
    {
     "data": {
      "image/png": "[encoded data removed]",
      "text/plain": [
       "<Figure size 460.8x316.8 with 1 Axes>"
      ]
     },
     "metadata": {
      "needs_background": "light"
     },
     "output_type": "display_data"
    }
   ],
   "source": [
    "plt.plot(hist_2.history['accuracy'])\n",
    "plt.plot(hist_2.history['val_accuracy'])\n",
    "plt.title('Model accuracy')\n",
    "plt.ylabel('Accuracy')\n",
    "plt.xlabel('Epoch')\n",
    "plt.legend(['Train', 'Val'], loc='lower right')\n",
    "plt.show()"
   ]
  },
  {
   "cell_type": "markdown",
   "metadata": {},
   "source": [
    "**Test Accuracy**"
   ]
  },
  {
   "cell_type": "code",
   "execution_count": 130,
   "metadata": {
    "scrolled": false
   },
   "outputs": [
    {
     "name": "stdout",
     "output_type": "stream",
     "text": [
      "1/1 [==============================] - 0s 14ms/step - loss: 1.5324 - accuracy: 0.8621\n"
     ]
    },
    {
     "data": {
      "text/plain": [
       "0.8620689511299133"
      ]
     },
     "execution_count": 130,
     "metadata": {},
     "output_type": "execute_result"
    }
   ],
   "source": [
    "model_2.evaluate(X_test, y_testdm)[1]"
   ]
  },
  {
   "cell_type": "markdown",
   "metadata": {},
   "source": [
    "## Incorporate Regularization and Dropout into the Third Model"
   ]
  },
  {
   "cell_type": "markdown",
   "metadata": {},
   "source": [
    "**To address the overfitting we see in Model 2, we'll incorporate L2 regularization and dropout in our third model here (Model 3). Input shape is how many variables (16) and Dense is number of y values (2).**"
   ]
  },
  {
   "cell_type": "code",
   "execution_count": 60,
   "metadata": {
    "scrolled": false
   },
   "outputs": [],
   "source": [
    "from tensorflow.keras.layers import Dropout\n",
    "from tensorflow.keras import regularizers"
   ]
  },
  {
   "cell_type": "code",
   "execution_count": 194,
   "metadata": {
    "scrolled": false
   },
   "outputs": [],
   "source": [
    "VIANN = VarImpVIANN(verbose=1)\n",
    "model_3 = Sequential([\n",
    "    Dense(1000, activation='relu', kernel_regularizer=regularizers.l2(0.01), input_shape=(16,)),\n",
    "    Dropout(0.1),\n",
    "    Dense(750, activation='relu', kernel_regularizer=regularizers.l2(0.01)),\n",
    "    Dropout(0.1),\n",
    "    Dense(500, activation='relu', kernel_regularizer=regularizers.l2(0.01)),\n",
    "    Dropout(0.1),\n",
    "    Dense(250, activation='relu', kernel_regularizer=regularizers.l2(0.01)),\n",
    "    Dropout(0.1),\n",
    "    Dense(2, activation='sigmoid', kernel_regularizer=regularizers.l2(0.01)),\n",
    "])"
   ]
  },
  {
   "cell_type": "code",
   "execution_count": 195,
   "metadata": {
    "scrolled": true
   },
   "outputs": [
    {
     "name": "stdout",
     "output_type": "stream",
     "text": [
      "VIANN version 1.0 (Wellford + Mean) update per epoch\n",
      "Epoch 1/200\n",
      "1/1 [==============================] - 1s 776ms/step - loss: 18.9644 - accuracy: 0.5172 - val_loss: 18.5509 - val_accuracy: 0.5000\n",
      "Epoch 2/200\n",
      "1/1 [==============================] - 0s 58ms/step - loss: 18.5475 - accuracy: 0.5172 - val_loss: 17.6203 - val_accuracy: 0.5333\n",
      "Epoch 3/200\n",
      "1/1 [==============================] - 0s 43ms/step - loss: 17.6624 - accuracy: 0.5345 - val_loss: 17.0188 - val_accuracy: 0.5667\n",
      "Epoch 4/200\n",
      "1/1 [==============================] - 0s 45ms/step - loss: 17.0557 - accuracy: 0.5172 - val_loss: 16.3342 - val_accuracy: 0.8333\n",
      "Epoch 5/200\n",
      "1/1 [==============================] - 0s 46ms/step - loss: 16.3921 - accuracy: 0.7414 - val_loss: 15.7698 - val_accuracy: 0.7000\n",
      "Epoch 6/200\n",
      "1/1 [==============================] - 0s 44ms/step - loss: 15.8029 - accuracy: 0.6379 - val_loss: 15.1534 - val_accuracy: 0.7667\n",
      "Epoch 7/200\n",
      "1/1 [==============================] - 0s 45ms/step - loss: 15.1859 - accuracy: 0.7069 - val_loss: 14.5179 - val_accuracy: 0.8333\n",
      "Epoch 8/200\n",
      "1/1 [==============================] - 0s 43ms/step - loss: 14.6081 - accuracy: 0.7759 - val_loss: 13.9406 - val_accuracy: 0.9000\n",
      "Epoch 9/200\n",
      "1/1 [==============================] - 0s 43ms/step - loss: 14.0326 - accuracy: 0.7931 - val_loss: 13.3838 - val_accuracy: 0.9000\n",
      "Epoch 10/200\n",
      "1/1 [==============================] - 0s 43ms/step - loss: 13.4994 - accuracy: 0.7759 - val_loss: 12.8778 - val_accuracy: 0.8333\n",
      "Epoch 11/200\n",
      "1/1 [==============================] - 0s 44ms/step - loss: 12.9993 - accuracy: 0.7759 - val_loss: 12.3376 - val_accuracy: 0.8667\n",
      "Epoch 12/200\n",
      "1/1 [==============================] - 0s 44ms/step - loss: 12.4833 - accuracy: 0.7069 - val_loss: 11.8348 - val_accuracy: 0.8667\n",
      "Epoch 13/200\n",
      "1/1 [==============================] - 0s 44ms/step - loss: 11.9883 - accuracy: 0.8103 - val_loss: 11.3669 - val_accuracy: 0.8667\n",
      "Epoch 14/200\n",
      "1/1 [==============================] - 0s 42ms/step - loss: 11.5660 - accuracy: 0.8103 - val_loss: 10.9433 - val_accuracy: 0.8667\n",
      "Epoch 15/200\n",
      "1/1 [==============================] - 0s 44ms/step - loss: 11.1232 - accuracy: 0.7759 - val_loss: 10.5259 - val_accuracy: 0.8667\n",
      "Epoch 16/200\n",
      "1/1 [==============================] - 0s 43ms/step - loss: 10.6716 - accuracy: 0.7241 - val_loss: 10.0664 - val_accuracy: 0.9000\n",
      "Epoch 17/200\n",
      "1/1 [==============================] - 0s 42ms/step - loss: 10.2378 - accuracy: 0.7759 - val_loss: 9.6728 - val_accuracy: 0.9000\n",
      "Epoch 18/200\n",
      "1/1 [==============================] - 0s 42ms/step - loss: 9.8198 - accuracy: 0.8103 - val_loss: 9.2874 - val_accuracy: 0.9000\n",
      "Epoch 19/200\n",
      "1/1 [==============================] - 0s 43ms/step - loss: 9.4458 - accuracy: 0.8276 - val_loss: 8.9524 - val_accuracy: 0.8667\n",
      "Epoch 20/200\n",
      "1/1 [==============================] - 0s 43ms/step - loss: 9.0777 - accuracy: 0.7759 - val_loss: 8.6149 - val_accuracy: 0.8667\n",
      "Epoch 21/200\n",
      "1/1 [==============================] - 0s 42ms/step - loss: 8.7258 - accuracy: 0.7586 - val_loss: 8.2359 - val_accuracy: 0.8667\n",
      "Epoch 22/200\n",
      "1/1 [==============================] - 0s 48ms/step - loss: 8.3691 - accuracy: 0.7931 - val_loss: 7.9040 - val_accuracy: 0.9000\n",
      "Epoch 23/200\n",
      "1/1 [==============================] - 0s 46ms/step - loss: 8.0216 - accuracy: 0.8276 - val_loss: 7.5920 - val_accuracy: 0.9000\n",
      "Epoch 24/200\n",
      "1/1 [==============================] - 0s 44ms/step - loss: 7.7140 - accuracy: 0.8103 - val_loss: 7.2808 - val_accuracy: 0.9000\n",
      "Epoch 25/200\n",
      "1/1 [==============================] - 0s 42ms/step - loss: 7.4085 - accuracy: 0.8276 - val_loss: 6.9988 - val_accuracy: 0.8667\n",
      "Epoch 26/200\n",
      "1/1 [==============================] - 0s 45ms/step - loss: 7.0872 - accuracy: 0.7931 - val_loss: 6.7223 - val_accuracy: 0.8667\n",
      "Epoch 27/200\n",
      "1/1 [==============================] - 0s 42ms/step - loss: 6.8103 - accuracy: 0.8103 - val_loss: 6.4345 - val_accuracy: 0.9000\n",
      "Epoch 28/200\n",
      "1/1 [==============================] - 0s 44ms/step - loss: 6.5453 - accuracy: 0.7586 - val_loss: 6.1628 - val_accuracy: 0.9333\n",
      "Epoch 29/200\n",
      "1/1 [==============================] - 0s 43ms/step - loss: 6.2750 - accuracy: 0.7931 - val_loss: 5.9096 - val_accuracy: 0.9000\n",
      "Epoch 30/200\n",
      "1/1 [==============================] - 0s 42ms/step - loss: 6.0532 - accuracy: 0.7931 - val_loss: 5.6738 - val_accuracy: 0.9333\n",
      "Epoch 31/200\n",
      "1/1 [==============================] - 0s 43ms/step - loss: 5.7939 - accuracy: 0.8103 - val_loss: 5.4508 - val_accuracy: 0.9000\n",
      "Epoch 32/200\n",
      "1/1 [==============================] - 0s 43ms/step - loss: 5.5879 - accuracy: 0.7759 - val_loss: 5.2190 - val_accuracy: 0.9667\n",
      "Epoch 33/200\n",
      "1/1 [==============================] - 0s 43ms/step - loss: 5.3642 - accuracy: 0.7759 - val_loss: 5.0069 - val_accuracy: 0.9000\n",
      "Epoch 34/200\n",
      "1/1 [==============================] - 0s 42ms/step - loss: 5.1330 - accuracy: 0.8103 - val_loss: 4.8101 - val_accuracy: 0.9667\n",
      "Epoch 35/200\n",
      "1/1 [==============================] - 0s 43ms/step - loss: 4.9341 - accuracy: 0.8276 - val_loss: 4.6335 - val_accuracy: 0.9333\n",
      "Epoch 36/200\n",
      "1/1 [==============================] - 0s 43ms/step - loss: 4.7449 - accuracy: 0.8448 - val_loss: 4.4426 - val_accuracy: 0.9333\n",
      "Epoch 37/200\n",
      "1/1 [==============================] - 0s 45ms/step - loss: 4.5988 - accuracy: 0.8103 - val_loss: 4.2667 - val_accuracy: 0.9000\n",
      "Epoch 38/200\n",
      "1/1 [==============================] - 0s 43ms/step - loss: 4.3977 - accuracy: 0.8276 - val_loss: 4.0976 - val_accuracy: 0.9667\n",
      "Epoch 39/200\n",
      "1/1 [==============================] - 0s 43ms/step - loss: 4.2440 - accuracy: 0.8276 - val_loss: 3.9684 - val_accuracy: 0.9333\n",
      "Epoch 40/200\n",
      "1/1 [==============================] - 0s 42ms/step - loss: 4.0903 - accuracy: 0.8276 - val_loss: 3.8002 - val_accuracy: 0.9667\n",
      "Epoch 41/200\n",
      "1/1 [==============================] - 0s 42ms/step - loss: 3.8934 - accuracy: 0.8793 - val_loss: 3.6531 - val_accuracy: 0.9333\n",
      "Epoch 42/200\n",
      "1/1 [==============================] - 0s 44ms/step - loss: 3.7948 - accuracy: 0.8276 - val_loss: 3.5213 - val_accuracy: 0.9667\n",
      "Epoch 43/200\n",
      "1/1 [==============================] - 0s 43ms/step - loss: 3.6191 - accuracy: 0.8276 - val_loss: 3.4028 - val_accuracy: 0.9667\n",
      "Epoch 44/200\n",
      "1/1 [==============================] - 0s 43ms/step - loss: 3.5011 - accuracy: 0.8276 - val_loss: 3.2800 - val_accuracy: 0.9667\n",
      "Epoch 45/200\n",
      "1/1 [==============================] - 0s 45ms/step - loss: 3.3941 - accuracy: 0.8448 - val_loss: 3.1451 - val_accuracy: 0.9667\n",
      "Epoch 46/200\n",
      "1/1 [==============================] - 0s 42ms/step - loss: 3.2436 - accuracy: 0.8448 - val_loss: 3.0310 - val_accuracy: 0.9667\n",
      "Epoch 47/200\n",
      "1/1 [==============================] - 0s 42ms/step - loss: 3.1464 - accuracy: 0.8448 - val_loss: 2.9346 - val_accuracy: 0.9667\n",
      "Epoch 48/200\n",
      "1/1 [==============================] - 0s 44ms/step - loss: 3.0530 - accuracy: 0.8448 - val_loss: 2.8190 - val_accuracy: 0.9667\n",
      "Epoch 49/200\n",
      "1/1 [==============================] - 0s 45ms/step - loss: 2.9177 - accuracy: 0.8448 - val_loss: 2.7206 - val_accuracy: 0.9333\n",
      "Epoch 50/200\n",
      "1/1 [==============================] - 0s 43ms/step - loss: 2.8065 - accuracy: 0.8966 - val_loss: 2.6507 - val_accuracy: 0.9667\n",
      "Epoch 51/200\n",
      "1/1 [==============================] - 0s 44ms/step - loss: 2.7373 - accuracy: 0.8621 - val_loss: 2.5366 - val_accuracy: 0.9667\n",
      "Epoch 52/200\n",
      "1/1 [==============================] - 0s 43ms/step - loss: 2.6100 - accuracy: 0.8793 - val_loss: 2.4521 - val_accuracy: 0.9333\n",
      "Epoch 53/200\n",
      "1/1 [==============================] - 0s 44ms/step - loss: 2.5446 - accuracy: 0.8793 - val_loss: 2.3835 - val_accuracy: 0.9667\n",
      "Epoch 54/200\n",
      "1/1 [==============================] - 0s 43ms/step - loss: 2.4877 - accuracy: 0.8621 - val_loss: 2.2897 - val_accuracy: 0.9667\n",
      "Epoch 55/200\n",
      "1/1 [==============================] - 0s 42ms/step - loss: 2.3771 - accuracy: 0.8793 - val_loss: 2.2170 - val_accuracy: 0.9667\n",
      "Epoch 56/200\n",
      "1/1 [==============================] - 0s 44ms/step - loss: 2.3334 - accuracy: 0.8793 - val_loss: 2.1732 - val_accuracy: 0.9667\n",
      "Epoch 57/200\n",
      "1/1 [==============================] - 0s 43ms/step - loss: 2.2601 - accuracy: 0.8621 - val_loss: 2.0852 - val_accuracy: 0.9333\n",
      "Epoch 58/200\n",
      "1/1 [==============================] - 0s 42ms/step - loss: 2.1395 - accuracy: 0.8793 - val_loss: 2.0178 - val_accuracy: 0.9667\n",
      "Epoch 59/200\n",
      "1/1 [==============================] - 0s 43ms/step - loss: 2.0951 - accuracy: 0.8793 - val_loss: 1.9658 - val_accuracy: 0.9667\n",
      "Epoch 60/200\n",
      "1/1 [==============================] - 0s 44ms/step - loss: 2.0493 - accuracy: 0.8621 - val_loss: 1.9094 - val_accuracy: 0.9333\n",
      "Epoch 61/200\n",
      "1/1 [==============================] - 0s 43ms/step - loss: 2.0102 - accuracy: 0.8621 - val_loss: 1.8398 - val_accuracy: 0.9333\n",
      "Epoch 62/200\n",
      "1/1 [==============================] - 0s 42ms/step - loss: 1.9086 - accuracy: 0.8966 - val_loss: 1.8427 - val_accuracy: 0.9000\n",
      "Epoch 63/200\n",
      "1/1 [==============================] - 0s 44ms/step - loss: 1.9154 - accuracy: 0.8793 - val_loss: 1.7420 - val_accuracy: 0.9667\n",
      "Epoch 64/200\n",
      "1/1 [==============================] - 0s 43ms/step - loss: 1.7776 - accuracy: 0.9138 - val_loss: 1.7075 - val_accuracy: 0.9333\n",
      "Epoch 65/200\n",
      "1/1 [==============================] - 0s 42ms/step - loss: 1.8004 - accuracy: 0.8966 - val_loss: 1.7373 - val_accuracy: 0.9000\n",
      "Epoch 66/200\n",
      "1/1 [==============================] - 0s 42ms/step - loss: 1.7855 - accuracy: 0.8448 - val_loss: 1.6844 - val_accuracy: 0.8333\n",
      "Epoch 67/200\n",
      "1/1 [==============================] - 0s 43ms/step - loss: 1.7954 - accuracy: 0.8276 - val_loss: 1.5767 - val_accuracy: 0.9333\n",
      "Epoch 68/200\n",
      "1/1 [==============================] - 0s 42ms/step - loss: 1.6627 - accuracy: 0.8793 - val_loss: 1.6041 - val_accuracy: 0.9000\n",
      "Epoch 69/200\n",
      "1/1 [==============================] - 0s 41ms/step - loss: 1.6504 - accuracy: 0.8621 - val_loss: 1.4868 - val_accuracy: 0.9667\n",
      "Epoch 70/200\n",
      "1/1 [==============================] - 0s 44ms/step - loss: 1.5533 - accuracy: 0.9138 - val_loss: 1.4528 - val_accuracy: 0.9667\n",
      "Epoch 71/200\n",
      "1/1 [==============================] - 0s 42ms/step - loss: 1.5071 - accuracy: 0.8793 - val_loss: 1.4080 - val_accuracy: 0.9667\n",
      "Epoch 72/200\n",
      "1/1 [==============================] - 0s 41ms/step - loss: 1.5370 - accuracy: 0.8793 - val_loss: 1.4109 - val_accuracy: 0.9333\n",
      "Epoch 73/200\n",
      "1/1 [==============================] - 0s 42ms/step - loss: 1.4614 - accuracy: 0.9310 - val_loss: 1.3445 - val_accuracy: 0.9333\n",
      "Epoch 74/200\n",
      "1/1 [==============================] - 0s 42ms/step - loss: 1.4357 - accuracy: 0.8966 - val_loss: 1.3344 - val_accuracy: 0.9667\n",
      "Epoch 75/200\n",
      "1/1 [==============================] - 0s 42ms/step - loss: 1.4284 - accuracy: 0.8793 - val_loss: 1.3029 - val_accuracy: 0.9667\n",
      "Epoch 76/200\n",
      "1/1 [==============================] - 0s 43ms/step - loss: 1.3825 - accuracy: 0.8793 - val_loss: 1.2760 - val_accuracy: 0.9333\n",
      "Epoch 77/200\n",
      "1/1 [==============================] - 0s 43ms/step - loss: 1.3591 - accuracy: 0.8793 - val_loss: 1.2321 - val_accuracy: 0.9333\n",
      "Epoch 78/200\n",
      "1/1 [==============================] - 0s 46ms/step - loss: 1.2988 - accuracy: 0.9138 - val_loss: 1.2051 - val_accuracy: 0.9667\n",
      "Epoch 79/200\n",
      "1/1 [==============================] - 0s 43ms/step - loss: 1.2974 - accuracy: 0.8621 - val_loss: 1.1793 - val_accuracy: 0.9667\n",
      "Epoch 80/200\n",
      "1/1 [==============================] - 0s 44ms/step - loss: 1.2597 - accuracy: 0.9310 - val_loss: 1.1537 - val_accuracy: 0.9667\n",
      "Epoch 81/200\n",
      "1/1 [==============================] - 0s 43ms/step - loss: 1.2076 - accuracy: 0.9483 - val_loss: 1.1501 - val_accuracy: 0.9333\n",
      "Epoch 82/200\n",
      "1/1 [==============================] - 0s 44ms/step - loss: 1.2368 - accuracy: 0.8621 - val_loss: 1.1150 - val_accuracy: 0.9667\n",
      "Epoch 83/200\n",
      "1/1 [==============================] - 0s 44ms/step - loss: 1.2321 - accuracy: 0.8621 - val_loss: 1.1038 - val_accuracy: 0.9667\n",
      "Epoch 84/200\n",
      "1/1 [==============================] - 0s 46ms/step - loss: 1.1783 - accuracy: 0.9138 - val_loss: 1.0794 - val_accuracy: 0.9333\n",
      "Epoch 85/200\n",
      "1/1 [==============================] - 0s 43ms/step - loss: 1.1517 - accuracy: 0.8966 - val_loss: 1.0624 - val_accuracy: 0.9333\n",
      "Epoch 86/200\n",
      "1/1 [==============================] - 0s 46ms/step - loss: 1.1048 - accuracy: 0.9483 - val_loss: 1.0523 - val_accuracy: 0.9667\n",
      "Epoch 87/200\n",
      "1/1 [==============================] - 0s 46ms/step - loss: 1.1292 - accuracy: 0.8793 - val_loss: 1.0184 - val_accuracy: 0.9667\n",
      "Epoch 88/200\n",
      "1/1 [==============================] - 0s 44ms/step - loss: 1.0809 - accuracy: 0.9138 - val_loss: 1.1009 - val_accuracy: 0.9000\n",
      "Epoch 89/200\n",
      "1/1 [==============================] - 0s 44ms/step - loss: 1.1551 - accuracy: 0.8621 - val_loss: 0.9933 - val_accuracy: 0.9667\n",
      "Epoch 90/200\n",
      "1/1 [==============================] - 0s 44ms/step - loss: 1.1000 - accuracy: 0.8966 - val_loss: 1.0011 - val_accuracy: 0.9000\n",
      "Epoch 91/200\n",
      "1/1 [==============================] - 0s 43ms/step - loss: 1.0345 - accuracy: 0.9138 - val_loss: 0.9542 - val_accuracy: 0.9667\n",
      "Epoch 92/200\n",
      "1/1 [==============================] - 0s 46ms/step - loss: 1.0275 - accuracy: 0.8793 - val_loss: 0.9936 - val_accuracy: 0.9333\n",
      "Epoch 93/200\n",
      "1/1 [==============================] - 0s 42ms/step - loss: 1.0462 - accuracy: 0.8621 - val_loss: 0.9299 - val_accuracy: 0.9667\n",
      "Epoch 94/200\n",
      "1/1 [==============================] - 0s 45ms/step - loss: 0.9771 - accuracy: 0.9138 - val_loss: 0.9924 - val_accuracy: 0.9000\n",
      "Epoch 95/200\n",
      "1/1 [==============================] - 0s 43ms/step - loss: 1.0537 - accuracy: 0.8793 - val_loss: 0.8967 - val_accuracy: 0.9667\n",
      "Epoch 96/200\n",
      "1/1 [==============================] - 0s 43ms/step - loss: 0.9642 - accuracy: 0.9138 - val_loss: 0.9567 - val_accuracy: 0.9333\n",
      "Epoch 97/200\n",
      "1/1 [==============================] - 0s 43ms/step - loss: 1.0152 - accuracy: 0.8448 - val_loss: 0.8751 - val_accuracy: 0.9667\n",
      "Epoch 98/200\n",
      "1/1 [==============================] - 0s 42ms/step - loss: 0.9334 - accuracy: 0.9138 - val_loss: 0.9385 - val_accuracy: 0.9000\n",
      "Epoch 99/200\n",
      "1/1 [==============================] - 0s 42ms/step - loss: 0.9692 - accuracy: 0.9138 - val_loss: 0.8690 - val_accuracy: 0.9667\n",
      "Epoch 100/200\n",
      "1/1 [==============================] - 0s 42ms/step - loss: 0.9392 - accuracy: 0.8966 - val_loss: 0.8849 - val_accuracy: 0.9333\n",
      "Epoch 101/200\n",
      "1/1 [==============================] - 0s 43ms/step - loss: 0.9290 - accuracy: 0.8793 - val_loss: 0.8407 - val_accuracy: 0.9667\n",
      "Epoch 102/200\n",
      "1/1 [==============================] - 0s 43ms/step - loss: 0.8638 - accuracy: 0.9483 - val_loss: 0.8435 - val_accuracy: 0.9667\n",
      "Epoch 103/200\n",
      "1/1 [==============================] - 0s 42ms/step - loss: 0.8939 - accuracy: 0.9138 - val_loss: 0.8321 - val_accuracy: 0.9667\n",
      "Epoch 104/200\n",
      "1/1 [==============================] - 0s 42ms/step - loss: 0.8800 - accuracy: 0.8793 - val_loss: 0.8179 - val_accuracy: 0.9333\n",
      "Epoch 105/200\n",
      "1/1 [==============================] - 0s 41ms/step - loss: 0.8667 - accuracy: 0.9138 - val_loss: 0.8040 - val_accuracy: 0.9333\n",
      "Epoch 106/200\n",
      "1/1 [==============================] - 0s 42ms/step - loss: 0.8270 - accuracy: 0.9483 - val_loss: 0.7777 - val_accuracy: 0.9667\n",
      "Epoch 107/200\n",
      "1/1 [==============================] - 0s 42ms/step - loss: 0.8095 - accuracy: 0.9310 - val_loss: 0.7743 - val_accuracy: 0.9667\n",
      "Epoch 108/200\n",
      "1/1 [==============================] - 0s 43ms/step - loss: 0.8527 - accuracy: 0.8966 - val_loss: 0.7569 - val_accuracy: 0.9667\n",
      "Epoch 109/200\n",
      "1/1 [==============================] - 0s 42ms/step - loss: 0.7982 - accuracy: 0.9310 - val_loss: 0.7514 - val_accuracy: 0.9333\n",
      "Epoch 110/200\n",
      "1/1 [==============================] - 0s 44ms/step - loss: 0.8224 - accuracy: 0.8966 - val_loss: 0.7408 - val_accuracy: 0.9667\n",
      "Epoch 111/200\n",
      "1/1 [==============================] - 0s 44ms/step - loss: 0.7989 - accuracy: 0.9655 - val_loss: 0.7440 - val_accuracy: 0.9667\n",
      "Epoch 112/200\n",
      "1/1 [==============================] - 0s 42ms/step - loss: 0.7868 - accuracy: 0.9310 - val_loss: 0.7220 - val_accuracy: 0.9667\n",
      "Epoch 113/200\n",
      "1/1 [==============================] - 0s 42ms/step - loss: 0.7544 - accuracy: 0.9655 - val_loss: 0.7137 - val_accuracy: 0.9667\n",
      "Epoch 114/200\n",
      "1/1 [==============================] - 0s 43ms/step - loss: 0.7537 - accuracy: 0.9310 - val_loss: 0.7141 - val_accuracy: 0.9667\n",
      "Epoch 115/200\n",
      "1/1 [==============================] - 0s 42ms/step - loss: 0.7293 - accuracy: 0.9483 - val_loss: 0.7068 - val_accuracy: 0.9667\n",
      "Epoch 116/200\n"
     ]
    },
    {
     "name": "stdout",
     "output_type": "stream",
     "text": [
      "1/1 [==============================] - 0s 41ms/step - loss: 0.7572 - accuracy: 0.8966 - val_loss: 0.7028 - val_accuracy: 0.9667\n",
      "Epoch 117/200\n",
      "1/1 [==============================] - 0s 42ms/step - loss: 0.7614 - accuracy: 0.9138 - val_loss: 0.6809 - val_accuracy: 0.9667\n",
      "Epoch 118/200\n",
      "1/1 [==============================] - 0s 42ms/step - loss: 0.7325 - accuracy: 0.9310 - val_loss: 0.7321 - val_accuracy: 0.9333\n",
      "Epoch 119/200\n",
      "1/1 [==============================] - 0s 42ms/step - loss: 0.7398 - accuracy: 0.9138 - val_loss: 0.6663 - val_accuracy: 0.9667\n",
      "Epoch 120/200\n",
      "1/1 [==============================] - 0s 44ms/step - loss: 0.7036 - accuracy: 0.9655 - val_loss: 0.6822 - val_accuracy: 0.9667\n",
      "Epoch 121/200\n",
      "1/1 [==============================] - 0s 41ms/step - loss: 0.7212 - accuracy: 0.9310 - val_loss: 0.6533 - val_accuracy: 0.9667\n",
      "Epoch 122/200\n",
      "1/1 [==============================] - 0s 42ms/step - loss: 0.6913 - accuracy: 0.9483 - val_loss: 0.6633 - val_accuracy: 0.9333\n",
      "Epoch 123/200\n",
      "1/1 [==============================] - 0s 44ms/step - loss: 0.7133 - accuracy: 0.9310 - val_loss: 0.6415 - val_accuracy: 0.9667\n",
      "Epoch 124/200\n",
      "1/1 [==============================] - 0s 43ms/step - loss: 0.6776 - accuracy: 0.9483 - val_loss: 0.6361 - val_accuracy: 0.9667\n",
      "Epoch 125/200\n",
      "1/1 [==============================] - 0s 43ms/step - loss: 0.6818 - accuracy: 0.9310 - val_loss: 0.6330 - val_accuracy: 0.9667\n",
      "Epoch 126/200\n",
      "1/1 [==============================] - 0s 43ms/step - loss: 0.6509 - accuracy: 0.9828 - val_loss: 0.6343 - val_accuracy: 0.9667\n",
      "Epoch 127/200\n",
      "1/1 [==============================] - 0s 43ms/step - loss: 0.6614 - accuracy: 0.9310 - val_loss: 0.6373 - val_accuracy: 1.0000\n",
      "Epoch 128/200\n",
      "1/1 [==============================] - 0s 42ms/step - loss: 0.6554 - accuracy: 0.9483 - val_loss: 0.6249 - val_accuracy: 0.9667\n",
      "Epoch 129/200\n",
      "1/1 [==============================] - 0s 43ms/step - loss: 0.6606 - accuracy: 0.9483 - val_loss: 0.6203 - val_accuracy: 0.9667\n",
      "Epoch 130/200\n",
      "1/1 [==============================] - 0s 43ms/step - loss: 0.6438 - accuracy: 0.9483 - val_loss: 0.6189 - val_accuracy: 0.9667\n",
      "Epoch 131/200\n",
      "1/1 [==============================] - 0s 43ms/step - loss: 0.6432 - accuracy: 0.9828 - val_loss: 0.6096 - val_accuracy: 0.9667\n",
      "Epoch 132/200\n",
      "1/1 [==============================] - 0s 43ms/step - loss: 0.6374 - accuracy: 0.9310 - val_loss: 0.6005 - val_accuracy: 0.9667\n",
      "Epoch 133/200\n",
      "1/1 [==============================] - 0s 45ms/step - loss: 0.6222 - accuracy: 0.9483 - val_loss: 0.6032 - val_accuracy: 1.0000\n",
      "Epoch 134/200\n",
      "1/1 [==============================] - 0s 43ms/step - loss: 0.6003 - accuracy: 0.9828 - val_loss: 0.5886 - val_accuracy: 0.9667\n",
      "Epoch 135/200\n",
      "1/1 [==============================] - 0s 42ms/step - loss: 0.6090 - accuracy: 0.9483 - val_loss: 0.5883 - val_accuracy: 0.9667\n",
      "Epoch 136/200\n",
      "1/1 [==============================] - 0s 42ms/step - loss: 0.6149 - accuracy: 0.9310 - val_loss: 0.5955 - val_accuracy: 1.0000\n",
      "Epoch 137/200\n",
      "1/1 [==============================] - 0s 43ms/step - loss: 0.6320 - accuracy: 0.9310 - val_loss: 0.5711 - val_accuracy: 0.9667\n",
      "Epoch 138/200\n",
      "1/1 [==============================] - 0s 45ms/step - loss: 0.6489 - accuracy: 0.9138 - val_loss: 0.7425 - val_accuracy: 0.8667\n",
      "Epoch 139/200\n",
      "1/1 [==============================] - 0s 42ms/step - loss: 0.7674 - accuracy: 0.8621 - val_loss: 0.5810 - val_accuracy: 0.9667\n",
      "Epoch 140/200\n",
      "1/1 [==============================] - 0s 43ms/step - loss: 0.5991 - accuracy: 0.9483 - val_loss: 0.7035 - val_accuracy: 0.9000\n",
      "Epoch 141/200\n",
      "1/1 [==============================] - 0s 44ms/step - loss: 0.7236 - accuracy: 0.8448 - val_loss: 0.7198 - val_accuracy: 0.8667\n",
      "Epoch 142/200\n",
      "1/1 [==============================] - 0s 42ms/step - loss: 0.7345 - accuracy: 0.8621 - val_loss: 0.6560 - val_accuracy: 0.8667\n",
      "Epoch 143/200\n",
      "1/1 [==============================] - 0s 42ms/step - loss: 0.6568 - accuracy: 0.8793 - val_loss: 0.6261 - val_accuracy: 0.9333\n",
      "Epoch 144/200\n",
      "1/1 [==============================] - 0s 43ms/step - loss: 0.6218 - accuracy: 0.9138 - val_loss: 0.6217 - val_accuracy: 0.9333\n",
      "Epoch 145/200\n",
      "1/1 [==============================] - 0s 42ms/step - loss: 0.6110 - accuracy: 0.9483 - val_loss: 0.5717 - val_accuracy: 0.9667\n",
      "Epoch 146/200\n",
      "1/1 [==============================] - 0s 42ms/step - loss: 0.6072 - accuracy: 0.9138 - val_loss: 0.6017 - val_accuracy: 0.9333\n",
      "Epoch 147/200\n",
      "1/1 [==============================] - 0s 43ms/step - loss: 0.6373 - accuracy: 0.8966 - val_loss: 0.5486 - val_accuracy: 0.9667\n",
      "Epoch 148/200\n",
      "1/1 [==============================] - 0s 42ms/step - loss: 0.5792 - accuracy: 0.9655 - val_loss: 0.6181 - val_accuracy: 0.9333\n",
      "Epoch 149/200\n",
      "1/1 [==============================] - 0s 41ms/step - loss: 0.6224 - accuracy: 0.9310 - val_loss: 0.5469 - val_accuracy: 0.9667\n",
      "Epoch 150/200\n",
      "1/1 [==============================] - 0s 45ms/step - loss: 0.5576 - accuracy: 0.9655 - val_loss: 0.6028 - val_accuracy: 0.9000\n",
      "Epoch 151/200\n",
      "1/1 [==============================] - 0s 42ms/step - loss: 0.6254 - accuracy: 0.8966 - val_loss: 0.5836 - val_accuracy: 0.9333\n",
      "Epoch 152/200\n",
      "1/1 [==============================] - 0s 45ms/step - loss: 0.5756 - accuracy: 0.9310 - val_loss: 0.5475 - val_accuracy: 1.0000\n",
      "Epoch 153/200\n",
      "1/1 [==============================] - 0s 43ms/step - loss: 0.5727 - accuracy: 0.8966 - val_loss: 0.5463 - val_accuracy: 1.0000\n",
      "Epoch 154/200\n",
      "1/1 [==============================] - 0s 42ms/step - loss: 0.5390 - accuracy: 0.9828 - val_loss: 0.5315 - val_accuracy: 0.9667\n",
      "Epoch 155/200\n",
      "1/1 [==============================] - 0s 42ms/step - loss: 0.5467 - accuracy: 0.9828 - val_loss: 0.5445 - val_accuracy: 0.9667\n",
      "Epoch 156/200\n",
      "1/1 [==============================] - 0s 42ms/step - loss: 0.5414 - accuracy: 0.9655 - val_loss: 0.5269 - val_accuracy: 0.9667\n",
      "Epoch 157/200\n",
      "1/1 [==============================] - 0s 43ms/step - loss: 0.5331 - accuracy: 0.9655 - val_loss: 0.5150 - val_accuracy: 0.9667\n",
      "Epoch 158/200\n",
      "1/1 [==============================] - 0s 42ms/step - loss: 0.5404 - accuracy: 0.9483 - val_loss: 0.5143 - val_accuracy: 1.0000\n",
      "Epoch 159/200\n",
      "1/1 [==============================] - 0s 43ms/step - loss: 0.5378 - accuracy: 0.9655 - val_loss: 0.5141 - val_accuracy: 0.9667\n",
      "Epoch 160/200\n",
      "1/1 [==============================] - 0s 43ms/step - loss: 0.5156 - accuracy: 0.9655 - val_loss: 0.5192 - val_accuracy: 0.9667\n",
      "Epoch 161/200\n",
      "1/1 [==============================] - 0s 43ms/step - loss: 0.4917 - accuracy: 0.9828 - val_loss: 0.5056 - val_accuracy: 0.9667\n",
      "Epoch 162/200\n",
      "1/1 [==============================] - 0s 43ms/step - loss: 0.5411 - accuracy: 0.9483 - val_loss: 0.5112 - val_accuracy: 1.0000\n",
      "Epoch 163/200\n",
      "1/1 [==============================] - 0s 42ms/step - loss: 0.5112 - accuracy: 0.9655 - val_loss: 0.5179 - val_accuracy: 0.9667\n",
      "Epoch 164/200\n",
      "1/1 [==============================] - 0s 43ms/step - loss: 0.5156 - accuracy: 0.9828 - val_loss: 0.4979 - val_accuracy: 0.9667\n",
      "Epoch 165/200\n",
      "1/1 [==============================] - 0s 42ms/step - loss: 0.5128 - accuracy: 0.9828 - val_loss: 0.5131 - val_accuracy: 0.9667\n",
      "Epoch 166/200\n",
      "1/1 [==============================] - 0s 43ms/step - loss: 0.5226 - accuracy: 0.9483 - val_loss: 0.4985 - val_accuracy: 0.9667\n",
      "Epoch 167/200\n",
      "1/1 [==============================] - 0s 43ms/step - loss: 0.5015 - accuracy: 0.9483 - val_loss: 0.5323 - val_accuracy: 0.9333\n",
      "Epoch 168/200\n",
      "1/1 [==============================] - 0s 42ms/step - loss: 0.5278 - accuracy: 0.9310 - val_loss: 0.5004 - val_accuracy: 0.9667\n",
      "Epoch 169/200\n",
      "1/1 [==============================] - 0s 43ms/step - loss: 0.4691 - accuracy: 0.9828 - val_loss: 0.5084 - val_accuracy: 0.9667\n",
      "Epoch 170/200\n",
      "1/1 [==============================] - 0s 42ms/step - loss: 0.4833 - accuracy: 0.9655 - val_loss: 0.4972 - val_accuracy: 0.9667\n",
      "Epoch 171/200\n",
      "1/1 [==============================] - 0s 43ms/step - loss: 0.5261 - accuracy: 0.9483 - val_loss: 0.5168 - val_accuracy: 0.9333\n",
      "Epoch 172/200\n",
      "1/1 [==============================] - 0s 42ms/step - loss: 0.4935 - accuracy: 0.9828 - val_loss: 0.4957 - val_accuracy: 0.9667\n",
      "Epoch 173/200\n",
      "1/1 [==============================] - 0s 43ms/step - loss: 0.4579 - accuracy: 0.9828 - val_loss: 0.5211 - val_accuracy: 0.9667\n"
     ]
    },
    {
     "name": "stdout",
     "output_type": "stream",
     "text": [
      "Epoch 174/200\n",
      "1/1 [==============================] - 0s 43ms/step - loss: 0.5207 - accuracy: 0.9483 - val_loss: 0.4918 - val_accuracy: 0.9667\n",
      "Epoch 175/200\n",
      "1/1 [==============================] - 0s 42ms/step - loss: 0.4583 - accuracy: 0.9828 - val_loss: 0.5428 - val_accuracy: 0.9000\n",
      "Epoch 176/200\n",
      "1/1 [==============================] - 0s 42ms/step - loss: 0.5015 - accuracy: 0.9483 - val_loss: 0.4815 - val_accuracy: 0.9667\n",
      "Epoch 177/200\n",
      "1/1 [==============================] - 0s 44ms/step - loss: 0.4772 - accuracy: 0.9828 - val_loss: 0.5460 - val_accuracy: 0.9000\n",
      "Epoch 178/200\n",
      "1/1 [==============================] - 0s 43ms/step - loss: 0.5248 - accuracy: 0.8966 - val_loss: 0.4797 - val_accuracy: 0.9667\n",
      "Epoch 179/200\n",
      "1/1 [==============================] - 0s 42ms/step - loss: 0.4642 - accuracy: 0.9828 - val_loss: 0.5639 - val_accuracy: 0.9000\n",
      "Epoch 180/200\n",
      "1/1 [==============================] - 0s 44ms/step - loss: 0.5224 - accuracy: 0.8966 - val_loss: 0.4825 - val_accuracy: 0.9667\n",
      "Epoch 181/200\n",
      "1/1 [==============================] - 0s 42ms/step - loss: 0.4475 - accuracy: 0.9655 - val_loss: 0.5353 - val_accuracy: 0.9333\n",
      "Epoch 182/200\n",
      "1/1 [==============================] - 0s 42ms/step - loss: 0.4940 - accuracy: 0.9655 - val_loss: 0.4751 - val_accuracy: 0.9667\n",
      "Epoch 183/200\n",
      "1/1 [==============================] - 0s 42ms/step - loss: 0.4340 - accuracy: 0.9828 - val_loss: 0.5368 - val_accuracy: 0.9000\n",
      "Epoch 184/200\n",
      "1/1 [==============================] - 0s 43ms/step - loss: 0.4895 - accuracy: 0.9483 - val_loss: 0.4640 - val_accuracy: 0.9667\n",
      "Epoch 185/200\n",
      "1/1 [==============================] - 0s 41ms/step - loss: 0.4395 - accuracy: 0.9828 - val_loss: 0.4933 - val_accuracy: 0.9667\n",
      "Epoch 186/200\n",
      "1/1 [==============================] - 0s 42ms/step - loss: 0.4819 - accuracy: 0.9483 - val_loss: 0.4584 - val_accuracy: 0.9667\n",
      "Epoch 187/200\n",
      "1/1 [==============================] - 0s 43ms/step - loss: 0.4518 - accuracy: 0.9828 - val_loss: 0.5020 - val_accuracy: 0.9667\n",
      "Epoch 188/200\n",
      "1/1 [==============================] - 0s 41ms/step - loss: 0.4965 - accuracy: 0.9310 - val_loss: 0.4547 - val_accuracy: 0.9667\n",
      "Epoch 189/200\n",
      "1/1 [==============================] - 0s 43ms/step - loss: 0.4473 - accuracy: 0.9828 - val_loss: 0.5270 - val_accuracy: 0.8667\n",
      "Epoch 190/200\n",
      "1/1 [==============================] - 0s 44ms/step - loss: 0.5257 - accuracy: 0.9138 - val_loss: 0.4581 - val_accuracy: 0.9667\n",
      "Epoch 191/200\n",
      "1/1 [==============================] - 0s 43ms/step - loss: 0.4371 - accuracy: 0.9828 - val_loss: 0.5187 - val_accuracy: 0.9000\n",
      "Epoch 192/200\n",
      "1/1 [==============================] - 0s 42ms/step - loss: 0.4854 - accuracy: 0.9483 - val_loss: 0.4575 - val_accuracy: 0.9667\n",
      "Epoch 193/200\n",
      "1/1 [==============================] - 0s 43ms/step - loss: 0.4365 - accuracy: 0.9828 - val_loss: 0.5302 - val_accuracy: 0.9000\n",
      "Epoch 194/200\n",
      "1/1 [==============================] - 0s 44ms/step - loss: 0.4818 - accuracy: 0.9483 - val_loss: 0.4553 - val_accuracy: 0.9667\n",
      "Epoch 195/200\n",
      "1/1 [==============================] - 0s 41ms/step - loss: 0.4265 - accuracy: 0.9828 - val_loss: 0.5203 - val_accuracy: 0.9000\n",
      "Epoch 196/200\n",
      "1/1 [==============================] - 0s 42ms/step - loss: 0.4881 - accuracy: 0.9310 - val_loss: 0.4531 - val_accuracy: 0.9667\n",
      "Epoch 197/200\n",
      "1/1 [==============================] - 0s 43ms/step - loss: 0.4272 - accuracy: 0.9655 - val_loss: 0.5138 - val_accuracy: 0.9333\n",
      "Epoch 198/200\n",
      "1/1 [==============================] - 0s 42ms/step - loss: 0.4673 - accuracy: 0.9310 - val_loss: 0.4962 - val_accuracy: 0.9667\n",
      "Epoch 199/200\n",
      "1/1 [==============================] - 0s 42ms/step - loss: 0.4489 - accuracy: 0.9655 - val_loss: 0.4618 - val_accuracy: 1.0000\n",
      "Epoch 200/200\n",
      "1/1 [==============================] - 0s 45ms/step - loss: 0.4310 - accuracy: 0.9828 - val_loss: 0.4971 - val_accuracy: 0.9333\n",
      "Most important variables:  [ 6  7 14  9  3 13  4 15 12 10]\n"
     ]
    }
   ],
   "source": [
    "model_3.compile(optimizer='adam',\n",
    "              loss='binary_crossentropy',\n",
    "              metrics=['accuracy'])\n",
    "hist_3 = model_3.fit(X_train, y_traindm,\n",
    "          batch_size=58, epochs=200,\n",
    "          validation_data=(X_val, y_valdm), callbacks = [VIANN])"
   ]
  },
  {
   "cell_type": "markdown",
   "metadata": {},
   "source": [
    "## Visualize the loss and accuracy graphs for Model 3.\n",
    "\n",
    "**The loss is a lot higher at the start, and that's because we've changed our loss function. The plot window can be zoomed in by adding an additional line of code: plt.ylim.**"
   ]
  },
  {
   "cell_type": "code",
   "execution_count": 196,
   "metadata": {
    "scrolled": false
   },
   "outputs": [
    {
     "data": {
      "image/png": "[encoded data removed]",
      "text/plain": [
       "<Figure size 460.8x316.8 with 1 Axes>"
      ]
     },
     "metadata": {
      "needs_background": "light"
     },
     "output_type": "display_data"
    }
   ],
   "source": [
    "plt.plot(hist_3.history['loss'])\n",
    "plt.plot(hist_3.history['val_loss'])\n",
    "plt.title('Model loss')\n",
    "plt.ylabel('Loss')\n",
    "plt.xlabel('Epoch')\n",
    "plt.legend(['Train', 'Val'], loc='upper right')\n",
    "plt.ylim(top=10, bottom=0)\n",
    "plt.show()"
   ]
  },
  {
   "cell_type": "code",
   "execution_count": 197,
   "metadata": {
    "scrolled": false
   },
   "outputs": [
    {
     "data": {
      "image/png": "[encoded data removed]",
      "text/plain": [
       "<Figure size 460.8x316.8 with 1 Axes>"
      ]
     },
     "metadata": {
      "needs_background": "light"
     },
     "output_type": "display_data"
    }
   ],
   "source": [
    "plt.plot(hist_3.history['accuracy'])\n",
    "plt.plot(hist_3.history['val_accuracy'])\n",
    "plt.title('Model accuracy')\n",
    "plt.ylabel('Accuracy')\n",
    "plt.xlabel('Epoch')\n",
    "plt.legend(['Train', 'Val'], loc='lower right')\n",
    "plt.show()"
   ]
  },
  {
   "cell_type": "markdown",
   "metadata": {},
   "source": [
    "**Compared to Model 2, there is less overfitting. Although not ideal, the validation accuracy is likely due to the small sample size or, since we are using dropout, the model at test time is more robust and leads to higher testing accuracies.**"
   ]
  },
  {
   "cell_type": "markdown",
   "metadata": {},
   "source": [
    "## Evaluate Model 3 and Print the Results"
   ]
  },
  {
   "cell_type": "markdown",
   "metadata": {},
   "source": [
    "**Test Accuracy**"
   ]
  },
  {
   "cell_type": "code",
   "execution_count": 198,
   "metadata": {
    "scrolled": false
   },
   "outputs": [
    {
     "name": "stdout",
     "output_type": "stream",
     "text": [
      "1/1 [==============================] - 0s 15ms/step - loss: 0.7955 - accuracy: 0.8276\n"
     ]
    },
    {
     "data": {
      "text/plain": [
       "0.8275862336158752"
      ]
     },
     "execution_count": 198,
     "metadata": {},
     "output_type": "execute_result"
    }
   ],
   "source": [
    "model_3.evaluate(X_test, y_testdm)[1]"
   ]
  },
  {
   "cell_type": "markdown",
   "metadata": {},
   "source": [
    "##### **The test accuracy is good considering we only trained with 58 records.**"
   ]
  },
  {
   "cell_type": "code",
   "execution_count": 199,
   "metadata": {
    "scrolled": false
   },
   "outputs": [
    {
     "data": {
      "text/html": [
       "<div>\n",
       "<style scoped>\n",
       "    .dataframe tbody tr th:only-of-type {\n",
       "        vertical-align: middle;\n",
       "    }\n",
       "\n",
       "    .dataframe tbody tr th {\n",
       "        vertical-align: top;\n",
       "    }\n",
       "\n",
       "    .dataframe thead th {\n",
       "        text-align: right;\n",
       "    }\n",
       "</style>\n",
       "<table border=\"1\" class=\"dataframe\">\n",
       "  <thead>\n",
       "    <tr style=\"text-align: right;\">\n",
       "      <th></th>\n",
       "      <th>Variable</th>\n",
       "      <th>Scores</th>\n",
       "    </tr>\n",
       "  </thead>\n",
       "  <tbody>\n",
       "    <tr>\n",
       "      <th>1</th>\n",
       "      <td>Si_clr</td>\n",
       "      <td>0.000000</td>\n",
       "    </tr>\n",
       "    <tr>\n",
       "      <th>0</th>\n",
       "      <td>Al_clr</td>\n",
       "      <td>0.003531</td>\n",
       "    </tr>\n",
       "    <tr>\n",
       "      <th>2</th>\n",
       "      <td>Ca_clr</td>\n",
       "      <td>0.006556</td>\n",
       "    </tr>\n",
       "    <tr>\n",
       "      <th>5</th>\n",
       "      <td>Mn_clr</td>\n",
       "      <td>0.025743</td>\n",
       "    </tr>\n",
       "    <tr>\n",
       "      <th>8</th>\n",
       "      <td>Eu_clr</td>\n",
       "      <td>0.041764</td>\n",
       "    </tr>\n",
       "    <tr>\n",
       "      <th>11</th>\n",
       "      <td>Dy_clr</td>\n",
       "      <td>0.042440</td>\n",
       "    </tr>\n",
       "    <tr>\n",
       "      <th>10</th>\n",
       "      <td>Tb_clr</td>\n",
       "      <td>0.043028</td>\n",
       "    </tr>\n",
       "    <tr>\n",
       "      <th>12</th>\n",
       "      <td>Ho_clr</td>\n",
       "      <td>0.043491</td>\n",
       "    </tr>\n",
       "    <tr>\n",
       "      <th>15</th>\n",
       "      <td>Th_clr</td>\n",
       "      <td>0.059112</td>\n",
       "    </tr>\n",
       "    <tr>\n",
       "      <th>4</th>\n",
       "      <td>V_clr</td>\n",
       "      <td>0.067537</td>\n",
       "    </tr>\n",
       "    <tr>\n",
       "      <th>13</th>\n",
       "      <td>Tm_clr</td>\n",
       "      <td>0.073101</td>\n",
       "    </tr>\n",
       "    <tr>\n",
       "      <th>3</th>\n",
       "      <td>Sc_clr</td>\n",
       "      <td>0.080332</td>\n",
       "    </tr>\n",
       "    <tr>\n",
       "      <th>9</th>\n",
       "      <td>Gd_clr</td>\n",
       "      <td>0.085837</td>\n",
       "    </tr>\n",
       "    <tr>\n",
       "      <th>14</th>\n",
       "      <td>Ta_clr</td>\n",
       "      <td>0.098714</td>\n",
       "    </tr>\n",
       "    <tr>\n",
       "      <th>7</th>\n",
       "      <td>Ce_clr</td>\n",
       "      <td>0.350688</td>\n",
       "    </tr>\n",
       "    <tr>\n",
       "      <th>6</th>\n",
       "      <td>Ba_clr</td>\n",
       "      <td>1.000000</td>\n",
       "    </tr>\n",
       "  </tbody>\n",
       "</table>\n",
       "</div>"
      ],
      "text/plain": [
       "   Variable    Scores\n",
       "1    Si_clr  0.000000\n",
       "0    Al_clr  0.003531\n",
       "2    Ca_clr  0.006556\n",
       "5    Mn_clr  0.025743\n",
       "8    Eu_clr  0.041764\n",
       "11   Dy_clr  0.042440\n",
       "10   Tb_clr  0.043028\n",
       "12   Ho_clr  0.043491\n",
       "15   Th_clr  0.059112\n",
       "4     V_clr  0.067537\n",
       "13   Tm_clr  0.073101\n",
       "3    Sc_clr  0.080332\n",
       "9    Gd_clr  0.085837\n",
       "14   Ta_clr  0.098714\n",
       "7    Ce_clr  0.350688\n",
       "6    Ba_clr  1.000000"
      ]
     },
     "execution_count": 199,
     "metadata": {},
     "output_type": "execute_result"
    }
   ],
   "source": [
    "#Visualize Feature Importance in table format\n",
    "X_columns = X_train.columns.tolist()\n",
    "model_FI_scores = VIANN.varScores.tolist()\n",
    "\n",
    "model_FI = pd.DataFrame()\n",
    "model_FI['Variable'] = X_columns\n",
    "model_FI['Scores'] = model_FI_scores\n",
    "model_FI.sort_values(by=['Scores'], inplace=True, ascending=True)\n",
    "\n",
    "model_FI"
   ]
  },
  {
   "cell_type": "code",
   "execution_count": 201,
   "metadata": {
    "scrolled": false
   },
   "outputs": [
    {
     "data": {
      "text/plain": [
       "array([['Al_clr', 'Si_clr', 'Ca_clr', 'Sc_clr', 'V_clr', 'Mn_clr',\n",
       "        'Ba_clr', 'Ce_clr', 'Eu_clr', 'Gd_clr', 'Tb_clr', 'Dy_clr',\n",
       "        'Ho_clr', 'Tm_clr', 'Ta_clr', 'Th_clr'],\n",
       "       [0.003531307214871049, 0.0, 0.006555579137057066,\n",
       "        0.08033163100481033, 0.06753656268119812, 0.025742551311850548,\n",
       "        1.0, 0.3506879210472107, 0.04176397994160652,\n",
       "        0.08583720773458481, 0.04302765056490898, 0.04244029521942139,\n",
       "        0.0434909351170063, 0.07310109585523605, 0.09871383011341095,\n",
       "        0.059112269431352615]], dtype=object)"
      ]
     },
     "execution_count": 201,
     "metadata": {},
     "output_type": "execute_result"
    }
   ],
   "source": [
    "#Link Features to VIANN scores and export to csv\n",
    "model_FI_array = np.vstack((X_train.columns, VIANN.varScores))\n",
    "pd.DataFrame(model_FI_array).to_csv(\"G10_model_FI.csv\", index=None)\n",
    "model_FI_array"
   ]
  },
  {
   "cell_type": "code",
   "execution_count": 202,
   "metadata": {
    "scrolled": true
   },
   "outputs": [
    {
     "data": {
      "image/png": "[encoded data removed]",
      "text/plain": [
       "<Figure size 460.8x316.8 with 1 Axes>"
      ]
     },
     "metadata": {
      "needs_background": "light"
     },
     "output_type": "display_data"
    }
   ],
   "source": [
    "# Plot the feature importances of the model\n",
    "fig, ax = plt.subplots()\n",
    "\n",
    "ax.barh(model_FI['Variable'], model_FI['Scores'], align=\"center\", alpha=0.5)\n",
    "ax.set_xlabel('Scores')\n",
    "ax.set_yticks(model_FI['Variable'])\n",
    "ax.xaxis.grid(True)\n",
    "ax.set_title(\"G10 Model 3 Feature Importances\", fontsize='14')\n",
    "\n",
    "# Save the figure and show\n",
    "plt.savefig('G10_model_3_FI_barplot.png')\n",
    "plt.show()"
   ]
  },
  {
   "cell_type": "markdown",
   "metadata": {},
   "source": [
    "**Compute the probabilities and predictions on the test set.**"
   ]
  },
  {
   "cell_type": "code",
   "execution_count": 203,
   "metadata": {
    "scrolled": false
   },
   "outputs": [
    {
     "name": "stderr",
     "output_type": "stream",
     "text": [
      "G:\\Anaconda\\lib\\site-packages\\tensorflow\\python\\keras\\engine\\sequential.py:450: UserWarning: `model.predict_classes()` is deprecated and will be removed after 2021-01-01. Please use instead:* `np.argmax(model.predict(x), axis=-1)`,   if your model does multi-class classification   (e.g. if it uses a `softmax` last-layer activation).* `(model.predict(x) > 0.5).astype(\"int32\")`,   if your model does binary classification   (e.g. if it uses a `sigmoid` last-layer activation).\n",
      "  warnings.warn('`model.predict_classes()` is deprecated and '\n"
     ]
    }
   ],
   "source": [
    "predictions =  model_3.predict_classes(X_test)\n",
    "probabilities = model_3.predict(X_test)"
   ]
  },
  {
   "cell_type": "code",
   "execution_count": 204,
   "metadata": {
    "scrolled": false
   },
   "outputs": [
    {
     "data": {
      "text/html": [
       "<div>\n",
       "<style scoped>\n",
       "    .dataframe tbody tr th:only-of-type {\n",
       "        vertical-align: middle;\n",
       "    }\n",
       "\n",
       "    .dataframe tbody tr th {\n",
       "        vertical-align: top;\n",
       "    }\n",
       "\n",
       "    .dataframe thead th {\n",
       "        text-align: right;\n",
       "    }\n",
       "</style>\n",
       "<table border=\"1\" class=\"dataframe\">\n",
       "  <thead>\n",
       "    <tr style=\"text-align: right;\">\n",
       "      <th></th>\n",
       "      <th>prob_no</th>\n",
       "      <th>prob_yes</th>\n",
       "    </tr>\n",
       "  </thead>\n",
       "  <tbody>\n",
       "    <tr>\n",
       "      <th>46</th>\n",
       "      <td>0.030048</td>\n",
       "      <td>0.970703</td>\n",
       "    </tr>\n",
       "    <tr>\n",
       "      <th>69</th>\n",
       "      <td>0.789390</td>\n",
       "      <td>0.210538</td>\n",
       "    </tr>\n",
       "    <tr>\n",
       "      <th>99</th>\n",
       "      <td>0.915716</td>\n",
       "      <td>0.084863</td>\n",
       "    </tr>\n",
       "    <tr>\n",
       "      <th>22</th>\n",
       "      <td>0.000714</td>\n",
       "      <td>0.999324</td>\n",
       "    </tr>\n",
       "    <tr>\n",
       "      <th>98</th>\n",
       "      <td>0.934076</td>\n",
       "      <td>0.066539</td>\n",
       "    </tr>\n",
       "  </tbody>\n",
       "</table>\n",
       "</div>"
      ],
      "text/plain": [
       "     prob_no  prob_yes\n",
       "46  0.030048  0.970703\n",
       "69  0.789390  0.210538\n",
       "99  0.915716  0.084863\n",
       "22  0.000714  0.999324\n",
       "98  0.934076  0.066539"
      ]
     },
     "execution_count": 204,
     "metadata": {},
     "output_type": "execute_result"
    }
   ],
   "source": [
    "predictions2 = pd.DataFrame(data = predictions,index = X_test.index.copy())\n",
    "predictions2.columns = ['predict_class']\n",
    "probabilities2 = pd.DataFrame(data = probabilities,index = X_test.index.copy())\n",
    "probabilities2.columns = ['prob_no', 'prob_yes']\n",
    "probabilities2.head(5)"
   ]
  },
  {
   "cell_type": "code",
   "execution_count": 205,
   "metadata": {
    "scrolled": false
   },
   "outputs": [
    {
     "data": {
      "text/html": [
       "<div>\n",
       "<style scoped>\n",
       "    .dataframe tbody tr th:only-of-type {\n",
       "        vertical-align: middle;\n",
       "    }\n",
       "\n",
       "    .dataframe tbody tr th {\n",
       "        vertical-align: top;\n",
       "    }\n",
       "\n",
       "    .dataframe thead th {\n",
       "        text-align: right;\n",
       "    }\n",
       "</style>\n",
       "<table border=\"1\" class=\"dataframe\">\n",
       "  <thead>\n",
       "    <tr style=\"text-align: right;\">\n",
       "      <th></th>\n",
       "      <th>Al_clr</th>\n",
       "      <th>Si_clr</th>\n",
       "      <th>Ca_clr</th>\n",
       "      <th>Sc_clr</th>\n",
       "      <th>V_clr</th>\n",
       "      <th>Mn_clr</th>\n",
       "      <th>Ba_clr</th>\n",
       "      <th>Ce_clr</th>\n",
       "      <th>Eu_clr</th>\n",
       "      <th>Gd_clr</th>\n",
       "      <th>Tb_clr</th>\n",
       "      <th>Dy_clr</th>\n",
       "      <th>Ho_clr</th>\n",
       "      <th>Tm_clr</th>\n",
       "      <th>Ta_clr</th>\n",
       "      <th>Th_clr</th>\n",
       "      <th>Diamond_High</th>\n",
       "      <th>predict_class</th>\n",
       "      <th>prob_no</th>\n",
       "      <th>prob_yes</th>\n",
       "    </tr>\n",
       "  </thead>\n",
       "  <tbody>\n",
       "    <tr>\n",
       "      <th>46</th>\n",
       "      <td>8.581826</td>\n",
       "      <td>9.699935</td>\n",
       "      <td>7.566943</td>\n",
       "      <td>2.783886</td>\n",
       "      <td>2.928547</td>\n",
       "      <td>5.307008</td>\n",
       "      <td>-1.395721</td>\n",
       "      <td>-0.840976</td>\n",
       "      <td>-3.365729</td>\n",
       "      <td>-2.325711</td>\n",
       "      <td>-4.594394</td>\n",
       "      <td>-3.167278</td>\n",
       "      <td>-5.133391</td>\n",
       "      <td>-6.386154</td>\n",
       "      <td>-5.287541</td>\n",
       "      <td>-4.371251</td>\n",
       "      <td>yes</td>\n",
       "      <td>1</td>\n",
       "      <td>0.030048</td>\n",
       "      <td>0.970703</td>\n",
       "    </tr>\n",
       "    <tr>\n",
       "      <th>69</th>\n",
       "      <td>11.169936</td>\n",
       "      <td>12.341528</td>\n",
       "      <td>9.415699</td>\n",
       "      <td>4.104456</td>\n",
       "      <td>4.938853</td>\n",
       "      <td>8.029216</td>\n",
       "      <td>-6.992101</td>\n",
       "      <td>-3.763989</td>\n",
       "      <td>-3.857806</td>\n",
       "      <td>-2.944377</td>\n",
       "      <td>-4.457136</td>\n",
       "      <td>-3.873070</td>\n",
       "      <td>-4.651604</td>\n",
       "      <td>-3.763989</td>\n",
       "      <td>-7.015790</td>\n",
       "      <td>-8.679826</td>\n",
       "      <td>no</td>\n",
       "      <td>0</td>\n",
       "      <td>0.789390</td>\n",
       "      <td>0.210538</td>\n",
       "    </tr>\n",
       "    <tr>\n",
       "      <th>99</th>\n",
       "      <td>9.165122</td>\n",
       "      <td>10.340980</td>\n",
       "      <td>8.091487</td>\n",
       "      <td>2.749537</td>\n",
       "      <td>3.358462</td>\n",
       "      <td>5.584324</td>\n",
       "      <td>-5.760081</td>\n",
       "      <td>-3.137558</td>\n",
       "      <td>-1.854642</td>\n",
       "      <td>-1.122655</td>\n",
       "      <td>-3.250887</td>\n",
       "      <td>-1.724831</td>\n",
       "      <td>-3.830705</td>\n",
       "      <td>-4.272538</td>\n",
       "      <td>-7.268989</td>\n",
       "      <td>-7.067026</td>\n",
       "      <td>no</td>\n",
       "      <td>0</td>\n",
       "      <td>0.915716</td>\n",
       "      <td>0.084863</td>\n",
       "    </tr>\n",
       "    <tr>\n",
       "      <th>22</th>\n",
       "      <td>9.777288</td>\n",
       "      <td>11.187977</td>\n",
       "      <td>8.460690</td>\n",
       "      <td>3.316208</td>\n",
       "      <td>4.015279</td>\n",
       "      <td>6.288581</td>\n",
       "      <td>-2.502795</td>\n",
       "      <td>1.000576</td>\n",
       "      <td>-4.929093</td>\n",
       "      <td>-4.404477</td>\n",
       "      <td>-6.331797</td>\n",
       "      <td>-5.173876</td>\n",
       "      <td>-6.427465</td>\n",
       "      <td>-6.267477</td>\n",
       "      <td>-5.593837</td>\n",
       "      <td>-2.415783</td>\n",
       "      <td>yes</td>\n",
       "      <td>1</td>\n",
       "      <td>0.000714</td>\n",
       "      <td>0.999324</td>\n",
       "    </tr>\n",
       "    <tr>\n",
       "      <th>98</th>\n",
       "      <td>9.120505</td>\n",
       "      <td>10.269139</td>\n",
       "      <td>8.044503</td>\n",
       "      <td>2.643357</td>\n",
       "      <td>3.317115</td>\n",
       "      <td>5.543160</td>\n",
       "      <td>-5.543069</td>\n",
       "      <td>-2.846200</td>\n",
       "      <td>-1.919959</td>\n",
       "      <td>-1.013618</td>\n",
       "      <td>-3.316204</td>\n",
       "      <td>-1.816580</td>\n",
       "      <td>-3.701866</td>\n",
       "      <td>-4.743320</td>\n",
       "      <td>-7.266565</td>\n",
       "      <td>-6.770397</td>\n",
       "      <td>no</td>\n",
       "      <td>0</td>\n",
       "      <td>0.934076</td>\n",
       "      <td>0.066539</td>\n",
       "    </tr>\n",
       "  </tbody>\n",
       "</table>\n",
       "</div>"
      ],
      "text/plain": [
       "       Al_clr     Si_clr    Ca_clr    Sc_clr     V_clr    Mn_clr    Ba_clr  \\\n",
       "46   8.581826   9.699935  7.566943  2.783886  2.928547  5.307008 -1.395721   \n",
       "69  11.169936  12.341528  9.415699  4.104456  4.938853  8.029216 -6.992101   \n",
       "99   9.165122  10.340980  8.091487  2.749537  3.358462  5.584324 -5.760081   \n",
       "22   9.777288  11.187977  8.460690  3.316208  4.015279  6.288581 -2.502795   \n",
       "98   9.120505  10.269139  8.044503  2.643357  3.317115  5.543160 -5.543069   \n",
       "\n",
       "      Ce_clr    Eu_clr    Gd_clr    Tb_clr    Dy_clr    Ho_clr    Tm_clr  \\\n",
       "46 -0.840976 -3.365729 -2.325711 -4.594394 -3.167278 -5.133391 -6.386154   \n",
       "69 -3.763989 -3.857806 -2.944377 -4.457136 -3.873070 -4.651604 -3.763989   \n",
       "99 -3.137558 -1.854642 -1.122655 -3.250887 -1.724831 -3.830705 -4.272538   \n",
       "22  1.000576 -4.929093 -4.404477 -6.331797 -5.173876 -6.427465 -6.267477   \n",
       "98 -2.846200 -1.919959 -1.013618 -3.316204 -1.816580 -3.701866 -4.743320   \n",
       "\n",
       "      Ta_clr    Th_clr Diamond_High  predict_class   prob_no  prob_yes  \n",
       "46 -5.287541 -4.371251          yes              1  0.030048  0.970703  \n",
       "69 -7.015790 -8.679826           no              0  0.789390  0.210538  \n",
       "99 -7.268989 -7.067026           no              0  0.915716  0.084863  \n",
       "22 -5.593837 -2.415783          yes              1  0.000714  0.999324  \n",
       "98 -7.266565 -6.770397           no              0  0.934076  0.066539  "
      ]
     },
     "execution_count": 205,
     "metadata": {},
     "output_type": "execute_result"
    }
   ],
   "source": [
    "G10_testresults = pd.concat([X_test,y_test,predictions2,probabilities2],axis=1)\n",
    "G10_testresults.to_csv(\"G10_model3results_short.csv\")\n",
    "G10_testresults.head(5)"
   ]
  },
  {
   "cell_type": "code",
   "execution_count": 206,
   "metadata": {
    "scrolled": false
   },
   "outputs": [
    {
     "data": {
      "text/html": [
       "<div>\n",
       "<style scoped>\n",
       "    .dataframe tbody tr th:only-of-type {\n",
       "        vertical-align: middle;\n",
       "    }\n",
       "\n",
       "    .dataframe tbody tr th {\n",
       "        vertical-align: top;\n",
       "    }\n",
       "\n",
       "    .dataframe thead th {\n",
       "        text-align: right;\n",
       "    }\n",
       "</style>\n",
       "<table border=\"1\" class=\"dataframe\">\n",
       "  <thead>\n",
       "    <tr style=\"text-align: right;\">\n",
       "      <th></th>\n",
       "      <th>predict_class</th>\n",
       "      <th>prob_no</th>\n",
       "      <th>prob_yes</th>\n",
       "      <th>Sample</th>\n",
       "      <th>Mineral</th>\n",
       "      <th>Pipe</th>\n",
       "      <th>Diamond_High</th>\n",
       "      <th>Craton</th>\n",
       "      <th>Al</th>\n",
       "      <th>Si</th>\n",
       "      <th>...</th>\n",
       "      <th>V7</th>\n",
       "      <th>V8</th>\n",
       "      <th>V9</th>\n",
       "      <th>V10</th>\n",
       "      <th>V11</th>\n",
       "      <th>V12</th>\n",
       "      <th>V13</th>\n",
       "      <th>V14</th>\n",
       "      <th>V15</th>\n",
       "      <th>V16</th>\n",
       "    </tr>\n",
       "  </thead>\n",
       "  <tbody>\n",
       "    <tr>\n",
       "      <th>46</th>\n",
       "      <td>1.0</td>\n",
       "      <td>0.030048</td>\n",
       "      <td>0.970703</td>\n",
       "      <td>Ap24D08</td>\n",
       "      <td>G10</td>\n",
       "      <td>PANDA</td>\n",
       "      <td>yes</td>\n",
       "      <td>Slave</td>\n",
       "      <td>63320</td>\n",
       "      <td>193700</td>\n",
       "      <td>...</td>\n",
       "      <td>-0.007474</td>\n",
       "      <td>-0.023885</td>\n",
       "      <td>0.010023</td>\n",
       "      <td>-0.026713</td>\n",
       "      <td>0.011012</td>\n",
       "      <td>0.002017</td>\n",
       "      <td>-0.013905</td>\n",
       "      <td>0.000689</td>\n",
       "      <td>0.014703</td>\n",
       "      <td>7.460000e-17</td>\n",
       "    </tr>\n",
       "    <tr>\n",
       "      <th>69</th>\n",
       "      <td>0.0</td>\n",
       "      <td>0.789390</td>\n",
       "      <td>0.210538</td>\n",
       "      <td>Ap27B12</td>\n",
       "      <td>G10</td>\n",
       "      <td>KIT</td>\n",
       "      <td>no</td>\n",
       "      <td>Slave</td>\n",
       "      <td>61200</td>\n",
       "      <td>197500</td>\n",
       "      <td>...</td>\n",
       "      <td>-0.013621</td>\n",
       "      <td>-0.008489</td>\n",
       "      <td>-0.003711</td>\n",
       "      <td>-0.051720</td>\n",
       "      <td>0.014682</td>\n",
       "      <td>0.005061</td>\n",
       "      <td>0.029792</td>\n",
       "      <td>0.030321</td>\n",
       "      <td>0.001491</td>\n",
       "      <td>-1.530000e-16</td>\n",
       "    </tr>\n",
       "    <tr>\n",
       "      <th>99</th>\n",
       "      <td>0.0</td>\n",
       "      <td>0.915716</td>\n",
       "      <td>0.084863</td>\n",
       "      <td>Ap27C16</td>\n",
       "      <td>G10</td>\n",
       "      <td>ZERO</td>\n",
       "      <td>no</td>\n",
       "      <td>Kaapvaal</td>\n",
       "      <td>61680</td>\n",
       "      <td>199900</td>\n",
       "      <td>...</td>\n",
       "      <td>0.034158</td>\n",
       "      <td>0.003588</td>\n",
       "      <td>0.010352</td>\n",
       "      <td>-0.023214</td>\n",
       "      <td>-0.026711</td>\n",
       "      <td>-0.021886</td>\n",
       "      <td>0.034038</td>\n",
       "      <td>-0.003581</td>\n",
       "      <td>0.005569</td>\n",
       "      <td>4.860000e-17</td>\n",
       "    </tr>\n",
       "    <tr>\n",
       "      <th>22</th>\n",
       "      <td>1.0</td>\n",
       "      <td>0.000714</td>\n",
       "      <td>0.999324</td>\n",
       "      <td>Ap22A16</td>\n",
       "      <td>G10</td>\n",
       "      <td>KOALA</td>\n",
       "      <td>yes</td>\n",
       "      <td>Slave</td>\n",
       "      <td>47380</td>\n",
       "      <td>194200</td>\n",
       "      <td>...</td>\n",
       "      <td>0.061932</td>\n",
       "      <td>0.058572</td>\n",
       "      <td>-0.041216</td>\n",
       "      <td>0.010263</td>\n",
       "      <td>-0.005618</td>\n",
       "      <td>0.003408</td>\n",
       "      <td>-0.003082</td>\n",
       "      <td>-0.018811</td>\n",
       "      <td>-0.018645</td>\n",
       "      <td>-5.550000e-17</td>\n",
       "    </tr>\n",
       "    <tr>\n",
       "      <th>98</th>\n",
       "      <td>0.0</td>\n",
       "      <td>0.934076</td>\n",
       "      <td>0.066539</td>\n",
       "      <td>Ap27C15</td>\n",
       "      <td>G10</td>\n",
       "      <td>ZERO</td>\n",
       "      <td>no</td>\n",
       "      <td>Kaapvaal</td>\n",
       "      <td>62970</td>\n",
       "      <td>198600</td>\n",
       "      <td>...</td>\n",
       "      <td>0.033882</td>\n",
       "      <td>0.018849</td>\n",
       "      <td>0.017274</td>\n",
       "      <td>0.000256</td>\n",
       "      <td>-0.005775</td>\n",
       "      <td>-0.019607</td>\n",
       "      <td>0.019163</td>\n",
       "      <td>-0.006209</td>\n",
       "      <td>0.008645</td>\n",
       "      <td>0.000000e+00</td>\n",
       "    </tr>\n",
       "  </tbody>\n",
       "</table>\n",
       "<p>5 rows × 56 columns</p>\n",
       "</div>"
      ],
      "text/plain": [
       "    predict_class   prob_no  prob_yes       Sample Mineral   Pipe  \\\n",
       "46            1.0  0.030048  0.970703      Ap24D08     G10  PANDA   \n",
       "69            0.0  0.789390  0.210538      Ap27B12     G10    KIT   \n",
       "99            0.0  0.915716  0.084863      Ap27C16     G10   ZERO   \n",
       "22            1.0  0.000714  0.999324      Ap22A16     G10  KOALA   \n",
       "98            0.0  0.934076  0.066539      Ap27C15     G10   ZERO   \n",
       "\n",
       "   Diamond_High    Craton     Al      Si  ...        V7        V8        V9  \\\n",
       "46          yes     Slave  63320  193700  ... -0.007474 -0.023885  0.010023   \n",
       "69           no     Slave  61200  197500  ... -0.013621 -0.008489 -0.003711   \n",
       "99           no  Kaapvaal  61680  199900  ...  0.034158  0.003588  0.010352   \n",
       "22          yes     Slave  47380  194200  ...  0.061932  0.058572 -0.041216   \n",
       "98           no  Kaapvaal  62970  198600  ...  0.033882  0.018849  0.017274   \n",
       "\n",
       "         V10       V11       V12       V13       V14       V15           V16  \n",
       "46 -0.026713  0.011012  0.002017 -0.013905  0.000689  0.014703  7.460000e-17  \n",
       "69 -0.051720  0.014682  0.005061  0.029792  0.030321  0.001491 -1.530000e-16  \n",
       "99 -0.023214 -0.026711 -0.021886  0.034038 -0.003581  0.005569  4.860000e-17  \n",
       "22  0.010263 -0.005618  0.003408 -0.003082 -0.018811 -0.018645 -5.550000e-17  \n",
       "98  0.000256 -0.005775 -0.019607  0.019163 -0.006209  0.008645  0.000000e+00  \n",
       "\n",
       "[5 rows x 56 columns]"
      ]
     },
     "execution_count": 206,
     "metadata": {},
     "output_type": "execute_result"
    }
   ],
   "source": [
    "G10_testresults2 = predictions2.join([probabilities2, df])\n",
    "G10_testresults2.to_csv(\"G10_model3results_all.csv\")\n",
    "G10_testresults2.head(5)"
   ]
  },
  {
   "cell_type": "markdown",
   "metadata": {},
   "source": [
    "# Save the Model"
   ]
  },
  {
   "cell_type": "markdown",
   "metadata": {},
   "source": [
    "**Serialize model to JSON for later use.**"
   ]
  },
  {
   "cell_type": "code",
   "execution_count": 207,
   "metadata": {
    "scrolled": false
   },
   "outputs": [
    {
     "name": "stdout",
     "output_type": "stream",
     "text": [
      "Saved model to disk\n"
     ]
    }
   ],
   "source": [
    "# save model and architecture to single file\n",
    "model_3.save(\"model_3_G10.h5\")\n",
    "print(\"Saved model to disk\")"
   ]
  },
  {
   "cell_type": "markdown",
   "metadata": {},
   "source": [
    "# Run Model on More Data\n",
    "\n",
    "**Load JSON and create the model**"
   ]
  },
  {
   "cell_type": "code",
   "execution_count": 210,
   "metadata": {
    "scrolled": false
   },
   "outputs": [
    {
     "name": "stdout",
     "output_type": "stream",
     "text": [
      "Loaded model from disk\n"
     ]
    }
   ],
   "source": [
    "# load and evaluate a saved model\n",
    "from numpy import loadtxt\n",
    "from keras.models import load_model\n",
    "\n",
    "# load model\n",
    "model_3_G10 = load_model('model_3_G10.h5')\n",
    "print(\"Loaded model from disk\")"
   ]
  },
  {
   "cell_type": "markdown",
   "metadata": {},
   "source": [
    "# Prediction with New Data with Unknown Classifier (y)"
   ]
  },
  {
   "cell_type": "markdown",
   "metadata": {},
   "source": [
    "**Using X_test data and predicting y. Make sure the X data is scaled the same as the data used in the model.**\n",
    "**Predict y.**"
   ]
  },
  {
   "cell_type": "code",
   "execution_count": 211,
   "metadata": {
    "scrolled": false
   },
   "outputs": [
    {
     "data": {
      "text/plain": [
       "array([[3.0047953e-02, 9.7070324e-01],\n",
       "       [7.8938997e-01, 2.1053824e-01],\n",
       "       [9.1571611e-01, 8.4863245e-02],\n",
       "       [7.1433187e-04, 9.9932444e-01],\n",
       "       [9.3407649e-01, 6.6538543e-02],\n",
       "       [3.6037326e-01, 6.4011747e-01],\n",
       "       [3.9177716e-02, 9.6131432e-01],\n",
       "       [4.9568385e-02, 9.5084631e-01],\n",
       "       [3.7175345e-01, 6.2901753e-01],\n",
       "       [9.1777855e-01, 8.2162052e-02],\n",
       "       [9.3478644e-01, 6.5677464e-02],\n",
       "       [2.7120769e-01, 7.2952956e-01],\n",
       "       [1.4101416e-02, 9.8633349e-01],\n",
       "       [9.4332349e-01, 5.7263583e-02],\n",
       "       [1.5711099e-02, 9.8477256e-01],\n",
       "       [7.8768957e-01, 2.1224806e-01],\n",
       "       [9.8242593e-01, 1.7939746e-02],\n",
       "       [8.8426644e-01, 1.1560997e-01],\n",
       "       [1.2102643e-01, 8.7924665e-01],\n",
       "       [1.4199018e-03, 9.9865013e-01],\n",
       "       [9.8234999e-01, 1.8016070e-02],\n",
       "       [2.2433847e-02, 9.7820109e-01],\n",
       "       [1.2108901e-01, 8.7918437e-01],\n",
       "       [4.2311549e-03, 9.9594712e-01],\n",
       "       [9.5699871e-01, 4.3533385e-02],\n",
       "       [7.4509978e-03, 9.9283159e-01],\n",
       "       [8.9192778e-02, 9.1113806e-01],\n",
       "       [2.4783045e-02, 9.7588515e-01],\n",
       "       [3.3382553e-01, 6.6687155e-01]], dtype=float32)"
      ]
     },
     "execution_count": 211,
     "metadata": {},
     "output_type": "execute_result"
    }
   ],
   "source": [
    "y_new = model_3_G10.predict(X_test)\n",
    "y_new"
   ]
  },
  {
   "cell_type": "markdown",
   "metadata": {},
   "source": [
    "**Print the input data and the predicted values. Replace X_test with the new data with an unknown classifier.**"
   ]
  },
  {
   "cell_type": "code",
   "execution_count": 212,
   "metadata": {
    "scrolled": false
   },
   "outputs": [
    {
     "name": "stderr",
     "output_type": "stream",
     "text": [
      "G:\\Anaconda\\lib\\site-packages\\tensorflow\\python\\keras\\engine\\sequential.py:450: UserWarning: `model.predict_classes()` is deprecated and will be removed after 2021-01-01. Please use instead:* `np.argmax(model.predict(x), axis=-1)`,   if your model does multi-class classification   (e.g. if it uses a `softmax` last-layer activation).* `(model.predict(x) > 0.5).astype(\"int32\")`,   if your model does binary classification   (e.g. if it uses a `sigmoid` last-layer activation).\n",
      "  warnings.warn('`model.predict_classes()` is deprecated and '\n"
     ]
    }
   ],
   "source": [
    "predictions_new =  model_3_G10.predict_classes(X_test)\n",
    "probabilities_new = model_3_G10.predict(X_test)"
   ]
  },
  {
   "cell_type": "code",
   "execution_count": 213,
   "metadata": {
    "scrolled": false
   },
   "outputs": [
    {
     "data": {
      "text/html": [
       "<div>\n",
       "<style scoped>\n",
       "    .dataframe tbody tr th:only-of-type {\n",
       "        vertical-align: middle;\n",
       "    }\n",
       "\n",
       "    .dataframe tbody tr th {\n",
       "        vertical-align: top;\n",
       "    }\n",
       "\n",
       "    .dataframe thead th {\n",
       "        text-align: right;\n",
       "    }\n",
       "</style>\n",
       "<table border=\"1\" class=\"dataframe\">\n",
       "  <thead>\n",
       "    <tr style=\"text-align: right;\">\n",
       "      <th></th>\n",
       "      <th>prob_no</th>\n",
       "      <th>prob_yes</th>\n",
       "    </tr>\n",
       "  </thead>\n",
       "  <tbody>\n",
       "    <tr>\n",
       "      <th>46</th>\n",
       "      <td>0.030048</td>\n",
       "      <td>0.970703</td>\n",
       "    </tr>\n",
       "    <tr>\n",
       "      <th>69</th>\n",
       "      <td>0.789390</td>\n",
       "      <td>0.210538</td>\n",
       "    </tr>\n",
       "    <tr>\n",
       "      <th>99</th>\n",
       "      <td>0.915716</td>\n",
       "      <td>0.084863</td>\n",
       "    </tr>\n",
       "    <tr>\n",
       "      <th>22</th>\n",
       "      <td>0.000714</td>\n",
       "      <td>0.999324</td>\n",
       "    </tr>\n",
       "    <tr>\n",
       "      <th>98</th>\n",
       "      <td>0.934076</td>\n",
       "      <td>0.066539</td>\n",
       "    </tr>\n",
       "  </tbody>\n",
       "</table>\n",
       "</div>"
      ],
      "text/plain": [
       "     prob_no  prob_yes\n",
       "46  0.030048  0.970703\n",
       "69  0.789390  0.210538\n",
       "99  0.915716  0.084863\n",
       "22  0.000714  0.999324\n",
       "98  0.934076  0.066539"
      ]
     },
     "execution_count": 213,
     "metadata": {},
     "output_type": "execute_result"
    }
   ],
   "source": [
    "predictions_new2 = pd.DataFrame(data = predictions_new,index = X_test.index.copy())\n",
    "predictions_new2.columns = ['predict_class']\n",
    "probabilities_new2 = pd.DataFrame(data = probabilities_new,index = X_test.index.copy())\n",
    "probabilities_new2.columns = ['prob_no', 'prob_yes']\n",
    "probabilities_new2.head(5)"
   ]
  },
  {
   "cell_type": "markdown",
   "metadata": {},
   "source": [
    "**Generate accuracy prediction as dataframe object for importing into other programs.**"
   ]
  },
  {
   "cell_type": "code",
   "execution_count": 214,
   "metadata": {
    "scrolled": false
   },
   "outputs": [
    {
     "data": {
      "text/html": [
       "<div>\n",
       "<style scoped>\n",
       "    .dataframe tbody tr th:only-of-type {\n",
       "        vertical-align: middle;\n",
       "    }\n",
       "\n",
       "    .dataframe tbody tr th {\n",
       "        vertical-align: top;\n",
       "    }\n",
       "\n",
       "    .dataframe thead th {\n",
       "        text-align: right;\n",
       "    }\n",
       "</style>\n",
       "<table border=\"1\" class=\"dataframe\">\n",
       "  <thead>\n",
       "    <tr style=\"text-align: right;\">\n",
       "      <th></th>\n",
       "      <th>predict_class</th>\n",
       "      <th>prob_no</th>\n",
       "      <th>prob_yes</th>\n",
       "      <th>Sample</th>\n",
       "      <th>Mineral</th>\n",
       "      <th>Pipe</th>\n",
       "      <th>Diamond_High</th>\n",
       "      <th>Craton</th>\n",
       "      <th>Al</th>\n",
       "      <th>Si</th>\n",
       "      <th>...</th>\n",
       "      <th>V7</th>\n",
       "      <th>V8</th>\n",
       "      <th>V9</th>\n",
       "      <th>V10</th>\n",
       "      <th>V11</th>\n",
       "      <th>V12</th>\n",
       "      <th>V13</th>\n",
       "      <th>V14</th>\n",
       "      <th>V15</th>\n",
       "      <th>V16</th>\n",
       "    </tr>\n",
       "  </thead>\n",
       "  <tbody>\n",
       "    <tr>\n",
       "      <th>46</th>\n",
       "      <td>1.0</td>\n",
       "      <td>0.030048</td>\n",
       "      <td>0.970703</td>\n",
       "      <td>Ap24D08</td>\n",
       "      <td>G10</td>\n",
       "      <td>PANDA</td>\n",
       "      <td>yes</td>\n",
       "      <td>Slave</td>\n",
       "      <td>63320</td>\n",
       "      <td>193700</td>\n",
       "      <td>...</td>\n",
       "      <td>-0.007474</td>\n",
       "      <td>-0.023885</td>\n",
       "      <td>0.010023</td>\n",
       "      <td>-0.026713</td>\n",
       "      <td>0.011012</td>\n",
       "      <td>0.002017</td>\n",
       "      <td>-0.013905</td>\n",
       "      <td>0.000689</td>\n",
       "      <td>0.014703</td>\n",
       "      <td>7.460000e-17</td>\n",
       "    </tr>\n",
       "    <tr>\n",
       "      <th>69</th>\n",
       "      <td>0.0</td>\n",
       "      <td>0.789390</td>\n",
       "      <td>0.210538</td>\n",
       "      <td>Ap27B12</td>\n",
       "      <td>G10</td>\n",
       "      <td>KIT</td>\n",
       "      <td>no</td>\n",
       "      <td>Slave</td>\n",
       "      <td>61200</td>\n",
       "      <td>197500</td>\n",
       "      <td>...</td>\n",
       "      <td>-0.013621</td>\n",
       "      <td>-0.008489</td>\n",
       "      <td>-0.003711</td>\n",
       "      <td>-0.051720</td>\n",
       "      <td>0.014682</td>\n",
       "      <td>0.005061</td>\n",
       "      <td>0.029792</td>\n",
       "      <td>0.030321</td>\n",
       "      <td>0.001491</td>\n",
       "      <td>-1.530000e-16</td>\n",
       "    </tr>\n",
       "    <tr>\n",
       "      <th>99</th>\n",
       "      <td>0.0</td>\n",
       "      <td>0.915716</td>\n",
       "      <td>0.084863</td>\n",
       "      <td>Ap27C16</td>\n",
       "      <td>G10</td>\n",
       "      <td>ZERO</td>\n",
       "      <td>no</td>\n",
       "      <td>Kaapvaal</td>\n",
       "      <td>61680</td>\n",
       "      <td>199900</td>\n",
       "      <td>...</td>\n",
       "      <td>0.034158</td>\n",
       "      <td>0.003588</td>\n",
       "      <td>0.010352</td>\n",
       "      <td>-0.023214</td>\n",
       "      <td>-0.026711</td>\n",
       "      <td>-0.021886</td>\n",
       "      <td>0.034038</td>\n",
       "      <td>-0.003581</td>\n",
       "      <td>0.005569</td>\n",
       "      <td>4.860000e-17</td>\n",
       "    </tr>\n",
       "    <tr>\n",
       "      <th>22</th>\n",
       "      <td>1.0</td>\n",
       "      <td>0.000714</td>\n",
       "      <td>0.999324</td>\n",
       "      <td>Ap22A16</td>\n",
       "      <td>G10</td>\n",
       "      <td>KOALA</td>\n",
       "      <td>yes</td>\n",
       "      <td>Slave</td>\n",
       "      <td>47380</td>\n",
       "      <td>194200</td>\n",
       "      <td>...</td>\n",
       "      <td>0.061932</td>\n",
       "      <td>0.058572</td>\n",
       "      <td>-0.041216</td>\n",
       "      <td>0.010263</td>\n",
       "      <td>-0.005618</td>\n",
       "      <td>0.003408</td>\n",
       "      <td>-0.003082</td>\n",
       "      <td>-0.018811</td>\n",
       "      <td>-0.018645</td>\n",
       "      <td>-5.550000e-17</td>\n",
       "    </tr>\n",
       "    <tr>\n",
       "      <th>98</th>\n",
       "      <td>0.0</td>\n",
       "      <td>0.934076</td>\n",
       "      <td>0.066539</td>\n",
       "      <td>Ap27C15</td>\n",
       "      <td>G10</td>\n",
       "      <td>ZERO</td>\n",
       "      <td>no</td>\n",
       "      <td>Kaapvaal</td>\n",
       "      <td>62970</td>\n",
       "      <td>198600</td>\n",
       "      <td>...</td>\n",
       "      <td>0.033882</td>\n",
       "      <td>0.018849</td>\n",
       "      <td>0.017274</td>\n",
       "      <td>0.000256</td>\n",
       "      <td>-0.005775</td>\n",
       "      <td>-0.019607</td>\n",
       "      <td>0.019163</td>\n",
       "      <td>-0.006209</td>\n",
       "      <td>0.008645</td>\n",
       "      <td>0.000000e+00</td>\n",
       "    </tr>\n",
       "  </tbody>\n",
       "</table>\n",
       "<p>5 rows × 56 columns</p>\n",
       "</div>"
      ],
      "text/plain": [
       "    predict_class   prob_no  prob_yes       Sample Mineral   Pipe  \\\n",
       "46            1.0  0.030048  0.970703      Ap24D08     G10  PANDA   \n",
       "69            0.0  0.789390  0.210538      Ap27B12     G10    KIT   \n",
       "99            0.0  0.915716  0.084863      Ap27C16     G10   ZERO   \n",
       "22            1.0  0.000714  0.999324      Ap22A16     G10  KOALA   \n",
       "98            0.0  0.934076  0.066539      Ap27C15     G10   ZERO   \n",
       "\n",
       "   Diamond_High    Craton     Al      Si  ...        V7        V8        V9  \\\n",
       "46          yes     Slave  63320  193700  ... -0.007474 -0.023885  0.010023   \n",
       "69           no     Slave  61200  197500  ... -0.013621 -0.008489 -0.003711   \n",
       "99           no  Kaapvaal  61680  199900  ...  0.034158  0.003588  0.010352   \n",
       "22          yes     Slave  47380  194200  ...  0.061932  0.058572 -0.041216   \n",
       "98           no  Kaapvaal  62970  198600  ...  0.033882  0.018849  0.017274   \n",
       "\n",
       "         V10       V11       V12       V13       V14       V15           V16  \n",
       "46 -0.026713  0.011012  0.002017 -0.013905  0.000689  0.014703  7.460000e-17  \n",
       "69 -0.051720  0.014682  0.005061  0.029792  0.030321  0.001491 -1.530000e-16  \n",
       "99 -0.023214 -0.026711 -0.021886  0.034038 -0.003581  0.005569  4.860000e-17  \n",
       "22  0.010263 -0.005618  0.003408 -0.003082 -0.018811 -0.018645 -5.550000e-17  \n",
       "98  0.000256 -0.005775 -0.019607  0.019163 -0.006209  0.008645  0.000000e+00  \n",
       "\n",
       "[5 rows x 56 columns]"
      ]
     },
     "execution_count": 214,
     "metadata": {},
     "output_type": "execute_result"
    }
   ],
   "source": [
    "G10_newresults = predictions_new2.join([probabilities_new2, df])\n",
    "G10_newresults.to_csv(\"G10_newresults.csv\")\n",
    "G10_newresults.head(5)"
   ]
  },
  {
   "cell_type": "markdown",
   "metadata": {},
   "source": [
    "## Re-Split Data and Verify Results"
   ]
  },
  {
   "cell_type": "code",
   "execution_count": 215,
   "metadata": {
    "scrolled": false
   },
   "outputs": [
    {
     "data": {
      "text/plain": [
       "1"
      ]
     },
     "execution_count": 215,
     "metadata": {},
     "output_type": "execute_result"
    }
   ],
   "source": [
    "sss2 = StratifiedShuffleSplit(n_splits=1, test_size=0.5, random_state=333)\n",
    "sss2.get_n_splits(X, y['Diamond_High'])"
   ]
  },
  {
   "cell_type": "code",
   "execution_count": 216,
   "metadata": {
    "scrolled": false
   },
   "outputs": [
    {
     "name": "stdout",
     "output_type": "stream",
     "text": [
      "StratifiedShuffleSplit(n_splits=1, random_state=333, test_size=0.5,\n",
      "            train_size=None)\n"
     ]
    }
   ],
   "source": [
    "print(sss)"
   ]
  },
  {
   "cell_type": "code",
   "execution_count": 217,
   "metadata": {
    "scrolled": false
   },
   "outputs": [
    {
     "name": "stdout",
     "output_type": "stream",
     "text": [
      "TRAIN: [102   5  90   6  61  81  43   2  64  55  28  82  58  17 103 113  84  71\n",
      "  21  31  42  29  66  96  53  40  70  18  92  76  13 114 105  75  48  35\n",
      "  47  62  23  30  78  44  77   0 101  38  65  24  87  94  32  74  37 100\n",
      "  60  33  14  54] TESTVAL: [111  41  36  98  51 116  91  99  15  88   4  72 115  80 108  95  16   8\n",
      "  12  11  59  10  26   1  50 104  56  20   3  93  19  25  34  86  97  79\n",
      "  27  69  22  63  46   7 106  49 107  68 109  85   9  39  73  89 110  57\n",
      "  83 112  52  67  45]\n"
     ]
    }
   ],
   "source": [
    "for train_index, test_index in sss2.split(X, y):\n",
    "     print(\"TRAIN:\", train_index, \"TESTVAL:\", test_index)\n",
    "     X_train2, X_testval2 = X.iloc[train_index], X.iloc[test_index]\n",
    "     y_train2, y_testval2 = y.iloc[train_index], y.iloc[test_index]"
   ]
  },
  {
   "cell_type": "markdown",
   "metadata": {},
   "source": [
    "**Split testval into test and validation sets**"
   ]
  },
  {
   "cell_type": "code",
   "execution_count": 218,
   "metadata": {
    "scrolled": false
   },
   "outputs": [
    {
     "name": "stdout",
     "output_type": "stream",
     "text": [
      "TEST: [40 37  7 38  3 26 20 36 39 15  5 45 32 25 22  0 35 52 31 23 11 13 46 17\n",
      " 43 10 16 49  8] VAL: [ 9 41  6 54 34 19 48 18 56 21 53 55 44 28 24  2 33 47 29 42  4 27  1 58\n",
      " 50 14 30 12 57 51]\n"
     ]
    }
   ],
   "source": [
    "for train_index, test_index in sss.split(X_testval2, y_testval2):\n",
    "     print(\"TEST:\", train_index, \"VAL:\", test_index)\n",
    "     X_test2, X_val2 = X_testval2.iloc[train_index], X_testval2.iloc[test_index]\n",
    "     y_test2, y_val2 = y_testval2.iloc[train_index], y_testval2.iloc[test_index]"
   ]
  },
  {
   "cell_type": "code",
   "execution_count": 219,
   "metadata": {
    "scrolled": false
   },
   "outputs": [
    {
     "data": {
      "text/html": [
       "<div>\n",
       "<style scoped>\n",
       "    .dataframe tbody tr th:only-of-type {\n",
       "        vertical-align: middle;\n",
       "    }\n",
       "\n",
       "    .dataframe tbody tr th {\n",
       "        vertical-align: top;\n",
       "    }\n",
       "\n",
       "    .dataframe thead th {\n",
       "        text-align: right;\n",
       "    }\n",
       "</style>\n",
       "<table border=\"1\" class=\"dataframe\">\n",
       "  <thead>\n",
       "    <tr style=\"text-align: right;\">\n",
       "      <th></th>\n",
       "      <th>Diamond_High</th>\n",
       "    </tr>\n",
       "  </thead>\n",
       "  <tbody>\n",
       "    <tr>\n",
       "      <th>46</th>\n",
       "      <td>yes</td>\n",
       "    </tr>\n",
       "    <tr>\n",
       "      <th>69</th>\n",
       "      <td>no</td>\n",
       "    </tr>\n",
       "    <tr>\n",
       "      <th>99</th>\n",
       "      <td>no</td>\n",
       "    </tr>\n",
       "    <tr>\n",
       "      <th>22</th>\n",
       "      <td>yes</td>\n",
       "    </tr>\n",
       "    <tr>\n",
       "      <th>98</th>\n",
       "      <td>no</td>\n",
       "    </tr>\n",
       "  </tbody>\n",
       "</table>\n",
       "</div>"
      ],
      "text/plain": [
       "   Diamond_High\n",
       "46          yes\n",
       "69           no\n",
       "99           no\n",
       "22          yes\n",
       "98           no"
      ]
     },
     "execution_count": 219,
     "metadata": {},
     "output_type": "execute_result"
    }
   ],
   "source": [
    "y_test2.head(5)"
   ]
  },
  {
   "cell_type": "code",
   "execution_count": 220,
   "metadata": {
    "scrolled": false
   },
   "outputs": [
    {
     "data": {
      "text/html": [
       "<div>\n",
       "<style scoped>\n",
       "    .dataframe tbody tr th:only-of-type {\n",
       "        vertical-align: middle;\n",
       "    }\n",
       "\n",
       "    .dataframe tbody tr th {\n",
       "        vertical-align: top;\n",
       "    }\n",
       "\n",
       "    .dataframe thead th {\n",
       "        text-align: right;\n",
       "    }\n",
       "</style>\n",
       "<table border=\"1\" class=\"dataframe\">\n",
       "  <thead>\n",
       "    <tr style=\"text-align: right;\">\n",
       "      <th></th>\n",
       "      <th>Diamond_High</th>\n",
       "    </tr>\n",
       "  </thead>\n",
       "  <tbody>\n",
       "    <tr>\n",
       "      <th>88</th>\n",
       "      <td>no</td>\n",
       "    </tr>\n",
       "    <tr>\n",
       "      <th>7</th>\n",
       "      <td>yes</td>\n",
       "    </tr>\n",
       "    <tr>\n",
       "      <th>91</th>\n",
       "      <td>no</td>\n",
       "    </tr>\n",
       "    <tr>\n",
       "      <th>83</th>\n",
       "      <td>no</td>\n",
       "    </tr>\n",
       "    <tr>\n",
       "      <th>97</th>\n",
       "      <td>no</td>\n",
       "    </tr>\n",
       "  </tbody>\n",
       "</table>\n",
       "</div>"
      ],
      "text/plain": [
       "   Diamond_High\n",
       "88           no\n",
       "7           yes\n",
       "91           no\n",
       "83           no\n",
       "97           no"
      ]
     },
     "execution_count": 220,
     "metadata": {},
     "output_type": "execute_result"
    }
   ],
   "source": [
    "y_val2.head(5)"
   ]
  },
  {
   "cell_type": "markdown",
   "metadata": {},
   "source": [
    "**Next encode the categorical variablesfor diamond content, yes and no, using one hot vector multilabel. The data is split first then one hot encoded since the split function cannot handle more than one Y column.**"
   ]
  },
  {
   "cell_type": "code",
   "execution_count": 221,
   "metadata": {
    "scrolled": false
   },
   "outputs": [
    {
     "data": {
      "text/html": [
       "<div>\n",
       "<style scoped>\n",
       "    .dataframe tbody tr th:only-of-type {\n",
       "        vertical-align: middle;\n",
       "    }\n",
       "\n",
       "    .dataframe tbody tr th {\n",
       "        vertical-align: top;\n",
       "    }\n",
       "\n",
       "    .dataframe thead th {\n",
       "        text-align: right;\n",
       "    }\n",
       "</style>\n",
       "<table border=\"1\" class=\"dataframe\">\n",
       "  <thead>\n",
       "    <tr style=\"text-align: right;\">\n",
       "      <th></th>\n",
       "      <th>diamond_no</th>\n",
       "      <th>diamond_yes</th>\n",
       "    </tr>\n",
       "  </thead>\n",
       "  <tbody>\n",
       "    <tr>\n",
       "      <th>102</th>\n",
       "      <td>1</td>\n",
       "      <td>0</td>\n",
       "    </tr>\n",
       "    <tr>\n",
       "      <th>5</th>\n",
       "      <td>0</td>\n",
       "      <td>1</td>\n",
       "    </tr>\n",
       "    <tr>\n",
       "      <th>90</th>\n",
       "      <td>1</td>\n",
       "      <td>0</td>\n",
       "    </tr>\n",
       "    <tr>\n",
       "      <th>6</th>\n",
       "      <td>0</td>\n",
       "      <td>1</td>\n",
       "    </tr>\n",
       "    <tr>\n",
       "      <th>61</th>\n",
       "      <td>1</td>\n",
       "      <td>0</td>\n",
       "    </tr>\n",
       "  </tbody>\n",
       "</table>\n",
       "</div>"
      ],
      "text/plain": [
       "     diamond_no  diamond_yes\n",
       "102           1            0\n",
       "5             0            1\n",
       "90            1            0\n",
       "6             0            1\n",
       "61            1            0"
      ]
     },
     "execution_count": 221,
     "metadata": {},
     "output_type": "execute_result"
    }
   ],
   "source": [
    "y_traindm2 = pd.get_dummies(y_train2['Diamond_High'], prefix = 'diamond')\n",
    "y_traindm2.head(5)"
   ]
  },
  {
   "cell_type": "code",
   "execution_count": 222,
   "metadata": {
    "scrolled": false
   },
   "outputs": [
    {
     "data": {
      "text/html": [
       "<div>\n",
       "<style scoped>\n",
       "    .dataframe tbody tr th:only-of-type {\n",
       "        vertical-align: middle;\n",
       "    }\n",
       "\n",
       "    .dataframe tbody tr th {\n",
       "        vertical-align: top;\n",
       "    }\n",
       "\n",
       "    .dataframe thead th {\n",
       "        text-align: right;\n",
       "    }\n",
       "</style>\n",
       "<table border=\"1\" class=\"dataframe\">\n",
       "  <thead>\n",
       "    <tr style=\"text-align: right;\">\n",
       "      <th></th>\n",
       "      <th>diamond_no</th>\n",
       "      <th>diamond_yes</th>\n",
       "    </tr>\n",
       "  </thead>\n",
       "  <tbody>\n",
       "    <tr>\n",
       "      <th>88</th>\n",
       "      <td>1</td>\n",
       "      <td>0</td>\n",
       "    </tr>\n",
       "    <tr>\n",
       "      <th>7</th>\n",
       "      <td>0</td>\n",
       "      <td>1</td>\n",
       "    </tr>\n",
       "    <tr>\n",
       "      <th>91</th>\n",
       "      <td>1</td>\n",
       "      <td>0</td>\n",
       "    </tr>\n",
       "    <tr>\n",
       "      <th>83</th>\n",
       "      <td>1</td>\n",
       "      <td>0</td>\n",
       "    </tr>\n",
       "    <tr>\n",
       "      <th>97</th>\n",
       "      <td>1</td>\n",
       "      <td>0</td>\n",
       "    </tr>\n",
       "  </tbody>\n",
       "</table>\n",
       "</div>"
      ],
      "text/plain": [
       "    diamond_no  diamond_yes\n",
       "88           1            0\n",
       "7            0            1\n",
       "91           1            0\n",
       "83           1            0\n",
       "97           1            0"
      ]
     },
     "execution_count": 222,
     "metadata": {},
     "output_type": "execute_result"
    }
   ],
   "source": [
    "y_valdm2 = pd.get_dummies(y_val2['Diamond_High'], prefix = 'diamond')\n",
    "y_valdm2.head(5)"
   ]
  },
  {
   "cell_type": "code",
   "execution_count": 223,
   "metadata": {
    "scrolled": false
   },
   "outputs": [
    {
     "data": {
      "text/html": [
       "<div>\n",
       "<style scoped>\n",
       "    .dataframe tbody tr th:only-of-type {\n",
       "        vertical-align: middle;\n",
       "    }\n",
       "\n",
       "    .dataframe tbody tr th {\n",
       "        vertical-align: top;\n",
       "    }\n",
       "\n",
       "    .dataframe thead th {\n",
       "        text-align: right;\n",
       "    }\n",
       "</style>\n",
       "<table border=\"1\" class=\"dataframe\">\n",
       "  <thead>\n",
       "    <tr style=\"text-align: right;\">\n",
       "      <th></th>\n",
       "      <th>diamond_no</th>\n",
       "      <th>diamond_yes</th>\n",
       "    </tr>\n",
       "  </thead>\n",
       "  <tbody>\n",
       "    <tr>\n",
       "      <th>46</th>\n",
       "      <td>0</td>\n",
       "      <td>1</td>\n",
       "    </tr>\n",
       "    <tr>\n",
       "      <th>69</th>\n",
       "      <td>1</td>\n",
       "      <td>0</td>\n",
       "    </tr>\n",
       "    <tr>\n",
       "      <th>99</th>\n",
       "      <td>1</td>\n",
       "      <td>0</td>\n",
       "    </tr>\n",
       "    <tr>\n",
       "      <th>22</th>\n",
       "      <td>0</td>\n",
       "      <td>1</td>\n",
       "    </tr>\n",
       "    <tr>\n",
       "      <th>98</th>\n",
       "      <td>1</td>\n",
       "      <td>0</td>\n",
       "    </tr>\n",
       "  </tbody>\n",
       "</table>\n",
       "</div>"
      ],
      "text/plain": [
       "    diamond_no  diamond_yes\n",
       "46           0            1\n",
       "69           1            0\n",
       "99           1            0\n",
       "22           0            1\n",
       "98           1            0"
      ]
     },
     "execution_count": 223,
     "metadata": {},
     "output_type": "execute_result"
    }
   ],
   "source": [
    "y_testdm2 = pd.get_dummies(y_test2['Diamond_High'], prefix = 'diamond')\n",
    "y_testdm2.head(5)"
   ]
  },
  {
   "cell_type": "code",
   "execution_count": 224,
   "metadata": {
    "scrolled": false
   },
   "outputs": [
    {
     "data": {
      "text/html": [
       "<div>\n",
       "<style scoped>\n",
       "    .dataframe tbody tr th:only-of-type {\n",
       "        vertical-align: middle;\n",
       "    }\n",
       "\n",
       "    .dataframe tbody tr th {\n",
       "        vertical-align: top;\n",
       "    }\n",
       "\n",
       "    .dataframe thead th {\n",
       "        text-align: right;\n",
       "    }\n",
       "</style>\n",
       "<table border=\"1\" class=\"dataframe\">\n",
       "  <thead>\n",
       "    <tr style=\"text-align: right;\">\n",
       "      <th></th>\n",
       "      <th>Al_clr</th>\n",
       "      <th>Si_clr</th>\n",
       "      <th>Ca_clr</th>\n",
       "      <th>Sc_clr</th>\n",
       "      <th>V_clr</th>\n",
       "      <th>Mn_clr</th>\n",
       "      <th>Ba_clr</th>\n",
       "      <th>Ce_clr</th>\n",
       "      <th>Eu_clr</th>\n",
       "      <th>Gd_clr</th>\n",
       "      <th>Tb_clr</th>\n",
       "      <th>Dy_clr</th>\n",
       "      <th>Ho_clr</th>\n",
       "      <th>Tm_clr</th>\n",
       "      <th>Ta_clr</th>\n",
       "      <th>Th_clr</th>\n",
       "    </tr>\n",
       "  </thead>\n",
       "  <tbody>\n",
       "    <tr>\n",
       "      <th>88</th>\n",
       "      <td>9.049079</td>\n",
       "      <td>10.371537</td>\n",
       "      <td>7.851532</td>\n",
       "      <td>3.156868</td>\n",
       "      <td>3.183555</td>\n",
       "      <td>5.654751</td>\n",
       "      <td>-5.022932</td>\n",
       "      <td>-2.635314</td>\n",
       "      <td>-2.864155</td>\n",
       "      <td>-1.775112</td>\n",
       "      <td>-3.646914</td>\n",
       "      <td>-2.075698</td>\n",
       "      <td>-3.780446</td>\n",
       "      <td>-5.320891</td>\n",
       "      <td>-6.419503</td>\n",
       "      <td>-5.726356</td>\n",
       "    </tr>\n",
       "    <tr>\n",
       "      <th>7</th>\n",
       "      <td>9.007392</td>\n",
       "      <td>10.366308</td>\n",
       "      <td>8.219305</td>\n",
       "      <td>3.178406</td>\n",
       "      <td>3.377806</td>\n",
       "      <td>5.806025</td>\n",
       "      <td>-3.095170</td>\n",
       "      <td>0.596484</td>\n",
       "      <td>-3.095170</td>\n",
       "      <td>-2.606817</td>\n",
       "      <td>-5.292394</td>\n",
       "      <td>-4.781569</td>\n",
       "      <td>-6.391007</td>\n",
       "      <td>-6.938401</td>\n",
       "      <td>-5.292394</td>\n",
       "      <td>-3.058802</td>\n",
       "    </tr>\n",
       "    <tr>\n",
       "      <th>91</th>\n",
       "      <td>9.237227</td>\n",
       "      <td>10.512054</td>\n",
       "      <td>8.369944</td>\n",
       "      <td>2.722377</td>\n",
       "      <td>3.756917</td>\n",
       "      <td>5.691241</td>\n",
       "      <td>-4.450941</td>\n",
       "      <td>-2.812740</td>\n",
       "      <td>-2.911180</td>\n",
       "      <td>-1.835825</td>\n",
       "      <td>-4.081251</td>\n",
       "      <td>-2.564904</td>\n",
       "      <td>-4.486716</td>\n",
       "      <td>-6.278476</td>\n",
       "      <td>-4.892181</td>\n",
       "      <td>-5.975546</td>\n",
       "    </tr>\n",
       "    <tr>\n",
       "      <th>83</th>\n",
       "      <td>9.073126</td>\n",
       "      <td>10.441493</td>\n",
       "      <td>7.757175</td>\n",
       "      <td>2.981884</td>\n",
       "      <td>3.080657</td>\n",
       "      <td>5.639901</td>\n",
       "      <td>-4.950187</td>\n",
       "      <td>-2.541353</td>\n",
       "      <td>-2.946818</td>\n",
       "      <td>-1.794138</td>\n",
       "      <td>-3.783066</td>\n",
       "      <td>-2.043950</td>\n",
       "      <td>-3.950120</td>\n",
       "      <td>-4.961721</td>\n",
       "      <td>-6.348015</td>\n",
       "      <td>-5.654868</td>\n",
       "    </tr>\n",
       "    <tr>\n",
       "      <th>97</th>\n",
       "      <td>8.934203</td>\n",
       "      <td>10.153234</td>\n",
       "      <td>7.841031</td>\n",
       "      <td>2.480384</td>\n",
       "      <td>3.164722</td>\n",
       "      <td>5.358360</td>\n",
       "      <td>-3.877892</td>\n",
       "      <td>-3.012894</td>\n",
       "      <td>-2.319747</td>\n",
       "      <td>-1.317761</td>\n",
       "      <td>-3.817267</td>\n",
       "      <td>-1.950000</td>\n",
       "      <td>-3.654748</td>\n",
       "      <td>-4.704570</td>\n",
       "      <td>-6.650480</td>\n",
       "      <td>-6.626576</td>\n",
       "    </tr>\n",
       "  </tbody>\n",
       "</table>\n",
       "</div>"
      ],
      "text/plain": [
       "      Al_clr     Si_clr    Ca_clr    Sc_clr     V_clr    Mn_clr    Ba_clr  \\\n",
       "88  9.049079  10.371537  7.851532  3.156868  3.183555  5.654751 -5.022932   \n",
       "7   9.007392  10.366308  8.219305  3.178406  3.377806  5.806025 -3.095170   \n",
       "91  9.237227  10.512054  8.369944  2.722377  3.756917  5.691241 -4.450941   \n",
       "83  9.073126  10.441493  7.757175  2.981884  3.080657  5.639901 -4.950187   \n",
       "97  8.934203  10.153234  7.841031  2.480384  3.164722  5.358360 -3.877892   \n",
       "\n",
       "      Ce_clr    Eu_clr    Gd_clr    Tb_clr    Dy_clr    Ho_clr    Tm_clr  \\\n",
       "88 -2.635314 -2.864155 -1.775112 -3.646914 -2.075698 -3.780446 -5.320891   \n",
       "7   0.596484 -3.095170 -2.606817 -5.292394 -4.781569 -6.391007 -6.938401   \n",
       "91 -2.812740 -2.911180 -1.835825 -4.081251 -2.564904 -4.486716 -6.278476   \n",
       "83 -2.541353 -2.946818 -1.794138 -3.783066 -2.043950 -3.950120 -4.961721   \n",
       "97 -3.012894 -2.319747 -1.317761 -3.817267 -1.950000 -3.654748 -4.704570   \n",
       "\n",
       "      Ta_clr    Th_clr  \n",
       "88 -6.419503 -5.726356  \n",
       "7  -5.292394 -3.058802  \n",
       "91 -4.892181 -5.975546  \n",
       "83 -6.348015 -5.654868  \n",
       "97 -6.650480 -6.626576  "
      ]
     },
     "execution_count": 224,
     "metadata": {},
     "output_type": "execute_result"
    }
   ],
   "source": [
    "X_val2.head(5)"
   ]
  },
  {
   "cell_type": "code",
   "execution_count": 225,
   "metadata": {
    "scrolled": false
   },
   "outputs": [
    {
     "name": "stdout",
     "output_type": "stream",
     "text": [
      "(58, 16) (30, 16) (29, 16)\n",
      "(58, 2) (30, 2) (29, 2)\n"
     ]
    }
   ],
   "source": [
    "print(X_train2.shape, X_val2.shape, X_test2.shape)\n",
    "print(y_traindm2.shape, y_valdm2.shape, y_testdm2.shape)"
   ]
  },
  {
   "cell_type": "markdown",
   "metadata": {},
   "source": [
    "## Evaluate Model 3 with Re-Split Data and Print the Results"
   ]
  },
  {
   "cell_type": "markdown",
   "metadata": {},
   "source": [
    "**Test Accuracy**"
   ]
  },
  {
   "cell_type": "code",
   "execution_count": 226,
   "metadata": {
    "scrolled": true
   },
   "outputs": [
    {
     "name": "stdout",
     "output_type": "stream",
     "text": [
      "VIANN version 1.0 (Wellford + Mean) update per epoch\n",
      "Epoch 1/200\n",
      "1/1 [==============================] - 1s 1s/step - loss: 0.4374 - accuracy: 0.9828 - val_loss: 2.7098 - val_accuracy: 0.5000\n",
      "Epoch 2/200\n",
      "1/1 [==============================] - 0s 48ms/step - loss: 2.5734 - accuracy: 0.5000 - val_loss: 1.0206 - val_accuracy: 0.7333\n",
      "Epoch 3/200\n",
      "1/1 [==============================] - 0s 44ms/step - loss: 0.9111 - accuracy: 0.7414 - val_loss: 0.5770 - val_accuracy: 0.8667\n",
      "Epoch 4/200\n",
      "1/1 [==============================] - 0s 42ms/step - loss: 0.5547 - accuracy: 0.8966 - val_loss: 1.0821 - val_accuracy: 0.5667\n",
      "Epoch 5/200\n",
      "1/1 [==============================] - 0s 43ms/step - loss: 1.0548 - accuracy: 0.6552 - val_loss: 0.7700 - val_accuracy: 0.7333\n",
      "Epoch 6/200\n",
      "1/1 [==============================] - 0s 44ms/step - loss: 0.7422 - accuracy: 0.8103 - val_loss: 0.5291 - val_accuracy: 0.9667\n",
      "Epoch 7/200\n",
      "1/1 [==============================] - 0s 43ms/step - loss: 0.5421 - accuracy: 0.9310 - val_loss: 0.5512 - val_accuracy: 0.9333\n",
      "Epoch 8/200\n",
      "1/1 [==============================] - 0s 47ms/step - loss: 0.5952 - accuracy: 0.8621 - val_loss: 0.6152 - val_accuracy: 0.8667\n",
      "Epoch 9/200\n",
      "1/1 [==============================] - 0s 42ms/step - loss: 0.6475 - accuracy: 0.8448 - val_loss: 0.6648 - val_accuracy: 0.8000\n",
      "Epoch 10/200\n",
      "1/1 [==============================] - 0s 43ms/step - loss: 0.6621 - accuracy: 0.8276 - val_loss: 0.6886 - val_accuracy: 0.8000\n",
      "Epoch 11/200\n",
      "1/1 [==============================] - 0s 44ms/step - loss: 0.6866 - accuracy: 0.8276 - val_loss: 0.6902 - val_accuracy: 0.8000\n",
      "Epoch 12/200\n",
      "1/1 [==============================] - 0s 46ms/step - loss: 0.6981 - accuracy: 0.8276 - val_loss: 0.6789 - val_accuracy: 0.8000\n",
      "Epoch 13/200\n",
      "1/1 [==============================] - 0s 43ms/step - loss: 0.6841 - accuracy: 0.8103 - val_loss: 0.6538 - val_accuracy: 0.8667\n",
      "Epoch 14/200\n",
      "1/1 [==============================] - 0s 45ms/step - loss: 0.6689 - accuracy: 0.8103 - val_loss: 0.6314 - val_accuracy: 0.9000\n",
      "Epoch 15/200\n",
      "1/1 [==============================] - 0s 43ms/step - loss: 0.6479 - accuracy: 0.8276 - val_loss: 0.6184 - val_accuracy: 0.9000\n",
      "Epoch 16/200\n",
      "1/1 [==============================] - 0s 43ms/step - loss: 0.6392 - accuracy: 0.8448 - val_loss: 0.5958 - val_accuracy: 0.9667\n",
      "Epoch 17/200\n",
      "1/1 [==============================] - 0s 43ms/step - loss: 0.6026 - accuracy: 0.9483 - val_loss: 0.5971 - val_accuracy: 0.9333\n",
      "Epoch 18/200\n",
      "1/1 [==============================] - 0s 44ms/step - loss: 0.5974 - accuracy: 0.9310 - val_loss: 0.6002 - val_accuracy: 0.9333\n",
      "Epoch 19/200\n",
      "1/1 [==============================] - 0s 44ms/step - loss: 0.5986 - accuracy: 0.9483 - val_loss: 0.5805 - val_accuracy: 0.9333\n",
      "Epoch 20/200\n",
      "1/1 [==============================] - 0s 42ms/step - loss: 0.5744 - accuracy: 0.9310 - val_loss: 0.5342 - val_accuracy: 0.9667\n",
      "Epoch 21/200\n",
      "1/1 [==============================] - 0s 43ms/step - loss: 0.5618 - accuracy: 0.9483 - val_loss: 0.4922 - val_accuracy: 0.9667\n",
      "Epoch 22/200\n",
      "1/1 [==============================] - 0s 43ms/step - loss: 0.5544 - accuracy: 0.8966 - val_loss: 0.4677 - val_accuracy: 1.0000\n",
      "Epoch 23/200\n",
      "1/1 [==============================] - 0s 43ms/step - loss: 0.5258 - accuracy: 0.9310 - val_loss: 0.4478 - val_accuracy: 0.9667\n",
      "Epoch 24/200\n",
      "1/1 [==============================] - 0s 44ms/step - loss: 0.5240 - accuracy: 0.8966 - val_loss: 0.4413 - val_accuracy: 0.9667\n",
      "Epoch 25/200\n",
      "1/1 [==============================] - 0s 42ms/step - loss: 0.5060 - accuracy: 0.9310 - val_loss: 0.4502 - val_accuracy: 0.9667\n",
      "Epoch 26/200\n",
      "1/1 [==============================] - 0s 45ms/step - loss: 0.5078 - accuracy: 0.9310 - val_loss: 0.4300 - val_accuracy: 0.9667\n",
      "Epoch 27/200\n",
      "1/1 [==============================] - 0s 44ms/step - loss: 0.4824 - accuracy: 0.9310 - val_loss: 0.4053 - val_accuracy: 1.0000\n",
      "Epoch 28/200\n",
      "1/1 [==============================] - 0s 44ms/step - loss: 0.4799 - accuracy: 0.9310 - val_loss: 0.3997 - val_accuracy: 0.9667\n",
      "Epoch 29/200\n",
      "1/1 [==============================] - 0s 45ms/step - loss: 0.5079 - accuracy: 0.8966 - val_loss: 0.4002 - val_accuracy: 1.0000\n",
      "Epoch 30/200\n",
      "1/1 [==============================] - 0s 44ms/step - loss: 0.4838 - accuracy: 0.9310 - val_loss: 0.4280 - val_accuracy: 0.9667\n",
      "Epoch 31/200\n",
      "1/1 [==============================] - 0s 43ms/step - loss: 0.4860 - accuracy: 0.9310 - val_loss: 0.4335 - val_accuracy: 0.9667\n",
      "Epoch 32/200\n",
      "1/1 [==============================] - 0s 43ms/step - loss: 0.4719 - accuracy: 0.9483 - val_loss: 0.4071 - val_accuracy: 0.9667\n",
      "Epoch 33/200\n",
      "1/1 [==============================] - 0s 43ms/step - loss: 0.4388 - accuracy: 0.9483 - val_loss: 0.4011 - val_accuracy: 0.9667\n",
      "Epoch 34/200\n",
      "1/1 [==============================] - 0s 43ms/step - loss: 0.4546 - accuracy: 0.9655 - val_loss: 0.4032 - val_accuracy: 0.9667\n",
      "Epoch 35/200\n",
      "1/1 [==============================] - 0s 43ms/step - loss: 0.4286 - accuracy: 0.9828 - val_loss: 0.4078 - val_accuracy: 1.0000\n",
      "Epoch 36/200\n",
      "1/1 [==============================] - 0s 45ms/step - loss: 0.4337 - accuracy: 0.9828 - val_loss: 0.4213 - val_accuracy: 0.9667\n",
      "Epoch 37/200\n",
      "1/1 [==============================] - 0s 47ms/step - loss: 0.4453 - accuracy: 0.9655 - val_loss: 0.4172 - val_accuracy: 1.0000\n",
      "Epoch 38/200\n",
      "1/1 [==============================] - 0s 44ms/step - loss: 0.4256 - accuracy: 0.9828 - val_loss: 0.4116 - val_accuracy: 0.9667\n",
      "Epoch 39/200\n",
      "1/1 [==============================] - 0s 43ms/step - loss: 0.4111 - accuracy: 0.9828 - val_loss: 0.4081 - val_accuracy: 0.9667\n",
      "Epoch 40/200\n",
      "1/1 [==============================] - 0s 43ms/step - loss: 0.4255 - accuracy: 0.9655 - val_loss: 0.4169 - val_accuracy: 1.0000\n",
      "Epoch 41/200\n",
      "1/1 [==============================] - 0s 43ms/step - loss: 0.4241 - accuracy: 0.9828 - val_loss: 0.4201 - val_accuracy: 0.9667\n",
      "Epoch 42/200\n",
      "1/1 [==============================] - 0s 43ms/step - loss: 0.4236 - accuracy: 0.9655 - val_loss: 0.4033 - val_accuracy: 0.9667\n",
      "Epoch 43/200\n",
      "1/1 [==============================] - 0s 45ms/step - loss: 0.4050 - accuracy: 0.9828 - val_loss: 0.3998 - val_accuracy: 0.9667\n",
      "Epoch 44/200\n",
      "1/1 [==============================] - 0s 43ms/step - loss: 0.4043 - accuracy: 0.9828 - val_loss: 0.4030 - val_accuracy: 0.9667\n",
      "Epoch 45/200\n",
      "1/1 [==============================] - 0s 43ms/step - loss: 0.3981 - accuracy: 0.9828 - val_loss: 0.4078 - val_accuracy: 0.9667\n",
      "Epoch 46/200\n",
      "1/1 [==============================] - 0s 43ms/step - loss: 0.3975 - accuracy: 0.9828 - val_loss: 0.4031 - val_accuracy: 0.9667\n",
      "Epoch 47/200\n",
      "1/1 [==============================] - 0s 45ms/step - loss: 0.4029 - accuracy: 0.9828 - val_loss: 0.3962 - val_accuracy: 0.9667\n",
      "Epoch 48/200\n",
      "1/1 [==============================] - 0s 45ms/step - loss: 0.3975 - accuracy: 0.9828 - val_loss: 0.3982 - val_accuracy: 0.9667\n",
      "Epoch 49/200\n",
      "1/1 [==============================] - 0s 43ms/step - loss: 0.3858 - accuracy: 0.9828 - val_loss: 0.4032 - val_accuracy: 0.9667\n",
      "Epoch 50/200\n",
      "1/1 [==============================] - 0s 44ms/step - loss: 0.4128 - accuracy: 0.9655 - val_loss: 0.3953 - val_accuracy: 0.9667\n",
      "Epoch 51/200\n",
      "1/1 [==============================] - 0s 43ms/step - loss: 0.4171 - accuracy: 0.9828 - val_loss: 0.4010 - val_accuracy: 0.9667\n",
      "Epoch 52/200\n",
      "1/1 [==============================] - 0s 44ms/step - loss: 0.3912 - accuracy: 0.9828 - val_loss: 0.4158 - val_accuracy: 1.0000\n",
      "Epoch 53/200\n",
      "1/1 [==============================] - 0s 43ms/step - loss: 0.4032 - accuracy: 0.9828 - val_loss: 0.4146 - val_accuracy: 1.0000\n",
      "Epoch 54/200\n",
      "1/1 [==============================] - 0s 45ms/step - loss: 0.3864 - accuracy: 0.9828 - val_loss: 0.4008 - val_accuracy: 0.9667\n",
      "Epoch 55/200\n",
      "1/1 [==============================] - 0s 42ms/step - loss: 0.3858 - accuracy: 0.9655 - val_loss: 0.4068 - val_accuracy: 0.9667\n",
      "Epoch 56/200\n",
      "1/1 [==============================] - 0s 43ms/step - loss: 0.3982 - accuracy: 0.9655 - val_loss: 0.4146 - val_accuracy: 0.9667\n",
      "Epoch 57/200\n",
      "1/1 [==============================] - 0s 44ms/step - loss: 0.3947 - accuracy: 0.9483 - val_loss: 0.4165 - val_accuracy: 0.9667\n",
      "Epoch 58/200\n",
      "1/1 [==============================] - 0s 44ms/step - loss: 0.4075 - accuracy: 0.9483 - val_loss: 0.3951 - val_accuracy: 0.9667\n"
     ]
    },
    {
     "name": "stdout",
     "output_type": "stream",
     "text": [
      "Epoch 59/200\n",
      "1/1 [==============================] - 0s 42ms/step - loss: 0.3716 - accuracy: 0.9828 - val_loss: 0.3926 - val_accuracy: 0.9667\n",
      "Epoch 60/200\n",
      "1/1 [==============================] - 0s 44ms/step - loss: 0.3876 - accuracy: 0.9655 - val_loss: 0.4169 - val_accuracy: 0.9667\n",
      "Epoch 61/200\n",
      "1/1 [==============================] - 0s 42ms/step - loss: 0.3689 - accuracy: 0.9828 - val_loss: 0.4333 - val_accuracy: 0.9667\n",
      "Epoch 62/200\n",
      "1/1 [==============================] - 0s 43ms/step - loss: 0.4014 - accuracy: 0.9655 - val_loss: 0.3930 - val_accuracy: 0.9667\n",
      "Epoch 63/200\n",
      "1/1 [==============================] - 0s 41ms/step - loss: 0.3639 - accuracy: 0.9828 - val_loss: 0.4151 - val_accuracy: 0.9667\n",
      "Epoch 64/200\n",
      "1/1 [==============================] - 0s 43ms/step - loss: 0.3825 - accuracy: 0.9828 - val_loss: 0.3944 - val_accuracy: 0.9667\n",
      "Epoch 65/200\n",
      "1/1 [==============================] - 0s 42ms/step - loss: 0.3891 - accuracy: 0.9828 - val_loss: 0.4436 - val_accuracy: 0.9667\n",
      "Epoch 66/200\n",
      "1/1 [==============================] - 0s 44ms/step - loss: 0.4050 - accuracy: 0.9483 - val_loss: 0.3989 - val_accuracy: 0.9667\n",
      "Epoch 67/200\n",
      "1/1 [==============================] - 0s 43ms/step - loss: 0.3601 - accuracy: 1.0000 - val_loss: 0.3923 - val_accuracy: 0.9667\n",
      "Epoch 68/200\n",
      "1/1 [==============================] - 0s 43ms/step - loss: 0.3718 - accuracy: 0.9655 - val_loss: 0.3885 - val_accuracy: 0.9667\n",
      "Epoch 69/200\n",
      "1/1 [==============================] - 0s 47ms/step - loss: 0.3737 - accuracy: 0.9655 - val_loss: 0.3848 - val_accuracy: 0.9667\n",
      "Epoch 70/200\n",
      "1/1 [==============================] - 0s 42ms/step - loss: 0.3588 - accuracy: 0.9828 - val_loss: 0.3998 - val_accuracy: 0.9667\n",
      "Epoch 71/200\n",
      "1/1 [==============================] - 0s 42ms/step - loss: 0.3814 - accuracy: 0.9828 - val_loss: 0.3909 - val_accuracy: 0.9667\n",
      "Epoch 72/200\n",
      "1/1 [==============================] - 0s 44ms/step - loss: 0.3631 - accuracy: 0.9828 - val_loss: 0.3812 - val_accuracy: 0.9667\n",
      "Epoch 73/200\n",
      "1/1 [==============================] - 0s 43ms/step - loss: 0.3825 - accuracy: 0.9828 - val_loss: 0.3852 - val_accuracy: 0.9667\n",
      "Epoch 74/200\n",
      "1/1 [==============================] - 0s 42ms/step - loss: 0.3510 - accuracy: 0.9828 - val_loss: 0.3898 - val_accuracy: 0.9667\n",
      "Epoch 75/200\n",
      "1/1 [==============================] - 0s 43ms/step - loss: 0.3744 - accuracy: 0.9828 - val_loss: 0.3952 - val_accuracy: 0.9667\n",
      "Epoch 76/200\n",
      "1/1 [==============================] - 0s 42ms/step - loss: 0.3509 - accuracy: 0.9828 - val_loss: 0.3878 - val_accuracy: 0.9667\n",
      "Epoch 77/200\n",
      "1/1 [==============================] - 0s 46ms/step - loss: 0.3667 - accuracy: 0.9828 - val_loss: 0.3845 - val_accuracy: 0.9667\n",
      "Epoch 78/200\n",
      "1/1 [==============================] - 0s 43ms/step - loss: 0.3469 - accuracy: 0.9828 - val_loss: 0.3829 - val_accuracy: 0.9667\n",
      "Epoch 79/200\n",
      "1/1 [==============================] - 0s 43ms/step - loss: 0.3716 - accuracy: 0.9655 - val_loss: 0.3925 - val_accuracy: 1.0000\n",
      "Epoch 80/200\n",
      "1/1 [==============================] - 0s 44ms/step - loss: 0.3562 - accuracy: 0.9828 - val_loss: 0.3853 - val_accuracy: 1.0000\n",
      "Epoch 81/200\n",
      "1/1 [==============================] - 0s 42ms/step - loss: 0.3731 - accuracy: 0.9828 - val_loss: 0.3678 - val_accuracy: 0.9667\n",
      "Epoch 82/200\n",
      "1/1 [==============================] - 0s 46ms/step - loss: 0.3710 - accuracy: 0.9655 - val_loss: 0.3679 - val_accuracy: 0.9667\n",
      "Epoch 83/200\n",
      "1/1 [==============================] - 0s 43ms/step - loss: 0.3540 - accuracy: 0.9828 - val_loss: 0.3775 - val_accuracy: 0.9667\n",
      "Epoch 84/200\n",
      "1/1 [==============================] - 0s 42ms/step - loss: 0.3508 - accuracy: 0.9828 - val_loss: 0.3756 - val_accuracy: 0.9667\n",
      "Epoch 85/200\n",
      "1/1 [==============================] - 0s 43ms/step - loss: 0.3499 - accuracy: 0.9828 - val_loss: 0.3690 - val_accuracy: 0.9667\n",
      "Epoch 86/200\n",
      "1/1 [==============================] - 0s 42ms/step - loss: 0.3544 - accuracy: 0.9828 - val_loss: 0.3769 - val_accuracy: 0.9667\n",
      "Epoch 87/200\n",
      "1/1 [==============================] - 0s 43ms/step - loss: 0.3513 - accuracy: 0.9828 - val_loss: 0.3777 - val_accuracy: 0.9667\n",
      "Epoch 88/200\n",
      "1/1 [==============================] - 0s 42ms/step - loss: 0.3528 - accuracy: 0.9828 - val_loss: 0.3754 - val_accuracy: 0.9667\n",
      "Epoch 89/200\n",
      "1/1 [==============================] - 0s 43ms/step - loss: 0.3391 - accuracy: 1.0000 - val_loss: 0.3692 - val_accuracy: 0.9667\n",
      "Epoch 90/200\n",
      "1/1 [==============================] - 0s 42ms/step - loss: 0.3541 - accuracy: 0.9828 - val_loss: 0.3685 - val_accuracy: 0.9667\n",
      "Epoch 91/200\n",
      "1/1 [==============================] - 0s 43ms/step - loss: 0.3457 - accuracy: 0.9828 - val_loss: 0.3680 - val_accuracy: 0.9667\n",
      "Epoch 92/200\n",
      "1/1 [==============================] - 0s 46ms/step - loss: 0.3602 - accuracy: 0.9828 - val_loss: 0.3589 - val_accuracy: 0.9667\n",
      "Epoch 93/200\n",
      "1/1 [==============================] - 0s 42ms/step - loss: 0.3389 - accuracy: 0.9828 - val_loss: 0.3569 - val_accuracy: 0.9667\n",
      "Epoch 94/200\n",
      "1/1 [==============================] - 0s 42ms/step - loss: 0.3414 - accuracy: 0.9828 - val_loss: 0.3618 - val_accuracy: 0.9667\n",
      "Epoch 95/200\n",
      "1/1 [==============================] - 0s 45ms/step - loss: 0.3389 - accuracy: 0.9828 - val_loss: 0.3692 - val_accuracy: 1.0000\n",
      "Epoch 96/200\n",
      "1/1 [==============================] - 0s 46ms/step - loss: 0.3348 - accuracy: 1.0000 - val_loss: 0.3619 - val_accuracy: 0.9667\n",
      "Epoch 97/200\n",
      "1/1 [==============================] - 0s 43ms/step - loss: 0.3431 - accuracy: 0.9828 - val_loss: 0.3629 - val_accuracy: 0.9667\n",
      "Epoch 98/200\n",
      "1/1 [==============================] - 0s 43ms/step - loss: 0.3549 - accuracy: 0.9828 - val_loss: 0.3896 - val_accuracy: 1.0000\n",
      "Epoch 99/200\n",
      "1/1 [==============================] - 0s 43ms/step - loss: 0.3369 - accuracy: 1.0000 - val_loss: 0.3878 - val_accuracy: 1.0000\n",
      "Epoch 100/200\n",
      "1/1 [==============================] - 0s 42ms/step - loss: 0.3549 - accuracy: 0.9828 - val_loss: 0.3710 - val_accuracy: 0.9667\n",
      "Epoch 101/200\n",
      "1/1 [==============================] - 0s 42ms/step - loss: 0.3514 - accuracy: 0.9828 - val_loss: 0.3779 - val_accuracy: 0.9667\n",
      "Epoch 102/200\n",
      "1/1 [==============================] - 0s 41ms/step - loss: 0.3653 - accuracy: 0.9828 - val_loss: 0.3756 - val_accuracy: 0.9667\n",
      "Epoch 103/200\n",
      "1/1 [==============================] - 0s 42ms/step - loss: 0.3364 - accuracy: 0.9828 - val_loss: 0.4152 - val_accuracy: 0.9667\n",
      "Epoch 104/200\n",
      "1/1 [==============================] - 0s 44ms/step - loss: 0.3648 - accuracy: 0.9828 - val_loss: 0.3616 - val_accuracy: 0.9667\n",
      "Epoch 105/200\n",
      "1/1 [==============================] - 0s 45ms/step - loss: 0.3567 - accuracy: 0.9828 - val_loss: 0.3608 - val_accuracy: 0.9667\n",
      "Epoch 106/200\n",
      "1/1 [==============================] - 0s 42ms/step - loss: 0.3348 - accuracy: 0.9828 - val_loss: 0.3529 - val_accuracy: 0.9667\n",
      "Epoch 107/200\n",
      "1/1 [==============================] - 0s 42ms/step - loss: 0.3244 - accuracy: 0.9828 - val_loss: 0.3613 - val_accuracy: 1.0000\n",
      "Epoch 108/200\n",
      "1/1 [==============================] - 0s 42ms/step - loss: 0.3420 - accuracy: 0.9655 - val_loss: 0.3555 - val_accuracy: 0.9667\n",
      "Epoch 109/200\n",
      "1/1 [==============================] - 0s 42ms/step - loss: 0.3479 - accuracy: 0.9828 - val_loss: 0.3526 - val_accuracy: 0.9667\n",
      "Epoch 110/200\n",
      "1/1 [==============================] - 0s 46ms/step - loss: 0.3398 - accuracy: 0.9828 - val_loss: 0.3525 - val_accuracy: 0.9667\n",
      "Epoch 111/200\n",
      "1/1 [==============================] - 0s 45ms/step - loss: 0.3354 - accuracy: 0.9828 - val_loss: 0.3587 - val_accuracy: 0.9667\n",
      "Epoch 112/200\n",
      "1/1 [==============================] - 0s 43ms/step - loss: 0.3181 - accuracy: 1.0000 - val_loss: 0.3610 - val_accuracy: 0.9667\n",
      "Epoch 113/200\n",
      "1/1 [==============================] - 0s 42ms/step - loss: 0.3355 - accuracy: 0.9655 - val_loss: 0.3698 - val_accuracy: 0.9667\n",
      "Epoch 114/200\n",
      "1/1 [==============================] - 0s 43ms/step - loss: 0.3270 - accuracy: 0.9828 - val_loss: 0.3708 - val_accuracy: 0.9667\n",
      "Epoch 115/200\n",
      "1/1 [==============================] - 0s 42ms/step - loss: 0.3813 - accuracy: 0.9655 - val_loss: 0.3979 - val_accuracy: 1.0000\n",
      "Epoch 116/200\n",
      "1/1 [==============================] - 0s 42ms/step - loss: 0.3379 - accuracy: 1.0000 - val_loss: 0.3767 - val_accuracy: 0.9667\n"
     ]
    },
    {
     "name": "stdout",
     "output_type": "stream",
     "text": [
      "Epoch 117/200\n",
      "1/1 [==============================] - 0s 44ms/step - loss: 0.3387 - accuracy: 0.9828 - val_loss: 0.3659 - val_accuracy: 0.9667\n",
      "Epoch 118/200\n",
      "1/1 [==============================] - 0s 42ms/step - loss: 0.3563 - accuracy: 0.9655 - val_loss: 0.3615 - val_accuracy: 0.9667\n",
      "Epoch 119/200\n",
      "1/1 [==============================] - 0s 42ms/step - loss: 0.3214 - accuracy: 0.9828 - val_loss: 0.3697 - val_accuracy: 0.9667\n",
      "Epoch 120/200\n",
      "1/1 [==============================] - 0s 43ms/step - loss: 0.3371 - accuracy: 0.9828 - val_loss: 0.3722 - val_accuracy: 0.9667\n",
      "Epoch 121/200\n",
      "1/1 [==============================] - 0s 42ms/step - loss: 0.3261 - accuracy: 1.0000 - val_loss: 0.3561 - val_accuracy: 0.9667\n",
      "Epoch 122/200\n",
      "1/1 [==============================] - 0s 43ms/step - loss: 0.3204 - accuracy: 0.9828 - val_loss: 0.3569 - val_accuracy: 0.9667\n",
      "Epoch 123/200\n",
      "1/1 [==============================] - 0s 43ms/step - loss: 0.3186 - accuracy: 0.9828 - val_loss: 0.3558 - val_accuracy: 0.9667\n",
      "Epoch 124/200\n",
      "1/1 [==============================] - 0s 43ms/step - loss: 0.3278 - accuracy: 0.9828 - val_loss: 0.3667 - val_accuracy: 0.9667\n",
      "Epoch 125/200\n",
      "1/1 [==============================] - 0s 42ms/step - loss: 0.3455 - accuracy: 0.9655 - val_loss: 0.3574 - val_accuracy: 0.9667\n",
      "Epoch 126/200\n",
      "1/1 [==============================] - 0s 44ms/step - loss: 0.3275 - accuracy: 0.9655 - val_loss: 0.3539 - val_accuracy: 0.9667\n",
      "Epoch 127/200\n",
      "1/1 [==============================] - 0s 43ms/step - loss: 0.3232 - accuracy: 1.0000 - val_loss: 0.3537 - val_accuracy: 0.9667\n",
      "Epoch 128/200\n",
      "1/1 [==============================] - 0s 43ms/step - loss: 0.3268 - accuracy: 0.9828 - val_loss: 0.3591 - val_accuracy: 0.9333\n",
      "Epoch 129/200\n",
      "1/1 [==============================] - 0s 43ms/step - loss: 0.3143 - accuracy: 0.9828 - val_loss: 0.3616 - val_accuracy: 0.9333\n",
      "Epoch 130/200\n",
      "1/1 [==============================] - 0s 43ms/step - loss: 0.3241 - accuracy: 0.9828 - val_loss: 0.3547 - val_accuracy: 0.9667\n",
      "Epoch 131/200\n",
      "1/1 [==============================] - 0s 43ms/step - loss: 0.3293 - accuracy: 0.9828 - val_loss: 0.3549 - val_accuracy: 0.9667\n",
      "Epoch 132/200\n",
      "1/1 [==============================] - 0s 42ms/step - loss: 0.3273 - accuracy: 0.9828 - val_loss: 0.3563 - val_accuracy: 0.9667\n",
      "Epoch 133/200\n",
      "1/1 [==============================] - 0s 43ms/step - loss: 0.3176 - accuracy: 0.9828 - val_loss: 0.3590 - val_accuracy: 0.9667\n",
      "Epoch 134/200\n",
      "1/1 [==============================] - 0s 42ms/step - loss: 0.3214 - accuracy: 1.0000 - val_loss: 0.3676 - val_accuracy: 0.9667\n",
      "Epoch 135/200\n",
      "1/1 [==============================] - 0s 42ms/step - loss: 0.3394 - accuracy: 0.9655 - val_loss: 0.3552 - val_accuracy: 0.9667\n",
      "Epoch 136/200\n",
      "1/1 [==============================] - 0s 42ms/step - loss: 0.3316 - accuracy: 0.9828 - val_loss: 0.3717 - val_accuracy: 0.9667\n",
      "Epoch 137/200\n",
      "1/1 [==============================] - 0s 42ms/step - loss: 0.3418 - accuracy: 0.9655 - val_loss: 0.3646 - val_accuracy: 0.9667\n",
      "Epoch 138/200\n",
      "1/1 [==============================] - 0s 42ms/step - loss: 0.3182 - accuracy: 0.9828 - val_loss: 0.3684 - val_accuracy: 0.9667\n",
      "Epoch 139/200\n",
      "1/1 [==============================] - 0s 43ms/step - loss: 0.3300 - accuracy: 0.9828 - val_loss: 0.3481 - val_accuracy: 0.9667\n",
      "Epoch 140/200\n",
      "1/1 [==============================] - 0s 45ms/step - loss: 0.3281 - accuracy: 0.9828 - val_loss: 0.3465 - val_accuracy: 0.9667\n",
      "Epoch 141/200\n",
      "1/1 [==============================] - 0s 43ms/step - loss: 0.3297 - accuracy: 0.9828 - val_loss: 0.3590 - val_accuracy: 0.9333\n",
      "Epoch 142/200\n",
      "1/1 [==============================] - 0s 44ms/step - loss: 0.3188 - accuracy: 0.9828 - val_loss: 0.3553 - val_accuracy: 0.9667\n",
      "Epoch 143/200\n",
      "1/1 [==============================] - 0s 43ms/step - loss: 0.3330 - accuracy: 1.0000 - val_loss: 0.3622 - val_accuracy: 0.9667\n",
      "Epoch 144/200\n",
      "1/1 [==============================] - 0s 42ms/step - loss: 0.3504 - accuracy: 0.9655 - val_loss: 0.3504 - val_accuracy: 0.9667\n",
      "Epoch 145/200\n",
      "1/1 [==============================] - 0s 42ms/step - loss: 0.3275 - accuracy: 0.9655 - val_loss: 0.4225 - val_accuracy: 0.9000\n",
      "Epoch 146/200\n",
      "1/1 [==============================] - 0s 45ms/step - loss: 0.3422 - accuracy: 0.9828 - val_loss: 0.3589 - val_accuracy: 0.9667\n",
      "Epoch 147/200\n",
      "1/1 [==============================] - 0s 44ms/step - loss: 0.3295 - accuracy: 0.9828 - val_loss: 0.3747 - val_accuracy: 0.9667\n",
      "Epoch 148/200\n",
      "1/1 [==============================] - 0s 43ms/step - loss: 0.3516 - accuracy: 0.9655 - val_loss: 0.3525 - val_accuracy: 0.9667\n",
      "Epoch 149/200\n",
      "1/1 [==============================] - 0s 46ms/step - loss: 0.3158 - accuracy: 0.9828 - val_loss: 0.3717 - val_accuracy: 1.0000\n",
      "Epoch 150/200\n",
      "1/1 [==============================] - 0s 42ms/step - loss: 0.3383 - accuracy: 1.0000 - val_loss: 0.3550 - val_accuracy: 0.9667\n",
      "Epoch 151/200\n",
      "1/1 [==============================] - 0s 42ms/step - loss: 0.3203 - accuracy: 0.9828 - val_loss: 0.3543 - val_accuracy: 0.9667\n",
      "Epoch 152/200\n",
      "1/1 [==============================] - 0s 43ms/step - loss: 0.3373 - accuracy: 0.9828 - val_loss: 0.3548 - val_accuracy: 0.9667\n",
      "Epoch 153/200\n",
      "1/1 [==============================] - 0s 44ms/step - loss: 0.3128 - accuracy: 0.9828 - val_loss: 0.3580 - val_accuracy: 0.9667\n",
      "Epoch 154/200\n",
      "1/1 [==============================] - 0s 43ms/step - loss: 0.3116 - accuracy: 1.0000 - val_loss: 0.3699 - val_accuracy: 0.9667\n",
      "Epoch 155/200\n",
      "1/1 [==============================] - 0s 44ms/step - loss: 0.3278 - accuracy: 0.9828 - val_loss: 0.3516 - val_accuracy: 0.9667\n",
      "Epoch 156/200\n",
      "1/1 [==============================] - 0s 43ms/step - loss: 0.3076 - accuracy: 0.9828 - val_loss: 0.3591 - val_accuracy: 0.9667\n",
      "Epoch 157/200\n",
      "1/1 [==============================] - 0s 43ms/step - loss: 0.3128 - accuracy: 0.9828 - val_loss: 0.3503 - val_accuracy: 0.9667\n",
      "Epoch 158/200\n",
      "1/1 [==============================] - 0s 43ms/step - loss: 0.3175 - accuracy: 1.0000 - val_loss: 0.3752 - val_accuracy: 0.9667\n",
      "Epoch 159/200\n",
      "1/1 [==============================] - 0s 42ms/step - loss: 0.3172 - accuracy: 1.0000 - val_loss: 0.3581 - val_accuracy: 0.9667\n",
      "Epoch 160/200\n",
      "1/1 [==============================] - 0s 43ms/step - loss: 0.3332 - accuracy: 0.9828 - val_loss: 0.3511 - val_accuracy: 0.9667\n",
      "Epoch 161/200\n",
      "1/1 [==============================] - 0s 42ms/step - loss: 0.3239 - accuracy: 0.9828 - val_loss: 0.3510 - val_accuracy: 0.9667\n",
      "Epoch 162/200\n",
      "1/1 [==============================] - 0s 45ms/step - loss: 0.3222 - accuracy: 0.9828 - val_loss: 0.3624 - val_accuracy: 0.9667\n",
      "Epoch 163/200\n",
      "1/1 [==============================] - 0s 43ms/step - loss: 0.3067 - accuracy: 1.0000 - val_loss: 0.3594 - val_accuracy: 0.9667\n",
      "Epoch 164/200\n",
      "1/1 [==============================] - 0s 43ms/step - loss: 0.3111 - accuracy: 1.0000 - val_loss: 0.3475 - val_accuracy: 0.9667\n",
      "Epoch 165/200\n",
      "1/1 [==============================] - 0s 43ms/step - loss: 0.3079 - accuracy: 0.9828 - val_loss: 0.3441 - val_accuracy: 0.9667\n",
      "Epoch 166/200\n",
      "1/1 [==============================] - 0s 43ms/step - loss: 0.3084 - accuracy: 1.0000 - val_loss: 0.3439 - val_accuracy: 0.9667\n",
      "Epoch 167/200\n",
      "1/1 [==============================] - 0s 42ms/step - loss: 0.3183 - accuracy: 0.9828 - val_loss: 0.3428 - val_accuracy: 0.9667\n",
      "Epoch 168/200\n",
      "1/1 [==============================] - 0s 43ms/step - loss: 0.3110 - accuracy: 0.9828 - val_loss: 0.3388 - val_accuracy: 0.9667\n",
      "Epoch 169/200\n",
      "1/1 [==============================] - 0s 45ms/step - loss: 0.3093 - accuracy: 1.0000 - val_loss: 0.3410 - val_accuracy: 0.9667\n",
      "Epoch 170/200\n",
      "1/1 [==============================] - 0s 42ms/step - loss: 0.3179 - accuracy: 0.9828 - val_loss: 0.3450 - val_accuracy: 0.9667\n",
      "Epoch 171/200\n",
      "1/1 [==============================] - 0s 43ms/step - loss: 0.3088 - accuracy: 1.0000 - val_loss: 0.3383 - val_accuracy: 0.9667\n",
      "Epoch 172/200\n",
      "1/1 [==============================] - 0s 45ms/step - loss: 0.3112 - accuracy: 0.9828 - val_loss: 0.3428 - val_accuracy: 0.9667\n",
      "Epoch 173/200\n",
      "1/1 [==============================] - 0s 43ms/step - loss: 0.3193 - accuracy: 0.9655 - val_loss: 0.3469 - val_accuracy: 0.9667\n",
      "Epoch 174/200\n",
      "1/1 [==============================] - 0s 42ms/step - loss: 0.3004 - accuracy: 1.0000 - val_loss: 0.3541 - val_accuracy: 0.9667\n"
     ]
    },
    {
     "name": "stdout",
     "output_type": "stream",
     "text": [
      "Epoch 175/200\n",
      "1/1 [==============================] - 0s 43ms/step - loss: 0.3137 - accuracy: 0.9828 - val_loss: 0.3502 - val_accuracy: 0.9667\n",
      "Epoch 176/200\n",
      "1/1 [==============================] - 0s 45ms/step - loss: 0.3073 - accuracy: 0.9828 - val_loss: 0.3522 - val_accuracy: 0.9667\n",
      "Epoch 177/200\n",
      "1/1 [==============================] - 0s 42ms/step - loss: 0.3069 - accuracy: 0.9828 - val_loss: 0.3502 - val_accuracy: 0.9667\n",
      "Epoch 178/200\n",
      "1/1 [==============================] - 0s 46ms/step - loss: 0.3087 - accuracy: 0.9828 - val_loss: 0.3543 - val_accuracy: 0.9667\n",
      "Epoch 179/200\n",
      "1/1 [==============================] - 0s 45ms/step - loss: 0.3124 - accuracy: 0.9828 - val_loss: 0.3476 - val_accuracy: 0.9667\n",
      "Epoch 180/200\n",
      "1/1 [==============================] - 0s 43ms/step - loss: 0.3134 - accuracy: 0.9828 - val_loss: 0.3461 - val_accuracy: 0.9667\n",
      "Epoch 181/200\n",
      "1/1 [==============================] - 0s 42ms/step - loss: 0.3071 - accuracy: 1.0000 - val_loss: 0.3334 - val_accuracy: 0.9667\n",
      "Epoch 182/200\n",
      "1/1 [==============================] - 0s 43ms/step - loss: 0.2935 - accuracy: 1.0000 - val_loss: 0.3323 - val_accuracy: 0.9667\n",
      "Epoch 183/200\n",
      "1/1 [==============================] - 0s 45ms/step - loss: 0.2973 - accuracy: 1.0000 - val_loss: 0.3294 - val_accuracy: 0.9667\n",
      "Epoch 184/200\n",
      "1/1 [==============================] - 0s 43ms/step - loss: 0.3168 - accuracy: 0.9828 - val_loss: 0.3678 - val_accuracy: 0.9667\n",
      "Epoch 185/200\n",
      "1/1 [==============================] - 0s 44ms/step - loss: 0.3324 - accuracy: 0.9828 - val_loss: 0.3320 - val_accuracy: 0.9667\n",
      "Epoch 186/200\n",
      "1/1 [==============================] - 0s 46ms/step - loss: 0.2948 - accuracy: 1.0000 - val_loss: 0.3508 - val_accuracy: 0.9667\n",
      "Epoch 187/200\n",
      "1/1 [==============================] - 0s 47ms/step - loss: 0.3293 - accuracy: 0.9828 - val_loss: 0.3406 - val_accuracy: 0.9667\n",
      "Epoch 188/200\n",
      "1/1 [==============================] - 0s 47ms/step - loss: 0.2927 - accuracy: 1.0000 - val_loss: 0.3894 - val_accuracy: 0.9333\n",
      "Epoch 189/200\n",
      "1/1 [==============================] - 0s 46ms/step - loss: 0.3206 - accuracy: 0.9828 - val_loss: 0.3360 - val_accuracy: 0.9667\n",
      "Epoch 190/200\n",
      "1/1 [==============================] - 0s 47ms/step - loss: 0.2932 - accuracy: 1.0000 - val_loss: 0.3830 - val_accuracy: 0.9667\n",
      "Epoch 191/200\n",
      "1/1 [==============================] - 0s 44ms/step - loss: 0.3761 - accuracy: 0.9483 - val_loss: 0.3467 - val_accuracy: 1.0000\n",
      "Epoch 192/200\n",
      "1/1 [==============================] - 0s 46ms/step - loss: 0.2940 - accuracy: 1.0000 - val_loss: 0.4217 - val_accuracy: 0.9000\n",
      "Epoch 193/200\n",
      "1/1 [==============================] - 0s 45ms/step - loss: 0.3551 - accuracy: 0.9828 - val_loss: 0.3314 - val_accuracy: 0.9667\n",
      "Epoch 194/200\n",
      "1/1 [==============================] - 0s 48ms/step - loss: 0.2903 - accuracy: 1.0000 - val_loss: 0.3699 - val_accuracy: 0.9667\n",
      "Epoch 195/200\n",
      "1/1 [==============================] - 0s 47ms/step - loss: 0.3615 - accuracy: 0.9483 - val_loss: 0.3308 - val_accuracy: 0.9667\n",
      "Epoch 196/200\n",
      "1/1 [==============================] - 0s 46ms/step - loss: 0.3087 - accuracy: 0.9828 - val_loss: 0.4158 - val_accuracy: 0.9000\n",
      "Epoch 197/200\n",
      "1/1 [==============================] - 0s 44ms/step - loss: 0.3360 - accuracy: 0.9828 - val_loss: 0.3484 - val_accuracy: 1.0000\n",
      "Epoch 198/200\n",
      "1/1 [==============================] - 0s 44ms/step - loss: 0.2945 - accuracy: 1.0000 - val_loss: 0.3447 - val_accuracy: 0.9667\n",
      "Epoch 199/200\n",
      "1/1 [==============================] - 0s 47ms/step - loss: 0.2982 - accuracy: 0.9828 - val_loss: 0.3721 - val_accuracy: 0.9667\n",
      "Epoch 200/200\n",
      "1/1 [==============================] - 0s 46ms/step - loss: 0.3442 - accuracy: 0.9655 - val_loss: 0.3363 - val_accuracy: 0.9667\n",
      "Most important variables:  [ 6  7 15 14  9 13  8 12  5 10]\n"
     ]
    }
   ],
   "source": [
    "VIANN = VarImpVIANN(verbose=1)\n",
    "model_3_G10.compile(optimizer='adam',\n",
    "              loss='binary_crossentropy',\n",
    "              metrics=['accuracy'])\n",
    "hist_4 = model_3_G10.fit(X_train2, y_traindm2,\n",
    "          batch_size=58, epochs=200,\n",
    "          validation_data=(X_val2, y_valdm2), callbacks=[VIANN])"
   ]
  },
  {
   "cell_type": "code",
   "execution_count": 227,
   "metadata": {
    "scrolled": false
   },
   "outputs": [
    {
     "data": {
      "image/png": "[encoded data removed]",
      "text/plain": [
       "<Figure size 460.8x316.8 with 1 Axes>"
      ]
     },
     "metadata": {
      "needs_background": "light"
     },
     "output_type": "display_data"
    }
   ],
   "source": [
    "plt.plot(hist_4.history['loss'])\n",
    "plt.plot(hist_4.history['val_loss'])\n",
    "plt.title('Model loss')\n",
    "plt.ylabel('Loss')\n",
    "plt.xlabel('Epoch')\n",
    "plt.legend(['Train', 'Val'], loc='upper right')\n",
    "plt.ylim(top=10, bottom=0)\n",
    "plt.show()"
   ]
  },
  {
   "cell_type": "code",
   "execution_count": 228,
   "metadata": {
    "scrolled": false
   },
   "outputs": [
    {
     "data": {
      "image/png": "[encoded data removed]",
      "text/plain": [
       "<Figure size 460.8x316.8 with 1 Axes>"
      ]
     },
     "metadata": {
      "needs_background": "light"
     },
     "output_type": "display_data"
    }
   ],
   "source": [
    "plt.plot(hist_4.history['accuracy'])\n",
    "plt.plot(hist_4.history['val_accuracy'])\n",
    "plt.title('Model accuracy')\n",
    "plt.ylabel('Accuracy')\n",
    "plt.xlabel('Epoch')\n",
    "plt.legend(['Train', 'Val'], loc='lower right')\n",
    "plt.show()"
   ]
  },
  {
   "cell_type": "code",
   "execution_count": 229,
   "metadata": {
    "scrolled": false
   },
   "outputs": [
    {
     "name": "stdout",
     "output_type": "stream",
     "text": [
      "1/1 [==============================] - 0s 131ms/step - loss: 0.7955 - accuracy: 0.8276\n"
     ]
    },
    {
     "data": {
      "text/plain": [
       "0.8275862336158752"
      ]
     },
     "execution_count": 229,
     "metadata": {},
     "output_type": "execute_result"
    }
   ],
   "source": [
    "model_3_G10.evaluate(X_test2, y_testdm2)[1]"
   ]
  },
  {
   "cell_type": "markdown",
   "metadata": {},
   "source": [
    "**Re-split model loss and accuracy are consistent with previous results.**"
   ]
  },
  {
   "cell_type": "markdown",
   "metadata": {},
   "source": [
    "## Re-Split Data and Verify Results Again (Split number 3)"
   ]
  },
  {
   "cell_type": "markdown",
   "metadata": {},
   "source": [
    "**Shuffle Split**"
   ]
  },
  {
   "cell_type": "code",
   "execution_count": 230,
   "metadata": {
    "scrolled": false
   },
   "outputs": [
    {
     "data": {
      "text/plain": [
       "1"
      ]
     },
     "execution_count": 230,
     "metadata": {},
     "output_type": "execute_result"
    }
   ],
   "source": [
    "sss3 = StratifiedShuffleSplit(n_splits=1, test_size=0.5, random_state=333)\n",
    "sss3.get_n_splits(X, y['Diamond_High'])"
   ]
  },
  {
   "cell_type": "code",
   "execution_count": 231,
   "metadata": {
    "scrolled": false
   },
   "outputs": [
    {
     "name": "stdout",
     "output_type": "stream",
     "text": [
      "StratifiedShuffleSplit(n_splits=1, random_state=333, test_size=0.5,\n",
      "            train_size=None)\n"
     ]
    }
   ],
   "source": [
    "print(sss3)"
   ]
  },
  {
   "cell_type": "code",
   "execution_count": 232,
   "metadata": {
    "scrolled": false
   },
   "outputs": [
    {
     "name": "stdout",
     "output_type": "stream",
     "text": [
      "TRAIN: [102   5  90   6  61  81  43   2  64  55  28  82  58  17 103 113  84  71\n",
      "  21  31  42  29  66  96  53  40  70  18  92  76  13 114 105  75  48  35\n",
      "  47  62  23  30  78  44  77   0 101  38  65  24  87  94  32  74  37 100\n",
      "  60  33  14  54] TESTVAL: [111  41  36  98  51 116  91  99  15  88   4  72 115  80 108  95  16   8\n",
      "  12  11  59  10  26   1  50 104  56  20   3  93  19  25  34  86  97  79\n",
      "  27  69  22  63  46   7 106  49 107  68 109  85   9  39  73  89 110  57\n",
      "  83 112  52  67  45]\n"
     ]
    }
   ],
   "source": [
    "for train_index, test_index in sss3.split(X, y):\n",
    "     print(\"TRAIN:\", train_index, \"TESTVAL:\", test_index)\n",
    "     X_train3, X_testval3 = X.iloc[train_index], X.iloc[test_index]\n",
    "     y_train3, y_testval3 = y.iloc[train_index], y.iloc[test_index]"
   ]
  },
  {
   "cell_type": "markdown",
   "metadata": {},
   "source": [
    "**Split testval into test and validation sets**"
   ]
  },
  {
   "cell_type": "code",
   "execution_count": 233,
   "metadata": {
    "scrolled": false
   },
   "outputs": [
    {
     "name": "stdout",
     "output_type": "stream",
     "text": [
      "TEST: [40 37  7 38  3 26 20 36 39 15  5 45 32 25 22  0 35 52 31 23 11 13 46 17\n",
      " 43 10 16 49  8] VAL: [ 9 41  6 54 34 19 48 18 56 21 53 55 44 28 24  2 33 47 29 42  4 27  1 58\n",
      " 50 14 30 12 57 51]\n"
     ]
    }
   ],
   "source": [
    "for train_index, test_index in sss.split(X_testval3, y_testval3):\n",
    "     print(\"TEST:\", train_index, \"VAL:\", test_index)\n",
    "     X_test3, X_val3 = X_testval3.iloc[train_index], X_testval3.iloc[test_index]\n",
    "     y_test3, y_val3 = y_testval3.iloc[train_index], y_testval3.iloc[test_index]"
   ]
  },
  {
   "cell_type": "markdown",
   "metadata": {},
   "source": [
    "**Next encode the categorical variablesfor diamond content, yes and no, using one hot vector multilabel. The data is split first then one hot encoded since the split function cannot handle more than one Y column.**"
   ]
  },
  {
   "cell_type": "code",
   "execution_count": 234,
   "metadata": {
    "scrolled": false
   },
   "outputs": [
    {
     "data": {
      "text/html": [
       "<div>\n",
       "<style scoped>\n",
       "    .dataframe tbody tr th:only-of-type {\n",
       "        vertical-align: middle;\n",
       "    }\n",
       "\n",
       "    .dataframe tbody tr th {\n",
       "        vertical-align: top;\n",
       "    }\n",
       "\n",
       "    .dataframe thead th {\n",
       "        text-align: right;\n",
       "    }\n",
       "</style>\n",
       "<table border=\"1\" class=\"dataframe\">\n",
       "  <thead>\n",
       "    <tr style=\"text-align: right;\">\n",
       "      <th></th>\n",
       "      <th>diamond_no</th>\n",
       "      <th>diamond_yes</th>\n",
       "    </tr>\n",
       "  </thead>\n",
       "  <tbody>\n",
       "    <tr>\n",
       "      <th>102</th>\n",
       "      <td>1</td>\n",
       "      <td>0</td>\n",
       "    </tr>\n",
       "    <tr>\n",
       "      <th>5</th>\n",
       "      <td>0</td>\n",
       "      <td>1</td>\n",
       "    </tr>\n",
       "    <tr>\n",
       "      <th>90</th>\n",
       "      <td>1</td>\n",
       "      <td>0</td>\n",
       "    </tr>\n",
       "    <tr>\n",
       "      <th>6</th>\n",
       "      <td>0</td>\n",
       "      <td>1</td>\n",
       "    </tr>\n",
       "    <tr>\n",
       "      <th>61</th>\n",
       "      <td>1</td>\n",
       "      <td>0</td>\n",
       "    </tr>\n",
       "  </tbody>\n",
       "</table>\n",
       "</div>"
      ],
      "text/plain": [
       "     diamond_no  diamond_yes\n",
       "102           1            0\n",
       "5             0            1\n",
       "90            1            0\n",
       "6             0            1\n",
       "61            1            0"
      ]
     },
     "execution_count": 234,
     "metadata": {},
     "output_type": "execute_result"
    }
   ],
   "source": [
    "y_traindm3 = pd.get_dummies(y_train3['Diamond_High'], prefix = 'diamond')\n",
    "y_traindm3.head(5)"
   ]
  },
  {
   "cell_type": "code",
   "execution_count": 235,
   "metadata": {
    "scrolled": false
   },
   "outputs": [
    {
     "data": {
      "text/html": [
       "<div>\n",
       "<style scoped>\n",
       "    .dataframe tbody tr th:only-of-type {\n",
       "        vertical-align: middle;\n",
       "    }\n",
       "\n",
       "    .dataframe tbody tr th {\n",
       "        vertical-align: top;\n",
       "    }\n",
       "\n",
       "    .dataframe thead th {\n",
       "        text-align: right;\n",
       "    }\n",
       "</style>\n",
       "<table border=\"1\" class=\"dataframe\">\n",
       "  <thead>\n",
       "    <tr style=\"text-align: right;\">\n",
       "      <th></th>\n",
       "      <th>Al_clr</th>\n",
       "      <th>Si_clr</th>\n",
       "      <th>Ca_clr</th>\n",
       "      <th>Sc_clr</th>\n",
       "      <th>V_clr</th>\n",
       "      <th>Mn_clr</th>\n",
       "      <th>Ba_clr</th>\n",
       "      <th>Ce_clr</th>\n",
       "      <th>Eu_clr</th>\n",
       "      <th>Gd_clr</th>\n",
       "      <th>Tb_clr</th>\n",
       "      <th>Dy_clr</th>\n",
       "      <th>Ho_clr</th>\n",
       "      <th>Tm_clr</th>\n",
       "      <th>Ta_clr</th>\n",
       "      <th>Th_clr</th>\n",
       "    </tr>\n",
       "  </thead>\n",
       "  <tbody>\n",
       "    <tr>\n",
       "      <th>102</th>\n",
       "      <td>8.634042</td>\n",
       "      <td>9.837682</td>\n",
       "      <td>7.150434</td>\n",
       "      <td>2.200389</td>\n",
       "      <td>2.655832</td>\n",
       "      <td>5.107949</td>\n",
       "      <td>0.963742</td>\n",
       "      <td>-1.961925</td>\n",
       "      <td>-2.439961</td>\n",
       "      <td>-1.471303</td>\n",
       "      <td>-4.082189</td>\n",
       "      <td>-2.495224</td>\n",
       "      <td>-4.669976</td>\n",
       "      <td>-7.276130</td>\n",
       "      <td>-6.972561</td>\n",
       "      <td>-5.180801</td>\n",
       "    </tr>\n",
       "    <tr>\n",
       "      <th>5</th>\n",
       "      <td>9.141269</td>\n",
       "      <td>10.545641</td>\n",
       "      <td>8.144598</td>\n",
       "      <td>3.613494</td>\n",
       "      <td>3.597806</td>\n",
       "      <td>5.964281</td>\n",
       "      <td>-4.914462</td>\n",
       "      <td>-1.623914</td>\n",
       "      <td>-3.579977</td>\n",
       "      <td>-2.635515</td>\n",
       "      <td>-4.609596</td>\n",
       "      <td>-3.127992</td>\n",
       "      <td>-4.832740</td>\n",
       "      <td>-5.525887</td>\n",
       "      <td>-6.502921</td>\n",
       "      <td>-3.654085</td>\n",
       "    </tr>\n",
       "    <tr>\n",
       "      <th>90</th>\n",
       "      <td>9.509035</td>\n",
       "      <td>10.735878</td>\n",
       "      <td>8.317371</td>\n",
       "      <td>3.286332</td>\n",
       "      <td>3.818311</td>\n",
       "      <td>6.212093</td>\n",
       "      <td>-3.275405</td>\n",
       "      <td>-1.452874</td>\n",
       "      <td>-2.492646</td>\n",
       "      <td>-2.359115</td>\n",
       "      <td>-6.047994</td>\n",
       "      <td>-3.850769</td>\n",
       "      <td>-6.047994</td>\n",
       "      <td>-6.047994</td>\n",
       "      <td>-4.949382</td>\n",
       "      <td>-5.354847</td>\n",
       "    </tr>\n",
       "    <tr>\n",
       "      <th>6</th>\n",
       "      <td>8.894028</td>\n",
       "      <td>10.311349</td>\n",
       "      <td>8.215715</td>\n",
       "      <td>2.900612</td>\n",
       "      <td>3.423860</td>\n",
       "      <td>5.655576</td>\n",
       "      <td>-4.418343</td>\n",
       "      <td>-1.193733</td>\n",
       "      <td>-3.360186</td>\n",
       "      <td>-2.644566</td>\n",
       "      <td>-4.659469</td>\n",
       "      <td>-2.954721</td>\n",
       "      <td>-4.841790</td>\n",
       "      <td>-6.451228</td>\n",
       "      <td>-5.064934</td>\n",
       "      <td>-3.812171</td>\n",
       "    </tr>\n",
       "    <tr>\n",
       "      <th>61</th>\n",
       "      <td>10.177759</td>\n",
       "      <td>11.439041</td>\n",
       "      <td>8.635322</td>\n",
       "      <td>4.142090</td>\n",
       "      <td>4.110585</td>\n",
       "      <td>7.258458</td>\n",
       "      <td>-4.313683</td>\n",
       "      <td>-1.286953</td>\n",
       "      <td>-3.961102</td>\n",
       "      <td>-3.790373</td>\n",
       "      <td>-5.695767</td>\n",
       "      <td>-3.961102</td>\n",
       "      <td>-5.637495</td>\n",
       "      <td>-5.965224</td>\n",
       "      <td>-5.347396</td>\n",
       "      <td>-5.804159</td>\n",
       "    </tr>\n",
       "  </tbody>\n",
       "</table>\n",
       "</div>"
      ],
      "text/plain": [
       "        Al_clr     Si_clr    Ca_clr    Sc_clr     V_clr    Mn_clr    Ba_clr  \\\n",
       "102   8.634042   9.837682  7.150434  2.200389  2.655832  5.107949  0.963742   \n",
       "5     9.141269  10.545641  8.144598  3.613494  3.597806  5.964281 -4.914462   \n",
       "90    9.509035  10.735878  8.317371  3.286332  3.818311  6.212093 -3.275405   \n",
       "6     8.894028  10.311349  8.215715  2.900612  3.423860  5.655576 -4.418343   \n",
       "61   10.177759  11.439041  8.635322  4.142090  4.110585  7.258458 -4.313683   \n",
       "\n",
       "       Ce_clr    Eu_clr    Gd_clr    Tb_clr    Dy_clr    Ho_clr    Tm_clr  \\\n",
       "102 -1.961925 -2.439961 -1.471303 -4.082189 -2.495224 -4.669976 -7.276130   \n",
       "5   -1.623914 -3.579977 -2.635515 -4.609596 -3.127992 -4.832740 -5.525887   \n",
       "90  -1.452874 -2.492646 -2.359115 -6.047994 -3.850769 -6.047994 -6.047994   \n",
       "6   -1.193733 -3.360186 -2.644566 -4.659469 -2.954721 -4.841790 -6.451228   \n",
       "61  -1.286953 -3.961102 -3.790373 -5.695767 -3.961102 -5.637495 -5.965224   \n",
       "\n",
       "       Ta_clr    Th_clr  \n",
       "102 -6.972561 -5.180801  \n",
       "5   -6.502921 -3.654085  \n",
       "90  -4.949382 -5.354847  \n",
       "6   -5.064934 -3.812171  \n",
       "61  -5.347396 -5.804159  "
      ]
     },
     "execution_count": 235,
     "metadata": {},
     "output_type": "execute_result"
    }
   ],
   "source": [
    "X_train3.head(5)"
   ]
  },
  {
   "cell_type": "code",
   "execution_count": 236,
   "metadata": {
    "scrolled": false
   },
   "outputs": [
    {
     "data": {
      "text/html": [
       "<div>\n",
       "<style scoped>\n",
       "    .dataframe tbody tr th:only-of-type {\n",
       "        vertical-align: middle;\n",
       "    }\n",
       "\n",
       "    .dataframe tbody tr th {\n",
       "        vertical-align: top;\n",
       "    }\n",
       "\n",
       "    .dataframe thead th {\n",
       "        text-align: right;\n",
       "    }\n",
       "</style>\n",
       "<table border=\"1\" class=\"dataframe\">\n",
       "  <thead>\n",
       "    <tr style=\"text-align: right;\">\n",
       "      <th></th>\n",
       "      <th>diamond_no</th>\n",
       "      <th>diamond_yes</th>\n",
       "    </tr>\n",
       "  </thead>\n",
       "  <tbody>\n",
       "    <tr>\n",
       "      <th>46</th>\n",
       "      <td>0</td>\n",
       "      <td>1</td>\n",
       "    </tr>\n",
       "    <tr>\n",
       "      <th>69</th>\n",
       "      <td>1</td>\n",
       "      <td>0</td>\n",
       "    </tr>\n",
       "    <tr>\n",
       "      <th>99</th>\n",
       "      <td>1</td>\n",
       "      <td>0</td>\n",
       "    </tr>\n",
       "    <tr>\n",
       "      <th>22</th>\n",
       "      <td>0</td>\n",
       "      <td>1</td>\n",
       "    </tr>\n",
       "    <tr>\n",
       "      <th>98</th>\n",
       "      <td>1</td>\n",
       "      <td>0</td>\n",
       "    </tr>\n",
       "  </tbody>\n",
       "</table>\n",
       "</div>"
      ],
      "text/plain": [
       "    diamond_no  diamond_yes\n",
       "46           0            1\n",
       "69           1            0\n",
       "99           1            0\n",
       "22           0            1\n",
       "98           1            0"
      ]
     },
     "execution_count": 236,
     "metadata": {},
     "output_type": "execute_result"
    }
   ],
   "source": [
    "y_testdm3 = pd.get_dummies(y_test3['Diamond_High'], prefix = 'diamond')\n",
    "y_testdm3.head(5)"
   ]
  },
  {
   "cell_type": "code",
   "execution_count": 237,
   "metadata": {
    "scrolled": false
   },
   "outputs": [
    {
     "data": {
      "text/html": [
       "<div>\n",
       "<style scoped>\n",
       "    .dataframe tbody tr th:only-of-type {\n",
       "        vertical-align: middle;\n",
       "    }\n",
       "\n",
       "    .dataframe tbody tr th {\n",
       "        vertical-align: top;\n",
       "    }\n",
       "\n",
       "    .dataframe thead th {\n",
       "        text-align: right;\n",
       "    }\n",
       "</style>\n",
       "<table border=\"1\" class=\"dataframe\">\n",
       "  <thead>\n",
       "    <tr style=\"text-align: right;\">\n",
       "      <th></th>\n",
       "      <th>Al_clr</th>\n",
       "      <th>Si_clr</th>\n",
       "      <th>Ca_clr</th>\n",
       "      <th>Sc_clr</th>\n",
       "      <th>V_clr</th>\n",
       "      <th>Mn_clr</th>\n",
       "      <th>Ba_clr</th>\n",
       "      <th>Ce_clr</th>\n",
       "      <th>Eu_clr</th>\n",
       "      <th>Gd_clr</th>\n",
       "      <th>Tb_clr</th>\n",
       "      <th>Dy_clr</th>\n",
       "      <th>Ho_clr</th>\n",
       "      <th>Tm_clr</th>\n",
       "      <th>Ta_clr</th>\n",
       "      <th>Th_clr</th>\n",
       "    </tr>\n",
       "  </thead>\n",
       "  <tbody>\n",
       "    <tr>\n",
       "      <th>46</th>\n",
       "      <td>8.581826</td>\n",
       "      <td>9.699935</td>\n",
       "      <td>7.566943</td>\n",
       "      <td>2.783886</td>\n",
       "      <td>2.928547</td>\n",
       "      <td>5.307008</td>\n",
       "      <td>-1.395721</td>\n",
       "      <td>-0.840976</td>\n",
       "      <td>-3.365729</td>\n",
       "      <td>-2.325711</td>\n",
       "      <td>-4.594394</td>\n",
       "      <td>-3.167278</td>\n",
       "      <td>-5.133391</td>\n",
       "      <td>-6.386154</td>\n",
       "      <td>-5.287541</td>\n",
       "      <td>-4.371251</td>\n",
       "    </tr>\n",
       "    <tr>\n",
       "      <th>69</th>\n",
       "      <td>11.169936</td>\n",
       "      <td>12.341528</td>\n",
       "      <td>9.415699</td>\n",
       "      <td>4.104456</td>\n",
       "      <td>4.938853</td>\n",
       "      <td>8.029216</td>\n",
       "      <td>-6.992101</td>\n",
       "      <td>-3.763989</td>\n",
       "      <td>-3.857806</td>\n",
       "      <td>-2.944377</td>\n",
       "      <td>-4.457136</td>\n",
       "      <td>-3.873070</td>\n",
       "      <td>-4.651604</td>\n",
       "      <td>-3.763989</td>\n",
       "      <td>-7.015790</td>\n",
       "      <td>-8.679826</td>\n",
       "    </tr>\n",
       "    <tr>\n",
       "      <th>99</th>\n",
       "      <td>9.165122</td>\n",
       "      <td>10.340980</td>\n",
       "      <td>8.091487</td>\n",
       "      <td>2.749537</td>\n",
       "      <td>3.358462</td>\n",
       "      <td>5.584324</td>\n",
       "      <td>-5.760081</td>\n",
       "      <td>-3.137558</td>\n",
       "      <td>-1.854642</td>\n",
       "      <td>-1.122655</td>\n",
       "      <td>-3.250887</td>\n",
       "      <td>-1.724831</td>\n",
       "      <td>-3.830705</td>\n",
       "      <td>-4.272538</td>\n",
       "      <td>-7.268989</td>\n",
       "      <td>-7.067026</td>\n",
       "    </tr>\n",
       "    <tr>\n",
       "      <th>22</th>\n",
       "      <td>9.777288</td>\n",
       "      <td>11.187977</td>\n",
       "      <td>8.460690</td>\n",
       "      <td>3.316208</td>\n",
       "      <td>4.015279</td>\n",
       "      <td>6.288581</td>\n",
       "      <td>-2.502795</td>\n",
       "      <td>1.000576</td>\n",
       "      <td>-4.929093</td>\n",
       "      <td>-4.404477</td>\n",
       "      <td>-6.331797</td>\n",
       "      <td>-5.173876</td>\n",
       "      <td>-6.427465</td>\n",
       "      <td>-6.267477</td>\n",
       "      <td>-5.593837</td>\n",
       "      <td>-2.415783</td>\n",
       "    </tr>\n",
       "    <tr>\n",
       "      <th>98</th>\n",
       "      <td>9.120505</td>\n",
       "      <td>10.269139</td>\n",
       "      <td>8.044503</td>\n",
       "      <td>2.643357</td>\n",
       "      <td>3.317115</td>\n",
       "      <td>5.543160</td>\n",
       "      <td>-5.543069</td>\n",
       "      <td>-2.846200</td>\n",
       "      <td>-1.919959</td>\n",
       "      <td>-1.013618</td>\n",
       "      <td>-3.316204</td>\n",
       "      <td>-1.816580</td>\n",
       "      <td>-3.701866</td>\n",
       "      <td>-4.743320</td>\n",
       "      <td>-7.266565</td>\n",
       "      <td>-6.770397</td>\n",
       "    </tr>\n",
       "  </tbody>\n",
       "</table>\n",
       "</div>"
      ],
      "text/plain": [
       "       Al_clr     Si_clr    Ca_clr    Sc_clr     V_clr    Mn_clr    Ba_clr  \\\n",
       "46   8.581826   9.699935  7.566943  2.783886  2.928547  5.307008 -1.395721   \n",
       "69  11.169936  12.341528  9.415699  4.104456  4.938853  8.029216 -6.992101   \n",
       "99   9.165122  10.340980  8.091487  2.749537  3.358462  5.584324 -5.760081   \n",
       "22   9.777288  11.187977  8.460690  3.316208  4.015279  6.288581 -2.502795   \n",
       "98   9.120505  10.269139  8.044503  2.643357  3.317115  5.543160 -5.543069   \n",
       "\n",
       "      Ce_clr    Eu_clr    Gd_clr    Tb_clr    Dy_clr    Ho_clr    Tm_clr  \\\n",
       "46 -0.840976 -3.365729 -2.325711 -4.594394 -3.167278 -5.133391 -6.386154   \n",
       "69 -3.763989 -3.857806 -2.944377 -4.457136 -3.873070 -4.651604 -3.763989   \n",
       "99 -3.137558 -1.854642 -1.122655 -3.250887 -1.724831 -3.830705 -4.272538   \n",
       "22  1.000576 -4.929093 -4.404477 -6.331797 -5.173876 -6.427465 -6.267477   \n",
       "98 -2.846200 -1.919959 -1.013618 -3.316204 -1.816580 -3.701866 -4.743320   \n",
       "\n",
       "      Ta_clr    Th_clr  \n",
       "46 -5.287541 -4.371251  \n",
       "69 -7.015790 -8.679826  \n",
       "99 -7.268989 -7.067026  \n",
       "22 -5.593837 -2.415783  \n",
       "98 -7.266565 -6.770397  "
      ]
     },
     "execution_count": 237,
     "metadata": {},
     "output_type": "execute_result"
    }
   ],
   "source": [
    "X_test3.head(5)"
   ]
  },
  {
   "cell_type": "code",
   "execution_count": 238,
   "metadata": {
    "scrolled": false
   },
   "outputs": [
    {
     "data": {
      "text/html": [
       "<div>\n",
       "<style scoped>\n",
       "    .dataframe tbody tr th:only-of-type {\n",
       "        vertical-align: middle;\n",
       "    }\n",
       "\n",
       "    .dataframe tbody tr th {\n",
       "        vertical-align: top;\n",
       "    }\n",
       "\n",
       "    .dataframe thead th {\n",
       "        text-align: right;\n",
       "    }\n",
       "</style>\n",
       "<table border=\"1\" class=\"dataframe\">\n",
       "  <thead>\n",
       "    <tr style=\"text-align: right;\">\n",
       "      <th></th>\n",
       "      <th>diamond_no</th>\n",
       "      <th>diamond_yes</th>\n",
       "    </tr>\n",
       "  </thead>\n",
       "  <tbody>\n",
       "    <tr>\n",
       "      <th>88</th>\n",
       "      <td>1</td>\n",
       "      <td>0</td>\n",
       "    </tr>\n",
       "    <tr>\n",
       "      <th>7</th>\n",
       "      <td>0</td>\n",
       "      <td>1</td>\n",
       "    </tr>\n",
       "    <tr>\n",
       "      <th>91</th>\n",
       "      <td>1</td>\n",
       "      <td>0</td>\n",
       "    </tr>\n",
       "    <tr>\n",
       "      <th>83</th>\n",
       "      <td>1</td>\n",
       "      <td>0</td>\n",
       "    </tr>\n",
       "    <tr>\n",
       "      <th>97</th>\n",
       "      <td>1</td>\n",
       "      <td>0</td>\n",
       "    </tr>\n",
       "  </tbody>\n",
       "</table>\n",
       "</div>"
      ],
      "text/plain": [
       "    diamond_no  diamond_yes\n",
       "88           1            0\n",
       "7            0            1\n",
       "91           1            0\n",
       "83           1            0\n",
       "97           1            0"
      ]
     },
     "execution_count": 238,
     "metadata": {},
     "output_type": "execute_result"
    }
   ],
   "source": [
    "y_valdm3 = pd.get_dummies(y_val3['Diamond_High'], prefix = 'diamond')\n",
    "y_valdm3.head(5)"
   ]
  },
  {
   "cell_type": "code",
   "execution_count": 239,
   "metadata": {
    "scrolled": false
   },
   "outputs": [
    {
     "data": {
      "text/html": [
       "<div>\n",
       "<style scoped>\n",
       "    .dataframe tbody tr th:only-of-type {\n",
       "        vertical-align: middle;\n",
       "    }\n",
       "\n",
       "    .dataframe tbody tr th {\n",
       "        vertical-align: top;\n",
       "    }\n",
       "\n",
       "    .dataframe thead th {\n",
       "        text-align: right;\n",
       "    }\n",
       "</style>\n",
       "<table border=\"1\" class=\"dataframe\">\n",
       "  <thead>\n",
       "    <tr style=\"text-align: right;\">\n",
       "      <th></th>\n",
       "      <th>Al_clr</th>\n",
       "      <th>Si_clr</th>\n",
       "      <th>Ca_clr</th>\n",
       "      <th>Sc_clr</th>\n",
       "      <th>V_clr</th>\n",
       "      <th>Mn_clr</th>\n",
       "      <th>Ba_clr</th>\n",
       "      <th>Ce_clr</th>\n",
       "      <th>Eu_clr</th>\n",
       "      <th>Gd_clr</th>\n",
       "      <th>Tb_clr</th>\n",
       "      <th>Dy_clr</th>\n",
       "      <th>Ho_clr</th>\n",
       "      <th>Tm_clr</th>\n",
       "      <th>Ta_clr</th>\n",
       "      <th>Th_clr</th>\n",
       "    </tr>\n",
       "  </thead>\n",
       "  <tbody>\n",
       "    <tr>\n",
       "      <th>88</th>\n",
       "      <td>9.049079</td>\n",
       "      <td>10.371537</td>\n",
       "      <td>7.851532</td>\n",
       "      <td>3.156868</td>\n",
       "      <td>3.183555</td>\n",
       "      <td>5.654751</td>\n",
       "      <td>-5.022932</td>\n",
       "      <td>-2.635314</td>\n",
       "      <td>-2.864155</td>\n",
       "      <td>-1.775112</td>\n",
       "      <td>-3.646914</td>\n",
       "      <td>-2.075698</td>\n",
       "      <td>-3.780446</td>\n",
       "      <td>-5.320891</td>\n",
       "      <td>-6.419503</td>\n",
       "      <td>-5.726356</td>\n",
       "    </tr>\n",
       "    <tr>\n",
       "      <th>7</th>\n",
       "      <td>9.007392</td>\n",
       "      <td>10.366308</td>\n",
       "      <td>8.219305</td>\n",
       "      <td>3.178406</td>\n",
       "      <td>3.377806</td>\n",
       "      <td>5.806025</td>\n",
       "      <td>-3.095170</td>\n",
       "      <td>0.596484</td>\n",
       "      <td>-3.095170</td>\n",
       "      <td>-2.606817</td>\n",
       "      <td>-5.292394</td>\n",
       "      <td>-4.781569</td>\n",
       "      <td>-6.391007</td>\n",
       "      <td>-6.938401</td>\n",
       "      <td>-5.292394</td>\n",
       "      <td>-3.058802</td>\n",
       "    </tr>\n",
       "    <tr>\n",
       "      <th>91</th>\n",
       "      <td>9.237227</td>\n",
       "      <td>10.512054</td>\n",
       "      <td>8.369944</td>\n",
       "      <td>2.722377</td>\n",
       "      <td>3.756917</td>\n",
       "      <td>5.691241</td>\n",
       "      <td>-4.450941</td>\n",
       "      <td>-2.812740</td>\n",
       "      <td>-2.911180</td>\n",
       "      <td>-1.835825</td>\n",
       "      <td>-4.081251</td>\n",
       "      <td>-2.564904</td>\n",
       "      <td>-4.486716</td>\n",
       "      <td>-6.278476</td>\n",
       "      <td>-4.892181</td>\n",
       "      <td>-5.975546</td>\n",
       "    </tr>\n",
       "    <tr>\n",
       "      <th>83</th>\n",
       "      <td>9.073126</td>\n",
       "      <td>10.441493</td>\n",
       "      <td>7.757175</td>\n",
       "      <td>2.981884</td>\n",
       "      <td>3.080657</td>\n",
       "      <td>5.639901</td>\n",
       "      <td>-4.950187</td>\n",
       "      <td>-2.541353</td>\n",
       "      <td>-2.946818</td>\n",
       "      <td>-1.794138</td>\n",
       "      <td>-3.783066</td>\n",
       "      <td>-2.043950</td>\n",
       "      <td>-3.950120</td>\n",
       "      <td>-4.961721</td>\n",
       "      <td>-6.348015</td>\n",
       "      <td>-5.654868</td>\n",
       "    </tr>\n",
       "    <tr>\n",
       "      <th>97</th>\n",
       "      <td>8.934203</td>\n",
       "      <td>10.153234</td>\n",
       "      <td>7.841031</td>\n",
       "      <td>2.480384</td>\n",
       "      <td>3.164722</td>\n",
       "      <td>5.358360</td>\n",
       "      <td>-3.877892</td>\n",
       "      <td>-3.012894</td>\n",
       "      <td>-2.319747</td>\n",
       "      <td>-1.317761</td>\n",
       "      <td>-3.817267</td>\n",
       "      <td>-1.950000</td>\n",
       "      <td>-3.654748</td>\n",
       "      <td>-4.704570</td>\n",
       "      <td>-6.650480</td>\n",
       "      <td>-6.626576</td>\n",
       "    </tr>\n",
       "  </tbody>\n",
       "</table>\n",
       "</div>"
      ],
      "text/plain": [
       "      Al_clr     Si_clr    Ca_clr    Sc_clr     V_clr    Mn_clr    Ba_clr  \\\n",
       "88  9.049079  10.371537  7.851532  3.156868  3.183555  5.654751 -5.022932   \n",
       "7   9.007392  10.366308  8.219305  3.178406  3.377806  5.806025 -3.095170   \n",
       "91  9.237227  10.512054  8.369944  2.722377  3.756917  5.691241 -4.450941   \n",
       "83  9.073126  10.441493  7.757175  2.981884  3.080657  5.639901 -4.950187   \n",
       "97  8.934203  10.153234  7.841031  2.480384  3.164722  5.358360 -3.877892   \n",
       "\n",
       "      Ce_clr    Eu_clr    Gd_clr    Tb_clr    Dy_clr    Ho_clr    Tm_clr  \\\n",
       "88 -2.635314 -2.864155 -1.775112 -3.646914 -2.075698 -3.780446 -5.320891   \n",
       "7   0.596484 -3.095170 -2.606817 -5.292394 -4.781569 -6.391007 -6.938401   \n",
       "91 -2.812740 -2.911180 -1.835825 -4.081251 -2.564904 -4.486716 -6.278476   \n",
       "83 -2.541353 -2.946818 -1.794138 -3.783066 -2.043950 -3.950120 -4.961721   \n",
       "97 -3.012894 -2.319747 -1.317761 -3.817267 -1.950000 -3.654748 -4.704570   \n",
       "\n",
       "      Ta_clr    Th_clr  \n",
       "88 -6.419503 -5.726356  \n",
       "7  -5.292394 -3.058802  \n",
       "91 -4.892181 -5.975546  \n",
       "83 -6.348015 -5.654868  \n",
       "97 -6.650480 -6.626576  "
      ]
     },
     "execution_count": 239,
     "metadata": {},
     "output_type": "execute_result"
    }
   ],
   "source": [
    "X_val3.head(5)"
   ]
  },
  {
   "cell_type": "markdown",
   "metadata": {},
   "source": [
    "# Building and Training the Neural Network with Re-Split Data"
   ]
  },
  {
   "cell_type": "code",
   "execution_count": 240,
   "metadata": {
    "scrolled": true
   },
   "outputs": [
    {
     "name": "stdout",
     "output_type": "stream",
     "text": [
      "VIANN version 1.0 (Wellford + Mean) update per epoch\n",
      "Epoch 1/200\n",
      "1/1 [==============================] - 1s 786ms/step - loss: 0.3024 - accuracy: 0.9828 - val_loss: 1.2196 - val_accuracy: 0.6333\n",
      "Epoch 2/200\n",
      "1/1 [==============================] - 0s 47ms/step - loss: 1.3914 - accuracy: 0.6724 - val_loss: 0.4984 - val_accuracy: 0.8667\n",
      "Epoch 3/200\n",
      "1/1 [==============================] - 0s 42ms/step - loss: 0.6362 - accuracy: 0.8448 - val_loss: 0.9472 - val_accuracy: 0.7667\n",
      "Epoch 4/200\n",
      "1/1 [==============================] - 0s 43ms/step - loss: 1.0192 - accuracy: 0.7586 - val_loss: 0.7271 - val_accuracy: 0.8000\n",
      "Epoch 5/200\n",
      "1/1 [==============================] - 0s 43ms/step - loss: 0.8105 - accuracy: 0.7931 - val_loss: 0.4070 - val_accuracy: 0.9333\n",
      "Epoch 6/200\n",
      "1/1 [==============================] - 0s 45ms/step - loss: 0.4408 - accuracy: 0.8793 - val_loss: 0.3482 - val_accuracy: 0.9667\n",
      "Epoch 7/200\n",
      "1/1 [==============================] - 0s 43ms/step - loss: 0.3430 - accuracy: 0.9828 - val_loss: 0.5509 - val_accuracy: 0.8667\n",
      "Epoch 8/200\n",
      "1/1 [==============================] - 0s 43ms/step - loss: 0.5484 - accuracy: 0.8621 - val_loss: 0.5999 - val_accuracy: 0.8333\n",
      "Epoch 9/200\n",
      "1/1 [==============================] - 0s 42ms/step - loss: 0.5762 - accuracy: 0.8276 - val_loss: 0.4876 - val_accuracy: 0.8667\n",
      "Epoch 10/200\n",
      "1/1 [==============================] - 0s 44ms/step - loss: 0.4485 - accuracy: 0.8966 - val_loss: 0.4064 - val_accuracy: 1.0000\n",
      "Epoch 11/200\n",
      "1/1 [==============================] - 0s 45ms/step - loss: 0.3967 - accuracy: 0.9655 - val_loss: 0.4118 - val_accuracy: 0.9667\n",
      "Epoch 12/200\n",
      "1/1 [==============================] - 0s 43ms/step - loss: 0.4069 - accuracy: 0.9655 - val_loss: 0.4567 - val_accuracy: 0.9333\n",
      "Epoch 13/200\n",
      "1/1 [==============================] - 0s 43ms/step - loss: 0.4518 - accuracy: 0.8966 - val_loss: 0.4872 - val_accuracy: 0.9000\n",
      "Epoch 14/200\n",
      "1/1 [==============================] - 0s 44ms/step - loss: 0.4834 - accuracy: 0.8793 - val_loss: 0.4916 - val_accuracy: 0.9000\n",
      "Epoch 15/200\n",
      "1/1 [==============================] - 0s 43ms/step - loss: 0.4522 - accuracy: 0.8966 - val_loss: 0.4738 - val_accuracy: 0.9333\n",
      "Epoch 16/200\n",
      "1/1 [==============================] - 0s 44ms/step - loss: 0.4640 - accuracy: 0.8966 - val_loss: 0.4458 - val_accuracy: 0.9333\n",
      "Epoch 17/200\n",
      "1/1 [==============================] - 0s 43ms/step - loss: 0.4191 - accuracy: 0.9483 - val_loss: 0.4280 - val_accuracy: 0.9667\n",
      "Epoch 18/200\n",
      "1/1 [==============================] - 0s 42ms/step - loss: 0.4100 - accuracy: 0.9483 - val_loss: 0.4341 - val_accuracy: 1.0000\n",
      "Epoch 19/200\n",
      "1/1 [==============================] - 0s 44ms/step - loss: 0.4142 - accuracy: 0.9655 - val_loss: 0.4466 - val_accuracy: 0.9000\n",
      "Epoch 20/200\n",
      "1/1 [==============================] - 0s 44ms/step - loss: 0.4123 - accuracy: 0.9655 - val_loss: 0.4346 - val_accuracy: 0.9667\n",
      "Epoch 21/200\n",
      "1/1 [==============================] - 0s 42ms/step - loss: 0.3859 - accuracy: 0.9655 - val_loss: 0.4021 - val_accuracy: 0.9667\n",
      "Epoch 22/200\n",
      "1/1 [==============================] - 0s 43ms/step - loss: 0.3782 - accuracy: 0.9655 - val_loss: 0.3736 - val_accuracy: 0.9667\n",
      "Epoch 23/200\n",
      "1/1 [==============================] - 0s 45ms/step - loss: 0.3713 - accuracy: 0.9655 - val_loss: 0.3602 - val_accuracy: 0.9667\n",
      "Epoch 24/200\n",
      "1/1 [==============================] - 0s 43ms/step - loss: 0.3604 - accuracy: 0.9828 - val_loss: 0.3559 - val_accuracy: 0.9667\n",
      "Epoch 25/200\n",
      "1/1 [==============================] - 0s 42ms/step - loss: 0.3619 - accuracy: 0.9655 - val_loss: 0.3476 - val_accuracy: 0.9667\n",
      "Epoch 26/200\n",
      "1/1 [==============================] - 0s 42ms/step - loss: 0.3428 - accuracy: 0.9828 - val_loss: 0.3390 - val_accuracy: 0.9667\n",
      "Epoch 27/200\n",
      "1/1 [==============================] - 0s 42ms/step - loss: 0.3315 - accuracy: 0.9828 - val_loss: 0.3445 - val_accuracy: 0.9333\n",
      "Epoch 28/200\n",
      "1/1 [==============================] - 0s 43ms/step - loss: 0.3314 - accuracy: 0.9828 - val_loss: 0.3621 - val_accuracy: 0.9667\n",
      "Epoch 29/200\n",
      "1/1 [==============================] - 0s 42ms/step - loss: 0.3442 - accuracy: 0.9828 - val_loss: 0.3456 - val_accuracy: 0.9667\n",
      "Epoch 30/200\n",
      "1/1 [==============================] - 0s 45ms/step - loss: 0.3288 - accuracy: 0.9828 - val_loss: 0.3306 - val_accuracy: 0.9667\n",
      "Epoch 31/200\n",
      "1/1 [==============================] - 0s 46ms/step - loss: 0.3174 - accuracy: 0.9828 - val_loss: 0.3334 - val_accuracy: 0.9667\n",
      "Epoch 32/200\n",
      "1/1 [==============================] - 0s 44ms/step - loss: 0.3351 - accuracy: 0.9828 - val_loss: 0.3361 - val_accuracy: 0.9667\n",
      "Epoch 33/200\n",
      "1/1 [==============================] - 0s 42ms/step - loss: 0.3079 - accuracy: 0.9828 - val_loss: 0.3352 - val_accuracy: 0.9667\n",
      "Epoch 34/200\n",
      "1/1 [==============================] - 0s 42ms/step - loss: 0.2950 - accuracy: 0.9828 - val_loss: 0.3434 - val_accuracy: 0.9667\n",
      "Epoch 35/200\n",
      "1/1 [==============================] - 0s 45ms/step - loss: 0.3159 - accuracy: 0.9655 - val_loss: 0.3463 - val_accuracy: 0.9667\n",
      "Epoch 36/200\n",
      "1/1 [==============================] - 0s 42ms/step - loss: 0.3150 - accuracy: 0.9828 - val_loss: 0.3430 - val_accuracy: 0.9667\n",
      "Epoch 37/200\n",
      "1/1 [==============================] - 0s 42ms/step - loss: 0.3022 - accuracy: 1.0000 - val_loss: 0.3369 - val_accuracy: 0.9667\n",
      "Epoch 38/200\n",
      "1/1 [==============================] - 0s 45ms/step - loss: 0.3099 - accuracy: 0.9828 - val_loss: 0.3342 - val_accuracy: 0.9667\n",
      "Epoch 39/200\n",
      "1/1 [==============================] - 0s 43ms/step - loss: 0.3160 - accuracy: 0.9655 - val_loss: 0.3301 - val_accuracy: 0.9667\n",
      "Epoch 40/200\n",
      "1/1 [==============================] - 0s 43ms/step - loss: 0.3059 - accuracy: 0.9828 - val_loss: 0.3340 - val_accuracy: 0.9667\n",
      "Epoch 41/200\n",
      "1/1 [==============================] - 0s 44ms/step - loss: 0.3051 - accuracy: 0.9828 - val_loss: 0.3407 - val_accuracy: 0.9667\n",
      "Epoch 42/200\n",
      "1/1 [==============================] - 0s 46ms/step - loss: 0.3068 - accuracy: 1.0000 - val_loss: 0.3298 - val_accuracy: 0.9667\n",
      "Epoch 43/200\n",
      "1/1 [==============================] - 0s 45ms/step - loss: 0.3030 - accuracy: 0.9828 - val_loss: 0.3225 - val_accuracy: 0.9667\n",
      "Epoch 44/200\n",
      "1/1 [==============================] - 0s 42ms/step - loss: 0.2841 - accuracy: 1.0000 - val_loss: 0.3217 - val_accuracy: 0.9667\n",
      "Epoch 45/200\n",
      "1/1 [==============================] - 0s 43ms/step - loss: 0.2960 - accuracy: 0.9828 - val_loss: 0.3224 - val_accuracy: 0.9667\n",
      "Epoch 46/200\n",
      "1/1 [==============================] - 0s 45ms/step - loss: 0.3109 - accuracy: 0.9828 - val_loss: 0.3330 - val_accuracy: 0.9667\n",
      "Epoch 47/200\n",
      "1/1 [==============================] - 0s 44ms/step - loss: 0.2950 - accuracy: 0.9828 - val_loss: 0.3418 - val_accuracy: 0.9667\n",
      "Epoch 48/200\n",
      "1/1 [==============================] - 0s 42ms/step - loss: 0.3079 - accuracy: 0.9828 - val_loss: 0.3338 - val_accuracy: 0.9667\n",
      "Epoch 49/200\n",
      "1/1 [==============================] - 0s 43ms/step - loss: 0.2862 - accuracy: 0.9828 - val_loss: 0.3332 - val_accuracy: 0.9667\n",
      "Epoch 50/200\n",
      "1/1 [==============================] - 0s 46ms/step - loss: 0.2916 - accuracy: 1.0000 - val_loss: 0.3361 - val_accuracy: 0.9667\n",
      "Epoch 51/200\n",
      "1/1 [==============================] - 0s 43ms/step - loss: 0.2899 - accuracy: 1.0000 - val_loss: 0.3373 - val_accuracy: 0.9667\n",
      "Epoch 52/200\n",
      "1/1 [==============================] - 0s 42ms/step - loss: 0.2965 - accuracy: 1.0000 - val_loss: 0.3378 - val_accuracy: 0.9667\n",
      "Epoch 53/200\n",
      "1/1 [==============================] - 0s 43ms/step - loss: 0.2843 - accuracy: 1.0000 - val_loss: 0.3354 - val_accuracy: 0.9667\n",
      "Epoch 54/200\n",
      "1/1 [==============================] - 0s 43ms/step - loss: 0.2868 - accuracy: 1.0000 - val_loss: 0.3311 - val_accuracy: 0.9667\n",
      "Epoch 55/200\n",
      "1/1 [==============================] - 0s 42ms/step - loss: 0.2895 - accuracy: 1.0000 - val_loss: 0.3269 - val_accuracy: 0.9667\n",
      "Epoch 56/200\n",
      "1/1 [==============================] - 0s 43ms/step - loss: 0.2864 - accuracy: 0.9828 - val_loss: 0.3257 - val_accuracy: 0.9667\n",
      "Epoch 57/200\n",
      "1/1 [==============================] - 0s 44ms/step - loss: 0.2894 - accuracy: 0.9828 - val_loss: 0.3259 - val_accuracy: 0.9667\n",
      "Epoch 58/200\n",
      "1/1 [==============================] - 0s 43ms/step - loss: 0.2967 - accuracy: 0.9828 - val_loss: 0.3285 - val_accuracy: 0.9667\n"
     ]
    },
    {
     "name": "stdout",
     "output_type": "stream",
     "text": [
      "Epoch 59/200\n",
      "1/1 [==============================] - 0s 43ms/step - loss: 0.2820 - accuracy: 1.0000 - val_loss: 0.3305 - val_accuracy: 0.9667\n",
      "Epoch 60/200\n",
      "1/1 [==============================] - 0s 46ms/step - loss: 0.2948 - accuracy: 0.9828 - val_loss: 0.3319 - val_accuracy: 0.9667\n",
      "Epoch 61/200\n",
      "1/1 [==============================] - 0s 42ms/step - loss: 0.2877 - accuracy: 0.9828 - val_loss: 0.3294 - val_accuracy: 0.9667\n",
      "Epoch 62/200\n",
      "1/1 [==============================] - 0s 43ms/step - loss: 0.2828 - accuracy: 0.9828 - val_loss: 0.3266 - val_accuracy: 0.9667\n",
      "Epoch 63/200\n",
      "1/1 [==============================] - 0s 43ms/step - loss: 0.2850 - accuracy: 1.0000 - val_loss: 0.3252 - val_accuracy: 0.9667\n",
      "Epoch 64/200\n",
      "1/1 [==============================] - 0s 43ms/step - loss: 0.3016 - accuracy: 0.9828 - val_loss: 0.3289 - val_accuracy: 0.9667\n",
      "Epoch 65/200\n",
      "1/1 [==============================] - 0s 43ms/step - loss: 0.2918 - accuracy: 0.9828 - val_loss: 0.3405 - val_accuracy: 0.9667\n",
      "Epoch 66/200\n",
      "1/1 [==============================] - 0s 42ms/step - loss: 0.2980 - accuracy: 0.9828 - val_loss: 0.3262 - val_accuracy: 0.9667\n",
      "Epoch 67/200\n",
      "1/1 [==============================] - 0s 43ms/step - loss: 0.3006 - accuracy: 0.9828 - val_loss: 0.3233 - val_accuracy: 0.9667\n",
      "Epoch 68/200\n",
      "1/1 [==============================] - 0s 46ms/step - loss: 0.2887 - accuracy: 0.9828 - val_loss: 0.3227 - val_accuracy: 0.9667\n",
      "Epoch 69/200\n",
      "1/1 [==============================] - 0s 43ms/step - loss: 0.2879 - accuracy: 0.9828 - val_loss: 0.3283 - val_accuracy: 0.9667\n",
      "Epoch 70/200\n",
      "1/1 [==============================] - 0s 43ms/step - loss: 0.2948 - accuracy: 0.9828 - val_loss: 0.3263 - val_accuracy: 0.9667\n",
      "Epoch 71/200\n",
      "1/1 [==============================] - 0s 44ms/step - loss: 0.2835 - accuracy: 1.0000 - val_loss: 0.3239 - val_accuracy: 0.9667\n",
      "Epoch 72/200\n",
      "1/1 [==============================] - 0s 44ms/step - loss: 0.2909 - accuracy: 0.9828 - val_loss: 0.3228 - val_accuracy: 0.9667\n",
      "Epoch 73/200\n",
      "1/1 [==============================] - 0s 42ms/step - loss: 0.2843 - accuracy: 0.9828 - val_loss: 0.3240 - val_accuracy: 0.9667\n",
      "Epoch 74/200\n",
      "1/1 [==============================] - 0s 41ms/step - loss: 0.2848 - accuracy: 0.9828 - val_loss: 0.3276 - val_accuracy: 0.9667\n",
      "Epoch 75/200\n",
      "1/1 [==============================] - 0s 42ms/step - loss: 0.2841 - accuracy: 1.0000 - val_loss: 0.3274 - val_accuracy: 0.9667\n",
      "Epoch 76/200\n",
      "1/1 [==============================] - 0s 43ms/step - loss: 0.2815 - accuracy: 1.0000 - val_loss: 0.3276 - val_accuracy: 0.9667\n",
      "Epoch 77/200\n",
      "1/1 [==============================] - 0s 43ms/step - loss: 0.2794 - accuracy: 1.0000 - val_loss: 0.3230 - val_accuracy: 0.9667\n",
      "Epoch 78/200\n",
      "1/1 [==============================] - 0s 44ms/step - loss: 0.2789 - accuracy: 0.9828 - val_loss: 0.3229 - val_accuracy: 0.9667\n",
      "Epoch 79/200\n",
      "1/1 [==============================] - 0s 43ms/step - loss: 0.2870 - accuracy: 0.9828 - val_loss: 0.3267 - val_accuracy: 0.9667\n",
      "Epoch 80/200\n",
      "1/1 [==============================] - 0s 42ms/step - loss: 0.2723 - accuracy: 1.0000 - val_loss: 0.3341 - val_accuracy: 0.9667\n",
      "Epoch 81/200\n",
      "1/1 [==============================] - 0s 42ms/step - loss: 0.2912 - accuracy: 0.9828 - val_loss: 0.3321 - val_accuracy: 0.9667\n",
      "Epoch 82/200\n",
      "1/1 [==============================] - 0s 44ms/step - loss: 0.2797 - accuracy: 1.0000 - val_loss: 0.3242 - val_accuracy: 0.9667\n",
      "Epoch 83/200\n",
      "1/1 [==============================] - 0s 42ms/step - loss: 0.2877 - accuracy: 1.0000 - val_loss: 0.3221 - val_accuracy: 0.9667\n",
      "Epoch 84/200\n",
      "1/1 [==============================] - 0s 42ms/step - loss: 0.2913 - accuracy: 0.9828 - val_loss: 0.3211 - val_accuracy: 0.9667\n",
      "Epoch 85/200\n",
      "1/1 [==============================] - 0s 43ms/step - loss: 0.2791 - accuracy: 0.9828 - val_loss: 0.3272 - val_accuracy: 0.9667\n",
      "Epoch 86/200\n",
      "1/1 [==============================] - 0s 43ms/step - loss: 0.2848 - accuracy: 1.0000 - val_loss: 0.3314 - val_accuracy: 0.9667\n",
      "Epoch 87/200\n",
      "1/1 [==============================] - 0s 42ms/step - loss: 0.2820 - accuracy: 1.0000 - val_loss: 0.3212 - val_accuracy: 0.9667\n",
      "Epoch 88/200\n",
      "1/1 [==============================] - 0s 42ms/step - loss: 0.2940 - accuracy: 0.9828 - val_loss: 0.3185 - val_accuracy: 0.9667\n",
      "Epoch 89/200\n",
      "1/1 [==============================] - 0s 42ms/step - loss: 0.2673 - accuracy: 1.0000 - val_loss: 0.3181 - val_accuracy: 0.9667\n",
      "Epoch 90/200\n",
      "1/1 [==============================] - 0s 45ms/step - loss: 0.2903 - accuracy: 0.9828 - val_loss: 0.3216 - val_accuracy: 0.9667\n",
      "Epoch 91/200\n",
      "1/1 [==============================] - 0s 43ms/step - loss: 0.2806 - accuracy: 1.0000 - val_loss: 0.3234 - val_accuracy: 0.9667\n",
      "Epoch 92/200\n",
      "1/1 [==============================] - 0s 43ms/step - loss: 0.2798 - accuracy: 1.0000 - val_loss: 0.3236 - val_accuracy: 0.9667\n",
      "Epoch 93/200\n",
      "1/1 [==============================] - 0s 43ms/step - loss: 0.2865 - accuracy: 1.0000 - val_loss: 0.3186 - val_accuracy: 0.9667\n",
      "Epoch 94/200\n",
      "1/1 [==============================] - 0s 41ms/step - loss: 0.2813 - accuracy: 0.9828 - val_loss: 0.3165 - val_accuracy: 0.9667\n",
      "Epoch 95/200\n",
      "1/1 [==============================] - 0s 42ms/step - loss: 0.2832 - accuracy: 1.0000 - val_loss: 0.3155 - val_accuracy: 0.9667\n",
      "Epoch 96/200\n",
      "1/1 [==============================] - 0s 41ms/step - loss: 0.2847 - accuracy: 0.9828 - val_loss: 0.3155 - val_accuracy: 0.9667\n",
      "Epoch 97/200\n",
      "1/1 [==============================] - 0s 42ms/step - loss: 0.2858 - accuracy: 0.9828 - val_loss: 0.3436 - val_accuracy: 0.9667\n",
      "Epoch 98/200\n",
      "1/1 [==============================] - 0s 43ms/step - loss: 0.2732 - accuracy: 1.0000 - val_loss: 0.3406 - val_accuracy: 0.9667\n",
      "Epoch 99/200\n",
      "1/1 [==============================] - 0s 42ms/step - loss: 0.2812 - accuracy: 1.0000 - val_loss: 0.3176 - val_accuracy: 0.9667\n",
      "Epoch 100/200\n",
      "1/1 [==============================] - 0s 42ms/step - loss: 0.2764 - accuracy: 0.9828 - val_loss: 0.3184 - val_accuracy: 0.9667\n",
      "Epoch 101/200\n",
      "1/1 [==============================] - 0s 43ms/step - loss: 0.2986 - accuracy: 0.9828 - val_loss: 0.3182 - val_accuracy: 0.9667\n",
      "Epoch 102/200\n",
      "1/1 [==============================] - 0s 42ms/step - loss: 0.2783 - accuracy: 1.0000 - val_loss: 0.3257 - val_accuracy: 0.9667\n",
      "Epoch 103/200\n",
      "1/1 [==============================] - 0s 42ms/step - loss: 0.2725 - accuracy: 1.0000 - val_loss: 0.3374 - val_accuracy: 1.0000\n",
      "Epoch 104/200\n",
      "1/1 [==============================] - 0s 43ms/step - loss: 0.2782 - accuracy: 1.0000 - val_loss: 0.3212 - val_accuracy: 0.9667\n",
      "Epoch 105/200\n",
      "1/1 [==============================] - 0s 44ms/step - loss: 0.2778 - accuracy: 1.0000 - val_loss: 0.3164 - val_accuracy: 0.9667\n",
      "Epoch 106/200\n",
      "1/1 [==============================] - 0s 43ms/step - loss: 0.2769 - accuracy: 1.0000 - val_loss: 0.3142 - val_accuracy: 0.9667\n",
      "Epoch 107/200\n",
      "1/1 [==============================] - 0s 43ms/step - loss: 0.2753 - accuracy: 1.0000 - val_loss: 0.3136 - val_accuracy: 0.9667\n",
      "Epoch 108/200\n",
      "1/1 [==============================] - 0s 46ms/step - loss: 0.2764 - accuracy: 1.0000 - val_loss: 0.3181 - val_accuracy: 0.9667\n",
      "Epoch 109/200\n",
      "1/1 [==============================] - 0s 43ms/step - loss: 0.2794 - accuracy: 1.0000 - val_loss: 0.3125 - val_accuracy: 0.9667\n",
      "Epoch 110/200\n",
      "1/1 [==============================] - 0s 43ms/step - loss: 0.2704 - accuracy: 1.0000 - val_loss: 0.3107 - val_accuracy: 0.9667\n",
      "Epoch 111/200\n",
      "1/1 [==============================] - 0s 42ms/step - loss: 0.2721 - accuracy: 0.9828 - val_loss: 0.3129 - val_accuracy: 0.9667\n",
      "Epoch 112/200\n",
      "1/1 [==============================] - 0s 43ms/step - loss: 0.2782 - accuracy: 1.0000 - val_loss: 0.3236 - val_accuracy: 1.0000\n",
      "Epoch 113/200\n",
      "1/1 [==============================] - 0s 42ms/step - loss: 0.2698 - accuracy: 1.0000 - val_loss: 0.3157 - val_accuracy: 0.9667\n",
      "Epoch 114/200\n",
      "1/1 [==============================] - 0s 43ms/step - loss: 0.2665 - accuracy: 1.0000 - val_loss: 0.3106 - val_accuracy: 0.9667\n",
      "Epoch 115/200\n",
      "1/1 [==============================] - 0s 45ms/step - loss: 0.2742 - accuracy: 1.0000 - val_loss: 0.3127 - val_accuracy: 0.9667\n",
      "Epoch 116/200\n",
      "1/1 [==============================] - 0s 43ms/step - loss: 0.2755 - accuracy: 0.9828 - val_loss: 0.3135 - val_accuracy: 0.9667\n"
     ]
    },
    {
     "name": "stdout",
     "output_type": "stream",
     "text": [
      "Epoch 117/200\n",
      "1/1 [==============================] - 0s 42ms/step - loss: 0.2740 - accuracy: 0.9828 - val_loss: 0.3218 - val_accuracy: 0.9667\n",
      "Epoch 118/200\n",
      "1/1 [==============================] - 0s 43ms/step - loss: 0.2879 - accuracy: 0.9828 - val_loss: 0.3208 - val_accuracy: 0.9667\n",
      "Epoch 119/200\n",
      "1/1 [==============================] - 0s 43ms/step - loss: 0.2743 - accuracy: 1.0000 - val_loss: 0.3147 - val_accuracy: 0.9667\n",
      "Epoch 120/200\n",
      "1/1 [==============================] - 0s 41ms/step - loss: 0.2921 - accuracy: 1.0000 - val_loss: 0.3130 - val_accuracy: 0.9667\n",
      "Epoch 121/200\n",
      "1/1 [==============================] - 0s 42ms/step - loss: 0.2692 - accuracy: 1.0000 - val_loss: 0.3117 - val_accuracy: 0.9667\n",
      "Epoch 122/200\n",
      "1/1 [==============================] - 0s 43ms/step - loss: 0.2690 - accuracy: 1.0000 - val_loss: 0.3122 - val_accuracy: 0.9667\n",
      "Epoch 123/200\n",
      "1/1 [==============================] - 0s 43ms/step - loss: 0.2698 - accuracy: 1.0000 - val_loss: 0.3095 - val_accuracy: 0.9667\n",
      "Epoch 124/200\n",
      "1/1 [==============================] - 0s 42ms/step - loss: 0.2726 - accuracy: 0.9828 - val_loss: 0.3096 - val_accuracy: 0.9667\n",
      "Epoch 125/200\n",
      "1/1 [==============================] - 0s 45ms/step - loss: 0.2746 - accuracy: 0.9828 - val_loss: 0.3097 - val_accuracy: 0.9667\n",
      "Epoch 126/200\n",
      "1/1 [==============================] - 0s 44ms/step - loss: 0.2713 - accuracy: 1.0000 - val_loss: 0.3113 - val_accuracy: 0.9667\n",
      "Epoch 127/200\n",
      "1/1 [==============================] - 0s 42ms/step - loss: 0.2814 - accuracy: 0.9828 - val_loss: 0.3116 - val_accuracy: 0.9667\n",
      "Epoch 128/200\n",
      "1/1 [==============================] - 0s 43ms/step - loss: 0.2818 - accuracy: 0.9828 - val_loss: 0.3118 - val_accuracy: 0.9667\n",
      "Epoch 129/200\n",
      "1/1 [==============================] - 0s 44ms/step - loss: 0.2715 - accuracy: 1.0000 - val_loss: 0.3107 - val_accuracy: 0.9667\n",
      "Epoch 130/200\n",
      "1/1 [==============================] - 0s 42ms/step - loss: 0.2700 - accuracy: 1.0000 - val_loss: 0.3098 - val_accuracy: 0.9667\n",
      "Epoch 131/200\n",
      "1/1 [==============================] - 0s 42ms/step - loss: 0.2690 - accuracy: 1.0000 - val_loss: 0.3097 - val_accuracy: 0.9667\n",
      "Epoch 132/200\n",
      "1/1 [==============================] - 0s 43ms/step - loss: 0.2799 - accuracy: 1.0000 - val_loss: 0.3072 - val_accuracy: 0.9667\n",
      "Epoch 133/200\n",
      "1/1 [==============================] - 0s 45ms/step - loss: 0.2674 - accuracy: 1.0000 - val_loss: 0.3061 - val_accuracy: 0.9667\n",
      "Epoch 134/200\n",
      "1/1 [==============================] - 0s 44ms/step - loss: 0.2732 - accuracy: 1.0000 - val_loss: 0.3061 - val_accuracy: 0.9667\n",
      "Epoch 135/200\n",
      "1/1 [==============================] - 0s 42ms/step - loss: 0.2653 - accuracy: 1.0000 - val_loss: 0.3075 - val_accuracy: 0.9667\n",
      "Epoch 136/200\n",
      "1/1 [==============================] - 0s 43ms/step - loss: 0.2692 - accuracy: 1.0000 - val_loss: 0.3065 - val_accuracy: 0.9667\n",
      "Epoch 137/200\n",
      "1/1 [==============================] - 0s 43ms/step - loss: 0.2746 - accuracy: 0.9828 - val_loss: 0.3081 - val_accuracy: 0.9667\n",
      "Epoch 138/200\n",
      "1/1 [==============================] - 0s 42ms/step - loss: 0.2736 - accuracy: 1.0000 - val_loss: 0.3089 - val_accuracy: 0.9667\n",
      "Epoch 139/200\n",
      "1/1 [==============================] - 0s 43ms/step - loss: 0.2816 - accuracy: 0.9828 - val_loss: 0.3332 - val_accuracy: 1.0000\n",
      "Epoch 140/200\n",
      "1/1 [==============================] - 0s 43ms/step - loss: 0.2828 - accuracy: 0.9828 - val_loss: 0.3234 - val_accuracy: 1.0000\n",
      "Epoch 141/200\n",
      "1/1 [==============================] - 0s 42ms/step - loss: 0.2748 - accuracy: 1.0000 - val_loss: 0.3194 - val_accuracy: 1.0000\n",
      "Epoch 142/200\n",
      "1/1 [==============================] - 0s 43ms/step - loss: 0.2837 - accuracy: 1.0000 - val_loss: 0.3089 - val_accuracy: 0.9667\n",
      "Epoch 143/200\n",
      "1/1 [==============================] - 0s 43ms/step - loss: 0.2661 - accuracy: 1.0000 - val_loss: 0.3080 - val_accuracy: 0.9667\n",
      "Epoch 144/200\n",
      "1/1 [==============================] - 0s 42ms/step - loss: 0.2715 - accuracy: 0.9828 - val_loss: 0.3078 - val_accuracy: 0.9667\n",
      "Epoch 145/200\n",
      "1/1 [==============================] - 0s 41ms/step - loss: 0.2623 - accuracy: 1.0000 - val_loss: 0.3120 - val_accuracy: 0.9667\n",
      "Epoch 146/200\n",
      "1/1 [==============================] - 0s 43ms/step - loss: 0.2874 - accuracy: 0.9828 - val_loss: 0.3110 - val_accuracy: 0.9667\n",
      "Epoch 147/200\n",
      "1/1 [==============================] - 0s 42ms/step - loss: 0.2720 - accuracy: 0.9828 - val_loss: 0.3082 - val_accuracy: 0.9667\n",
      "Epoch 148/200\n",
      "1/1 [==============================] - 0s 42ms/step - loss: 0.2807 - accuracy: 0.9828 - val_loss: 0.3111 - val_accuracy: 0.9667\n",
      "Epoch 149/200\n",
      "1/1 [==============================] - 0s 45ms/step - loss: 0.2700 - accuracy: 1.0000 - val_loss: 0.3116 - val_accuracy: 0.9667\n",
      "Epoch 150/200\n",
      "1/1 [==============================] - 0s 43ms/step - loss: 0.2718 - accuracy: 1.0000 - val_loss: 0.3128 - val_accuracy: 0.9667\n",
      "Epoch 151/200\n",
      "1/1 [==============================] - 0s 44ms/step - loss: 0.2683 - accuracy: 1.0000 - val_loss: 0.3126 - val_accuracy: 0.9667\n",
      "Epoch 152/200\n",
      "1/1 [==============================] - 0s 43ms/step - loss: 0.2653 - accuracy: 1.0000 - val_loss: 0.3105 - val_accuracy: 0.9667\n",
      "Epoch 153/200\n",
      "1/1 [==============================] - 0s 43ms/step - loss: 0.2739 - accuracy: 0.9828 - val_loss: 0.3118 - val_accuracy: 0.9667\n",
      "Epoch 154/200\n",
      "1/1 [==============================] - 0s 43ms/step - loss: 0.2754 - accuracy: 0.9828 - val_loss: 0.3290 - val_accuracy: 1.0000\n",
      "Epoch 155/200\n",
      "1/1 [==============================] - 0s 43ms/step - loss: 0.2786 - accuracy: 1.0000 - val_loss: 0.3097 - val_accuracy: 0.9667\n",
      "Epoch 156/200\n",
      "1/1 [==============================] - 0s 43ms/step - loss: 0.2642 - accuracy: 1.0000 - val_loss: 0.3121 - val_accuracy: 0.9667\n",
      "Epoch 157/200\n",
      "1/1 [==============================] - 0s 43ms/step - loss: 0.2682 - accuracy: 0.9828 - val_loss: 0.3077 - val_accuracy: 0.9667\n",
      "Epoch 158/200\n",
      "1/1 [==============================] - 0s 41ms/step - loss: 0.2686 - accuracy: 1.0000 - val_loss: 0.3090 - val_accuracy: 0.9667\n",
      "Epoch 159/200\n",
      "1/1 [==============================] - 0s 43ms/step - loss: 0.2788 - accuracy: 0.9828 - val_loss: 0.3168 - val_accuracy: 1.0000\n",
      "Epoch 160/200\n",
      "1/1 [==============================] - 0s 43ms/step - loss: 0.2736 - accuracy: 0.9828 - val_loss: 0.3098 - val_accuracy: 0.9667\n",
      "Epoch 161/200\n",
      "1/1 [==============================] - 0s 43ms/step - loss: 0.2771 - accuracy: 1.0000 - val_loss: 0.3068 - val_accuracy: 0.9667\n",
      "Epoch 162/200\n",
      "1/1 [==============================] - 0s 43ms/step - loss: 0.2755 - accuracy: 0.9828 - val_loss: 0.3098 - val_accuracy: 0.9667\n",
      "Epoch 163/200\n",
      "1/1 [==============================] - 0s 43ms/step - loss: 0.2718 - accuracy: 1.0000 - val_loss: 0.3181 - val_accuracy: 1.0000\n",
      "Epoch 164/200\n",
      "1/1 [==============================] - 0s 41ms/step - loss: 0.2694 - accuracy: 1.0000 - val_loss: 0.3197 - val_accuracy: 1.0000\n",
      "Epoch 165/200\n",
      "1/1 [==============================] - 0s 43ms/step - loss: 0.2716 - accuracy: 1.0000 - val_loss: 0.3061 - val_accuracy: 0.9667\n",
      "Epoch 166/200\n",
      "1/1 [==============================] - 0s 43ms/step - loss: 0.2683 - accuracy: 1.0000 - val_loss: 0.3077 - val_accuracy: 0.9667\n",
      "Epoch 167/200\n",
      "1/1 [==============================] - 0s 42ms/step - loss: 0.2726 - accuracy: 1.0000 - val_loss: 0.3024 - val_accuracy: 0.9667\n",
      "Epoch 168/200\n",
      "1/1 [==============================] - 0s 42ms/step - loss: 0.2677 - accuracy: 0.9828 - val_loss: 0.3209 - val_accuracy: 0.9667\n",
      "Epoch 169/200\n",
      "1/1 [==============================] - 0s 43ms/step - loss: 0.2829 - accuracy: 1.0000 - val_loss: 0.3045 - val_accuracy: 0.9667\n",
      "Epoch 170/200\n",
      "1/1 [==============================] - 0s 43ms/step - loss: 0.2663 - accuracy: 0.9828 - val_loss: 0.3036 - val_accuracy: 0.9667\n",
      "Epoch 171/200\n",
      "1/1 [==============================] - 0s 42ms/step - loss: 0.2737 - accuracy: 0.9828 - val_loss: 0.3054 - val_accuracy: 0.9667\n",
      "Epoch 172/200\n",
      "1/1 [==============================] - 0s 43ms/step - loss: 0.2693 - accuracy: 0.9828 - val_loss: 0.3195 - val_accuracy: 1.0000\n",
      "Epoch 173/200\n",
      "1/1 [==============================] - 0s 46ms/step - loss: 0.2693 - accuracy: 1.0000 - val_loss: 0.3196 - val_accuracy: 1.0000\n",
      "Epoch 174/200\n",
      "1/1 [==============================] - 0s 41ms/step - loss: 0.2678 - accuracy: 1.0000 - val_loss: 0.3065 - val_accuracy: 0.9667\n"
     ]
    },
    {
     "name": "stdout",
     "output_type": "stream",
     "text": [
      "Epoch 175/200\n",
      "1/1 [==============================] - 0s 43ms/step - loss: 0.2711 - accuracy: 1.0000 - val_loss: 0.3030 - val_accuracy: 0.9667\n",
      "Epoch 176/200\n",
      "1/1 [==============================] - 0s 43ms/step - loss: 0.2572 - accuracy: 1.0000 - val_loss: 0.3003 - val_accuracy: 0.9667\n",
      "Epoch 177/200\n",
      "1/1 [==============================] - 0s 44ms/step - loss: 0.2664 - accuracy: 1.0000 - val_loss: 0.3014 - val_accuracy: 0.9667\n",
      "Epoch 178/200\n",
      "1/1 [==============================] - 0s 43ms/step - loss: 0.2631 - accuracy: 1.0000 - val_loss: 0.3034 - val_accuracy: 0.9667\n",
      "Epoch 179/200\n",
      "1/1 [==============================] - 0s 42ms/step - loss: 0.2646 - accuracy: 0.9828 - val_loss: 0.3041 - val_accuracy: 0.9667\n",
      "Epoch 180/200\n",
      "1/1 [==============================] - 0s 44ms/step - loss: 0.2700 - accuracy: 1.0000 - val_loss: 0.3003 - val_accuracy: 0.9667\n",
      "Epoch 181/200\n",
      "1/1 [==============================] - 0s 44ms/step - loss: 0.2726 - accuracy: 0.9828 - val_loss: 0.3033 - val_accuracy: 0.9667\n",
      "Epoch 182/200\n",
      "1/1 [==============================] - 0s 44ms/step - loss: 0.2608 - accuracy: 1.0000 - val_loss: 0.3087 - val_accuracy: 0.9667\n",
      "Epoch 183/200\n",
      "1/1 [==============================] - 0s 42ms/step - loss: 0.2664 - accuracy: 1.0000 - val_loss: 0.3074 - val_accuracy: 0.9667\n",
      "Epoch 184/200\n",
      "1/1 [==============================] - 0s 43ms/step - loss: 0.2689 - accuracy: 0.9828 - val_loss: 0.3090 - val_accuracy: 0.9667\n",
      "Epoch 185/200\n",
      "1/1 [==============================] - 0s 44ms/step - loss: 0.2762 - accuracy: 0.9828 - val_loss: 0.3107 - val_accuracy: 0.9667\n",
      "Epoch 186/200\n",
      "1/1 [==============================] - 0s 43ms/step - loss: 0.2684 - accuracy: 1.0000 - val_loss: 0.3109 - val_accuracy: 0.9667\n",
      "Epoch 187/200\n",
      "1/1 [==============================] - 0s 43ms/step - loss: 0.2732 - accuracy: 1.0000 - val_loss: 0.3051 - val_accuracy: 0.9667\n",
      "Epoch 188/200\n",
      "1/1 [==============================] - 0s 43ms/step - loss: 0.2729 - accuracy: 1.0000 - val_loss: 0.3019 - val_accuracy: 0.9667\n",
      "Epoch 189/200\n",
      "1/1 [==============================] - 0s 42ms/step - loss: 0.2720 - accuracy: 0.9828 - val_loss: 0.3116 - val_accuracy: 1.0000\n",
      "Epoch 190/200\n",
      "1/1 [==============================] - 0s 43ms/step - loss: 0.2623 - accuracy: 1.0000 - val_loss: 0.3082 - val_accuracy: 1.0000\n",
      "Epoch 191/200\n",
      "1/1 [==============================] - 0s 43ms/step - loss: 0.2662 - accuracy: 1.0000 - val_loss: 0.2985 - val_accuracy: 0.9667\n",
      "Epoch 192/200\n",
      "1/1 [==============================] - 0s 43ms/step - loss: 0.2714 - accuracy: 0.9828 - val_loss: 0.2980 - val_accuracy: 0.9667\n",
      "Epoch 193/200\n",
      "1/1 [==============================] - 0s 43ms/step - loss: 0.2719 - accuracy: 0.9828 - val_loss: 0.3031 - val_accuracy: 0.9667\n",
      "Epoch 194/200\n",
      "1/1 [==============================] - 0s 44ms/step - loss: 0.2715 - accuracy: 0.9828 - val_loss: 0.3066 - val_accuracy: 0.9667\n",
      "Epoch 195/200\n",
      "1/1 [==============================] - 0s 43ms/step - loss: 0.2640 - accuracy: 1.0000 - val_loss: 0.3087 - val_accuracy: 0.9667\n",
      "Epoch 196/200\n",
      "1/1 [==============================] - 0s 43ms/step - loss: 0.2682 - accuracy: 1.0000 - val_loss: 0.3096 - val_accuracy: 0.9667\n",
      "Epoch 197/200\n",
      "1/1 [==============================] - 0s 43ms/step - loss: 0.2727 - accuracy: 0.9828 - val_loss: 0.3106 - val_accuracy: 0.9667\n",
      "Epoch 198/200\n",
      "1/1 [==============================] - 0s 42ms/step - loss: 0.2716 - accuracy: 1.0000 - val_loss: 0.3067 - val_accuracy: 0.9667\n",
      "Epoch 199/200\n",
      "1/1 [==============================] - 0s 42ms/step - loss: 0.2651 - accuracy: 1.0000 - val_loss: 0.3078 - val_accuracy: 0.9667\n",
      "Epoch 200/200\n",
      "1/1 [==============================] - 0s 41ms/step - loss: 0.2636 - accuracy: 1.0000 - val_loss: 0.3004 - val_accuracy: 0.9667\n",
      "Most important variables:  [ 6 15 14  9  8  7 13  5  3 10]\n"
     ]
    }
   ],
   "source": [
    "VIANN = VarImpVIANN(verbose=1)\n",
    "model_3_G10.compile(optimizer='adam',\n",
    "              loss='binary_crossentropy',\n",
    "              metrics=['accuracy'])\n",
    "hist_5 = model_3_G10.fit(X_train3, y_traindm3,\n",
    "          batch_size=58, epochs=200,\n",
    "          validation_data=(X_val3, y_valdm3), callbacks=[VIANN])"
   ]
  },
  {
   "cell_type": "markdown",
   "metadata": {},
   "source": [
    "#### Visualize the loss and accuracy graphs for Split 3."
   ]
  },
  {
   "cell_type": "code",
   "execution_count": 241,
   "metadata": {
    "scrolled": false
   },
   "outputs": [
    {
     "data": {
      "image/png": "[encoded data removed]",
      "text/plain": [
       "<Figure size 460.8x316.8 with 1 Axes>"
      ]
     },
     "metadata": {
      "needs_background": "light"
     },
     "output_type": "display_data"
    }
   ],
   "source": [
    "plt.plot(hist_5.history['loss'])\n",
    "plt.plot(hist_5.history['val_loss'])\n",
    "plt.title('Model loss')\n",
    "plt.ylabel('Loss')\n",
    "plt.xlabel('Epoch')\n",
    "plt.legend(['Train', 'Val'], loc='upper right')\n",
    "plt.ylim(top=2, bottom=0)\n",
    "plt.show()"
   ]
  },
  {
   "cell_type": "code",
   "execution_count": 242,
   "metadata": {
    "scrolled": false
   },
   "outputs": [
    {
     "data": {
      "image/png": "[encoded data removed]",
      "text/plain": [
       "<Figure size 460.8x316.8 with 1 Axes>"
      ]
     },
     "metadata": {
      "needs_background": "light"
     },
     "output_type": "display_data"
    }
   ],
   "source": [
    "plt.plot(hist_5.history['accuracy'])\n",
    "plt.plot(hist_5.history['val_accuracy'])\n",
    "plt.title('Model accuracy')\n",
    "plt.ylabel('Accuracy')\n",
    "plt.xlabel('Epoch')\n",
    "plt.legend(['Train', 'Val'], loc='lower right')\n",
    "plt.show()"
   ]
  },
  {
   "cell_type": "markdown",
   "metadata": {},
   "source": [
    "**Test Accuracy**"
   ]
  },
  {
   "cell_type": "code",
   "execution_count": 243,
   "metadata": {
    "scrolled": false
   },
   "outputs": [
    {
     "name": "stdout",
     "output_type": "stream",
     "text": [
      "1/1 [==============================] - 0s 14ms/step - loss: 0.6842 - accuracy: 0.8276\n"
     ]
    },
    {
     "data": {
      "text/plain": [
       "0.8275862336158752"
      ]
     },
     "execution_count": 243,
     "metadata": {},
     "output_type": "execute_result"
    }
   ],
   "source": [
    "model_3_G10.evaluate(X_test3, y_testdm3)[1]"
   ]
  },
  {
   "cell_type": "markdown",
   "metadata": {},
   "source": [
    "**Re-split model loss and accuracy are consistent with previous results.**"
   ]
  },
  {
   "cell_type": "markdown",
   "metadata": {},
   "source": [
    "## The End"
   ]
  }
 ],
 "metadata": {
  "celltoolbar": "Slideshow",
  "kernelspec": {
   "display_name": "Python 3",
   "language": "python",
   "name": "python3"
  },
  "language_info": {
   "codemirror_mode": {
    "name": "ipython",
    "version": 3
   },
   "file_extension": ".py",
   "mimetype": "text/x-python",
   "name": "python",
   "nbconvert_exporter": "python",
   "pygments_lexer": "ipython3",
   "version": "3.8.8"
  }
 },
 "nbformat": 4,
 "nbformat_minor": 2
}
