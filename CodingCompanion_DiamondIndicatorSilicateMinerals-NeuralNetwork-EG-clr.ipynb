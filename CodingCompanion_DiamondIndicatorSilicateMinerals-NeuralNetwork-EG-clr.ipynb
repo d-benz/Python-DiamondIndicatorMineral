{
 "cells": [
  {
   "cell_type": "markdown",
   "metadata": {},
   "source": [
    "# Coding Companion for Diamond Indicator Silicate Mineral Neural Network - Eclogitic Garnet (Annotated)"
   ]
  },
  {
   "cell_type": "markdown",
   "metadata": {},
   "source": [
    "This notebook contains the code for creating the diamond indicator silicate mineral neural network to predict whether the mineral is associated with rich or poor diamond contents.\n",
    "\n",
    "We will go through the following in this notebook:\n",
    "\n",
    "- Exploring and Processing the Data\n",
    "- Building and Training our Neural Network\n",
    "- Visualizing Loss and Accuracy\n",
    "- Adding Regularization to our Neural Network\n",
    "- Saving and testing the model\n",
    "- Visualizing the model results\n",
    "\n",
    "Note that the results you get might differ slightly as there is a degree of randomness in the way the dataset is split as well as the initialization of the neural network.\n",
    "\n",
    "Under the Home tab for Anaconda Navigator 1.10.0 Launch CMD.exe Prompt to open C:\\Windows\\system32\\cmd.exe prompt. This prompt will show C:\\Users\\Name but the installation of the packages will be directed to whichever drive in which Anaconda is installed.\n",
    "\n",
    "For this Coding Companion the following packages were installed:\n",
    "\n",
    "- pip install keras\n",
    "- pip install tensorflow\n",
    "- pip install pydot\n",
    "- pip install graphviz\n",
    "- pip install plotly==4.14.3"
   ]
  },
  {
   "cell_type": "markdown",
   "metadata": {},
   "source": [
    "## Exploring and Processing the Data"
   ]
  },
  {
   "cell_type": "markdown",
   "metadata": {},
   "source": [
    "We first have to read in the CSV file that we've been given. The following packages are used:\n",
    "- pandas for importing\n",
    "- matplotlib.pyplot for creating graphs\n",
    "- seaborn for graph sizes and palettes\n",
    "- pydot and graphviz to view the neural network\n",
    "- VIANN to check neural network feature importance?\n",
    "- and run a checkon the python version.\n",
    "This code was created using Python 3.8.8 version."
   ]
  },
  {
   "cell_type": "code",
   "execution_count": 1,
   "metadata": {
    "scrolled": true
   },
   "outputs": [
    {
     "name": "stdout",
     "output_type": "stream",
     "text": [
      "python: 3.8.8\n"
     ]
    }
   ],
   "source": [
    "import numpy as np\n",
    "import pandas as pd\n",
    "import matplotlib.pyplot as plt\n",
    "import seaborn as sns\n",
    "\n",
    "import sklearn\n",
    "import sklearn.metrics\n",
    "\n",
    "import pydot\n",
    "import graphviz\n",
    "\n",
    "from platform import python_version\n",
    "print('python: %s' % python_version())"
   ]
  },
  {
   "cell_type": "code",
   "execution_count": 2,
   "metadata": {
    "scrolled": true
   },
   "outputs": [
    {
     "name": "stdout",
     "output_type": "stream",
     "text": [
      "sklearn: 0.24.1\n"
     ]
    }
   ],
   "source": [
    "# check scikit-learn version as 0.24.1\n",
    "print('sklearn: %s' % sklearn.__version__)"
   ]
  },
  {
   "cell_type": "markdown",
   "metadata": {},
   "source": [
    "**Fix random seed for reproducibility**"
   ]
  },
  {
   "cell_type": "code",
   "execution_count": 3,
   "metadata": {
    "scrolled": true
   },
   "outputs": [],
   "source": [
    "np.random.seed(333)"
   ]
  },
  {
   "cell_type": "markdown",
   "metadata": {},
   "source": [
    "**Import and view the data**"
   ]
  },
  {
   "cell_type": "code",
   "execution_count": 4,
   "metadata": {
    "scrolled": true
   },
   "outputs": [
    {
     "data": {
      "text/plain": [
       "'C:\\\\Users\\\\David\\\\DiamondIndicatorMineral_LAICPMS-ML'"
      ]
     },
     "execution_count": 4,
     "metadata": {},
     "output_type": "execute_result"
    }
   ],
   "source": [
    "#Check working directory\n",
    "import os\n",
    "os.getcwd( )"
   ]
  },
  {
   "cell_type": "code",
   "execution_count": 5,
   "metadata": {
    "scrolled": true
   },
   "outputs": [
    {
     "data": {
      "text/plain": [
       "'g:\\\\R_and_D\\\\Projects\\\\MSc_Diamonds\\\\Python'"
      ]
     },
     "execution_count": 5,
     "metadata": {},
     "output_type": "execute_result"
    }
   ],
   "source": [
    "#Change working directory\n",
    "os.chdir('g:\\\\R_and_D\\\\Projects\\\\MSc_Diamonds\\\\Python')\n",
    "os.getcwd( )"
   ]
  },
  {
   "cell_type": "code",
   "execution_count": 7,
   "metadata": {
    "scrolled": true
   },
   "outputs": [],
   "source": [
    "#Read in csv file\n",
    "df = pd.read_csv('EG_final.csv')"
   ]
  },
  {
   "cell_type": "code",
   "execution_count": 8,
   "metadata": {
    "scrolled": true
   },
   "outputs": [
    {
     "data": {
      "text/html": [
       "<div>\n",
       "<style scoped>\n",
       "    .dataframe tbody tr th:only-of-type {\n",
       "        vertical-align: middle;\n",
       "    }\n",
       "\n",
       "    .dataframe tbody tr th {\n",
       "        vertical-align: top;\n",
       "    }\n",
       "\n",
       "    .dataframe thead th {\n",
       "        text-align: right;\n",
       "    }\n",
       "</style>\n",
       "<table border=\"1\" class=\"dataframe\">\n",
       "  <thead>\n",
       "    <tr style=\"text-align: right;\">\n",
       "      <th></th>\n",
       "      <th>Sample</th>\n",
       "      <th>Mineral</th>\n",
       "      <th>Pipe</th>\n",
       "      <th>Diamond_High</th>\n",
       "      <th>Craton</th>\n",
       "      <th>Na</th>\n",
       "      <th>Mg</th>\n",
       "      <th>Al</th>\n",
       "      <th>Si</th>\n",
       "      <th>Ca</th>\n",
       "      <th>...</th>\n",
       "      <th>V13</th>\n",
       "      <th>V14</th>\n",
       "      <th>V15</th>\n",
       "      <th>V16</th>\n",
       "      <th>V17</th>\n",
       "      <th>V18</th>\n",
       "      <th>V19</th>\n",
       "      <th>V20</th>\n",
       "      <th>V21</th>\n",
       "      <th>V22</th>\n",
       "    </tr>\n",
       "  </thead>\n",
       "  <tbody>\n",
       "    <tr>\n",
       "      <th>0</th>\n",
       "      <td>Ap22D10</td>\n",
       "      <td>E</td>\n",
       "      <td>BEARTOOTH</td>\n",
       "      <td>yes</td>\n",
       "      <td>Slave</td>\n",
       "      <td>627.600000</td>\n",
       "      <td>56100</td>\n",
       "      <td>74370</td>\n",
       "      <td>191100</td>\n",
       "      <td>28240.0</td>\n",
       "      <td>...</td>\n",
       "      <td>-0.048812</td>\n",
       "      <td>-0.000973</td>\n",
       "      <td>0.000128</td>\n",
       "      <td>0.013831</td>\n",
       "      <td>0.013695</td>\n",
       "      <td>-0.000974</td>\n",
       "      <td>0.010854</td>\n",
       "      <td>0.013285</td>\n",
       "      <td>0.006913</td>\n",
       "      <td>-2.880000e-16</td>\n",
       "    </tr>\n",
       "    <tr>\n",
       "      <th>1</th>\n",
       "      <td>Ap22D11</td>\n",
       "      <td>E</td>\n",
       "      <td>BEARTOOTH</td>\n",
       "      <td>yes</td>\n",
       "      <td>Slave</td>\n",
       "      <td>483.200000</td>\n",
       "      <td>37500</td>\n",
       "      <td>71800</td>\n",
       "      <td>185000</td>\n",
       "      <td>31540.0</td>\n",
       "      <td>...</td>\n",
       "      <td>0.056217</td>\n",
       "      <td>-0.028006</td>\n",
       "      <td>0.007387</td>\n",
       "      <td>0.009365</td>\n",
       "      <td>0.015926</td>\n",
       "      <td>0.009772</td>\n",
       "      <td>-0.011876</td>\n",
       "      <td>0.006008</td>\n",
       "      <td>-0.003528</td>\n",
       "      <td>2.080000e-17</td>\n",
       "    </tr>\n",
       "    <tr>\n",
       "      <th>2</th>\n",
       "      <td>Ap22D12</td>\n",
       "      <td>E</td>\n",
       "      <td>BEARTOOTH</td>\n",
       "      <td>yes</td>\n",
       "      <td>Slave</td>\n",
       "      <td>552.300000</td>\n",
       "      <td>56930</td>\n",
       "      <td>73130</td>\n",
       "      <td>191600</td>\n",
       "      <td>39440.0</td>\n",
       "      <td>...</td>\n",
       "      <td>-0.013604</td>\n",
       "      <td>0.006744</td>\n",
       "      <td>-0.025079</td>\n",
       "      <td>0.007244</td>\n",
       "      <td>-0.007817</td>\n",
       "      <td>0.029281</td>\n",
       "      <td>-0.002673</td>\n",
       "      <td>0.018093</td>\n",
       "      <td>0.001498</td>\n",
       "      <td>-3.400000e-16</td>\n",
       "    </tr>\n",
       "    <tr>\n",
       "      <th>3</th>\n",
       "      <td>Ap22D13</td>\n",
       "      <td>E</td>\n",
       "      <td>BEARTOOTH</td>\n",
       "      <td>yes</td>\n",
       "      <td>Slave</td>\n",
       "      <td>298.638752</td>\n",
       "      <td>42460</td>\n",
       "      <td>75420</td>\n",
       "      <td>189500</td>\n",
       "      <td>59860.0</td>\n",
       "      <td>...</td>\n",
       "      <td>0.064989</td>\n",
       "      <td>-0.015433</td>\n",
       "      <td>-0.021896</td>\n",
       "      <td>0.003115</td>\n",
       "      <td>-0.006966</td>\n",
       "      <td>-0.022694</td>\n",
       "      <td>-0.012266</td>\n",
       "      <td>0.012161</td>\n",
       "      <td>0.008531</td>\n",
       "      <td>-5.550000e-17</td>\n",
       "    </tr>\n",
       "    <tr>\n",
       "      <th>4</th>\n",
       "      <td>Ap22D14</td>\n",
       "      <td>E</td>\n",
       "      <td>BEARTOOTH</td>\n",
       "      <td>yes</td>\n",
       "      <td>Slave</td>\n",
       "      <td>989.300000</td>\n",
       "      <td>37050</td>\n",
       "      <td>70950</td>\n",
       "      <td>184400</td>\n",
       "      <td>40090.0</td>\n",
       "      <td>...</td>\n",
       "      <td>0.017003</td>\n",
       "      <td>-0.044568</td>\n",
       "      <td>0.027924</td>\n",
       "      <td>-0.046773</td>\n",
       "      <td>-0.036418</td>\n",
       "      <td>-0.000722</td>\n",
       "      <td>0.004347</td>\n",
       "      <td>0.007048</td>\n",
       "      <td>-0.005155</td>\n",
       "      <td>-3.600000e-17</td>\n",
       "    </tr>\n",
       "    <tr>\n",
       "      <th>...</th>\n",
       "      <td>...</td>\n",
       "      <td>...</td>\n",
       "      <td>...</td>\n",
       "      <td>...</td>\n",
       "      <td>...</td>\n",
       "      <td>...</td>\n",
       "      <td>...</td>\n",
       "      <td>...</td>\n",
       "      <td>...</td>\n",
       "      <td>...</td>\n",
       "      <td>...</td>\n",
       "      <td>...</td>\n",
       "      <td>...</td>\n",
       "      <td>...</td>\n",
       "      <td>...</td>\n",
       "      <td>...</td>\n",
       "      <td>...</td>\n",
       "      <td>...</td>\n",
       "      <td>...</td>\n",
       "      <td>...</td>\n",
       "      <td>...</td>\n",
       "    </tr>\n",
       "    <tr>\n",
       "      <th>111</th>\n",
       "      <td>Ap27H15</td>\n",
       "      <td>E</td>\n",
       "      <td>ZERO</td>\n",
       "      <td>no</td>\n",
       "      <td>Kaapvaal</td>\n",
       "      <td>686.300000</td>\n",
       "      <td>70370</td>\n",
       "      <td>68080</td>\n",
       "      <td>190200</td>\n",
       "      <td>31830.0</td>\n",
       "      <td>...</td>\n",
       "      <td>-0.008978</td>\n",
       "      <td>-0.016852</td>\n",
       "      <td>0.024310</td>\n",
       "      <td>-0.030730</td>\n",
       "      <td>0.025107</td>\n",
       "      <td>-0.014115</td>\n",
       "      <td>0.001964</td>\n",
       "      <td>-0.004483</td>\n",
       "      <td>0.002063</td>\n",
       "      <td>3.630000e-16</td>\n",
       "    </tr>\n",
       "    <tr>\n",
       "      <th>112</th>\n",
       "      <td>Ap27H16</td>\n",
       "      <td>E</td>\n",
       "      <td>ZERO</td>\n",
       "      <td>no</td>\n",
       "      <td>Kaapvaal</td>\n",
       "      <td>267.825124</td>\n",
       "      <td>67810</td>\n",
       "      <td>70000</td>\n",
       "      <td>188100</td>\n",
       "      <td>31630.0</td>\n",
       "      <td>...</td>\n",
       "      <td>0.022726</td>\n",
       "      <td>-0.028011</td>\n",
       "      <td>-0.036988</td>\n",
       "      <td>0.001999</td>\n",
       "      <td>-0.003229</td>\n",
       "      <td>-0.009654</td>\n",
       "      <td>0.002188</td>\n",
       "      <td>-0.011002</td>\n",
       "      <td>0.009190</td>\n",
       "      <td>-3.750000e-16</td>\n",
       "    </tr>\n",
       "    <tr>\n",
       "      <th>113</th>\n",
       "      <td>Ap27H17</td>\n",
       "      <td>E</td>\n",
       "      <td>ZERO</td>\n",
       "      <td>no</td>\n",
       "      <td>Kaapvaal</td>\n",
       "      <td>251.308984</td>\n",
       "      <td>70930</td>\n",
       "      <td>63170</td>\n",
       "      <td>187300</td>\n",
       "      <td>27520.0</td>\n",
       "      <td>...</td>\n",
       "      <td>-0.017605</td>\n",
       "      <td>0.006996</td>\n",
       "      <td>-0.051253</td>\n",
       "      <td>0.044523</td>\n",
       "      <td>0.006459</td>\n",
       "      <td>-0.020203</td>\n",
       "      <td>-0.029038</td>\n",
       "      <td>-0.004417</td>\n",
       "      <td>0.001434</td>\n",
       "      <td>-2.640000e-16</td>\n",
       "    </tr>\n",
       "    <tr>\n",
       "      <th>114</th>\n",
       "      <td>Ap27H18</td>\n",
       "      <td>E</td>\n",
       "      <td>ZERO</td>\n",
       "      <td>no</td>\n",
       "      <td>Kaapvaal</td>\n",
       "      <td>241.182865</td>\n",
       "      <td>65210</td>\n",
       "      <td>68010</td>\n",
       "      <td>192300</td>\n",
       "      <td>30530.0</td>\n",
       "      <td>...</td>\n",
       "      <td>-0.019594</td>\n",
       "      <td>-0.045257</td>\n",
       "      <td>-0.024464</td>\n",
       "      <td>0.005723</td>\n",
       "      <td>0.004257</td>\n",
       "      <td>0.005905</td>\n",
       "      <td>0.008298</td>\n",
       "      <td>-0.003613</td>\n",
       "      <td>-0.002013</td>\n",
       "      <td>-3.220000e-16</td>\n",
       "    </tr>\n",
       "    <tr>\n",
       "      <th>115</th>\n",
       "      <td>Ap27K06</td>\n",
       "      <td>E</td>\n",
       "      <td>ZERO</td>\n",
       "      <td>no</td>\n",
       "      <td>Kaapvaal</td>\n",
       "      <td>2415.000000</td>\n",
       "      <td>59800</td>\n",
       "      <td>65140</td>\n",
       "      <td>190400</td>\n",
       "      <td>40690.0</td>\n",
       "      <td>...</td>\n",
       "      <td>-0.035192</td>\n",
       "      <td>0.010693</td>\n",
       "      <td>-0.015684</td>\n",
       "      <td>-0.045580</td>\n",
       "      <td>0.007963</td>\n",
       "      <td>0.006285</td>\n",
       "      <td>-0.029398</td>\n",
       "      <td>-0.008060</td>\n",
       "      <td>-0.000837</td>\n",
       "      <td>6.490000e-16</td>\n",
       "    </tr>\n",
       "  </tbody>\n",
       "</table>\n",
       "<p>116 rows × 71 columns</p>\n",
       "</div>"
      ],
      "text/plain": [
       "          Sample Mineral       Pipe Diamond_High    Craton           Na  \\\n",
       "0        Ap22D10       E  BEARTOOTH          yes     Slave   627.600000   \n",
       "1        Ap22D11       E  BEARTOOTH          yes     Slave   483.200000   \n",
       "2        Ap22D12       E  BEARTOOTH          yes     Slave   552.300000   \n",
       "3        Ap22D13       E  BEARTOOTH          yes     Slave   298.638752   \n",
       "4        Ap22D14       E  BEARTOOTH          yes     Slave   989.300000   \n",
       "..           ...     ...        ...          ...       ...          ...   \n",
       "111      Ap27H15       E       ZERO           no  Kaapvaal   686.300000   \n",
       "112      Ap27H16       E       ZERO           no  Kaapvaal   267.825124   \n",
       "113      Ap27H17       E       ZERO           no  Kaapvaal   251.308984   \n",
       "114      Ap27H18       E       ZERO           no  Kaapvaal   241.182865   \n",
       "115      Ap27K06       E       ZERO           no  Kaapvaal  2415.000000   \n",
       "\n",
       "        Mg     Al      Si       Ca  ...       V13       V14       V15  \\\n",
       "0    56100  74370  191100  28240.0  ... -0.048812 -0.000973  0.000128   \n",
       "1    37500  71800  185000  31540.0  ...  0.056217 -0.028006  0.007387   \n",
       "2    56930  73130  191600  39440.0  ... -0.013604  0.006744 -0.025079   \n",
       "3    42460  75420  189500  59860.0  ...  0.064989 -0.015433 -0.021896   \n",
       "4    37050  70950  184400  40090.0  ...  0.017003 -0.044568  0.027924   \n",
       "..     ...    ...     ...      ...  ...       ...       ...       ...   \n",
       "111  70370  68080  190200  31830.0  ... -0.008978 -0.016852  0.024310   \n",
       "112  67810  70000  188100  31630.0  ...  0.022726 -0.028011 -0.036988   \n",
       "113  70930  63170  187300  27520.0  ... -0.017605  0.006996 -0.051253   \n",
       "114  65210  68010  192300  30530.0  ... -0.019594 -0.045257 -0.024464   \n",
       "115  59800  65140  190400  40690.0  ... -0.035192  0.010693 -0.015684   \n",
       "\n",
       "          V16       V17       V18       V19       V20       V21           V22  \n",
       "0    0.013831  0.013695 -0.000974  0.010854  0.013285  0.006913 -2.880000e-16  \n",
       "1    0.009365  0.015926  0.009772 -0.011876  0.006008 -0.003528  2.080000e-17  \n",
       "2    0.007244 -0.007817  0.029281 -0.002673  0.018093  0.001498 -3.400000e-16  \n",
       "3    0.003115 -0.006966 -0.022694 -0.012266  0.012161  0.008531 -5.550000e-17  \n",
       "4   -0.046773 -0.036418 -0.000722  0.004347  0.007048 -0.005155 -3.600000e-17  \n",
       "..        ...       ...       ...       ...       ...       ...           ...  \n",
       "111 -0.030730  0.025107 -0.014115  0.001964 -0.004483  0.002063  3.630000e-16  \n",
       "112  0.001999 -0.003229 -0.009654  0.002188 -0.011002  0.009190 -3.750000e-16  \n",
       "113  0.044523  0.006459 -0.020203 -0.029038 -0.004417  0.001434 -2.640000e-16  \n",
       "114  0.005723  0.004257  0.005905  0.008298 -0.003613 -0.002013 -3.220000e-16  \n",
       "115 -0.045580  0.007963  0.006285 -0.029398 -0.008060 -0.000837  6.490000e-16  \n",
       "\n",
       "[116 rows x 71 columns]"
      ]
     },
     "execution_count": 8,
     "metadata": {},
     "output_type": "execute_result"
    }
   ],
   "source": [
    "df"
   ]
  },
  {
   "cell_type": "markdown",
   "metadata": {},
   "source": [
    "**The dataset that we have now is in what we call a pandas dataframe. To convert it to an array, simply access its values:**"
   ]
  },
  {
   "cell_type": "code",
   "execution_count": 9,
   "metadata": {
    "scrolled": true
   },
   "outputs": [],
   "source": [
    "dataset = df.values"
   ]
  },
  {
   "cell_type": "code",
   "execution_count": 10,
   "metadata": {
    "scrolled": true
   },
   "outputs": [
    {
     "data": {
      "text/plain": [
       "array([['    Ap22D10', 'E', 'BEARTOOTH', ..., 0.013285125, 0.006913475,\n",
       "        -2.88e-16],\n",
       "       ['    Ap22D11', 'E', 'BEARTOOTH', ..., 0.006007577, -0.003527826,\n",
       "        2.08e-17],\n",
       "       ['    Ap22D12', 'E', 'BEARTOOTH', ..., 0.01809332, 0.001497677,\n",
       "        -3.4e-16],\n",
       "       ...,\n",
       "       ['    Ap27H17', 'E', 'ZERO', ..., -0.004417434, 0.001433868,\n",
       "        -2.64e-16],\n",
       "       ['    Ap27H18', 'E', 'ZERO', ..., -0.003612851, -0.002013209,\n",
       "        -3.22e-16],\n",
       "       ['    Ap27K06', 'E', 'ZERO', ..., -0.008059876, -0.000836777,\n",
       "        6.49e-16]], dtype=object)"
      ]
     },
     "execution_count": 10,
     "metadata": {},
     "output_type": "execute_result"
    }
   ],
   "source": [
    "dataset"
   ]
  },
  {
   "cell_type": "markdown",
   "metadata": {},
   "source": [
    "### Visualize the data by Diamond Contents based on previously run RQ-PCA"
   ]
  },
  {
   "cell_type": "code",
   "execution_count": 11,
   "metadata": {
    "scrolled": true
   },
   "outputs": [],
   "source": [
    "#Set plot style\n",
    "import matplotlib.style as style\n",
    "\n",
    "style.use('seaborn-paper') #sets the style as paper (smaller), poster (larger), talk (presentation)\n",
    "\n",
    "colors = (\"#0f2080\", \"#f5793a\", \"#85c0f9\", \"#a95aa1\") #defines colours to use as suitable for colorblindness\n",
    "sns.set_palette(sns.color_palette(colors)) #sets colour palette"
   ]
  },
  {
   "cell_type": "code",
   "execution_count": 12,
   "metadata": {
    "scrolled": true
   },
   "outputs": [
    {
     "data": {
      "text/plain": [
       "<matplotlib.legend.Legend at 0x193e63e1f10>"
      ]
     },
     "execution_count": 12,
     "metadata": {},
     "output_type": "execute_result"
    },
    {
     "data": {
      "image/png": "[encoded data removed]",
      "text/plain": [
       "<Figure size 460.8x316.8 with 1 Axes>"
      ]
     },
     "metadata": {
      "needs_background": "light"
     },
     "output_type": "display_data"
    },
    {
     "data": {
      "image/png": "[encoded data removed]",
      "text/plain": [
       "<Figure size 460.8x316.8 with 1 Axes>"
      ]
     },
     "metadata": {
      "needs_background": "light"
     },
     "output_type": "display_data"
    },
    {
     "data": {
      "image/png": "[encoded data removed]",
      "text/plain": [
       "<Figure size 460.8x316.8 with 1 Axes>"
      ]
     },
     "metadata": {
      "needs_background": "light"
     },
     "output_type": "display_data"
    },
    {
     "data": {
      "image/png": "[encoded data removed]",
      "text/plain": [
       "<Figure size 460.8x316.8 with 1 Axes>"
      ]
     },
     "metadata": {
      "needs_background": "light"
     },
     "output_type": "display_data"
    }
   ],
   "source": [
    "df.set_index(['Diamond_High', 'V1']).unstack('Diamond_High')['V2'].plot(style='o')\n",
    "plt.ylabel('V2')\n",
    "plt.title('Eclogitic Garnet Associations by Diamond Contents')\n",
    "plt.legend(title=\"Diamond-Rich\")\n",
    "\n",
    "df.set_index(['Diamond_High', 'V1']).unstack('Diamond_High')['V3'].plot(style='o')\n",
    "plt.ylabel('V3')\n",
    "plt.title('Eclogitic Garnet Associations by Diamond Content')\n",
    "plt.legend(title=\"Diamond-Rich\")\n",
    "\n",
    "df.set_index(['Diamond_High', 'V1']).unstack('Diamond_High')['V4'].plot(style='o')\n",
    "plt.ylabel('V4')\n",
    "plt.title('Eclogitic Garnet Associations by Diamond Content')\n",
    "plt.legend(title=\"Diamond-Rich\")\n",
    "\n",
    "df.set_index(['Diamond_High', 'V1']).unstack('Diamond_High')['V5'].plot(style='o')\n",
    "plt.ylabel('V5')\n",
    "plt.title('Eclogitic Garnet Associations by Diamond Content')\n",
    "plt.legend(title=\"Diamond-Rich\")"
   ]
  },
  {
   "cell_type": "markdown",
   "metadata": {},
   "source": [
    "### Visualize the RQ-PCA Eclogitic Garnet Associations by Pipe"
   ]
  },
  {
   "cell_type": "code",
   "execution_count": 13,
   "metadata": {
    "scrolled": true
   },
   "outputs": [
    {
     "data": {
      "text/plain": [
       "<matplotlib.legend.Legend at 0x193e6677160>"
      ]
     },
     "execution_count": 13,
     "metadata": {},
     "output_type": "execute_result"
    },
    {
     "data": {
      "image/png": "[encoded data removed]",
      "text/plain": [
       "<Figure size 460.8x316.8 with 1 Axes>"
      ]
     },
     "metadata": {
      "needs_background": "light"
     },
     "output_type": "display_data"
    },
    {
     "data": {
      "image/png": "[encoded data removed]",
      "text/plain": [
       "<Figure size 460.8x316.8 with 1 Axes>"
      ]
     },
     "metadata": {
      "needs_background": "light"
     },
     "output_type": "display_data"
    },
    {
     "data": {
      "image/png": "[encoded data removed]",
      "text/plain": [
       "<Figure size 460.8x316.8 with 1 Axes>"
      ]
     },
     "metadata": {
      "needs_background": "light"
     },
     "output_type": "display_data"
    },
    {
     "data": {
      "image/png": "[encoded data removed]",
      "text/plain": [
       "<Figure size 460.8x316.8 with 1 Axes>"
      ]
     },
     "metadata": {
      "needs_background": "light"
     },
     "output_type": "display_data"
    }
   ],
   "source": [
    "df.set_index(['Pipe', 'V1']).unstack('Pipe')['V2'].plot(style='o')\n",
    "plt.ylabel('V2')\n",
    "plt.title('Eclogitic Garnet Associations by Pipe')\n",
    "plt.legend(title=\"\")\n",
    "\n",
    "df.set_index(['Pipe', 'V1']).unstack('Pipe')['V3'].plot(style='o')\n",
    "plt.ylabel('V3')\n",
    "plt.title('Eclogitic Garnet Associations by Pipe')\n",
    "plt.legend(title=\"\")\n",
    "\n",
    "df.set_index(['Pipe', 'V1']).unstack('Pipe')['V4'].plot(style='o')\n",
    "plt.ylabel('V4')\n",
    "plt.title('Eclogitic Garnet Associations by Pipe')\n",
    "plt.legend(title=\"\")\n",
    "\n",
    "df.set_index(['Pipe', 'V1']).unstack('Pipe')['V5'].plot(style='o')\n",
    "plt.ylabel('V5')\n",
    "plt.title('Eclogitic Garnet Associations by Pipe')\n",
    "plt.legend(title=\"\")"
   ]
  },
  {
   "cell_type": "markdown",
   "metadata": {},
   "source": [
    "### Visualize the Eclogitic Garnet RQ-PCA Associations by Craton"
   ]
  },
  {
   "cell_type": "code",
   "execution_count": 14,
   "metadata": {
    "scrolled": true
   },
   "outputs": [
    {
     "data": {
      "text/plain": [
       "<matplotlib.legend.Legend at 0x193e63332e0>"
      ]
     },
     "execution_count": 14,
     "metadata": {},
     "output_type": "execute_result"
    },
    {
     "data": {
      "image/png": "[encoded data removed]",
      "text/plain": [
       "<Figure size 460.8x316.8 with 1 Axes>"
      ]
     },
     "metadata": {
      "needs_background": "light"
     },
     "output_type": "display_data"
    },
    {
     "data": {
      "image/png": "[encoded data removed]",
      "text/plain": [
       "<Figure size 460.8x316.8 with 1 Axes>"
      ]
     },
     "metadata": {
      "needs_background": "light"
     },
     "output_type": "display_data"
    },
    {
     "data": {
      "image/png": "[encoded data removed]",
      "text/plain": [
       "<Figure size 460.8x316.8 with 1 Axes>"
      ]
     },
     "metadata": {
      "needs_background": "light"
     },
     "output_type": "display_data"
    },
    {
     "data": {
      "image/png": "[encoded data removed]",
      "text/plain": [
       "<Figure size 460.8x316.8 with 1 Axes>"
      ]
     },
     "metadata": {
      "needs_background": "light"
     },
     "output_type": "display_data"
    }
   ],
   "source": [
    "df.set_index(['Craton', 'V1']).unstack('Craton')['V2'].plot(style='o')\n",
    "plt.ylabel('V2')\n",
    "plt.title('Eclogitic Garnet Associations by Craton')\n",
    "plt.legend(title=\"\")\n",
    "\n",
    "df.set_index(['Craton', 'V1']).unstack('Craton')['V3'].plot(style='o')\n",
    "plt.ylabel('V3')\n",
    "plt.title('Eclogitic Garnet Associations by Craton')\n",
    "plt.legend(title=\"\")\n",
    "\n",
    "df.set_index(['Craton', 'V1']).unstack('Craton')['V4'].plot(style='o')\n",
    "plt.ylabel('V4')\n",
    "plt.title('Eclogitic Garnet Associations by Craton')\n",
    "plt.legend(title=\"\")\n",
    "\n",
    "df.set_index(['Craton', 'V1']).unstack('Craton')['V5'].plot(style='o')\n",
    "plt.ylabel('V5')\n",
    "plt.title('Eclogitic Garnet Associations by Craton')\n",
    "plt.legend(title=\"\")"
   ]
  },
  {
   "cell_type": "markdown",
   "metadata": {},
   "source": [
    "### Normalizing the Data"
   ]
  },
  {
   "cell_type": "markdown",
   "metadata": {},
   "source": [
    "**Normalizing our data is very important, as we want the input features to be on the same order of magnitude to make our training easier. We can use a min-max scaler from scikit-learn which scales our data to be between 0 and 1, but geochemical data is compositional. Compositional data consist of ratios that are not free to vary independently. This interdependence of geochemical data can result in an incorrect assessment of correlations, or other measures of associations, commonly used in multivariate statistics if the data isn't first transformed. Z-score transformation is not appropriate for multi-variate statistical analysis of geochemical data because z-score transformation assumes the data has a normal distribution. Most geochemical data has a left-skewed distribution. The substitution or removal of an element from multielement studies using raw or z-score normalized data would result in different interpretations, since the variable are not free to vary independently, and that research would not be suitable for a comparison with other research.**\n",
    "\n",
    "**For this study the element concentrations were scaled using centred log-ratio method in R.**"
   ]
  },
  {
   "cell_type": "markdown",
   "metadata": {},
   "source": [
    "### Splitting the Data"
   ]
  },
  {
   "cell_type": "markdown",
   "metadata": {},
   "source": [
    "**Now, we split the dataset into our input features and the output feature we wish to predict because \"y\" needs to be one dimensional in order to split into train, test and validate groups. Using lowercase \"y\" shows that this is the unknown parameter.**"
   ]
  },
  {
   "cell_type": "code",
   "execution_count": 16,
   "metadata": {
    "scrolled": true
   },
   "outputs": [
    {
     "name": "stdout",
     "output_type": "stream",
     "text": [
      "    Diamond_High\n",
      "0            yes\n",
      "1            yes\n",
      "2            yes\n",
      "3            yes\n",
      "4            yes\n",
      "..           ...\n",
      "111           no\n",
      "112           no\n",
      "113           no\n",
      "114           no\n",
      "115           no\n",
      "\n",
      "[116 rows x 1 columns]\n",
      "       Na_clr    Mg_clr    Al_clr     Si_clr    Ca_clr    Sc_clr    Ti_clr  \\\n",
      "0    3.568510  8.061498  8.343414   9.287159  7.375101  0.440065  4.246242   \n",
      "1    3.293979  7.645644  8.295188   9.241659  7.472560  0.721760  4.290567   \n",
      "2    3.839299  8.474785  8.725201   9.688373  8.107743  1.039733  4.717389   \n",
      "3    2.863625  7.820708  8.395218   9.316535  8.164154  0.927217  4.332200   \n",
      "4    3.959154  7.582180  8.231887   9.187019  7.661038  0.638427  4.668046   \n",
      "..        ...       ...       ...        ...       ...       ...       ...   \n",
      "111  3.108866  7.739074  7.705990   8.733383  6.945716  0.944211  3.242726   \n",
      "112  2.995669  8.529800  8.561585   9.550064  7.767196  1.796569  4.015358   \n",
      "113  2.636879  8.279644  8.163780   9.250662  7.332864  1.543509  3.462128   \n",
      "114  2.477897  8.077709  8.119751   9.159153  7.318806  1.290443  3.603037   \n",
      "115  5.959930  9.169237  9.254770  10.327358  8.784213  1.758429  4.396419   \n",
      "\n",
      "       Mn_clr    Sr_clr     Y_clr  ...    Nd_clr    Eu_clr    Gd_clr  \\\n",
      "0    4.375822 -3.952203 -0.331004  ... -2.742365 -3.546738 -2.145845   \n",
      "1    4.574038 -3.778050  0.638142  ... -4.719033 -5.006716 -3.317235   \n",
      "2    4.451784 -3.645976 -0.881484  ... -2.817283 -4.515013 -3.090979   \n",
      "3    4.119983 -1.767456 -1.100420  ... -2.687189 -4.144943 -3.178100   \n",
      "4    4.501715 -3.854135  0.369409  ... -3.959495 -4.451972 -3.482571   \n",
      "..        ...       ...       ...  ...       ...       ...       ...   \n",
      "111  4.463633 -0.650485 -0.577539  ... -2.958714 -4.660323 -3.160084   \n",
      "112  5.190640 -5.142305  0.073257  ... -4.491785 -3.798638 -2.446245   \n",
      "113  5.046141 -3.911456 -0.325625  ... -3.367840 -4.093777 -2.296478   \n",
      "114  4.707911 -3.605496 -0.130710  ... -4.029310 -4.354732 -2.753016   \n",
      "115  5.353587 -0.901305 -3.795637  ... -3.662106 -4.355253 -3.215819   \n",
      "\n",
      "       Tb_clr    Dy_clr    Ho_clr    Er_clr    Yb_clr    Lu_clr    Ta_clr  \n",
      "0   -3.923216 -2.084936 -3.764992 -2.751176 -3.047747 -5.080668 -7.478564  \n",
      "1   -4.233526 -1.680481 -2.738032 -1.389064 -0.991835 -2.764234 -7.976107  \n",
      "2   -4.595056 -2.890308 -4.246749 -3.188143 -3.342293 -5.288203 -5.981351  \n",
      "3   -4.875830 -2.866069 -4.550408 -3.281896 -3.329906 -4.955873 -6.054485  \n",
      "4   -4.077278 -1.725903 -2.958047 -1.790441 -1.693689 -3.630991 -7.543014  \n",
      "..        ...       ...       ...       ...       ...       ...       ...  \n",
      "111 -4.593631 -2.249966 -3.750953 -2.785872 -2.927752 -4.695414 -8.236528  \n",
      "112 -3.832539 -1.670406 -3.174484 -2.195889 -2.023686 -3.798638 -9.219297  \n",
      "113 -3.998467 -2.022704 -3.710785 -2.567721 -2.407378 -3.884057 -8.637125  \n",
      "114 -4.057481 -1.970922 -3.364334 -2.403343 -2.381720 -4.280624 -7.612829  \n",
      "115 -4.488784 -2.584547 -3.949788 -3.256641 -3.390172 -4.825257 -8.149365  \n",
      "\n",
      "[116 rows x 22 columns]\n"
     ]
    }
   ],
   "source": [
    "X = df[df.columns[27:49]]\n",
    "y = df[['Diamond_High']]\n",
    "print(y)\n",
    "print(X)"
   ]
  },
  {
   "cell_type": "code",
   "execution_count": 17,
   "metadata": {
    "scrolled": true
   },
   "outputs": [
    {
     "data": {
      "text/html": [
       "<div>\n",
       "<style scoped>\n",
       "    .dataframe tbody tr th:only-of-type {\n",
       "        vertical-align: middle;\n",
       "    }\n",
       "\n",
       "    .dataframe tbody tr th {\n",
       "        vertical-align: top;\n",
       "    }\n",
       "\n",
       "    .dataframe thead th {\n",
       "        text-align: right;\n",
       "    }\n",
       "</style>\n",
       "<table border=\"1\" class=\"dataframe\">\n",
       "  <thead>\n",
       "    <tr style=\"text-align: right;\">\n",
       "      <th></th>\n",
       "      <th>diamond_no</th>\n",
       "      <th>diamond_yes</th>\n",
       "    </tr>\n",
       "  </thead>\n",
       "  <tbody>\n",
       "    <tr>\n",
       "      <th>0</th>\n",
       "      <td>0</td>\n",
       "      <td>1</td>\n",
       "    </tr>\n",
       "    <tr>\n",
       "      <th>1</th>\n",
       "      <td>0</td>\n",
       "      <td>1</td>\n",
       "    </tr>\n",
       "    <tr>\n",
       "      <th>2</th>\n",
       "      <td>0</td>\n",
       "      <td>1</td>\n",
       "    </tr>\n",
       "    <tr>\n",
       "      <th>3</th>\n",
       "      <td>0</td>\n",
       "      <td>1</td>\n",
       "    </tr>\n",
       "    <tr>\n",
       "      <th>4</th>\n",
       "      <td>0</td>\n",
       "      <td>1</td>\n",
       "    </tr>\n",
       "    <tr>\n",
       "      <th>...</th>\n",
       "      <td>...</td>\n",
       "      <td>...</td>\n",
       "    </tr>\n",
       "    <tr>\n",
       "      <th>111</th>\n",
       "      <td>1</td>\n",
       "      <td>0</td>\n",
       "    </tr>\n",
       "    <tr>\n",
       "      <th>112</th>\n",
       "      <td>1</td>\n",
       "      <td>0</td>\n",
       "    </tr>\n",
       "    <tr>\n",
       "      <th>113</th>\n",
       "      <td>1</td>\n",
       "      <td>0</td>\n",
       "    </tr>\n",
       "    <tr>\n",
       "      <th>114</th>\n",
       "      <td>1</td>\n",
       "      <td>0</td>\n",
       "    </tr>\n",
       "    <tr>\n",
       "      <th>115</th>\n",
       "      <td>1</td>\n",
       "      <td>0</td>\n",
       "    </tr>\n",
       "  </tbody>\n",
       "</table>\n",
       "<p>116 rows × 2 columns</p>\n",
       "</div>"
      ],
      "text/plain": [
       "     diamond_no  diamond_yes\n",
       "0             0            1\n",
       "1             0            1\n",
       "2             0            1\n",
       "3             0            1\n",
       "4             0            1\n",
       "..          ...          ...\n",
       "111           1            0\n",
       "112           1            0\n",
       "113           1            0\n",
       "114           1            0\n",
       "115           1            0\n",
       "\n",
       "[116 rows x 2 columns]"
      ]
     },
     "execution_count": 17,
     "metadata": {},
     "output_type": "execute_result"
    }
   ],
   "source": [
    "y_dm = pd.get_dummies(y['Diamond_High'], prefix = 'diamond')\n",
    "y_dm"
   ]
  },
  {
   "cell_type": "markdown",
   "metadata": {},
   "source": [
    "### Stratified Shuffle Split is used to ensure the same percentage of samples for each class occurs in each split"
   ]
  },
  {
   "cell_type": "code",
   "execution_count": 18,
   "metadata": {
    "scrolled": true
   },
   "outputs": [],
   "source": [
    "from sklearn.model_selection import StratifiedShuffleSplit"
   ]
  },
  {
   "cell_type": "code",
   "execution_count": 19,
   "metadata": {
    "scrolled": true
   },
   "outputs": [
    {
     "data": {
      "text/plain": [
       "1"
      ]
     },
     "execution_count": 19,
     "metadata": {},
     "output_type": "execute_result"
    }
   ],
   "source": [
    "sss = StratifiedShuffleSplit(n_splits=1, test_size=0.5, random_state=333)\n",
    "sss.get_n_splits(X, y['Diamond_High'])"
   ]
  },
  {
   "cell_type": "code",
   "execution_count": 20,
   "metadata": {
    "scrolled": true
   },
   "outputs": [
    {
     "name": "stdout",
     "output_type": "stream",
     "text": [
      "StratifiedShuffleSplit(n_splits=1, random_state=333, test_size=0.5,\n",
      "            train_size=None)\n"
     ]
    }
   ],
   "source": [
    "print(sss)"
   ]
  },
  {
   "cell_type": "code",
   "execution_count": 21,
   "metadata": {
    "scrolled": true
   },
   "outputs": [
    {
     "name": "stdout",
     "output_type": "stream",
     "text": [
      "TRAIN: [ 62  56  72   2 113  59  18  53 100  32  21  79  43   6 112  80  75  89\n",
      "  54  33   0  47  64  60  44  38  58  30  99  73 115  68  63  97  55  31\n",
      "  14  94  24  17  82  42  74  13  76  23  85  28 111  91  40  69  48  88\n",
      " 101  29  37   5] TEST: [ 26 103  90  19  86  15  96  98  39  35  78  41   3   9   7  70  16 109\n",
      "   4  36  50   1  93  57  49 102  92  34  22   8 114 107  84  95  77  52\n",
      "  67  25  61  45  10 104  20 106  66 108  83  11  51  71  87 105  27  81\n",
      " 110  46  65  12]\n"
     ]
    }
   ],
   "source": [
    "#first split to create the training set and the test-validation dataset\n",
    "for train_index, test_index in sss.split(X, y):\n",
    "     print(\"TRAIN:\", train_index, \"TEST:\", test_index)\n",
    "     X_train, X_testval = X.iloc[train_index], X.iloc[test_index]\n",
    "     y_train, y_testval = y.iloc[train_index], y.iloc[test_index]"
   ]
  },
  {
   "cell_type": "code",
   "execution_count": 22,
   "metadata": {
    "scrolled": true
   },
   "outputs": [
    {
     "name": "stdout",
     "output_type": "stream",
     "text": [
      "TEST: [42 39  1 40 12 23  4 20 29  2 45 57 38 16 19 52 44 41  7 15 53  9 34 55\n",
      " 28 26 30 49 47] VAL: [17 37 18 22 43 14  5  0 46 10  8 27 32 51  3 35 13 56 11 48 31 24 21 25\n",
      " 33 54 36  6 50]\n"
     ]
    }
   ],
   "source": [
    "#second split for creating the test and validation datasets\n",
    "for train_index, test_index in sss.split(X_testval, y_testval):\n",
    "     print(\"TEST:\", train_index, \"VAL:\", test_index)\n",
    "     X_test, X_val = X_testval.iloc[train_index], X_testval.iloc[test_index]\n",
    "     y_test, y_val = y_testval.iloc[train_index], y_testval.iloc[test_index]"
   ]
  },
  {
   "cell_type": "code",
   "execution_count": 23,
   "metadata": {
    "scrolled": true
   },
   "outputs": [
    {
     "data": {
      "text/html": [
       "<div>\n",
       "<style scoped>\n",
       "    .dataframe tbody tr th:only-of-type {\n",
       "        vertical-align: middle;\n",
       "    }\n",
       "\n",
       "    .dataframe tbody tr th {\n",
       "        vertical-align: top;\n",
       "    }\n",
       "\n",
       "    .dataframe thead th {\n",
       "        text-align: right;\n",
       "    }\n",
       "</style>\n",
       "<table border=\"1\" class=\"dataframe\">\n",
       "  <thead>\n",
       "    <tr style=\"text-align: right;\">\n",
       "      <th></th>\n",
       "      <th>Diamond_High</th>\n",
       "    </tr>\n",
       "  </thead>\n",
       "  <tbody>\n",
       "    <tr>\n",
       "      <th>62</th>\n",
       "      <td>no</td>\n",
       "    </tr>\n",
       "    <tr>\n",
       "      <th>56</th>\n",
       "      <td>yes</td>\n",
       "    </tr>\n",
       "    <tr>\n",
       "      <th>72</th>\n",
       "      <td>no</td>\n",
       "    </tr>\n",
       "    <tr>\n",
       "      <th>2</th>\n",
       "      <td>yes</td>\n",
       "    </tr>\n",
       "    <tr>\n",
       "      <th>113</th>\n",
       "      <td>no</td>\n",
       "    </tr>\n",
       "  </tbody>\n",
       "</table>\n",
       "</div>"
      ],
      "text/plain": [
       "    Diamond_High\n",
       "62            no\n",
       "56           yes\n",
       "72            no\n",
       "2            yes\n",
       "113           no"
      ]
     },
     "execution_count": 23,
     "metadata": {},
     "output_type": "execute_result"
    }
   ],
   "source": [
    "y_train.head(5)"
   ]
  },
  {
   "cell_type": "code",
   "execution_count": 24,
   "metadata": {
    "scrolled": true
   },
   "outputs": [
    {
     "data": {
      "text/html": [
       "<div>\n",
       "<style scoped>\n",
       "    .dataframe tbody tr th:only-of-type {\n",
       "        vertical-align: middle;\n",
       "    }\n",
       "\n",
       "    .dataframe tbody tr th {\n",
       "        vertical-align: top;\n",
       "    }\n",
       "\n",
       "    .dataframe thead th {\n",
       "        text-align: right;\n",
       "    }\n",
       "</style>\n",
       "<table border=\"1\" class=\"dataframe\">\n",
       "  <thead>\n",
       "    <tr style=\"text-align: right;\">\n",
       "      <th></th>\n",
       "      <th>Na_clr</th>\n",
       "      <th>Mg_clr</th>\n",
       "      <th>Al_clr</th>\n",
       "      <th>Si_clr</th>\n",
       "      <th>Ca_clr</th>\n",
       "      <th>Sc_clr</th>\n",
       "      <th>Ti_clr</th>\n",
       "      <th>Mn_clr</th>\n",
       "      <th>Sr_clr</th>\n",
       "      <th>Y_clr</th>\n",
       "      <th>...</th>\n",
       "      <th>Nd_clr</th>\n",
       "      <th>Eu_clr</th>\n",
       "      <th>Gd_clr</th>\n",
       "      <th>Tb_clr</th>\n",
       "      <th>Dy_clr</th>\n",
       "      <th>Ho_clr</th>\n",
       "      <th>Er_clr</th>\n",
       "      <th>Yb_clr</th>\n",
       "      <th>Lu_clr</th>\n",
       "      <th>Ta_clr</th>\n",
       "    </tr>\n",
       "  </thead>\n",
       "  <tbody>\n",
       "    <tr>\n",
       "      <th>62</th>\n",
       "      <td>2.573494</td>\n",
       "      <td>7.446205</td>\n",
       "      <td>7.985973</td>\n",
       "      <td>8.986173</td>\n",
       "      <td>7.877644</td>\n",
       "      <td>0.887044</td>\n",
       "      <td>3.305657</td>\n",
       "      <td>4.666753</td>\n",
       "      <td>0.204905</td>\n",
       "      <td>-2.129035</td>\n",
       "      <td>...</td>\n",
       "      <td>-2.716822</td>\n",
       "      <td>-3.423392</td>\n",
       "      <td>-1.886816</td>\n",
       "      <td>-3.320738</td>\n",
       "      <td>-1.467876</td>\n",
       "      <td>-2.771630</td>\n",
       "      <td>-1.922322</td>\n",
       "      <td>-1.751106</td>\n",
       "      <td>-3.522765</td>\n",
       "      <td>-8.418463</td>\n",
       "    </tr>\n",
       "    <tr>\n",
       "      <th>56</th>\n",
       "      <td>3.712454</td>\n",
       "      <td>7.285341</td>\n",
       "      <td>7.792426</td>\n",
       "      <td>8.752306</td>\n",
       "      <td>7.845923</td>\n",
       "      <td>0.781572</td>\n",
       "      <td>4.650940</td>\n",
       "      <td>4.189808</td>\n",
       "      <td>-0.634774</td>\n",
       "      <td>-1.299429</td>\n",
       "      <td>...</td>\n",
       "      <td>-3.133260</td>\n",
       "      <td>-4.347704</td>\n",
       "      <td>-3.240358</td>\n",
       "      <td>-4.727194</td>\n",
       "      <td>-2.504651</td>\n",
       "      <td>-3.842155</td>\n",
       "      <td>-2.717432</td>\n",
       "      <td>-2.447956</td>\n",
       "      <td>-4.374372</td>\n",
       "      <td>-6.039380</td>\n",
       "    </tr>\n",
       "    <tr>\n",
       "      <th>72</th>\n",
       "      <td>3.456842</td>\n",
       "      <td>8.653091</td>\n",
       "      <td>8.844435</td>\n",
       "      <td>9.836221</td>\n",
       "      <td>1.503258</td>\n",
       "      <td>4.628216</td>\n",
       "      <td>1.990932</td>\n",
       "      <td>5.121911</td>\n",
       "      <td>-0.229632</td>\n",
       "      <td>-0.186356</td>\n",
       "      <td>...</td>\n",
       "      <td>-2.600859</td>\n",
       "      <td>-3.376245</td>\n",
       "      <td>-2.500776</td>\n",
       "      <td>-3.935860</td>\n",
       "      <td>-2.018938</td>\n",
       "      <td>-3.497605</td>\n",
       "      <td>-2.377716</td>\n",
       "      <td>-2.420733</td>\n",
       "      <td>-4.366643</td>\n",
       "      <td>-6.931593</td>\n",
       "    </tr>\n",
       "    <tr>\n",
       "      <th>2</th>\n",
       "      <td>3.839299</td>\n",
       "      <td>8.474785</td>\n",
       "      <td>8.725201</td>\n",
       "      <td>9.688373</td>\n",
       "      <td>8.107743</td>\n",
       "      <td>1.039733</td>\n",
       "      <td>4.717389</td>\n",
       "      <td>4.451784</td>\n",
       "      <td>-3.645976</td>\n",
       "      <td>-0.881484</td>\n",
       "      <td>...</td>\n",
       "      <td>-2.817283</td>\n",
       "      <td>-4.515013</td>\n",
       "      <td>-3.090979</td>\n",
       "      <td>-4.595056</td>\n",
       "      <td>-2.890308</td>\n",
       "      <td>-4.246749</td>\n",
       "      <td>-3.188143</td>\n",
       "      <td>-3.342293</td>\n",
       "      <td>-5.288203</td>\n",
       "      <td>-5.981351</td>\n",
       "    </tr>\n",
       "    <tr>\n",
       "      <th>113</th>\n",
       "      <td>2.636879</td>\n",
       "      <td>8.279644</td>\n",
       "      <td>8.163780</td>\n",
       "      <td>9.250662</td>\n",
       "      <td>7.332864</td>\n",
       "      <td>1.543509</td>\n",
       "      <td>3.462128</td>\n",
       "      <td>5.046141</td>\n",
       "      <td>-3.911456</td>\n",
       "      <td>-0.325625</td>\n",
       "      <td>...</td>\n",
       "      <td>-3.367840</td>\n",
       "      <td>-4.093777</td>\n",
       "      <td>-2.296478</td>\n",
       "      <td>-3.998467</td>\n",
       "      <td>-2.022704</td>\n",
       "      <td>-3.710785</td>\n",
       "      <td>-2.567721</td>\n",
       "      <td>-2.407378</td>\n",
       "      <td>-3.884057</td>\n",
       "      <td>-8.637125</td>\n",
       "    </tr>\n",
       "  </tbody>\n",
       "</table>\n",
       "<p>5 rows × 22 columns</p>\n",
       "</div>"
      ],
      "text/plain": [
       "       Na_clr    Mg_clr    Al_clr    Si_clr    Ca_clr    Sc_clr    Ti_clr  \\\n",
       "62   2.573494  7.446205  7.985973  8.986173  7.877644  0.887044  3.305657   \n",
       "56   3.712454  7.285341  7.792426  8.752306  7.845923  0.781572  4.650940   \n",
       "72   3.456842  8.653091  8.844435  9.836221  1.503258  4.628216  1.990932   \n",
       "2    3.839299  8.474785  8.725201  9.688373  8.107743  1.039733  4.717389   \n",
       "113  2.636879  8.279644  8.163780  9.250662  7.332864  1.543509  3.462128   \n",
       "\n",
       "       Mn_clr    Sr_clr     Y_clr  ...    Nd_clr    Eu_clr    Gd_clr  \\\n",
       "62   4.666753  0.204905 -2.129035  ... -2.716822 -3.423392 -1.886816   \n",
       "56   4.189808 -0.634774 -1.299429  ... -3.133260 -4.347704 -3.240358   \n",
       "72   5.121911 -0.229632 -0.186356  ... -2.600859 -3.376245 -2.500776   \n",
       "2    4.451784 -3.645976 -0.881484  ... -2.817283 -4.515013 -3.090979   \n",
       "113  5.046141 -3.911456 -0.325625  ... -3.367840 -4.093777 -2.296478   \n",
       "\n",
       "       Tb_clr    Dy_clr    Ho_clr    Er_clr    Yb_clr    Lu_clr    Ta_clr  \n",
       "62  -3.320738 -1.467876 -2.771630 -1.922322 -1.751106 -3.522765 -8.418463  \n",
       "56  -4.727194 -2.504651 -3.842155 -2.717432 -2.447956 -4.374372 -6.039380  \n",
       "72  -3.935860 -2.018938 -3.497605 -2.377716 -2.420733 -4.366643 -6.931593  \n",
       "2   -4.595056 -2.890308 -4.246749 -3.188143 -3.342293 -5.288203 -5.981351  \n",
       "113 -3.998467 -2.022704 -3.710785 -2.567721 -2.407378 -3.884057 -8.637125  \n",
       "\n",
       "[5 rows x 22 columns]"
      ]
     },
     "execution_count": 24,
     "metadata": {},
     "output_type": "execute_result"
    }
   ],
   "source": [
    "X_train.head(5)"
   ]
  },
  {
   "cell_type": "code",
   "execution_count": 25,
   "metadata": {
    "scrolled": true
   },
   "outputs": [
    {
     "data": {
      "text/html": [
       "<div>\n",
       "<style scoped>\n",
       "    .dataframe tbody tr th:only-of-type {\n",
       "        vertical-align: middle;\n",
       "    }\n",
       "\n",
       "    .dataframe tbody tr th {\n",
       "        vertical-align: top;\n",
       "    }\n",
       "\n",
       "    .dataframe thead th {\n",
       "        text-align: right;\n",
       "    }\n",
       "</style>\n",
       "<table border=\"1\" class=\"dataframe\">\n",
       "  <thead>\n",
       "    <tr style=\"text-align: right;\">\n",
       "      <th></th>\n",
       "      <th>Diamond_High</th>\n",
       "    </tr>\n",
       "  </thead>\n",
       "  <tbody>\n",
       "    <tr>\n",
       "      <th>20</th>\n",
       "      <td>yes</td>\n",
       "    </tr>\n",
       "    <tr>\n",
       "      <th>45</th>\n",
       "      <td>yes</td>\n",
       "    </tr>\n",
       "    <tr>\n",
       "      <th>103</th>\n",
       "      <td>no</td>\n",
       "    </tr>\n",
       "    <tr>\n",
       "      <th>10</th>\n",
       "      <td>yes</td>\n",
       "    </tr>\n",
       "    <tr>\n",
       "      <th>3</th>\n",
       "      <td>yes</td>\n",
       "    </tr>\n",
       "  </tbody>\n",
       "</table>\n",
       "</div>"
      ],
      "text/plain": [
       "    Diamond_High\n",
       "20           yes\n",
       "45           yes\n",
       "103           no\n",
       "10           yes\n",
       "3            yes"
      ]
     },
     "execution_count": 25,
     "metadata": {},
     "output_type": "execute_result"
    }
   ],
   "source": [
    "y_test.head(5)"
   ]
  },
  {
   "cell_type": "code",
   "execution_count": 26,
   "metadata": {
    "scrolled": true
   },
   "outputs": [
    {
     "data": {
      "text/html": [
       "<div>\n",
       "<style scoped>\n",
       "    .dataframe tbody tr th:only-of-type {\n",
       "        vertical-align: middle;\n",
       "    }\n",
       "\n",
       "    .dataframe tbody tr th {\n",
       "        vertical-align: top;\n",
       "    }\n",
       "\n",
       "    .dataframe thead th {\n",
       "        text-align: right;\n",
       "    }\n",
       "</style>\n",
       "<table border=\"1\" class=\"dataframe\">\n",
       "  <thead>\n",
       "    <tr style=\"text-align: right;\">\n",
       "      <th></th>\n",
       "      <th>Na_clr</th>\n",
       "      <th>Mg_clr</th>\n",
       "      <th>Al_clr</th>\n",
       "      <th>Si_clr</th>\n",
       "      <th>Ca_clr</th>\n",
       "      <th>Sc_clr</th>\n",
       "      <th>Ti_clr</th>\n",
       "      <th>Mn_clr</th>\n",
       "      <th>Sr_clr</th>\n",
       "      <th>Y_clr</th>\n",
       "      <th>...</th>\n",
       "      <th>Nd_clr</th>\n",
       "      <th>Eu_clr</th>\n",
       "      <th>Gd_clr</th>\n",
       "      <th>Tb_clr</th>\n",
       "      <th>Dy_clr</th>\n",
       "      <th>Ho_clr</th>\n",
       "      <th>Er_clr</th>\n",
       "      <th>Yb_clr</th>\n",
       "      <th>Lu_clr</th>\n",
       "      <th>Ta_clr</th>\n",
       "    </tr>\n",
       "  </thead>\n",
       "  <tbody>\n",
       "    <tr>\n",
       "      <th>20</th>\n",
       "      <td>2.987337</td>\n",
       "      <td>7.836144</td>\n",
       "      <td>8.350412</td>\n",
       "      <td>9.360468</td>\n",
       "      <td>7.564681</td>\n",
       "      <td>0.367011</td>\n",
       "      <td>4.852001</td>\n",
       "      <td>4.283706</td>\n",
       "      <td>-3.898226</td>\n",
       "      <td>-0.232336</td>\n",
       "      <td>...</td>\n",
       "      <td>-3.482711</td>\n",
       "      <td>-4.450295</td>\n",
       "      <td>-3.283860</td>\n",
       "      <td>-4.622145</td>\n",
       "      <td>-2.207348</td>\n",
       "      <td>-3.482711</td>\n",
       "      <td>-2.357781</td>\n",
       "      <td>-2.052400</td>\n",
       "      <td>-3.960747</td>\n",
       "      <td>-6.701587</td>\n",
       "    </tr>\n",
       "    <tr>\n",
       "      <th>45</th>\n",
       "      <td>2.762111</td>\n",
       "      <td>6.676870</td>\n",
       "      <td>7.224950</td>\n",
       "      <td>8.139179</td>\n",
       "      <td>6.976534</td>\n",
       "      <td>0.163753</td>\n",
       "      <td>3.754397</td>\n",
       "      <td>3.877610</td>\n",
       "      <td>-0.094745</td>\n",
       "      <td>-0.434331</td>\n",
       "      <td>...</td>\n",
       "      <td>-3.034840</td>\n",
       "      <td>-4.121756</td>\n",
       "      <td>-2.538233</td>\n",
       "      <td>-3.941374</td>\n",
       "      <td>-1.921951</td>\n",
       "      <td>-3.355748</td>\n",
       "      <td>-2.291969</td>\n",
       "      <td>-2.184186</td>\n",
       "      <td>-4.110195</td>\n",
       "      <td>-6.011154</td>\n",
       "    </tr>\n",
       "    <tr>\n",
       "      <th>103</th>\n",
       "      <td>4.953507</td>\n",
       "      <td>7.951012</td>\n",
       "      <td>7.976612</td>\n",
       "      <td>9.055139</td>\n",
       "      <td>7.285973</td>\n",
       "      <td>1.931952</td>\n",
       "      <td>3.301046</td>\n",
       "      <td>4.943127</td>\n",
       "      <td>-0.707635</td>\n",
       "      <td>-0.827740</td>\n",
       "      <td>...</td>\n",
       "      <td>-3.840350</td>\n",
       "      <td>-5.292603</td>\n",
       "      <td>-4.224762</td>\n",
       "      <td>-5.125549</td>\n",
       "      <td>-2.700065</td>\n",
       "      <td>-4.106979</td>\n",
       "      <td>-2.830686</td>\n",
       "      <td>-2.315220</td>\n",
       "      <td>-3.929298</td>\n",
       "      <td>-8.205232</td>\n",
       "    </tr>\n",
       "    <tr>\n",
       "      <th>10</th>\n",
       "      <td>4.180842</td>\n",
       "      <td>8.302575</td>\n",
       "      <td>8.798142</td>\n",
       "      <td>9.720833</td>\n",
       "      <td>8.822607</td>\n",
       "      <td>0.012604</td>\n",
       "      <td>4.542149</td>\n",
       "      <td>3.988523</td>\n",
       "      <td>-2.595240</td>\n",
       "      <td>-1.141505</td>\n",
       "      <td>...</td>\n",
       "      <td>-2.189775</td>\n",
       "      <td>-3.717383</td>\n",
       "      <td>-2.786908</td>\n",
       "      <td>-4.276999</td>\n",
       "      <td>-2.630747</td>\n",
       "      <td>-4.341538</td>\n",
       "      <td>-3.553080</td>\n",
       "      <td>-3.871534</td>\n",
       "      <td>-5.950975</td>\n",
       "      <td>-5.440150</td>\n",
       "    </tr>\n",
       "    <tr>\n",
       "      <th>3</th>\n",
       "      <td>2.863625</td>\n",
       "      <td>7.820708</td>\n",
       "      <td>8.395218</td>\n",
       "      <td>9.316535</td>\n",
       "      <td>8.164154</td>\n",
       "      <td>0.927217</td>\n",
       "      <td>4.332200</td>\n",
       "      <td>4.119983</td>\n",
       "      <td>-1.767456</td>\n",
       "      <td>-1.100420</td>\n",
       "      <td>...</td>\n",
       "      <td>-2.687189</td>\n",
       "      <td>-4.144943</td>\n",
       "      <td>-3.178100</td>\n",
       "      <td>-4.875830</td>\n",
       "      <td>-2.866069</td>\n",
       "      <td>-4.550408</td>\n",
       "      <td>-3.281896</td>\n",
       "      <td>-3.329906</td>\n",
       "      <td>-4.955873</td>\n",
       "      <td>-6.054485</td>\n",
       "    </tr>\n",
       "  </tbody>\n",
       "</table>\n",
       "<p>5 rows × 22 columns</p>\n",
       "</div>"
      ],
      "text/plain": [
       "       Na_clr    Mg_clr    Al_clr    Si_clr    Ca_clr    Sc_clr    Ti_clr  \\\n",
       "20   2.987337  7.836144  8.350412  9.360468  7.564681  0.367011  4.852001   \n",
       "45   2.762111  6.676870  7.224950  8.139179  6.976534  0.163753  3.754397   \n",
       "103  4.953507  7.951012  7.976612  9.055139  7.285973  1.931952  3.301046   \n",
       "10   4.180842  8.302575  8.798142  9.720833  8.822607  0.012604  4.542149   \n",
       "3    2.863625  7.820708  8.395218  9.316535  8.164154  0.927217  4.332200   \n",
       "\n",
       "       Mn_clr    Sr_clr     Y_clr  ...    Nd_clr    Eu_clr    Gd_clr  \\\n",
       "20   4.283706 -3.898226 -0.232336  ... -3.482711 -4.450295 -3.283860   \n",
       "45   3.877610 -0.094745 -0.434331  ... -3.034840 -4.121756 -2.538233   \n",
       "103  4.943127 -0.707635 -0.827740  ... -3.840350 -5.292603 -4.224762   \n",
       "10   3.988523 -2.595240 -1.141505  ... -2.189775 -3.717383 -2.786908   \n",
       "3    4.119983 -1.767456 -1.100420  ... -2.687189 -4.144943 -3.178100   \n",
       "\n",
       "       Tb_clr    Dy_clr    Ho_clr    Er_clr    Yb_clr    Lu_clr    Ta_clr  \n",
       "20  -4.622145 -2.207348 -3.482711 -2.357781 -2.052400 -3.960747 -6.701587  \n",
       "45  -3.941374 -1.921951 -3.355748 -2.291969 -2.184186 -4.110195 -6.011154  \n",
       "103 -5.125549 -2.700065 -4.106979 -2.830686 -2.315220 -3.929298 -8.205232  \n",
       "10  -4.276999 -2.630747 -4.341538 -3.553080 -3.871534 -5.950975 -5.440150  \n",
       "3   -4.875830 -2.866069 -4.550408 -3.281896 -3.329906 -4.955873 -6.054485  \n",
       "\n",
       "[5 rows x 22 columns]"
      ]
     },
     "execution_count": 26,
     "metadata": {},
     "output_type": "execute_result"
    }
   ],
   "source": [
    "X_test.head(5)"
   ]
  },
  {
   "cell_type": "code",
   "execution_count": 27,
   "metadata": {
    "scrolled": true
   },
   "outputs": [
    {
     "data": {
      "text/html": [
       "<div>\n",
       "<style scoped>\n",
       "    .dataframe tbody tr th:only-of-type {\n",
       "        vertical-align: middle;\n",
       "    }\n",
       "\n",
       "    .dataframe tbody tr th {\n",
       "        vertical-align: top;\n",
       "    }\n",
       "\n",
       "    .dataframe thead th {\n",
       "        text-align: right;\n",
       "    }\n",
       "</style>\n",
       "<table border=\"1\" class=\"dataframe\">\n",
       "  <thead>\n",
       "    <tr style=\"text-align: right;\">\n",
       "      <th></th>\n",
       "      <th>Diamond_High</th>\n",
       "    </tr>\n",
       "  </thead>\n",
       "  <tbody>\n",
       "    <tr>\n",
       "      <th>109</th>\n",
       "      <td>no</td>\n",
       "    </tr>\n",
       "    <tr>\n",
       "      <th>25</th>\n",
       "      <td>yes</td>\n",
       "    </tr>\n",
       "    <tr>\n",
       "      <th>4</th>\n",
       "      <td>yes</td>\n",
       "    </tr>\n",
       "    <tr>\n",
       "      <th>93</th>\n",
       "      <td>no</td>\n",
       "    </tr>\n",
       "    <tr>\n",
       "      <th>106</th>\n",
       "      <td>no</td>\n",
       "    </tr>\n",
       "  </tbody>\n",
       "</table>\n",
       "</div>"
      ],
      "text/plain": [
       "    Diamond_High\n",
       "109           no\n",
       "25           yes\n",
       "4            yes\n",
       "93            no\n",
       "106           no"
      ]
     },
     "execution_count": 27,
     "metadata": {},
     "output_type": "execute_result"
    }
   ],
   "source": [
    "y_val.head(5)"
   ]
  },
  {
   "cell_type": "code",
   "execution_count": 28,
   "metadata": {
    "scrolled": true
   },
   "outputs": [
    {
     "data": {
      "text/html": [
       "<div>\n",
       "<style scoped>\n",
       "    .dataframe tbody tr th:only-of-type {\n",
       "        vertical-align: middle;\n",
       "    }\n",
       "\n",
       "    .dataframe tbody tr th {\n",
       "        vertical-align: top;\n",
       "    }\n",
       "\n",
       "    .dataframe thead th {\n",
       "        text-align: right;\n",
       "    }\n",
       "</style>\n",
       "<table border=\"1\" class=\"dataframe\">\n",
       "  <thead>\n",
       "    <tr style=\"text-align: right;\">\n",
       "      <th></th>\n",
       "      <th>Na_clr</th>\n",
       "      <th>Mg_clr</th>\n",
       "      <th>Al_clr</th>\n",
       "      <th>Si_clr</th>\n",
       "      <th>Ca_clr</th>\n",
       "      <th>Sc_clr</th>\n",
       "      <th>Ti_clr</th>\n",
       "      <th>Mn_clr</th>\n",
       "      <th>Sr_clr</th>\n",
       "      <th>Y_clr</th>\n",
       "      <th>...</th>\n",
       "      <th>Nd_clr</th>\n",
       "      <th>Eu_clr</th>\n",
       "      <th>Gd_clr</th>\n",
       "      <th>Tb_clr</th>\n",
       "      <th>Dy_clr</th>\n",
       "      <th>Ho_clr</th>\n",
       "      <th>Er_clr</th>\n",
       "      <th>Yb_clr</th>\n",
       "      <th>Lu_clr</th>\n",
       "      <th>Ta_clr</th>\n",
       "    </tr>\n",
       "  </thead>\n",
       "  <tbody>\n",
       "    <tr>\n",
       "      <th>109</th>\n",
       "      <td>2.274170</td>\n",
       "      <td>7.953645</td>\n",
       "      <td>7.896628</td>\n",
       "      <td>8.882147</td>\n",
       "      <td>7.104743</td>\n",
       "      <td>1.171477</td>\n",
       "      <td>3.398866</td>\n",
       "      <td>4.518214</td>\n",
       "      <td>-1.471593</td>\n",
       "      <td>-0.567965</td>\n",
       "      <td>...</td>\n",
       "      <td>-3.156668</td>\n",
       "      <td>-3.963144</td>\n",
       "      <td>-2.607309</td>\n",
       "      <td>-4.137498</td>\n",
       "      <td>-2.699018</td>\n",
       "      <td>-3.375358</td>\n",
       "      <td>-2.591964</td>\n",
       "      <td>-2.781417</td>\n",
       "      <td>-4.656291</td>\n",
       "      <td>-8.127328</td>\n",
       "    </tr>\n",
       "    <tr>\n",
       "      <th>25</th>\n",
       "      <td>3.155656</td>\n",
       "      <td>6.792351</td>\n",
       "      <td>7.728522</td>\n",
       "      <td>8.689833</td>\n",
       "      <td>6.902087</td>\n",
       "      <td>0.502686</td>\n",
       "      <td>1.954843</td>\n",
       "      <td>4.577170</td>\n",
       "      <td>-5.220288</td>\n",
       "      <td>0.864700</td>\n",
       "      <td>...</td>\n",
       "      <td>-3.170494</td>\n",
       "      <td>-3.619187</td>\n",
       "      <td>-1.753894</td>\n",
       "      <td>-3.162831</td>\n",
       "      <td>-1.095871</td>\n",
       "      <td>-2.443317</td>\n",
       "      <td>-1.272989</td>\n",
       "      <td>-0.971561</td>\n",
       "      <td>-2.770170</td>\n",
       "      <td>-9.189917</td>\n",
       "    </tr>\n",
       "    <tr>\n",
       "      <th>4</th>\n",
       "      <td>3.959154</td>\n",
       "      <td>7.582180</td>\n",
       "      <td>8.231887</td>\n",
       "      <td>9.187019</td>\n",
       "      <td>7.661038</td>\n",
       "      <td>0.638427</td>\n",
       "      <td>4.668046</td>\n",
       "      <td>4.501715</td>\n",
       "      <td>-3.854135</td>\n",
       "      <td>0.369409</td>\n",
       "      <td>...</td>\n",
       "      <td>-3.959495</td>\n",
       "      <td>-4.451972</td>\n",
       "      <td>-3.482571</td>\n",
       "      <td>-4.077278</td>\n",
       "      <td>-1.725903</td>\n",
       "      <td>-2.958047</td>\n",
       "      <td>-1.790441</td>\n",
       "      <td>-1.693689</td>\n",
       "      <td>-3.630991</td>\n",
       "      <td>-7.543014</td>\n",
       "    </tr>\n",
       "    <tr>\n",
       "      <th>93</th>\n",
       "      <td>5.281962</td>\n",
       "      <td>8.589268</td>\n",
       "      <td>8.500139</td>\n",
       "      <td>9.497085</td>\n",
       "      <td>7.285629</td>\n",
       "      <td>1.036535</td>\n",
       "      <td>4.364274</td>\n",
       "      <td>4.954873</td>\n",
       "      <td>-3.257831</td>\n",
       "      <td>-0.512393</td>\n",
       "      <td>...</td>\n",
       "      <td>-3.849196</td>\n",
       "      <td>-4.064307</td>\n",
       "      <td>-3.006517</td>\n",
       "      <td>-4.392811</td>\n",
       "      <td>-2.407986</td>\n",
       "      <td>-3.915887</td>\n",
       "      <td>-2.573653</td>\n",
       "      <td>-2.355929</td>\n",
       "      <td>-4.287451</td>\n",
       "      <td>-9.036028</td>\n",
       "    </tr>\n",
       "    <tr>\n",
       "      <th>106</th>\n",
       "      <td>5.406928</td>\n",
       "      <td>8.407291</td>\n",
       "      <td>8.451694</td>\n",
       "      <td>9.526350</td>\n",
       "      <td>7.619120</td>\n",
       "      <td>1.057154</td>\n",
       "      <td>3.743903</td>\n",
       "      <td>4.910194</td>\n",
       "      <td>-0.791487</td>\n",
       "      <td>-1.331609</td>\n",
       "      <td>...</td>\n",
       "      <td>-3.416471</td>\n",
       "      <td>-4.472523</td>\n",
       "      <td>-3.811125</td>\n",
       "      <td>-5.299202</td>\n",
       "      <td>-3.202061</td>\n",
       "      <td>-4.537062</td>\n",
       "      <td>-3.661593</td>\n",
       "      <td>-3.274820</td>\n",
       "      <td>-5.047887</td>\n",
       "      <td>-7.245112</td>\n",
       "    </tr>\n",
       "  </tbody>\n",
       "</table>\n",
       "<p>5 rows × 22 columns</p>\n",
       "</div>"
      ],
      "text/plain": [
       "       Na_clr    Mg_clr    Al_clr    Si_clr    Ca_clr    Sc_clr    Ti_clr  \\\n",
       "109  2.274170  7.953645  7.896628  8.882147  7.104743  1.171477  3.398866   \n",
       "25   3.155656  6.792351  7.728522  8.689833  6.902087  0.502686  1.954843   \n",
       "4    3.959154  7.582180  8.231887  9.187019  7.661038  0.638427  4.668046   \n",
       "93   5.281962  8.589268  8.500139  9.497085  7.285629  1.036535  4.364274   \n",
       "106  5.406928  8.407291  8.451694  9.526350  7.619120  1.057154  3.743903   \n",
       "\n",
       "       Mn_clr    Sr_clr     Y_clr  ...    Nd_clr    Eu_clr    Gd_clr  \\\n",
       "109  4.518214 -1.471593 -0.567965  ... -3.156668 -3.963144 -2.607309   \n",
       "25   4.577170 -5.220288  0.864700  ... -3.170494 -3.619187 -1.753894   \n",
       "4    4.501715 -3.854135  0.369409  ... -3.959495 -4.451972 -3.482571   \n",
       "93   4.954873 -3.257831 -0.512393  ... -3.849196 -4.064307 -3.006517   \n",
       "106  4.910194 -0.791487 -1.331609  ... -3.416471 -4.472523 -3.811125   \n",
       "\n",
       "       Tb_clr    Dy_clr    Ho_clr    Er_clr    Yb_clr    Lu_clr    Ta_clr  \n",
       "109 -4.137498 -2.699018 -3.375358 -2.591964 -2.781417 -4.656291 -8.127328  \n",
       "25  -3.162831 -1.095871 -2.443317 -1.272989 -0.971561 -2.770170 -9.189917  \n",
       "4   -4.077278 -1.725903 -2.958047 -1.790441 -1.693689 -3.630991 -7.543014  \n",
       "93  -4.392811 -2.407986 -3.915887 -2.573653 -2.355929 -4.287451 -9.036028  \n",
       "106 -5.299202 -3.202061 -4.537062 -3.661593 -3.274820 -5.047887 -7.245112  \n",
       "\n",
       "[5 rows x 22 columns]"
      ]
     },
     "execution_count": 28,
     "metadata": {},
     "output_type": "execute_result"
    }
   ],
   "source": [
    "X_val.head(5)"
   ]
  },
  {
   "cell_type": "markdown",
   "metadata": {},
   "source": [
    "**Next encode the categorical variablesfor diamond content, yes and no, using one hot vector multilabel. The data is split first then one hot encoded since the split function cannot handle more than one Y column.**"
   ]
  },
  {
   "cell_type": "code",
   "execution_count": 29,
   "metadata": {
    "scrolled": true
   },
   "outputs": [
    {
     "data": {
      "text/html": [
       "<div>\n",
       "<style scoped>\n",
       "    .dataframe tbody tr th:only-of-type {\n",
       "        vertical-align: middle;\n",
       "    }\n",
       "\n",
       "    .dataframe tbody tr th {\n",
       "        vertical-align: top;\n",
       "    }\n",
       "\n",
       "    .dataframe thead th {\n",
       "        text-align: right;\n",
       "    }\n",
       "</style>\n",
       "<table border=\"1\" class=\"dataframe\">\n",
       "  <thead>\n",
       "    <tr style=\"text-align: right;\">\n",
       "      <th></th>\n",
       "      <th>diamond_no</th>\n",
       "      <th>diamond_yes</th>\n",
       "    </tr>\n",
       "  </thead>\n",
       "  <tbody>\n",
       "    <tr>\n",
       "      <th>62</th>\n",
       "      <td>1</td>\n",
       "      <td>0</td>\n",
       "    </tr>\n",
       "    <tr>\n",
       "      <th>56</th>\n",
       "      <td>0</td>\n",
       "      <td>1</td>\n",
       "    </tr>\n",
       "    <tr>\n",
       "      <th>72</th>\n",
       "      <td>1</td>\n",
       "      <td>0</td>\n",
       "    </tr>\n",
       "    <tr>\n",
       "      <th>2</th>\n",
       "      <td>0</td>\n",
       "      <td>1</td>\n",
       "    </tr>\n",
       "    <tr>\n",
       "      <th>113</th>\n",
       "      <td>1</td>\n",
       "      <td>0</td>\n",
       "    </tr>\n",
       "  </tbody>\n",
       "</table>\n",
       "</div>"
      ],
      "text/plain": [
       "     diamond_no  diamond_yes\n",
       "62            1            0\n",
       "56            0            1\n",
       "72            1            0\n",
       "2             0            1\n",
       "113           1            0"
      ]
     },
     "execution_count": 29,
     "metadata": {},
     "output_type": "execute_result"
    }
   ],
   "source": [
    "y_traindm = pd.get_dummies(y_train['Diamond_High'], prefix = 'diamond')\n",
    "y_traindm.head(5)"
   ]
  },
  {
   "cell_type": "code",
   "execution_count": 30,
   "metadata": {
    "scrolled": true
   },
   "outputs": [
    {
     "data": {
      "text/html": [
       "<div>\n",
       "<style scoped>\n",
       "    .dataframe tbody tr th:only-of-type {\n",
       "        vertical-align: middle;\n",
       "    }\n",
       "\n",
       "    .dataframe tbody tr th {\n",
       "        vertical-align: top;\n",
       "    }\n",
       "\n",
       "    .dataframe thead th {\n",
       "        text-align: right;\n",
       "    }\n",
       "</style>\n",
       "<table border=\"1\" class=\"dataframe\">\n",
       "  <thead>\n",
       "    <tr style=\"text-align: right;\">\n",
       "      <th></th>\n",
       "      <th>diamond_no</th>\n",
       "      <th>diamond_yes</th>\n",
       "    </tr>\n",
       "  </thead>\n",
       "  <tbody>\n",
       "    <tr>\n",
       "      <th>20</th>\n",
       "      <td>0</td>\n",
       "      <td>1</td>\n",
       "    </tr>\n",
       "    <tr>\n",
       "      <th>45</th>\n",
       "      <td>0</td>\n",
       "      <td>1</td>\n",
       "    </tr>\n",
       "    <tr>\n",
       "      <th>103</th>\n",
       "      <td>1</td>\n",
       "      <td>0</td>\n",
       "    </tr>\n",
       "    <tr>\n",
       "      <th>10</th>\n",
       "      <td>0</td>\n",
       "      <td>1</td>\n",
       "    </tr>\n",
       "    <tr>\n",
       "      <th>3</th>\n",
       "      <td>0</td>\n",
       "      <td>1</td>\n",
       "    </tr>\n",
       "  </tbody>\n",
       "</table>\n",
       "</div>"
      ],
      "text/plain": [
       "     diamond_no  diamond_yes\n",
       "20            0            1\n",
       "45            0            1\n",
       "103           1            0\n",
       "10            0            1\n",
       "3             0            1"
      ]
     },
     "execution_count": 30,
     "metadata": {},
     "output_type": "execute_result"
    }
   ],
   "source": [
    "y_testdm = pd.get_dummies(y_test['Diamond_High'], prefix = 'diamond')\n",
    "y_testdm.head(5)"
   ]
  },
  {
   "cell_type": "code",
   "execution_count": 31,
   "metadata": {
    "scrolled": true
   },
   "outputs": [
    {
     "data": {
      "text/html": [
       "<div>\n",
       "<style scoped>\n",
       "    .dataframe tbody tr th:only-of-type {\n",
       "        vertical-align: middle;\n",
       "    }\n",
       "\n",
       "    .dataframe tbody tr th {\n",
       "        vertical-align: top;\n",
       "    }\n",
       "\n",
       "    .dataframe thead th {\n",
       "        text-align: right;\n",
       "    }\n",
       "</style>\n",
       "<table border=\"1\" class=\"dataframe\">\n",
       "  <thead>\n",
       "    <tr style=\"text-align: right;\">\n",
       "      <th></th>\n",
       "      <th>diamond_no</th>\n",
       "      <th>diamond_yes</th>\n",
       "    </tr>\n",
       "  </thead>\n",
       "  <tbody>\n",
       "    <tr>\n",
       "      <th>109</th>\n",
       "      <td>1</td>\n",
       "      <td>0</td>\n",
       "    </tr>\n",
       "    <tr>\n",
       "      <th>25</th>\n",
       "      <td>0</td>\n",
       "      <td>1</td>\n",
       "    </tr>\n",
       "    <tr>\n",
       "      <th>4</th>\n",
       "      <td>0</td>\n",
       "      <td>1</td>\n",
       "    </tr>\n",
       "    <tr>\n",
       "      <th>93</th>\n",
       "      <td>1</td>\n",
       "      <td>0</td>\n",
       "    </tr>\n",
       "    <tr>\n",
       "      <th>106</th>\n",
       "      <td>1</td>\n",
       "      <td>0</td>\n",
       "    </tr>\n",
       "  </tbody>\n",
       "</table>\n",
       "</div>"
      ],
      "text/plain": [
       "     diamond_no  diamond_yes\n",
       "109           1            0\n",
       "25            0            1\n",
       "4             0            1\n",
       "93            1            0\n",
       "106           1            0"
      ]
     },
     "execution_count": 31,
     "metadata": {},
     "output_type": "execute_result"
    }
   ],
   "source": [
    "y_valdm = pd.get_dummies(y_val['Diamond_High'], prefix = 'diamond')\n",
    "y_valdm.head(5)"
   ]
  },
  {
   "cell_type": "code",
   "execution_count": 32,
   "metadata": {
    "scrolled": true
   },
   "outputs": [
    {
     "name": "stdout",
     "output_type": "stream",
     "text": [
      "(58, 22) (29, 22) (29, 22)\n",
      "(58, 2) (29, 2) (29, 2)\n"
     ]
    }
   ],
   "source": [
    "# Show the rows and columns count for each split\n",
    "print(X_train.shape, X_val.shape, X_test.shape)\n",
    "print(y_traindm.shape, y_valdm.shape, y_testdm.shape)"
   ]
  },
  {
   "cell_type": "markdown",
   "metadata": {},
   "source": [
    "# Building and Training the Neural Network"
   ]
  },
  {
   "cell_type": "markdown",
   "metadata": {},
   "source": [
    "**Keras is used to build our architecture and will need to be imported.**"
   ]
  },
  {
   "cell_type": "code",
   "execution_count": 33,
   "metadata": {
    "scrolled": true
   },
   "outputs": [],
   "source": [
    "from tensorflow.keras.models import Sequential\n",
    "from tensorflow.keras.layers import Dense\n",
    "from tensorflow.keras.models import model_from_json"
   ]
  },
  {
   "cell_type": "markdown",
   "metadata": {},
   "source": [
    "## A Sequential model will be used, meaning that the layers are described in order. This neural network has two layers:\n",
    "\n",
    "- Hidden layer 1: 10 neurons, ReLU activation (rectified linear activation for a piecewise linear function that will output the input directly if it is positive, otherwise, it will output zero. Useful for developing multilayer Perceptron and convolutional neural networks.)\n",
    "- Hidden layer 2: 5 neurons, ReLU activation\n",
    "- Output Layer: 2 neurons, Softmax activation (allows for classification)\n",
    "- Input Shape: 22 variables (centred log-ratio element concentrations)"
   ]
  },
  {
   "cell_type": "code",
   "execution_count": 34,
   "metadata": {
    "scrolled": true
   },
   "outputs": [
    {
     "name": "stdout",
     "output_type": "stream",
     "text": [
      "Model: \"sequential\"\n",
      "_________________________________________________________________\n",
      "Layer (type)                 Output Shape              Param #   \n",
      "=================================================================\n",
      "dense (Dense)                (None, 10)                230       \n",
      "_________________________________________________________________\n",
      "dense_1 (Dense)              (None, 5)                 55        \n",
      "_________________________________________________________________\n",
      "dense_2 (Dense)              (None, 2)                 12        \n",
      "=================================================================\n",
      "Total params: 297\n",
      "Trainable params: 297\n",
      "Non-trainable params: 0\n",
      "_________________________________________________________________\n",
      "None\n"
     ]
    }
   ],
   "source": [
    "model = Sequential([\n",
    "    Dense(10, activation='relu', input_shape=(22,)),\n",
    "    Dense(5, activation='relu'),\n",
    "    Dense(2, activation='softmax'),\n",
    "])\n",
    "print(model.summary())"
   ]
  },
  {
   "cell_type": "markdown",
   "metadata": {},
   "source": [
    "## Setup Visualization of the Neural Network"
   ]
  },
  {
   "cell_type": "code",
   "execution_count": 35,
   "metadata": {
    "scrolled": true
   },
   "outputs": [],
   "source": [
    "# Load the TensorBoard notebook extension.\n",
    "%load_ext tensorboard"
   ]
  },
  {
   "cell_type": "code",
   "execution_count": 36,
   "metadata": {
    "scrolled": true
   },
   "outputs": [
    {
     "name": "stdout",
     "output_type": "stream",
     "text": [
      "TensorFlow version:  2.4.0\n"
     ]
    }
   ],
   "source": [
    "from datetime import datetime\n",
    "from packaging import version\n",
    "\n",
    "import tensorflow as tf\n",
    "from tensorflow import keras\n",
    "\n",
    "print(\"TensorFlow version: \", tf.__version__)\n",
    "assert version.parse(tf.__version__).release[0] >= 2, \\\n",
    "    \"This notebook requires TensorFlow 2.0 or above.\""
   ]
  },
  {
   "cell_type": "code",
   "execution_count": 37,
   "metadata": {
    "scrolled": true
   },
   "outputs": [
    {
     "data": {
      "text/plain": [
       "'2.4.0'"
      ]
     },
     "execution_count": 37,
     "metadata": {},
     "output_type": "execute_result"
    }
   ],
   "source": [
    "import tensorboard\n",
    "tensorboard.__version__"
   ]
  },
  {
   "cell_type": "code",
   "execution_count": 38,
   "metadata": {
    "scrolled": true
   },
   "outputs": [],
   "source": [
    "# Define the Keras TensorBoard callback prior to training.\n",
    "logdir=\"logs/fit/\" + datetime.now().strftime(\"%Y%m%d-%H%M%S\")\n",
    "tensorboard_callback = keras.callbacks.TensorBoard(log_dir=logdir)"
   ]
  },
  {
   "cell_type": "markdown",
   "metadata": {},
   "source": [
    "# Determine the Importance of the Features\n",
    "We measure the importance of a feature by calculating the increase in the model's prediction error after permuting the feature. A feature is \"important\" if shuffling its values increases the model error, because in this case the model relied on the feature for the prediction. A feature is \"unimportant\" if shuffling its values leaves the model error unchanged, because in this case the model ignored the feature for the prediction. The permutation feature importance measurement was introduced by Breiman (2001) for random forests. Based on this idea, Fisher, Rudin, and Dominici (2018) proposed a model-agnostic version of the feature importance and called it model reliance. They also introduced more advanced ideas about feature importance, for example a (model-specific) version that takes into account that many prediction models may predict the data well. Rebelo de Sá (2019) developed code to measure the variance of the weights calculated during the training phase to get the relative importance of the features in the neural network."
   ]
  },
  {
   "cell_type": "code",
   "execution_count": 39,
   "metadata": {
    "scrolled": true
   },
   "outputs": [],
   "source": [
    "#Setting up feature importance tracking\n",
    "#Rebelo de Sá, C. (2019). Variance-based feature importance in neural networks.\n",
    "#22st International Conference on Discovery Science (DS 2019) Split, Croatia, October 28-30, 2019\n",
    "\n",
    "\n",
    "class VarImpVIANN(keras.callbacks.Callback):\n",
    "    def __init__(self, verbose=0):\n",
    "        self.verbose = verbose\n",
    "        self.n = 0\n",
    "        self.M2 = 0.0\n",
    "\n",
    "    def on_train_begin(self, logs={}, verbose = 1):\n",
    "        if self.verbose:\n",
    "            print(\"VIANN version 1.0 (Wellford + Mean) update per epoch\")\n",
    "        self.diff = self.model.layers[0].get_weights()[0]\n",
    "        \n",
    "    def on_epoch_end(self, batch, logs={}):\n",
    "        currentWeights = self.model.layers[0].get_weights()[0]\n",
    "        \n",
    "        self.n += 1\n",
    "        delta = np.subtract(currentWeights, self.diff)\n",
    "        self.diff += delta/self.n\n",
    "        delta2 = np.subtract(currentWeights, self.diff)\n",
    "        self.M2 += delta*delta2\n",
    "            \n",
    "        self.lastweights = self.model.layers[0].get_weights()[0]\n",
    "\n",
    "    def on_train_end(self, batch, logs={}):\n",
    "        if self.n < 2:\n",
    "            self.s2 = float('nan')\n",
    "        else:\n",
    "            self.s2 = self.M2 / (self.n - 1)\n",
    "        \n",
    "        scores = np.sum(np.multiply(self.s2, np.abs(self.lastweights)), axis = 1)\n",
    "        \n",
    "        self.varScores = (scores - min(scores)) / (max(scores) - min(scores))\n",
    "        if self.verbose:\n",
    "            print(\"Most important variables: \",\n",
    "                  np.array(self.varScores).argsort()[-10:][::-1])\n",
    "\n",
    "VIANN = VarImpVIANN(verbose=1)"
   ]
  },
  {
   "cell_type": "code",
   "execution_count": 40,
   "metadata": {
    "scrolled": true
   },
   "outputs": [
    {
     "data": {
      "image/png": "[encoded data removed]",
      "text/plain": [
       "<IPython.core.display.Image object>"
      ]
     },
     "execution_count": 40,
     "metadata": {},
     "output_type": "execute_result"
    }
   ],
   "source": [
    "from keras.utils.vis_utils import plot_model\n",
    "plot_model(model, to_file='model_plot_EG_template.png', show_shapes=True, show_layer_names=True)"
   ]
  },
  {
   "cell_type": "markdown",
   "metadata": {},
   "source": [
    "**Now that we've got our architecture specified, we need to find the best numbers for it. Before we start our training, we have to configure the model by:**\n",
    "- Telling it what algorithm you want to use to do the optimization (we'll use stochastic gradient descent, **sgd**)\n",
    "- Telling it what loss function to use (for binary classification, we will use **binary cross entropy**)\n",
    "- Telling it what other metrics you want to track apart from the loss function (we want to track **accuracy** as well)"
   ]
  },
  {
   "cell_type": "code",
   "execution_count": 41,
   "metadata": {
    "scrolled": true
   },
   "outputs": [],
   "source": [
    "model.compile(optimizer='sgd',\n",
    "              loss='binary_crossentropy',\n",
    "              metrics=['accuracy'])"
   ]
  },
  {
   "cell_type": "markdown",
   "metadata": {},
   "source": [
    "##### **Training on the data is pretty straightforward and requires one line of code. The function is called 'fit' as we are fitting the parameters to the data.**\n",
    "\n",
    "**We specify:**\n",
    "- What data we are training on, which is X_train and y_train\n",
    "- The size of our mini-batch (since we only have 58 training samples we won't split into mini-batches)\n",
    "- How long we want to train it for (epochs)\n",
    "- What our validation data is so that the model will tell us how we are doing on the validation data at each point.\n",
    "\n",
    "**This function will output a history, which we save under the variable hist to be used later.**"
   ]
  },
  {
   "cell_type": "code",
   "execution_count": 42,
   "metadata": {
    "scrolled": true
   },
   "outputs": [
    {
     "name": "stdout",
     "output_type": "stream",
     "text": [
      "VIANN version 1.0 (Wellford + Mean) update per epoch\n",
      "Epoch 1/100\n",
      "1/1 [==============================] - 2s 2s/step - loss: 0.8808 - accuracy: 0.5000 - val_loss: 0.8171 - val_accuracy: 0.5172\n",
      "Epoch 2/100\n",
      "1/1 [==============================] - 0s 34ms/step - loss: 0.8272 - accuracy: 0.5000 - val_loss: 0.7810 - val_accuracy: 0.5172\n",
      "Epoch 3/100\n",
      "1/1 [==============================] - 0s 32ms/step - loss: 0.7883 - accuracy: 0.5000 - val_loss: 0.7562 - val_accuracy: 0.5172\n",
      "Epoch 4/100\n",
      "1/1 [==============================] - 0s 32ms/step - loss: 0.7607 - accuracy: 0.5000 - val_loss: 0.7394 - val_accuracy: 0.5172\n",
      "Epoch 5/100\n",
      "1/1 [==============================] - 0s 32ms/step - loss: 0.7414 - accuracy: 0.5000 - val_loss: 0.7281 - val_accuracy: 0.5172\n",
      "Epoch 6/100\n",
      "1/1 [==============================] - 0s 32ms/step - loss: 0.7280 - accuracy: 0.5000 - val_loss: 0.7208 - val_accuracy: 0.5172\n",
      "Epoch 7/100\n",
      "1/1 [==============================] - 0s 32ms/step - loss: 0.7183 - accuracy: 0.5000 - val_loss: 0.7159 - val_accuracy: 0.5172\n",
      "Epoch 8/100\n",
      "1/1 [==============================] - 0s 33ms/step - loss: 0.7109 - accuracy: 0.5000 - val_loss: 0.7131 - val_accuracy: 0.5172\n",
      "Epoch 9/100\n",
      "1/1 [==============================] - 0s 32ms/step - loss: 0.7050 - accuracy: 0.5000 - val_loss: 0.7110 - val_accuracy: 0.5172\n",
      "Epoch 10/100\n",
      "1/1 [==============================] - 0s 32ms/step - loss: 0.7004 - accuracy: 0.5000 - val_loss: 0.7095 - val_accuracy: 0.5172\n",
      "Epoch 11/100\n",
      "1/1 [==============================] - 0s 33ms/step - loss: 0.6967 - accuracy: 0.5000 - val_loss: 0.7085 - val_accuracy: 0.5172\n",
      "Epoch 12/100\n",
      "1/1 [==============================] - 0s 32ms/step - loss: 0.6936 - accuracy: 0.5000 - val_loss: 0.7082 - val_accuracy: 0.5172\n",
      "Epoch 13/100\n",
      "1/1 [==============================] - 0s 36ms/step - loss: 0.6908 - accuracy: 0.4828 - val_loss: 0.7079 - val_accuracy: 0.5172\n",
      "Epoch 14/100\n",
      "1/1 [==============================] - 0s 35ms/step - loss: 0.6884 - accuracy: 0.5000 - val_loss: 0.7078 - val_accuracy: 0.5172\n",
      "Epoch 15/100\n",
      "1/1 [==============================] - 0s 36ms/step - loss: 0.6864 - accuracy: 0.5172 - val_loss: 0.7078 - val_accuracy: 0.4828\n",
      "Epoch 16/100\n",
      "1/1 [==============================] - 0s 34ms/step - loss: 0.6846 - accuracy: 0.5172 - val_loss: 0.7080 - val_accuracy: 0.4828\n",
      "Epoch 17/100\n",
      "1/1 [==============================] - 0s 35ms/step - loss: 0.6830 - accuracy: 0.5172 - val_loss: 0.7081 - val_accuracy: 0.4828\n",
      "Epoch 18/100\n",
      "1/1 [==============================] - 0s 34ms/step - loss: 0.6816 - accuracy: 0.5345 - val_loss: 0.7083 - val_accuracy: 0.4483\n",
      "Epoch 19/100\n",
      "1/1 [==============================] - 0s 34ms/step - loss: 0.6803 - accuracy: 0.5345 - val_loss: 0.7085 - val_accuracy: 0.4483\n",
      "Epoch 20/100\n",
      "1/1 [==============================] - 0s 32ms/step - loss: 0.6791 - accuracy: 0.5345 - val_loss: 0.7085 - val_accuracy: 0.4483\n",
      "Epoch 21/100\n",
      "1/1 [==============================] - 0s 34ms/step - loss: 0.6781 - accuracy: 0.5172 - val_loss: 0.7086 - val_accuracy: 0.4483\n",
      "Epoch 22/100\n",
      "1/1 [==============================] - 0s 35ms/step - loss: 0.6771 - accuracy: 0.5345 - val_loss: 0.7086 - val_accuracy: 0.4138\n",
      "Epoch 23/100\n",
      "1/1 [==============================] - 0s 32ms/step - loss: 0.6762 - accuracy: 0.5345 - val_loss: 0.7087 - val_accuracy: 0.4138\n",
      "Epoch 24/100\n",
      "1/1 [==============================] - 0s 33ms/step - loss: 0.6753 - accuracy: 0.5172 - val_loss: 0.7087 - val_accuracy: 0.3793\n",
      "Epoch 25/100\n",
      "1/1 [==============================] - 0s 31ms/step - loss: 0.6745 - accuracy: 0.5172 - val_loss: 0.7087 - val_accuracy: 0.3793\n",
      "Epoch 26/100\n",
      "1/1 [==============================] - 0s 32ms/step - loss: 0.6737 - accuracy: 0.5172 - val_loss: 0.7087 - val_accuracy: 0.3793\n",
      "Epoch 27/100\n",
      "1/1 [==============================] - 0s 34ms/step - loss: 0.6729 - accuracy: 0.5172 - val_loss: 0.7086 - val_accuracy: 0.4138\n",
      "Epoch 28/100\n",
      "1/1 [==============================] - 0s 30ms/step - loss: 0.6721 - accuracy: 0.5172 - val_loss: 0.7085 - val_accuracy: 0.4138\n",
      "Epoch 29/100\n",
      "1/1 [==============================] - 0s 31ms/step - loss: 0.6715 - accuracy: 0.5172 - val_loss: 0.7085 - val_accuracy: 0.4138\n",
      "Epoch 30/100\n",
      "1/1 [==============================] - 0s 30ms/step - loss: 0.6708 - accuracy: 0.5172 - val_loss: 0.7085 - val_accuracy: 0.4138\n",
      "Epoch 31/100\n",
      "1/1 [==============================] - 0s 32ms/step - loss: 0.6702 - accuracy: 0.5172 - val_loss: 0.7084 - val_accuracy: 0.4138\n",
      "Epoch 32/100\n",
      "1/1 [==============================] - 0s 31ms/step - loss: 0.6695 - accuracy: 0.5172 - val_loss: 0.7084 - val_accuracy: 0.3793\n",
      "Epoch 33/100\n",
      "1/1 [==============================] - 0s 31ms/step - loss: 0.6690 - accuracy: 0.5172 - val_loss: 0.7083 - val_accuracy: 0.3793\n",
      "Epoch 34/100\n",
      "1/1 [==============================] - 0s 30ms/step - loss: 0.6684 - accuracy: 0.5172 - val_loss: 0.7081 - val_accuracy: 0.3793\n",
      "Epoch 35/100\n",
      "1/1 [==============================] - 0s 32ms/step - loss: 0.6678 - accuracy: 0.5345 - val_loss: 0.7079 - val_accuracy: 0.3793\n",
      "Epoch 36/100\n",
      "1/1 [==============================] - 0s 34ms/step - loss: 0.6673 - accuracy: 0.5345 - val_loss: 0.7077 - val_accuracy: 0.3793\n",
      "Epoch 37/100\n",
      "1/1 [==============================] - 0s 34ms/step - loss: 0.6668 - accuracy: 0.5345 - val_loss: 0.7075 - val_accuracy: 0.3793\n",
      "Epoch 38/100\n",
      "1/1 [==============================] - 0s 33ms/step - loss: 0.6663 - accuracy: 0.5345 - val_loss: 0.7073 - val_accuracy: 0.3793\n",
      "Epoch 39/100\n",
      "1/1 [==============================] - 0s 33ms/step - loss: 0.6658 - accuracy: 0.5172 - val_loss: 0.7072 - val_accuracy: 0.3793\n",
      "Epoch 40/100\n",
      "1/1 [==============================] - 0s 30ms/step - loss: 0.6653 - accuracy: 0.5172 - val_loss: 0.7070 - val_accuracy: 0.3793\n",
      "Epoch 41/100\n",
      "1/1 [==============================] - 0s 31ms/step - loss: 0.6648 - accuracy: 0.5172 - val_loss: 0.7067 - val_accuracy: 0.4138\n",
      "Epoch 42/100\n",
      "1/1 [==============================] - 0s 32ms/step - loss: 0.6643 - accuracy: 0.5172 - val_loss: 0.7060 - val_accuracy: 0.4138\n",
      "Epoch 43/100\n",
      "1/1 [==============================] - 0s 30ms/step - loss: 0.6637 - accuracy: 0.5172 - val_loss: 0.7052 - val_accuracy: 0.4138\n",
      "Epoch 44/100\n",
      "1/1 [==============================] - 0s 30ms/step - loss: 0.6632 - accuracy: 0.5172 - val_loss: 0.7052 - val_accuracy: 0.4138\n",
      "Epoch 45/100\n",
      "1/1 [==============================] - 0s 30ms/step - loss: 0.6628 - accuracy: 0.5172 - val_loss: 0.7052 - val_accuracy: 0.4138\n",
      "Epoch 46/100\n",
      "1/1 [==============================] - 0s 31ms/step - loss: 0.6624 - accuracy: 0.5172 - val_loss: 0.7051 - val_accuracy: 0.4138\n",
      "Epoch 47/100\n",
      "1/1 [==============================] - 0s 30ms/step - loss: 0.6621 - accuracy: 0.5172 - val_loss: 0.7051 - val_accuracy: 0.4138\n",
      "Epoch 48/100\n",
      "1/1 [==============================] - 0s 30ms/step - loss: 0.6617 - accuracy: 0.5172 - val_loss: 0.7050 - val_accuracy: 0.4138\n",
      "Epoch 49/100\n",
      "1/1 [==============================] - 0s 31ms/step - loss: 0.6613 - accuracy: 0.5172 - val_loss: 0.7050 - val_accuracy: 0.4138\n",
      "Epoch 50/100\n",
      "1/1 [==============================] - 0s 30ms/step - loss: 0.6610 - accuracy: 0.5172 - val_loss: 0.7049 - val_accuracy: 0.4138\n",
      "Epoch 51/100\n",
      "1/1 [==============================] - 0s 31ms/step - loss: 0.6607 - accuracy: 0.5172 - val_loss: 0.7049 - val_accuracy: 0.4138\n",
      "Epoch 52/100\n",
      "1/1 [==============================] - 0s 30ms/step - loss: 0.6603 - accuracy: 0.5172 - val_loss: 0.7048 - val_accuracy: 0.4138\n",
      "Epoch 53/100\n",
      "1/1 [==============================] - 0s 31ms/step - loss: 0.6599 - accuracy: 0.5172 - val_loss: 0.7048 - val_accuracy: 0.4138\n",
      "Epoch 54/100\n",
      "1/1 [==============================] - 0s 31ms/step - loss: 0.6596 - accuracy: 0.5345 - val_loss: 0.7047 - val_accuracy: 0.4138\n",
      "Epoch 55/100\n",
      "1/1 [==============================] - 0s 33ms/step - loss: 0.6593 - accuracy: 0.5345 - val_loss: 0.7047 - val_accuracy: 0.4138\n",
      "Epoch 56/100\n",
      "1/1 [==============================] - 0s 31ms/step - loss: 0.6589 - accuracy: 0.5345 - val_loss: 0.7046 - val_accuracy: 0.4138\n",
      "Epoch 57/100\n",
      "1/1 [==============================] - 0s 31ms/step - loss: 0.6586 - accuracy: 0.5345 - val_loss: 0.7051 - val_accuracy: 0.4138\n",
      "Epoch 58/100\n",
      "1/1 [==============================] - 0s 30ms/step - loss: 0.6583 - accuracy: 0.5345 - val_loss: 0.7050 - val_accuracy: 0.4138\n"
     ]
    },
    {
     "name": "stdout",
     "output_type": "stream",
     "text": [
      "Epoch 59/100\n",
      "1/1 [==============================] - 0s 31ms/step - loss: 0.6580 - accuracy: 0.5345 - val_loss: 0.7054 - val_accuracy: 0.3793\n",
      "Epoch 60/100\n",
      "1/1 [==============================] - 0s 30ms/step - loss: 0.6577 - accuracy: 0.5345 - val_loss: 0.7053 - val_accuracy: 0.4138\n",
      "Epoch 61/100\n",
      "1/1 [==============================] - 0s 32ms/step - loss: 0.6574 - accuracy: 0.5345 - val_loss: 0.7058 - val_accuracy: 0.3793\n",
      "Epoch 62/100\n",
      "1/1 [==============================] - 0s 32ms/step - loss: 0.6571 - accuracy: 0.5345 - val_loss: 0.7055 - val_accuracy: 0.3793\n",
      "Epoch 63/100\n",
      "1/1 [==============================] - 0s 31ms/step - loss: 0.6568 - accuracy: 0.5345 - val_loss: 0.7060 - val_accuracy: 0.3793\n",
      "Epoch 64/100\n",
      "1/1 [==============================] - 0s 31ms/step - loss: 0.6565 - accuracy: 0.5345 - val_loss: 0.7058 - val_accuracy: 0.3793\n",
      "Epoch 65/100\n",
      "1/1 [==============================] - 0s 31ms/step - loss: 0.6563 - accuracy: 0.5345 - val_loss: 0.7062 - val_accuracy: 0.3793\n",
      "Epoch 66/100\n",
      "1/1 [==============================] - 0s 31ms/step - loss: 0.6560 - accuracy: 0.5517 - val_loss: 0.7066 - val_accuracy: 0.3448\n",
      "Epoch 67/100\n",
      "1/1 [==============================] - 0s 31ms/step - loss: 0.6557 - accuracy: 0.5517 - val_loss: 0.7064 - val_accuracy: 0.3448\n",
      "Epoch 68/100\n",
      "1/1 [==============================] - 0s 31ms/step - loss: 0.6554 - accuracy: 0.5690 - val_loss: 0.7067 - val_accuracy: 0.3793\n",
      "Epoch 69/100\n",
      "1/1 [==============================] - 0s 31ms/step - loss: 0.6552 - accuracy: 0.5862 - val_loss: 0.7064 - val_accuracy: 0.3448\n",
      "Epoch 70/100\n",
      "1/1 [==============================] - 0s 31ms/step - loss: 0.6549 - accuracy: 0.5862 - val_loss: 0.7069 - val_accuracy: 0.3448\n",
      "Epoch 71/100\n",
      "1/1 [==============================] - 0s 31ms/step - loss: 0.6547 - accuracy: 0.6034 - val_loss: 0.7072 - val_accuracy: 0.3103\n",
      "Epoch 72/100\n",
      "1/1 [==============================] - 0s 30ms/step - loss: 0.6544 - accuracy: 0.6034 - val_loss: 0.7075 - val_accuracy: 0.3103\n",
      "Epoch 73/100\n",
      "1/1 [==============================] - 0s 31ms/step - loss: 0.6542 - accuracy: 0.5862 - val_loss: 0.7072 - val_accuracy: 0.3103\n",
      "Epoch 74/100\n",
      "1/1 [==============================] - 0s 31ms/step - loss: 0.6539 - accuracy: 0.6034 - val_loss: 0.7076 - val_accuracy: 0.3103\n",
      "Epoch 75/100\n",
      "1/1 [==============================] - 0s 30ms/step - loss: 0.6536 - accuracy: 0.6207 - val_loss: 0.7078 - val_accuracy: 0.3103\n",
      "Epoch 76/100\n",
      "1/1 [==============================] - 0s 31ms/step - loss: 0.6534 - accuracy: 0.6207 - val_loss: 0.7081 - val_accuracy: 0.3103\n",
      "Epoch 77/100\n",
      "1/1 [==============================] - 0s 31ms/step - loss: 0.6531 - accuracy: 0.6379 - val_loss: 0.7077 - val_accuracy: 0.3103\n",
      "Epoch 78/100\n",
      "1/1 [==============================] - 0s 31ms/step - loss: 0.6529 - accuracy: 0.6379 - val_loss: 0.7081 - val_accuracy: 0.3103\n",
      "Epoch 79/100\n",
      "1/1 [==============================] - 0s 31ms/step - loss: 0.6526 - accuracy: 0.6379 - val_loss: 0.7083 - val_accuracy: 0.3448\n",
      "Epoch 80/100\n",
      "1/1 [==============================] - 0s 30ms/step - loss: 0.6524 - accuracy: 0.6379 - val_loss: 0.7086 - val_accuracy: 0.3793\n",
      "Epoch 81/100\n",
      "1/1 [==============================] - 0s 32ms/step - loss: 0.6521 - accuracy: 0.6379 - val_loss: 0.7089 - val_accuracy: 0.3793\n",
      "Epoch 82/100\n",
      "1/1 [==============================] - 0s 31ms/step - loss: 0.6519 - accuracy: 0.6379 - val_loss: 0.7086 - val_accuracy: 0.3793\n",
      "Epoch 83/100\n",
      "1/1 [==============================] - 0s 30ms/step - loss: 0.6516 - accuracy: 0.6379 - val_loss: 0.7089 - val_accuracy: 0.3793\n",
      "Epoch 84/100\n",
      "1/1 [==============================] - 0s 31ms/step - loss: 0.6513 - accuracy: 0.6379 - val_loss: 0.7093 - val_accuracy: 0.3793\n",
      "Epoch 85/100\n",
      "1/1 [==============================] - 0s 30ms/step - loss: 0.6510 - accuracy: 0.6379 - val_loss: 0.7096 - val_accuracy: 0.3793\n",
      "Epoch 86/100\n",
      "1/1 [==============================] - 0s 30ms/step - loss: 0.6506 - accuracy: 0.6379 - val_loss: 0.7099 - val_accuracy: 0.3793\n",
      "Epoch 87/100\n",
      "1/1 [==============================] - 0s 31ms/step - loss: 0.6503 - accuracy: 0.6552 - val_loss: 0.7101 - val_accuracy: 0.3793\n",
      "Epoch 88/100\n",
      "1/1 [==============================] - 0s 31ms/step - loss: 0.6500 - accuracy: 0.6552 - val_loss: 0.7097 - val_accuracy: 0.3793\n",
      "Epoch 89/100\n",
      "1/1 [==============================] - 0s 30ms/step - loss: 0.6497 - accuracy: 0.6552 - val_loss: 0.7100 - val_accuracy: 0.3793\n",
      "Epoch 90/100\n",
      "1/1 [==============================] - 0s 31ms/step - loss: 0.6493 - accuracy: 0.6552 - val_loss: 0.7103 - val_accuracy: 0.3793\n",
      "Epoch 91/100\n",
      "1/1 [==============================] - 0s 30ms/step - loss: 0.6490 - accuracy: 0.6552 - val_loss: 0.7105 - val_accuracy: 0.3793\n",
      "Epoch 92/100\n",
      "1/1 [==============================] - 0s 31ms/step - loss: 0.6487 - accuracy: 0.6552 - val_loss: 0.7107 - val_accuracy: 0.3793\n",
      "Epoch 93/100\n",
      "1/1 [==============================] - 0s 31ms/step - loss: 0.6484 - accuracy: 0.6552 - val_loss: 0.7109 - val_accuracy: 0.3793\n",
      "Epoch 94/100\n",
      "1/1 [==============================] - 0s 33ms/step - loss: 0.6480 - accuracy: 0.6552 - val_loss: 0.7111 - val_accuracy: 0.3793\n",
      "Epoch 95/100\n",
      "1/1 [==============================] - 0s 32ms/step - loss: 0.6476 - accuracy: 0.6552 - val_loss: 0.7112 - val_accuracy: 0.3793\n",
      "Epoch 96/100\n",
      "1/1 [==============================] - 0s 31ms/step - loss: 0.6471 - accuracy: 0.6552 - val_loss: 0.7114 - val_accuracy: 0.3793\n",
      "Epoch 97/100\n",
      "1/1 [==============================] - 0s 30ms/step - loss: 0.6468 - accuracy: 0.6552 - val_loss: 0.7115 - val_accuracy: 0.3448\n",
      "Epoch 98/100\n",
      "1/1 [==============================] - 0s 31ms/step - loss: 0.6464 - accuracy: 0.6552 - val_loss: 0.7116 - val_accuracy: 0.3448\n",
      "Epoch 99/100\n",
      "1/1 [==============================] - 0s 34ms/step - loss: 0.6461 - accuracy: 0.6552 - val_loss: 0.7117 - val_accuracy: 0.3448\n",
      "Epoch 100/100\n",
      "1/1 [==============================] - 0s 33ms/step - loss: 0.6457 - accuracy: 0.6552 - val_loss: 0.7118 - val_accuracy: 0.3448\n",
      "Most important variables:  [21 10  3  4  1  2  7 11  0  6]\n"
     ]
    }
   ],
   "source": [
    "hist = model.fit(X_train, y_traindm,\n",
    "          batch_size=58, epochs=100,\n",
    "          validation_data=(X_val, y_valdm), callbacks = [VIANN])"
   ]
  },
  {
   "cell_type": "markdown",
   "metadata": {},
   "source": [
    "# Visualizing Loss and Accuracy"
   ]
  },
  {
   "cell_type": "markdown",
   "metadata": {},
   "source": [
    "**Visualize the training loss and the validation loss using matplotlib as plt. Note the separation between the training and validation data.**"
   ]
  },
  {
   "cell_type": "code",
   "execution_count": 43,
   "metadata": {
    "scrolled": true
   },
   "outputs": [
    {
     "data": {
      "image/png": "[encoded data removed]",
      "text/plain": [
       "<Figure size 460.8x316.8 with 1 Axes>"
      ]
     },
     "metadata": {
      "needs_background": "light"
     },
     "output_type": "display_data"
    }
   ],
   "source": [
    "plt.plot(hist.history['loss'])\n",
    "plt.plot(hist.history['val_loss'])\n",
    "plt.title('Model loss')\n",
    "plt.ylabel('Loss')\n",
    "plt.xlabel('Epoch')\n",
    "plt.legend(['Train', 'Val'], loc='upper right')\n",
    "plt.show()"
   ]
  },
  {
   "cell_type": "markdown",
   "metadata": {},
   "source": [
    "**Then visualize the training accuracy and the validation accuracy. Note the separation between the validation and training accuracy indicating underfitting and the need for a larger network, more hidden layers, longer train time or more advanced algorithms.**"
   ]
  },
  {
   "cell_type": "code",
   "execution_count": 44,
   "metadata": {
    "scrolled": true
   },
   "outputs": [
    {
     "data": {
      "image/png": "[encoded data removed]",
      "text/plain": [
       "<Figure size 460.8x316.8 with 1 Axes>"
      ]
     },
     "metadata": {
      "needs_background": "light"
     },
     "output_type": "display_data"
    }
   ],
   "source": [
    "plt.plot(hist.history['accuracy'])\n",
    "plt.plot(hist.history['val_accuracy'])\n",
    "plt.title('Model accuracy')\n",
    "plt.ylabel('Accuracy')\n",
    "plt.xlabel('Epoch')\n",
    "plt.legend(['Train', 'Val'], loc='lower right')\n",
    "plt.show()"
   ]
  },
  {
   "cell_type": "code",
   "execution_count": 45,
   "metadata": {
    "scrolled": true
   },
   "outputs": [
    {
     "data": {
      "text/html": [
       "<div>\n",
       "<style scoped>\n",
       "    .dataframe tbody tr th:only-of-type {\n",
       "        vertical-align: middle;\n",
       "    }\n",
       "\n",
       "    .dataframe tbody tr th {\n",
       "        vertical-align: top;\n",
       "    }\n",
       "\n",
       "    .dataframe thead th {\n",
       "        text-align: right;\n",
       "    }\n",
       "</style>\n",
       "<table border=\"1\" class=\"dataframe\">\n",
       "  <thead>\n",
       "    <tr style=\"text-align: right;\">\n",
       "      <th></th>\n",
       "      <th>Variable</th>\n",
       "      <th>Scores</th>\n",
       "    </tr>\n",
       "  </thead>\n",
       "  <tbody>\n",
       "    <tr>\n",
       "      <th>18</th>\n",
       "      <td>Er_clr</td>\n",
       "      <td>0.000000</td>\n",
       "    </tr>\n",
       "    <tr>\n",
       "      <th>16</th>\n",
       "      <td>Dy_clr</td>\n",
       "      <td>0.002329</td>\n",
       "    </tr>\n",
       "    <tr>\n",
       "      <th>14</th>\n",
       "      <td>Gd_clr</td>\n",
       "      <td>0.005752</td>\n",
       "    </tr>\n",
       "    <tr>\n",
       "      <th>19</th>\n",
       "      <td>Yb_clr</td>\n",
       "      <td>0.015770</td>\n",
       "    </tr>\n",
       "    <tr>\n",
       "      <th>9</th>\n",
       "      <td>Y_clr</td>\n",
       "      <td>0.042613</td>\n",
       "    </tr>\n",
       "    <tr>\n",
       "      <th>12</th>\n",
       "      <td>Nd_clr</td>\n",
       "      <td>0.073839</td>\n",
       "    </tr>\n",
       "    <tr>\n",
       "      <th>13</th>\n",
       "      <td>Eu_clr</td>\n",
       "      <td>0.080993</td>\n",
       "    </tr>\n",
       "    <tr>\n",
       "      <th>15</th>\n",
       "      <td>Tb_clr</td>\n",
       "      <td>0.100129</td>\n",
       "    </tr>\n",
       "    <tr>\n",
       "      <th>20</th>\n",
       "      <td>Lu_clr</td>\n",
       "      <td>0.103194</td>\n",
       "    </tr>\n",
       "    <tr>\n",
       "      <th>5</th>\n",
       "      <td>Sc_clr</td>\n",
       "      <td>0.106909</td>\n",
       "    </tr>\n",
       "    <tr>\n",
       "      <th>17</th>\n",
       "      <td>Ho_clr</td>\n",
       "      <td>0.118323</td>\n",
       "    </tr>\n",
       "    <tr>\n",
       "      <th>8</th>\n",
       "      <td>Sr_clr</td>\n",
       "      <td>0.134769</td>\n",
       "    </tr>\n",
       "    <tr>\n",
       "      <th>6</th>\n",
       "      <td>Ti_clr</td>\n",
       "      <td>0.149443</td>\n",
       "    </tr>\n",
       "    <tr>\n",
       "      <th>0</th>\n",
       "      <td>Na_clr</td>\n",
       "      <td>0.228172</td>\n",
       "    </tr>\n",
       "    <tr>\n",
       "      <th>11</th>\n",
       "      <td>Ba_clr</td>\n",
       "      <td>0.231433</td>\n",
       "    </tr>\n",
       "    <tr>\n",
       "      <th>7</th>\n",
       "      <td>Mn_clr</td>\n",
       "      <td>0.356997</td>\n",
       "    </tr>\n",
       "    <tr>\n",
       "      <th>2</th>\n",
       "      <td>Al_clr</td>\n",
       "      <td>0.385872</td>\n",
       "    </tr>\n",
       "    <tr>\n",
       "      <th>1</th>\n",
       "      <td>Mg_clr</td>\n",
       "      <td>0.416980</td>\n",
       "    </tr>\n",
       "    <tr>\n",
       "      <th>4</th>\n",
       "      <td>Ca_clr</td>\n",
       "      <td>0.579649</td>\n",
       "    </tr>\n",
       "    <tr>\n",
       "      <th>3</th>\n",
       "      <td>Si_clr</td>\n",
       "      <td>0.644437</td>\n",
       "    </tr>\n",
       "    <tr>\n",
       "      <th>10</th>\n",
       "      <td>Zr_clr</td>\n",
       "      <td>0.862776</td>\n",
       "    </tr>\n",
       "    <tr>\n",
       "      <th>21</th>\n",
       "      <td>Ta_clr</td>\n",
       "      <td>1.000000</td>\n",
       "    </tr>\n",
       "  </tbody>\n",
       "</table>\n",
       "</div>"
      ],
      "text/plain": [
       "   Variable    Scores\n",
       "18   Er_clr  0.000000\n",
       "16   Dy_clr  0.002329\n",
       "14   Gd_clr  0.005752\n",
       "19   Yb_clr  0.015770\n",
       "9     Y_clr  0.042613\n",
       "12   Nd_clr  0.073839\n",
       "13   Eu_clr  0.080993\n",
       "15   Tb_clr  0.100129\n",
       "20   Lu_clr  0.103194\n",
       "5    Sc_clr  0.106909\n",
       "17   Ho_clr  0.118323\n",
       "8    Sr_clr  0.134769\n",
       "6    Ti_clr  0.149443\n",
       "0    Na_clr  0.228172\n",
       "11   Ba_clr  0.231433\n",
       "7    Mn_clr  0.356997\n",
       "2    Al_clr  0.385872\n",
       "1    Mg_clr  0.416980\n",
       "4    Ca_clr  0.579649\n",
       "3    Si_clr  0.644437\n",
       "10   Zr_clr  0.862776\n",
       "21   Ta_clr  1.000000"
      ]
     },
     "execution_count": 45,
     "metadata": {},
     "output_type": "execute_result"
    }
   ],
   "source": [
    "#Visualize Feature Importance in table format\n",
    "X_columns = X_train.columns.tolist()\n",
    "model_FI_scores = VIANN.varScores.tolist()\n",
    "\n",
    "model_FI = pd.DataFrame()\n",
    "model_FI['Variable'] = X_columns\n",
    "model_FI['Scores'] = model_FI_scores\n",
    "model_FI.sort_values(by=['Scores'], inplace=True, ascending=True)\n",
    "\n",
    "model_FI"
   ]
  },
  {
   "cell_type": "code",
   "execution_count": 113,
   "metadata": {
    "scrolled": true
   },
   "outputs": [
    {
     "data": {
      "text/plain": [
       "array([['Na_clr', 'Mg_clr', 'Al_clr', 'Si_clr', 'Ca_clr', 'Sc_clr',\n",
       "        'Ti_clr', 'Mn_clr', 'Sr_clr', 'Y_clr', 'Zr_clr', 'Ba_clr',\n",
       "        'Nd_clr', 'Eu_clr', 'Gd_clr', 'Tb_clr', 'Dy_clr', 'Ho_clr',\n",
       "        'Er_clr', 'Yb_clr', 'Lu_clr', 'Ta_clr'],\n",
       "       [0.16309648752212524, 0.13597372174263, 0.13153299689292908, 0.0,\n",
       "        0.07182417064905167, 1.0, 0.2822116017341614,\n",
       "        0.23275749385356903, 0.23194381594657898, 0.6549647450447083,\n",
       "        0.1979304850101471, 0.1305156946182251, 0.1285167634487152,\n",
       "        0.2056443691253662, 0.04514913633465767, 0.052157338708639145,\n",
       "        0.012361330911517143, 0.10226452350616455, 0.029085934162139893,\n",
       "        0.01761600188910961, 0.20542359352111816, 0.14103828370571136]],\n",
       "      dtype=object)"
      ]
     },
     "execution_count": 113,
     "metadata": {},
     "output_type": "execute_result"
    }
   ],
   "source": [
    "#Link Features to VIANN scores and export to csv\n",
    "model_FI_array = np.vstack((X_train.columns, VIANN.varScores))\n",
    "pd.DataFrame(model_FI_array).to_csv(\"EG_model_FI.csv\", index=None)\n",
    "model_FI_array"
   ]
  },
  {
   "cell_type": "code",
   "execution_count": 112,
   "metadata": {
    "scrolled": false
   },
   "outputs": [
    {
     "data": {
      "image/png": "[encoded data removed]",
      "text/plain": [
       "<Figure size 460.8x316.8 with 1 Axes>"
      ]
     },
     "metadata": {
      "needs_background": "light"
     },
     "output_type": "display_data"
    }
   ],
   "source": [
    "# Plot the feature importances of the model\n",
    "fig, ax = plt.subplots()\n",
    "\n",
    "ax.barh(model_FI['Variable'], model_FI['Scores'], align=\"center\", alpha=0.5)\n",
    "ax.set_xlabel('Scores')\n",
    "ax.set_yticks(model_FI['Variable'])\n",
    "ax.xaxis.grid(True)\n",
    "ax.set_title(\"Model Feature Importances\", fontsize='14')\n",
    "\n",
    "# Save the figure and show\n",
    "plt.savefig('EG_model_FI_barplot.png')\n",
    "plt.show()"
   ]
  },
  {
   "cell_type": "markdown",
   "metadata": {},
   "source": [
    "**Visualize the neural network.**"
   ]
  },
  {
   "cell_type": "code",
   "execution_count": 48,
   "metadata": {
    "scrolled": true
   },
   "outputs": [
    {
     "data": {
      "text/plain": [
       "Reusing TensorBoard on port 6006 (pid 11316), started 1:06:33 ago. (Use '!kill 11316' to kill it.)"
      ]
     },
     "metadata": {},
     "output_type": "display_data"
    },
    {
     "data": {
      "text/html": [
       "\n",
       "      <iframe id=\"tensorboard-frame-3e2d614069a9c149\" width=\"100%\" height=\"800\" frameborder=\"0\">\n",
       "      </iframe>\n",
       "      <script>\n",
       "        (function() {\n",
       "          const frame = document.getElementById(\"tensorboard-frame-3e2d614069a9c149\");\n",
       "          const url = new URL(\"/\", window.location);\n",
       "          const port = 6006;\n",
       "          if (port) {\n",
       "            url.port = port;\n",
       "          }\n",
       "          frame.src = url;\n",
       "        })();\n",
       "      </script>\n",
       "    "
      ],
      "text/plain": [
       "<IPython.core.display.HTML object>"
      ]
     },
     "metadata": {},
     "output_type": "display_data"
    }
   ],
   "source": [
    "#View tensorboard graphic of the neural network structure\n",
    "#Re-run this cell if there is a timeout error\n",
    "%tensorboard --logdir logs"
   ]
  },
  {
   "cell_type": "markdown",
   "metadata": {},
   "source": [
    "**Check model's performance on test data.**"
   ]
  },
  {
   "cell_type": "code",
   "execution_count": 49,
   "metadata": {
    "scrolled": false
   },
   "outputs": [
    {
     "name": "stdout",
     "output_type": "stream",
     "text": [
      "1/1 [==============================] - 0s 12ms/step - loss: 0.6331 - accuracy: 0.6552\n"
     ]
    },
    {
     "data": {
      "text/plain": [
       "0.6551724076271057"
      ]
     },
     "execution_count": 49,
     "metadata": {},
     "output_type": "execute_result"
    }
   ],
   "source": [
    "model.evaluate(X_test, y_testdm)[1]"
   ]
  },
  {
   "cell_type": "markdown",
   "metadata": {},
   "source": [
    "**Out dataset is small and the accuracy is low, therefore try adding in regularization and drop out.**"
   ]
  },
  {
   "cell_type": "markdown",
   "metadata": {},
   "source": [
    "# Adding Regularization to the Neural Network"
   ]
  },
  {
   "cell_type": "markdown",
   "metadata": {},
   "source": [
    "**Train a model which will overfit, which we call Model 2. Input shape is how many variables (22) and Dense is number of y values (2).**"
   ]
  },
  {
   "cell_type": "code",
   "execution_count": 50,
   "metadata": {
    "scrolled": true
   },
   "outputs": [
    {
     "name": "stdout",
     "output_type": "stream",
     "text": [
      "Epoch 1/200\n",
      "1/1 [==============================] - 1s 576ms/step - loss: 0.6883 - accuracy: 0.5000 - val_loss: 2.0649 - val_accuracy: 0.4828\n",
      "Epoch 2/200\n",
      "1/1 [==============================] - 0s 55ms/step - loss: 1.8789 - accuracy: 0.5345 - val_loss: 0.9170 - val_accuracy: 0.5517\n",
      "Epoch 3/200\n",
      "1/1 [==============================] - 0s 48ms/step - loss: 0.6935 - accuracy: 0.6897 - val_loss: 1.0402 - val_accuracy: 0.5172\n",
      "Epoch 4/200\n",
      "1/1 [==============================] - 0s 53ms/step - loss: 1.0250 - accuracy: 0.5000 - val_loss: 0.6937 - val_accuracy: 0.5172\n",
      "Epoch 5/200\n",
      "1/1 [==============================] - 0s 48ms/step - loss: 0.5990 - accuracy: 0.6207 - val_loss: 0.7919 - val_accuracy: 0.5517\n",
      "Epoch 6/200\n",
      "1/1 [==============================] - 0s 49ms/step - loss: 0.6086 - accuracy: 0.6897 - val_loss: 0.7891 - val_accuracy: 0.5517\n",
      "Epoch 7/200\n",
      "1/1 [==============================] - 0s 50ms/step - loss: 0.5988 - accuracy: 0.7241 - val_loss: 0.6835 - val_accuracy: 0.5172\n",
      "Epoch 8/200\n",
      "1/1 [==============================] - 0s 50ms/step - loss: 0.5400 - accuracy: 0.7069 - val_loss: 0.6618 - val_accuracy: 0.4828\n",
      "Epoch 9/200\n",
      "1/1 [==============================] - 0s 55ms/step - loss: 0.5433 - accuracy: 0.7241 - val_loss: 0.6756 - val_accuracy: 0.5517\n",
      "Epoch 10/200\n",
      "1/1 [==============================] - 0s 50ms/step - loss: 0.5037 - accuracy: 0.7586 - val_loss: 0.7512 - val_accuracy: 0.5172\n",
      "Epoch 11/200\n",
      "1/1 [==============================] - 0s 48ms/step - loss: 0.4968 - accuracy: 0.7069 - val_loss: 0.7381 - val_accuracy: 0.5172\n",
      "Epoch 12/200\n",
      "1/1 [==============================] - 0s 48ms/step - loss: 0.4690 - accuracy: 0.7069 - val_loss: 0.6676 - val_accuracy: 0.6552\n",
      "Epoch 13/200\n",
      "1/1 [==============================] - 0s 47ms/step - loss: 0.4494 - accuracy: 0.7931 - val_loss: 0.6685 - val_accuracy: 0.6552\n",
      "Epoch 14/200\n",
      "1/1 [==============================] - 0s 49ms/step - loss: 0.4254 - accuracy: 0.7931 - val_loss: 0.7401 - val_accuracy: 0.5172\n",
      "Epoch 15/200\n",
      "1/1 [==============================] - 0s 50ms/step - loss: 0.4102 - accuracy: 0.7931 - val_loss: 0.6766 - val_accuracy: 0.6207\n",
      "Epoch 16/200\n",
      "1/1 [==============================] - 0s 48ms/step - loss: 0.3736 - accuracy: 0.7931 - val_loss: 0.6167 - val_accuracy: 0.5862\n",
      "Epoch 17/200\n",
      "1/1 [==============================] - 0s 49ms/step - loss: 0.3665 - accuracy: 0.8276 - val_loss: 0.7205 - val_accuracy: 0.5862\n",
      "Epoch 18/200\n",
      "1/1 [==============================] - 0s 47ms/step - loss: 0.3419 - accuracy: 0.8103 - val_loss: 0.6073 - val_accuracy: 0.7241\n",
      "Epoch 19/200\n",
      "1/1 [==============================] - 0s 48ms/step - loss: 0.2950 - accuracy: 0.8966 - val_loss: 0.5440 - val_accuracy: 0.7931\n",
      "Epoch 20/200\n",
      "1/1 [==============================] - 0s 48ms/step - loss: 0.2906 - accuracy: 0.9310 - val_loss: 0.7966 - val_accuracy: 0.5517\n",
      "Epoch 21/200\n",
      "1/1 [==============================] - 0s 51ms/step - loss: 0.3325 - accuracy: 0.7931 - val_loss: 0.4784 - val_accuracy: 0.8621\n",
      "Epoch 22/200\n",
      "1/1 [==============================] - 0s 47ms/step - loss: 0.2495 - accuracy: 0.9483 - val_loss: 0.4673 - val_accuracy: 0.8276\n",
      "Epoch 23/200\n",
      "1/1 [==============================] - 0s 48ms/step - loss: 0.2022 - accuracy: 0.9655 - val_loss: 0.5665 - val_accuracy: 0.7241\n",
      "Epoch 24/200\n",
      "1/1 [==============================] - 0s 48ms/step - loss: 0.2211 - accuracy: 0.8966 - val_loss: 0.4158 - val_accuracy: 0.8966\n",
      "Epoch 25/200\n",
      "1/1 [==============================] - 0s 48ms/step - loss: 0.2352 - accuracy: 0.9138 - val_loss: 0.5832 - val_accuracy: 0.7241\n",
      "Epoch 26/200\n",
      "1/1 [==============================] - 0s 48ms/step - loss: 0.2251 - accuracy: 0.8621 - val_loss: 0.3860 - val_accuracy: 0.8966\n",
      "Epoch 27/200\n",
      "1/1 [==============================] - 0s 48ms/step - loss: 0.1466 - accuracy: 0.9828 - val_loss: 0.3706 - val_accuracy: 0.9310\n",
      "Epoch 28/200\n",
      "1/1 [==============================] - 0s 48ms/step - loss: 0.1813 - accuracy: 0.9138 - val_loss: 0.6192 - val_accuracy: 0.7241\n",
      "Epoch 29/200\n",
      "1/1 [==============================] - 0s 48ms/step - loss: 0.2342 - accuracy: 0.8793 - val_loss: 0.3630 - val_accuracy: 0.9310\n",
      "Epoch 30/200\n",
      "1/1 [==============================] - 0s 49ms/step - loss: 0.1261 - accuracy: 0.9828 - val_loss: 0.3628 - val_accuracy: 0.9310\n",
      "Epoch 31/200\n",
      "1/1 [==============================] - 0s 50ms/step - loss: 0.1574 - accuracy: 0.9310 - val_loss: 0.5788 - val_accuracy: 0.7931\n",
      "Epoch 32/200\n",
      "1/1 [==============================] - 0s 48ms/step - loss: 0.1950 - accuracy: 0.8966 - val_loss: 0.3710 - val_accuracy: 0.8966\n",
      "Epoch 33/200\n",
      "1/1 [==============================] - 0s 48ms/step - loss: 0.0954 - accuracy: 0.9828 - val_loss: 0.3618 - val_accuracy: 0.9310\n",
      "Epoch 34/200\n",
      "1/1 [==============================] - 0s 49ms/step - loss: 0.1609 - accuracy: 0.9310 - val_loss: 0.4880 - val_accuracy: 0.8276\n",
      "Epoch 35/200\n",
      "1/1 [==============================] - 0s 49ms/step - loss: 0.1282 - accuracy: 0.9310 - val_loss: 0.4022 - val_accuracy: 0.8966\n",
      "Epoch 36/200\n",
      "1/1 [==============================] - 0s 47ms/step - loss: 0.0835 - accuracy: 0.9655 - val_loss: 0.3535 - val_accuracy: 0.9310\n",
      "Epoch 37/200\n",
      "1/1 [==============================] - 0s 49ms/step - loss: 0.1277 - accuracy: 0.9483 - val_loss: 0.3783 - val_accuracy: 0.8966\n",
      "Epoch 38/200\n",
      "1/1 [==============================] - 0s 49ms/step - loss: 0.0661 - accuracy: 1.0000 - val_loss: 0.4662 - val_accuracy: 0.8276\n",
      "Epoch 39/200\n",
      "1/1 [==============================] - 0s 49ms/step - loss: 0.0997 - accuracy: 0.9310 - val_loss: 0.3478 - val_accuracy: 0.9310\n",
      "Epoch 40/200\n",
      "1/1 [==============================] - 0s 48ms/step - loss: 0.0877 - accuracy: 0.9655 - val_loss: 0.3457 - val_accuracy: 0.9310\n",
      "Epoch 41/200\n",
      "1/1 [==============================] - 0s 52ms/step - loss: 0.0570 - accuracy: 0.9655 - val_loss: 0.4650 - val_accuracy: 0.8276\n",
      "Epoch 42/200\n",
      "1/1 [==============================] - 0s 48ms/step - loss: 0.0914 - accuracy: 0.9483 - val_loss: 0.3479 - val_accuracy: 0.9310\n",
      "Epoch 43/200\n",
      "1/1 [==============================] - 0s 47ms/step - loss: 0.0456 - accuracy: 0.9828 - val_loss: 0.3536 - val_accuracy: 0.9310\n",
      "Epoch 44/200\n",
      "1/1 [==============================] - 0s 48ms/step - loss: 0.0616 - accuracy: 0.9655 - val_loss: 0.4089 - val_accuracy: 0.8966\n",
      "Epoch 45/200\n",
      "1/1 [==============================] - 0s 48ms/step - loss: 0.0522 - accuracy: 0.9828 - val_loss: 0.3772 - val_accuracy: 0.8966\n",
      "Epoch 46/200\n",
      "1/1 [==============================] - 0s 47ms/step - loss: 0.0341 - accuracy: 1.0000 - val_loss: 0.3660 - val_accuracy: 0.9310\n",
      "Epoch 47/200\n",
      "1/1 [==============================] - 0s 48ms/step - loss: 0.0487 - accuracy: 0.9828 - val_loss: 0.3705 - val_accuracy: 0.9310\n",
      "Epoch 48/200\n",
      "1/1 [==============================] - 0s 48ms/step - loss: 0.0246 - accuracy: 1.0000 - val_loss: 0.4274 - val_accuracy: 0.8966\n",
      "Epoch 49/200\n",
      "1/1 [==============================] - 0s 49ms/step - loss: 0.0415 - accuracy: 1.0000 - val_loss: 0.3781 - val_accuracy: 0.9310\n",
      "Epoch 50/200\n",
      "1/1 [==============================] - 0s 49ms/step - loss: 0.0268 - accuracy: 1.0000 - val_loss: 0.3854 - val_accuracy: 0.9310\n",
      "Epoch 51/200\n",
      "1/1 [==============================] - 0s 49ms/step - loss: 0.0282 - accuracy: 1.0000 - val_loss: 0.4085 - val_accuracy: 0.8966\n",
      "Epoch 52/200\n",
      "1/1 [==============================] - 0s 49ms/step - loss: 0.0256 - accuracy: 1.0000 - val_loss: 0.3970 - val_accuracy: 0.9310\n",
      "Epoch 53/200\n",
      "1/1 [==============================] - 0s 48ms/step - loss: 0.0180 - accuracy: 1.0000 - val_loss: 0.3998 - val_accuracy: 0.9310\n",
      "Epoch 54/200\n",
      "1/1 [==============================] - 0s 48ms/step - loss: 0.0213 - accuracy: 1.0000 - val_loss: 0.4004 - val_accuracy: 0.9310\n",
      "Epoch 55/200\n",
      "1/1 [==============================] - 0s 49ms/step - loss: 0.0141 - accuracy: 1.0000 - val_loss: 0.4128 - val_accuracy: 0.9310\n",
      "Epoch 56/200\n",
      "1/1 [==============================] - 0s 52ms/step - loss: 0.0164 - accuracy: 1.0000 - val_loss: 0.4116 - val_accuracy: 0.9310\n",
      "Epoch 57/200\n",
      "1/1 [==============================] - 0s 48ms/step - loss: 0.0111 - accuracy: 1.0000 - val_loss: 0.4240 - val_accuracy: 0.9310\n",
      "Epoch 58/200\n",
      "1/1 [==============================] - 0s 50ms/step - loss: 0.0121 - accuracy: 1.0000 - val_loss: 0.4297 - val_accuracy: 0.9310\n",
      "Epoch 59/200\n",
      "1/1 [==============================] - 0s 49ms/step - loss: 0.0098 - accuracy: 1.0000 - val_loss: 0.4320 - val_accuracy: 0.9310\n",
      "Epoch 60/200\n",
      "1/1 [==============================] - 0s 48ms/step - loss: 0.0088 - accuracy: 1.0000 - val_loss: 0.4401 - val_accuracy: 0.9310\n",
      "Epoch 61/200\n",
      "1/1 [==============================] - 0s 48ms/step - loss: 0.0087 - accuracy: 1.0000 - val_loss: 0.4515 - val_accuracy: 0.9310\n",
      "Epoch 62/200\n",
      "1/1 [==============================] - 0s 49ms/step - loss: 0.0065 - accuracy: 1.0000 - val_loss: 0.4646 - val_accuracy: 0.9310\n",
      "Epoch 63/200\n",
      "1/1 [==============================] - 0s 51ms/step - loss: 0.0077 - accuracy: 1.0000 - val_loss: 0.4631 - val_accuracy: 0.9310\n",
      "Epoch 64/200\n",
      "1/1 [==============================] - 0s 47ms/step - loss: 0.0049 - accuracy: 1.0000 - val_loss: 0.4683 - val_accuracy: 0.9310\n",
      "Epoch 65/200\n",
      "1/1 [==============================] - 0s 49ms/step - loss: 0.0061 - accuracy: 1.0000 - val_loss: 0.4744 - val_accuracy: 0.9310\n",
      "Epoch 66/200\n",
      "1/1 [==============================] - 0s 48ms/step - loss: 0.0044 - accuracy: 1.0000 - val_loss: 0.4863 - val_accuracy: 0.9310\n",
      "Epoch 67/200\n",
      "1/1 [==============================] - 0s 50ms/step - loss: 0.0040 - accuracy: 1.0000 - val_loss: 0.4946 - val_accuracy: 0.9310\n",
      "Epoch 68/200\n",
      "1/1 [==============================] - 0s 47ms/step - loss: 0.0044 - accuracy: 1.0000 - val_loss: 0.4920 - val_accuracy: 0.9310\n",
      "Epoch 69/200\n",
      "1/1 [==============================] - 0s 51ms/step - loss: 0.0031 - accuracy: 1.0000 - val_loss: 0.4891 - val_accuracy: 0.9310\n",
      "Epoch 70/200\n",
      "1/1 [==============================] - 0s 50ms/step - loss: 0.0032 - accuracy: 1.0000 - val_loss: 0.4924 - val_accuracy: 0.9310\n",
      "Epoch 71/200\n",
      "1/1 [==============================] - 0s 47ms/step - loss: 0.0031 - accuracy: 1.0000 - val_loss: 0.5004 - val_accuracy: 0.9310\n",
      "Epoch 72/200\n",
      "1/1 [==============================] - 0s 48ms/step - loss: 0.0023 - accuracy: 1.0000 - val_loss: 0.5113 - val_accuracy: 0.9310\n",
      "Epoch 73/200\n",
      "1/1 [==============================] - 0s 48ms/step - loss: 0.0024 - accuracy: 1.0000 - val_loss: 0.5178 - val_accuracy: 0.9310\n",
      "Epoch 74/200\n",
      "1/1 [==============================] - 0s 49ms/step - loss: 0.0024 - accuracy: 1.0000 - val_loss: 0.5177 - val_accuracy: 0.9310\n",
      "Epoch 75/200\n",
      "1/1 [==============================] - 0s 49ms/step - loss: 0.0019 - accuracy: 1.0000 - val_loss: 0.5156 - val_accuracy: 0.9310\n",
      "Epoch 76/200\n",
      "1/1 [==============================] - 0s 49ms/step - loss: 0.0017 - accuracy: 1.0000 - val_loss: 0.5165 - val_accuracy: 0.9310\n",
      "Epoch 77/200\n",
      "1/1 [==============================] - 0s 48ms/step - loss: 0.0018 - accuracy: 1.0000 - val_loss: 0.5209 - val_accuracy: 0.9310\n",
      "Epoch 78/200\n",
      "1/1 [==============================] - 0s 50ms/step - loss: 0.0016 - accuracy: 1.0000 - val_loss: 0.5289 - val_accuracy: 0.9310\n",
      "Epoch 79/200\n",
      "1/1 [==============================] - 0s 49ms/step - loss: 0.0013 - accuracy: 1.0000 - val_loss: 0.5378 - val_accuracy: 0.9310\n",
      "Epoch 80/200\n",
      "1/1 [==============================] - 0s 48ms/step - loss: 0.0013 - accuracy: 1.0000 - val_loss: 0.5438 - val_accuracy: 0.9310\n",
      "Epoch 81/200\n",
      "1/1 [==============================] - 0s 50ms/step - loss: 0.0013 - accuracy: 1.0000 - val_loss: 0.5455 - val_accuracy: 0.9310\n",
      "Epoch 82/200\n",
      "1/1 [==============================] - 0s 47ms/step - loss: 0.0012 - accuracy: 1.0000 - val_loss: 0.5444 - val_accuracy: 0.9310\n",
      "Epoch 83/200\n",
      "1/1 [==============================] - 0s 50ms/step - loss: 0.0010 - accuracy: 1.0000 - val_loss: 0.5435 - val_accuracy: 0.9310\n",
      "Epoch 84/200\n",
      "1/1 [==============================] - 0s 48ms/step - loss: 0.0010 - accuracy: 1.0000 - val_loss: 0.5446 - val_accuracy: 0.9310\n",
      "Epoch 85/200\n",
      "1/1 [==============================] - 0s 51ms/step - loss: 0.0010 - accuracy: 1.0000 - val_loss: 0.5482 - val_accuracy: 0.9310\n",
      "Epoch 86/200\n",
      "1/1 [==============================] - 0s 48ms/step - loss: 9.4311e-04 - accuracy: 1.0000 - val_loss: 0.5539 - val_accuracy: 0.9310\n",
      "Epoch 87/200\n",
      "1/1 [==============================] - 0s 48ms/step - loss: 8.4970e-04 - accuracy: 1.0000 - val_loss: 0.5601 - val_accuracy: 0.9310\n",
      "Epoch 88/200\n",
      "1/1 [==============================] - 0s 51ms/step - loss: 8.0877e-04 - accuracy: 1.0000 - val_loss: 0.5652 - val_accuracy: 0.9310\n",
      "Epoch 89/200\n",
      "1/1 [==============================] - 0s 46ms/step - loss: 8.0512e-04 - accuracy: 1.0000 - val_loss: 0.5681 - val_accuracy: 0.9310\n",
      "Epoch 90/200\n",
      "1/1 [==============================] - 0s 48ms/step - loss: 7.8068e-04 - accuracy: 1.0000 - val_loss: 0.5686 - val_accuracy: 0.9310\n",
      "Epoch 91/200\n",
      "1/1 [==============================] - 0s 48ms/step - loss: 7.2630e-04 - accuracy: 1.0000 - val_loss: 0.5678 - val_accuracy: 0.9310\n",
      "Epoch 92/200\n",
      "1/1 [==============================] - 0s 49ms/step - loss: 6.8133e-04 - accuracy: 1.0000 - val_loss: 0.5670 - val_accuracy: 0.9310\n",
      "Epoch 93/200\n",
      "1/1 [==============================] - 0s 49ms/step - loss: 6.6400e-04 - accuracy: 1.0000 - val_loss: 0.5676 - val_accuracy: 0.9310\n",
      "Epoch 94/200\n",
      "1/1 [==============================] - 0s 49ms/step - loss: 6.5461e-04 - accuracy: 1.0000 - val_loss: 0.5698 - val_accuracy: 0.9310\n",
      "Epoch 95/200\n",
      "1/1 [==============================] - 0s 48ms/step - loss: 6.3092e-04 - accuracy: 1.0000 - val_loss: 0.5735 - val_accuracy: 0.9310\n",
      "Epoch 96/200\n",
      "1/1 [==============================] - 0s 48ms/step - loss: 5.9580e-04 - accuracy: 1.0000 - val_loss: 0.5782 - val_accuracy: 0.9310\n",
      "Epoch 97/200\n",
      "1/1 [==============================] - 0s 49ms/step - loss: 5.6755e-04 - accuracy: 1.0000 - val_loss: 0.5829 - val_accuracy: 0.9310\n",
      "Epoch 98/200\n",
      "1/1 [==============================] - 0s 48ms/step - loss: 5.5411e-04 - accuracy: 1.0000 - val_loss: 0.5866 - val_accuracy: 0.9310\n",
      "Epoch 99/200\n",
      "1/1 [==============================] - 0s 49ms/step - loss: 5.4405e-04 - accuracy: 1.0000 - val_loss: 0.5889 - val_accuracy: 0.9310\n",
      "Epoch 100/200\n",
      "1/1 [==============================] - 0s 49ms/step - loss: 5.2662e-04 - accuracy: 1.0000 - val_loss: 0.5900 - val_accuracy: 0.9310\n",
      "Epoch 101/200\n",
      "1/1 [==============================] - 0s 51ms/step - loss: 5.0363e-04 - accuracy: 1.0000 - val_loss: 0.5904 - val_accuracy: 0.9310\n",
      "Epoch 102/200\n",
      "1/1 [==============================] - 0s 48ms/step - loss: 4.8409e-04 - accuracy: 1.0000 - val_loss: 0.5907 - val_accuracy: 0.9310\n",
      "Epoch 103/200\n",
      "1/1 [==============================] - 0s 47ms/step - loss: 4.7304e-04 - accuracy: 1.0000 - val_loss: 0.5917 - val_accuracy: 0.9310\n",
      "Epoch 104/200\n",
      "1/1 [==============================] - 0s 50ms/step - loss: 4.6492e-04 - accuracy: 1.0000 - val_loss: 0.5936 - val_accuracy: 0.9310\n",
      "Epoch 105/200\n",
      "1/1 [==============================] - 0s 48ms/step - loss: 4.5371e-04 - accuracy: 1.0000 - val_loss: 0.5963 - val_accuracy: 0.9310\n",
      "Epoch 106/200\n",
      "1/1 [==============================] - 0s 48ms/step - loss: 4.3868e-04 - accuracy: 1.0000 - val_loss: 0.5995 - val_accuracy: 0.9310\n",
      "Epoch 107/200\n",
      "1/1 [==============================] - 0s 48ms/step - loss: 4.2463e-04 - accuracy: 1.0000 - val_loss: 0.6029 - val_accuracy: 0.9310\n",
      "Epoch 108/200\n",
      "1/1 [==============================] - 0s 51ms/step - loss: 4.1436e-04 - accuracy: 1.0000 - val_loss: 0.6056 - val_accuracy: 0.9310\n",
      "Epoch 109/200\n",
      "1/1 [==============================] - 0s 48ms/step - loss: 4.0657e-04 - accuracy: 1.0000 - val_loss: 0.6074 - val_accuracy: 0.9310\n",
      "Epoch 110/200\n",
      "1/1 [==============================] - 0s 48ms/step - loss: 3.9708e-04 - accuracy: 1.0000 - val_loss: 0.6082 - val_accuracy: 0.9310\n",
      "Epoch 111/200\n",
      "1/1 [==============================] - 0s 49ms/step - loss: 3.8543e-04 - accuracy: 1.0000 - val_loss: 0.6084 - val_accuracy: 0.9310\n",
      "Epoch 112/200\n",
      "1/1 [==============================] - 0s 48ms/step - loss: 3.7376e-04 - accuracy: 1.0000 - val_loss: 0.6082 - val_accuracy: 0.9310\n",
      "Epoch 113/200\n",
      "1/1 [==============================] - 0s 48ms/step - loss: 3.6425e-04 - accuracy: 1.0000 - val_loss: 0.6082 - val_accuracy: 0.9310\n",
      "Epoch 114/200\n",
      "1/1 [==============================] - 0s 51ms/step - loss: 3.5613e-04 - accuracy: 1.0000 - val_loss: 0.6090 - val_accuracy: 0.9310\n",
      "Epoch 115/200\n",
      "1/1 [==============================] - 0s 49ms/step - loss: 3.4712e-04 - accuracy: 1.0000 - val_loss: 0.6105 - val_accuracy: 0.9310\n",
      "Epoch 116/200\n"
     ]
    },
    {
     "name": "stdout",
     "output_type": "stream",
     "text": [
      "1/1 [==============================] - 0s 48ms/step - loss: 3.3675e-04 - accuracy: 1.0000 - val_loss: 0.6126 - val_accuracy: 0.9310\n",
      "Epoch 117/200\n",
      "1/1 [==============================] - 0s 48ms/step - loss: 3.2638e-04 - accuracy: 1.0000 - val_loss: 0.6150 - val_accuracy: 0.9310\n",
      "Epoch 118/200\n",
      "1/1 [==============================] - 0s 48ms/step - loss: 3.1707e-04 - accuracy: 1.0000 - val_loss: 0.6173 - val_accuracy: 0.9310\n",
      "Epoch 119/200\n",
      "1/1 [==============================] - 0s 52ms/step - loss: 3.0877e-04 - accuracy: 1.0000 - val_loss: 0.6192 - val_accuracy: 0.9310\n",
      "Epoch 120/200\n",
      "1/1 [==============================] - 0s 48ms/step - loss: 3.0042e-04 - accuracy: 1.0000 - val_loss: 0.6205 - val_accuracy: 0.9310\n",
      "Epoch 121/200\n",
      "1/1 [==============================] - 0s 47ms/step - loss: 2.9121e-04 - accuracy: 1.0000 - val_loss: 0.6212 - val_accuracy: 0.9310\n",
      "Epoch 122/200\n",
      "1/1 [==============================] - 0s 48ms/step - loss: 2.8149e-04 - accuracy: 1.0000 - val_loss: 0.6217 - val_accuracy: 0.9310\n",
      "Epoch 123/200\n",
      "1/1 [==============================] - 0s 48ms/step - loss: 2.7251e-04 - accuracy: 1.0000 - val_loss: 0.6228 - val_accuracy: 0.9310\n",
      "Epoch 124/200\n",
      "1/1 [==============================] - 0s 48ms/step - loss: 2.6365e-04 - accuracy: 1.0000 - val_loss: 0.6248 - val_accuracy: 0.9310\n",
      "Epoch 125/200\n",
      "1/1 [==============================] - 0s 46ms/step - loss: 2.5431e-04 - accuracy: 1.0000 - val_loss: 0.6272 - val_accuracy: 0.9310\n",
      "Epoch 126/200\n",
      "1/1 [==============================] - 0s 51ms/step - loss: 2.4532e-04 - accuracy: 1.0000 - val_loss: 0.6298 - val_accuracy: 0.9310\n",
      "Epoch 127/200\n",
      "1/1 [==============================] - 0s 48ms/step - loss: 2.3653e-04 - accuracy: 1.0000 - val_loss: 0.6324 - val_accuracy: 0.9310\n",
      "Epoch 128/200\n",
      "1/1 [==============================] - 0s 48ms/step - loss: 2.2797e-04 - accuracy: 1.0000 - val_loss: 0.6345 - val_accuracy: 0.9310\n",
      "Epoch 129/200\n",
      "1/1 [==============================] - 0s 48ms/step - loss: 2.1936e-04 - accuracy: 1.0000 - val_loss: 0.6362 - val_accuracy: 0.9310\n",
      "Epoch 130/200\n",
      "1/1 [==============================] - 0s 47ms/step - loss: 2.1078e-04 - accuracy: 1.0000 - val_loss: 0.6375 - val_accuracy: 0.9310\n",
      "Epoch 131/200\n",
      "1/1 [==============================] - 0s 48ms/step - loss: 2.0232e-04 - accuracy: 1.0000 - val_loss: 0.6386 - val_accuracy: 0.9310\n",
      "Epoch 132/200\n",
      "1/1 [==============================] - 0s 48ms/step - loss: 1.9414e-04 - accuracy: 1.0000 - val_loss: 0.6399 - val_accuracy: 0.9310\n",
      "Epoch 133/200\n",
      "1/1 [==============================] - 0s 49ms/step - loss: 1.8626e-04 - accuracy: 1.0000 - val_loss: 0.6415 - val_accuracy: 0.9310\n",
      "Epoch 134/200\n",
      "1/1 [==============================] - 0s 51ms/step - loss: 1.7853e-04 - accuracy: 1.0000 - val_loss: 0.6436 - val_accuracy: 0.9310\n",
      "Epoch 135/200\n",
      "1/1 [==============================] - 0s 48ms/step - loss: 1.7092e-04 - accuracy: 1.0000 - val_loss: 0.6467 - val_accuracy: 0.9310\n",
      "Epoch 136/200\n",
      "1/1 [==============================] - 0s 48ms/step - loss: 1.6354e-04 - accuracy: 1.0000 - val_loss: 0.6497 - val_accuracy: 0.9310\n",
      "Epoch 137/200\n",
      "1/1 [==============================] - 0s 48ms/step - loss: 1.5662e-04 - accuracy: 1.0000 - val_loss: 0.6521 - val_accuracy: 0.9310\n",
      "Epoch 138/200\n",
      "1/1 [==============================] - 0s 51ms/step - loss: 1.4984e-04 - accuracy: 1.0000 - val_loss: 0.6539 - val_accuracy: 0.9310\n",
      "Epoch 139/200\n",
      "1/1 [==============================] - 0s 51ms/step - loss: 1.4321e-04 - accuracy: 1.0000 - val_loss: 0.6552 - val_accuracy: 0.9310\n",
      "Epoch 140/200\n",
      "1/1 [==============================] - 0s 47ms/step - loss: 1.3680e-04 - accuracy: 1.0000 - val_loss: 0.6566 - val_accuracy: 0.9310\n",
      "Epoch 141/200\n",
      "1/1 [==============================] - 0s 48ms/step - loss: 1.3081e-04 - accuracy: 1.0000 - val_loss: 0.6583 - val_accuracy: 0.9310\n",
      "Epoch 142/200\n",
      "1/1 [==============================] - 0s 47ms/step - loss: 1.2519e-04 - accuracy: 1.0000 - val_loss: 0.6611 - val_accuracy: 0.9310\n",
      "Epoch 143/200\n",
      "1/1 [==============================] - 0s 47ms/step - loss: 1.1937e-04 - accuracy: 1.0000 - val_loss: 0.6641 - val_accuracy: 0.9310\n",
      "Epoch 144/200\n",
      "1/1 [==============================] - 0s 48ms/step - loss: 1.1394e-04 - accuracy: 1.0000 - val_loss: 0.6671 - val_accuracy: 0.9310\n",
      "Epoch 145/200\n",
      "1/1 [==============================] - 0s 48ms/step - loss: 1.0884e-04 - accuracy: 1.0000 - val_loss: 0.6699 - val_accuracy: 0.9310\n",
      "Epoch 146/200\n",
      "1/1 [==============================] - 0s 49ms/step - loss: 1.0403e-04 - accuracy: 1.0000 - val_loss: 0.6722 - val_accuracy: 0.9310\n",
      "Epoch 147/200\n",
      "1/1 [==============================] - 0s 48ms/step - loss: 9.9374e-05 - accuracy: 1.0000 - val_loss: 0.6742 - val_accuracy: 0.9310\n",
      "Epoch 148/200\n",
      "1/1 [==============================] - 0s 48ms/step - loss: 9.4897e-05 - accuracy: 1.0000 - val_loss: 0.6759 - val_accuracy: 0.9310\n",
      "Epoch 149/200\n",
      "1/1 [==============================] - 0s 49ms/step - loss: 9.0694e-05 - accuracy: 1.0000 - val_loss: 0.6778 - val_accuracy: 0.9310\n",
      "Epoch 150/200\n",
      "1/1 [==============================] - 0s 49ms/step - loss: 8.6782e-05 - accuracy: 1.0000 - val_loss: 0.6805 - val_accuracy: 0.9310\n",
      "Epoch 151/200\n",
      "1/1 [==============================] - 0s 49ms/step - loss: 8.3007e-05 - accuracy: 1.0000 - val_loss: 0.6833 - val_accuracy: 0.9310\n",
      "Epoch 152/200\n",
      "1/1 [==============================] - 0s 49ms/step - loss: 7.9449e-05 - accuracy: 1.0000 - val_loss: 0.6860 - val_accuracy: 0.9310\n",
      "Epoch 153/200\n",
      "1/1 [==============================] - 0s 47ms/step - loss: 7.6073e-05 - accuracy: 1.0000 - val_loss: 0.6885 - val_accuracy: 0.9310\n",
      "Epoch 154/200\n",
      "1/1 [==============================] - 0s 49ms/step - loss: 7.2857e-05 - accuracy: 1.0000 - val_loss: 0.6908 - val_accuracy: 0.9310\n",
      "Epoch 155/200\n",
      "1/1 [==============================] - 0s 49ms/step - loss: 6.9781e-05 - accuracy: 1.0000 - val_loss: 0.6928 - val_accuracy: 0.9310\n",
      "Epoch 156/200\n",
      "1/1 [==============================] - 0s 49ms/step - loss: 6.6865e-05 - accuracy: 1.0000 - val_loss: 0.6947 - val_accuracy: 0.9310\n",
      "Epoch 157/200\n",
      "1/1 [==============================] - 0s 48ms/step - loss: 6.4110e-05 - accuracy: 1.0000 - val_loss: 0.6966 - val_accuracy: 0.9310\n",
      "Epoch 158/200\n",
      "1/1 [==============================] - 0s 52ms/step - loss: 6.1495e-05 - accuracy: 1.0000 - val_loss: 0.6986 - val_accuracy: 0.9310\n",
      "Epoch 159/200\n",
      "1/1 [==============================] - 0s 49ms/step - loss: 5.9023e-05 - accuracy: 1.0000 - val_loss: 0.7013 - val_accuracy: 0.9310\n",
      "Epoch 160/200\n",
      "1/1 [==============================] - 0s 47ms/step - loss: 5.6661e-05 - accuracy: 1.0000 - val_loss: 0.7040 - val_accuracy: 0.9310\n",
      "Epoch 161/200\n",
      "1/1 [==============================] - 0s 48ms/step - loss: 5.4441e-05 - accuracy: 1.0000 - val_loss: 0.7065 - val_accuracy: 0.9310\n",
      "Epoch 162/200\n",
      "1/1 [==============================] - 0s 47ms/step - loss: 5.2335e-05 - accuracy: 1.0000 - val_loss: 0.7089 - val_accuracy: 0.9310\n",
      "Epoch 163/200\n",
      "1/1 [==============================] - 0s 48ms/step - loss: 5.0324e-05 - accuracy: 1.0000 - val_loss: 0.7112 - val_accuracy: 0.9310\n",
      "Epoch 164/200\n",
      "1/1 [==============================] - 0s 51ms/step - loss: 4.8404e-05 - accuracy: 1.0000 - val_loss: 0.7133 - val_accuracy: 0.9310\n",
      "Epoch 165/200\n",
      "1/1 [==============================] - 0s 48ms/step - loss: 4.6577e-05 - accuracy: 1.0000 - val_loss: 0.7154 - val_accuracy: 0.9310\n",
      "Epoch 166/200\n",
      "1/1 [==============================] - 0s 48ms/step - loss: 4.4847e-05 - accuracy: 1.0000 - val_loss: 0.7174 - val_accuracy: 0.9310\n",
      "Epoch 167/200\n",
      "1/1 [==============================] - 0s 48ms/step - loss: 4.3203e-05 - accuracy: 1.0000 - val_loss: 0.7195 - val_accuracy: 0.9310\n",
      "Epoch 168/200\n",
      "1/1 [==============================] - 0s 49ms/step - loss: 4.1644e-05 - accuracy: 1.0000 - val_loss: 0.7217 - val_accuracy: 0.9310\n",
      "Epoch 169/200\n",
      "1/1 [==============================] - 0s 48ms/step - loss: 4.0156e-05 - accuracy: 1.0000 - val_loss: 0.7240 - val_accuracy: 0.9310\n",
      "Epoch 170/200\n",
      "1/1 [==============================] - 0s 54ms/step - loss: 3.8731e-05 - accuracy: 1.0000 - val_loss: 0.7263 - val_accuracy: 0.9310\n",
      "Epoch 171/200\n",
      "1/1 [==============================] - 0s 53ms/step - loss: 3.7369e-05 - accuracy: 1.0000 - val_loss: 0.7287 - val_accuracy: 0.9310\n",
      "Epoch 172/200\n",
      "1/1 [==============================] - 0s 49ms/step - loss: 3.6070e-05 - accuracy: 1.0000 - val_loss: 0.7311 - val_accuracy: 0.9310\n",
      "Epoch 173/200\n",
      "1/1 [==============================] - 0s 49ms/step - loss: 3.4832e-05 - accuracy: 1.0000 - val_loss: 0.7334 - val_accuracy: 0.9310\n",
      "Epoch 174/200\n",
      "1/1 [==============================] - 0s 47ms/step - loss: 3.3651e-05 - accuracy: 1.0000 - val_loss: 0.7357 - val_accuracy: 0.9310\n",
      "Epoch 175/200\n",
      "1/1 [==============================] - 0s 48ms/step - loss: 3.2523e-05 - accuracy: 1.0000 - val_loss: 0.7380 - val_accuracy: 0.9310\n",
      "Epoch 176/200\n",
      "1/1 [==============================] - 0s 48ms/step - loss: 3.1448e-05 - accuracy: 1.0000 - val_loss: 0.7402 - val_accuracy: 0.9310\n",
      "Epoch 177/200\n",
      "1/1 [==============================] - 0s 48ms/step - loss: 3.0418e-05 - accuracy: 1.0000 - val_loss: 0.7423 - val_accuracy: 0.9310\n",
      "Epoch 178/200\n",
      "1/1 [==============================] - 0s 48ms/step - loss: 2.9433e-05 - accuracy: 1.0000 - val_loss: 0.7444 - val_accuracy: 0.9310\n",
      "Epoch 179/200\n",
      "1/1 [==============================] - 0s 50ms/step - loss: 2.8489e-05 - accuracy: 1.0000 - val_loss: 0.7464 - val_accuracy: 0.9310\n",
      "Epoch 180/200\n",
      "1/1 [==============================] - 0s 48ms/step - loss: 2.7584e-05 - accuracy: 1.0000 - val_loss: 0.7484 - val_accuracy: 0.9310\n",
      "Epoch 181/200\n",
      "1/1 [==============================] - 0s 48ms/step - loss: 2.6720e-05 - accuracy: 1.0000 - val_loss: 0.7504 - val_accuracy: 0.9310\n",
      "Epoch 182/200\n",
      "1/1 [==============================] - 0s 48ms/step - loss: 2.5893e-05 - accuracy: 1.0000 - val_loss: 0.7525 - val_accuracy: 0.9310\n",
      "Epoch 183/200\n",
      "1/1 [==============================] - 0s 48ms/step - loss: 2.5099e-05 - accuracy: 1.0000 - val_loss: 0.7546 - val_accuracy: 0.9310\n",
      "Epoch 184/200\n",
      "1/1 [==============================] - 0s 50ms/step - loss: 2.4338e-05 - accuracy: 1.0000 - val_loss: 0.7567 - val_accuracy: 0.9310\n",
      "Epoch 185/200\n",
      "1/1 [==============================] - 0s 49ms/step - loss: 2.3609e-05 - accuracy: 1.0000 - val_loss: 0.7588 - val_accuracy: 0.9310\n",
      "Epoch 186/200\n",
      "1/1 [==============================] - 0s 48ms/step - loss: 2.2909e-05 - accuracy: 1.0000 - val_loss: 0.7610 - val_accuracy: 0.9310\n",
      "Epoch 187/200\n",
      "1/1 [==============================] - 0s 48ms/step - loss: 2.2238e-05 - accuracy: 1.0000 - val_loss: 0.7631 - val_accuracy: 0.9310\n",
      "Epoch 188/200\n",
      "1/1 [==============================] - 0s 48ms/step - loss: 2.1594e-05 - accuracy: 1.0000 - val_loss: 0.7652 - val_accuracy: 0.9310\n",
      "Epoch 189/200\n",
      "1/1 [==============================] - 0s 49ms/step - loss: 2.0976e-05 - accuracy: 1.0000 - val_loss: 0.7674 - val_accuracy: 0.9310\n",
      "Epoch 190/200\n",
      "1/1 [==============================] - 0s 48ms/step - loss: 2.0384e-05 - accuracy: 1.0000 - val_loss: 0.7694 - val_accuracy: 0.9310\n",
      "Epoch 191/200\n",
      "1/1 [==============================] - 0s 48ms/step - loss: 1.9815e-05 - accuracy: 1.0000 - val_loss: 0.7715 - val_accuracy: 0.9310\n",
      "Epoch 192/200\n",
      "1/1 [==============================] - 0s 48ms/step - loss: 1.9268e-05 - accuracy: 1.0000 - val_loss: 0.7735 - val_accuracy: 0.9310\n",
      "Epoch 193/200\n",
      "1/1 [==============================] - 0s 48ms/step - loss: 1.8742e-05 - accuracy: 1.0000 - val_loss: 0.7755 - val_accuracy: 0.9310\n",
      "Epoch 194/200\n",
      "1/1 [==============================] - 0s 48ms/step - loss: 1.8237e-05 - accuracy: 1.0000 - val_loss: 0.7774 - val_accuracy: 0.9310\n",
      "Epoch 195/200\n",
      "1/1 [==============================] - 0s 48ms/step - loss: 1.7751e-05 - accuracy: 1.0000 - val_loss: 0.7794 - val_accuracy: 0.9310\n",
      "Epoch 196/200\n",
      "1/1 [==============================] - 0s 47ms/step - loss: 1.7284e-05 - accuracy: 1.0000 - val_loss: 0.7813 - val_accuracy: 0.9310\n",
      "Epoch 197/200\n",
      "1/1 [==============================] - 0s 48ms/step - loss: 1.6834e-05 - accuracy: 1.0000 - val_loss: 0.7833 - val_accuracy: 0.9310\n",
      "Epoch 198/200\n",
      "1/1 [==============================] - 0s 48ms/step - loss: 1.6402e-05 - accuracy: 1.0000 - val_loss: 0.7852 - val_accuracy: 0.9310\n",
      "Epoch 199/200\n",
      "1/1 [==============================] - 0s 48ms/step - loss: 1.5985e-05 - accuracy: 1.0000 - val_loss: 0.7871 - val_accuracy: 0.9310\n",
      "Epoch 200/200\n",
      "1/1 [==============================] - 0s 50ms/step - loss: 1.5584e-05 - accuracy: 1.0000 - val_loss: 0.7890 - val_accuracy: 0.9310\n"
     ]
    }
   ],
   "source": [
    "model_2 = Sequential([\n",
    "    Dense(1000, activation='relu', input_shape=(22,)),\n",
    "    Dense(1000, activation='relu'),\n",
    "    Dense(1000, activation='relu'),\n",
    "    Dense(1000, activation='relu'),\n",
    "    Dense(2, activation='softmax'),\n",
    "])\n",
    "model_2.compile(optimizer='adam',\n",
    "              loss='binary_crossentropy',\n",
    "              metrics=['accuracy'])\n",
    "hist_2 = model_2.fit(X_train, y_traindm,\n",
    "          batch_size=58, epochs=200,\n",
    "          validation_data=(X_val, y_valdm))"
   ]
  },
  {
   "cell_type": "markdown",
   "metadata": {},
   "source": [
    "## Visualize to see what overfitting looks like in terms of the loss and accuracy."
   ]
  },
  {
   "cell_type": "code",
   "execution_count": 51,
   "metadata": {
    "scrolled": true
   },
   "outputs": [
    {
     "data": {
      "image/png": "[encoded data removed]",
      "text/plain": [
       "<Figure size 460.8x316.8 with 1 Axes>"
      ]
     },
     "metadata": {
      "needs_background": "light"
     },
     "output_type": "display_data"
    }
   ],
   "source": [
    "plt.plot(hist_2.history['loss'])\n",
    "plt.plot(hist_2.history['val_loss'])\n",
    "plt.title('Model loss')\n",
    "plt.ylabel('Loss')\n",
    "plt.xlabel('Epoch')\n",
    "plt.legend(['Train', 'Val'], loc='upper right')\n",
    "plt.show()"
   ]
  },
  {
   "cell_type": "markdown",
   "metadata": {},
   "source": [
    "**Overfitting is represented by an increase in loss in the validation set after the 20th epoch.**"
   ]
  },
  {
   "cell_type": "code",
   "execution_count": 52,
   "metadata": {
    "scrolled": true
   },
   "outputs": [
    {
     "data": {
      "image/png": "[encoded data removed]",
      "text/plain": [
       "<Figure size 460.8x316.8 with 1 Axes>"
      ]
     },
     "metadata": {
      "needs_background": "light"
     },
     "output_type": "display_data"
    }
   ],
   "source": [
    "plt.plot(hist_2.history['accuracy'])\n",
    "plt.plot(hist_2.history['val_accuracy'])\n",
    "plt.title('Model accuracy')\n",
    "plt.ylabel('Accuracy')\n",
    "plt.xlabel('Epoch')\n",
    "plt.legend(['Train', 'Val'], loc='lower right')\n",
    "plt.show()"
   ]
  },
  {
   "cell_type": "markdown",
   "metadata": {},
   "source": [
    "**Test Accuracy**"
   ]
  },
  {
   "cell_type": "code",
   "execution_count": 53,
   "metadata": {
    "scrolled": true
   },
   "outputs": [
    {
     "name": "stdout",
     "output_type": "stream",
     "text": [
      "1/1 [==============================] - 0s 14ms/step - loss: 0.3306 - accuracy: 0.9655\n"
     ]
    },
    {
     "data": {
      "text/plain": [
       "0.9655172228813171"
      ]
     },
     "execution_count": 53,
     "metadata": {},
     "output_type": "execute_result"
    }
   ],
   "source": [
    "model_2.evaluate(X_test, y_testdm)[1]"
   ]
  },
  {
   "cell_type": "markdown",
   "metadata": {},
   "source": [
    "## Incorporate Regularization and Dropout into the Third Model"
   ]
  },
  {
   "cell_type": "markdown",
   "metadata": {},
   "source": [
    "**To address the overfitting we see in Model 2, we'll incorporate L2 regularization and dropout in our third model here (Model 3). Input shape is how many variables (22) and Dense is number of y values (2).**"
   ]
  },
  {
   "cell_type": "code",
   "execution_count": 54,
   "metadata": {
    "scrolled": true
   },
   "outputs": [],
   "source": [
    "from tensorflow.keras.layers import Dropout\n",
    "from tensorflow.keras import regularizers"
   ]
  },
  {
   "cell_type": "code",
   "execution_count": 65,
   "metadata": {
    "scrolled": true
   },
   "outputs": [],
   "source": [
    "VIANN = VarImpVIANN(verbose=1)\n",
    "model_3 = Sequential([\n",
    "    Dense(1000, activation='relu', kernel_regularizer=regularizers.l2(0.01), input_shape=(22,)),\n",
    "    Dropout(0.2),\n",
    "    Dense(750, activation='relu', kernel_regularizer=regularizers.l2(0.01)),\n",
    "    Dropout(0.2),\n",
    "    Dense(500, activation='relu', kernel_regularizer=regularizers.l2(0.01)),\n",
    "    Dropout(0.2),\n",
    "    Dense(250, activation='relu', kernel_regularizer=regularizers.l2(0.01)),\n",
    "    Dropout(0.2),\n",
    "    Dense(2, activation='sigmoid', kernel_regularizer=regularizers.l2(0.01)),\n",
    "])"
   ]
  },
  {
   "cell_type": "code",
   "execution_count": 66,
   "metadata": {
    "scrolled": true
   },
   "outputs": [
    {
     "name": "stdout",
     "output_type": "stream",
     "text": [
      "VIANN version 1.0 (Wellford + Mean) update per epoch\n",
      "Epoch 1/200\n",
      "1/1 [==============================] - 1s 781ms/step - loss: 19.1052 - accuracy: 0.5000 - val_loss: 18.4247 - val_accuracy: 0.5172\n",
      "Epoch 2/200\n",
      "1/1 [==============================] - 0s 43ms/step - loss: 18.4171 - accuracy: 0.5690 - val_loss: 17.9472 - val_accuracy: 0.4828\n",
      "Epoch 3/200\n",
      "1/1 [==============================] - 0s 42ms/step - loss: 17.8210 - accuracy: 0.5690 - val_loss: 17.2027 - val_accuracy: 0.4828\n",
      "Epoch 4/200\n",
      "1/1 [==============================] - 0s 42ms/step - loss: 17.1319 - accuracy: 0.6897 - val_loss: 16.6203 - val_accuracy: 0.4483\n",
      "Epoch 5/200\n",
      "1/1 [==============================] - 0s 44ms/step - loss: 16.5273 - accuracy: 0.6379 - val_loss: 16.0955 - val_accuracy: 0.5517\n",
      "Epoch 6/200\n",
      "1/1 [==============================] - 0s 47ms/step - loss: 15.9857 - accuracy: 0.6552 - val_loss: 15.5873 - val_accuracy: 0.5517\n",
      "Epoch 7/200\n",
      "1/1 [==============================] - 0s 45ms/step - loss: 15.4069 - accuracy: 0.7069 - val_loss: 14.9373 - val_accuracy: 0.5862\n",
      "Epoch 8/200\n",
      "1/1 [==============================] - 0s 42ms/step - loss: 14.8285 - accuracy: 0.6897 - val_loss: 14.4037 - val_accuracy: 0.5517\n",
      "Epoch 9/200\n",
      "1/1 [==============================] - 0s 43ms/step - loss: 14.2670 - accuracy: 0.6897 - val_loss: 14.0022 - val_accuracy: 0.5517\n",
      "Epoch 10/200\n",
      "1/1 [==============================] - 0s 42ms/step - loss: 13.7189 - accuracy: 0.7586 - val_loss: 13.5258 - val_accuracy: 0.5172\n",
      "Epoch 11/200\n",
      "1/1 [==============================] - 0s 44ms/step - loss: 13.2809 - accuracy: 0.7414 - val_loss: 12.9330 - val_accuracy: 0.5862\n",
      "Epoch 12/200\n",
      "1/1 [==============================] - 0s 44ms/step - loss: 12.7729 - accuracy: 0.7241 - val_loss: 12.4498 - val_accuracy: 0.5862\n",
      "Epoch 13/200\n",
      "1/1 [==============================] - 0s 43ms/step - loss: 12.2683 - accuracy: 0.7414 - val_loss: 12.0363 - val_accuracy: 0.5172\n",
      "Epoch 14/200\n",
      "1/1 [==============================] - 0s 42ms/step - loss: 11.8254 - accuracy: 0.7931 - val_loss: 11.5990 - val_accuracy: 0.5172\n",
      "Epoch 15/200\n",
      "1/1 [==============================] - 0s 43ms/step - loss: 11.3520 - accuracy: 0.7931 - val_loss: 11.1488 - val_accuracy: 0.5862\n",
      "Epoch 16/200\n",
      "1/1 [==============================] - 0s 42ms/step - loss: 10.9516 - accuracy: 0.6724 - val_loss: 10.7643 - val_accuracy: 0.5517\n",
      "Epoch 17/200\n",
      "1/1 [==============================] - 0s 41ms/step - loss: 10.5623 - accuracy: 0.7759 - val_loss: 10.3699 - val_accuracy: 0.5862\n",
      "Epoch 18/200\n",
      "1/1 [==============================] - 0s 43ms/step - loss: 10.0944 - accuracy: 0.7759 - val_loss: 9.9611 - val_accuracy: 0.5862\n",
      "Epoch 19/200\n",
      "1/1 [==============================] - 0s 42ms/step - loss: 9.7216 - accuracy: 0.8103 - val_loss: 9.5653 - val_accuracy: 0.6897\n",
      "Epoch 20/200\n",
      "1/1 [==============================] - 0s 42ms/step - loss: 9.4210 - accuracy: 0.7759 - val_loss: 9.2628 - val_accuracy: 0.5862\n",
      "Epoch 21/200\n",
      "1/1 [==============================] - 0s 44ms/step - loss: 8.9783 - accuracy: 0.8276 - val_loss: 8.8846 - val_accuracy: 0.6207\n",
      "Epoch 22/200\n",
      "1/1 [==============================] - 0s 44ms/step - loss: 8.6341 - accuracy: 0.8448 - val_loss: 8.5857 - val_accuracy: 0.5862\n",
      "Epoch 23/200\n",
      "1/1 [==============================] - 0s 42ms/step - loss: 8.3812 - accuracy: 0.7759 - val_loss: 8.2299 - val_accuracy: 0.6897\n",
      "Epoch 24/200\n",
      "1/1 [==============================] - 0s 42ms/step - loss: 7.9498 - accuracy: 0.8621 - val_loss: 7.8792 - val_accuracy: 0.6897\n",
      "Epoch 25/200\n",
      "1/1 [==============================] - 0s 43ms/step - loss: 7.5622 - accuracy: 0.9310 - val_loss: 7.5598 - val_accuracy: 0.7241\n",
      "Epoch 26/200\n",
      "1/1 [==============================] - 0s 45ms/step - loss: 7.3882 - accuracy: 0.8448 - val_loss: 7.5188 - val_accuracy: 0.5517\n",
      "Epoch 27/200\n",
      "1/1 [==============================] - 0s 42ms/step - loss: 7.1697 - accuracy: 0.7931 - val_loss: 7.0100 - val_accuracy: 0.6897\n",
      "Epoch 28/200\n",
      "1/1 [==============================] - 0s 44ms/step - loss: 6.8122 - accuracy: 0.8448 - val_loss: 6.7155 - val_accuracy: 0.8276\n",
      "Epoch 29/200\n",
      "1/1 [==============================] - 0s 42ms/step - loss: 6.5667 - accuracy: 0.8448 - val_loss: 6.6224 - val_accuracy: 0.6897\n",
      "Epoch 30/200\n",
      "1/1 [==============================] - 0s 41ms/step - loss: 6.3196 - accuracy: 0.8448 - val_loss: 6.4147 - val_accuracy: 0.6897\n",
      "Epoch 31/200\n",
      "1/1 [==============================] - 0s 44ms/step - loss: 6.1092 - accuracy: 0.8103 - val_loss: 5.9804 - val_accuracy: 0.8621\n",
      "Epoch 32/200\n",
      "1/1 [==============================] - 0s 46ms/step - loss: 5.9817 - accuracy: 0.8276 - val_loss: 5.7701 - val_accuracy: 0.7931\n",
      "Epoch 33/200\n",
      "1/1 [==============================] - 0s 47ms/step - loss: 5.5438 - accuracy: 0.9138 - val_loss: 5.7373 - val_accuracy: 0.6897\n",
      "Epoch 34/200\n",
      "1/1 [==============================] - 0s 45ms/step - loss: 5.4335 - accuracy: 0.8621 - val_loss: 5.3547 - val_accuracy: 0.8276\n",
      "Epoch 35/200\n",
      "1/1 [==============================] - 0s 45ms/step - loss: 5.1665 - accuracy: 0.9655 - val_loss: 5.1378 - val_accuracy: 0.8621\n",
      "Epoch 36/200\n",
      "1/1 [==============================] - 0s 42ms/step - loss: 5.0528 - accuracy: 0.9138 - val_loss: 5.2369 - val_accuracy: 0.6207\n",
      "Epoch 37/200\n",
      "1/1 [==============================] - 0s 43ms/step - loss: 4.9591 - accuracy: 0.8448 - val_loss: 4.9839 - val_accuracy: 0.6897\n",
      "Epoch 38/200\n",
      "1/1 [==============================] - 0s 43ms/step - loss: 4.7343 - accuracy: 0.8276 - val_loss: 4.6160 - val_accuracy: 0.8966\n",
      "Epoch 39/200\n",
      "1/1 [==============================] - 0s 42ms/step - loss: 4.6945 - accuracy: 0.7759 - val_loss: 4.4859 - val_accuracy: 0.8276\n",
      "Epoch 40/200\n",
      "1/1 [==============================] - 0s 43ms/step - loss: 4.3394 - accuracy: 0.8103 - val_loss: 4.6607 - val_accuracy: 0.5862\n",
      "Epoch 41/200\n",
      "1/1 [==============================] - 0s 42ms/step - loss: 4.2806 - accuracy: 0.8448 - val_loss: 4.4231 - val_accuracy: 0.6552\n",
      "Epoch 42/200\n",
      "1/1 [==============================] - 0s 43ms/step - loss: 4.1454 - accuracy: 0.8103 - val_loss: 4.0304 - val_accuracy: 0.8966\n",
      "Epoch 43/200\n",
      "1/1 [==============================] - 0s 43ms/step - loss: 3.9709 - accuracy: 0.8793 - val_loss: 3.9006 - val_accuracy: 0.8966\n",
      "Epoch 44/200\n",
      "1/1 [==============================] - 0s 44ms/step - loss: 3.7587 - accuracy: 0.9483 - val_loss: 3.8575 - val_accuracy: 0.7931\n",
      "Epoch 45/200\n",
      "1/1 [==============================] - 0s 42ms/step - loss: 3.6551 - accuracy: 0.8966 - val_loss: 3.7876 - val_accuracy: 0.7241\n",
      "Epoch 46/200\n",
      "1/1 [==============================] - 0s 42ms/step - loss: 3.5464 - accuracy: 0.9310 - val_loss: 3.6026 - val_accuracy: 0.8621\n",
      "Epoch 47/200\n",
      "1/1 [==============================] - 0s 44ms/step - loss: 3.4185 - accuracy: 0.8966 - val_loss: 3.4635 - val_accuracy: 0.8966\n",
      "Epoch 48/200\n",
      "1/1 [==============================] - 0s 43ms/step - loss: 3.3733 - accuracy: 0.8621 - val_loss: 3.3424 - val_accuracy: 0.9310\n",
      "Epoch 49/200\n",
      "1/1 [==============================] - 0s 42ms/step - loss: 3.1890 - accuracy: 0.9828 - val_loss: 3.2627 - val_accuracy: 0.8966\n",
      "Epoch 50/200\n",
      "1/1 [==============================] - 0s 43ms/step - loss: 3.1053 - accuracy: 0.9138 - val_loss: 3.2609 - val_accuracy: 0.7241\n",
      "Epoch 51/200\n",
      "1/1 [==============================] - 0s 42ms/step - loss: 3.0586 - accuracy: 0.8621 - val_loss: 3.1229 - val_accuracy: 0.8276\n",
      "Epoch 52/200\n",
      "1/1 [==============================] - 0s 42ms/step - loss: 2.9108 - accuracy: 0.9310 - val_loss: 2.9665 - val_accuracy: 0.9310\n",
      "Epoch 53/200\n",
      "1/1 [==============================] - 0s 44ms/step - loss: 2.8886 - accuracy: 0.8793 - val_loss: 2.8871 - val_accuracy: 0.9310\n",
      "Epoch 54/200\n",
      "1/1 [==============================] - 0s 42ms/step - loss: 2.7494 - accuracy: 0.8966 - val_loss: 2.9219 - val_accuracy: 0.7241\n",
      "Epoch 55/200\n",
      "1/1 [==============================] - 0s 42ms/step - loss: 2.6620 - accuracy: 0.8966 - val_loss: 2.7524 - val_accuracy: 0.8966\n",
      "Epoch 56/200\n",
      "1/1 [==============================] - 0s 43ms/step - loss: 2.5975 - accuracy: 0.9310 - val_loss: 2.6487 - val_accuracy: 0.9310\n",
      "Epoch 57/200\n",
      "1/1 [==============================] - 0s 43ms/step - loss: 2.5722 - accuracy: 0.9138 - val_loss: 2.5696 - val_accuracy: 0.9310\n",
      "Epoch 58/200\n",
      "1/1 [==============================] - 0s 41ms/step - loss: 2.4643 - accuracy: 0.9310 - val_loss: 2.6083 - val_accuracy: 0.7931\n",
      "Epoch 59/200\n",
      "1/1 [==============================] - 0s 43ms/step - loss: 2.3755 - accuracy: 0.9310 - val_loss: 2.6013 - val_accuracy: 0.7241\n",
      "Epoch 60/200\n",
      "1/1 [==============================] - 0s 42ms/step - loss: 2.3253 - accuracy: 0.8966 - val_loss: 2.3883 - val_accuracy: 0.9310\n",
      "Epoch 61/200\n",
      "1/1 [==============================] - 0s 42ms/step - loss: 2.2291 - accuracy: 0.9310 - val_loss: 2.3005 - val_accuracy: 0.9310\n",
      "Epoch 62/200\n",
      "1/1 [==============================] - 0s 43ms/step - loss: 2.2378 - accuracy: 0.9138 - val_loss: 2.3664 - val_accuracy: 0.8621\n",
      "Epoch 63/200\n",
      "1/1 [==============================] - 0s 43ms/step - loss: 2.1677 - accuracy: 0.8966 - val_loss: 2.2637 - val_accuracy: 0.8966\n",
      "Epoch 64/200\n",
      "1/1 [==============================] - 0s 41ms/step - loss: 2.0625 - accuracy: 0.9483 - val_loss: 2.1397 - val_accuracy: 0.9310\n",
      "Epoch 65/200\n",
      "1/1 [==============================] - 0s 44ms/step - loss: 2.0556 - accuracy: 0.9138 - val_loss: 2.1141 - val_accuracy: 0.9310\n",
      "Epoch 66/200\n",
      "1/1 [==============================] - 0s 42ms/step - loss: 1.9442 - accuracy: 0.9655 - val_loss: 2.2164 - val_accuracy: 0.6897\n",
      "Epoch 67/200\n",
      "1/1 [==============================] - 0s 41ms/step - loss: 1.9948 - accuracy: 0.8621 - val_loss: 2.0397 - val_accuracy: 0.8966\n",
      "Epoch 68/200\n",
      "1/1 [==============================] - 0s 43ms/step - loss: 1.9074 - accuracy: 0.9310 - val_loss: 1.9541 - val_accuracy: 0.9310\n",
      "Epoch 69/200\n",
      "1/1 [==============================] - 0s 42ms/step - loss: 1.9741 - accuracy: 0.8793 - val_loss: 1.9999 - val_accuracy: 0.8621\n",
      "Epoch 70/200\n",
      "1/1 [==============================] - 0s 42ms/step - loss: 1.7767 - accuracy: 0.9483 - val_loss: 2.3522 - val_accuracy: 0.7241\n",
      "Epoch 71/200\n",
      "1/1 [==============================] - 0s 45ms/step - loss: 1.9325 - accuracy: 0.8103 - val_loss: 1.8985 - val_accuracy: 0.8966\n",
      "Epoch 72/200\n",
      "1/1 [==============================] - 0s 43ms/step - loss: 1.7660 - accuracy: 0.8793 - val_loss: 1.8634 - val_accuracy: 0.8276\n",
      "Epoch 73/200\n",
      "1/1 [==============================] - 0s 41ms/step - loss: 1.8484 - accuracy: 0.8276 - val_loss: 1.7548 - val_accuracy: 0.9310\n",
      "Epoch 74/200\n",
      "1/1 [==============================] - 0s 43ms/step - loss: 1.6595 - accuracy: 0.9483 - val_loss: 1.9314 - val_accuracy: 0.7241\n",
      "Epoch 75/200\n",
      "1/1 [==============================] - 0s 42ms/step - loss: 1.6262 - accuracy: 0.9310 - val_loss: 2.0517 - val_accuracy: 0.6897\n",
      "Epoch 76/200\n",
      "1/1 [==============================] - 0s 44ms/step - loss: 1.6412 - accuracy: 0.8793 - val_loss: 1.7949 - val_accuracy: 0.7586\n",
      "Epoch 77/200\n",
      "1/1 [==============================] - 0s 41ms/step - loss: 1.5572 - accuracy: 0.9483 - val_loss: 1.6239 - val_accuracy: 0.9310\n",
      "Epoch 78/200\n",
      "1/1 [==============================] - 0s 42ms/step - loss: 1.5386 - accuracy: 0.9655 - val_loss: 1.6079 - val_accuracy: 0.9310\n",
      "Epoch 79/200\n",
      "1/1 [==============================] - 0s 43ms/step - loss: 1.6368 - accuracy: 0.8448 - val_loss: 1.6120 - val_accuracy: 0.8966\n",
      "Epoch 80/200\n",
      "1/1 [==============================] - 0s 43ms/step - loss: 1.4656 - accuracy: 0.9483 - val_loss: 1.8441 - val_accuracy: 0.6897\n",
      "Epoch 81/200\n",
      "1/1 [==============================] - 0s 41ms/step - loss: 1.6155 - accuracy: 0.8621 - val_loss: 1.6683 - val_accuracy: 0.7241\n",
      "Epoch 82/200\n",
      "1/1 [==============================] - 0s 42ms/step - loss: 1.4407 - accuracy: 0.9483 - val_loss: 1.4939 - val_accuracy: 0.9310\n",
      "Epoch 83/200\n",
      "1/1 [==============================] - 0s 47ms/step - loss: 1.3998 - accuracy: 0.9310 - val_loss: 1.4675 - val_accuracy: 0.9310\n",
      "Epoch 84/200\n",
      "1/1 [==============================] - 0s 46ms/step - loss: 1.4023 - accuracy: 0.9310 - val_loss: 1.4695 - val_accuracy: 0.9310\n",
      "Epoch 85/200\n",
      "1/1 [==============================] - 0s 46ms/step - loss: 1.3135 - accuracy: 1.0000 - val_loss: 1.5418 - val_accuracy: 0.7586\n",
      "Epoch 86/200\n",
      "1/1 [==============================] - 0s 45ms/step - loss: 1.3104 - accuracy: 0.9655 - val_loss: 1.6107 - val_accuracy: 0.6897\n",
      "Epoch 87/200\n",
      "1/1 [==============================] - 0s 45ms/step - loss: 1.3081 - accuracy: 0.8966 - val_loss: 1.4826 - val_accuracy: 0.8276\n",
      "Epoch 88/200\n",
      "1/1 [==============================] - 0s 46ms/step - loss: 1.2887 - accuracy: 0.9138 - val_loss: 1.3828 - val_accuracy: 0.9310\n",
      "Epoch 89/200\n",
      "1/1 [==============================] - 0s 43ms/step - loss: 1.2727 - accuracy: 0.9310 - val_loss: 1.3589 - val_accuracy: 0.9310\n",
      "Epoch 90/200\n",
      "1/1 [==============================] - 0s 44ms/step - loss: 1.2398 - accuracy: 0.9483 - val_loss: 1.4171 - val_accuracy: 0.8276\n",
      "Epoch 91/200\n",
      "1/1 [==============================] - 0s 44ms/step - loss: 1.2043 - accuracy: 0.9655 - val_loss: 1.5495 - val_accuracy: 0.6897\n",
      "Epoch 92/200\n",
      "1/1 [==============================] - 0s 43ms/step - loss: 1.2243 - accuracy: 0.9483 - val_loss: 1.4545 - val_accuracy: 0.7586\n",
      "Epoch 93/200\n",
      "1/1 [==============================] - 0s 42ms/step - loss: 1.1591 - accuracy: 0.9655 - val_loss: 1.2991 - val_accuracy: 0.9310\n",
      "Epoch 94/200\n",
      "1/1 [==============================] - 0s 45ms/step - loss: 1.1230 - accuracy: 1.0000 - val_loss: 1.2629 - val_accuracy: 0.9310\n",
      "Epoch 95/200\n",
      "1/1 [==============================] - 0s 47ms/step - loss: 1.1482 - accuracy: 0.9483 - val_loss: 1.2947 - val_accuracy: 0.9310\n",
      "Epoch 96/200\n",
      "1/1 [==============================] - 0s 47ms/step - loss: 1.0929 - accuracy: 0.9655 - val_loss: 1.4304 - val_accuracy: 0.7241\n",
      "Epoch 97/200\n",
      "1/1 [==============================] - 0s 45ms/step - loss: 1.1431 - accuracy: 0.9310 - val_loss: 1.3655 - val_accuracy: 0.7586\n",
      "Epoch 98/200\n",
      "1/1 [==============================] - 0s 42ms/step - loss: 1.0826 - accuracy: 0.9483 - val_loss: 1.2160 - val_accuracy: 0.9310\n",
      "Epoch 99/200\n",
      "1/1 [==============================] - 0s 44ms/step - loss: 1.0448 - accuracy: 0.9655 - val_loss: 1.1863 - val_accuracy: 0.9310\n",
      "Epoch 100/200\n",
      "1/1 [==============================] - 0s 43ms/step - loss: 1.0765 - accuracy: 0.9483 - val_loss: 1.2171 - val_accuracy: 0.9310\n",
      "Epoch 101/200\n",
      "1/1 [==============================] - 0s 43ms/step - loss: 1.0153 - accuracy: 1.0000 - val_loss: 1.3410 - val_accuracy: 0.7241\n",
      "Epoch 102/200\n",
      "1/1 [==============================] - 0s 42ms/step - loss: 1.0810 - accuracy: 0.9310 - val_loss: 1.2823 - val_accuracy: 0.7931\n",
      "Epoch 103/200\n",
      "1/1 [==============================] - 0s 42ms/step - loss: 1.0183 - accuracy: 0.9138 - val_loss: 1.1715 - val_accuracy: 0.9310\n",
      "Epoch 104/200\n",
      "1/1 [==============================] - 0s 42ms/step - loss: 0.9771 - accuracy: 0.9655 - val_loss: 1.1537 - val_accuracy: 0.9310\n",
      "Epoch 105/200\n",
      "1/1 [==============================] - 0s 42ms/step - loss: 0.9930 - accuracy: 0.9655 - val_loss: 1.1749 - val_accuracy: 0.9310\n",
      "Epoch 106/200\n",
      "1/1 [==============================] - 0s 43ms/step - loss: 0.9705 - accuracy: 0.9655 - val_loss: 1.2326 - val_accuracy: 0.7931\n",
      "Epoch 107/200\n",
      "1/1 [==============================] - 0s 43ms/step - loss: 0.9979 - accuracy: 0.9138 - val_loss: 1.2379 - val_accuracy: 0.7931\n",
      "Epoch 108/200\n",
      "1/1 [==============================] - 0s 42ms/step - loss: 0.9731 - accuracy: 0.9310 - val_loss: 1.1617 - val_accuracy: 0.9310\n",
      "Epoch 109/200\n",
      "1/1 [==============================] - 0s 43ms/step - loss: 0.9366 - accuracy: 0.9655 - val_loss: 1.1044 - val_accuracy: 0.9310\n",
      "Epoch 110/200\n",
      "1/1 [==============================] - 0s 42ms/step - loss: 0.9736 - accuracy: 0.9310 - val_loss: 1.1652 - val_accuracy: 0.8621\n",
      "Epoch 111/200\n",
      "1/1 [==============================] - 0s 42ms/step - loss: 0.9483 - accuracy: 0.9310 - val_loss: 1.2759 - val_accuracy: 0.7241\n",
      "Epoch 112/200\n",
      "1/1 [==============================] - 0s 43ms/step - loss: 0.9182 - accuracy: 0.9310 - val_loss: 1.1107 - val_accuracy: 0.9310\n",
      "Epoch 113/200\n",
      "1/1 [==============================] - 0s 42ms/step - loss: 0.8980 - accuracy: 0.9655 - val_loss: 1.0463 - val_accuracy: 0.9310\n",
      "Epoch 114/200\n",
      "1/1 [==============================] - 0s 42ms/step - loss: 0.8813 - accuracy: 0.9655 - val_loss: 1.0500 - val_accuracy: 0.9310\n",
      "Epoch 115/200\n",
      "1/1 [==============================] - 0s 43ms/step - loss: 0.8551 - accuracy: 0.9655 - val_loss: 1.1691 - val_accuracy: 0.7931\n",
      "Epoch 116/200\n"
     ]
    },
    {
     "name": "stdout",
     "output_type": "stream",
     "text": [
      "1/1 [==============================] - 0s 43ms/step - loss: 0.8757 - accuracy: 0.9655 - val_loss: 1.1349 - val_accuracy: 0.7931\n",
      "Epoch 117/200\n",
      "1/1 [==============================] - 0s 42ms/step - loss: 0.8226 - accuracy: 0.9828 - val_loss: 1.0313 - val_accuracy: 0.9310\n",
      "Epoch 118/200\n",
      "1/1 [==============================] - 0s 44ms/step - loss: 0.8059 - accuracy: 1.0000 - val_loss: 1.0074 - val_accuracy: 0.9310\n",
      "Epoch 119/200\n",
      "1/1 [==============================] - 0s 43ms/step - loss: 0.8506 - accuracy: 0.9655 - val_loss: 1.0454 - val_accuracy: 0.9310\n",
      "Epoch 120/200\n",
      "1/1 [==============================] - 0s 42ms/step - loss: 0.8506 - accuracy: 0.9483 - val_loss: 1.1366 - val_accuracy: 0.7931\n",
      "Epoch 121/200\n",
      "1/1 [==============================] - 0s 43ms/step - loss: 0.8540 - accuracy: 0.9483 - val_loss: 1.0314 - val_accuracy: 0.9310\n",
      "Epoch 122/200\n",
      "1/1 [==============================] - 0s 44ms/step - loss: 0.7781 - accuracy: 1.0000 - val_loss: 0.9941 - val_accuracy: 0.9310\n",
      "Epoch 123/200\n",
      "1/1 [==============================] - 0s 42ms/step - loss: 0.8178 - accuracy: 0.9483 - val_loss: 0.9713 - val_accuracy: 0.9310\n",
      "Epoch 124/200\n",
      "1/1 [==============================] - 0s 41ms/step - loss: 0.8201 - accuracy: 0.9483 - val_loss: 0.9746 - val_accuracy: 0.9310\n",
      "Epoch 125/200\n",
      "1/1 [==============================] - 0s 43ms/step - loss: 0.8109 - accuracy: 0.9483 - val_loss: 1.0596 - val_accuracy: 0.7931\n",
      "Epoch 126/200\n",
      "1/1 [==============================] - 0s 43ms/step - loss: 0.7613 - accuracy: 0.9655 - val_loss: 1.0047 - val_accuracy: 0.8621\n",
      "Epoch 127/200\n",
      "1/1 [==============================] - 0s 43ms/step - loss: 0.7743 - accuracy: 0.9655 - val_loss: 0.9203 - val_accuracy: 0.9310\n",
      "Epoch 128/200\n",
      "1/1 [==============================] - 0s 42ms/step - loss: 0.7540 - accuracy: 0.9655 - val_loss: 0.9138 - val_accuracy: 0.9310\n",
      "Epoch 129/200\n",
      "1/1 [==============================] - 0s 44ms/step - loss: 0.7379 - accuracy: 0.9828 - val_loss: 0.9481 - val_accuracy: 0.9310\n",
      "Epoch 130/200\n",
      "1/1 [==============================] - 0s 42ms/step - loss: 0.7042 - accuracy: 1.0000 - val_loss: 1.0297 - val_accuracy: 0.8276\n",
      "Epoch 131/200\n",
      "1/1 [==============================] - 0s 43ms/step - loss: 0.7243 - accuracy: 0.9828 - val_loss: 0.9826 - val_accuracy: 0.8621\n",
      "Epoch 132/200\n",
      "1/1 [==============================] - 0s 42ms/step - loss: 0.7032 - accuracy: 1.0000 - val_loss: 0.9319 - val_accuracy: 0.9310\n",
      "Epoch 133/200\n",
      "1/1 [==============================] - 0s 41ms/step - loss: 0.7237 - accuracy: 0.9828 - val_loss: 0.9078 - val_accuracy: 0.9310\n",
      "Epoch 134/200\n",
      "1/1 [==============================] - 0s 45ms/step - loss: 0.7448 - accuracy: 0.9655 - val_loss: 0.9264 - val_accuracy: 0.9310\n",
      "Epoch 135/200\n",
      "1/1 [==============================] - 0s 43ms/step - loss: 0.7384 - accuracy: 0.9483 - val_loss: 0.9665 - val_accuracy: 0.8966\n",
      "Epoch 136/200\n",
      "1/1 [==============================] - 0s 43ms/step - loss: 0.6928 - accuracy: 1.0000 - val_loss: 0.9509 - val_accuracy: 0.9310\n",
      "Epoch 137/200\n",
      "1/1 [==============================] - 0s 43ms/step - loss: 0.6729 - accuracy: 0.9828 - val_loss: 0.9939 - val_accuracy: 0.7931\n",
      "Epoch 138/200\n",
      "1/1 [==============================] - 0s 43ms/step - loss: 0.7205 - accuracy: 0.9483 - val_loss: 0.8882 - val_accuracy: 0.9310\n",
      "Epoch 139/200\n",
      "1/1 [==============================] - 0s 43ms/step - loss: 0.6873 - accuracy: 0.9655 - val_loss: 0.8876 - val_accuracy: 0.9310\n",
      "Epoch 140/200\n",
      "1/1 [==============================] - 0s 42ms/step - loss: 0.7109 - accuracy: 0.9310 - val_loss: 1.0134 - val_accuracy: 0.7931\n",
      "Epoch 141/200\n",
      "1/1 [==============================] - 0s 43ms/step - loss: 0.6736 - accuracy: 0.9828 - val_loss: 0.9856 - val_accuracy: 0.7931\n",
      "Epoch 142/200\n",
      "1/1 [==============================] - 0s 42ms/step - loss: 0.6581 - accuracy: 0.9655 - val_loss: 0.8806 - val_accuracy: 0.9310\n",
      "Epoch 143/200\n",
      "1/1 [==============================] - 0s 41ms/step - loss: 0.6879 - accuracy: 0.9483 - val_loss: 0.8591 - val_accuracy: 0.9310\n",
      "Epoch 144/200\n",
      "1/1 [==============================] - 0s 42ms/step - loss: 0.6661 - accuracy: 0.9655 - val_loss: 0.8522 - val_accuracy: 0.9310\n",
      "Epoch 145/200\n",
      "1/1 [==============================] - 0s 45ms/step - loss: 0.6323 - accuracy: 0.9828 - val_loss: 0.9077 - val_accuracy: 0.8966\n",
      "Epoch 146/200\n",
      "1/1 [==============================] - 0s 42ms/step - loss: 0.6350 - accuracy: 1.0000 - val_loss: 0.9190 - val_accuracy: 0.7931\n",
      "Epoch 147/200\n",
      "1/1 [==============================] - 0s 43ms/step - loss: 0.6274 - accuracy: 0.9828 - val_loss: 0.8840 - val_accuracy: 0.9310\n",
      "Epoch 148/200\n",
      "1/1 [==============================] - 0s 47ms/step - loss: 0.6319 - accuracy: 1.0000 - val_loss: 0.8482 - val_accuracy: 0.9310\n",
      "Epoch 149/200\n",
      "1/1 [==============================] - 0s 45ms/step - loss: 0.6218 - accuracy: 0.9655 - val_loss: 0.8438 - val_accuracy: 0.9310\n",
      "Epoch 150/200\n",
      "1/1 [==============================] - 0s 45ms/step - loss: 0.6023 - accuracy: 1.0000 - val_loss: 0.8213 - val_accuracy: 0.9310\n",
      "Epoch 151/200\n",
      "1/1 [==============================] - 0s 41ms/step - loss: 0.6106 - accuracy: 0.9828 - val_loss: 0.8539 - val_accuracy: 0.9310\n",
      "Epoch 152/200\n",
      "1/1 [==============================] - 0s 47ms/step - loss: 0.5940 - accuracy: 1.0000 - val_loss: 0.9741 - val_accuracy: 0.7241\n",
      "Epoch 153/200\n",
      "1/1 [==============================] - 0s 44ms/step - loss: 0.6054 - accuracy: 0.9828 - val_loss: 0.8813 - val_accuracy: 0.8276\n",
      "Epoch 154/200\n",
      "1/1 [==============================] - 0s 43ms/step - loss: 0.6240 - accuracy: 0.9483 - val_loss: 0.7926 - val_accuracy: 0.9310\n",
      "Epoch 155/200\n",
      "1/1 [==============================] - 0s 42ms/step - loss: 0.6263 - accuracy: 0.9828 - val_loss: 0.8022 - val_accuracy: 0.9310\n",
      "Epoch 156/200\n",
      "1/1 [==============================] - 0s 43ms/step - loss: 0.5883 - accuracy: 0.9828 - val_loss: 0.9252 - val_accuracy: 0.7931\n",
      "Epoch 157/200\n",
      "1/1 [==============================] - 0s 42ms/step - loss: 0.5716 - accuracy: 1.0000 - val_loss: 1.0318 - val_accuracy: 0.6897\n",
      "Epoch 158/200\n",
      "1/1 [==============================] - 0s 42ms/step - loss: 0.6197 - accuracy: 0.9655 - val_loss: 0.8110 - val_accuracy: 0.9310\n",
      "Epoch 159/200\n",
      "1/1 [==============================] - 0s 43ms/step - loss: 0.5606 - accuracy: 0.9828 - val_loss: 0.8034 - val_accuracy: 0.9310\n",
      "Epoch 160/200\n",
      "1/1 [==============================] - 0s 41ms/step - loss: 0.6927 - accuracy: 0.8966 - val_loss: 0.8860 - val_accuracy: 0.7931\n",
      "Epoch 161/200\n",
      "1/1 [==============================] - 0s 41ms/step - loss: 0.5587 - accuracy: 1.0000 - val_loss: 1.2392 - val_accuracy: 0.7241\n",
      "Epoch 162/200\n",
      "1/1 [==============================] - 0s 43ms/step - loss: 0.7268 - accuracy: 0.8793 - val_loss: 0.7994 - val_accuracy: 0.9310\n",
      "Epoch 163/200\n",
      "1/1 [==============================] - 0s 43ms/step - loss: 0.5654 - accuracy: 0.9828 - val_loss: 0.7958 - val_accuracy: 0.9310\n",
      "Epoch 164/200\n",
      "1/1 [==============================] - 0s 41ms/step - loss: 0.6901 - accuracy: 0.9310 - val_loss: 0.7881 - val_accuracy: 0.9310\n",
      "Epoch 165/200\n",
      "1/1 [==============================] - 0s 43ms/step - loss: 0.5741 - accuracy: 0.9655 - val_loss: 1.0907 - val_accuracy: 0.7241\n",
      "Epoch 166/200\n",
      "1/1 [==============================] - 0s 43ms/step - loss: 0.6057 - accuracy: 0.9310 - val_loss: 0.9619 - val_accuracy: 0.6897\n",
      "Epoch 167/200\n",
      "1/1 [==============================] - 0s 43ms/step - loss: 0.5875 - accuracy: 0.9483 - val_loss: 0.7469 - val_accuracy: 0.9310\n",
      "Epoch 168/200\n",
      "1/1 [==============================] - 0s 42ms/step - loss: 0.6075 - accuracy: 0.9483 - val_loss: 0.7367 - val_accuracy: 0.9310\n",
      "Epoch 169/200\n",
      "1/1 [==============================] - 0s 43ms/step - loss: 0.5396 - accuracy: 1.0000 - val_loss: 0.7364 - val_accuracy: 0.9310\n",
      "Epoch 170/200\n",
      "1/1 [==============================] - 0s 41ms/step - loss: 0.5443 - accuracy: 1.0000 - val_loss: 0.8267 - val_accuracy: 0.7931\n",
      "Epoch 171/200\n",
      "1/1 [==============================] - 0s 43ms/step - loss: 0.5647 - accuracy: 0.9655 - val_loss: 0.7966 - val_accuracy: 0.8966\n",
      "Epoch 172/200\n",
      "1/1 [==============================] - 0s 43ms/step - loss: 0.5352 - accuracy: 1.0000 - val_loss: 0.7666 - val_accuracy: 0.9310\n",
      "Epoch 173/200\n",
      "1/1 [==============================] - 0s 42ms/step - loss: 0.5468 - accuracy: 0.9828 - val_loss: 0.7484 - val_accuracy: 0.9310\n"
     ]
    },
    {
     "name": "stdout",
     "output_type": "stream",
     "text": [
      "Epoch 174/200\n",
      "1/1 [==============================] - 0s 42ms/step - loss: 0.5422 - accuracy: 0.9828 - val_loss: 0.7437 - val_accuracy: 0.9310\n",
      "Epoch 175/200\n",
      "1/1 [==============================] - 0s 43ms/step - loss: 0.5214 - accuracy: 0.9828 - val_loss: 0.7313 - val_accuracy: 0.9310\n",
      "Epoch 176/200\n",
      "1/1 [==============================] - 0s 40ms/step - loss: 0.5148 - accuracy: 1.0000 - val_loss: 0.7283 - val_accuracy: 0.9310\n",
      "Epoch 177/200\n",
      "1/1 [==============================] - 0s 44ms/step - loss: 0.5308 - accuracy: 1.0000 - val_loss: 0.7614 - val_accuracy: 0.9310\n",
      "Epoch 178/200\n",
      "1/1 [==============================] - 0s 42ms/step - loss: 0.5269 - accuracy: 0.9828 - val_loss: 0.7631 - val_accuracy: 0.9310\n",
      "Epoch 179/200\n",
      "1/1 [==============================] - 0s 43ms/step - loss: 0.5505 - accuracy: 0.9655 - val_loss: 0.7337 - val_accuracy: 0.9310\n",
      "Epoch 180/200\n",
      "1/1 [==============================] - 0s 42ms/step - loss: 0.5031 - accuracy: 1.0000 - val_loss: 0.7194 - val_accuracy: 0.9310\n",
      "Epoch 181/200\n",
      "1/1 [==============================] - 0s 45ms/step - loss: 0.5481 - accuracy: 0.9655 - val_loss: 0.7744 - val_accuracy: 0.8621\n",
      "Epoch 182/200\n",
      "1/1 [==============================] - 0s 43ms/step - loss: 0.5165 - accuracy: 1.0000 - val_loss: 0.7801 - val_accuracy: 0.8276\n",
      "Epoch 183/200\n",
      "1/1 [==============================] - 0s 45ms/step - loss: 0.5220 - accuracy: 0.9828 - val_loss: 0.7240 - val_accuracy: 0.9310\n",
      "Epoch 184/200\n",
      "1/1 [==============================] - 0s 43ms/step - loss: 0.5212 - accuracy: 0.9828 - val_loss: 0.7258 - val_accuracy: 0.9310\n",
      "Epoch 185/200\n",
      "1/1 [==============================] - 0s 43ms/step - loss: 0.4948 - accuracy: 0.9828 - val_loss: 0.7709 - val_accuracy: 0.8621\n",
      "Epoch 186/200\n",
      "1/1 [==============================] - 0s 43ms/step - loss: 0.5051 - accuracy: 0.9828 - val_loss: 0.8015 - val_accuracy: 0.7931\n",
      "Epoch 187/200\n",
      "1/1 [==============================] - 0s 47ms/step - loss: 0.4806 - accuracy: 1.0000 - val_loss: 0.7776 - val_accuracy: 0.8621\n",
      "Epoch 188/200\n",
      "1/1 [==============================] - 0s 42ms/step - loss: 0.4824 - accuracy: 1.0000 - val_loss: 0.7091 - val_accuracy: 0.9310\n",
      "Epoch 189/200\n",
      "1/1 [==============================] - 0s 43ms/step - loss: 0.4872 - accuracy: 0.9828 - val_loss: 0.6910 - val_accuracy: 0.9310\n",
      "Epoch 190/200\n",
      "1/1 [==============================] - 0s 41ms/step - loss: 0.4765 - accuracy: 1.0000 - val_loss: 0.7021 - val_accuracy: 0.9310\n",
      "Epoch 191/200\n",
      "1/1 [==============================] - 0s 41ms/step - loss: 0.4813 - accuracy: 0.9828 - val_loss: 0.7651 - val_accuracy: 0.8966\n",
      "Epoch 192/200\n",
      "1/1 [==============================] - 0s 42ms/step - loss: 0.4683 - accuracy: 1.0000 - val_loss: 0.8250 - val_accuracy: 0.7931\n",
      "Epoch 193/200\n",
      "1/1 [==============================] - 0s 42ms/step - loss: 0.4916 - accuracy: 1.0000 - val_loss: 0.7282 - val_accuracy: 0.9310\n",
      "Epoch 194/200\n",
      "1/1 [==============================] - 0s 41ms/step - loss: 0.4738 - accuracy: 1.0000 - val_loss: 0.6965 - val_accuracy: 0.9310\n",
      "Epoch 195/200\n",
      "1/1 [==============================] - 0s 43ms/step - loss: 0.4511 - accuracy: 1.0000 - val_loss: 0.6887 - val_accuracy: 0.9310\n",
      "Epoch 196/200\n",
      "1/1 [==============================] - 0s 42ms/step - loss: 0.4706 - accuracy: 0.9828 - val_loss: 0.6997 - val_accuracy: 0.9310\n",
      "Epoch 197/200\n",
      "1/1 [==============================] - 0s 41ms/step - loss: 0.4647 - accuracy: 0.9828 - val_loss: 0.8393 - val_accuracy: 0.7241\n",
      "Epoch 198/200\n",
      "1/1 [==============================] - 0s 42ms/step - loss: 0.5113 - accuracy: 0.9310 - val_loss: 0.7589 - val_accuracy: 0.8966\n",
      "Epoch 199/200\n",
      "1/1 [==============================] - 0s 42ms/step - loss: 0.4654 - accuracy: 0.9828 - val_loss: 0.6859 - val_accuracy: 0.9310\n",
      "Epoch 200/200\n",
      "1/1 [==============================] - 0s 44ms/step - loss: 0.4536 - accuracy: 1.0000 - val_loss: 0.6831 - val_accuracy: 0.9310\n",
      "Most important variables:  [ 9  5 10  8 16 12  0 18 11 14]\n"
     ]
    }
   ],
   "source": [
    "model_3.compile(optimizer='adam',\n",
    "              loss='binary_crossentropy',\n",
    "              metrics=['accuracy'])\n",
    "hist_3 = model_3.fit(X_train, y_traindm,\n",
    "          batch_size=58, epochs=200,\n",
    "          validation_data=(X_val, y_valdm), callbacks = [VIANN])"
   ]
  },
  {
   "cell_type": "markdown",
   "metadata": {},
   "source": [
    "## Visualize the loss and accuracy graphs for Model 3.\n",
    "\n",
    "**The loss is a lot higher at the start, and that's because we've changed our loss function. The plot window can be zoomed in by adding an additional line of code: plt.ylim.**"
   ]
  },
  {
   "cell_type": "code",
   "execution_count": 67,
   "metadata": {
    "scrolled": true
   },
   "outputs": [
    {
     "data": {
      "image/png": "[encoded data removed]",
      "text/plain": [
       "<Figure size 460.8x316.8 with 1 Axes>"
      ]
     },
     "metadata": {
      "needs_background": "light"
     },
     "output_type": "display_data"
    }
   ],
   "source": [
    "plt.plot(hist_3.history['loss'])\n",
    "plt.plot(hist_3.history['val_loss'])\n",
    "plt.title('Model loss')\n",
    "plt.ylabel('Loss')\n",
    "plt.xlabel('Epoch')\n",
    "plt.legend(['Train', 'Val'], loc='upper right')\n",
    "plt.ylim(top=10, bottom=0)\n",
    "plt.show()"
   ]
  },
  {
   "cell_type": "code",
   "execution_count": 68,
   "metadata": {
    "scrolled": true
   },
   "outputs": [
    {
     "data": {
      "image/png": "[encoded data removed]",
      "text/plain": [
       "<Figure size 460.8x316.8 with 1 Axes>"
      ]
     },
     "metadata": {
      "needs_background": "light"
     },
     "output_type": "display_data"
    }
   ],
   "source": [
    "plt.plot(hist_3.history['accuracy'])\n",
    "plt.plot(hist_3.history['val_accuracy'])\n",
    "plt.title('Model accuracy')\n",
    "plt.ylabel('Accuracy')\n",
    "plt.xlabel('Epoch')\n",
    "plt.legend(['Train', 'Val'], loc='lower right')\n",
    "plt.show()"
   ]
  },
  {
   "cell_type": "markdown",
   "metadata": {},
   "source": [
    "**Compared to Model 2, there is less overfitting. Although not ideal, the validation accuracy is likely due to the small sample size or, since we are using dropout, the model at test time is more robust and leads to higher testing accuracies.**"
   ]
  },
  {
   "cell_type": "markdown",
   "metadata": {},
   "source": [
    "## Evaluate Model 3 and Print the Results"
   ]
  },
  {
   "cell_type": "markdown",
   "metadata": {},
   "source": [
    "**Test Accuracy**"
   ]
  },
  {
   "cell_type": "code",
   "execution_count": 69,
   "metadata": {
    "scrolled": true
   },
   "outputs": [
    {
     "name": "stdout",
     "output_type": "stream",
     "text": [
      "1/1 [==============================] - 0s 14ms/step - loss: 0.5021 - accuracy: 0.9655\n"
     ]
    },
    {
     "data": {
      "text/plain": [
       "0.9655172228813171"
      ]
     },
     "execution_count": 69,
     "metadata": {},
     "output_type": "execute_result"
    }
   ],
   "source": [
    "model_3.evaluate(X_test, y_testdm)[1]"
   ]
  },
  {
   "cell_type": "markdown",
   "metadata": {},
   "source": [
    "**The test accuracy is good considering we only trained with 58 records.**"
   ]
  },
  {
   "cell_type": "code",
   "execution_count": 70,
   "metadata": {
    "scrolled": true
   },
   "outputs": [
    {
     "data": {
      "text/html": [
       "<div>\n",
       "<style scoped>\n",
       "    .dataframe tbody tr th:only-of-type {\n",
       "        vertical-align: middle;\n",
       "    }\n",
       "\n",
       "    .dataframe tbody tr th {\n",
       "        vertical-align: top;\n",
       "    }\n",
       "\n",
       "    .dataframe thead th {\n",
       "        text-align: right;\n",
       "    }\n",
       "</style>\n",
       "<table border=\"1\" class=\"dataframe\">\n",
       "  <thead>\n",
       "    <tr style=\"text-align: right;\">\n",
       "      <th></th>\n",
       "      <th>Variable</th>\n",
       "      <th>Scores</th>\n",
       "    </tr>\n",
       "  </thead>\n",
       "  <tbody>\n",
       "    <tr>\n",
       "      <th>3</th>\n",
       "      <td>Si_clr</td>\n",
       "      <td>0.000000</td>\n",
       "    </tr>\n",
       "    <tr>\n",
       "      <th>13</th>\n",
       "      <td>Eu_clr</td>\n",
       "      <td>0.036143</td>\n",
       "    </tr>\n",
       "    <tr>\n",
       "      <th>21</th>\n",
       "      <td>Ta_clr</td>\n",
       "      <td>0.046740</td>\n",
       "    </tr>\n",
       "    <tr>\n",
       "      <th>20</th>\n",
       "      <td>Lu_clr</td>\n",
       "      <td>0.048092</td>\n",
       "    </tr>\n",
       "    <tr>\n",
       "      <th>4</th>\n",
       "      <td>Ca_clr</td>\n",
       "      <td>0.051290</td>\n",
       "    </tr>\n",
       "    <tr>\n",
       "      <th>2</th>\n",
       "      <td>Al_clr</td>\n",
       "      <td>0.057355</td>\n",
       "    </tr>\n",
       "    <tr>\n",
       "      <th>15</th>\n",
       "      <td>Tb_clr</td>\n",
       "      <td>0.062741</td>\n",
       "    </tr>\n",
       "    <tr>\n",
       "      <th>19</th>\n",
       "      <td>Yb_clr</td>\n",
       "      <td>0.075056</td>\n",
       "    </tr>\n",
       "    <tr>\n",
       "      <th>1</th>\n",
       "      <td>Mg_clr</td>\n",
       "      <td>0.078251</td>\n",
       "    </tr>\n",
       "    <tr>\n",
       "      <th>7</th>\n",
       "      <td>Mn_clr</td>\n",
       "      <td>0.086445</td>\n",
       "    </tr>\n",
       "    <tr>\n",
       "      <th>6</th>\n",
       "      <td>Ti_clr</td>\n",
       "      <td>0.089790</td>\n",
       "    </tr>\n",
       "    <tr>\n",
       "      <th>17</th>\n",
       "      <td>Ho_clr</td>\n",
       "      <td>0.095416</td>\n",
       "    </tr>\n",
       "    <tr>\n",
       "      <th>14</th>\n",
       "      <td>Gd_clr</td>\n",
       "      <td>0.097992</td>\n",
       "    </tr>\n",
       "    <tr>\n",
       "      <th>11</th>\n",
       "      <td>Ba_clr</td>\n",
       "      <td>0.101814</td>\n",
       "    </tr>\n",
       "    <tr>\n",
       "      <th>18</th>\n",
       "      <td>Er_clr</td>\n",
       "      <td>0.113545</td>\n",
       "    </tr>\n",
       "    <tr>\n",
       "      <th>0</th>\n",
       "      <td>Na_clr</td>\n",
       "      <td>0.117364</td>\n",
       "    </tr>\n",
       "    <tr>\n",
       "      <th>12</th>\n",
       "      <td>Nd_clr</td>\n",
       "      <td>0.125538</td>\n",
       "    </tr>\n",
       "    <tr>\n",
       "      <th>16</th>\n",
       "      <td>Dy_clr</td>\n",
       "      <td>0.128660</td>\n",
       "    </tr>\n",
       "    <tr>\n",
       "      <th>8</th>\n",
       "      <td>Sr_clr</td>\n",
       "      <td>0.168135</td>\n",
       "    </tr>\n",
       "    <tr>\n",
       "      <th>10</th>\n",
       "      <td>Zr_clr</td>\n",
       "      <td>0.446261</td>\n",
       "    </tr>\n",
       "    <tr>\n",
       "      <th>5</th>\n",
       "      <td>Sc_clr</td>\n",
       "      <td>0.770111</td>\n",
       "    </tr>\n",
       "    <tr>\n",
       "      <th>9</th>\n",
       "      <td>Y_clr</td>\n",
       "      <td>1.000000</td>\n",
       "    </tr>\n",
       "  </tbody>\n",
       "</table>\n",
       "</div>"
      ],
      "text/plain": [
       "   Variable    Scores\n",
       "3    Si_clr  0.000000\n",
       "13   Eu_clr  0.036143\n",
       "21   Ta_clr  0.046740\n",
       "20   Lu_clr  0.048092\n",
       "4    Ca_clr  0.051290\n",
       "2    Al_clr  0.057355\n",
       "15   Tb_clr  0.062741\n",
       "19   Yb_clr  0.075056\n",
       "1    Mg_clr  0.078251\n",
       "7    Mn_clr  0.086445\n",
       "6    Ti_clr  0.089790\n",
       "17   Ho_clr  0.095416\n",
       "14   Gd_clr  0.097992\n",
       "11   Ba_clr  0.101814\n",
       "18   Er_clr  0.113545\n",
       "0    Na_clr  0.117364\n",
       "12   Nd_clr  0.125538\n",
       "16   Dy_clr  0.128660\n",
       "8    Sr_clr  0.168135\n",
       "10   Zr_clr  0.446261\n",
       "5    Sc_clr  0.770111\n",
       "9     Y_clr  1.000000"
      ]
     },
     "execution_count": 70,
     "metadata": {},
     "output_type": "execute_result"
    }
   ],
   "source": [
    "#Visualize Feature Importance in table format\n",
    "X_columns = X_train.columns.tolist()\n",
    "model_FI_scores = VIANN.varScores.tolist()\n",
    "\n",
    "model_FI = pd.DataFrame()\n",
    "model_FI['Variable'] = X_columns\n",
    "model_FI['Scores'] = model_FI_scores\n",
    "model_FI.sort_values(by=['Scores'], inplace=True, ascending=True)\n",
    "\n",
    "model_FI"
   ]
  },
  {
   "cell_type": "code",
   "execution_count": 71,
   "metadata": {
    "scrolled": true
   },
   "outputs": [
    {
     "data": {
      "text/plain": [
       "array([['Na_clr', 'Mg_clr', 'Al_clr', 'Si_clr', 'Ca_clr', 'Sc_clr',\n",
       "        'Ti_clr', 'Mn_clr', 'Sr_clr', 'Y_clr', 'Zr_clr', 'Ba_clr',\n",
       "        'Nd_clr', 'Eu_clr', 'Gd_clr', 'Tb_clr', 'Dy_clr', 'Ho_clr',\n",
       "        'Er_clr', 'Yb_clr', 'Lu_clr', 'Ta_clr'],\n",
       "       [0.11736445873975754, 0.07825081795454025, 0.057354602962732315,\n",
       "        0.0, 0.051290109753608704, 0.770111083984375,\n",
       "        0.08978994935750961, 0.08644481003284454, 0.16813521087169647,\n",
       "        1.0, 0.44626128673553467, 0.10181386023759842,\n",
       "        0.12553824484348297, 0.03614287078380585, 0.09799166023731232,\n",
       "        0.06274112313985825, 0.12866008281707764, 0.09541569650173187,\n",
       "        0.11354507505893707, 0.07505569607019424, 0.04809179529547691,\n",
       "        0.046740032732486725]], dtype=object)"
      ]
     },
     "execution_count": 71,
     "metadata": {},
     "output_type": "execute_result"
    }
   ],
   "source": [
    "#Link Features to VIANN scores and export to csv\n",
    "model_FI_array = np.vstack((X_train.columns, VIANN.varScores))\n",
    "pd.DataFrame(model_FI_array).to_csv(\"EG_model_FI.csv\", index=None)\n",
    "model_FI_array"
   ]
  },
  {
   "cell_type": "code",
   "execution_count": 72,
   "metadata": {
    "scrolled": false
   },
   "outputs": [
    {
     "data": {
      "image/png": "[encoded data removed]",
      "text/plain": [
       "<Figure size 460.8x316.8 with 1 Axes>"
      ]
     },
     "metadata": {
      "needs_background": "light"
     },
     "output_type": "display_data"
    }
   ],
   "source": [
    "# Plot the feature importances of the model\n",
    "fig, ax = plt.subplots()\n",
    "\n",
    "ax.barh(model_FI['Variable'], model_FI['Scores'], align=\"center\", alpha=0.5)\n",
    "ax.set_xlabel('Scores')\n",
    "ax.set_yticks(model_FI['Variable'])\n",
    "ax.xaxis.grid(True)\n",
    "ax.set_title(\"EG Model 3 Feature Importances\", fontsize='14')\n",
    "\n",
    "# Save the figure and show\n",
    "plt.savefig('EG_model_FI_barplot.png')\n",
    "plt.show()"
   ]
  },
  {
   "cell_type": "markdown",
   "metadata": {},
   "source": [
    "**Compute the probabilities and predictions on the test set.**"
   ]
  },
  {
   "cell_type": "code",
   "execution_count": 73,
   "metadata": {
    "scrolled": true
   },
   "outputs": [
    {
     "name": "stderr",
     "output_type": "stream",
     "text": [
      "G:\\Anaconda\\lib\\site-packages\\tensorflow\\python\\keras\\engine\\sequential.py:450: UserWarning: `model.predict_classes()` is deprecated and will be removed after 2021-01-01. Please use instead:* `np.argmax(model.predict(x), axis=-1)`,   if your model does multi-class classification   (e.g. if it uses a `softmax` last-layer activation).* `(model.predict(x) > 0.5).astype(\"int32\")`,   if your model does binary classification   (e.g. if it uses a `sigmoid` last-layer activation).\n",
      "  warnings.warn('`model.predict_classes()` is deprecated and '\n"
     ]
    }
   ],
   "source": [
    "predictions =  model_3.predict_classes(X_test)\n",
    "probabilities = model_3.predict(X_test)"
   ]
  },
  {
   "cell_type": "code",
   "execution_count": 74,
   "metadata": {
    "scrolled": true
   },
   "outputs": [
    {
     "data": {
      "text/html": [
       "<div>\n",
       "<style scoped>\n",
       "    .dataframe tbody tr th:only-of-type {\n",
       "        vertical-align: middle;\n",
       "    }\n",
       "\n",
       "    .dataframe tbody tr th {\n",
       "        vertical-align: top;\n",
       "    }\n",
       "\n",
       "    .dataframe thead th {\n",
       "        text-align: right;\n",
       "    }\n",
       "</style>\n",
       "<table border=\"1\" class=\"dataframe\">\n",
       "  <thead>\n",
       "    <tr style=\"text-align: right;\">\n",
       "      <th></th>\n",
       "      <th>prob_no</th>\n",
       "      <th>prob_yes</th>\n",
       "    </tr>\n",
       "  </thead>\n",
       "  <tbody>\n",
       "    <tr>\n",
       "      <th>20</th>\n",
       "      <td>0.006423</td>\n",
       "      <td>0.993679</td>\n",
       "    </tr>\n",
       "    <tr>\n",
       "      <th>45</th>\n",
       "      <td>0.005037</td>\n",
       "      <td>0.995050</td>\n",
       "    </tr>\n",
       "    <tr>\n",
       "      <th>103</th>\n",
       "      <td>0.994726</td>\n",
       "      <td>0.005055</td>\n",
       "    </tr>\n",
       "    <tr>\n",
       "      <th>10</th>\n",
       "      <td>0.001125</td>\n",
       "      <td>0.998903</td>\n",
       "    </tr>\n",
       "    <tr>\n",
       "      <th>3</th>\n",
       "      <td>0.016617</td>\n",
       "      <td>0.983614</td>\n",
       "    </tr>\n",
       "  </tbody>\n",
       "</table>\n",
       "</div>"
      ],
      "text/plain": [
       "      prob_no  prob_yes\n",
       "20   0.006423  0.993679\n",
       "45   0.005037  0.995050\n",
       "103  0.994726  0.005055\n",
       "10   0.001125  0.998903\n",
       "3    0.016617  0.983614"
      ]
     },
     "execution_count": 74,
     "metadata": {},
     "output_type": "execute_result"
    }
   ],
   "source": [
    "predictions2 = pd.DataFrame(data = predictions,index = X_test.index.copy())\n",
    "predictions2.columns = ['predict_class']\n",
    "probabilities2 = pd.DataFrame(data = probabilities,index = X_test.index.copy())\n",
    "probabilities2.columns = ['prob_no', 'prob_yes']\n",
    "probabilities2.head(5)"
   ]
  },
  {
   "cell_type": "code",
   "execution_count": 75,
   "metadata": {
    "scrolled": true
   },
   "outputs": [
    {
     "data": {
      "text/html": [
       "<div>\n",
       "<style scoped>\n",
       "    .dataframe tbody tr th:only-of-type {\n",
       "        vertical-align: middle;\n",
       "    }\n",
       "\n",
       "    .dataframe tbody tr th {\n",
       "        vertical-align: top;\n",
       "    }\n",
       "\n",
       "    .dataframe thead th {\n",
       "        text-align: right;\n",
       "    }\n",
       "</style>\n",
       "<table border=\"1\" class=\"dataframe\">\n",
       "  <thead>\n",
       "    <tr style=\"text-align: right;\">\n",
       "      <th></th>\n",
       "      <th>Na_clr</th>\n",
       "      <th>Mg_clr</th>\n",
       "      <th>Al_clr</th>\n",
       "      <th>Si_clr</th>\n",
       "      <th>Ca_clr</th>\n",
       "      <th>Sc_clr</th>\n",
       "      <th>Ti_clr</th>\n",
       "      <th>Mn_clr</th>\n",
       "      <th>Sr_clr</th>\n",
       "      <th>Y_clr</th>\n",
       "      <th>...</th>\n",
       "      <th>Dy_clr</th>\n",
       "      <th>Ho_clr</th>\n",
       "      <th>Er_clr</th>\n",
       "      <th>Yb_clr</th>\n",
       "      <th>Lu_clr</th>\n",
       "      <th>Ta_clr</th>\n",
       "      <th>Diamond_High</th>\n",
       "      <th>predict_class</th>\n",
       "      <th>prob_no</th>\n",
       "      <th>prob_yes</th>\n",
       "    </tr>\n",
       "  </thead>\n",
       "  <tbody>\n",
       "    <tr>\n",
       "      <th>20</th>\n",
       "      <td>2.987337</td>\n",
       "      <td>7.836144</td>\n",
       "      <td>8.350412</td>\n",
       "      <td>9.360468</td>\n",
       "      <td>7.564681</td>\n",
       "      <td>0.367011</td>\n",
       "      <td>4.852001</td>\n",
       "      <td>4.283706</td>\n",
       "      <td>-3.898226</td>\n",
       "      <td>-0.232336</td>\n",
       "      <td>...</td>\n",
       "      <td>-2.207348</td>\n",
       "      <td>-3.482711</td>\n",
       "      <td>-2.357781</td>\n",
       "      <td>-2.052400</td>\n",
       "      <td>-3.960747</td>\n",
       "      <td>-6.701587</td>\n",
       "      <td>yes</td>\n",
       "      <td>1</td>\n",
       "      <td>0.006423</td>\n",
       "      <td>0.993679</td>\n",
       "    </tr>\n",
       "    <tr>\n",
       "      <th>45</th>\n",
       "      <td>2.762111</td>\n",
       "      <td>6.676870</td>\n",
       "      <td>7.224950</td>\n",
       "      <td>8.139179</td>\n",
       "      <td>6.976534</td>\n",
       "      <td>0.163753</td>\n",
       "      <td>3.754397</td>\n",
       "      <td>3.877610</td>\n",
       "      <td>-0.094745</td>\n",
       "      <td>-0.434331</td>\n",
       "      <td>...</td>\n",
       "      <td>-1.921951</td>\n",
       "      <td>-3.355748</td>\n",
       "      <td>-2.291969</td>\n",
       "      <td>-2.184186</td>\n",
       "      <td>-4.110195</td>\n",
       "      <td>-6.011154</td>\n",
       "      <td>yes</td>\n",
       "      <td>1</td>\n",
       "      <td>0.005037</td>\n",
       "      <td>0.995050</td>\n",
       "    </tr>\n",
       "    <tr>\n",
       "      <th>103</th>\n",
       "      <td>4.953507</td>\n",
       "      <td>7.951012</td>\n",
       "      <td>7.976612</td>\n",
       "      <td>9.055139</td>\n",
       "      <td>7.285973</td>\n",
       "      <td>1.931952</td>\n",
       "      <td>3.301046</td>\n",
       "      <td>4.943127</td>\n",
       "      <td>-0.707635</td>\n",
       "      <td>-0.827740</td>\n",
       "      <td>...</td>\n",
       "      <td>-2.700065</td>\n",
       "      <td>-4.106979</td>\n",
       "      <td>-2.830686</td>\n",
       "      <td>-2.315220</td>\n",
       "      <td>-3.929298</td>\n",
       "      <td>-8.205232</td>\n",
       "      <td>no</td>\n",
       "      <td>0</td>\n",
       "      <td>0.994726</td>\n",
       "      <td>0.005055</td>\n",
       "    </tr>\n",
       "    <tr>\n",
       "      <th>10</th>\n",
       "      <td>4.180842</td>\n",
       "      <td>8.302575</td>\n",
       "      <td>8.798142</td>\n",
       "      <td>9.720833</td>\n",
       "      <td>8.822607</td>\n",
       "      <td>0.012604</td>\n",
       "      <td>4.542149</td>\n",
       "      <td>3.988523</td>\n",
       "      <td>-2.595240</td>\n",
       "      <td>-1.141505</td>\n",
       "      <td>...</td>\n",
       "      <td>-2.630747</td>\n",
       "      <td>-4.341538</td>\n",
       "      <td>-3.553080</td>\n",
       "      <td>-3.871534</td>\n",
       "      <td>-5.950975</td>\n",
       "      <td>-5.440150</td>\n",
       "      <td>yes</td>\n",
       "      <td>1</td>\n",
       "      <td>0.001125</td>\n",
       "      <td>0.998903</td>\n",
       "    </tr>\n",
       "    <tr>\n",
       "      <th>3</th>\n",
       "      <td>2.863625</td>\n",
       "      <td>7.820708</td>\n",
       "      <td>8.395218</td>\n",
       "      <td>9.316535</td>\n",
       "      <td>8.164154</td>\n",
       "      <td>0.927217</td>\n",
       "      <td>4.332200</td>\n",
       "      <td>4.119983</td>\n",
       "      <td>-1.767456</td>\n",
       "      <td>-1.100420</td>\n",
       "      <td>...</td>\n",
       "      <td>-2.866069</td>\n",
       "      <td>-4.550408</td>\n",
       "      <td>-3.281896</td>\n",
       "      <td>-3.329906</td>\n",
       "      <td>-4.955873</td>\n",
       "      <td>-6.054485</td>\n",
       "      <td>yes</td>\n",
       "      <td>1</td>\n",
       "      <td>0.016617</td>\n",
       "      <td>0.983614</td>\n",
       "    </tr>\n",
       "  </tbody>\n",
       "</table>\n",
       "<p>5 rows × 26 columns</p>\n",
       "</div>"
      ],
      "text/plain": [
       "       Na_clr    Mg_clr    Al_clr    Si_clr    Ca_clr    Sc_clr    Ti_clr  \\\n",
       "20   2.987337  7.836144  8.350412  9.360468  7.564681  0.367011  4.852001   \n",
       "45   2.762111  6.676870  7.224950  8.139179  6.976534  0.163753  3.754397   \n",
       "103  4.953507  7.951012  7.976612  9.055139  7.285973  1.931952  3.301046   \n",
       "10   4.180842  8.302575  8.798142  9.720833  8.822607  0.012604  4.542149   \n",
       "3    2.863625  7.820708  8.395218  9.316535  8.164154  0.927217  4.332200   \n",
       "\n",
       "       Mn_clr    Sr_clr     Y_clr  ...    Dy_clr    Ho_clr    Er_clr  \\\n",
       "20   4.283706 -3.898226 -0.232336  ... -2.207348 -3.482711 -2.357781   \n",
       "45   3.877610 -0.094745 -0.434331  ... -1.921951 -3.355748 -2.291969   \n",
       "103  4.943127 -0.707635 -0.827740  ... -2.700065 -4.106979 -2.830686   \n",
       "10   3.988523 -2.595240 -1.141505  ... -2.630747 -4.341538 -3.553080   \n",
       "3    4.119983 -1.767456 -1.100420  ... -2.866069 -4.550408 -3.281896   \n",
       "\n",
       "       Yb_clr    Lu_clr    Ta_clr  Diamond_High  predict_class   prob_no  \\\n",
       "20  -2.052400 -3.960747 -6.701587           yes              1  0.006423   \n",
       "45  -2.184186 -4.110195 -6.011154           yes              1  0.005037   \n",
       "103 -2.315220 -3.929298 -8.205232            no              0  0.994726   \n",
       "10  -3.871534 -5.950975 -5.440150           yes              1  0.001125   \n",
       "3   -3.329906 -4.955873 -6.054485           yes              1  0.016617   \n",
       "\n",
       "     prob_yes  \n",
       "20   0.993679  \n",
       "45   0.995050  \n",
       "103  0.005055  \n",
       "10   0.998903  \n",
       "3    0.983614  \n",
       "\n",
       "[5 rows x 26 columns]"
      ]
     },
     "execution_count": 75,
     "metadata": {},
     "output_type": "execute_result"
    }
   ],
   "source": [
    "EG_testresults = pd.concat([X_test,y_test,predictions2,probabilities2],axis=1)\n",
    "EG_testresults.to_csv(\"EG_model3results_short.csv\")\n",
    "EG_testresults.head(5)"
   ]
  },
  {
   "cell_type": "code",
   "execution_count": 76,
   "metadata": {
    "scrolled": true
   },
   "outputs": [
    {
     "data": {
      "text/html": [
       "<div>\n",
       "<style scoped>\n",
       "    .dataframe tbody tr th:only-of-type {\n",
       "        vertical-align: middle;\n",
       "    }\n",
       "\n",
       "    .dataframe tbody tr th {\n",
       "        vertical-align: top;\n",
       "    }\n",
       "\n",
       "    .dataframe thead th {\n",
       "        text-align: right;\n",
       "    }\n",
       "</style>\n",
       "<table border=\"1\" class=\"dataframe\">\n",
       "  <thead>\n",
       "    <tr style=\"text-align: right;\">\n",
       "      <th></th>\n",
       "      <th>predict_class</th>\n",
       "      <th>prob_no</th>\n",
       "      <th>prob_yes</th>\n",
       "      <th>Sample</th>\n",
       "      <th>Mineral</th>\n",
       "      <th>Pipe</th>\n",
       "      <th>Diamond_High</th>\n",
       "      <th>Craton</th>\n",
       "      <th>Na</th>\n",
       "      <th>Mg</th>\n",
       "      <th>...</th>\n",
       "      <th>V13</th>\n",
       "      <th>V14</th>\n",
       "      <th>V15</th>\n",
       "      <th>V16</th>\n",
       "      <th>V17</th>\n",
       "      <th>V18</th>\n",
       "      <th>V19</th>\n",
       "      <th>V20</th>\n",
       "      <th>V21</th>\n",
       "      <th>V22</th>\n",
       "    </tr>\n",
       "  </thead>\n",
       "  <tbody>\n",
       "    <tr>\n",
       "      <th>20</th>\n",
       "      <td>1.0</td>\n",
       "      <td>0.006423</td>\n",
       "      <td>0.993679</td>\n",
       "      <td>Ap22B10</td>\n",
       "      <td>E</td>\n",
       "      <td>KOALA</td>\n",
       "      <td>yes</td>\n",
       "      <td>Slave</td>\n",
       "      <td>322.757144</td>\n",
       "      <td>41180</td>\n",
       "      <td>...</td>\n",
       "      <td>0.028758</td>\n",
       "      <td>0.007678</td>\n",
       "      <td>0.020091</td>\n",
       "      <td>-0.023130</td>\n",
       "      <td>0.005453</td>\n",
       "      <td>-0.007001</td>\n",
       "      <td>-0.000077</td>\n",
       "      <td>-0.013302</td>\n",
       "      <td>-0.005564</td>\n",
       "      <td>3.900000e-16</td>\n",
       "    </tr>\n",
       "    <tr>\n",
       "      <th>45</th>\n",
       "      <td>1.0</td>\n",
       "      <td>0.005037</td>\n",
       "      <td>0.995050</td>\n",
       "      <td>Ap24C09</td>\n",
       "      <td>E</td>\n",
       "      <td>PANDA</td>\n",
       "      <td>yes</td>\n",
       "      <td>Slave</td>\n",
       "      <td>839.700000</td>\n",
       "      <td>42100</td>\n",
       "      <td>...</td>\n",
       "      <td>-0.037954</td>\n",
       "      <td>-0.019974</td>\n",
       "      <td>-0.009755</td>\n",
       "      <td>0.021355</td>\n",
       "      <td>0.000234</td>\n",
       "      <td>0.000199</td>\n",
       "      <td>0.001543</td>\n",
       "      <td>0.001162</td>\n",
       "      <td>0.006159</td>\n",
       "      <td>-4.300000e-16</td>\n",
       "    </tr>\n",
       "    <tr>\n",
       "      <th>103</th>\n",
       "      <td>0.0</td>\n",
       "      <td>0.994726</td>\n",
       "      <td>0.005055</td>\n",
       "      <td>Ap27H06</td>\n",
       "      <td>E</td>\n",
       "      <td>ZERO</td>\n",
       "      <td>no</td>\n",
       "      <td>Kaapvaal</td>\n",
       "      <td>3099.000000</td>\n",
       "      <td>62090</td>\n",
       "      <td>...</td>\n",
       "      <td>0.015567</td>\n",
       "      <td>-0.076465</td>\n",
       "      <td>-0.032694</td>\n",
       "      <td>0.001583</td>\n",
       "      <td>-0.015262</td>\n",
       "      <td>-0.013493</td>\n",
       "      <td>0.011280</td>\n",
       "      <td>-0.009177</td>\n",
       "      <td>-0.003595</td>\n",
       "      <td>-7.810000e-16</td>\n",
       "    </tr>\n",
       "    <tr>\n",
       "      <th>10</th>\n",
       "      <td>1.0</td>\n",
       "      <td>0.001125</td>\n",
       "      <td>0.998903</td>\n",
       "      <td>Ap22D20</td>\n",
       "      <td>E</td>\n",
       "      <td>BEARTOOTH</td>\n",
       "      <td>yes</td>\n",
       "      <td>Slave</td>\n",
       "      <td>753.900000</td>\n",
       "      <td>46490</td>\n",
       "      <td>...</td>\n",
       "      <td>-0.041265</td>\n",
       "      <td>-0.007368</td>\n",
       "      <td>-0.007938</td>\n",
       "      <td>-0.010637</td>\n",
       "      <td>-0.017485</td>\n",
       "      <td>-0.007234</td>\n",
       "      <td>0.004900</td>\n",
       "      <td>-0.002115</td>\n",
       "      <td>0.004054</td>\n",
       "      <td>-2.500000e-16</td>\n",
       "    </tr>\n",
       "    <tr>\n",
       "      <th>3</th>\n",
       "      <td>1.0</td>\n",
       "      <td>0.016617</td>\n",
       "      <td>0.983614</td>\n",
       "      <td>Ap22D13</td>\n",
       "      <td>E</td>\n",
       "      <td>BEARTOOTH</td>\n",
       "      <td>yes</td>\n",
       "      <td>Slave</td>\n",
       "      <td>298.638752</td>\n",
       "      <td>42460</td>\n",
       "      <td>...</td>\n",
       "      <td>0.064989</td>\n",
       "      <td>-0.015433</td>\n",
       "      <td>-0.021896</td>\n",
       "      <td>0.003115</td>\n",
       "      <td>-0.006966</td>\n",
       "      <td>-0.022694</td>\n",
       "      <td>-0.012266</td>\n",
       "      <td>0.012161</td>\n",
       "      <td>0.008531</td>\n",
       "      <td>-5.550000e-17</td>\n",
       "    </tr>\n",
       "  </tbody>\n",
       "</table>\n",
       "<p>5 rows × 74 columns</p>\n",
       "</div>"
      ],
      "text/plain": [
       "     predict_class   prob_no  prob_yes       Sample Mineral       Pipe  \\\n",
       "20             1.0  0.006423  0.993679      Ap22B10       E      KOALA   \n",
       "45             1.0  0.005037  0.995050      Ap24C09       E      PANDA   \n",
       "103            0.0  0.994726  0.005055      Ap27H06       E       ZERO   \n",
       "10             1.0  0.001125  0.998903      Ap22D20       E  BEARTOOTH   \n",
       "3              1.0  0.016617  0.983614      Ap22D13       E  BEARTOOTH   \n",
       "\n",
       "    Diamond_High    Craton           Na     Mg  ...       V13       V14  \\\n",
       "20           yes     Slave   322.757144  41180  ...  0.028758  0.007678   \n",
       "45           yes     Slave   839.700000  42100  ... -0.037954 -0.019974   \n",
       "103           no  Kaapvaal  3099.000000  62090  ...  0.015567 -0.076465   \n",
       "10           yes     Slave   753.900000  46490  ... -0.041265 -0.007368   \n",
       "3            yes     Slave   298.638752  42460  ...  0.064989 -0.015433   \n",
       "\n",
       "          V15       V16       V17       V18       V19       V20       V21  \\\n",
       "20   0.020091 -0.023130  0.005453 -0.007001 -0.000077 -0.013302 -0.005564   \n",
       "45  -0.009755  0.021355  0.000234  0.000199  0.001543  0.001162  0.006159   \n",
       "103 -0.032694  0.001583 -0.015262 -0.013493  0.011280 -0.009177 -0.003595   \n",
       "10  -0.007938 -0.010637 -0.017485 -0.007234  0.004900 -0.002115  0.004054   \n",
       "3   -0.021896  0.003115 -0.006966 -0.022694 -0.012266  0.012161  0.008531   \n",
       "\n",
       "              V22  \n",
       "20   3.900000e-16  \n",
       "45  -4.300000e-16  \n",
       "103 -7.810000e-16  \n",
       "10  -2.500000e-16  \n",
       "3   -5.550000e-17  \n",
       "\n",
       "[5 rows x 74 columns]"
      ]
     },
     "execution_count": 76,
     "metadata": {},
     "output_type": "execute_result"
    }
   ],
   "source": [
    "EG_testresults2 = predictions2.join([probabilities2, df])\n",
    "EG_testresults2.to_csv(\"EG_model3results_all.csv\")\n",
    "EG_testresults2.head(5)"
   ]
  },
  {
   "cell_type": "markdown",
   "metadata": {},
   "source": [
    "# Save the Model"
   ]
  },
  {
   "cell_type": "markdown",
   "metadata": {},
   "source": [
    "**Serialize model to JSON for later use.**"
   ]
  },
  {
   "cell_type": "code",
   "execution_count": 77,
   "metadata": {
    "scrolled": true
   },
   "outputs": [
    {
     "name": "stdout",
     "output_type": "stream",
     "text": [
      "Saved model to disk\n"
     ]
    }
   ],
   "source": [
    "# save model and architecture to single file\n",
    "model_3.save(\"model_3_EG.h5\")\n",
    "print(\"Saved model to disk\")"
   ]
  },
  {
   "cell_type": "markdown",
   "metadata": {},
   "source": [
    "# Run Model on More Data\n",
    "\n",
    "**Load JSON and create the model**"
   ]
  },
  {
   "cell_type": "code",
   "execution_count": 78,
   "metadata": {
    "scrolled": true
   },
   "outputs": [
    {
     "name": "stdout",
     "output_type": "stream",
     "text": [
      "Loaded model from disk\n"
     ]
    }
   ],
   "source": [
    "# load and evaluate a saved model\n",
    "from numpy import loadtxt\n",
    "from keras.models import load_model\n",
    "\n",
    "# load model\n",
    "model_3_EG = load_model('model_3_EG.h5')\n",
    "print(\"Loaded model from disk\")"
   ]
  },
  {
   "cell_type": "markdown",
   "metadata": {},
   "source": [
    "# Prediction with New Data with Unknown Classifier (y)"
   ]
  },
  {
   "cell_type": "markdown",
   "metadata": {},
   "source": [
    "**Using X_test data and predicting y. Make sure the X data is scaled the same as the data used in the model.**\n",
    "**Predict y.**"
   ]
  },
  {
   "cell_type": "code",
   "execution_count": 79,
   "metadata": {
    "scrolled": true
   },
   "outputs": [
    {
     "data": {
      "text/plain": [
       "array([[6.4225495e-03, 9.9367887e-01],\n",
       "       [5.0368905e-03, 9.9504960e-01],\n",
       "       [9.9472570e-01, 5.0554276e-03],\n",
       "       [1.1252463e-03, 9.9890256e-01],\n",
       "       [1.6617298e-02, 9.8361421e-01],\n",
       "       [5.4596364e-03, 9.9463171e-01],\n",
       "       [5.7289779e-01, 4.2585808e-01],\n",
       "       [1.7442703e-03, 9.9829423e-01],\n",
       "       [2.7317107e-02, 9.7307014e-01],\n",
       "       [9.3716770e-01, 6.1743408e-02],\n",
       "       [9.8838711e-01, 1.1215359e-02],\n",
       "       [1.3822839e-01, 8.6261719e-01],\n",
       "       [9.9790072e-01, 1.9936860e-03],\n",
       "       [8.5481107e-03, 9.9158043e-01],\n",
       "       [5.1274270e-02, 9.4932950e-01],\n",
       "       [3.3041263e-01, 6.6993582e-01],\n",
       "       [9.9594086e-01, 3.8807690e-03],\n",
       "       [9.9069107e-01, 8.9755654e-03],\n",
       "       [9.8646402e-01, 1.3116568e-02],\n",
       "       [9.9997872e-01, 1.9407154e-05],\n",
       "       [2.8764236e-01, 7.1274453e-01],\n",
       "       [1.4507005e-01, 8.5577893e-01],\n",
       "       [9.9996138e-01, 3.5487828e-05],\n",
       "       [8.5749924e-03, 9.9155271e-01],\n",
       "       [2.2148699e-02, 9.7814214e-01],\n",
       "       [9.4666922e-01, 5.2317888e-02],\n",
       "       [9.6735233e-01, 3.1985849e-02],\n",
       "       [9.9975371e-01, 2.2986531e-04],\n",
       "       [6.6221952e-03, 9.9348074e-01]], dtype=float32)"
      ]
     },
     "execution_count": 79,
     "metadata": {},
     "output_type": "execute_result"
    }
   ],
   "source": [
    "y_new = model_3_EG.predict(X_test)\n",
    "y_new"
   ]
  },
  {
   "cell_type": "markdown",
   "metadata": {},
   "source": [
    "**Print the input data and the predicted values. Replace X_test with the new data with an unknown classifier.**"
   ]
  },
  {
   "cell_type": "code",
   "execution_count": 80,
   "metadata": {
    "scrolled": true
   },
   "outputs": [
    {
     "name": "stderr",
     "output_type": "stream",
     "text": [
      "G:\\Anaconda\\lib\\site-packages\\tensorflow\\python\\keras\\engine\\sequential.py:450: UserWarning: `model.predict_classes()` is deprecated and will be removed after 2021-01-01. Please use instead:* `np.argmax(model.predict(x), axis=-1)`,   if your model does multi-class classification   (e.g. if it uses a `softmax` last-layer activation).* `(model.predict(x) > 0.5).astype(\"int32\")`,   if your model does binary classification   (e.g. if it uses a `sigmoid` last-layer activation).\n",
      "  warnings.warn('`model.predict_classes()` is deprecated and '\n"
     ]
    }
   ],
   "source": [
    "predictions_new =  model_3_EG.predict_classes(X_test)\n",
    "probabilities_new = model_3_EG.predict(X_test)"
   ]
  },
  {
   "cell_type": "code",
   "execution_count": 81,
   "metadata": {
    "scrolled": true
   },
   "outputs": [
    {
     "data": {
      "text/html": [
       "<div>\n",
       "<style scoped>\n",
       "    .dataframe tbody tr th:only-of-type {\n",
       "        vertical-align: middle;\n",
       "    }\n",
       "\n",
       "    .dataframe tbody tr th {\n",
       "        vertical-align: top;\n",
       "    }\n",
       "\n",
       "    .dataframe thead th {\n",
       "        text-align: right;\n",
       "    }\n",
       "</style>\n",
       "<table border=\"1\" class=\"dataframe\">\n",
       "  <thead>\n",
       "    <tr style=\"text-align: right;\">\n",
       "      <th></th>\n",
       "      <th>prob_no</th>\n",
       "      <th>prob_yes</th>\n",
       "    </tr>\n",
       "  </thead>\n",
       "  <tbody>\n",
       "    <tr>\n",
       "      <th>20</th>\n",
       "      <td>0.006423</td>\n",
       "      <td>0.993679</td>\n",
       "    </tr>\n",
       "    <tr>\n",
       "      <th>45</th>\n",
       "      <td>0.005037</td>\n",
       "      <td>0.995050</td>\n",
       "    </tr>\n",
       "    <tr>\n",
       "      <th>103</th>\n",
       "      <td>0.994726</td>\n",
       "      <td>0.005055</td>\n",
       "    </tr>\n",
       "    <tr>\n",
       "      <th>10</th>\n",
       "      <td>0.001125</td>\n",
       "      <td>0.998903</td>\n",
       "    </tr>\n",
       "    <tr>\n",
       "      <th>3</th>\n",
       "      <td>0.016617</td>\n",
       "      <td>0.983614</td>\n",
       "    </tr>\n",
       "  </tbody>\n",
       "</table>\n",
       "</div>"
      ],
      "text/plain": [
       "      prob_no  prob_yes\n",
       "20   0.006423  0.993679\n",
       "45   0.005037  0.995050\n",
       "103  0.994726  0.005055\n",
       "10   0.001125  0.998903\n",
       "3    0.016617  0.983614"
      ]
     },
     "execution_count": 81,
     "metadata": {},
     "output_type": "execute_result"
    }
   ],
   "source": [
    "predictions_new2 = pd.DataFrame(data = predictions_new,index = X_test.index.copy())\n",
    "predictions_new2.columns = ['predict_class']\n",
    "probabilities_new2 = pd.DataFrame(data = probabilities_new,index = X_test.index.copy())\n",
    "probabilities_new2.columns = ['prob_no', 'prob_yes']\n",
    "probabilities_new2.head(5)"
   ]
  },
  {
   "cell_type": "markdown",
   "metadata": {},
   "source": [
    "**Generate accuracy prediction as dataframe object for importing into other programs.**"
   ]
  },
  {
   "cell_type": "code",
   "execution_count": 82,
   "metadata": {
    "scrolled": true
   },
   "outputs": [
    {
     "data": {
      "text/html": [
       "<div>\n",
       "<style scoped>\n",
       "    .dataframe tbody tr th:only-of-type {\n",
       "        vertical-align: middle;\n",
       "    }\n",
       "\n",
       "    .dataframe tbody tr th {\n",
       "        vertical-align: top;\n",
       "    }\n",
       "\n",
       "    .dataframe thead th {\n",
       "        text-align: right;\n",
       "    }\n",
       "</style>\n",
       "<table border=\"1\" class=\"dataframe\">\n",
       "  <thead>\n",
       "    <tr style=\"text-align: right;\">\n",
       "      <th></th>\n",
       "      <th>predict_class</th>\n",
       "      <th>prob_no</th>\n",
       "      <th>prob_yes</th>\n",
       "      <th>Sample</th>\n",
       "      <th>Mineral</th>\n",
       "      <th>Pipe</th>\n",
       "      <th>Diamond_High</th>\n",
       "      <th>Craton</th>\n",
       "      <th>Na</th>\n",
       "      <th>Mg</th>\n",
       "      <th>...</th>\n",
       "      <th>V13</th>\n",
       "      <th>V14</th>\n",
       "      <th>V15</th>\n",
       "      <th>V16</th>\n",
       "      <th>V17</th>\n",
       "      <th>V18</th>\n",
       "      <th>V19</th>\n",
       "      <th>V20</th>\n",
       "      <th>V21</th>\n",
       "      <th>V22</th>\n",
       "    </tr>\n",
       "  </thead>\n",
       "  <tbody>\n",
       "    <tr>\n",
       "      <th>20</th>\n",
       "      <td>1.0</td>\n",
       "      <td>0.006423</td>\n",
       "      <td>0.993679</td>\n",
       "      <td>Ap22B10</td>\n",
       "      <td>E</td>\n",
       "      <td>KOALA</td>\n",
       "      <td>yes</td>\n",
       "      <td>Slave</td>\n",
       "      <td>322.757144</td>\n",
       "      <td>41180</td>\n",
       "      <td>...</td>\n",
       "      <td>0.028758</td>\n",
       "      <td>0.007678</td>\n",
       "      <td>0.020091</td>\n",
       "      <td>-0.023130</td>\n",
       "      <td>0.005453</td>\n",
       "      <td>-0.007001</td>\n",
       "      <td>-0.000077</td>\n",
       "      <td>-0.013302</td>\n",
       "      <td>-0.005564</td>\n",
       "      <td>3.900000e-16</td>\n",
       "    </tr>\n",
       "    <tr>\n",
       "      <th>45</th>\n",
       "      <td>1.0</td>\n",
       "      <td>0.005037</td>\n",
       "      <td>0.995050</td>\n",
       "      <td>Ap24C09</td>\n",
       "      <td>E</td>\n",
       "      <td>PANDA</td>\n",
       "      <td>yes</td>\n",
       "      <td>Slave</td>\n",
       "      <td>839.700000</td>\n",
       "      <td>42100</td>\n",
       "      <td>...</td>\n",
       "      <td>-0.037954</td>\n",
       "      <td>-0.019974</td>\n",
       "      <td>-0.009755</td>\n",
       "      <td>0.021355</td>\n",
       "      <td>0.000234</td>\n",
       "      <td>0.000199</td>\n",
       "      <td>0.001543</td>\n",
       "      <td>0.001162</td>\n",
       "      <td>0.006159</td>\n",
       "      <td>-4.300000e-16</td>\n",
       "    </tr>\n",
       "    <tr>\n",
       "      <th>103</th>\n",
       "      <td>0.0</td>\n",
       "      <td>0.994726</td>\n",
       "      <td>0.005055</td>\n",
       "      <td>Ap27H06</td>\n",
       "      <td>E</td>\n",
       "      <td>ZERO</td>\n",
       "      <td>no</td>\n",
       "      <td>Kaapvaal</td>\n",
       "      <td>3099.000000</td>\n",
       "      <td>62090</td>\n",
       "      <td>...</td>\n",
       "      <td>0.015567</td>\n",
       "      <td>-0.076465</td>\n",
       "      <td>-0.032694</td>\n",
       "      <td>0.001583</td>\n",
       "      <td>-0.015262</td>\n",
       "      <td>-0.013493</td>\n",
       "      <td>0.011280</td>\n",
       "      <td>-0.009177</td>\n",
       "      <td>-0.003595</td>\n",
       "      <td>-7.810000e-16</td>\n",
       "    </tr>\n",
       "    <tr>\n",
       "      <th>10</th>\n",
       "      <td>1.0</td>\n",
       "      <td>0.001125</td>\n",
       "      <td>0.998903</td>\n",
       "      <td>Ap22D20</td>\n",
       "      <td>E</td>\n",
       "      <td>BEARTOOTH</td>\n",
       "      <td>yes</td>\n",
       "      <td>Slave</td>\n",
       "      <td>753.900000</td>\n",
       "      <td>46490</td>\n",
       "      <td>...</td>\n",
       "      <td>-0.041265</td>\n",
       "      <td>-0.007368</td>\n",
       "      <td>-0.007938</td>\n",
       "      <td>-0.010637</td>\n",
       "      <td>-0.017485</td>\n",
       "      <td>-0.007234</td>\n",
       "      <td>0.004900</td>\n",
       "      <td>-0.002115</td>\n",
       "      <td>0.004054</td>\n",
       "      <td>-2.500000e-16</td>\n",
       "    </tr>\n",
       "    <tr>\n",
       "      <th>3</th>\n",
       "      <td>1.0</td>\n",
       "      <td>0.016617</td>\n",
       "      <td>0.983614</td>\n",
       "      <td>Ap22D13</td>\n",
       "      <td>E</td>\n",
       "      <td>BEARTOOTH</td>\n",
       "      <td>yes</td>\n",
       "      <td>Slave</td>\n",
       "      <td>298.638752</td>\n",
       "      <td>42460</td>\n",
       "      <td>...</td>\n",
       "      <td>0.064989</td>\n",
       "      <td>-0.015433</td>\n",
       "      <td>-0.021896</td>\n",
       "      <td>0.003115</td>\n",
       "      <td>-0.006966</td>\n",
       "      <td>-0.022694</td>\n",
       "      <td>-0.012266</td>\n",
       "      <td>0.012161</td>\n",
       "      <td>0.008531</td>\n",
       "      <td>-5.550000e-17</td>\n",
       "    </tr>\n",
       "  </tbody>\n",
       "</table>\n",
       "<p>5 rows × 74 columns</p>\n",
       "</div>"
      ],
      "text/plain": [
       "     predict_class   prob_no  prob_yes       Sample Mineral       Pipe  \\\n",
       "20             1.0  0.006423  0.993679      Ap22B10       E      KOALA   \n",
       "45             1.0  0.005037  0.995050      Ap24C09       E      PANDA   \n",
       "103            0.0  0.994726  0.005055      Ap27H06       E       ZERO   \n",
       "10             1.0  0.001125  0.998903      Ap22D20       E  BEARTOOTH   \n",
       "3              1.0  0.016617  0.983614      Ap22D13       E  BEARTOOTH   \n",
       "\n",
       "    Diamond_High    Craton           Na     Mg  ...       V13       V14  \\\n",
       "20           yes     Slave   322.757144  41180  ...  0.028758  0.007678   \n",
       "45           yes     Slave   839.700000  42100  ... -0.037954 -0.019974   \n",
       "103           no  Kaapvaal  3099.000000  62090  ...  0.015567 -0.076465   \n",
       "10           yes     Slave   753.900000  46490  ... -0.041265 -0.007368   \n",
       "3            yes     Slave   298.638752  42460  ...  0.064989 -0.015433   \n",
       "\n",
       "          V15       V16       V17       V18       V19       V20       V21  \\\n",
       "20   0.020091 -0.023130  0.005453 -0.007001 -0.000077 -0.013302 -0.005564   \n",
       "45  -0.009755  0.021355  0.000234  0.000199  0.001543  0.001162  0.006159   \n",
       "103 -0.032694  0.001583 -0.015262 -0.013493  0.011280 -0.009177 -0.003595   \n",
       "10  -0.007938 -0.010637 -0.017485 -0.007234  0.004900 -0.002115  0.004054   \n",
       "3   -0.021896  0.003115 -0.006966 -0.022694 -0.012266  0.012161  0.008531   \n",
       "\n",
       "              V22  \n",
       "20   3.900000e-16  \n",
       "45  -4.300000e-16  \n",
       "103 -7.810000e-16  \n",
       "10  -2.500000e-16  \n",
       "3   -5.550000e-17  \n",
       "\n",
       "[5 rows x 74 columns]"
      ]
     },
     "execution_count": 82,
     "metadata": {},
     "output_type": "execute_result"
    }
   ],
   "source": [
    "EG_newresults = predictions_new2.join([probabilities_new2, df])\n",
    "EG_newresults.to_csv(\"EG_newresults.csv\")\n",
    "EG_newresults.head(5)"
   ]
  },
  {
   "cell_type": "markdown",
   "metadata": {},
   "source": [
    "## Re-Split Data and Verify Results"
   ]
  },
  {
   "cell_type": "code",
   "execution_count": 83,
   "metadata": {
    "scrolled": true
   },
   "outputs": [
    {
     "data": {
      "text/plain": [
       "1"
      ]
     },
     "execution_count": 83,
     "metadata": {},
     "output_type": "execute_result"
    }
   ],
   "source": [
    "sss2 = StratifiedShuffleSplit(n_splits=1, test_size=0.5, random_state=333)\n",
    "sss2.get_n_splits(X, y['Diamond_High'])"
   ]
  },
  {
   "cell_type": "code",
   "execution_count": 84,
   "metadata": {
    "scrolled": true
   },
   "outputs": [
    {
     "name": "stdout",
     "output_type": "stream",
     "text": [
      "StratifiedShuffleSplit(n_splits=1, random_state=333, test_size=0.5,\n",
      "            train_size=None)\n"
     ]
    }
   ],
   "source": [
    "print(sss)"
   ]
  },
  {
   "cell_type": "code",
   "execution_count": 85,
   "metadata": {
    "scrolled": true
   },
   "outputs": [
    {
     "name": "stdout",
     "output_type": "stream",
     "text": [
      "TRAIN: [ 62  56  72   2 113  59  18  53 100  32  21  79  43   6 112  80  75  89\n",
      "  54  33   0  47  64  60  44  38  58  30  99  73 115  68  63  97  55  31\n",
      "  14  94  24  17  82  42  74  13  76  23  85  28 111  91  40  69  48  88\n",
      " 101  29  37   5] TESTVAL: [ 26 103  90  19  86  15  96  98  39  35  78  41   3   9   7  70  16 109\n",
      "   4  36  50   1  93  57  49 102  92  34  22   8 114 107  84  95  77  52\n",
      "  67  25  61  45  10 104  20 106  66 108  83  11  51  71  87 105  27  81\n",
      " 110  46  65  12]\n"
     ]
    }
   ],
   "source": [
    "for train_index, test_index in sss2.split(X, y):\n",
    "     print(\"TRAIN:\", train_index, \"TESTVAL:\", test_index)\n",
    "     X_train2, X_testval2 = X.iloc[train_index], X.iloc[test_index]\n",
    "     y_train2, y_testval2 = y.iloc[train_index], y.iloc[test_index]"
   ]
  },
  {
   "cell_type": "markdown",
   "metadata": {},
   "source": [
    "**Split testval into test and validation sets**"
   ]
  },
  {
   "cell_type": "code",
   "execution_count": 86,
   "metadata": {
    "scrolled": true
   },
   "outputs": [
    {
     "name": "stdout",
     "output_type": "stream",
     "text": [
      "TEST: [42 39  1 40 12 23  4 20 29  2 45 57 38 16 19 52 44 41  7 15 53  9 34 55\n",
      " 28 26 30 49 47] VAL: [17 37 18 22 43 14  5  0 46 10  8 27 32 51  3 35 13 56 11 48 31 24 21 25\n",
      " 33 54 36  6 50]\n"
     ]
    }
   ],
   "source": [
    "for train_index, test_index in sss.split(X_testval2, y_testval2):\n",
    "     print(\"TEST:\", train_index, \"VAL:\", test_index)\n",
    "     X_test2, X_val2 = X_testval2.iloc[train_index], X_testval2.iloc[test_index]\n",
    "     y_test2, y_val2 = y_testval2.iloc[train_index], y_testval2.iloc[test_index]"
   ]
  },
  {
   "cell_type": "code",
   "execution_count": 87,
   "metadata": {
    "scrolled": true
   },
   "outputs": [
    {
     "data": {
      "text/html": [
       "<div>\n",
       "<style scoped>\n",
       "    .dataframe tbody tr th:only-of-type {\n",
       "        vertical-align: middle;\n",
       "    }\n",
       "\n",
       "    .dataframe tbody tr th {\n",
       "        vertical-align: top;\n",
       "    }\n",
       "\n",
       "    .dataframe thead th {\n",
       "        text-align: right;\n",
       "    }\n",
       "</style>\n",
       "<table border=\"1\" class=\"dataframe\">\n",
       "  <thead>\n",
       "    <tr style=\"text-align: right;\">\n",
       "      <th></th>\n",
       "      <th>Diamond_High</th>\n",
       "    </tr>\n",
       "  </thead>\n",
       "  <tbody>\n",
       "    <tr>\n",
       "      <th>20</th>\n",
       "      <td>yes</td>\n",
       "    </tr>\n",
       "    <tr>\n",
       "      <th>45</th>\n",
       "      <td>yes</td>\n",
       "    </tr>\n",
       "    <tr>\n",
       "      <th>103</th>\n",
       "      <td>no</td>\n",
       "    </tr>\n",
       "    <tr>\n",
       "      <th>10</th>\n",
       "      <td>yes</td>\n",
       "    </tr>\n",
       "    <tr>\n",
       "      <th>3</th>\n",
       "      <td>yes</td>\n",
       "    </tr>\n",
       "  </tbody>\n",
       "</table>\n",
       "</div>"
      ],
      "text/plain": [
       "    Diamond_High\n",
       "20           yes\n",
       "45           yes\n",
       "103           no\n",
       "10           yes\n",
       "3            yes"
      ]
     },
     "execution_count": 87,
     "metadata": {},
     "output_type": "execute_result"
    }
   ],
   "source": [
    "y_test2.head(5)"
   ]
  },
  {
   "cell_type": "code",
   "execution_count": 88,
   "metadata": {
    "scrolled": true
   },
   "outputs": [
    {
     "data": {
      "text/html": [
       "<div>\n",
       "<style scoped>\n",
       "    .dataframe tbody tr th:only-of-type {\n",
       "        vertical-align: middle;\n",
       "    }\n",
       "\n",
       "    .dataframe tbody tr th {\n",
       "        vertical-align: top;\n",
       "    }\n",
       "\n",
       "    .dataframe thead th {\n",
       "        text-align: right;\n",
       "    }\n",
       "</style>\n",
       "<table border=\"1\" class=\"dataframe\">\n",
       "  <thead>\n",
       "    <tr style=\"text-align: right;\">\n",
       "      <th></th>\n",
       "      <th>Diamond_High</th>\n",
       "    </tr>\n",
       "  </thead>\n",
       "  <tbody>\n",
       "    <tr>\n",
       "      <th>109</th>\n",
       "      <td>no</td>\n",
       "    </tr>\n",
       "    <tr>\n",
       "      <th>25</th>\n",
       "      <td>yes</td>\n",
       "    </tr>\n",
       "    <tr>\n",
       "      <th>4</th>\n",
       "      <td>yes</td>\n",
       "    </tr>\n",
       "    <tr>\n",
       "      <th>93</th>\n",
       "      <td>no</td>\n",
       "    </tr>\n",
       "    <tr>\n",
       "      <th>106</th>\n",
       "      <td>no</td>\n",
       "    </tr>\n",
       "  </tbody>\n",
       "</table>\n",
       "</div>"
      ],
      "text/plain": [
       "    Diamond_High\n",
       "109           no\n",
       "25           yes\n",
       "4            yes\n",
       "93            no\n",
       "106           no"
      ]
     },
     "execution_count": 88,
     "metadata": {},
     "output_type": "execute_result"
    }
   ],
   "source": [
    "y_val2.head(5)"
   ]
  },
  {
   "cell_type": "markdown",
   "metadata": {},
   "source": [
    "**Next encode the categorical variablesfor diamond content, yes and no, using one hot vector multilabel. The data is split first then one hot encoded since the split function cannot handle more than one Y column.**"
   ]
  },
  {
   "cell_type": "code",
   "execution_count": 89,
   "metadata": {
    "scrolled": true
   },
   "outputs": [
    {
     "data": {
      "text/html": [
       "<div>\n",
       "<style scoped>\n",
       "    .dataframe tbody tr th:only-of-type {\n",
       "        vertical-align: middle;\n",
       "    }\n",
       "\n",
       "    .dataframe tbody tr th {\n",
       "        vertical-align: top;\n",
       "    }\n",
       "\n",
       "    .dataframe thead th {\n",
       "        text-align: right;\n",
       "    }\n",
       "</style>\n",
       "<table border=\"1\" class=\"dataframe\">\n",
       "  <thead>\n",
       "    <tr style=\"text-align: right;\">\n",
       "      <th></th>\n",
       "      <th>diamond_no</th>\n",
       "      <th>diamond_yes</th>\n",
       "    </tr>\n",
       "  </thead>\n",
       "  <tbody>\n",
       "    <tr>\n",
       "      <th>62</th>\n",
       "      <td>1</td>\n",
       "      <td>0</td>\n",
       "    </tr>\n",
       "    <tr>\n",
       "      <th>56</th>\n",
       "      <td>0</td>\n",
       "      <td>1</td>\n",
       "    </tr>\n",
       "    <tr>\n",
       "      <th>72</th>\n",
       "      <td>1</td>\n",
       "      <td>0</td>\n",
       "    </tr>\n",
       "    <tr>\n",
       "      <th>2</th>\n",
       "      <td>0</td>\n",
       "      <td>1</td>\n",
       "    </tr>\n",
       "    <tr>\n",
       "      <th>113</th>\n",
       "      <td>1</td>\n",
       "      <td>0</td>\n",
       "    </tr>\n",
       "  </tbody>\n",
       "</table>\n",
       "</div>"
      ],
      "text/plain": [
       "     diamond_no  diamond_yes\n",
       "62            1            0\n",
       "56            0            1\n",
       "72            1            0\n",
       "2             0            1\n",
       "113           1            0"
      ]
     },
     "execution_count": 89,
     "metadata": {},
     "output_type": "execute_result"
    }
   ],
   "source": [
    "y_traindm2 = pd.get_dummies(y_train2['Diamond_High'], prefix = 'diamond')\n",
    "y_traindm2.head(5)"
   ]
  },
  {
   "cell_type": "code",
   "execution_count": 90,
   "metadata": {
    "scrolled": true
   },
   "outputs": [
    {
     "data": {
      "text/html": [
       "<div>\n",
       "<style scoped>\n",
       "    .dataframe tbody tr th:only-of-type {\n",
       "        vertical-align: middle;\n",
       "    }\n",
       "\n",
       "    .dataframe tbody tr th {\n",
       "        vertical-align: top;\n",
       "    }\n",
       "\n",
       "    .dataframe thead th {\n",
       "        text-align: right;\n",
       "    }\n",
       "</style>\n",
       "<table border=\"1\" class=\"dataframe\">\n",
       "  <thead>\n",
       "    <tr style=\"text-align: right;\">\n",
       "      <th></th>\n",
       "      <th>diamond_no</th>\n",
       "      <th>diamond_yes</th>\n",
       "    </tr>\n",
       "  </thead>\n",
       "  <tbody>\n",
       "    <tr>\n",
       "      <th>109</th>\n",
       "      <td>1</td>\n",
       "      <td>0</td>\n",
       "    </tr>\n",
       "    <tr>\n",
       "      <th>25</th>\n",
       "      <td>0</td>\n",
       "      <td>1</td>\n",
       "    </tr>\n",
       "    <tr>\n",
       "      <th>4</th>\n",
       "      <td>0</td>\n",
       "      <td>1</td>\n",
       "    </tr>\n",
       "    <tr>\n",
       "      <th>93</th>\n",
       "      <td>1</td>\n",
       "      <td>0</td>\n",
       "    </tr>\n",
       "    <tr>\n",
       "      <th>106</th>\n",
       "      <td>1</td>\n",
       "      <td>0</td>\n",
       "    </tr>\n",
       "  </tbody>\n",
       "</table>\n",
       "</div>"
      ],
      "text/plain": [
       "     diamond_no  diamond_yes\n",
       "109           1            0\n",
       "25            0            1\n",
       "4             0            1\n",
       "93            1            0\n",
       "106           1            0"
      ]
     },
     "execution_count": 90,
     "metadata": {},
     "output_type": "execute_result"
    }
   ],
   "source": [
    "y_valdm2 = pd.get_dummies(y_val2['Diamond_High'], prefix = 'diamond')\n",
    "y_valdm2.head(5)"
   ]
  },
  {
   "cell_type": "code",
   "execution_count": 91,
   "metadata": {
    "scrolled": true
   },
   "outputs": [
    {
     "data": {
      "text/html": [
       "<div>\n",
       "<style scoped>\n",
       "    .dataframe tbody tr th:only-of-type {\n",
       "        vertical-align: middle;\n",
       "    }\n",
       "\n",
       "    .dataframe tbody tr th {\n",
       "        vertical-align: top;\n",
       "    }\n",
       "\n",
       "    .dataframe thead th {\n",
       "        text-align: right;\n",
       "    }\n",
       "</style>\n",
       "<table border=\"1\" class=\"dataframe\">\n",
       "  <thead>\n",
       "    <tr style=\"text-align: right;\">\n",
       "      <th></th>\n",
       "      <th>diamond_no</th>\n",
       "      <th>diamond_yes</th>\n",
       "    </tr>\n",
       "  </thead>\n",
       "  <tbody>\n",
       "    <tr>\n",
       "      <th>20</th>\n",
       "      <td>0</td>\n",
       "      <td>1</td>\n",
       "    </tr>\n",
       "    <tr>\n",
       "      <th>45</th>\n",
       "      <td>0</td>\n",
       "      <td>1</td>\n",
       "    </tr>\n",
       "    <tr>\n",
       "      <th>103</th>\n",
       "      <td>1</td>\n",
       "      <td>0</td>\n",
       "    </tr>\n",
       "    <tr>\n",
       "      <th>10</th>\n",
       "      <td>0</td>\n",
       "      <td>1</td>\n",
       "    </tr>\n",
       "    <tr>\n",
       "      <th>3</th>\n",
       "      <td>0</td>\n",
       "      <td>1</td>\n",
       "    </tr>\n",
       "  </tbody>\n",
       "</table>\n",
       "</div>"
      ],
      "text/plain": [
       "     diamond_no  diamond_yes\n",
       "20            0            1\n",
       "45            0            1\n",
       "103           1            0\n",
       "10            0            1\n",
       "3             0            1"
      ]
     },
     "execution_count": 91,
     "metadata": {},
     "output_type": "execute_result"
    }
   ],
   "source": [
    "y_testdm2 = pd.get_dummies(y_test2['Diamond_High'], prefix = 'diamond')\n",
    "y_testdm2.head(5)"
   ]
  },
  {
   "cell_type": "code",
   "execution_count": 92,
   "metadata": {
    "scrolled": true
   },
   "outputs": [
    {
     "data": {
      "text/html": [
       "<div>\n",
       "<style scoped>\n",
       "    .dataframe tbody tr th:only-of-type {\n",
       "        vertical-align: middle;\n",
       "    }\n",
       "\n",
       "    .dataframe tbody tr th {\n",
       "        vertical-align: top;\n",
       "    }\n",
       "\n",
       "    .dataframe thead th {\n",
       "        text-align: right;\n",
       "    }\n",
       "</style>\n",
       "<table border=\"1\" class=\"dataframe\">\n",
       "  <thead>\n",
       "    <tr style=\"text-align: right;\">\n",
       "      <th></th>\n",
       "      <th>Na_clr</th>\n",
       "      <th>Mg_clr</th>\n",
       "      <th>Al_clr</th>\n",
       "      <th>Si_clr</th>\n",
       "      <th>Ca_clr</th>\n",
       "      <th>Sc_clr</th>\n",
       "      <th>Ti_clr</th>\n",
       "      <th>Mn_clr</th>\n",
       "      <th>Sr_clr</th>\n",
       "      <th>Y_clr</th>\n",
       "      <th>...</th>\n",
       "      <th>Nd_clr</th>\n",
       "      <th>Eu_clr</th>\n",
       "      <th>Gd_clr</th>\n",
       "      <th>Tb_clr</th>\n",
       "      <th>Dy_clr</th>\n",
       "      <th>Ho_clr</th>\n",
       "      <th>Er_clr</th>\n",
       "      <th>Yb_clr</th>\n",
       "      <th>Lu_clr</th>\n",
       "      <th>Ta_clr</th>\n",
       "    </tr>\n",
       "  </thead>\n",
       "  <tbody>\n",
       "    <tr>\n",
       "      <th>109</th>\n",
       "      <td>2.274170</td>\n",
       "      <td>7.953645</td>\n",
       "      <td>7.896628</td>\n",
       "      <td>8.882147</td>\n",
       "      <td>7.104743</td>\n",
       "      <td>1.171477</td>\n",
       "      <td>3.398866</td>\n",
       "      <td>4.518214</td>\n",
       "      <td>-1.471593</td>\n",
       "      <td>-0.567965</td>\n",
       "      <td>...</td>\n",
       "      <td>-3.156668</td>\n",
       "      <td>-3.963144</td>\n",
       "      <td>-2.607309</td>\n",
       "      <td>-4.137498</td>\n",
       "      <td>-2.699018</td>\n",
       "      <td>-3.375358</td>\n",
       "      <td>-2.591964</td>\n",
       "      <td>-2.781417</td>\n",
       "      <td>-4.656291</td>\n",
       "      <td>-8.127328</td>\n",
       "    </tr>\n",
       "    <tr>\n",
       "      <th>25</th>\n",
       "      <td>3.155656</td>\n",
       "      <td>6.792351</td>\n",
       "      <td>7.728522</td>\n",
       "      <td>8.689833</td>\n",
       "      <td>6.902087</td>\n",
       "      <td>0.502686</td>\n",
       "      <td>1.954843</td>\n",
       "      <td>4.577170</td>\n",
       "      <td>-5.220288</td>\n",
       "      <td>0.864700</td>\n",
       "      <td>...</td>\n",
       "      <td>-3.170494</td>\n",
       "      <td>-3.619187</td>\n",
       "      <td>-1.753894</td>\n",
       "      <td>-3.162831</td>\n",
       "      <td>-1.095871</td>\n",
       "      <td>-2.443317</td>\n",
       "      <td>-1.272989</td>\n",
       "      <td>-0.971561</td>\n",
       "      <td>-2.770170</td>\n",
       "      <td>-9.189917</td>\n",
       "    </tr>\n",
       "    <tr>\n",
       "      <th>4</th>\n",
       "      <td>3.959154</td>\n",
       "      <td>7.582180</td>\n",
       "      <td>8.231887</td>\n",
       "      <td>9.187019</td>\n",
       "      <td>7.661038</td>\n",
       "      <td>0.638427</td>\n",
       "      <td>4.668046</td>\n",
       "      <td>4.501715</td>\n",
       "      <td>-3.854135</td>\n",
       "      <td>0.369409</td>\n",
       "      <td>...</td>\n",
       "      <td>-3.959495</td>\n",
       "      <td>-4.451972</td>\n",
       "      <td>-3.482571</td>\n",
       "      <td>-4.077278</td>\n",
       "      <td>-1.725903</td>\n",
       "      <td>-2.958047</td>\n",
       "      <td>-1.790441</td>\n",
       "      <td>-1.693689</td>\n",
       "      <td>-3.630991</td>\n",
       "      <td>-7.543014</td>\n",
       "    </tr>\n",
       "    <tr>\n",
       "      <th>93</th>\n",
       "      <td>5.281962</td>\n",
       "      <td>8.589268</td>\n",
       "      <td>8.500139</td>\n",
       "      <td>9.497085</td>\n",
       "      <td>7.285629</td>\n",
       "      <td>1.036535</td>\n",
       "      <td>4.364274</td>\n",
       "      <td>4.954873</td>\n",
       "      <td>-3.257831</td>\n",
       "      <td>-0.512393</td>\n",
       "      <td>...</td>\n",
       "      <td>-3.849196</td>\n",
       "      <td>-4.064307</td>\n",
       "      <td>-3.006517</td>\n",
       "      <td>-4.392811</td>\n",
       "      <td>-2.407986</td>\n",
       "      <td>-3.915887</td>\n",
       "      <td>-2.573653</td>\n",
       "      <td>-2.355929</td>\n",
       "      <td>-4.287451</td>\n",
       "      <td>-9.036028</td>\n",
       "    </tr>\n",
       "    <tr>\n",
       "      <th>106</th>\n",
       "      <td>5.406928</td>\n",
       "      <td>8.407291</td>\n",
       "      <td>8.451694</td>\n",
       "      <td>9.526350</td>\n",
       "      <td>7.619120</td>\n",
       "      <td>1.057154</td>\n",
       "      <td>3.743903</td>\n",
       "      <td>4.910194</td>\n",
       "      <td>-0.791487</td>\n",
       "      <td>-1.331609</td>\n",
       "      <td>...</td>\n",
       "      <td>-3.416471</td>\n",
       "      <td>-4.472523</td>\n",
       "      <td>-3.811125</td>\n",
       "      <td>-5.299202</td>\n",
       "      <td>-3.202061</td>\n",
       "      <td>-4.537062</td>\n",
       "      <td>-3.661593</td>\n",
       "      <td>-3.274820</td>\n",
       "      <td>-5.047887</td>\n",
       "      <td>-7.245112</td>\n",
       "    </tr>\n",
       "  </tbody>\n",
       "</table>\n",
       "<p>5 rows × 22 columns</p>\n",
       "</div>"
      ],
      "text/plain": [
       "       Na_clr    Mg_clr    Al_clr    Si_clr    Ca_clr    Sc_clr    Ti_clr  \\\n",
       "109  2.274170  7.953645  7.896628  8.882147  7.104743  1.171477  3.398866   \n",
       "25   3.155656  6.792351  7.728522  8.689833  6.902087  0.502686  1.954843   \n",
       "4    3.959154  7.582180  8.231887  9.187019  7.661038  0.638427  4.668046   \n",
       "93   5.281962  8.589268  8.500139  9.497085  7.285629  1.036535  4.364274   \n",
       "106  5.406928  8.407291  8.451694  9.526350  7.619120  1.057154  3.743903   \n",
       "\n",
       "       Mn_clr    Sr_clr     Y_clr  ...    Nd_clr    Eu_clr    Gd_clr  \\\n",
       "109  4.518214 -1.471593 -0.567965  ... -3.156668 -3.963144 -2.607309   \n",
       "25   4.577170 -5.220288  0.864700  ... -3.170494 -3.619187 -1.753894   \n",
       "4    4.501715 -3.854135  0.369409  ... -3.959495 -4.451972 -3.482571   \n",
       "93   4.954873 -3.257831 -0.512393  ... -3.849196 -4.064307 -3.006517   \n",
       "106  4.910194 -0.791487 -1.331609  ... -3.416471 -4.472523 -3.811125   \n",
       "\n",
       "       Tb_clr    Dy_clr    Ho_clr    Er_clr    Yb_clr    Lu_clr    Ta_clr  \n",
       "109 -4.137498 -2.699018 -3.375358 -2.591964 -2.781417 -4.656291 -8.127328  \n",
       "25  -3.162831 -1.095871 -2.443317 -1.272989 -0.971561 -2.770170 -9.189917  \n",
       "4   -4.077278 -1.725903 -2.958047 -1.790441 -1.693689 -3.630991 -7.543014  \n",
       "93  -4.392811 -2.407986 -3.915887 -2.573653 -2.355929 -4.287451 -9.036028  \n",
       "106 -5.299202 -3.202061 -4.537062 -3.661593 -3.274820 -5.047887 -7.245112  \n",
       "\n",
       "[5 rows x 22 columns]"
      ]
     },
     "execution_count": 92,
     "metadata": {},
     "output_type": "execute_result"
    }
   ],
   "source": [
    "X_val2.head(5)"
   ]
  },
  {
   "cell_type": "code",
   "execution_count": 93,
   "metadata": {
    "scrolled": true
   },
   "outputs": [
    {
     "name": "stdout",
     "output_type": "stream",
     "text": [
      "(58, 22) (29, 22) (29, 22)\n",
      "(58, 2) (29, 2) (29, 2)\n"
     ]
    }
   ],
   "source": [
    "print(X_train2.shape, X_val2.shape, X_test2.shape)\n",
    "print(y_traindm2.shape, y_valdm2.shape, y_testdm2.shape)"
   ]
  },
  {
   "cell_type": "markdown",
   "metadata": {},
   "source": [
    "## Evaluate Model 3 with Re-Split Data and Print the Results"
   ]
  },
  {
   "cell_type": "markdown",
   "metadata": {},
   "source": [
    "**Test Accuracy**"
   ]
  },
  {
   "cell_type": "code",
   "execution_count": 94,
   "metadata": {
    "scrolled": true
   },
   "outputs": [
    {
     "name": "stdout",
     "output_type": "stream",
     "text": [
      "VIANN version 1.0 (Wellford + Mean) update per epoch\n",
      "Epoch 1/200\n",
      "1/1 [==============================] - 1s 789ms/step - loss: 0.4579 - accuracy: 0.9828 - val_loss: 4.2855 - val_accuracy: 0.4828\n",
      "Epoch 2/200\n",
      "1/1 [==============================] - 0s 52ms/step - loss: 2.8884 - accuracy: 0.6207 - val_loss: 1.5649 - val_accuracy: 0.6897\n",
      "Epoch 3/200\n",
      "1/1 [==============================] - 0s 43ms/step - loss: 0.8429 - accuracy: 0.7931 - val_loss: 1.1558 - val_accuracy: 0.5862\n",
      "Epoch 4/200\n",
      "1/1 [==============================] - 0s 42ms/step - loss: 1.1592 - accuracy: 0.6379 - val_loss: 1.1780 - val_accuracy: 0.5862\n",
      "Epoch 5/200\n",
      "1/1 [==============================] - 0s 42ms/step - loss: 1.0878 - accuracy: 0.6897 - val_loss: 0.8419 - val_accuracy: 0.7586\n",
      "Epoch 6/200\n",
      "1/1 [==============================] - 0s 45ms/step - loss: 0.7949 - accuracy: 0.7931 - val_loss: 0.6793 - val_accuracy: 0.9310\n",
      "Epoch 7/200\n",
      "1/1 [==============================] - 0s 43ms/step - loss: 0.5637 - accuracy: 0.9483 - val_loss: 0.8788 - val_accuracy: 0.6897\n",
      "Epoch 8/200\n",
      "1/1 [==============================] - 0s 47ms/step - loss: 0.6037 - accuracy: 0.8966 - val_loss: 1.0082 - val_accuracy: 0.7241\n",
      "Epoch 9/200\n",
      "1/1 [==============================] - 0s 46ms/step - loss: 0.6924 - accuracy: 0.8621 - val_loss: 1.0740 - val_accuracy: 0.5862\n",
      "Epoch 10/200\n",
      "1/1 [==============================] - 0s 43ms/step - loss: 0.7473 - accuracy: 0.7759 - val_loss: 1.0586 - val_accuracy: 0.5862\n",
      "Epoch 11/200\n",
      "1/1 [==============================] - 0s 47ms/step - loss: 0.7280 - accuracy: 0.7759 - val_loss: 1.0010 - val_accuracy: 0.6552\n",
      "Epoch 12/200\n",
      "1/1 [==============================] - 0s 44ms/step - loss: 0.7080 - accuracy: 0.8448 - val_loss: 0.9320 - val_accuracy: 0.7241\n",
      "Epoch 13/200\n",
      "1/1 [==============================] - 0s 43ms/step - loss: 0.6773 - accuracy: 0.8793 - val_loss: 0.8753 - val_accuracy: 0.6897\n",
      "Epoch 14/200\n",
      "1/1 [==============================] - 0s 47ms/step - loss: 0.6652 - accuracy: 0.9310 - val_loss: 0.7912 - val_accuracy: 0.8621\n",
      "Epoch 15/200\n",
      "1/1 [==============================] - 0s 45ms/step - loss: 0.6479 - accuracy: 0.9655 - val_loss: 0.7577 - val_accuracy: 0.9310\n",
      "Epoch 16/200\n",
      "1/1 [==============================] - 0s 45ms/step - loss: 0.6459 - accuracy: 0.9655 - val_loss: 0.7474 - val_accuracy: 0.9310\n",
      "Epoch 17/200\n",
      "1/1 [==============================] - 0s 46ms/step - loss: 0.6348 - accuracy: 0.9310 - val_loss: 0.7326 - val_accuracy: 0.9310\n",
      "Epoch 18/200\n",
      "1/1 [==============================] - 0s 43ms/step - loss: 0.6213 - accuracy: 0.9483 - val_loss: 0.7122 - val_accuracy: 0.9310\n",
      "Epoch 19/200\n",
      "1/1 [==============================] - 0s 43ms/step - loss: 0.5963 - accuracy: 0.9655 - val_loss: 0.7155 - val_accuracy: 0.9310\n",
      "Epoch 20/200\n",
      "1/1 [==============================] - 0s 43ms/step - loss: 0.5625 - accuracy: 0.9828 - val_loss: 0.7733 - val_accuracy: 0.7586\n",
      "Epoch 21/200\n",
      "1/1 [==============================] - 0s 45ms/step - loss: 0.5296 - accuracy: 0.9828 - val_loss: 0.8155 - val_accuracy: 0.7241\n",
      "Epoch 22/200\n",
      "1/1 [==============================] - 0s 48ms/step - loss: 0.5170 - accuracy: 0.9483 - val_loss: 0.8130 - val_accuracy: 0.7241\n",
      "Epoch 23/200\n",
      "1/1 [==============================] - 0s 43ms/step - loss: 0.5279 - accuracy: 0.9483 - val_loss: 0.7442 - val_accuracy: 0.7931\n",
      "Epoch 24/200\n",
      "1/1 [==============================] - 0s 42ms/step - loss: 0.4764 - accuracy: 0.9828 - val_loss: 0.6860 - val_accuracy: 0.9310\n",
      "Epoch 25/200\n",
      "1/1 [==============================] - 0s 44ms/step - loss: 0.4878 - accuracy: 0.9483 - val_loss: 0.6905 - val_accuracy: 0.9310\n",
      "Epoch 26/200\n",
      "1/1 [==============================] - 0s 43ms/step - loss: 0.4880 - accuracy: 0.9655 - val_loss: 0.7122 - val_accuracy: 0.9310\n",
      "Epoch 27/200\n",
      "1/1 [==============================] - 0s 43ms/step - loss: 0.4609 - accuracy: 0.9828 - val_loss: 0.8157 - val_accuracy: 0.7241\n",
      "Epoch 28/200\n",
      "1/1 [==============================] - 0s 41ms/step - loss: 0.4646 - accuracy: 0.9655 - val_loss: 0.8762 - val_accuracy: 0.7241\n",
      "Epoch 29/200\n",
      "1/1 [==============================] - 0s 43ms/step - loss: 0.4809 - accuracy: 0.9483 - val_loss: 0.7579 - val_accuracy: 0.8621\n",
      "Epoch 30/200\n",
      "1/1 [==============================] - 0s 43ms/step - loss: 0.4396 - accuracy: 1.0000 - val_loss: 0.6919 - val_accuracy: 0.9310\n",
      "Epoch 31/200\n",
      "1/1 [==============================] - 0s 41ms/step - loss: 0.4540 - accuracy: 0.9655 - val_loss: 0.6885 - val_accuracy: 0.9310\n",
      "Epoch 32/200\n",
      "1/1 [==============================] - 0s 44ms/step - loss: 0.4723 - accuracy: 0.9483 - val_loss: 0.7337 - val_accuracy: 0.8966\n",
      "Epoch 33/200\n",
      "1/1 [==============================] - 0s 42ms/step - loss: 0.4303 - accuracy: 0.9828 - val_loss: 0.8029 - val_accuracy: 0.7931\n",
      "Epoch 34/200\n",
      "1/1 [==============================] - 0s 42ms/step - loss: 0.4177 - accuracy: 1.0000 - val_loss: 0.8004 - val_accuracy: 0.7931\n",
      "Epoch 35/200\n",
      "1/1 [==============================] - 0s 43ms/step - loss: 0.4499 - accuracy: 1.0000 - val_loss: 0.7094 - val_accuracy: 0.9310\n",
      "Epoch 36/200\n",
      "1/1 [==============================] - 0s 43ms/step - loss: 0.4127 - accuracy: 1.0000 - val_loss: 0.6671 - val_accuracy: 0.9310\n",
      "Epoch 37/200\n",
      "1/1 [==============================] - 0s 43ms/step - loss: 0.4295 - accuracy: 0.9828 - val_loss: 0.6574 - val_accuracy: 0.9310\n",
      "Epoch 38/200\n",
      "1/1 [==============================] - 0s 42ms/step - loss: 0.4301 - accuracy: 0.9655 - val_loss: 0.6745 - val_accuracy: 0.9310\n",
      "Epoch 39/200\n",
      "1/1 [==============================] - 0s 42ms/step - loss: 0.4156 - accuracy: 1.0000 - val_loss: 0.7188 - val_accuracy: 0.8621\n",
      "Epoch 40/200\n",
      "1/1 [==============================] - 0s 44ms/step - loss: 0.4307 - accuracy: 0.9828 - val_loss: 0.6872 - val_accuracy: 0.9310\n",
      "Epoch 41/200\n",
      "1/1 [==============================] - 0s 42ms/step - loss: 0.4305 - accuracy: 0.9828 - val_loss: 0.6368 - val_accuracy: 0.9310\n",
      "Epoch 42/200\n",
      "1/1 [==============================] - 0s 43ms/step - loss: 0.4038 - accuracy: 1.0000 - val_loss: 0.6272 - val_accuracy: 0.9310\n",
      "Epoch 43/200\n",
      "1/1 [==============================] - 0s 42ms/step - loss: 0.4310 - accuracy: 0.9655 - val_loss: 0.6291 - val_accuracy: 0.9310\n",
      "Epoch 44/200\n",
      "1/1 [==============================] - 0s 42ms/step - loss: 0.4125 - accuracy: 0.9828 - val_loss: 0.6706 - val_accuracy: 0.9310\n",
      "Epoch 45/200\n",
      "1/1 [==============================] - 0s 43ms/step - loss: 0.4136 - accuracy: 0.9828 - val_loss: 0.6999 - val_accuracy: 0.8621\n",
      "Epoch 46/200\n",
      "1/1 [==============================] - 0s 43ms/step - loss: 0.4454 - accuracy: 0.9828 - val_loss: 0.6589 - val_accuracy: 0.9310\n",
      "Epoch 47/200\n",
      "1/1 [==============================] - 0s 42ms/step - loss: 0.3941 - accuracy: 1.0000 - val_loss: 0.6406 - val_accuracy: 0.9310\n",
      "Epoch 48/200\n",
      "1/1 [==============================] - 0s 43ms/step - loss: 0.4085 - accuracy: 0.9828 - val_loss: 0.6397 - val_accuracy: 0.9310\n",
      "Epoch 49/200\n",
      "1/1 [==============================] - 0s 44ms/step - loss: 0.3958 - accuracy: 1.0000 - val_loss: 0.6278 - val_accuracy: 0.9310\n",
      "Epoch 50/200\n",
      "1/1 [==============================] - 0s 42ms/step - loss: 0.3951 - accuracy: 1.0000 - val_loss: 0.6218 - val_accuracy: 0.9310\n",
      "Epoch 51/200\n",
      "1/1 [==============================] - 0s 43ms/step - loss: 0.4119 - accuracy: 0.9828 - val_loss: 0.6293 - val_accuracy: 0.9310\n",
      "Epoch 52/200\n",
      "1/1 [==============================] - 0s 44ms/step - loss: 0.3890 - accuracy: 0.9828 - val_loss: 0.6654 - val_accuracy: 0.9310\n",
      "Epoch 53/200\n",
      "1/1 [==============================] - 0s 43ms/step - loss: 0.3989 - accuracy: 1.0000 - val_loss: 0.6808 - val_accuracy: 0.8276\n",
      "Epoch 54/200\n",
      "1/1 [==============================] - 0s 42ms/step - loss: 0.3788 - accuracy: 1.0000 - val_loss: 0.6625 - val_accuracy: 0.9310\n",
      "Epoch 55/200\n",
      "1/1 [==============================] - 0s 43ms/step - loss: 0.3810 - accuracy: 1.0000 - val_loss: 0.6221 - val_accuracy: 0.9310\n",
      "Epoch 56/200\n",
      "1/1 [==============================] - 0s 43ms/step - loss: 0.3995 - accuracy: 0.9828 - val_loss: 0.6312 - val_accuracy: 0.9310\n",
      "Epoch 57/200\n",
      "1/1 [==============================] - 0s 41ms/step - loss: 0.3730 - accuracy: 1.0000 - val_loss: 0.6454 - val_accuracy: 0.9310\n",
      "Epoch 58/200\n",
      "1/1 [==============================] - 0s 43ms/step - loss: 0.3826 - accuracy: 0.9828 - val_loss: 0.6352 - val_accuracy: 0.9310\n"
     ]
    },
    {
     "name": "stdout",
     "output_type": "stream",
     "text": [
      "Epoch 59/200\n",
      "1/1 [==============================] - 0s 43ms/step - loss: 0.3622 - accuracy: 1.0000 - val_loss: 0.6171 - val_accuracy: 0.9310\n",
      "Epoch 60/200\n",
      "1/1 [==============================] - 0s 41ms/step - loss: 0.3676 - accuracy: 1.0000 - val_loss: 0.6196 - val_accuracy: 0.9310\n",
      "Epoch 61/200\n",
      "1/1 [==============================] - 0s 43ms/step - loss: 0.3812 - accuracy: 1.0000 - val_loss: 0.6335 - val_accuracy: 0.9310\n",
      "Epoch 62/200\n",
      "1/1 [==============================] - 0s 43ms/step - loss: 0.3700 - accuracy: 1.0000 - val_loss: 0.6390 - val_accuracy: 0.9310\n",
      "Epoch 63/200\n",
      "1/1 [==============================] - 0s 42ms/step - loss: 0.3790 - accuracy: 1.0000 - val_loss: 0.6273 - val_accuracy: 0.9310\n",
      "Epoch 64/200\n",
      "1/1 [==============================] - 0s 43ms/step - loss: 0.3786 - accuracy: 1.0000 - val_loss: 0.6227 - val_accuracy: 0.9310\n",
      "Epoch 65/200\n",
      "1/1 [==============================] - 0s 42ms/step - loss: 0.3693 - accuracy: 1.0000 - val_loss: 0.6184 - val_accuracy: 0.9310\n",
      "Epoch 66/200\n",
      "1/1 [==============================] - 0s 42ms/step - loss: 0.3785 - accuracy: 0.9828 - val_loss: 0.6584 - val_accuracy: 0.9310\n",
      "Epoch 67/200\n",
      "1/1 [==============================] - 0s 43ms/step - loss: 0.3833 - accuracy: 0.9655 - val_loss: 0.6916 - val_accuracy: 0.8276\n",
      "Epoch 68/200\n",
      "1/1 [==============================] - 0s 44ms/step - loss: 0.3703 - accuracy: 1.0000 - val_loss: 0.6537 - val_accuracy: 0.8966\n",
      "Epoch 69/200\n",
      "1/1 [==============================] - 0s 44ms/step - loss: 0.3556 - accuracy: 1.0000 - val_loss: 0.6254 - val_accuracy: 0.9310\n",
      "Epoch 70/200\n",
      "1/1 [==============================] - 0s 42ms/step - loss: 0.3631 - accuracy: 1.0000 - val_loss: 0.5943 - val_accuracy: 0.9310\n",
      "Epoch 71/200\n",
      "1/1 [==============================] - 0s 43ms/step - loss: 0.3645 - accuracy: 0.9828 - val_loss: 0.5898 - val_accuracy: 0.9310\n",
      "Epoch 72/200\n",
      "1/1 [==============================] - 0s 41ms/step - loss: 0.3709 - accuracy: 1.0000 - val_loss: 0.6140 - val_accuracy: 0.9310\n",
      "Epoch 73/200\n",
      "1/1 [==============================] - 0s 43ms/step - loss: 0.3870 - accuracy: 0.9828 - val_loss: 0.6424 - val_accuracy: 0.8966\n",
      "Epoch 74/200\n",
      "1/1 [==============================] - 0s 43ms/step - loss: 0.3525 - accuracy: 1.0000 - val_loss: 0.6348 - val_accuracy: 0.9310\n",
      "Epoch 75/200\n",
      "1/1 [==============================] - 0s 42ms/step - loss: 0.3633 - accuracy: 1.0000 - val_loss: 0.6067 - val_accuracy: 0.9310\n",
      "Epoch 76/200\n",
      "1/1 [==============================] - 0s 43ms/step - loss: 0.3570 - accuracy: 1.0000 - val_loss: 0.5954 - val_accuracy: 0.9310\n",
      "Epoch 77/200\n",
      "1/1 [==============================] - 0s 43ms/step - loss: 0.3538 - accuracy: 1.0000 - val_loss: 0.5788 - val_accuracy: 0.9310\n",
      "Epoch 78/200\n",
      "1/1 [==============================] - 0s 43ms/step - loss: 0.3616 - accuracy: 1.0000 - val_loss: 0.5859 - val_accuracy: 0.9310\n",
      "Epoch 79/200\n",
      "1/1 [==============================] - 0s 42ms/step - loss: 0.3631 - accuracy: 0.9828 - val_loss: 0.6004 - val_accuracy: 0.9310\n",
      "Epoch 80/200\n",
      "1/1 [==============================] - 0s 43ms/step - loss: 0.3610 - accuracy: 1.0000 - val_loss: 0.6143 - val_accuracy: 0.9310\n",
      "Epoch 81/200\n",
      "1/1 [==============================] - 0s 42ms/step - loss: 0.3449 - accuracy: 1.0000 - val_loss: 0.6179 - val_accuracy: 0.9310\n",
      "Epoch 82/200\n",
      "1/1 [==============================] - 0s 41ms/step - loss: 0.3572 - accuracy: 1.0000 - val_loss: 0.6001 - val_accuracy: 0.9310\n",
      "Epoch 83/200\n",
      "1/1 [==============================] - 0s 44ms/step - loss: 0.3435 - accuracy: 1.0000 - val_loss: 0.5957 - val_accuracy: 0.9310\n",
      "Epoch 84/200\n",
      "1/1 [==============================] - 0s 42ms/step - loss: 0.3353 - accuracy: 1.0000 - val_loss: 0.5884 - val_accuracy: 0.9310\n",
      "Epoch 85/200\n",
      "1/1 [==============================] - 0s 42ms/step - loss: 0.3409 - accuracy: 1.0000 - val_loss: 0.5862 - val_accuracy: 0.9310\n",
      "Epoch 86/200\n",
      "1/1 [==============================] - 0s 43ms/step - loss: 0.3410 - accuracy: 1.0000 - val_loss: 0.5914 - val_accuracy: 0.9310\n",
      "Epoch 87/200\n",
      "1/1 [==============================] - 0s 44ms/step - loss: 0.3520 - accuracy: 1.0000 - val_loss: 0.6122 - val_accuracy: 0.9310\n",
      "Epoch 88/200\n",
      "1/1 [==============================] - 0s 43ms/step - loss: 0.3388 - accuracy: 1.0000 - val_loss: 0.6507 - val_accuracy: 0.8276\n",
      "Epoch 89/200\n",
      "1/1 [==============================] - 0s 42ms/step - loss: 0.3356 - accuracy: 1.0000 - val_loss: 0.6565 - val_accuracy: 0.8276\n",
      "Epoch 90/200\n",
      "1/1 [==============================] - 0s 42ms/step - loss: 0.3377 - accuracy: 1.0000 - val_loss: 0.6034 - val_accuracy: 0.9310\n",
      "Epoch 91/200\n",
      "1/1 [==============================] - 0s 42ms/step - loss: 0.3276 - accuracy: 1.0000 - val_loss: 0.5745 - val_accuracy: 0.9310\n",
      "Epoch 92/200\n",
      "1/1 [==============================] - 0s 44ms/step - loss: 0.3478 - accuracy: 0.9828 - val_loss: 0.5859 - val_accuracy: 0.9310\n",
      "Epoch 93/200\n",
      "1/1 [==============================] - 0s 44ms/step - loss: 0.3414 - accuracy: 1.0000 - val_loss: 0.5980 - val_accuracy: 0.9310\n",
      "Epoch 94/200\n",
      "1/1 [==============================] - 0s 41ms/step - loss: 0.3295 - accuracy: 1.0000 - val_loss: 0.5957 - val_accuracy: 0.9310\n",
      "Epoch 95/200\n",
      "1/1 [==============================] - 0s 42ms/step - loss: 0.3372 - accuracy: 1.0000 - val_loss: 0.6122 - val_accuracy: 0.9310\n",
      "Epoch 96/200\n",
      "1/1 [==============================] - 0s 43ms/step - loss: 0.3272 - accuracy: 1.0000 - val_loss: 0.6276 - val_accuracy: 0.8966\n",
      "Epoch 97/200\n",
      "1/1 [==============================] - 0s 43ms/step - loss: 0.3328 - accuracy: 1.0000 - val_loss: 0.6031 - val_accuracy: 0.9310\n",
      "Epoch 98/200\n",
      "1/1 [==============================] - 0s 42ms/step - loss: 0.3194 - accuracy: 1.0000 - val_loss: 0.5777 - val_accuracy: 0.9310\n",
      "Epoch 99/200\n",
      "1/1 [==============================] - 0s 43ms/step - loss: 0.3564 - accuracy: 0.9828 - val_loss: 0.5877 - val_accuracy: 0.9310\n",
      "Epoch 100/200\n",
      "1/1 [==============================] - 0s 42ms/step - loss: 0.3598 - accuracy: 0.9828 - val_loss: 0.7038 - val_accuracy: 0.8276\n",
      "Epoch 101/200\n",
      "1/1 [==============================] - 0s 42ms/step - loss: 0.3648 - accuracy: 0.9483 - val_loss: 0.6078 - val_accuracy: 0.9310\n",
      "Epoch 102/200\n",
      "1/1 [==============================] - 0s 43ms/step - loss: 0.3490 - accuracy: 0.9828 - val_loss: 0.5531 - val_accuracy: 0.9310\n",
      "Epoch 103/200\n",
      "1/1 [==============================] - 0s 43ms/step - loss: 0.3465 - accuracy: 0.9828 - val_loss: 0.5611 - val_accuracy: 0.9310\n",
      "Epoch 104/200\n",
      "1/1 [==============================] - 0s 43ms/step - loss: 0.3241 - accuracy: 1.0000 - val_loss: 0.6171 - val_accuracy: 0.8621\n",
      "Epoch 105/200\n",
      "1/1 [==============================] - 0s 42ms/step - loss: 0.3244 - accuracy: 1.0000 - val_loss: 0.6851 - val_accuracy: 0.7931\n",
      "Epoch 106/200\n",
      "1/1 [==============================] - 0s 43ms/step - loss: 0.3514 - accuracy: 0.9655 - val_loss: 0.5859 - val_accuracy: 0.9310\n",
      "Epoch 107/200\n",
      "1/1 [==============================] - 0s 41ms/step - loss: 0.3262 - accuracy: 1.0000 - val_loss: 0.5525 - val_accuracy: 0.9310\n",
      "Epoch 108/200\n",
      "1/1 [==============================] - 0s 43ms/step - loss: 0.3580 - accuracy: 0.9828 - val_loss: 0.5629 - val_accuracy: 0.9310\n",
      "Epoch 109/200\n",
      "1/1 [==============================] - 0s 43ms/step - loss: 0.3262 - accuracy: 0.9828 - val_loss: 0.6502 - val_accuracy: 0.8276\n",
      "Epoch 110/200\n",
      "1/1 [==============================] - 0s 41ms/step - loss: 0.3255 - accuracy: 1.0000 - val_loss: 0.7331 - val_accuracy: 0.7241\n",
      "Epoch 111/200\n",
      "1/1 [==============================] - 0s 43ms/step - loss: 0.3821 - accuracy: 0.9655 - val_loss: 0.5787 - val_accuracy: 0.9310\n",
      "Epoch 112/200\n",
      "1/1 [==============================] - 0s 42ms/step - loss: 0.3270 - accuracy: 1.0000 - val_loss: 0.5501 - val_accuracy: 0.9310\n",
      "Epoch 113/200\n",
      "1/1 [==============================] - 0s 42ms/step - loss: 0.3428 - accuracy: 0.9828 - val_loss: 0.5516 - val_accuracy: 0.9310\n",
      "Epoch 114/200\n",
      "1/1 [==============================] - 0s 45ms/step - loss: 0.3298 - accuracy: 0.9828 - val_loss: 0.5796 - val_accuracy: 0.9310\n",
      "Epoch 115/200\n",
      "1/1 [==============================] - 0s 43ms/step - loss: 0.3197 - accuracy: 1.0000 - val_loss: 0.5956 - val_accuracy: 0.9310\n",
      "Epoch 116/200\n",
      "1/1 [==============================] - 0s 43ms/step - loss: 0.3207 - accuracy: 1.0000 - val_loss: 0.5783 - val_accuracy: 0.9310\n"
     ]
    },
    {
     "name": "stdout",
     "output_type": "stream",
     "text": [
      "Epoch 117/200\n",
      "1/1 [==============================] - 0s 43ms/step - loss: 0.3211 - accuracy: 1.0000 - val_loss: 0.5550 - val_accuracy: 0.9310\n",
      "Epoch 118/200\n",
      "1/1 [==============================] - 0s 45ms/step - loss: 0.3221 - accuracy: 1.0000 - val_loss: 0.5507 - val_accuracy: 0.9310\n",
      "Epoch 119/200\n",
      "1/1 [==============================] - 0s 43ms/step - loss: 0.3168 - accuracy: 1.0000 - val_loss: 0.5663 - val_accuracy: 0.9310\n",
      "Epoch 120/200\n",
      "1/1 [==============================] - 0s 43ms/step - loss: 0.3144 - accuracy: 1.0000 - val_loss: 0.5902 - val_accuracy: 0.9310\n",
      "Epoch 121/200\n",
      "1/1 [==============================] - 0s 43ms/step - loss: 0.3164 - accuracy: 1.0000 - val_loss: 0.5864 - val_accuracy: 0.9310\n",
      "Epoch 122/200\n",
      "1/1 [==============================] - 0s 45ms/step - loss: 0.3191 - accuracy: 1.0000 - val_loss: 0.5697 - val_accuracy: 0.9310\n",
      "Epoch 123/200\n",
      "1/1 [==============================] - 0s 46ms/step - loss: 0.3108 - accuracy: 1.0000 - val_loss: 0.5744 - val_accuracy: 0.9310\n",
      "Epoch 124/200\n",
      "1/1 [==============================] - 0s 44ms/step - loss: 0.3205 - accuracy: 0.9828 - val_loss: 0.6107 - val_accuracy: 0.9310\n",
      "Epoch 125/200\n",
      "1/1 [==============================] - 0s 42ms/step - loss: 0.3305 - accuracy: 0.9828 - val_loss: 0.5917 - val_accuracy: 0.9310\n",
      "Epoch 126/200\n",
      "1/1 [==============================] - 0s 44ms/step - loss: 0.3100 - accuracy: 1.0000 - val_loss: 0.5813 - val_accuracy: 0.9310\n",
      "Epoch 127/200\n",
      "1/1 [==============================] - 0s 42ms/step - loss: 0.3095 - accuracy: 1.0000 - val_loss: 0.5936 - val_accuracy: 0.9310\n",
      "Epoch 128/200\n",
      "1/1 [==============================] - 0s 42ms/step - loss: 0.3085 - accuracy: 1.0000 - val_loss: 0.5902 - val_accuracy: 0.9310\n",
      "Epoch 129/200\n",
      "1/1 [==============================] - 0s 42ms/step - loss: 0.3243 - accuracy: 1.0000 - val_loss: 0.6200 - val_accuracy: 0.8966\n",
      "Epoch 130/200\n",
      "1/1 [==============================] - 0s 43ms/step - loss: 0.3166 - accuracy: 1.0000 - val_loss: 0.6091 - val_accuracy: 0.9310\n",
      "Epoch 131/200\n",
      "1/1 [==============================] - 0s 42ms/step - loss: 0.3082 - accuracy: 1.0000 - val_loss: 0.6078 - val_accuracy: 0.9310\n",
      "Epoch 132/200\n",
      "1/1 [==============================] - 0s 42ms/step - loss: 0.3137 - accuracy: 1.0000 - val_loss: 0.6088 - val_accuracy: 0.9310\n",
      "Epoch 133/200\n",
      "1/1 [==============================] - 0s 43ms/step - loss: 0.3116 - accuracy: 1.0000 - val_loss: 0.6199 - val_accuracy: 0.9310\n",
      "Epoch 134/200\n",
      "1/1 [==============================] - 0s 42ms/step - loss: 0.3246 - accuracy: 1.0000 - val_loss: 0.6219 - val_accuracy: 0.9310\n",
      "Epoch 135/200\n",
      "1/1 [==============================] - 0s 45ms/step - loss: 0.3256 - accuracy: 0.9828 - val_loss: 0.6007 - val_accuracy: 0.9310\n",
      "Epoch 136/200\n",
      "1/1 [==============================] - 0s 43ms/step - loss: 0.3236 - accuracy: 0.9828 - val_loss: 0.5919 - val_accuracy: 0.9310\n",
      "Epoch 137/200\n",
      "1/1 [==============================] - 0s 42ms/step - loss: 0.3095 - accuracy: 0.9828 - val_loss: 0.6087 - val_accuracy: 0.9310\n",
      "Epoch 138/200\n",
      "1/1 [==============================] - 0s 41ms/step - loss: 0.3222 - accuracy: 0.9828 - val_loss: 0.6813 - val_accuracy: 0.7931\n",
      "Epoch 139/200\n",
      "1/1 [==============================] - 0s 43ms/step - loss: 0.3142 - accuracy: 1.0000 - val_loss: 0.6501 - val_accuracy: 0.8276\n",
      "Epoch 140/200\n",
      "1/1 [==============================] - 0s 43ms/step - loss: 0.3111 - accuracy: 1.0000 - val_loss: 0.5783 - val_accuracy: 0.9310\n",
      "Epoch 141/200\n",
      "1/1 [==============================] - 0s 41ms/step - loss: 0.3075 - accuracy: 1.0000 - val_loss: 0.5740 - val_accuracy: 0.9310\n",
      "Epoch 142/200\n",
      "1/1 [==============================] - 0s 41ms/step - loss: 0.3317 - accuracy: 0.9828 - val_loss: 0.6082 - val_accuracy: 0.8966\n",
      "Epoch 143/200\n",
      "1/1 [==============================] - 0s 44ms/step - loss: 0.3193 - accuracy: 0.9828 - val_loss: 0.6001 - val_accuracy: 0.8966\n",
      "Epoch 144/200\n",
      "1/1 [==============================] - 0s 42ms/step - loss: 0.2967 - accuracy: 1.0000 - val_loss: 0.6003 - val_accuracy: 0.8966\n",
      "Epoch 145/200\n",
      "1/1 [==============================] - 0s 43ms/step - loss: 0.3079 - accuracy: 1.0000 - val_loss: 0.5660 - val_accuracy: 0.9310\n",
      "Epoch 146/200\n",
      "1/1 [==============================] - 0s 43ms/step - loss: 0.3093 - accuracy: 0.9828 - val_loss: 0.5761 - val_accuracy: 0.9310\n",
      "Epoch 147/200\n",
      "1/1 [==============================] - 0s 44ms/step - loss: 0.3102 - accuracy: 1.0000 - val_loss: 0.5751 - val_accuracy: 0.9310\n",
      "Epoch 148/200\n",
      "1/1 [==============================] - 0s 45ms/step - loss: 0.3024 - accuracy: 1.0000 - val_loss: 0.5621 - val_accuracy: 0.9310\n",
      "Epoch 149/200\n",
      "1/1 [==============================] - 0s 45ms/step - loss: 0.3055 - accuracy: 1.0000 - val_loss: 0.5622 - val_accuracy: 0.9310\n",
      "Epoch 150/200\n",
      "1/1 [==============================] - 0s 42ms/step - loss: 0.2908 - accuracy: 1.0000 - val_loss: 0.5662 - val_accuracy: 0.9310\n",
      "Epoch 151/200\n",
      "1/1 [==============================] - 0s 44ms/step - loss: 0.3035 - accuracy: 1.0000 - val_loss: 0.5524 - val_accuracy: 0.9310\n",
      "Epoch 152/200\n",
      "1/1 [==============================] - 0s 45ms/step - loss: 0.3099 - accuracy: 1.0000 - val_loss: 0.5457 - val_accuracy: 0.9310\n",
      "Epoch 153/200\n",
      "1/1 [==============================] - 0s 43ms/step - loss: 0.3038 - accuracy: 1.0000 - val_loss: 0.5741 - val_accuracy: 0.8966\n",
      "Epoch 154/200\n",
      "1/1 [==============================] - 0s 41ms/step - loss: 0.3034 - accuracy: 1.0000 - val_loss: 0.6297 - val_accuracy: 0.8276\n",
      "Epoch 155/200\n",
      "1/1 [==============================] - 0s 42ms/step - loss: 0.2964 - accuracy: 1.0000 - val_loss: 0.6138 - val_accuracy: 0.8276\n",
      "Epoch 156/200\n",
      "1/1 [==============================] - 0s 43ms/step - loss: 0.2945 - accuracy: 1.0000 - val_loss: 0.5657 - val_accuracy: 0.9310\n",
      "Epoch 157/200\n",
      "1/1 [==============================] - 0s 42ms/step - loss: 0.2994 - accuracy: 1.0000 - val_loss: 0.5471 - val_accuracy: 0.9310\n",
      "Epoch 158/200\n",
      "1/1 [==============================] - 0s 42ms/step - loss: 0.3019 - accuracy: 1.0000 - val_loss: 0.5619 - val_accuracy: 0.9310\n",
      "Epoch 159/200\n",
      "1/1 [==============================] - 0s 43ms/step - loss: 0.2945 - accuracy: 1.0000 - val_loss: 0.5970 - val_accuracy: 0.8621\n",
      "Epoch 160/200\n",
      "1/1 [==============================] - 0s 44ms/step - loss: 0.2991 - accuracy: 1.0000 - val_loss: 0.6335 - val_accuracy: 0.8276\n",
      "Epoch 161/200\n",
      "1/1 [==============================] - 0s 41ms/step - loss: 0.3014 - accuracy: 1.0000 - val_loss: 0.5626 - val_accuracy: 0.9310\n",
      "Epoch 162/200\n",
      "1/1 [==============================] - 0s 43ms/step - loss: 0.3127 - accuracy: 0.9828 - val_loss: 0.5479 - val_accuracy: 0.9310\n",
      "Epoch 163/200\n",
      "1/1 [==============================] - 0s 42ms/step - loss: 0.3118 - accuracy: 1.0000 - val_loss: 0.5566 - val_accuracy: 0.9310\n",
      "Epoch 164/200\n",
      "1/1 [==============================] - 0s 41ms/step - loss: 0.2932 - accuracy: 1.0000 - val_loss: 0.5934 - val_accuracy: 0.8621\n",
      "Epoch 165/200\n",
      "1/1 [==============================] - 0s 44ms/step - loss: 0.2925 - accuracy: 1.0000 - val_loss: 0.5752 - val_accuracy: 0.9310\n",
      "Epoch 166/200\n",
      "1/1 [==============================] - 0s 41ms/step - loss: 0.2929 - accuracy: 1.0000 - val_loss: 0.5423 - val_accuracy: 0.9310\n",
      "Epoch 167/200\n",
      "1/1 [==============================] - 0s 42ms/step - loss: 0.2889 - accuracy: 1.0000 - val_loss: 0.5488 - val_accuracy: 0.9310\n",
      "Epoch 168/200\n",
      "1/1 [==============================] - 0s 42ms/step - loss: 0.2896 - accuracy: 1.0000 - val_loss: 0.5579 - val_accuracy: 0.9310\n",
      "Epoch 169/200\n",
      "1/1 [==============================] - 0s 42ms/step - loss: 0.2943 - accuracy: 1.0000 - val_loss: 0.5939 - val_accuracy: 0.8966\n",
      "Epoch 170/200\n",
      "1/1 [==============================] - 0s 42ms/step - loss: 0.3053 - accuracy: 0.9828 - val_loss: 0.5699 - val_accuracy: 0.9310\n",
      "Epoch 171/200\n",
      "1/1 [==============================] - 0s 44ms/step - loss: 0.3020 - accuracy: 1.0000 - val_loss: 0.5408 - val_accuracy: 0.9310\n",
      "Epoch 172/200\n",
      "1/1 [==============================] - 0s 43ms/step - loss: 0.2962 - accuracy: 1.0000 - val_loss: 0.5526 - val_accuracy: 0.9310\n",
      "Epoch 173/200\n",
      "1/1 [==============================] - 0s 42ms/step - loss: 0.2998 - accuracy: 1.0000 - val_loss: 0.6208 - val_accuracy: 0.8276\n",
      "Epoch 174/200\n",
      "1/1 [==============================] - 0s 42ms/step - loss: 0.3047 - accuracy: 0.9828 - val_loss: 0.6055 - val_accuracy: 0.8276\n"
     ]
    },
    {
     "name": "stdout",
     "output_type": "stream",
     "text": [
      "Epoch 175/200\n",
      "1/1 [==============================] - 0s 42ms/step - loss: 0.3167 - accuracy: 0.9655 - val_loss: 0.5515 - val_accuracy: 0.9310\n",
      "Epoch 176/200\n",
      "1/1 [==============================] - 0s 41ms/step - loss: 0.3258 - accuracy: 0.9828 - val_loss: 0.5537 - val_accuracy: 0.9310\n",
      "Epoch 177/200\n",
      "1/1 [==============================] - 0s 43ms/step - loss: 0.3243 - accuracy: 0.9828 - val_loss: 0.7190 - val_accuracy: 0.7241\n",
      "Epoch 178/200\n",
      "1/1 [==============================] - 0s 43ms/step - loss: 0.3175 - accuracy: 0.9828 - val_loss: 0.6525 - val_accuracy: 0.8276\n",
      "Epoch 179/200\n",
      "1/1 [==============================] - 0s 41ms/step - loss: 0.2936 - accuracy: 1.0000 - val_loss: 0.5491 - val_accuracy: 0.9310\n",
      "Epoch 180/200\n",
      "1/1 [==============================] - 0s 43ms/step - loss: 0.2933 - accuracy: 1.0000 - val_loss: 0.5442 - val_accuracy: 0.9310\n",
      "Epoch 181/200\n",
      "1/1 [==============================] - 0s 43ms/step - loss: 0.3119 - accuracy: 1.0000 - val_loss: 0.5840 - val_accuracy: 0.9310\n",
      "Epoch 182/200\n",
      "1/1 [==============================] - 0s 48ms/step - loss: 0.2966 - accuracy: 1.0000 - val_loss: 0.6310 - val_accuracy: 0.8276\n",
      "Epoch 183/200\n",
      "1/1 [==============================] - 0s 43ms/step - loss: 0.2910 - accuracy: 1.0000 - val_loss: 0.6291 - val_accuracy: 0.8276\n",
      "Epoch 184/200\n",
      "1/1 [==============================] - 0s 42ms/step - loss: 0.2947 - accuracy: 1.0000 - val_loss: 0.5807 - val_accuracy: 0.8621\n",
      "Epoch 185/200\n",
      "1/1 [==============================] - 0s 43ms/step - loss: 0.2872 - accuracy: 1.0000 - val_loss: 0.5602 - val_accuracy: 0.9310\n",
      "Epoch 186/200\n",
      "1/1 [==============================] - 0s 43ms/step - loss: 0.2987 - accuracy: 1.0000 - val_loss: 0.5668 - val_accuracy: 0.9310\n",
      "Epoch 187/200\n",
      "1/1 [==============================] - 0s 42ms/step - loss: 0.2942 - accuracy: 0.9828 - val_loss: 0.6468 - val_accuracy: 0.8276\n",
      "Epoch 188/200\n",
      "1/1 [==============================] - 0s 43ms/step - loss: 0.3068 - accuracy: 1.0000 - val_loss: 0.6796 - val_accuracy: 0.8276\n",
      "Epoch 189/200\n",
      "1/1 [==============================] - 0s 42ms/step - loss: 0.2969 - accuracy: 0.9828 - val_loss: 0.5878 - val_accuracy: 0.8966\n",
      "Epoch 190/200\n",
      "1/1 [==============================] - 0s 42ms/step - loss: 0.2835 - accuracy: 1.0000 - val_loss: 0.5477 - val_accuracy: 0.9310\n",
      "Epoch 191/200\n",
      "1/1 [==============================] - 0s 43ms/step - loss: 0.2875 - accuracy: 1.0000 - val_loss: 0.5398 - val_accuracy: 0.9310\n",
      "Epoch 192/200\n",
      "1/1 [==============================] - 0s 43ms/step - loss: 0.2906 - accuracy: 1.0000 - val_loss: 0.5553 - val_accuracy: 0.9310\n",
      "Epoch 193/200\n",
      "1/1 [==============================] - 0s 42ms/step - loss: 0.2835 - accuracy: 1.0000 - val_loss: 0.6184 - val_accuracy: 0.8276\n",
      "Epoch 194/200\n",
      "1/1 [==============================] - 0s 43ms/step - loss: 0.3026 - accuracy: 0.9828 - val_loss: 0.5592 - val_accuracy: 0.9310\n",
      "Epoch 195/200\n",
      "1/1 [==============================] - 0s 44ms/step - loss: 0.2890 - accuracy: 1.0000 - val_loss: 0.5242 - val_accuracy: 0.9310\n",
      "Epoch 196/200\n",
      "1/1 [==============================] - 0s 42ms/step - loss: 0.2993 - accuracy: 0.9828 - val_loss: 0.5203 - val_accuracy: 0.9310\n",
      "Epoch 197/200\n",
      "1/1 [==============================] - 0s 42ms/step - loss: 0.2917 - accuracy: 1.0000 - val_loss: 0.5557 - val_accuracy: 0.9310\n",
      "Epoch 198/200\n",
      "1/1 [==============================] - 0s 44ms/step - loss: 0.3040 - accuracy: 1.0000 - val_loss: 0.5793 - val_accuracy: 0.8966\n",
      "Epoch 199/200\n",
      "1/1 [==============================] - 0s 43ms/step - loss: 0.3023 - accuracy: 1.0000 - val_loss: 0.5131 - val_accuracy: 0.9310\n",
      "Epoch 200/200\n",
      "1/1 [==============================] - 0s 42ms/step - loss: 0.2927 - accuracy: 1.0000 - val_loss: 0.5082 - val_accuracy: 0.9310\n",
      "Most important variables:  [ 5  9  8 10 12 17 13 11  6  0]\n"
     ]
    }
   ],
   "source": [
    "VIANN = VarImpVIANN(verbose=1)\n",
    "model_3_EG.compile(optimizer='adam',\n",
    "              loss='binary_crossentropy',\n",
    "              metrics=['accuracy'])\n",
    "hist_4 = model_3_EG.fit(X_train2, y_traindm2,\n",
    "          batch_size=58, epochs=200,\n",
    "          validation_data=(X_val2, y_valdm2), callbacks=[VIANN])"
   ]
  },
  {
   "cell_type": "code",
   "execution_count": 95,
   "metadata": {
    "scrolled": true
   },
   "outputs": [
    {
     "data": {
      "image/png": "[encoded data removed]",
      "text/plain": [
       "<Figure size 460.8x316.8 with 1 Axes>"
      ]
     },
     "metadata": {
      "needs_background": "light"
     },
     "output_type": "display_data"
    }
   ],
   "source": [
    "plt.plot(hist_4.history['loss'])\n",
    "plt.plot(hist_4.history['val_loss'])\n",
    "plt.title('Model loss')\n",
    "plt.ylabel('Loss')\n",
    "plt.xlabel('Epoch')\n",
    "plt.legend(['Train', 'Val'], loc='upper right')\n",
    "plt.ylim(top=10, bottom=0)\n",
    "plt.show()"
   ]
  },
  {
   "cell_type": "code",
   "execution_count": 96,
   "metadata": {
    "scrolled": true
   },
   "outputs": [
    {
     "data": {
      "image/png": "[encoded data removed]",
      "text/plain": [
       "<Figure size 460.8x316.8 with 1 Axes>"
      ]
     },
     "metadata": {
      "needs_background": "light"
     },
     "output_type": "display_data"
    }
   ],
   "source": [
    "plt.plot(hist_4.history['accuracy'])\n",
    "plt.plot(hist_4.history['val_accuracy'])\n",
    "plt.title('Model accuracy')\n",
    "plt.ylabel('Accuracy')\n",
    "plt.xlabel('Epoch')\n",
    "plt.legend(['Train', 'Val'], loc='lower right')\n",
    "plt.show()"
   ]
  },
  {
   "cell_type": "code",
   "execution_count": 97,
   "metadata": {
    "scrolled": true
   },
   "outputs": [
    {
     "name": "stdout",
     "output_type": "stream",
     "text": [
      "1/1 [==============================] - 0s 14ms/step - loss: 0.3306 - accuracy: 0.9655\n"
     ]
    },
    {
     "data": {
      "text/plain": [
       "0.9655172228813171"
      ]
     },
     "execution_count": 97,
     "metadata": {},
     "output_type": "execute_result"
    }
   ],
   "source": [
    "model_3_EG.evaluate(X_test2, y_testdm2)[1]"
   ]
  },
  {
   "cell_type": "markdown",
   "metadata": {},
   "source": [
    "**Re-split model loss and accuracy are consistent with previous results.**"
   ]
  },
  {
   "cell_type": "markdown",
   "metadata": {},
   "source": [
    "## Re-Split Data and Verify Results Again (Split number 3)"
   ]
  },
  {
   "cell_type": "markdown",
   "metadata": {},
   "source": [
    "**Shuffle Split**"
   ]
  },
  {
   "cell_type": "code",
   "execution_count": 98,
   "metadata": {
    "scrolled": true
   },
   "outputs": [
    {
     "data": {
      "text/plain": [
       "1"
      ]
     },
     "execution_count": 98,
     "metadata": {},
     "output_type": "execute_result"
    }
   ],
   "source": [
    "sss3 = StratifiedShuffleSplit(n_splits=1, test_size=0.5, random_state=333)\n",
    "sss3.get_n_splits(X, y['Diamond_High'])"
   ]
  },
  {
   "cell_type": "code",
   "execution_count": 99,
   "metadata": {
    "scrolled": true
   },
   "outputs": [
    {
     "name": "stdout",
     "output_type": "stream",
     "text": [
      "StratifiedShuffleSplit(n_splits=1, random_state=333, test_size=0.5,\n",
      "            train_size=None)\n"
     ]
    }
   ],
   "source": [
    "print(sss3)"
   ]
  },
  {
   "cell_type": "code",
   "execution_count": 100,
   "metadata": {
    "scrolled": true
   },
   "outputs": [
    {
     "name": "stdout",
     "output_type": "stream",
     "text": [
      "TRAIN: [ 62  56  72   2 113  59  18  53 100  32  21  79  43   6 112  80  75  89\n",
      "  54  33   0  47  64  60  44  38  58  30  99  73 115  68  63  97  55  31\n",
      "  14  94  24  17  82  42  74  13  76  23  85  28 111  91  40  69  48  88\n",
      " 101  29  37   5] TESTVAL: [ 26 103  90  19  86  15  96  98  39  35  78  41   3   9   7  70  16 109\n",
      "   4  36  50   1  93  57  49 102  92  34  22   8 114 107  84  95  77  52\n",
      "  67  25  61  45  10 104  20 106  66 108  83  11  51  71  87 105  27  81\n",
      " 110  46  65  12]\n"
     ]
    }
   ],
   "source": [
    "for train_index, test_index in sss3.split(X, y):\n",
    "     print(\"TRAIN:\", train_index, \"TESTVAL:\", test_index)\n",
    "     X_train3, X_testval3 = X.iloc[train_index], X.iloc[test_index]\n",
    "     y_train3, y_testval3 = y.iloc[train_index], y.iloc[test_index]"
   ]
  },
  {
   "cell_type": "markdown",
   "metadata": {},
   "source": [
    "**Split testval into test and validation sets**"
   ]
  },
  {
   "cell_type": "code",
   "execution_count": 101,
   "metadata": {
    "scrolled": true
   },
   "outputs": [
    {
     "name": "stdout",
     "output_type": "stream",
     "text": [
      "TEST: [42 39  1 40 12 23  4 20 29  2 45 57 38 16 19 52 44 41  7 15 53  9 34 55\n",
      " 28 26 30 49 47] VAL: [17 37 18 22 43 14  5  0 46 10  8 27 32 51  3 35 13 56 11 48 31 24 21 25\n",
      " 33 54 36  6 50]\n"
     ]
    }
   ],
   "source": [
    "for train_index, test_index in sss.split(X_testval3, y_testval3):\n",
    "     print(\"TEST:\", train_index, \"VAL:\", test_index)\n",
    "     X_test3, X_val3 = X_testval3.iloc[train_index], X_testval3.iloc[test_index]\n",
    "     y_test3, y_val3 = y_testval3.iloc[train_index], y_testval3.iloc[test_index]"
   ]
  },
  {
   "cell_type": "markdown",
   "metadata": {},
   "source": [
    "**Next encode the categorical variablesfor diamond content, yes and no, using one hot vector multilabel. The data is split first then one hot encoded since the split function cannot handle more than one Y column.**"
   ]
  },
  {
   "cell_type": "code",
   "execution_count": 102,
   "metadata": {
    "scrolled": true
   },
   "outputs": [
    {
     "data": {
      "text/html": [
       "<div>\n",
       "<style scoped>\n",
       "    .dataframe tbody tr th:only-of-type {\n",
       "        vertical-align: middle;\n",
       "    }\n",
       "\n",
       "    .dataframe tbody tr th {\n",
       "        vertical-align: top;\n",
       "    }\n",
       "\n",
       "    .dataframe thead th {\n",
       "        text-align: right;\n",
       "    }\n",
       "</style>\n",
       "<table border=\"1\" class=\"dataframe\">\n",
       "  <thead>\n",
       "    <tr style=\"text-align: right;\">\n",
       "      <th></th>\n",
       "      <th>diamond_no</th>\n",
       "      <th>diamond_yes</th>\n",
       "    </tr>\n",
       "  </thead>\n",
       "  <tbody>\n",
       "    <tr>\n",
       "      <th>62</th>\n",
       "      <td>1</td>\n",
       "      <td>0</td>\n",
       "    </tr>\n",
       "    <tr>\n",
       "      <th>56</th>\n",
       "      <td>0</td>\n",
       "      <td>1</td>\n",
       "    </tr>\n",
       "    <tr>\n",
       "      <th>72</th>\n",
       "      <td>1</td>\n",
       "      <td>0</td>\n",
       "    </tr>\n",
       "    <tr>\n",
       "      <th>2</th>\n",
       "      <td>0</td>\n",
       "      <td>1</td>\n",
       "    </tr>\n",
       "    <tr>\n",
       "      <th>113</th>\n",
       "      <td>1</td>\n",
       "      <td>0</td>\n",
       "    </tr>\n",
       "  </tbody>\n",
       "</table>\n",
       "</div>"
      ],
      "text/plain": [
       "     diamond_no  diamond_yes\n",
       "62            1            0\n",
       "56            0            1\n",
       "72            1            0\n",
       "2             0            1\n",
       "113           1            0"
      ]
     },
     "execution_count": 102,
     "metadata": {},
     "output_type": "execute_result"
    }
   ],
   "source": [
    "y_traindm3 = pd.get_dummies(y_train3['Diamond_High'], prefix = 'diamond')\n",
    "y_traindm3.head(5)"
   ]
  },
  {
   "cell_type": "code",
   "execution_count": 103,
   "metadata": {
    "scrolled": true
   },
   "outputs": [
    {
     "data": {
      "text/html": [
       "<div>\n",
       "<style scoped>\n",
       "    .dataframe tbody tr th:only-of-type {\n",
       "        vertical-align: middle;\n",
       "    }\n",
       "\n",
       "    .dataframe tbody tr th {\n",
       "        vertical-align: top;\n",
       "    }\n",
       "\n",
       "    .dataframe thead th {\n",
       "        text-align: right;\n",
       "    }\n",
       "</style>\n",
       "<table border=\"1\" class=\"dataframe\">\n",
       "  <thead>\n",
       "    <tr style=\"text-align: right;\">\n",
       "      <th></th>\n",
       "      <th>Na_clr</th>\n",
       "      <th>Mg_clr</th>\n",
       "      <th>Al_clr</th>\n",
       "      <th>Si_clr</th>\n",
       "      <th>Ca_clr</th>\n",
       "      <th>Sc_clr</th>\n",
       "      <th>Ti_clr</th>\n",
       "      <th>Mn_clr</th>\n",
       "      <th>Sr_clr</th>\n",
       "      <th>Y_clr</th>\n",
       "      <th>...</th>\n",
       "      <th>Nd_clr</th>\n",
       "      <th>Eu_clr</th>\n",
       "      <th>Gd_clr</th>\n",
       "      <th>Tb_clr</th>\n",
       "      <th>Dy_clr</th>\n",
       "      <th>Ho_clr</th>\n",
       "      <th>Er_clr</th>\n",
       "      <th>Yb_clr</th>\n",
       "      <th>Lu_clr</th>\n",
       "      <th>Ta_clr</th>\n",
       "    </tr>\n",
       "  </thead>\n",
       "  <tbody>\n",
       "    <tr>\n",
       "      <th>62</th>\n",
       "      <td>2.573494</td>\n",
       "      <td>7.446205</td>\n",
       "      <td>7.985973</td>\n",
       "      <td>8.986173</td>\n",
       "      <td>7.877644</td>\n",
       "      <td>0.887044</td>\n",
       "      <td>3.305657</td>\n",
       "      <td>4.666753</td>\n",
       "      <td>0.204905</td>\n",
       "      <td>-2.129035</td>\n",
       "      <td>...</td>\n",
       "      <td>-2.716822</td>\n",
       "      <td>-3.423392</td>\n",
       "      <td>-1.886816</td>\n",
       "      <td>-3.320738</td>\n",
       "      <td>-1.467876</td>\n",
       "      <td>-2.771630</td>\n",
       "      <td>-1.922322</td>\n",
       "      <td>-1.751106</td>\n",
       "      <td>-3.522765</td>\n",
       "      <td>-8.418463</td>\n",
       "    </tr>\n",
       "    <tr>\n",
       "      <th>56</th>\n",
       "      <td>3.712454</td>\n",
       "      <td>7.285341</td>\n",
       "      <td>7.792426</td>\n",
       "      <td>8.752306</td>\n",
       "      <td>7.845923</td>\n",
       "      <td>0.781572</td>\n",
       "      <td>4.650940</td>\n",
       "      <td>4.189808</td>\n",
       "      <td>-0.634774</td>\n",
       "      <td>-1.299429</td>\n",
       "      <td>...</td>\n",
       "      <td>-3.133260</td>\n",
       "      <td>-4.347704</td>\n",
       "      <td>-3.240358</td>\n",
       "      <td>-4.727194</td>\n",
       "      <td>-2.504651</td>\n",
       "      <td>-3.842155</td>\n",
       "      <td>-2.717432</td>\n",
       "      <td>-2.447956</td>\n",
       "      <td>-4.374372</td>\n",
       "      <td>-6.039380</td>\n",
       "    </tr>\n",
       "    <tr>\n",
       "      <th>72</th>\n",
       "      <td>3.456842</td>\n",
       "      <td>8.653091</td>\n",
       "      <td>8.844435</td>\n",
       "      <td>9.836221</td>\n",
       "      <td>1.503258</td>\n",
       "      <td>4.628216</td>\n",
       "      <td>1.990932</td>\n",
       "      <td>5.121911</td>\n",
       "      <td>-0.229632</td>\n",
       "      <td>-0.186356</td>\n",
       "      <td>...</td>\n",
       "      <td>-2.600859</td>\n",
       "      <td>-3.376245</td>\n",
       "      <td>-2.500776</td>\n",
       "      <td>-3.935860</td>\n",
       "      <td>-2.018938</td>\n",
       "      <td>-3.497605</td>\n",
       "      <td>-2.377716</td>\n",
       "      <td>-2.420733</td>\n",
       "      <td>-4.366643</td>\n",
       "      <td>-6.931593</td>\n",
       "    </tr>\n",
       "    <tr>\n",
       "      <th>2</th>\n",
       "      <td>3.839299</td>\n",
       "      <td>8.474785</td>\n",
       "      <td>8.725201</td>\n",
       "      <td>9.688373</td>\n",
       "      <td>8.107743</td>\n",
       "      <td>1.039733</td>\n",
       "      <td>4.717389</td>\n",
       "      <td>4.451784</td>\n",
       "      <td>-3.645976</td>\n",
       "      <td>-0.881484</td>\n",
       "      <td>...</td>\n",
       "      <td>-2.817283</td>\n",
       "      <td>-4.515013</td>\n",
       "      <td>-3.090979</td>\n",
       "      <td>-4.595056</td>\n",
       "      <td>-2.890308</td>\n",
       "      <td>-4.246749</td>\n",
       "      <td>-3.188143</td>\n",
       "      <td>-3.342293</td>\n",
       "      <td>-5.288203</td>\n",
       "      <td>-5.981351</td>\n",
       "    </tr>\n",
       "    <tr>\n",
       "      <th>113</th>\n",
       "      <td>2.636879</td>\n",
       "      <td>8.279644</td>\n",
       "      <td>8.163780</td>\n",
       "      <td>9.250662</td>\n",
       "      <td>7.332864</td>\n",
       "      <td>1.543509</td>\n",
       "      <td>3.462128</td>\n",
       "      <td>5.046141</td>\n",
       "      <td>-3.911456</td>\n",
       "      <td>-0.325625</td>\n",
       "      <td>...</td>\n",
       "      <td>-3.367840</td>\n",
       "      <td>-4.093777</td>\n",
       "      <td>-2.296478</td>\n",
       "      <td>-3.998467</td>\n",
       "      <td>-2.022704</td>\n",
       "      <td>-3.710785</td>\n",
       "      <td>-2.567721</td>\n",
       "      <td>-2.407378</td>\n",
       "      <td>-3.884057</td>\n",
       "      <td>-8.637125</td>\n",
       "    </tr>\n",
       "  </tbody>\n",
       "</table>\n",
       "<p>5 rows × 22 columns</p>\n",
       "</div>"
      ],
      "text/plain": [
       "       Na_clr    Mg_clr    Al_clr    Si_clr    Ca_clr    Sc_clr    Ti_clr  \\\n",
       "62   2.573494  7.446205  7.985973  8.986173  7.877644  0.887044  3.305657   \n",
       "56   3.712454  7.285341  7.792426  8.752306  7.845923  0.781572  4.650940   \n",
       "72   3.456842  8.653091  8.844435  9.836221  1.503258  4.628216  1.990932   \n",
       "2    3.839299  8.474785  8.725201  9.688373  8.107743  1.039733  4.717389   \n",
       "113  2.636879  8.279644  8.163780  9.250662  7.332864  1.543509  3.462128   \n",
       "\n",
       "       Mn_clr    Sr_clr     Y_clr  ...    Nd_clr    Eu_clr    Gd_clr  \\\n",
       "62   4.666753  0.204905 -2.129035  ... -2.716822 -3.423392 -1.886816   \n",
       "56   4.189808 -0.634774 -1.299429  ... -3.133260 -4.347704 -3.240358   \n",
       "72   5.121911 -0.229632 -0.186356  ... -2.600859 -3.376245 -2.500776   \n",
       "2    4.451784 -3.645976 -0.881484  ... -2.817283 -4.515013 -3.090979   \n",
       "113  5.046141 -3.911456 -0.325625  ... -3.367840 -4.093777 -2.296478   \n",
       "\n",
       "       Tb_clr    Dy_clr    Ho_clr    Er_clr    Yb_clr    Lu_clr    Ta_clr  \n",
       "62  -3.320738 -1.467876 -2.771630 -1.922322 -1.751106 -3.522765 -8.418463  \n",
       "56  -4.727194 -2.504651 -3.842155 -2.717432 -2.447956 -4.374372 -6.039380  \n",
       "72  -3.935860 -2.018938 -3.497605 -2.377716 -2.420733 -4.366643 -6.931593  \n",
       "2   -4.595056 -2.890308 -4.246749 -3.188143 -3.342293 -5.288203 -5.981351  \n",
       "113 -3.998467 -2.022704 -3.710785 -2.567721 -2.407378 -3.884057 -8.637125  \n",
       "\n",
       "[5 rows x 22 columns]"
      ]
     },
     "execution_count": 103,
     "metadata": {},
     "output_type": "execute_result"
    }
   ],
   "source": [
    "X_train3.head(5)"
   ]
  },
  {
   "cell_type": "code",
   "execution_count": 104,
   "metadata": {
    "scrolled": true
   },
   "outputs": [
    {
     "data": {
      "text/html": [
       "<div>\n",
       "<style scoped>\n",
       "    .dataframe tbody tr th:only-of-type {\n",
       "        vertical-align: middle;\n",
       "    }\n",
       "\n",
       "    .dataframe tbody tr th {\n",
       "        vertical-align: top;\n",
       "    }\n",
       "\n",
       "    .dataframe thead th {\n",
       "        text-align: right;\n",
       "    }\n",
       "</style>\n",
       "<table border=\"1\" class=\"dataframe\">\n",
       "  <thead>\n",
       "    <tr style=\"text-align: right;\">\n",
       "      <th></th>\n",
       "      <th>diamond_no</th>\n",
       "      <th>diamond_yes</th>\n",
       "    </tr>\n",
       "  </thead>\n",
       "  <tbody>\n",
       "    <tr>\n",
       "      <th>20</th>\n",
       "      <td>0</td>\n",
       "      <td>1</td>\n",
       "    </tr>\n",
       "    <tr>\n",
       "      <th>45</th>\n",
       "      <td>0</td>\n",
       "      <td>1</td>\n",
       "    </tr>\n",
       "    <tr>\n",
       "      <th>103</th>\n",
       "      <td>1</td>\n",
       "      <td>0</td>\n",
       "    </tr>\n",
       "    <tr>\n",
       "      <th>10</th>\n",
       "      <td>0</td>\n",
       "      <td>1</td>\n",
       "    </tr>\n",
       "    <tr>\n",
       "      <th>3</th>\n",
       "      <td>0</td>\n",
       "      <td>1</td>\n",
       "    </tr>\n",
       "  </tbody>\n",
       "</table>\n",
       "</div>"
      ],
      "text/plain": [
       "     diamond_no  diamond_yes\n",
       "20            0            1\n",
       "45            0            1\n",
       "103           1            0\n",
       "10            0            1\n",
       "3             0            1"
      ]
     },
     "execution_count": 104,
     "metadata": {},
     "output_type": "execute_result"
    }
   ],
   "source": [
    "y_testdm3 = pd.get_dummies(y_test3['Diamond_High'], prefix = 'diamond')\n",
    "y_testdm3.head(5)"
   ]
  },
  {
   "cell_type": "code",
   "execution_count": 105,
   "metadata": {
    "scrolled": true
   },
   "outputs": [
    {
     "data": {
      "text/html": [
       "<div>\n",
       "<style scoped>\n",
       "    .dataframe tbody tr th:only-of-type {\n",
       "        vertical-align: middle;\n",
       "    }\n",
       "\n",
       "    .dataframe tbody tr th {\n",
       "        vertical-align: top;\n",
       "    }\n",
       "\n",
       "    .dataframe thead th {\n",
       "        text-align: right;\n",
       "    }\n",
       "</style>\n",
       "<table border=\"1\" class=\"dataframe\">\n",
       "  <thead>\n",
       "    <tr style=\"text-align: right;\">\n",
       "      <th></th>\n",
       "      <th>Na_clr</th>\n",
       "      <th>Mg_clr</th>\n",
       "      <th>Al_clr</th>\n",
       "      <th>Si_clr</th>\n",
       "      <th>Ca_clr</th>\n",
       "      <th>Sc_clr</th>\n",
       "      <th>Ti_clr</th>\n",
       "      <th>Mn_clr</th>\n",
       "      <th>Sr_clr</th>\n",
       "      <th>Y_clr</th>\n",
       "      <th>...</th>\n",
       "      <th>Nd_clr</th>\n",
       "      <th>Eu_clr</th>\n",
       "      <th>Gd_clr</th>\n",
       "      <th>Tb_clr</th>\n",
       "      <th>Dy_clr</th>\n",
       "      <th>Ho_clr</th>\n",
       "      <th>Er_clr</th>\n",
       "      <th>Yb_clr</th>\n",
       "      <th>Lu_clr</th>\n",
       "      <th>Ta_clr</th>\n",
       "    </tr>\n",
       "  </thead>\n",
       "  <tbody>\n",
       "    <tr>\n",
       "      <th>20</th>\n",
       "      <td>2.987337</td>\n",
       "      <td>7.836144</td>\n",
       "      <td>8.350412</td>\n",
       "      <td>9.360468</td>\n",
       "      <td>7.564681</td>\n",
       "      <td>0.367011</td>\n",
       "      <td>4.852001</td>\n",
       "      <td>4.283706</td>\n",
       "      <td>-3.898226</td>\n",
       "      <td>-0.232336</td>\n",
       "      <td>...</td>\n",
       "      <td>-3.482711</td>\n",
       "      <td>-4.450295</td>\n",
       "      <td>-3.283860</td>\n",
       "      <td>-4.622145</td>\n",
       "      <td>-2.207348</td>\n",
       "      <td>-3.482711</td>\n",
       "      <td>-2.357781</td>\n",
       "      <td>-2.052400</td>\n",
       "      <td>-3.960747</td>\n",
       "      <td>-6.701587</td>\n",
       "    </tr>\n",
       "    <tr>\n",
       "      <th>45</th>\n",
       "      <td>2.762111</td>\n",
       "      <td>6.676870</td>\n",
       "      <td>7.224950</td>\n",
       "      <td>8.139179</td>\n",
       "      <td>6.976534</td>\n",
       "      <td>0.163753</td>\n",
       "      <td>3.754397</td>\n",
       "      <td>3.877610</td>\n",
       "      <td>-0.094745</td>\n",
       "      <td>-0.434331</td>\n",
       "      <td>...</td>\n",
       "      <td>-3.034840</td>\n",
       "      <td>-4.121756</td>\n",
       "      <td>-2.538233</td>\n",
       "      <td>-3.941374</td>\n",
       "      <td>-1.921951</td>\n",
       "      <td>-3.355748</td>\n",
       "      <td>-2.291969</td>\n",
       "      <td>-2.184186</td>\n",
       "      <td>-4.110195</td>\n",
       "      <td>-6.011154</td>\n",
       "    </tr>\n",
       "    <tr>\n",
       "      <th>103</th>\n",
       "      <td>4.953507</td>\n",
       "      <td>7.951012</td>\n",
       "      <td>7.976612</td>\n",
       "      <td>9.055139</td>\n",
       "      <td>7.285973</td>\n",
       "      <td>1.931952</td>\n",
       "      <td>3.301046</td>\n",
       "      <td>4.943127</td>\n",
       "      <td>-0.707635</td>\n",
       "      <td>-0.827740</td>\n",
       "      <td>...</td>\n",
       "      <td>-3.840350</td>\n",
       "      <td>-5.292603</td>\n",
       "      <td>-4.224762</td>\n",
       "      <td>-5.125549</td>\n",
       "      <td>-2.700065</td>\n",
       "      <td>-4.106979</td>\n",
       "      <td>-2.830686</td>\n",
       "      <td>-2.315220</td>\n",
       "      <td>-3.929298</td>\n",
       "      <td>-8.205232</td>\n",
       "    </tr>\n",
       "    <tr>\n",
       "      <th>10</th>\n",
       "      <td>4.180842</td>\n",
       "      <td>8.302575</td>\n",
       "      <td>8.798142</td>\n",
       "      <td>9.720833</td>\n",
       "      <td>8.822607</td>\n",
       "      <td>0.012604</td>\n",
       "      <td>4.542149</td>\n",
       "      <td>3.988523</td>\n",
       "      <td>-2.595240</td>\n",
       "      <td>-1.141505</td>\n",
       "      <td>...</td>\n",
       "      <td>-2.189775</td>\n",
       "      <td>-3.717383</td>\n",
       "      <td>-2.786908</td>\n",
       "      <td>-4.276999</td>\n",
       "      <td>-2.630747</td>\n",
       "      <td>-4.341538</td>\n",
       "      <td>-3.553080</td>\n",
       "      <td>-3.871534</td>\n",
       "      <td>-5.950975</td>\n",
       "      <td>-5.440150</td>\n",
       "    </tr>\n",
       "    <tr>\n",
       "      <th>3</th>\n",
       "      <td>2.863625</td>\n",
       "      <td>7.820708</td>\n",
       "      <td>8.395218</td>\n",
       "      <td>9.316535</td>\n",
       "      <td>8.164154</td>\n",
       "      <td>0.927217</td>\n",
       "      <td>4.332200</td>\n",
       "      <td>4.119983</td>\n",
       "      <td>-1.767456</td>\n",
       "      <td>-1.100420</td>\n",
       "      <td>...</td>\n",
       "      <td>-2.687189</td>\n",
       "      <td>-4.144943</td>\n",
       "      <td>-3.178100</td>\n",
       "      <td>-4.875830</td>\n",
       "      <td>-2.866069</td>\n",
       "      <td>-4.550408</td>\n",
       "      <td>-3.281896</td>\n",
       "      <td>-3.329906</td>\n",
       "      <td>-4.955873</td>\n",
       "      <td>-6.054485</td>\n",
       "    </tr>\n",
       "  </tbody>\n",
       "</table>\n",
       "<p>5 rows × 22 columns</p>\n",
       "</div>"
      ],
      "text/plain": [
       "       Na_clr    Mg_clr    Al_clr    Si_clr    Ca_clr    Sc_clr    Ti_clr  \\\n",
       "20   2.987337  7.836144  8.350412  9.360468  7.564681  0.367011  4.852001   \n",
       "45   2.762111  6.676870  7.224950  8.139179  6.976534  0.163753  3.754397   \n",
       "103  4.953507  7.951012  7.976612  9.055139  7.285973  1.931952  3.301046   \n",
       "10   4.180842  8.302575  8.798142  9.720833  8.822607  0.012604  4.542149   \n",
       "3    2.863625  7.820708  8.395218  9.316535  8.164154  0.927217  4.332200   \n",
       "\n",
       "       Mn_clr    Sr_clr     Y_clr  ...    Nd_clr    Eu_clr    Gd_clr  \\\n",
       "20   4.283706 -3.898226 -0.232336  ... -3.482711 -4.450295 -3.283860   \n",
       "45   3.877610 -0.094745 -0.434331  ... -3.034840 -4.121756 -2.538233   \n",
       "103  4.943127 -0.707635 -0.827740  ... -3.840350 -5.292603 -4.224762   \n",
       "10   3.988523 -2.595240 -1.141505  ... -2.189775 -3.717383 -2.786908   \n",
       "3    4.119983 -1.767456 -1.100420  ... -2.687189 -4.144943 -3.178100   \n",
       "\n",
       "       Tb_clr    Dy_clr    Ho_clr    Er_clr    Yb_clr    Lu_clr    Ta_clr  \n",
       "20  -4.622145 -2.207348 -3.482711 -2.357781 -2.052400 -3.960747 -6.701587  \n",
       "45  -3.941374 -1.921951 -3.355748 -2.291969 -2.184186 -4.110195 -6.011154  \n",
       "103 -5.125549 -2.700065 -4.106979 -2.830686 -2.315220 -3.929298 -8.205232  \n",
       "10  -4.276999 -2.630747 -4.341538 -3.553080 -3.871534 -5.950975 -5.440150  \n",
       "3   -4.875830 -2.866069 -4.550408 -3.281896 -3.329906 -4.955873 -6.054485  \n",
       "\n",
       "[5 rows x 22 columns]"
      ]
     },
     "execution_count": 105,
     "metadata": {},
     "output_type": "execute_result"
    }
   ],
   "source": [
    "X_test3.head(5)"
   ]
  },
  {
   "cell_type": "code",
   "execution_count": 106,
   "metadata": {
    "scrolled": true
   },
   "outputs": [
    {
     "data": {
      "text/html": [
       "<div>\n",
       "<style scoped>\n",
       "    .dataframe tbody tr th:only-of-type {\n",
       "        vertical-align: middle;\n",
       "    }\n",
       "\n",
       "    .dataframe tbody tr th {\n",
       "        vertical-align: top;\n",
       "    }\n",
       "\n",
       "    .dataframe thead th {\n",
       "        text-align: right;\n",
       "    }\n",
       "</style>\n",
       "<table border=\"1\" class=\"dataframe\">\n",
       "  <thead>\n",
       "    <tr style=\"text-align: right;\">\n",
       "      <th></th>\n",
       "      <th>diamond_no</th>\n",
       "      <th>diamond_yes</th>\n",
       "    </tr>\n",
       "  </thead>\n",
       "  <tbody>\n",
       "    <tr>\n",
       "      <th>109</th>\n",
       "      <td>1</td>\n",
       "      <td>0</td>\n",
       "    </tr>\n",
       "    <tr>\n",
       "      <th>25</th>\n",
       "      <td>0</td>\n",
       "      <td>1</td>\n",
       "    </tr>\n",
       "    <tr>\n",
       "      <th>4</th>\n",
       "      <td>0</td>\n",
       "      <td>1</td>\n",
       "    </tr>\n",
       "    <tr>\n",
       "      <th>93</th>\n",
       "      <td>1</td>\n",
       "      <td>0</td>\n",
       "    </tr>\n",
       "    <tr>\n",
       "      <th>106</th>\n",
       "      <td>1</td>\n",
       "      <td>0</td>\n",
       "    </tr>\n",
       "  </tbody>\n",
       "</table>\n",
       "</div>"
      ],
      "text/plain": [
       "     diamond_no  diamond_yes\n",
       "109           1            0\n",
       "25            0            1\n",
       "4             0            1\n",
       "93            1            0\n",
       "106           1            0"
      ]
     },
     "execution_count": 106,
     "metadata": {},
     "output_type": "execute_result"
    }
   ],
   "source": [
    "y_valdm3 = pd.get_dummies(y_val3['Diamond_High'], prefix = 'diamond')\n",
    "y_valdm3.head(5)"
   ]
  },
  {
   "cell_type": "code",
   "execution_count": 107,
   "metadata": {
    "scrolled": true
   },
   "outputs": [
    {
     "data": {
      "text/html": [
       "<div>\n",
       "<style scoped>\n",
       "    .dataframe tbody tr th:only-of-type {\n",
       "        vertical-align: middle;\n",
       "    }\n",
       "\n",
       "    .dataframe tbody tr th {\n",
       "        vertical-align: top;\n",
       "    }\n",
       "\n",
       "    .dataframe thead th {\n",
       "        text-align: right;\n",
       "    }\n",
       "</style>\n",
       "<table border=\"1\" class=\"dataframe\">\n",
       "  <thead>\n",
       "    <tr style=\"text-align: right;\">\n",
       "      <th></th>\n",
       "      <th>Na_clr</th>\n",
       "      <th>Mg_clr</th>\n",
       "      <th>Al_clr</th>\n",
       "      <th>Si_clr</th>\n",
       "      <th>Ca_clr</th>\n",
       "      <th>Sc_clr</th>\n",
       "      <th>Ti_clr</th>\n",
       "      <th>Mn_clr</th>\n",
       "      <th>Sr_clr</th>\n",
       "      <th>Y_clr</th>\n",
       "      <th>...</th>\n",
       "      <th>Nd_clr</th>\n",
       "      <th>Eu_clr</th>\n",
       "      <th>Gd_clr</th>\n",
       "      <th>Tb_clr</th>\n",
       "      <th>Dy_clr</th>\n",
       "      <th>Ho_clr</th>\n",
       "      <th>Er_clr</th>\n",
       "      <th>Yb_clr</th>\n",
       "      <th>Lu_clr</th>\n",
       "      <th>Ta_clr</th>\n",
       "    </tr>\n",
       "  </thead>\n",
       "  <tbody>\n",
       "    <tr>\n",
       "      <th>109</th>\n",
       "      <td>2.274170</td>\n",
       "      <td>7.953645</td>\n",
       "      <td>7.896628</td>\n",
       "      <td>8.882147</td>\n",
       "      <td>7.104743</td>\n",
       "      <td>1.171477</td>\n",
       "      <td>3.398866</td>\n",
       "      <td>4.518214</td>\n",
       "      <td>-1.471593</td>\n",
       "      <td>-0.567965</td>\n",
       "      <td>...</td>\n",
       "      <td>-3.156668</td>\n",
       "      <td>-3.963144</td>\n",
       "      <td>-2.607309</td>\n",
       "      <td>-4.137498</td>\n",
       "      <td>-2.699018</td>\n",
       "      <td>-3.375358</td>\n",
       "      <td>-2.591964</td>\n",
       "      <td>-2.781417</td>\n",
       "      <td>-4.656291</td>\n",
       "      <td>-8.127328</td>\n",
       "    </tr>\n",
       "    <tr>\n",
       "      <th>25</th>\n",
       "      <td>3.155656</td>\n",
       "      <td>6.792351</td>\n",
       "      <td>7.728522</td>\n",
       "      <td>8.689833</td>\n",
       "      <td>6.902087</td>\n",
       "      <td>0.502686</td>\n",
       "      <td>1.954843</td>\n",
       "      <td>4.577170</td>\n",
       "      <td>-5.220288</td>\n",
       "      <td>0.864700</td>\n",
       "      <td>...</td>\n",
       "      <td>-3.170494</td>\n",
       "      <td>-3.619187</td>\n",
       "      <td>-1.753894</td>\n",
       "      <td>-3.162831</td>\n",
       "      <td>-1.095871</td>\n",
       "      <td>-2.443317</td>\n",
       "      <td>-1.272989</td>\n",
       "      <td>-0.971561</td>\n",
       "      <td>-2.770170</td>\n",
       "      <td>-9.189917</td>\n",
       "    </tr>\n",
       "    <tr>\n",
       "      <th>4</th>\n",
       "      <td>3.959154</td>\n",
       "      <td>7.582180</td>\n",
       "      <td>8.231887</td>\n",
       "      <td>9.187019</td>\n",
       "      <td>7.661038</td>\n",
       "      <td>0.638427</td>\n",
       "      <td>4.668046</td>\n",
       "      <td>4.501715</td>\n",
       "      <td>-3.854135</td>\n",
       "      <td>0.369409</td>\n",
       "      <td>...</td>\n",
       "      <td>-3.959495</td>\n",
       "      <td>-4.451972</td>\n",
       "      <td>-3.482571</td>\n",
       "      <td>-4.077278</td>\n",
       "      <td>-1.725903</td>\n",
       "      <td>-2.958047</td>\n",
       "      <td>-1.790441</td>\n",
       "      <td>-1.693689</td>\n",
       "      <td>-3.630991</td>\n",
       "      <td>-7.543014</td>\n",
       "    </tr>\n",
       "    <tr>\n",
       "      <th>93</th>\n",
       "      <td>5.281962</td>\n",
       "      <td>8.589268</td>\n",
       "      <td>8.500139</td>\n",
       "      <td>9.497085</td>\n",
       "      <td>7.285629</td>\n",
       "      <td>1.036535</td>\n",
       "      <td>4.364274</td>\n",
       "      <td>4.954873</td>\n",
       "      <td>-3.257831</td>\n",
       "      <td>-0.512393</td>\n",
       "      <td>...</td>\n",
       "      <td>-3.849196</td>\n",
       "      <td>-4.064307</td>\n",
       "      <td>-3.006517</td>\n",
       "      <td>-4.392811</td>\n",
       "      <td>-2.407986</td>\n",
       "      <td>-3.915887</td>\n",
       "      <td>-2.573653</td>\n",
       "      <td>-2.355929</td>\n",
       "      <td>-4.287451</td>\n",
       "      <td>-9.036028</td>\n",
       "    </tr>\n",
       "    <tr>\n",
       "      <th>106</th>\n",
       "      <td>5.406928</td>\n",
       "      <td>8.407291</td>\n",
       "      <td>8.451694</td>\n",
       "      <td>9.526350</td>\n",
       "      <td>7.619120</td>\n",
       "      <td>1.057154</td>\n",
       "      <td>3.743903</td>\n",
       "      <td>4.910194</td>\n",
       "      <td>-0.791487</td>\n",
       "      <td>-1.331609</td>\n",
       "      <td>...</td>\n",
       "      <td>-3.416471</td>\n",
       "      <td>-4.472523</td>\n",
       "      <td>-3.811125</td>\n",
       "      <td>-5.299202</td>\n",
       "      <td>-3.202061</td>\n",
       "      <td>-4.537062</td>\n",
       "      <td>-3.661593</td>\n",
       "      <td>-3.274820</td>\n",
       "      <td>-5.047887</td>\n",
       "      <td>-7.245112</td>\n",
       "    </tr>\n",
       "  </tbody>\n",
       "</table>\n",
       "<p>5 rows × 22 columns</p>\n",
       "</div>"
      ],
      "text/plain": [
       "       Na_clr    Mg_clr    Al_clr    Si_clr    Ca_clr    Sc_clr    Ti_clr  \\\n",
       "109  2.274170  7.953645  7.896628  8.882147  7.104743  1.171477  3.398866   \n",
       "25   3.155656  6.792351  7.728522  8.689833  6.902087  0.502686  1.954843   \n",
       "4    3.959154  7.582180  8.231887  9.187019  7.661038  0.638427  4.668046   \n",
       "93   5.281962  8.589268  8.500139  9.497085  7.285629  1.036535  4.364274   \n",
       "106  5.406928  8.407291  8.451694  9.526350  7.619120  1.057154  3.743903   \n",
       "\n",
       "       Mn_clr    Sr_clr     Y_clr  ...    Nd_clr    Eu_clr    Gd_clr  \\\n",
       "109  4.518214 -1.471593 -0.567965  ... -3.156668 -3.963144 -2.607309   \n",
       "25   4.577170 -5.220288  0.864700  ... -3.170494 -3.619187 -1.753894   \n",
       "4    4.501715 -3.854135  0.369409  ... -3.959495 -4.451972 -3.482571   \n",
       "93   4.954873 -3.257831 -0.512393  ... -3.849196 -4.064307 -3.006517   \n",
       "106  4.910194 -0.791487 -1.331609  ... -3.416471 -4.472523 -3.811125   \n",
       "\n",
       "       Tb_clr    Dy_clr    Ho_clr    Er_clr    Yb_clr    Lu_clr    Ta_clr  \n",
       "109 -4.137498 -2.699018 -3.375358 -2.591964 -2.781417 -4.656291 -8.127328  \n",
       "25  -3.162831 -1.095871 -2.443317 -1.272989 -0.971561 -2.770170 -9.189917  \n",
       "4   -4.077278 -1.725903 -2.958047 -1.790441 -1.693689 -3.630991 -7.543014  \n",
       "93  -4.392811 -2.407986 -3.915887 -2.573653 -2.355929 -4.287451 -9.036028  \n",
       "106 -5.299202 -3.202061 -4.537062 -3.661593 -3.274820 -5.047887 -7.245112  \n",
       "\n",
       "[5 rows x 22 columns]"
      ]
     },
     "execution_count": 107,
     "metadata": {},
     "output_type": "execute_result"
    }
   ],
   "source": [
    "X_val3.head(5)"
   ]
  },
  {
   "cell_type": "markdown",
   "metadata": {},
   "source": [
    "# Building and Training the Neural Network with Re-Split Data"
   ]
  },
  {
   "cell_type": "code",
   "execution_count": 108,
   "metadata": {
    "scrolled": true
   },
   "outputs": [
    {
     "name": "stdout",
     "output_type": "stream",
     "text": [
      "VIANN version 1.0 (Wellford + Mean) update per epoch\n",
      "Epoch 1/200\n",
      "1/1 [==============================] - 1s 980ms/step - loss: 0.2846 - accuracy: 1.0000 - val_loss: 3.7421 - val_accuracy: 0.4828\n",
      "Epoch 2/200\n",
      "1/1 [==============================] - 0s 43ms/step - loss: 2.3019 - accuracy: 0.6207 - val_loss: 1.2580 - val_accuracy: 0.7241\n",
      "Epoch 3/200\n",
      "1/1 [==============================] - 0s 44ms/step - loss: 0.5805 - accuracy: 0.8103 - val_loss: 1.0530 - val_accuracy: 0.5862\n",
      "Epoch 4/200\n",
      "1/1 [==============================] - 0s 42ms/step - loss: 1.0139 - accuracy: 0.6724 - val_loss: 1.1020 - val_accuracy: 0.5862\n",
      "Epoch 5/200\n",
      "1/1 [==============================] - 0s 42ms/step - loss: 1.1162 - accuracy: 0.6379 - val_loss: 0.6464 - val_accuracy: 0.8276\n",
      "Epoch 6/200\n",
      "1/1 [==============================] - 0s 45ms/step - loss: 0.6086 - accuracy: 0.7759 - val_loss: 0.5428 - val_accuracy: 0.9310\n",
      "Epoch 7/200\n",
      "1/1 [==============================] - 0s 42ms/step - loss: 0.3325 - accuracy: 1.0000 - val_loss: 0.8879 - val_accuracy: 0.7241\n",
      "Epoch 8/200\n",
      "1/1 [==============================] - 0s 43ms/step - loss: 0.5197 - accuracy: 0.8621 - val_loss: 1.0295 - val_accuracy: 0.5862\n",
      "Epoch 9/200\n",
      "1/1 [==============================] - 0s 42ms/step - loss: 0.6310 - accuracy: 0.7759 - val_loss: 1.0321 - val_accuracy: 0.5862\n",
      "Epoch 10/200\n",
      "1/1 [==============================] - 0s 42ms/step - loss: 0.6467 - accuracy: 0.7586 - val_loss: 0.9586 - val_accuracy: 0.5862\n",
      "Epoch 11/200\n",
      "1/1 [==============================] - 0s 43ms/step - loss: 0.6031 - accuracy: 0.7759 - val_loss: 0.8588 - val_accuracy: 0.6897\n",
      "Epoch 12/200\n",
      "1/1 [==============================] - 0s 42ms/step - loss: 0.5651 - accuracy: 0.8276 - val_loss: 0.7758 - val_accuracy: 0.7241\n",
      "Epoch 13/200\n",
      "1/1 [==============================] - 0s 41ms/step - loss: 0.5100 - accuracy: 0.9138 - val_loss: 0.7009 - val_accuracy: 0.7241\n",
      "Epoch 14/200\n",
      "1/1 [==============================] - 0s 43ms/step - loss: 0.4708 - accuracy: 0.9483 - val_loss: 0.6171 - val_accuracy: 0.9310\n",
      "Epoch 15/200\n",
      "1/1 [==============================] - 0s 43ms/step - loss: 0.4595 - accuracy: 1.0000 - val_loss: 0.6075 - val_accuracy: 0.8966\n",
      "Epoch 16/200\n",
      "1/1 [==============================] - 0s 43ms/step - loss: 0.4869 - accuracy: 0.9655 - val_loss: 0.6165 - val_accuracy: 0.8966\n",
      "Epoch 17/200\n",
      "1/1 [==============================] - 0s 45ms/step - loss: 0.4963 - accuracy: 0.9483 - val_loss: 0.6090 - val_accuracy: 0.8966\n",
      "Epoch 18/200\n",
      "1/1 [==============================] - 0s 42ms/step - loss: 0.4791 - accuracy: 0.9483 - val_loss: 0.5892 - val_accuracy: 0.8966\n",
      "Epoch 19/200\n",
      "1/1 [==============================] - 0s 42ms/step - loss: 0.4677 - accuracy: 0.9483 - val_loss: 0.5760 - val_accuracy: 0.9310\n",
      "Epoch 20/200\n",
      "1/1 [==============================] - 0s 42ms/step - loss: 0.4391 - accuracy: 0.9828 - val_loss: 0.6039 - val_accuracy: 0.9310\n",
      "Epoch 21/200\n",
      "1/1 [==============================] - 0s 43ms/step - loss: 0.4106 - accuracy: 1.0000 - val_loss: 0.6562 - val_accuracy: 0.7241\n",
      "Epoch 22/200\n",
      "1/1 [==============================] - 0s 43ms/step - loss: 0.4106 - accuracy: 0.9655 - val_loss: 0.6977 - val_accuracy: 0.7241\n",
      "Epoch 23/200\n",
      "1/1 [==============================] - 0s 41ms/step - loss: 0.3987 - accuracy: 0.9828 - val_loss: 0.6869 - val_accuracy: 0.7241\n",
      "Epoch 24/200\n",
      "1/1 [==============================] - 0s 42ms/step - loss: 0.3852 - accuracy: 0.9655 - val_loss: 0.6244 - val_accuracy: 0.7241\n",
      "Epoch 25/200\n",
      "1/1 [==============================] - 0s 42ms/step - loss: 0.3724 - accuracy: 0.9483 - val_loss: 0.5579 - val_accuracy: 0.9310\n",
      "Epoch 26/200\n",
      "1/1 [==============================] - 0s 44ms/step - loss: 0.3364 - accuracy: 1.0000 - val_loss: 0.5390 - val_accuracy: 0.9310\n",
      "Epoch 27/200\n",
      "1/1 [==============================] - 0s 42ms/step - loss: 0.3544 - accuracy: 0.9828 - val_loss: 0.5402 - val_accuracy: 0.9310\n",
      "Epoch 28/200\n",
      "1/1 [==============================] - 0s 41ms/step - loss: 0.3361 - accuracy: 0.9828 - val_loss: 0.5451 - val_accuracy: 0.9310\n",
      "Epoch 29/200\n",
      "1/1 [==============================] - 0s 43ms/step - loss: 0.3086 - accuracy: 1.0000 - val_loss: 0.5855 - val_accuracy: 0.8621\n",
      "Epoch 30/200\n",
      "1/1 [==============================] - 0s 43ms/step - loss: 0.2996 - accuracy: 1.0000 - val_loss: 0.6425 - val_accuracy: 0.7586\n",
      "Epoch 31/200\n",
      "1/1 [==============================] - 0s 41ms/step - loss: 0.3359 - accuracy: 0.9828 - val_loss: 0.6351 - val_accuracy: 0.8276\n",
      "Epoch 32/200\n",
      "1/1 [==============================] - 0s 43ms/step - loss: 0.3121 - accuracy: 1.0000 - val_loss: 0.5831 - val_accuracy: 0.8966\n",
      "Epoch 33/200\n",
      "1/1 [==============================] - 0s 43ms/step - loss: 0.3189 - accuracy: 0.9828 - val_loss: 0.5514 - val_accuracy: 0.9310\n",
      "Epoch 34/200\n",
      "1/1 [==============================] - 0s 42ms/step - loss: 0.3059 - accuracy: 0.9828 - val_loss: 0.5482 - val_accuracy: 0.9310\n",
      "Epoch 35/200\n",
      "1/1 [==============================] - 0s 42ms/step - loss: 0.2978 - accuracy: 1.0000 - val_loss: 0.5556 - val_accuracy: 0.9310\n",
      "Epoch 36/200\n",
      "1/1 [==============================] - 0s 42ms/step - loss: 0.2909 - accuracy: 1.0000 - val_loss: 0.5821 - val_accuracy: 0.9310\n",
      "Epoch 37/200\n",
      "1/1 [==============================] - 0s 44ms/step - loss: 0.3073 - accuracy: 0.9828 - val_loss: 0.6101 - val_accuracy: 0.8621\n",
      "Epoch 38/200\n",
      "1/1 [==============================] - 0s 43ms/step - loss: 0.2973 - accuracy: 1.0000 - val_loss: 0.6309 - val_accuracy: 0.8276\n",
      "Epoch 39/200\n",
      "1/1 [==============================] - 0s 45ms/step - loss: 0.2882 - accuracy: 1.0000 - val_loss: 0.6172 - val_accuracy: 0.8276\n",
      "Epoch 40/200\n",
      "1/1 [==============================] - 0s 43ms/step - loss: 0.3007 - accuracy: 1.0000 - val_loss: 0.5890 - val_accuracy: 0.9310\n",
      "Epoch 41/200\n",
      "1/1 [==============================] - 0s 43ms/step - loss: 0.2989 - accuracy: 0.9828 - val_loss: 0.5672 - val_accuracy: 0.9310\n",
      "Epoch 42/200\n",
      "1/1 [==============================] - 0s 43ms/step - loss: 0.3064 - accuracy: 1.0000 - val_loss: 0.5708 - val_accuracy: 0.9310\n",
      "Epoch 43/200\n",
      "1/1 [==============================] - 0s 42ms/step - loss: 0.2843 - accuracy: 1.0000 - val_loss: 0.5820 - val_accuracy: 0.9310\n",
      "Epoch 44/200\n",
      "1/1 [==============================] - 0s 42ms/step - loss: 0.2904 - accuracy: 1.0000 - val_loss: 0.6085 - val_accuracy: 0.8621\n",
      "Epoch 45/200\n",
      "1/1 [==============================] - 0s 41ms/step - loss: 0.2829 - accuracy: 1.0000 - val_loss: 0.6079 - val_accuracy: 0.8621\n",
      "Epoch 46/200\n",
      "1/1 [==============================] - 0s 42ms/step - loss: 0.2861 - accuracy: 1.0000 - val_loss: 0.5736 - val_accuracy: 0.9310\n",
      "Epoch 47/200\n",
      "1/1 [==============================] - 0s 41ms/step - loss: 0.2876 - accuracy: 1.0000 - val_loss: 0.5523 - val_accuracy: 0.9310\n",
      "Epoch 48/200\n",
      "1/1 [==============================] - 0s 42ms/step - loss: 0.3003 - accuracy: 0.9828 - val_loss: 0.5586 - val_accuracy: 0.9310\n",
      "Epoch 49/200\n",
      "1/1 [==============================] - 0s 42ms/step - loss: 0.2853 - accuracy: 1.0000 - val_loss: 0.5638 - val_accuracy: 0.9310\n",
      "Epoch 50/200\n",
      "1/1 [==============================] - 0s 42ms/step - loss: 0.2783 - accuracy: 1.0000 - val_loss: 0.5687 - val_accuracy: 0.9310\n",
      "Epoch 51/200\n",
      "1/1 [==============================] - 0s 43ms/step - loss: 0.2830 - accuracy: 1.0000 - val_loss: 0.5598 - val_accuracy: 0.9310\n",
      "Epoch 52/200\n",
      "1/1 [==============================] - 0s 42ms/step - loss: 0.2782 - accuracy: 1.0000 - val_loss: 0.5460 - val_accuracy: 0.9310\n",
      "Epoch 53/200\n",
      "1/1 [==============================] - 0s 42ms/step - loss: 0.2763 - accuracy: 1.0000 - val_loss: 0.5323 - val_accuracy: 0.9310\n",
      "Epoch 54/200\n",
      "1/1 [==============================] - 0s 42ms/step - loss: 0.2840 - accuracy: 1.0000 - val_loss: 0.5311 - val_accuracy: 0.9310\n",
      "Epoch 55/200\n",
      "1/1 [==============================] - 0s 42ms/step - loss: 0.2827 - accuracy: 1.0000 - val_loss: 0.5320 - val_accuracy: 0.9310\n",
      "Epoch 56/200\n",
      "1/1 [==============================] - 0s 41ms/step - loss: 0.2801 - accuracy: 1.0000 - val_loss: 0.5404 - val_accuracy: 0.9310\n",
      "Epoch 57/200\n",
      "1/1 [==============================] - 0s 43ms/step - loss: 0.2773 - accuracy: 1.0000 - val_loss: 0.5473 - val_accuracy: 0.9310\n",
      "Epoch 58/200\n",
      "1/1 [==============================] - 0s 43ms/step - loss: 0.2797 - accuracy: 1.0000 - val_loss: 0.5560 - val_accuracy: 0.9310\n"
     ]
    },
    {
     "name": "stdout",
     "output_type": "stream",
     "text": [
      "Epoch 59/200\n",
      "1/1 [==============================] - 0s 41ms/step - loss: 0.2999 - accuracy: 1.0000 - val_loss: 0.5377 - val_accuracy: 0.9310\n",
      "Epoch 60/200\n",
      "1/1 [==============================] - 0s 44ms/step - loss: 0.2737 - accuracy: 1.0000 - val_loss: 0.5285 - val_accuracy: 0.9310\n",
      "Epoch 61/200\n",
      "1/1 [==============================] - 0s 42ms/step - loss: 0.2697 - accuracy: 1.0000 - val_loss: 0.5206 - val_accuracy: 0.9310\n",
      "Epoch 62/200\n",
      "1/1 [==============================] - 0s 41ms/step - loss: 0.2707 - accuracy: 1.0000 - val_loss: 0.5223 - val_accuracy: 0.9310\n",
      "Epoch 63/200\n",
      "1/1 [==============================] - 0s 43ms/step - loss: 0.2729 - accuracy: 1.0000 - val_loss: 0.5276 - val_accuracy: 0.9310\n",
      "Epoch 64/200\n",
      "1/1 [==============================] - 0s 42ms/step - loss: 0.2825 - accuracy: 1.0000 - val_loss: 0.5231 - val_accuracy: 0.9310\n",
      "Epoch 65/200\n",
      "1/1 [==============================] - 0s 42ms/step - loss: 0.2785 - accuracy: 1.0000 - val_loss: 0.5274 - val_accuracy: 0.9310\n",
      "Epoch 66/200\n",
      "1/1 [==============================] - 0s 42ms/step - loss: 0.2693 - accuracy: 1.0000 - val_loss: 0.5376 - val_accuracy: 0.9310\n",
      "Epoch 67/200\n",
      "1/1 [==============================] - 0s 43ms/step - loss: 0.2857 - accuracy: 1.0000 - val_loss: 0.5318 - val_accuracy: 0.9310\n",
      "Epoch 68/200\n",
      "1/1 [==============================] - 0s 41ms/step - loss: 0.2749 - accuracy: 1.0000 - val_loss: 0.5304 - val_accuracy: 0.9310\n",
      "Epoch 69/200\n",
      "1/1 [==============================] - 0s 43ms/step - loss: 0.2740 - accuracy: 1.0000 - val_loss: 0.5212 - val_accuracy: 0.9310\n",
      "Epoch 70/200\n",
      "1/1 [==============================] - 0s 44ms/step - loss: 0.2644 - accuracy: 1.0000 - val_loss: 0.5222 - val_accuracy: 0.9310\n",
      "Epoch 71/200\n",
      "1/1 [==============================] - 0s 42ms/step - loss: 0.2843 - accuracy: 1.0000 - val_loss: 0.5388 - val_accuracy: 0.9310\n",
      "Epoch 72/200\n",
      "1/1 [==============================] - 0s 43ms/step - loss: 0.2796 - accuracy: 1.0000 - val_loss: 0.5469 - val_accuracy: 0.9310\n",
      "Epoch 73/200\n",
      "1/1 [==============================] - 0s 42ms/step - loss: 0.2775 - accuracy: 1.0000 - val_loss: 0.5205 - val_accuracy: 0.9310\n",
      "Epoch 74/200\n",
      "1/1 [==============================] - 0s 44ms/step - loss: 0.2678 - accuracy: 1.0000 - val_loss: 0.5131 - val_accuracy: 0.9310\n",
      "Epoch 75/200\n",
      "1/1 [==============================] - 0s 44ms/step - loss: 0.2869 - accuracy: 0.9828 - val_loss: 0.5147 - val_accuracy: 0.9310\n",
      "Epoch 76/200\n",
      "1/1 [==============================] - 0s 42ms/step - loss: 0.2710 - accuracy: 1.0000 - val_loss: 0.5342 - val_accuracy: 0.9310\n",
      "Epoch 77/200\n",
      "1/1 [==============================] - 0s 42ms/step - loss: 0.2899 - accuracy: 0.9828 - val_loss: 0.5196 - val_accuracy: 0.9310\n",
      "Epoch 78/200\n",
      "1/1 [==============================] - 0s 42ms/step - loss: 0.2647 - accuracy: 1.0000 - val_loss: 0.5208 - val_accuracy: 0.9310\n",
      "Epoch 79/200\n",
      "1/1 [==============================] - 0s 42ms/step - loss: 0.2652 - accuracy: 1.0000 - val_loss: 0.5144 - val_accuracy: 0.9310\n",
      "Epoch 80/200\n",
      "1/1 [==============================] - 0s 42ms/step - loss: 0.2738 - accuracy: 1.0000 - val_loss: 0.5078 - val_accuracy: 0.9310\n",
      "Epoch 81/200\n",
      "1/1 [==============================] - 0s 42ms/step - loss: 0.2664 - accuracy: 1.0000 - val_loss: 0.5096 - val_accuracy: 0.9310\n",
      "Epoch 82/200\n",
      "1/1 [==============================] - 0s 42ms/step - loss: 0.2704 - accuracy: 1.0000 - val_loss: 0.5217 - val_accuracy: 0.9310\n",
      "Epoch 83/200\n",
      "1/1 [==============================] - 0s 43ms/step - loss: 0.2661 - accuracy: 1.0000 - val_loss: 0.5344 - val_accuracy: 0.9310\n",
      "Epoch 84/200\n",
      "1/1 [==============================] - 0s 42ms/step - loss: 0.2885 - accuracy: 0.9828 - val_loss: 0.5136 - val_accuracy: 0.9310\n",
      "Epoch 85/200\n",
      "1/1 [==============================] - 0s 44ms/step - loss: 0.2671 - accuracy: 1.0000 - val_loss: 0.5053 - val_accuracy: 0.9310\n",
      "Epoch 86/200\n",
      "1/1 [==============================] - 0s 43ms/step - loss: 0.2683 - accuracy: 1.0000 - val_loss: 0.5139 - val_accuracy: 0.9310\n",
      "Epoch 87/200\n",
      "1/1 [==============================] - 0s 41ms/step - loss: 0.2763 - accuracy: 1.0000 - val_loss: 0.5430 - val_accuracy: 0.9310\n",
      "Epoch 88/200\n",
      "1/1 [==============================] - 0s 43ms/step - loss: 0.2708 - accuracy: 1.0000 - val_loss: 0.5552 - val_accuracy: 0.8621\n",
      "Epoch 89/200\n",
      "1/1 [==============================] - 0s 42ms/step - loss: 0.2689 - accuracy: 1.0000 - val_loss: 0.5553 - val_accuracy: 0.8621\n",
      "Epoch 90/200\n",
      "1/1 [==============================] - 0s 45ms/step - loss: 0.2646 - accuracy: 1.0000 - val_loss: 0.5191 - val_accuracy: 0.9310\n",
      "Epoch 91/200\n",
      "1/1 [==============================] - 0s 41ms/step - loss: 0.2710 - accuracy: 1.0000 - val_loss: 0.5047 - val_accuracy: 0.9310\n",
      "Epoch 92/200\n",
      "1/1 [==============================] - 0s 45ms/step - loss: 0.2726 - accuracy: 1.0000 - val_loss: 0.5125 - val_accuracy: 0.9310\n",
      "Epoch 93/200\n",
      "1/1 [==============================] - 0s 43ms/step - loss: 0.2660 - accuracy: 1.0000 - val_loss: 0.5393 - val_accuracy: 0.9310\n",
      "Epoch 94/200\n",
      "1/1 [==============================] - 0s 45ms/step - loss: 0.2648 - accuracy: 1.0000 - val_loss: 0.5643 - val_accuracy: 0.8621\n",
      "Epoch 95/200\n",
      "1/1 [==============================] - 0s 41ms/step - loss: 0.2814 - accuracy: 1.0000 - val_loss: 0.5606 - val_accuracy: 0.8621\n",
      "Epoch 96/200\n",
      "1/1 [==============================] - 0s 43ms/step - loss: 0.2605 - accuracy: 1.0000 - val_loss: 0.5235 - val_accuracy: 0.9310\n",
      "Epoch 97/200\n",
      "1/1 [==============================] - 0s 45ms/step - loss: 0.2594 - accuracy: 1.0000 - val_loss: 0.5165 - val_accuracy: 0.9310\n",
      "Epoch 98/200\n",
      "1/1 [==============================] - 0s 40ms/step - loss: 0.2686 - accuracy: 0.9828 - val_loss: 0.5375 - val_accuracy: 0.9310\n",
      "Epoch 99/200\n",
      "1/1 [==============================] - 0s 42ms/step - loss: 0.2629 - accuracy: 1.0000 - val_loss: 0.5707 - val_accuracy: 0.8276\n",
      "Epoch 100/200\n",
      "1/1 [==============================] - 0s 41ms/step - loss: 0.2641 - accuracy: 1.0000 - val_loss: 0.5856 - val_accuracy: 0.8276\n",
      "Epoch 101/200\n",
      "1/1 [==============================] - 0s 43ms/step - loss: 0.2808 - accuracy: 0.9828 - val_loss: 0.5302 - val_accuracy: 0.9310\n",
      "Epoch 102/200\n",
      "1/1 [==============================] - 0s 43ms/step - loss: 0.2645 - accuracy: 1.0000 - val_loss: 0.5151 - val_accuracy: 0.9310\n",
      "Epoch 103/200\n",
      "1/1 [==============================] - 0s 42ms/step - loss: 0.2742 - accuracy: 1.0000 - val_loss: 0.5266 - val_accuracy: 0.9310\n",
      "Epoch 104/200\n",
      "1/1 [==============================] - 0s 43ms/step - loss: 0.2543 - accuracy: 1.0000 - val_loss: 0.5497 - val_accuracy: 0.9310\n",
      "Epoch 105/200\n",
      "1/1 [==============================] - 0s 42ms/step - loss: 0.2625 - accuracy: 1.0000 - val_loss: 0.5470 - val_accuracy: 0.9310\n",
      "Epoch 106/200\n",
      "1/1 [==============================] - 0s 41ms/step - loss: 0.2611 - accuracy: 1.0000 - val_loss: 0.5361 - val_accuracy: 0.9310\n",
      "Epoch 107/200\n",
      "1/1 [==============================] - 0s 42ms/step - loss: 0.2660 - accuracy: 1.0000 - val_loss: 0.5255 - val_accuracy: 0.9310\n",
      "Epoch 108/200\n",
      "1/1 [==============================] - 0s 43ms/step - loss: 0.2557 - accuracy: 1.0000 - val_loss: 0.5287 - val_accuracy: 0.9310\n",
      "Epoch 109/200\n",
      "1/1 [==============================] - 0s 41ms/step - loss: 0.2711 - accuracy: 1.0000 - val_loss: 0.5336 - val_accuracy: 0.9310\n",
      "Epoch 110/200\n",
      "1/1 [==============================] - 0s 43ms/step - loss: 0.2657 - accuracy: 1.0000 - val_loss: 0.5721 - val_accuracy: 0.8966\n",
      "Epoch 111/200\n",
      "1/1 [==============================] - 0s 42ms/step - loss: 0.2607 - accuracy: 1.0000 - val_loss: 0.5931 - val_accuracy: 0.8276\n",
      "Epoch 112/200\n",
      "1/1 [==============================] - 0s 42ms/step - loss: 0.2683 - accuracy: 1.0000 - val_loss: 0.5795 - val_accuracy: 0.8276\n",
      "Epoch 113/200\n",
      "1/1 [==============================] - 0s 43ms/step - loss: 0.2656 - accuracy: 1.0000 - val_loss: 0.5387 - val_accuracy: 0.9310\n",
      "Epoch 114/200\n",
      "1/1 [==============================] - 0s 42ms/step - loss: 0.2607 - accuracy: 1.0000 - val_loss: 0.5320 - val_accuracy: 0.9310\n",
      "Epoch 115/200\n",
      "1/1 [==============================] - 0s 42ms/step - loss: 0.2644 - accuracy: 1.0000 - val_loss: 0.5325 - val_accuracy: 0.9310\n",
      "Epoch 116/200\n",
      "1/1 [==============================] - 0s 42ms/step - loss: 0.2626 - accuracy: 1.0000 - val_loss: 0.5316 - val_accuracy: 0.9310\n"
     ]
    },
    {
     "name": "stdout",
     "output_type": "stream",
     "text": [
      "Epoch 117/200\n",
      "1/1 [==============================] - 0s 43ms/step - loss: 0.2601 - accuracy: 1.0000 - val_loss: 0.5375 - val_accuracy: 0.9310\n",
      "Epoch 118/200\n",
      "1/1 [==============================] - 0s 42ms/step - loss: 0.2580 - accuracy: 1.0000 - val_loss: 0.5554 - val_accuracy: 0.9310\n",
      "Epoch 119/200\n",
      "1/1 [==============================] - 0s 43ms/step - loss: 0.2683 - accuracy: 1.0000 - val_loss: 0.5434 - val_accuracy: 0.9310\n",
      "Epoch 120/200\n",
      "1/1 [==============================] - 0s 42ms/step - loss: 0.2690 - accuracy: 1.0000 - val_loss: 0.5076 - val_accuracy: 0.9310\n",
      "Epoch 121/200\n",
      "1/1 [==============================] - 0s 41ms/step - loss: 0.2594 - accuracy: 1.0000 - val_loss: 0.4972 - val_accuracy: 0.9310\n",
      "Epoch 122/200\n",
      "1/1 [==============================] - 0s 44ms/step - loss: 0.2643 - accuracy: 1.0000 - val_loss: 0.5042 - val_accuracy: 0.9310\n",
      "Epoch 123/200\n",
      "1/1 [==============================] - 0s 42ms/step - loss: 0.2556 - accuracy: 1.0000 - val_loss: 0.5382 - val_accuracy: 0.9310\n",
      "Epoch 124/200\n",
      "1/1 [==============================] - 0s 42ms/step - loss: 0.2625 - accuracy: 1.0000 - val_loss: 0.5470 - val_accuracy: 0.9310\n",
      "Epoch 125/200\n",
      "1/1 [==============================] - 0s 43ms/step - loss: 0.2601 - accuracy: 1.0000 - val_loss: 0.5309 - val_accuracy: 0.9310\n",
      "Epoch 126/200\n",
      "1/1 [==============================] - 0s 42ms/step - loss: 0.2694 - accuracy: 1.0000 - val_loss: 0.5124 - val_accuracy: 0.9310\n",
      "Epoch 127/200\n",
      "1/1 [==============================] - 0s 42ms/step - loss: 0.2607 - accuracy: 1.0000 - val_loss: 0.5101 - val_accuracy: 0.9310\n",
      "Epoch 128/200\n",
      "1/1 [==============================] - 0s 43ms/step - loss: 0.2595 - accuracy: 1.0000 - val_loss: 0.5100 - val_accuracy: 0.9310\n",
      "Epoch 129/200\n",
      "1/1 [==============================] - 0s 43ms/step - loss: 0.2581 - accuracy: 1.0000 - val_loss: 0.5188 - val_accuracy: 0.9310\n",
      "Epoch 130/200\n",
      "1/1 [==============================] - 0s 41ms/step - loss: 0.2681 - accuracy: 1.0000 - val_loss: 0.5366 - val_accuracy: 0.9310\n",
      "Epoch 131/200\n",
      "1/1 [==============================] - 0s 42ms/step - loss: 0.2585 - accuracy: 1.0000 - val_loss: 0.5730 - val_accuracy: 0.8276\n",
      "Epoch 132/200\n",
      "1/1 [==============================] - 0s 41ms/step - loss: 0.2607 - accuracy: 1.0000 - val_loss: 0.5495 - val_accuracy: 0.9310\n",
      "Epoch 133/200\n",
      "1/1 [==============================] - 0s 41ms/step - loss: 0.2644 - accuracy: 1.0000 - val_loss: 0.5109 - val_accuracy: 0.9310\n",
      "Epoch 134/200\n",
      "1/1 [==============================] - 0s 43ms/step - loss: 0.2772 - accuracy: 0.9828 - val_loss: 0.5180 - val_accuracy: 0.9310\n",
      "Epoch 135/200\n",
      "1/1 [==============================] - 0s 43ms/step - loss: 0.2588 - accuracy: 1.0000 - val_loss: 0.5469 - val_accuracy: 0.9310\n",
      "Epoch 136/200\n",
      "1/1 [==============================] - 0s 41ms/step - loss: 0.2600 - accuracy: 1.0000 - val_loss: 0.5575 - val_accuracy: 0.9310\n",
      "Epoch 137/200\n",
      "1/1 [==============================] - 0s 42ms/step - loss: 0.2551 - accuracy: 1.0000 - val_loss: 0.5502 - val_accuracy: 0.9310\n",
      "Epoch 138/200\n",
      "1/1 [==============================] - 0s 42ms/step - loss: 0.2619 - accuracy: 1.0000 - val_loss: 0.5566 - val_accuracy: 0.9310\n",
      "Epoch 139/200\n",
      "1/1 [==============================] - 0s 44ms/step - loss: 0.2704 - accuracy: 1.0000 - val_loss: 0.5277 - val_accuracy: 0.9310\n",
      "Epoch 140/200\n",
      "1/1 [==============================] - 0s 42ms/step - loss: 0.2583 - accuracy: 1.0000 - val_loss: 0.5119 - val_accuracy: 0.9310\n",
      "Epoch 141/200\n",
      "1/1 [==============================] - 0s 42ms/step - loss: 0.2608 - accuracy: 1.0000 - val_loss: 0.5021 - val_accuracy: 0.9310\n",
      "Epoch 142/200\n",
      "1/1 [==============================] - 0s 42ms/step - loss: 0.2734 - accuracy: 0.9828 - val_loss: 0.5188 - val_accuracy: 0.9310\n",
      "Epoch 143/200\n",
      "1/1 [==============================] - 0s 43ms/step - loss: 0.2549 - accuracy: 1.0000 - val_loss: 0.5779 - val_accuracy: 0.8621\n",
      "Epoch 144/200\n",
      "1/1 [==============================] - 0s 42ms/step - loss: 0.2718 - accuracy: 1.0000 - val_loss: 0.5107 - val_accuracy: 0.9310\n",
      "Epoch 145/200\n",
      "1/1 [==============================] - 0s 41ms/step - loss: 0.2547 - accuracy: 1.0000 - val_loss: 0.4855 - val_accuracy: 0.9310\n",
      "Epoch 146/200\n",
      "1/1 [==============================] - 0s 44ms/step - loss: 0.2670 - accuracy: 1.0000 - val_loss: 0.4860 - val_accuracy: 0.9310\n",
      "Epoch 147/200\n",
      "1/1 [==============================] - 0s 42ms/step - loss: 0.2824 - accuracy: 1.0000 - val_loss: 0.5242 - val_accuracy: 0.9310\n",
      "Epoch 148/200\n",
      "1/1 [==============================] - 0s 42ms/step - loss: 0.2543 - accuracy: 1.0000 - val_loss: 0.5863 - val_accuracy: 0.8276\n",
      "Epoch 149/200\n",
      "1/1 [==============================] - 0s 44ms/step - loss: 0.2600 - accuracy: 1.0000 - val_loss: 0.5705 - val_accuracy: 0.8276\n",
      "Epoch 150/200\n",
      "1/1 [==============================] - 0s 42ms/step - loss: 0.2584 - accuracy: 1.0000 - val_loss: 0.5146 - val_accuracy: 0.9310\n",
      "Epoch 151/200\n",
      "1/1 [==============================] - 0s 42ms/step - loss: 0.2622 - accuracy: 1.0000 - val_loss: 0.5025 - val_accuracy: 0.9310\n",
      "Epoch 152/200\n",
      "1/1 [==============================] - 0s 42ms/step - loss: 0.2588 - accuracy: 1.0000 - val_loss: 0.5036 - val_accuracy: 0.9310\n",
      "Epoch 153/200\n",
      "1/1 [==============================] - 0s 42ms/step - loss: 0.2517 - accuracy: 1.0000 - val_loss: 0.5142 - val_accuracy: 0.9310\n",
      "Epoch 154/200\n",
      "1/1 [==============================] - 0s 42ms/step - loss: 0.2525 - accuracy: 1.0000 - val_loss: 0.5211 - val_accuracy: 0.9310\n",
      "Epoch 155/200\n",
      "1/1 [==============================] - 0s 44ms/step - loss: 0.2529 - accuracy: 1.0000 - val_loss: 0.5400 - val_accuracy: 0.8966\n",
      "Epoch 156/200\n",
      "1/1 [==============================] - 0s 42ms/step - loss: 0.2594 - accuracy: 1.0000 - val_loss: 0.5132 - val_accuracy: 0.9310\n",
      "Epoch 157/200\n",
      "1/1 [==============================] - 0s 41ms/step - loss: 0.2496 - accuracy: 1.0000 - val_loss: 0.5014 - val_accuracy: 0.9310\n",
      "Epoch 158/200\n",
      "1/1 [==============================] - 0s 43ms/step - loss: 0.2596 - accuracy: 1.0000 - val_loss: 0.5084 - val_accuracy: 0.9310\n",
      "Epoch 159/200\n",
      "1/1 [==============================] - 0s 42ms/step - loss: 0.2594 - accuracy: 1.0000 - val_loss: 0.5259 - val_accuracy: 0.9310\n",
      "Epoch 160/200\n",
      "1/1 [==============================] - 0s 41ms/step - loss: 0.2527 - accuracy: 1.0000 - val_loss: 0.5205 - val_accuracy: 0.9310\n",
      "Epoch 161/200\n",
      "1/1 [==============================] - 0s 42ms/step - loss: 0.2517 - accuracy: 1.0000 - val_loss: 0.5250 - val_accuracy: 0.9310\n",
      "Epoch 162/200\n",
      "1/1 [==============================] - 0s 42ms/step - loss: 0.2518 - accuracy: 1.0000 - val_loss: 0.5138 - val_accuracy: 0.9310\n",
      "Epoch 163/200\n",
      "1/1 [==============================] - 0s 42ms/step - loss: 0.2564 - accuracy: 1.0000 - val_loss: 0.5288 - val_accuracy: 0.9310\n",
      "Epoch 164/200\n",
      "1/1 [==============================] - 0s 42ms/step - loss: 0.2583 - accuracy: 1.0000 - val_loss: 0.5361 - val_accuracy: 0.9310\n",
      "Epoch 165/200\n",
      "1/1 [==============================] - 0s 43ms/step - loss: 0.2548 - accuracy: 1.0000 - val_loss: 0.5226 - val_accuracy: 0.9310\n",
      "Epoch 166/200\n",
      "1/1 [==============================] - 0s 41ms/step - loss: 0.2510 - accuracy: 1.0000 - val_loss: 0.5094 - val_accuracy: 0.9310\n",
      "Epoch 167/200\n",
      "1/1 [==============================] - 0s 43ms/step - loss: 0.2504 - accuracy: 1.0000 - val_loss: 0.5080 - val_accuracy: 0.9310\n",
      "Epoch 168/200\n",
      "1/1 [==============================] - 0s 42ms/step - loss: 0.2558 - accuracy: 1.0000 - val_loss: 0.5230 - val_accuracy: 0.9310\n",
      "Epoch 169/200\n",
      "1/1 [==============================] - 0s 45ms/step - loss: 0.2486 - accuracy: 1.0000 - val_loss: 0.5465 - val_accuracy: 0.8966\n",
      "Epoch 170/200\n",
      "1/1 [==============================] - 0s 41ms/step - loss: 0.2475 - accuracy: 1.0000 - val_loss: 0.5427 - val_accuracy: 0.8966\n",
      "Epoch 171/200\n",
      "1/1 [==============================] - 0s 43ms/step - loss: 0.2458 - accuracy: 1.0000 - val_loss: 0.5472 - val_accuracy: 0.8966\n",
      "Epoch 172/200\n",
      "1/1 [==============================] - 0s 42ms/step - loss: 0.2488 - accuracy: 1.0000 - val_loss: 0.5233 - val_accuracy: 0.9310\n",
      "Epoch 173/200\n",
      "1/1 [==============================] - 0s 41ms/step - loss: 0.2543 - accuracy: 1.0000 - val_loss: 0.5068 - val_accuracy: 0.9310\n",
      "Epoch 174/200\n",
      "1/1 [==============================] - 0s 43ms/step - loss: 0.2487 - accuracy: 1.0000 - val_loss: 0.5021 - val_accuracy: 0.9310\n"
     ]
    },
    {
     "name": "stdout",
     "output_type": "stream",
     "text": [
      "Epoch 175/200\n",
      "1/1 [==============================] - 0s 42ms/step - loss: 0.2503 - accuracy: 1.0000 - val_loss: 0.5217 - val_accuracy: 0.9310\n",
      "Epoch 176/200\n",
      "1/1 [==============================] - 0s 43ms/step - loss: 0.2486 - accuracy: 1.0000 - val_loss: 0.5788 - val_accuracy: 0.8621\n",
      "Epoch 177/200\n",
      "1/1 [==============================] - 0s 42ms/step - loss: 0.2718 - accuracy: 1.0000 - val_loss: 0.4941 - val_accuracy: 0.9310\n",
      "Epoch 178/200\n",
      "1/1 [==============================] - 0s 42ms/step - loss: 0.2514 - accuracy: 1.0000 - val_loss: 0.4823 - val_accuracy: 0.9310\n",
      "Epoch 179/200\n",
      "1/1 [==============================] - 0s 43ms/step - loss: 0.2943 - accuracy: 0.9655 - val_loss: 0.4934 - val_accuracy: 0.9310\n",
      "Epoch 180/200\n",
      "1/1 [==============================] - 0s 43ms/step - loss: 0.2478 - accuracy: 1.0000 - val_loss: 0.5874 - val_accuracy: 0.8621\n",
      "Epoch 181/200\n",
      "1/1 [==============================] - 0s 44ms/step - loss: 0.2690 - accuracy: 1.0000 - val_loss: 0.6158 - val_accuracy: 0.8621\n",
      "Epoch 182/200\n",
      "1/1 [==============================] - 0s 40ms/step - loss: 0.2640 - accuracy: 1.0000 - val_loss: 0.5064 - val_accuracy: 0.9310\n",
      "Epoch 183/200\n",
      "1/1 [==============================] - 0s 43ms/step - loss: 0.2471 - accuracy: 1.0000 - val_loss: 0.4873 - val_accuracy: 0.9310\n",
      "Epoch 184/200\n",
      "1/1 [==============================] - 0s 42ms/step - loss: 0.2693 - accuracy: 1.0000 - val_loss: 0.4874 - val_accuracy: 0.9310\n",
      "Epoch 185/200\n",
      "1/1 [==============================] - 0s 44ms/step - loss: 0.2606 - accuracy: 1.0000 - val_loss: 0.5474 - val_accuracy: 0.8966\n",
      "Epoch 186/200\n",
      "1/1 [==============================] - 0s 41ms/step - loss: 0.2552 - accuracy: 1.0000 - val_loss: 0.5974 - val_accuracy: 0.8621\n",
      "Epoch 187/200\n",
      "1/1 [==============================] - 0s 42ms/step - loss: 0.2557 - accuracy: 1.0000 - val_loss: 0.5480 - val_accuracy: 0.8966\n",
      "Epoch 188/200\n",
      "1/1 [==============================] - 0s 42ms/step - loss: 0.2497 - accuracy: 1.0000 - val_loss: 0.4938 - val_accuracy: 0.9310\n",
      "Epoch 189/200\n",
      "1/1 [==============================] - 0s 42ms/step - loss: 0.2529 - accuracy: 1.0000 - val_loss: 0.4875 - val_accuracy: 0.9310\n",
      "Epoch 190/200\n",
      "1/1 [==============================] - 0s 47ms/step - loss: 0.2540 - accuracy: 1.0000 - val_loss: 0.4989 - val_accuracy: 0.9310\n",
      "Epoch 191/200\n",
      "1/1 [==============================] - 0s 41ms/step - loss: 0.2519 - accuracy: 1.0000 - val_loss: 0.5064 - val_accuracy: 0.9310\n",
      "Epoch 192/200\n",
      "1/1 [==============================] - 0s 42ms/step - loss: 0.2567 - accuracy: 1.0000 - val_loss: 0.4991 - val_accuracy: 0.9310\n",
      "Epoch 193/200\n",
      "1/1 [==============================] - 0s 45ms/step - loss: 0.2546 - accuracy: 1.0000 - val_loss: 0.4974 - val_accuracy: 0.9310\n",
      "Epoch 194/200\n",
      "1/1 [==============================] - 0s 41ms/step - loss: 0.2458 - accuracy: 1.0000 - val_loss: 0.5136 - val_accuracy: 0.9310\n",
      "Epoch 195/200\n",
      "1/1 [==============================] - 0s 43ms/step - loss: 0.2548 - accuracy: 1.0000 - val_loss: 0.5093 - val_accuracy: 0.9310\n",
      "Epoch 196/200\n",
      "1/1 [==============================] - 0s 42ms/step - loss: 0.2540 - accuracy: 1.0000 - val_loss: 0.5233 - val_accuracy: 0.9310\n",
      "Epoch 197/200\n",
      "1/1 [==============================] - 0s 46ms/step - loss: 0.2510 - accuracy: 1.0000 - val_loss: 0.5397 - val_accuracy: 0.8966\n",
      "Epoch 198/200\n",
      "1/1 [==============================] - 0s 42ms/step - loss: 0.2548 - accuracy: 1.0000 - val_loss: 0.5065 - val_accuracy: 0.9310\n",
      "Epoch 199/200\n",
      "1/1 [==============================] - 0s 43ms/step - loss: 0.2611 - accuracy: 0.9828 - val_loss: 0.5172 - val_accuracy: 0.9310\n",
      "Epoch 200/200\n",
      "1/1 [==============================] - 0s 43ms/step - loss: 0.2458 - accuracy: 1.0000 - val_loss: 0.5520 - val_accuracy: 0.8276\n",
      "Most important variables:  [ 5  9  6  7  8 13 20 10  0 21]\n"
     ]
    }
   ],
   "source": [
    "VIANN = VarImpVIANN(verbose=1)\n",
    "model_3_EG.compile(optimizer='adam',\n",
    "              loss='binary_crossentropy',\n",
    "              metrics=['accuracy'])\n",
    "hist_5 = model_3_EG.fit(X_train3, y_traindm3,\n",
    "          batch_size=58, epochs=200,\n",
    "          validation_data=(X_val3, y_valdm3), callbacks=[VIANN])"
   ]
  },
  {
   "cell_type": "markdown",
   "metadata": {},
   "source": [
    "#### Visualize the loss and accuracy graphs for Split 3."
   ]
  },
  {
   "cell_type": "code",
   "execution_count": 109,
   "metadata": {
    "scrolled": true
   },
   "outputs": [
    {
     "data": {
      "image/png": "[encoded data removed]",
      "text/plain": [
       "<Figure size 460.8x316.8 with 1 Axes>"
      ]
     },
     "metadata": {
      "needs_background": "light"
     },
     "output_type": "display_data"
    }
   ],
   "source": [
    "plt.plot(hist_5.history['loss'])\n",
    "plt.plot(hist_5.history['val_loss'])\n",
    "plt.title('Model loss')\n",
    "plt.ylabel('Loss')\n",
    "plt.xlabel('Epoch')\n",
    "plt.legend(['Train', 'Val'], loc='upper right')\n",
    "plt.ylim(top=2, bottom=0)\n",
    "plt.show()"
   ]
  },
  {
   "cell_type": "code",
   "execution_count": 110,
   "metadata": {
    "scrolled": true
   },
   "outputs": [
    {
     "data": {
      "image/png": "[encoded data removed]",
      "text/plain": [
       "<Figure size 460.8x316.8 with 1 Axes>"
      ]
     },
     "metadata": {
      "needs_background": "light"
     },
     "output_type": "display_data"
    }
   ],
   "source": [
    "plt.plot(hist_5.history['accuracy'])\n",
    "plt.plot(hist_5.history['val_accuracy'])\n",
    "plt.title('Model accuracy')\n",
    "plt.ylabel('Accuracy')\n",
    "plt.xlabel('Epoch')\n",
    "plt.legend(['Train', 'Val'], loc='lower right')\n",
    "plt.show()"
   ]
  },
  {
   "cell_type": "markdown",
   "metadata": {},
   "source": [
    "**Test Accuracy**"
   ]
  },
  {
   "cell_type": "code",
   "execution_count": 111,
   "metadata": {
    "scrolled": true
   },
   "outputs": [
    {
     "name": "stdout",
     "output_type": "stream",
     "text": [
      "1/1 [==============================] - 0s 14ms/step - loss: 0.3368 - accuracy: 0.9310\n"
     ]
    },
    {
     "data": {
      "text/plain": [
       "0.931034505367279"
      ]
     },
     "execution_count": 111,
     "metadata": {},
     "output_type": "execute_result"
    }
   ],
   "source": [
    "model_3_EG.evaluate(X_test3, y_testdm3)[1]"
   ]
  },
  {
   "cell_type": "markdown",
   "metadata": {},
   "source": [
    "**Re-split model loss and accuracy are consistent with previous results.**"
   ]
  },
  {
   "cell_type": "markdown",
   "metadata": {},
   "source": [
    "## The End"
   ]
  }
 ],
 "metadata": {
  "celltoolbar": "Slideshow",
  "kernelspec": {
   "display_name": "Python 3",
   "language": "python",
   "name": "python3"
  },
  "language_info": {
   "codemirror_mode": {
    "name": "ipython",
    "version": 3
   },
   "file_extension": ".py",
   "mimetype": "text/x-python",
   "name": "python",
   "nbconvert_exporter": "python",
   "pygments_lexer": "ipython3",
   "version": "3.8.8"
  }
 },
 "nbformat": 4,
 "nbformat_minor": 2
}
